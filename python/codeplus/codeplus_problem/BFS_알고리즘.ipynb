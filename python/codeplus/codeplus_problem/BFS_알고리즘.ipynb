{
 "cells": [
  {
   "cell_type": "markdown",
   "id": "a9672565",
   "metadata": {},
   "source": [
    "## 0과 1\n",
    "https://www.acmicpc.net/problem/8111"
   ]
  },
  {
   "cell_type": "code",
   "execution_count": null,
   "id": "293005f0",
   "metadata": {},
   "outputs": [],
   "source": [
    "from collections import deque\n",
    "\n",
    "for _ in range(int(input())):\n",
    "    n = int(input())\n",
    "    via = [-1] * n\n",
    "    how = [-1] * n\n",
    "    dist = [-1] * n\n",
    "    q = deque()\n",
    "    q.append(1 % n)\n",
    "    dist[1%n] = 0\n",
    "    how[1%n] = 1\n",
    "\n",
    "    while q:\n",
    "        now = q.popleft()\n",
    "        for i in [0, 1]:\n",
    "            next = (now*10 + i) % n\n",
    "            if dist[next] == -1:\n",
    "                dist[next] = dist[now] + 1\n",
    "                via[next] = now\n",
    "                how[next] = i\n",
    "                q.append(next)\n",
    "    if dist[0] == -1:\n",
    "        print('BRAK')\n",
    "    else:\n",
    "        ans = ''\n",
    "        i = 0\n",
    "        while i != -1:\n",
    "            ans += str(how[i])\n",
    "            i = via[i]\n",
    "        print(ans[::-1])"
   ]
  },
  {
   "cell_type": "markdown",
   "id": "f4d5ab36",
   "metadata": {},
   "source": [
    "## 숨바꼭질 5\n",
    "https://www.acmicpc.net/problem/17071"
   ]
  },
  {
   "cell_type": "code",
   "execution_count": null,
   "id": "f79bdba9",
   "metadata": {},
   "outputs": [],
   "source": [
    "from collections import deque\n",
    "\n",
    "dist = [[-1]*2 for _ in range(500000+1)]\n",
    "n, k = map(int, input().split())\n",
    "q = deque([(n, 0)])\n",
    "dist[n][0] = 0\n",
    "\n",
    "while q:\n",
    "    x, t = q.popleft()\n",
    "    for y in [x+1, x-1, 2*x]:\n",
    "        if 0 <= y <= 500000:\n",
    "            if dist[y][1-t] == -1:\n",
    "                dist[y][1-t] = dist[x][t] + 1\n",
    "                q.append((y, 1-t))\n",
    "ans = -1\n",
    "t = 0\n",
    "while True:\n",
    "    k += t\n",
    "    if k > 500000:\n",
    "        break\n",
    "    if dist[k][t%2] <= t:\n",
    "        ans = t\n",
    "        break\n",
    "    t += 1\n",
    "\n",
    "print(ans)"
   ]
  },
  {
   "cell_type": "markdown",
   "id": "53d57980",
   "metadata": {},
   "source": [
    "## 배달\n",
    "https://www.acmicpc.net/problem/1175"
   ]
  },
  {
   "cell_type": "code",
   "execution_count": 18,
   "id": "f7773619",
   "metadata": {},
   "outputs": [
    {
     "data": {
      "text/plain": [
       "1"
      ]
     },
     "execution_count": 18,
     "metadata": {},
     "output_type": "execute_result"
    }
   ],
   "source": [
    "import sys\n",
    "from collections import deque\n",
    "input = sys.stdin.readline\n",
    "\n",
    "dx, dy = [0, 0, 1, -1], [1, -1, 0, 0]\n",
    "\n",
    "n, m = map(int, input().split())\n",
    "a = [input().strip() for _ in range(n)]\n",
    "d = [[[[-1] * 4 for _ in range(4)] for _ in range(m)] for _ in range(n)]\n",
    "\n",
    "ans = -1\n",
    "x1 = y1 = x2 = y2 = -1\n",
    "q = deque()\n",
    "for i in range(n):\n",
    "    for j in range(m):\n",
    "        if a[i][j] == 'S':\n",
    "            for k in range(4):\n",
    "                q.append((i, j, k, 0))\n",
    "                d[i][j][k][0] = 0\n",
    "        elif a[i][j] == 'C':\n",
    "            if x1 == -1:\n",
    "                x1, y1 = i, j\n",
    "            else:\n",
    "                x2, y2 = i ,j\n",
    "\n",
    "while q:\n",
    "    x, y, direction, s = q.popleft()\n",
    "    if s == 3:\n",
    "        ans = d[x][y][direction][s]\n",
    "        break\n",
    "    for k in range(4):\n",
    "        if direction == k:\n",
    "            continue\n",
    "        nx, ny = x+dx[k], y+dy[k]\n",
    "        if 0 <= nx < n and 0 <= ny < m:\n",
    "            if a[nx][ny] != '#':\n",
    "                ns = s\n",
    "                if a[nx][ny] == 'C':\n",
    "                    if nx == x1 and ny == y1:\n",
    "                        ns |= 1\n",
    "                    else:\n",
    "                        ns |= 2\n",
    "                if d[nx][ny][k][ns] == -1:\n",
    "                    d[nx][ny][k][ns] = d[x][y][direction][s] + 1\n",
    "                    q.append((nx, ny, k, ns))\n",
    "print(ans)"
   ]
  },
  {
   "cell_type": "markdown",
   "id": "17ea9003",
   "metadata": {},
   "source": [
    "## 체스판 여행 1\n",
    "https://www.acmicpc.net/problem/16959"
   ]
  },
  {
   "cell_type": "code",
   "execution_count": null,
   "id": "6a8b815c",
   "metadata": {},
   "outputs": [],
   "source": [
    "from collections import deque\n",
    "\n",
    "dx1 = [-2, -1, 1, 2, 2, 1, -1, -2]\n",
    "dy1 = [1, 2, 2, 1, -1, -2, -2, -1]\n",
    "dx2 = [0, 0, 1, -1]\n",
    "dy2 = [1, -1, 0, 0]\n",
    "dx3 = [1, 1, -1, -1]\n",
    "dy3 = [1, -1, 1, -1]\n",
    "n = int(input())\n",
    "a = [list(map(int, input().split())) for _ in range(n)]\n",
    "d = [[[[-1] * 3 for _ in range(n*n)] for _ in range(n)] for _ in range(n)]  \n",
    "q = deque()\n",
    "for i in range(n):\n",
    "    for j in range(n):\n",
    "        a[i][j] -= 1\n",
    "        if a[i][j] == 0:\n",
    "            for k in range(3):\n",
    "                d[i][j][0][k] = 0\n",
    "                q.append((i, j, 0, k))\n",
    "ans = -1\n",
    "while q:\n",
    "    x, y, num, piece = q.popleft()\n",
    "    if num == n*n - 1:\n",
    "        if ans == -1 or ans > d[x][y][num][piece]:\n",
    "            ans = d[x][y][num][piece]\n",
    "    for i in range(3):\n",
    "        if piece == i:\n",
    "            continue\n",
    "        if d[x][y][num][i] == -1:\n",
    "            d[x][y][num][i] = d[x][y][num][piece] + 1\n",
    "            q.append((x, y, num, i))\n",
    "    \n",
    "    if piece == 0:\n",
    "        for k in range(8):\n",
    "            nx, ny = x+dx1[k], y+dy1[k]\n",
    "            if 0 <= nx < n and 0 <= ny < n:\n",
    "                next_num = num\n",
    "                if a[nx][ny] == num+1:\n",
    "                    next_num = num+1\n",
    "                if d[nx][ny][next_num][piece] == -1:\n",
    "                    d[nx][ny][next_num][piece] = d[x][y][num][piece] + 1\n",
    "                    q.append((nx, ny, next_num,piece))\n",
    "    elif piece == 1:\n",
    "        for k in range(4):\n",
    "            l = 1\n",
    "            while True:\n",
    "                nx, ny = x+dx2[k]*l, y+dy2[k]*l\n",
    "                if 0 <= nx < n and 0 <= ny < n:\n",
    "                    next_num = num\n",
    "                    if a[nx][ny] == num+1:\n",
    "                        next_num = num+1\n",
    "                    if d[nx][ny][next_num][piece] == -1:\n",
    "                        d[nx][ny][next_num][piece] = d[x][y][num][piece] + 1\n",
    "                        q.append((nx, ny, next_num, piece))\n",
    "                else:\n",
    "                    break\n",
    "                l += 1\n",
    "    else:\n",
    "        for k in range(4):\n",
    "            l = 1\n",
    "            while True:\n",
    "                nx, ny = x+dx3[k]*l, y+dy3[k]*l\n",
    "                if 0 <= nx < n and 0 <= ny < n:\n",
    "                    next_num = num\n",
    "                    if a[nx][ny] == num+1:\n",
    "                        next_num = num+1\n",
    "                    if d[nx][ny][next_num][piece] == -1:\n",
    "                        d[nx][ny][next_num][piece] = d[x][y][num][piece] + 1\n",
    "                        q.append((nx, ny, next_num, piece))\n",
    "                else:\n",
    "                    break\n",
    "                l += 1\n",
    "print(ans)"
   ]
  },
  {
   "cell_type": "markdown",
   "id": "a2f74995",
   "metadata": {},
   "source": [
    "## 체스판 여행 2\n",
    "https://www.acmicpc.net/problem/16952"
   ]
  },
  {
   "cell_type": "markdown",
   "id": "c4ffe7c7",
   "metadata": {},
   "source": [
    "## 숨바꼭질 2\n",
    "https://www.acmicpc.net/problem/12851"
   ]
  },
  {
   "cell_type": "code",
   "execution_count": null,
   "id": "6091df76",
   "metadata": {},
   "outputs": [],
   "source": [
    "from collections import deque\n",
    "\n",
    "MAX = 100001\n",
    "n, k = map(int, input().split())\n",
    "\n",
    "dist = [-1] * MAX\n",
    "dist[n] = 0\n",
    "cnt = [0] * MAX\n",
    "cnt[n] = 1\n",
    "q = deque([n])\n",
    "\n",
    "while q:\n",
    "    now = q.popleft()\n",
    "    for nx in [now*2, now+1, now-1]:\n",
    "        if nx < 0 or nx >= MAX:\n",
    "            continue\n",
    "        if dist[nx] == -1:\n",
    "            q.append(nx)\n",
    "            dist[nx] = dist[now] + 1\n",
    "            cnt[nx] = cnt[now]\n",
    "        \n",
    "        elif dist[nx] == dist[now] + 1:\n",
    "            cnt[nx] += cnt[now]\n",
    "\n",
    "print(dist[k])\n",
    "print(cnt[k])"
   ]
  },
  {
   "cell_type": "markdown",
   "id": "0a0af061",
   "metadata": {},
   "source": [
    "## 열쇠\n",
    "https://www.acmicpc.net/problem/9328"
   ]
  },
  {
   "cell_type": "markdown",
   "id": "b0e18e40",
   "metadata": {},
   "source": [
    "## 확장 게임\n",
    "https://www.acmicpc.net/problem/16920"
   ]
  },
  {
   "cell_type": "code",
   "execution_count": 5,
   "id": "60388cf3",
   "metadata": {},
   "outputs": [
    {
     "data": {
      "text/plain": [
       "48"
      ]
     },
     "execution_count": 5,
     "metadata": {},
     "output_type": "execute_result"
    }
   ],
   "source": [
    "from collections import deque\n",
    "\n",
    "dx, dy = [0, 0, 1, -1], [1, -1, 0, 0]\n",
    "n, m, p = map(int, input().split())\n",
    "s = [0] + list(map(int, input().split()))\n",
    "a = [[0] * m for _ in range(n)]\n",
    "\n",
    "for i in range(n):\n",
    "    line = input()\n",
    "    for j in range(m):\n",
    "        if line[j] == '.':\n",
    "            a[i][j] = 0\n",
    "        elif line[j] == '#':\n",
    "            a[i][j] = -1\n",
    "        else:\n",
    "            a[i][j] = int(line[j])\n",
    "\n",
    "q = [deque() for _ in range(p+1)]\n",
    "next_q = [deque() for _ in range(p+1)]\n",
    "\n",
    "for i in range(n):\n",
    "    for j in range(m):\n",
    "        if a[i][j] > 0:\n",
    "            q[a[i][j]].append((i, j))\n",
    "\n",
    "while True:\n",
    "    ok = False\n",
    "    for who in range(1, p+1):\n",
    "        d = [[0] * m for _ in range(n)]\n",
    "        while q[who]:\n",
    "            ok = True\n",
    "            x, y = q[who].popleft()\n",
    "            if d[x][y] == s[who]:\n",
    "                next_q[who].append((x, y))\n",
    "            if a[x][y] > 0 and a[x][y] != who:\n",
    "                continue\n",
    "            a[x][y] = who\n",
    "            for k in range(4):\n",
    "                nx, ny = x+dx[k], y+dy[k]\n",
    "                if 0 <= nx < n and 0 <= ny < m:\n",
    "                    if a[nx][ny] == 0:\n",
    "                        d[nx][ny] = d[x][y] + 1\n",
    "                        if d[nx][ny] <= s[who]:\n",
    "                            a[nx][ny] = who\n",
    "                            q[who].append((nx, ny))\n",
    "        q[who] = next_q[who]\n",
    "        next_q[who] = deque()\n",
    "    if not ok:\n",
    "        break\n",
    "ans = [0] * (p+1)\n",
    "for i in range(n):\n",
    "    for j in range(m):\n",
    "        if a[i][j] > 0:\n",
    "            ans[a[i][j]] += 1\n",
    "print(' '.join(map(str, ans[1:])))"
   ]
  }
 ],
 "metadata": {
  "kernelspec": {
   "display_name": "Python 3",
   "language": "python",
   "name": "python3"
  },
  "language_info": {
   "codemirror_mode": {
    "name": "ipython",
    "version": 3
   },
   "file_extension": ".py",
   "mimetype": "text/x-python",
   "name": "python",
   "nbconvert_exporter": "python",
   "pygments_lexer": "ipython3",
   "version": "3.8.8"
  }
 },
 "nbformat": 4,
 "nbformat_minor": 5
}
