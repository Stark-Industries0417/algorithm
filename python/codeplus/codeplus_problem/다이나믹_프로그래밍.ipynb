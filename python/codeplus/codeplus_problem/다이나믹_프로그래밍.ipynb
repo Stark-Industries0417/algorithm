{
 "cells": [
  {
   "cell_type": "markdown",
   "id": "f15b96ca",
   "metadata": {},
   "source": [
    "## 팰린드롬 만들기\n",
    "https://www.acmicpc.net/problem/1695"
   ]
  },
  {
   "cell_type": "markdown",
   "id": "a1697caf",
   "metadata": {},
   "source": [
    "D[i][j] = D[i+1][j-1] (A[i] == A[j])   \n",
    "D[i][j] = min(D[i+1][j], D[i][j-1]) + 1) (A[i] != A[j])"
   ]
  },
  {
   "cell_type": "code",
   "execution_count": null,
   "id": "9a306f0d",
   "metadata": {},
   "outputs": [],
   "source": [
    "n = int(input())\n",
    "seq = list(map(int, input().split()))\n",
    "\n",
    "dp = [[0]*(n+1) for i in range(n+1)]\n",
    "for i in range(1, n+1):\n",
    "    for j in range(1, n+1):\n",
    "        if seq[-i]==seq[j-1] : dp[i][j] = dp[i-1][j-1]+1\n",
    "        else : dp[i][j] = max(dp[i][j-1], dp[i-1][j])\n",
    "print(n-dp[n][n])"
   ]
  },
  {
   "cell_type": "markdown",
   "id": "5d3f5217",
   "metadata": {},
   "source": [
    "## 행렬 곱셈 순서\n",
    "https://www.acmicpc.net/problem/11049"
   ]
  },
  {
   "cell_type": "code",
   "execution_count": null,
   "id": "ab29f813",
   "metadata": {},
   "outputs": [],
   "source": [
    "N = int(input())\n",
    "matrix = []\n",
    "for _ in range(N):\n",
    "    matrix.append(list(map(int, input().split())))\n",
    "dp =[[0 for _ in range(N)] for _ in range(N)] \n",
    "\n",
    "\n",
    "for i in range(1, N): #몇 번째 대각선?\n",
    "    for j in range(0, N-i): #대각선에서 몇 번째 열?\n",
    "    \n",
    "        if i == 1: #차이가 1밖에 나지 않는 칸\n",
    "            dp[j][j+i] = matrix[j][0] * matrix[j][1] * matrix[j+i][1]\n",
    "            continue\n",
    "        \n",
    "        dp[j][j+i] = 2**32 #최댓값을 미리 넣어줌\n",
    "        for k in range(j, j+i): \n",
    "            dp[j][j+i] = min(dp[j][j+i], \n",
    "                             dp[j][k] + dp[k+1][j+i] + matrix[j][0] * matrix[k][1] * matrix[j+i][1])\n",
    "                \n",
    "    \n",
    "print(dp[0][N-1]) #맨 오른쪽 위"
   ]
  },
  {
   "cell_type": "markdown",
   "id": "d90af161",
   "metadata": {},
   "source": [
    "## ABC\n",
    "https://www.acmicpc.net/problem/12969"
   ]
  },
  {
   "cell_type": "code",
   "execution_count": null,
   "id": "5561ff26",
   "metadata": {},
   "outputs": [],
   "source": [
    "n, k = map(int, input().split())\n",
    "d = [[[[False] * (n*(n-1)//2+1) for _ in range(n+1)] for _ in range(n+1)] for _ in range(n+1)]\n",
    "ans = ''\n",
    "def go(i, a, b, p):\n",
    "    if i == n:\n",
    "        if p == k:\n",
    "            return True\n",
    "        else:\n",
    "            return False\n",
    "    if d[i][a][b][p]:\n",
    "        return False\n",
    "    d[i][a][b][p] = True\n",
    "    global ans\n",
    "    temp = ans\n",
    "    ans = temp + 'A'\n",
    "    if go(i+1, a+1, b, p):\n",
    "        return True\n",
    "    ans = temp + 'B'\n",
    "    if go(i+1, a, b+1, p+a):\n",
    "        return True\n",
    "    ans = temp + 'C'\n",
    "    if go(i+1, a, b, p+a+b):\n",
    "        return True\n",
    "    return False\n",
    "\n",
    "if go(0, 0, 0, 0):\n",
    "    print(ans)\n",
    "else:\n",
    "    print(-1)"
   ]
  },
  {
   "cell_type": "markdown",
   "id": "c6b21c44",
   "metadata": {},
   "source": [
    "## 출근 기록\n",
    "https://www.acmicpc.net/problem/14238"
   ]
  },
  {
   "cell_type": "code",
   "execution_count": null,
   "id": "0818c172",
   "metadata": {},
   "outputs": [],
   "source": [
    "s = input()\n",
    "limit = [0, 0, 0]\n",
    "n = len(s)\n",
    "for ch in s:\n",
    "    limit[ord(ch)-ord('A')] += 1\n",
    "\n",
    "d = [[[[[-1] * 3 for _ in range(3)] for _ in range(n+1)] for _ in range(n+1)] for _ in range(n+1)]\n",
    "\n",
    "def go(a, b, c, p1, p2):\n",
    "    if a+b+c == n:\n",
    "        d[a][b][c][p1][p2] = 1\n",
    "        return d[a][b][c][p1][p2]\n",
    "    if d[a][b][c][p1][p2] != -1:\n",
    "        return d[a][b][c][p1][p2]\n",
    "    if a+1 <= limit[0] and go(a+1, b, c, 0, p1) == 1:\n",
    "        d[a][b][c][p1][p2] = 1\n",
    "        return d[a][b][c][p1][p2]\n",
    "    if b+1 <= limit[1] and p1 != 1:\n",
    "        if go(a, b+1, c, 1, p1) == 1:\n",
    "            d[a][b][c][p1][p2] = 1\n",
    "            return d[a][b][c][p1][p2]\n",
    "    if c+1 <= limit[2] and p1 != 2 and p2 != 2:\n",
    "        if go(a, b, c+1, 2, p1) == 1:\n",
    "            d[a][b][c][p1][p2] = 1\n",
    "            return d[a][b][c][p1][p2]\n",
    "    d[a][b][c][p1][p2] = 0\n",
    "    return d[a][b][c][p1][p2]\n",
    "\n",
    "def back(a, b, c, p1, p2):\n",
    "    if a+b+c == n:\n",
    "        return ''\n",
    "    if a+1 <= limit[0] and go(a+1, b, c, 0, p1) == 1:\n",
    "        return 'A' + back(a+1, b, c, 0, p1)\n",
    "    if b+1 <= limit[1] and p1 != 1:\n",
    "        if go(a, b+1, c, 1, p1) == 1:\n",
    "            return 'B' + back(a, b+1, c, 1, p1)\n",
    "    if c+1 <= limit[2] and p1 != 2 and p2 != 2:\n",
    "        if go(a, b, c+1, 2, p1) == 1:\n",
    "            return 'C' + back(a, b, c+1, 2, p1)\n",
    "    return ''\n",
    "\n",
    "ans = go(0, 0, 0, 0, 0)\n",
    "if ans == 0:\n",
    "    print(-1)\n",
    "else:\n",
    "    print(back(0, 0, 0, 0, 0))"
   ]
  }
 ],
 "metadata": {
  "kernelspec": {
   "display_name": "Python 3",
   "language": "python",
   "name": "python3"
  },
  "language_info": {
   "codemirror_mode": {
    "name": "ipython",
    "version": 3
   },
   "file_extension": ".py",
   "mimetype": "text/x-python",
   "name": "python",
   "nbconvert_exporter": "python",
   "pygments_lexer": "ipython3",
   "version": "3.8.8"
  }
 },
 "nbformat": 4,
 "nbformat_minor": 5
}
