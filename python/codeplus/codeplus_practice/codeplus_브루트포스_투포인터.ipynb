{
 "cells": [
  {
   "cell_type": "markdown",
   "id": "e01d0440",
   "metadata": {},
   "source": [
    "## 수들의 합2\n",
    "https://www.acmicpc.net/problem/2003"
   ]
  },
  {
   "cell_type": "code",
   "execution_count": 4,
   "id": "de443902",
   "metadata": {},
   "outputs": [
    {
     "name": "stdout",
     "output_type": "stream",
     "text": [
      "4 2\n",
      "1 1 1 1\n",
      "3\n"
     ]
    }
   ],
   "source": [
    "n, m = map(int, input().split())\n",
    "arr = list(map(int, input().split()))\n",
    "\n",
    "left = right = 0\n",
    "s = arr[0]\n",
    "ans = 0\n",
    "while left <= right and right < n:\n",
    "    if s < m:\n",
    "        right += 1\n",
    "        if right < n:\n",
    "            s += arr[right]\n",
    "    elif s == m:\n",
    "        right += 1\n",
    "        ans += 1\n",
    "        if right < n:\n",
    "            s += arr[right]\n",
    "    else:\n",
    "        s -= arr[left]        \n",
    "        left += 1\n",
    "        if left > right and left < n:\n",
    "            right = left\n",
    "            s = arr[left]\n",
    "print(ans)"
   ]
  },
  {
   "cell_type": "code",
   "execution_count": 5,
   "id": "39365432",
   "metadata": {},
   "outputs": [
    {
     "name": "stdout",
     "output_type": "stream",
     "text": [
      "4 2\n",
      "1 1 1 1\n",
      "3\n"
     ]
    }
   ],
   "source": [
    "n, m = map(int, input().split())\n",
    "arr = list(map(int, input().split()))\n",
    "\n",
    "right = ans = 0\n",
    "s = 0\n",
    "for left in range(n):\n",
    "    while s < m and right < n:\n",
    "        s += arr[right]\n",
    "        right += 1\n",
    "    if s == m:\n",
    "        ans += 1\n",
    "    s -= arr[left]\n",
    "print(ans)"
   ]
  },
  {
   "cell_type": "markdown",
   "id": "a703234d",
   "metadata": {},
   "source": [
    "## 부분 합\n",
    "https://www.acmicpc.net/problem/1806"
   ]
  },
  {
   "cell_type": "code",
   "execution_count": 20,
   "id": "d00de524",
   "metadata": {},
   "outputs": [
    {
     "name": "stdout",
     "output_type": "stream",
     "text": [
      "10 15\n",
      "5 1 3 5 10 7 4 9 2 8\n",
      "2\n"
     ]
    }
   ],
   "source": [
    "n, m = map(int, input().split())\n",
    "arr = list(map(int, input().split()))\n",
    "left = right = 0\n",
    "s = arr[0]\n",
    "ans = int(1e9)\n",
    "\n",
    "while left <= right and right < n:\n",
    "    if s >= m:\n",
    "        s -= arr[left]\n",
    "        ans = min(ans, right-left+1)\n",
    "        left += 1\n",
    "    else:\n",
    "        right += 1\n",
    "        if right < n:\n",
    "            s += arr[right]\n",
    "\n",
    "print(0 if ans == int(1e9) else ans)"
   ]
  },
  {
   "cell_type": "code",
   "execution_count": 25,
   "id": "554ac92b",
   "metadata": {},
   "outputs": [
    {
     "name": "stdout",
     "output_type": "stream",
     "text": [
      "10 15\n",
      "5 1 3 5 10 7 4 9 2 8\n",
      "2\n"
     ]
    }
   ],
   "source": [
    "# 틀림\n",
    "\n",
    "n, m = map(int, input().split())\n",
    "arr = list(map(int, input().split()))\n",
    "\n",
    "right = 0\n",
    "s = arr[0]\n",
    "ans = int(1e9)\n",
    "\n",
    "for left in range(n):\n",
    "    while s < m and right < n:\n",
    "        right += 1\n",
    "        if right < n:\n",
    "            s += arr[right]\n",
    "    if s >= m:\n",
    "        ans = min(ans, right-left+1)\n",
    "    s -= arr[left]\n",
    "print(ans)"
   ]
  },
  {
   "cell_type": "markdown",
   "id": "dc7aa0c8",
   "metadata": {},
   "source": [
    "## 소수의 연속합\n",
    "https://www.acmicpc.net/problem/1644"
   ]
  },
  {
   "cell_type": "markdown",
   "id": "88608d4f",
   "metadata": {},
   "source": [
    "## 부분수열의 합 2\n",
    "https://www.acmicpc.net/problem/1208"
   ]
  },
  {
   "cell_type": "code",
   "execution_count": 12,
   "id": "2bdf969d",
   "metadata": {},
   "outputs": [
    {
     "name": "stdout",
     "output_type": "stream",
     "text": [
      "5 0\n",
      "-7 -3 -2 5 8\n",
      "1\n"
     ]
    }
   ],
   "source": [
    "n, s = map(int, input().split())\n",
    "a = list(map(int, input().split()))\n",
    "\n",
    "m = n//2\n",
    "n = n-m\n",
    "first = [0]*(1 << n)\n",
    "for i in range(1 << n):\n",
    "    for k in range(n):\n",
    "        if i & (1 << k):\n",
    "            first[i] += a[k]\n",
    "            \n",
    "second = [0]*(1 << m)\n",
    "for i in range(1 << m):\n",
    "    for k in range(m):\n",
    "        if i & (1 << k):\n",
    "            second[i] += a[k+n]\n",
    "            \n",
    "first.sort(), second.sort(reverse=True)\n",
    "\n",
    "i = j = ans = 0\n",
    "n = 1<<n\n",
    "m = 1<<m\n",
    "while i < n and j < m:\n",
    "    if first[i] + second[j] == s:\n",
    "        c1 = c2 = 1\n",
    "        i += 1\n",
    "        j += 1\n",
    "        while i < n and first[i] == first[i-1]:\n",
    "            c1 += 1\n",
    "            i += 1\n",
    "        while j < m and second[j] == second[j-1]:\n",
    "            c2 += 1\n",
    "            j += 1\n",
    "        ans += c1*c2\n",
    "    elif first[i] + second[j] < s:\n",
    "        i += 1\n",
    "    else:\n",
    "        j += 1\n",
    "if s == 0:\n",
    "    ans -= 1\n",
    "print(ans)"
   ]
  },
  {
   "cell_type": "markdown",
   "id": "14e94e93",
   "metadata": {},
   "source": [
    "## 두 배열의 합\n",
    "https://www.acmicpc.net/problem/2143"
   ]
  },
  {
   "cell_type": "code",
   "execution_count": 13,
   "id": "f5d4b9a0",
   "metadata": {},
   "outputs": [
    {
     "name": "stdout",
     "output_type": "stream",
     "text": [
      "5\n",
      "4\n",
      "1 3 1 2\n",
      "3\n",
      "1 3 2\n",
      "7\n"
     ]
    }
   ],
   "source": [
    "from collections import Counter\n",
    "\n",
    "t = int(input())\n",
    "n = int(input())\n",
    "a1 = list(map(int, input().split()))\n",
    "m = int(input())\n",
    "a2 = list(map(int, input().split()))\n",
    "\n",
    "x, y = [], []\n",
    "for i in range(n):\n",
    "    s = 0\n",
    "    for j in range(i, n):\n",
    "        s += a1[j]\n",
    "        x.append(s)\n",
    "\n",
    "for i in range(m):\n",
    "    s = 0\n",
    "    for j in range(i, m):\n",
    "        s += a2[j]\n",
    "        y.append(s)\n",
    "x.sort(), y.sort()\n",
    "c = Counter(y)\n",
    "ans = 0\n",
    "for num in x:\n",
    "    ans += c[t-num]\n",
    "print(ans)"
   ]
  }
 ],
 "metadata": {
  "kernelspec": {
   "display_name": "Python 3",
   "language": "python",
   "name": "python3"
  },
  "language_info": {
   "codemirror_mode": {
    "name": "ipython",
    "version": 3
   },
   "file_extension": ".py",
   "mimetype": "text/x-python",
   "name": "python",
   "nbconvert_exporter": "python",
   "pygments_lexer": "ipython3",
   "version": "3.8.8"
  }
 },
 "nbformat": 4,
 "nbformat_minor": 5
}
