{
 "cells": [
  {
   "attachments": {},
   "cell_type": "markdown",
   "metadata": {},
   "source": [
    "## 뉴스 클러스터링\n",
    "https://school.programmers.co.kr/learn/courses/30/lessons/17677"
   ]
  },
  {
   "cell_type": "code",
   "execution_count": null,
   "metadata": {},
   "outputs": [],
   "source": [
    "from collections import Counter\n",
    "\n",
    "def solution(str1, str2):\n",
    "    str1 = [str1[i:i+2].lower() for i in range(len(str1)-1) if str1[i:i+2].isalpha()]\n",
    "    str2 = [str2[i:i+2].lower() for i in range(len(str2)-1) if str2[i:i+2].isalpha()]\n",
    "\n",
    "    str1, str2 = Counter(str1), Counter(str2)\n",
    "    \n",
    "    inter = sum((str1 & str2).values())\n",
    "    temp = sum((str1 | str2).values())\n",
    "\n",
    "    if not temp:\n",
    "        return 65536\n",
    "\n",
    "    return int(inter/temp * 65536)\n",
    "\n",
    "solution(\"handshake\", \"shake hands\")\n",
    "solution(\"FRANCE\", \"french\")"
   ]
  },
  {
   "attachments": {},
   "cell_type": "markdown",
   "metadata": {},
   "source": [
    "## 프렌즈 4블록\n",
    "https://school.programmers.co.kr/learn/courses/30/lessons/17679"
   ]
  },
  {
   "cell_type": "code",
   "execution_count": null,
   "metadata": {},
   "outputs": [],
   "source": [
    "def solution(m, n, board):\n",
    "    board = list(map(list, board))\n",
    "    ans = 0\n",
    "    while True:\n",
    "        record = [[0] * n for _ in range(m)]\n",
    "        for i in range(m-1):\n",
    "            for j in range(n-1):\n",
    "                if not board[i][j]:\n",
    "                    continue\n",
    "                if board[i][j] == board[i][j+1] == board[i+1][j] == board[i+1][j+1]:\n",
    "                    record[i][j] = record[i][j+1] = record[i+1][j] = record[i+1][j+1] = 1\n",
    "\n",
    "        delete = sum(list(map(sum, record)))\n",
    "        if not delete :\n",
    "            break\n",
    "        ans += delete\n",
    "        \n",
    "        for j in range(n):\n",
    "            for i in range(m-1, -1, -1):\n",
    "                if record[i][j]:\n",
    "                    x, y = i, j\n",
    "                    while record[x][y] and x >= 0:\n",
    "                        x -= 1\n",
    "\n",
    "                    if x >= 0:\n",
    "                        board[i][j] = board[x][y]\n",
    "                        record[x][y] = 1\n",
    "                    else:\n",
    "                        board[i][j] = 0\n",
    "    return ans\n",
    "\n",
    "\n",
    "print(solution(4, 5, [\"CCBDE\", \"AAADE\", \"AAABF\", \"CCBBF\"]))\n",
    "print(solution(6, 6, [\"TTTANT\", \"RRFACC\", \"RRRFCC\", \"TRRRAA\", \"TTMMMF\", \"TMMTTJ\"]))"
   ]
  },
  {
   "attachments": {},
   "cell_type": "markdown",
   "metadata": {},
   "source": [
    "## 캐시\n",
    "https://school.programmers.co.kr/learn/courses/30/lessons/17680"
   ]
  },
  {
   "cell_type": "code",
   "execution_count": null,
   "metadata": {},
   "outputs": [],
   "source": [
    "def solution(cacheSize, cities):\n",
    "    time = 0\n",
    "    cache = []\n",
    "    for city in cities:\n",
    "        city = city.lower()\n",
    "        if cacheSize:\n",
    "            if city in cache:\n",
    "                cache.append(cache.pop(cache.index(city)))\n",
    "                time += 1\n",
    "            else:\n",
    "                if len(cache) == cacheSize:\n",
    "                    cache.pop(0)\n",
    "                cache.append(city)\n",
    "                time += 5\n",
    "        else:\n",
    "            time += 5\n",
    "    return time\n",
    "\n",
    "print(solution(3, [\"Jeju\", \"Pangyo\", \"Seoul\", \"NewYork\", \"LA\", \"Jeju\", \"Pangyo\", \"Seoul\", \"NewYork\", \"LA\"]))\n",
    "print(solution(3, [\"Jeju\", \"Pangyo\", \"Seoul\", \"Jeju\", \"Pangyo\", \"Seoul\", \"Jeju\", \"Pangyo\", \"Seoul\"]))"
   ]
  },
  {
   "attachments": {},
   "cell_type": "markdown",
   "metadata": {},
   "source": [
    "## 비밀지도\n",
    "https://school.programmers.co.kr/learn/courses/30/lessons/17681"
   ]
  },
  {
   "cell_type": "code",
   "execution_count": null,
   "metadata": {},
   "outputs": [],
   "source": [
    "def solution(n, arr1, arr2):\n",
    "    return [format(a | b, 'b').zfill(n).replace(\"1\", \"#\").replace(\"0\", \" \") for a, b in zip(arr1, arr2)]\n",
    "\n",
    "\n",
    "print(solution(5, [9, 20, 28, 18, 11], [30, 1, 21, 17, 28]))\n",
    "print(solution(6, [46, 33, 33 ,22, 31, 50], [27 ,56, 19, 14, 14, 10]))\n"
   ]
  },
  {
   "attachments": {},
   "cell_type": "markdown",
   "metadata": {},
   "source": [
    "## 다트 게임\n",
    "https://school.programmers.co.kr/learn/courses/30/lessons/17682"
   ]
  },
  {
   "cell_type": "code",
   "execution_count": null,
   "metadata": {},
   "outputs": [],
   "source": [
    "def solution(dartResult):\n",
    "    bonus = ['S', 'D', 'T']\n",
    "    stack = []\n",
    "    num = ''\n",
    "    for elem in dartResult:\n",
    "        if elem.isdigit():\n",
    "            num += elem\n",
    "        else:\n",
    "            if num != '':\n",
    "                stack.append(int(num))\n",
    "                num = ''\n",
    "            if elem in bonus:\n",
    "                stack[-1] **= (bonus.index(elem)+1)\n",
    "            if elem == '*':\n",
    "                if len(stack) > 1:\n",
    "                    stack[-2] *= 2\n",
    "                stack[-1] *= 2\n",
    "            elif elem == '#':\n",
    "                stack[-1] *= -1\n",
    "    return sum(stack)"
   ]
  },
  {
   "attachments": {},
   "cell_type": "markdown",
   "metadata": {},
   "source": [
    "## 압축\n",
    "https://school.programmers.co.kr/learn/courses/30/lessons/17684"
   ]
  },
  {
   "cell_type": "code",
   "execution_count": null,
   "metadata": {},
   "outputs": [],
   "source": [
    "def solution(msg):\n",
    "    ans = []\n",
    "    dic = {chr(i): i - 64 for i in range(ord('A'), ord('Z') + 1)}\n",
    "    \n",
    "    while msg:\n",
    "        idx = 1\n",
    "        while msg[:idx] in dic and idx <= len(msg):\n",
    "            idx += 1\n",
    "        ans.append(dic[msg[:idx-1]])\n",
    "        dic[msg[:idx]] = len(dic) + 1\n",
    "        msg = msg[idx-1:]\n",
    "    return ans"
   ]
  },
  {
   "cell_type": "markdown",
   "metadata": {},
   "source": [
    "## 방금그곡\n",
    "https://school.programmers.co.kr/learn/courses/30/lessons/17683"
   ]
  },
  {
   "cell_type": "code",
   "execution_count": null,
   "metadata": {},
   "outputs": [],
   "source": [
    "def solution(m, musicinfos):\n",
    "    ans = []\n",
    "    m = m.replace(\"C#\", \"c\").replace(\"D#\", \"d\").replace(\"F#\", \"f\").replace(\"G#\", \"g\").replace(\"A#\", \"a\")\n",
    "\n",
    "    for musicinfo in musicinfos:\n",
    "        s, e, title, music = musicinfo.split(\",\")\n",
    "        music = music.replace(\"C#\", \"c\").replace(\"D#\", \"d\").replace(\"F#\", \"f\").replace(\"G#\", \"g\").replace(\"A#\", \"a\")\n",
    "        l = len(music)\n",
    "        time = diff(s, e)\n",
    "        music = music * (time//l) + music[:time%l]\n",
    "\n",
    "        if m in music:\n",
    "            ans.append((time, title))\n",
    "    if ans:\n",
    "        ans.sort(key=lambda x: -x[0])\n",
    "        return ans[0][1]\n",
    "    return \"(None)\"\n",
    "\n",
    "def timeToMinute(x):\n",
    "    h, m = map(int, x.split(\":\"))\n",
    "    return h*60 + m\n",
    "\n",
    "def diff(s, e):\n",
    "    s, e = map(timeToMinute, [s, e])\n",
    "    return e - s\n",
    "\n",
    "\n",
    "print(solution(\"ABCDEFG\", [\"12:00,12:14,HELLO,CDEFGAB\", \"13:00,13:05,WORLD,ABCDEF\"]))"
   ]
  },
  {
   "attachments": {},
   "cell_type": "markdown",
   "metadata": {},
   "source": [
    "## 오픈 채팅방\n",
    "https://school.programmers.co.kr/learn/courses/30/lessons/42888"
   ]
  },
  {
   "cell_type": "code",
   "execution_count": null,
   "metadata": {},
   "outputs": [],
   "source": [
    "def solution(record):\n",
    "    result = []\n",
    "    id = {}\n",
    "    for r in record:\n",
    "        r = r.split()\n",
    "        if r[0] in ['Enter', 'Change']:\n",
    "            id[r[1]] = r[2] \n",
    "\n",
    "    for r in record:\n",
    "        r = r.split()\n",
    "        if r[0] == 'Enter':\n",
    "            result.append(f'{id[r[1]]}님이 들어왔습니다.')\n",
    "        elif r[0] == 'Leave':\n",
    "            result.append(f'{id[r[1]]}님이 나갔습니다.')\n",
    "    return result"
   ]
  },
  {
   "attachments": {},
   "cell_type": "markdown",
   "metadata": {},
   "source": [
    "## 실패율\n",
    "https://school.programmers.co.kr/learn/courses/30/lessons/42889"
   ]
  },
  {
   "cell_type": "code",
   "execution_count": null,
   "metadata": {},
   "outputs": [],
   "source": [
    "def solution(N, stages):\n",
    "    ans = {}\n",
    "    total = len(stages)\n",
    "\n",
    "    for stage in range(1, N+1):\n",
    "        fail = stages.count(stage)\n",
    "        if fail:\n",
    "            ans[stage] = fail/total\n",
    "            total -= fail\n",
    "        else:\n",
    "            ans[stage] = 0\n",
    "    return sorted(ans, key=lambda x: -ans[x])\n",
    "\n",
    "\n",
    "print(solution(5, [2, 1, 2, 6, 2, 4, 3, 3]))\n",
    "print(solution(4, [4,4,4,4,4]))"
   ]
  },
  {
   "attachments": {},
   "cell_type": "markdown",
   "metadata": {},
   "source": [
    "## 문자열 압축\n",
    "https://school.programmers.co.kr/learn/courses/30/lessons/60057"
   ]
  },
  {
   "cell_type": "code",
   "execution_count": null,
   "metadata": {},
   "outputs": [],
   "source": [
    "def solution(s):\n",
    "    min_len = len(s)\n",
    "\n",
    "    for i in range(1, len(s)//2 + 1):\n",
    "        cnt = 1\n",
    "        new_s = ''\n",
    "        for j in range(0, len(s), i):\n",
    "            if s[j:j+i] == s[j+i:j + 2*i]:\n",
    "                cnt += 1\n",
    "            else:\n",
    "                if cnt != 1:\n",
    "                    new_s += str(cnt)\n",
    "                new_s += s[j:j+i]\n",
    "                cnt = 1\n",
    "        min_len = min(min_len, len(new_s))\n",
    "    return min_len\n",
    "print(solution(\"abcabcdede\"))"
   ]
  }
 ],
 "metadata": {
  "kernelspec": {
   "display_name": "Python 3",
   "language": "python",
   "name": "python3"
  },
  "language_info": {
   "name": "python",
   "version": "3.9.6"
  },
  "orig_nbformat": 4
 },
 "nbformat": 4,
 "nbformat_minor": 2
}
