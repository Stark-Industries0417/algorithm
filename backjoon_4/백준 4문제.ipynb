{
 "cells": [
  {
   "cell_type": "markdown",
   "id": "5e5e4e28",
   "metadata": {},
   "source": [
    "# 1/11 화"
   ]
  },
  {
   "cell_type": "markdown",
   "id": "d2cee095",
   "metadata": {},
   "source": [
    "## 1668번 트로피 진열"
   ]
  },
  {
   "cell_type": "code",
   "execution_count": 1,
   "id": "e9a1478d",
   "metadata": {},
   "outputs": [
    {
     "name": "stdout",
     "output_type": "stream",
     "text": [
      "5\n",
      "1\n",
      "2\n",
      "5\n",
      "2\n",
      "1\n",
      "3\n",
      "3\n"
     ]
    }
   ],
   "source": [
    "n = int(input())\n",
    "th = [int(input()) for _ in range(n)]\n",
    "\n",
    "def tropy(th: list) -> int:\n",
    "    left, right = 0, n - 1\n",
    "    left_max, right_max = th[left], th[n-1]\n",
    "    left_cnt, right_cnt = 1, 1\n",
    "    \n",
    "    while left <= right:\n",
    "        if left_max <= right_max:\n",
    "            if left_max < th[left]:    \n",
    "                left_cnt += 1\n",
    "                left_max = th[left]\n",
    "            else:\n",
    "                left += 1\n",
    "\n",
    "        else:\n",
    "            if right_max < th[right]:\n",
    "                right_cnt += 1\n",
    "                right_max = th[right]\n",
    "            else:\n",
    "                right -= 1\n",
    "  \n",
    "    print(left_cnt)\n",
    "    print(right_cnt)\n",
    "\n",
    "tropy(th)"
   ]
  },
  {
   "cell_type": "code",
   "execution_count": 2,
   "id": "9712f118",
   "metadata": {},
   "outputs": [
    {
     "name": "stdout",
     "output_type": "stream",
     "text": [
      "5\n",
      "1\n",
      "2\n",
      "5\n",
      "2\n",
      "1\n",
      "3\n",
      "3\n"
     ]
    }
   ],
   "source": [
    "N = int(input())\n",
    "li = [int(input()) for _ in range(N)]\n",
    "left_cnt = right_cnt = 0\n",
    "left_max = right_max = 0\n",
    "for n in li:\n",
    "    if n > left_max:\n",
    "        left_max = n\n",
    "        left_cnt += 1\n",
    "for n in li[::-1]:\n",
    "    if n > right_max:\n",
    "        right_max = n\n",
    "        right_cnt += 1\n",
    "print(left_cnt)\n",
    "print(right_cnt)"
   ]
  },
  {
   "cell_type": "markdown",
   "id": "54e38480",
   "metadata": {},
   "source": [
    "## 20365번 블로그2"
   ]
  },
  {
   "cell_type": "code",
   "execution_count": 3,
   "id": "04f4c69b",
   "metadata": {},
   "outputs": [
    {
     "name": "stdout",
     "output_type": "stream",
     "text": [
      "5\n",
      "BBBRR\n"
     ]
    },
    {
     "data": {
      "text/plain": [
       "3"
      ]
     },
     "execution_count": 3,
     "metadata": {},
     "output_type": "execute_result"
    }
   ],
   "source": [
    "# 무조건 전체를 한 색으로 칠하고 다른 색 개수를 더하는 것으로 잘못 생각\n",
    "\n",
    "from collections import Counter\n",
    "n = int(input())\n",
    "ques_c = input()\n",
    "def question(ques_c: str) -> int:\n",
    "    cnt = 1\n",
    "    question_cnt = Counter(ques_c).most_common(2)\n",
    "    cnt += question_cnt[1][1]\n",
    "    return cnt\n",
    "question(ques_c)"
   ]
  },
  {
   "cell_type": "code",
   "execution_count": 14,
   "id": "87e2f6c9",
   "metadata": {},
   "outputs": [
    {
     "name": "stdout",
     "output_type": "stream",
     "text": [
      "5\n",
      "BBBRR\n",
      "{'B': 1, 'R': 1}\n",
      "2\n"
     ]
    }
   ],
   "source": [
    "n = int(input())\n",
    "s = input()\n",
    "cnt = {'B': 0,'R': 0}\n",
    "cnt[s[0]] += 1\n",
    "for i in range(1,n):\n",
    "    if s[i] != s[i-1]:\n",
    "        cnt[s[i]] += 1\n",
    "print(min(cnt['B'],cnt['R'])+1)"
   ]
  },
  {
   "cell_type": "markdown",
   "id": "b9acb1cf",
   "metadata": {},
   "source": [
    "## 9489번 사촌"
   ]
  },
  {
   "cell_type": "code",
   "execution_count": null,
   "id": "c2107e0e",
   "metadata": {},
   "outputs": [],
   "source": [
    "from collections import defaultdict\n",
    "\n",
    "while True:\n",
    "    n,k = map(int,input().split())\n",
    "    if not n and not k:\n",
    "        break\n",
    "    arr = list(map(int,input().split()))\n",
    "    parents = defaultdict(int)\n",
    "    idx=0\n",
    "    for i in range(1,n):\n",
    "        parents[arr[i]] = arr[idx]\n",
    "        if i <n-1 and arr[i]+1 < arr[i+1]:\n",
    "            idx+=1\n",
    "    if parents[parents[k]]:\n",
    "        cnt=0\n",
    "        for node in arr:\n",
    "            if (parents[parents[k]] == parents[parents[node]]) and (parents[k] != parents[node]):\n",
    "                cnt+=1\n",
    "        print(cnt)\n",
    "    else:\n",
    "        print(0)"
   ]
  },
  {
   "cell_type": "markdown",
   "id": "0e0886e0",
   "metadata": {},
   "source": [
    "# 1/12 수"
   ]
  },
  {
   "cell_type": "markdown",
   "id": "f392a9c3",
   "metadata": {},
   "source": [
    "## 암호    \n",
    "https://www.acmicpc.net/problem/1718"
   ]
  },
  {
   "cell_type": "code",
   "execution_count": 25,
   "id": "71573021",
   "metadata": {},
   "outputs": [
    {
     "name": "stdout",
     "output_type": "stream",
     "text": [
      "nice day\n",
      "love\n",
      "btgz oet\n"
     ]
    }
   ],
   "source": [
    "text = input()\n",
    "key = input()\n",
    "answer = ''\n",
    "\n",
    "for i in range(len(text)):\n",
    "    if text[i] == ' ':\n",
    "        answer += ' '\n",
    "    else:\n",
    "        answer += chr((ord(text[i]) - ord(key[i%len(key)]) - 1) % 26 + ord('a'))\n",
    "print(answer)"
   ]
  },
  {
   "cell_type": "markdown",
   "id": "e5c200f7",
   "metadata": {},
   "source": [
    "# 1/ 13 목"
   ]
  },
  {
   "cell_type": "markdown",
   "id": "26801d21",
   "metadata": {},
   "source": [
    "## 세로 읽기 10798번\n",
    "https://www.acmicpc.net/problem/10798"
   ]
  },
  {
   "cell_type": "code",
   "execution_count": 30,
   "id": "0a367c09",
   "metadata": {},
   "outputs": [
    {
     "name": "stdout",
     "output_type": "stream",
     "text": [
      "AABCDD\n",
      "afzz\n",
      "09121\n",
      "a8EWg6\n",
      "P5h3kx\n"
     ]
    },
    {
     "data": {
      "text/plain": [
       "'Aa0aPAf985Bz1EhCz2W3D1gkD6x'"
      ]
     },
     "execution_count": 30,
     "metadata": {},
     "output_type": "execute_result"
    }
   ],
   "source": [
    "letters = [input() for _ in range(5)]\n",
    "n = max(letters, key=len)\n",
    "s = ''\n",
    "for i in range(len(n)):\n",
    "    for j in range(5):\n",
    "        try:\n",
    "            s += letters[j][i]\n",
    "        except:\n",
    "            continue\n",
    "s"
   ]
  },
  {
   "cell_type": "markdown",
   "id": "eda76ec0",
   "metadata": {},
   "source": [
    "## 연산자 끼워넣기 O(4 ^ N)\n",
    "https://www.acmicpc.net/problem/15658"
   ]
  },
  {
   "cell_type": "code",
   "execution_count": 62,
   "id": "1e644851",
   "metadata": {},
   "outputs": [
    {
     "name": "stdout",
     "output_type": "stream",
     "text": [
      "3\n",
      "3 4 5\n",
      "2 1 2 1\n",
      "60\n",
      "-5\n"
     ]
    }
   ],
   "source": [
    "# 시간 초과\n",
    "\n",
    "import sys \n",
    "\n",
    "n = int(input())\n",
    "num = list(map(int, input().split()))\n",
    "op_cnt = list(map(int, input().split()))\n",
    "check = [False] * (sum(op_cnt))\n",
    "max_result = -sys.maxsize\n",
    "min_result = sys.maxsize\n",
    "\n",
    "op = ''\n",
    "for i, v in enumerate(op_cnt):\n",
    "    if i == 0:\n",
    "        op += '+' * v\n",
    "    elif i == 1:\n",
    "        op += '-' * v\n",
    "    elif i == 2:\n",
    "        op += '*' * v\n",
    "    else:\n",
    "        op += '/' * v\n",
    "    \n",
    "def operator(index: int, s: int) -> list:\n",
    "    if index == n:\n",
    "        global max_result, min_result\n",
    "        max_result = max(max_result, s)\n",
    "        min_result = min(min_result, s)\n",
    "        return \n",
    "   \n",
    "    for i in range(len(op)):\n",
    "        if check[i]:\n",
    "            continue\n",
    "        \n",
    "        if op[i] == '+':\n",
    "            result = s + num[index]\n",
    "        elif op[i] == '-':\n",
    "            result = s - num[index]\n",
    "        elif op[i] == '*':\n",
    "            result = s * num[index]\n",
    "        elif op[i] == '/':\n",
    "            if s < 0:\n",
    "                result = -s // num[index]\n",
    "                result = -result\n",
    "            else:\n",
    "                result = s // num[index]\n",
    "                \n",
    "        check[i] = True\n",
    "        if result > s or result < s:\n",
    "            operator(index + 1, result)    \n",
    "        check[i] = False\n",
    "        \n",
    "\n",
    "operator(1, num[0])\n",
    "\n",
    "\n",
    "print(max_result)\n",
    "print(min_result)"
   ]
  },
  {
   "cell_type": "code",
   "execution_count": 67,
   "id": "9331dd33",
   "metadata": {},
   "outputs": [
    {
     "name": "stdout",
     "output_type": "stream",
     "text": [
      "6\n",
      "1 2 3 4 5 6\n",
      "3 2 1 1\n",
      "72\n",
      "-48\n"
     ]
    }
   ],
   "source": [
    "# 시간초과 개선\n",
    "import sys \n",
    "\n",
    "n = int(input())\n",
    "num = list(map(int, input().split()))\n",
    "op_cnt = list(map(int, input().split()))\n",
    "max_result = -sys.maxsize\n",
    "min_result = sys.maxsize\n",
    "\n",
    "\n",
    "    \n",
    "def operator(index: int, s: int) -> list:\n",
    "    if index == n:\n",
    "        global max_result, min_result\n",
    "        max_result = max(max_result, s)\n",
    "        min_result = min(min_result, s)\n",
    "        return \n",
    "   \n",
    "    for i in range(len(op_cnt)):\n",
    "        if not op_cnt[i] == 0:\n",
    "            if i == 0:\n",
    "                result = s + num[index]\n",
    "            elif i == 1:\n",
    "                result = s - num[index]\n",
    "            elif i == 2:\n",
    "                result = s * num[index]\n",
    "            else:\n",
    "                if s < 0:\n",
    "                    result = -s // num[index]\n",
    "                    result = -result\n",
    "                else:\n",
    "                    result = s // num[index]\n",
    "\n",
    "            op_cnt[i] -= 1\n",
    "            operator(index + 1, result)    \n",
    "            op_cnt[i] += 1\n",
    "\n",
    "\n",
    "operator(1, num[0])\n",
    "\n",
    "\n",
    "print(max_result)\n",
    "print(min_result)"
   ]
  },
  {
   "cell_type": "markdown",
   "id": "26e36c01",
   "metadata": {},
   "source": [
    "# 1/14 금"
   ]
  },
  {
   "cell_type": "markdown",
   "id": "12b81add",
   "metadata": {},
   "source": [
    "## 디지털 시계\n",
    "https://www.acmicpc.net/problem/1942"
   ]
  },
  {
   "cell_type": "code",
   "execution_count": 42,
   "id": "3c3e1009",
   "metadata": {},
   "outputs": [
    {
     "data": {
      "text/plain": [
       "str"
      ]
     },
     "execution_count": 42,
     "metadata": {},
     "output_type": "execute_result"
    }
   ],
   "source": [
    "import datetime\n",
    "from datetime import timedelta\n",
    "\n",
    "for i in range(3):\n",
    "    start, end = input().split()\n",
    "\n",
    "    stH, stM, stS = map(int, start.split(':'))\n",
    "    edH, edM, edS = map(int, end.split(':'))\n",
    "\n",
    "    stime = datetime.datetime(2021, 1, 1, stH, stM, stS)\n",
    "    tmp_time = stime.strftime('%H%M%S')\n",
    "\n",
    "    sec = 1\n",
    "    cnt = 0\n",
    "    if int(tmp_time) % 3 == 0:\n",
    "        cnt += 1\n",
    "    etime = datetime.datetime(2021, 1, 1, edH, edM, edS)\n",
    "    etime = etime.strftime('%H%M%S')\n",
    "\n",
    "    while True:\n",
    "        if tmp_time == etime:\n",
    "            break\n",
    "        stime = stime + timedelta(seconds=sec)\n",
    "        tmp_time = stime.strftime('%H%M%S')\n",
    "        if int(tmp_time) % 3 == 0:\n",
    "            cnt += 1\n",
    "    print(cnt)"
   ]
  },
  {
   "cell_type": "markdown",
   "id": "f3a4953f",
   "metadata": {},
   "source": [
    "# 1/15 토"
   ]
  },
  {
   "cell_type": "markdown",
   "id": "366421c4",
   "metadata": {},
   "source": [
    "## 양 구출 작전 16437번\n",
    "https://www.acmicpc.net/problem/16437"
   ]
  },
  {
   "cell_type": "code",
   "execution_count": 2,
   "id": "b27fe917",
   "metadata": {},
   "outputs": [
    {
     "name": "stdout",
     "output_type": "stream",
     "text": [
      "7\n",
      "awef\n"
     ]
    },
    {
     "ename": "ValueError",
     "evalue": "not enough values to unpack (expected 3, got 1)",
     "output_type": "error",
     "traceback": [
      "\u001b[0;31m---------------------------------------------------------------------------\u001b[0m",
      "\u001b[0;31mValueError\u001b[0m                                Traceback (most recent call last)",
      "\u001b[0;32m<ipython-input-2-8b1c28b58db4>\u001b[0m in \u001b[0;36m<module>\u001b[0;34m\u001b[0m\n\u001b[1;32m      7\u001b[0m \u001b[0mtree\u001b[0m \u001b[0;34m=\u001b[0m \u001b[0;34m[\u001b[0m\u001b[0;34m[\u001b[0m\u001b[0;34m]\u001b[0m \u001b[0;32mfor\u001b[0m \u001b[0m_\u001b[0m \u001b[0;32min\u001b[0m \u001b[0mrange\u001b[0m\u001b[0;34m(\u001b[0m\u001b[0mn\u001b[0m\u001b[0;34m+\u001b[0m\u001b[0;36m1\u001b[0m\u001b[0;34m)\u001b[0m\u001b[0;34m]\u001b[0m\u001b[0;34m\u001b[0m\u001b[0;34m\u001b[0m\u001b[0m\n\u001b[1;32m      8\u001b[0m \u001b[0;32mfor\u001b[0m \u001b[0mi\u001b[0m \u001b[0;32min\u001b[0m \u001b[0mrange\u001b[0m\u001b[0;34m(\u001b[0m\u001b[0;36m2\u001b[0m\u001b[0;34m,\u001b[0m \u001b[0mn\u001b[0m\u001b[0;34m+\u001b[0m\u001b[0;36m1\u001b[0m\u001b[0;34m)\u001b[0m\u001b[0;34m:\u001b[0m\u001b[0;34m\u001b[0m\u001b[0;34m\u001b[0m\u001b[0m\n\u001b[0;32m----> 9\u001b[0;31m     \u001b[0mt\u001b[0m\u001b[0;34m,\u001b[0m \u001b[0ma\u001b[0m\u001b[0;34m,\u001b[0m \u001b[0mp\u001b[0m \u001b[0;34m=\u001b[0m \u001b[0minput\u001b[0m\u001b[0;34m(\u001b[0m\u001b[0;34m)\u001b[0m\u001b[0;34m.\u001b[0m\u001b[0msplit\u001b[0m\u001b[0;34m(\u001b[0m\u001b[0;34m)\u001b[0m\u001b[0;34m\u001b[0m\u001b[0;34m\u001b[0m\u001b[0m\n\u001b[0m\u001b[1;32m     10\u001b[0m     \u001b[0ma\u001b[0m \u001b[0;34m=\u001b[0m \u001b[0mint\u001b[0m\u001b[0;34m(\u001b[0m\u001b[0ma\u001b[0m\u001b[0;34m)\u001b[0m\u001b[0;34m\u001b[0m\u001b[0;34m\u001b[0m\u001b[0m\n\u001b[1;32m     11\u001b[0m     \u001b[0mp\u001b[0m \u001b[0;34m=\u001b[0m \u001b[0mint\u001b[0m\u001b[0;34m(\u001b[0m\u001b[0mp\u001b[0m\u001b[0;34m)\u001b[0m\u001b[0;34m\u001b[0m\u001b[0;34m\u001b[0m\u001b[0m\n",
      "\u001b[0;31mValueError\u001b[0m: not enough values to unpack (expected 3, got 1)"
     ]
    }
   ],
   "source": [
    "import sys\n",
    "sys.setrecursionlimit(1000000)\n",
    "# input = sys.stdin.readline\n",
    "n = int(input())\n",
    "wolves = [0 for _ in range(n+1)]\n",
    "sheeps = {i:0 for i in range(1, n+1)}\n",
    "tree = [[] for _ in range(n+1)]\n",
    "for i in range(2, n+1):\n",
    "    t, a, p = input().split()\n",
    "    a = int(a)\n",
    "    p = int(p)\n",
    "    if t == 'W':\n",
    "        wolves[i] = a\n",
    "    else:\n",
    "        sheeps[i] = a\n",
    "    tree[p].append(i)\n",
    "\n",
    "\n",
    "def dfs(here):\n",
    "    num_sheeps = sheeps[here]\n",
    "    for there in tree[here]:\n",
    "        num_sheeps += dfs(there)\n",
    "    if wolves[here] != 0:\n",
    "        if num_sheeps < wolves[here]:\n",
    "            wolves[here] -= num_sheeps\n",
    "            num_sheeps = 0\n",
    "        else:\n",
    "            num_sheeps -= wolves[here]\n",
    "            wolves[here] = 0\n",
    "    return num_sheeps\n",
    "    \n",
    "print(dfs(1))"
   ]
  },
  {
   "cell_type": "markdown",
   "id": "6fbeacb6",
   "metadata": {},
   "source": [
    "# 1/18 화"
   ]
  },
  {
   "cell_type": "code",
   "execution_count": 3,
   "id": "3da0ca88",
   "metadata": {},
   "outputs": [
    {
     "name": "stdout",
     "output_type": "stream",
     "text": [
      "ZZZZ 36\n",
      "1679615\n"
     ]
    }
   ],
   "source": [
    "N, B = input().split()\n",
    "\n",
    "N = N[::-1]\n",
    "B = int(B)\n",
    "result = 0\n",
    "number = '0123456789ABCDEFGHIJKLMNOPQRSTUVWXYZ'\n",
    "\n",
    "for x in range(len(N)-1, -1, -1):\n",
    "    result += number.index(N[x]) * (B ** x)\n",
    "\n",
    "print(result)"
   ]
  },
  {
   "cell_type": "markdown",
   "id": "2c0b0f18",
   "metadata": {},
   "source": [
    "# 1/19 수"
   ]
  },
  {
   "cell_type": "code",
   "execution_count": 9,
   "id": "f64a4eae",
   "metadata": {},
   "outputs": [
    {
     "name": "stdout",
     "output_type": "stream",
     "text": [
      "4 2\n",
      "1 2\n",
      "1 3\n",
      "1 4\n",
      "2 1\n",
      "2 3\n",
      "2 4\n",
      "3 1\n",
      "3 2\n",
      "3 4\n",
      "4 1\n",
      "4 2\n",
      "4 3\n"
     ]
    }
   ],
   "source": [
    "import sys\n",
    "sys.setrecursionlimit(10 ** 6)\n",
    "n, m = map(int, input().split())\n",
    "ans = [0] * m\n",
    "check = [False] * (n+1)\n",
    "def permutation(index: int) -> None:\n",
    "    if index == m:\n",
    "        print(*ans)\n",
    "        return\n",
    "    \n",
    "    for i in range(1, n+1):\n",
    "        if check[i]:\n",
    "            continue\n",
    "        check[i] = True\n",
    "        ans[index] = i\n",
    "        permutation(index + 1)\n",
    "        check[i] = False\n",
    "permutation(0)"
   ]
  },
  {
   "cell_type": "markdown",
   "id": "9a4f6fbe",
   "metadata": {},
   "source": [
    "## 블록 쌓기\n",
    "https://ddiyeon.tistory.com/64?category=942063"
   ]
  },
  {
   "cell_type": "code",
   "execution_count": 13,
   "id": "81ffa0ca",
   "metadata": {},
   "outputs": [
    {
     "name": "stdout",
     "output_type": "stream",
     "text": [
      "3 3 5\n",
      "2 3 5\n",
      "3 5\n",
      "1 2 3\n",
      "6\n"
     ]
    }
   ],
   "source": [
    "n, m, h = map(int, input().split())\n",
    "dp = [[1] + [0] * h for _ in range(n+1)]\n",
    "for i in range(1, n+1):\n",
    "    dp[i] = dp[i-1].copy()\n",
    "    blocks = list(map(int, input().split()))\n",
    "    for b in blocks:\n",
    "        for j in range(b, h+1):\n",
    "            dp[i][j] += dp[i-1][j-b]\n",
    "print(dp[n][h] % 10007)"
   ]
  },
  {
   "cell_type": "code",
   "execution_count": null,
   "id": "1beb8ec3",
   "metadata": {},
   "outputs": [],
   "source": []
  },
  {
   "cell_type": "code",
   "execution_count": null,
   "id": "c52bc2d8",
   "metadata": {},
   "outputs": [],
   "source": []
  },
  {
   "cell_type": "code",
   "execution_count": null,
   "id": "1c5378e1",
   "metadata": {},
   "outputs": [],
   "source": []
  },
  {
   "cell_type": "code",
   "execution_count": null,
   "id": "2814c863",
   "metadata": {},
   "outputs": [],
   "source": []
  },
  {
   "cell_type": "code",
   "execution_count": null,
   "id": "68a2c75d",
   "metadata": {},
   "outputs": [],
   "source": []
  },
  {
   "cell_type": "code",
   "execution_count": null,
   "id": "0c0ffebf",
   "metadata": {},
   "outputs": [],
   "source": []
  },
  {
   "cell_type": "code",
   "execution_count": null,
   "id": "4e7124c9",
   "metadata": {},
   "outputs": [],
   "source": []
  },
  {
   "cell_type": "code",
   "execution_count": null,
   "id": "a76ea57d",
   "metadata": {},
   "outputs": [],
   "source": []
  },
  {
   "cell_type": "code",
   "execution_count": null,
   "id": "705146c4",
   "metadata": {},
   "outputs": [],
   "source": []
  },
  {
   "cell_type": "code",
   "execution_count": null,
   "id": "a75f8856",
   "metadata": {},
   "outputs": [],
   "source": []
  },
  {
   "cell_type": "code",
   "execution_count": null,
   "id": "7a006975",
   "metadata": {},
   "outputs": [],
   "source": []
  }
 ],
 "metadata": {
  "kernelspec": {
   "display_name": "Python 3",
   "language": "python",
   "name": "python3"
  },
  "language_info": {
   "codemirror_mode": {
    "name": "ipython",
    "version": 3
   },
   "file_extension": ".py",
   "mimetype": "text/x-python",
   "name": "python",
   "nbconvert_exporter": "python",
   "pygments_lexer": "ipython3",
   "version": "3.8.8"
  }
 },
 "nbformat": 4,
 "nbformat_minor": 5
}
