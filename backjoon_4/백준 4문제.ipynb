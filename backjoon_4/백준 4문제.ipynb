{
 "cells": [
  {
   "cell_type": "markdown",
   "id": "5e5e4e28",
   "metadata": {},
   "source": [
    "# 1/11 화"
   ]
  },
  {
   "cell_type": "markdown",
   "id": "d2cee095",
   "metadata": {},
   "source": [
    "## 1668번 트로피 진열"
   ]
  },
  {
   "cell_type": "code",
   "execution_count": 1,
   "id": "e9a1478d",
   "metadata": {},
   "outputs": [
    {
     "name": "stdout",
     "output_type": "stream",
     "text": [
      "5\n",
      "1\n",
      "2\n",
      "5\n",
      "2\n",
      "1\n",
      "3\n",
      "3\n"
     ]
    }
   ],
   "source": [
    "n = int(input())\n",
    "th = [int(input()) for _ in range(n)]\n",
    "\n",
    "def tropy(th: list) -> int:\n",
    "  left, right = 0, n - 1\n",
    "  left_max, right_max = th[left], th[n-1]\n",
    "  left_cnt, right_cnt = 1, 1\n",
    "\n",
    "  while left <= right:\n",
    "    if left_max <= right_max:\n",
    "      if left_max < th[left]:\n",
    "        left_cnt += 1\n",
    "        left_max = th[left]\n",
    "      else:\n",
    "        left += 1\n",
    "\n",
    "    else:\n",
    "      if right_max < th[right]:\n",
    "        right_cnt += 1\n",
    "        right_max = th[right]\n",
    "      else:\n",
    "        right -= 1\n",
    "  \n",
    "  print(left_cnt)\n",
    "  print(right_cnt)\n",
    "\n",
    "tropy(th)"
   ]
  },
  {
   "cell_type": "code",
   "execution_count": 2,
   "id": "9712f118",
   "metadata": {},
   "outputs": [
    {
     "name": "stdout",
     "output_type": "stream",
     "text": [
      "5\n",
      "1\n",
      "2\n",
      "5\n",
      "2\n",
      "1\n",
      "3\n",
      "3\n"
     ]
    }
   ],
   "source": [
    "N = int(input())\n",
    "li = [int(input()) for _ in range(N)]\n",
    "left_cnt = right_cnt = 0\n",
    "left_max = right_max = 0\n",
    "for n in li:\n",
    "    if n > left_max:\n",
    "        left_max = n\n",
    "        left_cnt += 1\n",
    "for n in li[::-1]:\n",
    "    if n > right_max:\n",
    "        right_max = n\n",
    "        right_cnt += 1\n",
    "print(left_cnt)\n",
    "print(right_cnt)"
   ]
  },
  {
   "cell_type": "markdown",
   "id": "54e38480",
   "metadata": {},
   "source": [
    "## 20365 블로그2"
   ]
  },
  {
   "cell_type": "code",
   "execution_count": 3,
   "id": "04f4c69b",
   "metadata": {},
   "outputs": [
    {
     "name": "stdout",
     "output_type": "stream",
     "text": [
      "5\n",
      "BBBRR\n"
     ]
    },
    {
     "data": {
      "text/plain": [
       "3"
      ]
     },
     "execution_count": 3,
     "metadata": {},
     "output_type": "execute_result"
    }
   ],
   "source": [
    "# 무조건 전체를 한 색으로 칠하고 다른 색 개수를 더하는 것으로 잘못 생각\n",
    "\n",
    "from collections import Counter\n",
    "n = int(input())\n",
    "ques_c = input()\n",
    "def question(ques_c: str) -> int:\n",
    "    cnt = 1\n",
    "    question_cnt = Counter(ques_c).most_common(2)\n",
    "    cnt += question_cnt[1][1]\n",
    "    return cnt\n",
    "question(ques_c)"
   ]
  },
  {
   "cell_type": "code",
   "execution_count": 14,
   "id": "87e2f6c9",
   "metadata": {},
   "outputs": [
    {
     "name": "stdout",
     "output_type": "stream",
     "text": [
      "5\n",
      "BBBRR\n",
      "{'B': 1, 'R': 1}\n",
      "2\n"
     ]
    }
   ],
   "source": [
    "n = int(input())\n",
    "s = input()\n",
    "cnt = {'B': 0,'R': 0}\n",
    "cnt[s[0]] += 1\n",
    "for i in range(1,n):\n",
    "    if s[i] != s[i-1]:\n",
    "        cnt[s[i]] += 1\n",
    "print(min(cnt['B'],cnt['R'])+1)"
   ]
  },
  {
   "cell_type": "markdown",
   "id": "b9acb1cf",
   "metadata": {},
   "source": [
    "## 사촌"
   ]
  },
  {
   "cell_type": "code",
   "execution_count": null,
   "id": "c2107e0e",
   "metadata": {},
   "outputs": [],
   "source": [
    "from collections import defaultdict\n",
    "\n",
    "while True:\n",
    "    n,k = map(int,input().split())\n",
    "    if not n and not k:\n",
    "        break\n",
    "    arr = list(map(int,input().split()))\n",
    "    parents = defaultdict(int)\n",
    "    idx=0\n",
    "    for i in range(1,n):\n",
    "        parents[arr[i]] = arr[idx]\n",
    "        if i <n-1 and arr[i]+1 < arr[i+1]:\n",
    "            idx+=1\n",
    "    if parents[parents[k]]:\n",
    "        cnt=0\n",
    "        for node in arr:\n",
    "            if (parents[parents[k]] == parents[parents[node]]) and (parents[k] != parents[node]):\n",
    "                cnt+=1\n",
    "        print(cnt)\n",
    "    else:\n",
    "        print(0)"
   ]
  },
  {
   "cell_type": "code",
   "execution_count": 20,
   "id": "c810561b",
   "metadata": {},
   "outputs": [
    {
     "name": "stdout",
     "output_type": "stream",
     "text": [
      "10 15\n",
      "1 3 4 5 8 9 15 30 31 32\n",
      "5\n"
     ]
    }
   ],
   "source": [
    "from collections import defaultdict\n",
    "\n",
    "n,k = map(int,input().split())\n",
    "arr = list(map(int,input().split()))\n",
    "parents = defaultdict(int)\n",
    "idx=0\n",
    "for i in range(1,n):\n",
    "    parents[arr[i]] = arr[idx]\n",
    "    if i <n-1 and arr[i]+1 < arr[i+1]:\n",
    "        idx+=1\n",
    "if parents[parents[k]]:\n",
    "    cnt=0\n",
    "    for node in arr:\n",
    "        if (parents[parents[k]] == parents[parents[node]]) and (parents[k] != parents[node]):\n",
    "            cnt+=1\n",
    "    print(cnt)\n",
    "else:\n",
    "    print(0)"
   ]
  },
  {
   "cell_type": "code",
   "execution_count": 26,
   "id": "6d9e9212",
   "metadata": {},
   "outputs": [
    {
     "ename": "KeyError",
     "evalue": "1",
     "output_type": "error",
     "traceback": [
      "\u001b[0;31m---------------------------------------------------------------------------\u001b[0m",
      "\u001b[0;31mKeyError\u001b[0m                                  Traceback (most recent call last)",
      "\u001b[0;32m<ipython-input-26-6894068ea2ca>\u001b[0m in \u001b[0;36m<module>\u001b[0;34m\u001b[0m\n\u001b[1;32m      1\u001b[0m \u001b[0mp\u001b[0m \u001b[0;34m=\u001b[0m \u001b[0;34m{\u001b[0m\u001b[0;36m3\u001b[0m\u001b[0;34m:\u001b[0m \u001b[0;36m1\u001b[0m\u001b[0;34m,\u001b[0m  \u001b[0;36m4\u001b[0m\u001b[0;34m:\u001b[0m \u001b[0;36m1\u001b[0m\u001b[0;34m}\u001b[0m\u001b[0;34m\u001b[0m\u001b[0;34m\u001b[0m\u001b[0m\n\u001b[0;32m----> 2\u001b[0;31m \u001b[0mp\u001b[0m\u001b[0;34m[\u001b[0m\u001b[0mp\u001b[0m\u001b[0;34m[\u001b[0m\u001b[0;36m3\u001b[0m\u001b[0;34m]\u001b[0m\u001b[0;34m]\u001b[0m\u001b[0;34m\u001b[0m\u001b[0;34m\u001b[0m\u001b[0m\n\u001b[0m",
      "\u001b[0;31mKeyError\u001b[0m: 1"
     ]
    }
   ],
   "source": [
    "p = {3: 1,  4: 1}\n",
    "p[p[3]]"
   ]
  },
  {
   "cell_type": "code",
   "execution_count": null,
   "id": "5ae9f599",
   "metadata": {},
   "outputs": [],
   "source": []
  },
  {
   "cell_type": "code",
   "execution_count": null,
   "id": "602d904d",
   "metadata": {},
   "outputs": [],
   "source": []
  },
  {
   "cell_type": "code",
   "execution_count": null,
   "id": "f64a4eae",
   "metadata": {},
   "outputs": [],
   "source": []
  }
 ],
 "metadata": {
  "kernelspec": {
   "display_name": "Python 3",
   "language": "python",
   "name": "python3"
  },
  "language_info": {
   "codemirror_mode": {
    "name": "ipython",
    "version": 3
   },
   "file_extension": ".py",
   "mimetype": "text/x-python",
   "name": "python",
   "nbconvert_exporter": "python",
   "pygments_lexer": "ipython3",
   "version": "3.8.8"
  }
 },
 "nbformat": 4,
 "nbformat_minor": 5
}
