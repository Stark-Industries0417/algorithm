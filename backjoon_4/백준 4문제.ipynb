{
 "cells": [
  {
   "cell_type": "markdown",
   "id": "5e5e4e28",
   "metadata": {},
   "source": [
    "# 1/11 화"
   ]
  },
  {
   "cell_type": "markdown",
   "id": "d2cee095",
   "metadata": {},
   "source": [
    "## 1668번 트로피 진열"
   ]
  },
  {
   "cell_type": "code",
   "execution_count": 1,
   "id": "e9a1478d",
   "metadata": {},
   "outputs": [
    {
     "name": "stdout",
     "output_type": "stream",
     "text": [
      "5\n",
      "1\n",
      "2\n",
      "5\n",
      "2\n",
      "1\n",
      "3\n",
      "3\n"
     ]
    }
   ],
   "source": [
    "n = int(input())\n",
    "th = [int(input()) for _ in range(n)]\n",
    "\n",
    "def tropy(th: list) -> int:\n",
    "    left, right = 0, n - 1\n",
    "    left_max, right_max = th[left], th[n-1]\n",
    "    left_cnt, right_cnt = 1, 1\n",
    "    \n",
    "    while left <= right:\n",
    "        if left_max <= right_max:\n",
    "            if left_max < th[left]:    \n",
    "                left_cnt += 1\n",
    "                left_max = th[left]\n",
    "            else:\n",
    "                left += 1\n",
    "\n",
    "        else:\n",
    "            if right_max < th[right]:\n",
    "                right_cnt += 1\n",
    "                right_max = th[right]\n",
    "            else:\n",
    "                right -= 1\n",
    "  \n",
    "    print(left_cnt)\n",
    "    print(right_cnt)\n",
    "\n",
    "tropy(th)"
   ]
  },
  {
   "cell_type": "code",
   "execution_count": 2,
   "id": "9712f118",
   "metadata": {},
   "outputs": [
    {
     "name": "stdout",
     "output_type": "stream",
     "text": [
      "5\n",
      "1\n",
      "2\n",
      "5\n",
      "2\n",
      "1\n",
      "3\n",
      "3\n"
     ]
    }
   ],
   "source": [
    "N = int(input())\n",
    "li = [int(input()) for _ in range(N)]\n",
    "left_cnt = right_cnt = 0\n",
    "left_max = right_max = 0\n",
    "for n in li:\n",
    "    if n > left_max:\n",
    "        left_max = n\n",
    "        left_cnt += 1\n",
    "for n in li[::-1]:\n",
    "    if n > right_max:\n",
    "        right_max = n\n",
    "        right_cnt += 1\n",
    "print(left_cnt)\n",
    "print(right_cnt)"
   ]
  },
  {
   "cell_type": "markdown",
   "id": "54e38480",
   "metadata": {},
   "source": [
    "## 20365번 블로그2"
   ]
  },
  {
   "cell_type": "code",
   "execution_count": 3,
   "id": "04f4c69b",
   "metadata": {},
   "outputs": [
    {
     "name": "stdout",
     "output_type": "stream",
     "text": [
      "5\n",
      "BBBRR\n"
     ]
    },
    {
     "data": {
      "text/plain": [
       "3"
      ]
     },
     "execution_count": 3,
     "metadata": {},
     "output_type": "execute_result"
    }
   ],
   "source": [
    "# 무조건 전체를 한 색으로 칠하고 다른 색 개수를 더하는 것으로 잘못 생각\n",
    "\n",
    "from collections import Counter\n",
    "n = int(input())\n",
    "ques_c = input()\n",
    "def question(ques_c: str) -> int:\n",
    "    cnt = 1\n",
    "    question_cnt = Counter(ques_c).most_common(2)\n",
    "    cnt += question_cnt[1][1]\n",
    "    return cnt\n",
    "question(ques_c)"
   ]
  },
  {
   "cell_type": "code",
   "execution_count": 14,
   "id": "87e2f6c9",
   "metadata": {},
   "outputs": [
    {
     "name": "stdout",
     "output_type": "stream",
     "text": [
      "5\n",
      "BBBRR\n",
      "{'B': 1, 'R': 1}\n",
      "2\n"
     ]
    }
   ],
   "source": [
    "n = int(input())\n",
    "s = input()\n",
    "cnt = {'B': 0,'R': 0}\n",
    "cnt[s[0]] += 1\n",
    "for i in range(1,n):\n",
    "    if s[i] != s[i-1]:\n",
    "        cnt[s[i]] += 1\n",
    "print(min(cnt['B'],cnt['R'])+1)"
   ]
  },
  {
   "cell_type": "markdown",
   "id": "b9acb1cf",
   "metadata": {},
   "source": [
    "## 9489번 사촌"
   ]
  },
  {
   "cell_type": "code",
   "execution_count": null,
   "id": "c2107e0e",
   "metadata": {},
   "outputs": [],
   "source": [
    "from collections import defaultdict\n",
    "\n",
    "while True:\n",
    "    n,k = map(int,input().split())\n",
    "    if not n and not k:\n",
    "        break\n",
    "    arr = list(map(int,input().split()))\n",
    "    parents = defaultdict(int)\n",
    "    idx=0\n",
    "    for i in range(1,n):\n",
    "        parents[arr[i]] = arr[idx]\n",
    "        if i <n-1 and arr[i]+1 < arr[i+1]:\n",
    "            idx+=1\n",
    "    if parents[parents[k]]:\n",
    "        cnt=0\n",
    "        for node in arr:\n",
    "            if (parents[parents[k]] == parents[parents[node]]) and (parents[k] != parents[node]):\n",
    "                cnt+=1\n",
    "        print(cnt)\n",
    "    else:\n",
    "        print(0)"
   ]
  },
  {
   "cell_type": "markdown",
   "id": "0e0886e0",
   "metadata": {},
   "source": [
    "# 1/12 수"
   ]
  },
  {
   "cell_type": "markdown",
   "id": "f392a9c3",
   "metadata": {},
   "source": [
    "## 암호    \n",
    "https://www.acmicpc.net/problem/1718"
   ]
  },
  {
   "cell_type": "code",
   "execution_count": 25,
   "id": "71573021",
   "metadata": {},
   "outputs": [
    {
     "name": "stdout",
     "output_type": "stream",
     "text": [
      "nice day\n",
      "love\n",
      "btgz oet\n"
     ]
    }
   ],
   "source": [
    "text = input()\n",
    "key = input()\n",
    "answer = ''\n",
    "\n",
    "for i in range(len(text)):\n",
    "    if text[i] == ' ':\n",
    "        answer += ' '\n",
    "    else:\n",
    "        answer += chr((ord(text[i]) - ord(key[i%len(key)]) - 1) % 26 + ord('a'))\n",
    "print(answer)"
   ]
  },
  {
   "cell_type": "markdown",
   "id": "e5c200f7",
   "metadata": {},
   "source": [
    "# 1/ 13 목"
   ]
  },
  {
   "cell_type": "markdown",
   "id": "26801d21",
   "metadata": {},
   "source": [
    "## 세로 읽기 10798번\n",
    "https://www.acmicpc.net/problem/10798"
   ]
  },
  {
   "cell_type": "code",
   "execution_count": 30,
   "id": "0a367c09",
   "metadata": {},
   "outputs": [
    {
     "name": "stdout",
     "output_type": "stream",
     "text": [
      "AABCDD\n",
      "afzz\n",
      "09121\n",
      "a8EWg6\n",
      "P5h3kx\n"
     ]
    },
    {
     "data": {
      "text/plain": [
       "'Aa0aPAf985Bz1EhCz2W3D1gkD6x'"
      ]
     },
     "execution_count": 30,
     "metadata": {},
     "output_type": "execute_result"
    }
   ],
   "source": [
    "letters = [input() for _ in range(5)]\n",
    "n = max(letters, key=len)\n",
    "s = ''\n",
    "for i in range(len(n)):\n",
    "    for j in range(5):\n",
    "        try:\n",
    "            s += letters[j][i]\n",
    "        except:\n",
    "            continue\n",
    "s"
   ]
  },
  {
   "cell_type": "markdown",
   "id": "eda76ec0",
   "metadata": {},
   "source": [
    "## 연산자 끼워넣기 O(4 ^ N)\n",
    "https://www.acmicpc.net/problem/15658"
   ]
  },
  {
   "cell_type": "code",
   "execution_count": 62,
   "id": "1e644851",
   "metadata": {},
   "outputs": [
    {
     "name": "stdout",
     "output_type": "stream",
     "text": [
      "3\n",
      "3 4 5\n",
      "2 1 2 1\n",
      "60\n",
      "-5\n"
     ]
    }
   ],
   "source": [
    "# 시간 초과\n",
    "\n",
    "import sys \n",
    "\n",
    "n = int(input())\n",
    "num = list(map(int, input().split()))\n",
    "op_cnt = list(map(int, input().split()))\n",
    "check = [False] * (sum(op_cnt))\n",
    "max_result = -sys.maxsize\n",
    "min_result = sys.maxsize\n",
    "\n",
    "op = ''\n",
    "for i, v in enumerate(op_cnt):\n",
    "    if i == 0:\n",
    "        op += '+' * v\n",
    "    elif i == 1:\n",
    "        op += '-' * v\n",
    "    elif i == 2:\n",
    "        op += '*' * v\n",
    "    else:\n",
    "        op += '/' * v\n",
    "    \n",
    "def operator(index: int, s: int) -> list:\n",
    "    if index == n:\n",
    "        global max_result, min_result\n",
    "        max_result = max(max_result, s)\n",
    "        min_result = min(min_result, s)\n",
    "        return \n",
    "   \n",
    "    for i in range(len(op)):\n",
    "        if check[i]:\n",
    "            continue\n",
    "        \n",
    "        if op[i] == '+':\n",
    "            result = s + num[index]\n",
    "        elif op[i] == '-':\n",
    "            result = s - num[index]\n",
    "        elif op[i] == '*':\n",
    "            result = s * num[index]\n",
    "        elif op[i] == '/':\n",
    "            if s < 0:\n",
    "                result = -s // num[index]\n",
    "                result = -result\n",
    "            else:\n",
    "                result = s // num[index]\n",
    "                \n",
    "        check[i] = True\n",
    "        if result > s or result < s:\n",
    "            operator(index + 1, result)    \n",
    "        check[i] = False\n",
    "        \n",
    "\n",
    "operator(1, num[0])\n",
    "\n",
    "\n",
    "print(max_result)\n",
    "print(min_result)"
   ]
  },
  {
   "cell_type": "code",
   "execution_count": 67,
   "id": "9331dd33",
   "metadata": {},
   "outputs": [
    {
     "name": "stdout",
     "output_type": "stream",
     "text": [
      "6\n",
      "1 2 3 4 5 6\n",
      "3 2 1 1\n",
      "72\n",
      "-48\n"
     ]
    }
   ],
   "source": [
    "# 시간초과 개선\n",
    "import sys \n",
    "\n",
    "n = int(input())\n",
    "num = list(map(int, input().split()))\n",
    "op_cnt = list(map(int, input().split()))\n",
    "max_result = -sys.maxsize\n",
    "min_result = sys.maxsize\n",
    "\n",
    "\n",
    "    \n",
    "def operator(index: int, s: int) -> list:\n",
    "    if index == n:\n",
    "        global max_result, min_result\n",
    "        max_result = max(max_result, s)\n",
    "        min_result = min(min_result, s)\n",
    "        return \n",
    "   \n",
    "    for i in range(len(op_cnt)):\n",
    "        if not op_cnt[i] == 0:\n",
    "            if i == 0:\n",
    "                result = s + num[index]\n",
    "            elif i == 1:\n",
    "                result = s - num[index]\n",
    "            elif i == 2:\n",
    "                result = s * num[index]\n",
    "            else:\n",
    "                if s < 0:\n",
    "                    result = -s // num[index]\n",
    "                    result = -result\n",
    "                else:\n",
    "                    result = s // num[index]\n",
    "\n",
    "            op_cnt[i] -= 1\n",
    "            operator(index + 1, result)    \n",
    "            op_cnt[i] += 1\n",
    "\n",
    "\n",
    "operator(1, num[0])\n",
    "\n",
    "\n",
    "print(max_result)\n",
    "print(min_result)"
   ]
  },
  {
   "cell_type": "markdown",
   "id": "26e36c01",
   "metadata": {},
   "source": [
    "# 1/14 금"
   ]
  },
  {
   "cell_type": "markdown",
   "id": "12b81add",
   "metadata": {},
   "source": [
    "## 디지털 시계\n",
    "https://www.acmicpc.net/problem/1942"
   ]
  },
  {
   "cell_type": "code",
   "execution_count": 42,
   "id": "3c3e1009",
   "metadata": {},
   "outputs": [
    {
     "data": {
      "text/plain": [
       "str"
      ]
     },
     "execution_count": 42,
     "metadata": {},
     "output_type": "execute_result"
    }
   ],
   "source": [
    "import datetime\n",
    "from datetime import timedelta\n",
    "\n",
    "for i in range(3):\n",
    "    start, end = input().split()\n",
    "\n",
    "    stH, stM, stS = map(int, start.split(':'))\n",
    "    edH, edM, edS = map(int, end.split(':'))\n",
    "\n",
    "    stime = datetime.datetime(2021, 1, 1, stH, stM, stS)\n",
    "    tmp_time = stime.strftime('%H%M%S')\n",
    "\n",
    "    sec = 1\n",
    "    cnt = 0\n",
    "    if int(tmp_time) % 3 == 0:\n",
    "        cnt += 1\n",
    "    etime = datetime.datetime(2021, 1, 1, edH, edM, edS)\n",
    "    etime = etime.strftime('%H%M%S')\n",
    "\n",
    "    while True:\n",
    "        if tmp_time == etime:\n",
    "            break\n",
    "        stime = stime + timedelta(seconds=sec)\n",
    "        tmp_time = stime.strftime('%H%M%S')\n",
    "        if int(tmp_time) % 3 == 0:\n",
    "            cnt += 1\n",
    "    print(cnt)"
   ]
  },
  {
   "cell_type": "code",
   "execution_count": null,
   "id": "808210ad",
   "metadata": {},
   "outputs": [],
   "source": []
  },
  {
   "cell_type": "code",
   "execution_count": null,
   "id": "3f8db62b",
   "metadata": {},
   "outputs": [],
   "source": []
  },
  {
   "cell_type": "code",
   "execution_count": null,
   "id": "550d0332",
   "metadata": {},
   "outputs": [],
   "source": []
  },
  {
   "cell_type": "code",
   "execution_count": null,
   "id": "924462d4",
   "metadata": {},
   "outputs": [],
   "source": []
  },
  {
   "cell_type": "code",
   "execution_count": null,
   "id": "7ba65941",
   "metadata": {},
   "outputs": [],
   "source": []
  },
  {
   "cell_type": "code",
   "execution_count": null,
   "id": "79f3a4e9",
   "metadata": {},
   "outputs": [],
   "source": []
  },
  {
   "cell_type": "code",
   "execution_count": null,
   "id": "3da0ca88",
   "metadata": {},
   "outputs": [],
   "source": []
  },
  {
   "cell_type": "code",
   "execution_count": null,
   "id": "2a7c9db1",
   "metadata": {},
   "outputs": [],
   "source": []
  },
  {
   "cell_type": "code",
   "execution_count": null,
   "id": "f64a4eae",
   "metadata": {},
   "outputs": [],
   "source": []
  }
 ],
 "metadata": {
  "kernelspec": {
   "display_name": "Python 3",
   "language": "python",
   "name": "python3"
  },
  "language_info": {
   "codemirror_mode": {
    "name": "ipython",
    "version": 3
   },
   "file_extension": ".py",
   "mimetype": "text/x-python",
   "name": "python",
   "nbconvert_exporter": "python",
   "pygments_lexer": "ipython3",
   "version": "3.8.8"
  }
 },
 "nbformat": 4,
 "nbformat_minor": 5
}
