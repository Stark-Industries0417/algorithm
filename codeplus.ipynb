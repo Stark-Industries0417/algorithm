{
 "cells": [
  {
   "cell_type": "markdown",
   "id": "054f40e2",
   "metadata": {},
   "source": [
    "### 나머지\n",
    "\n",
    "(A X B) % M = ((A % M) X (B % M)) % M\n",
    "<br/>\n",
    "(A + B) % M = ((A % M) + (B % M)) % M\n",
    "\n",
    "0 <= A % M < M\n",
    "0 <= B % M < M      (-)\n",
    "-M <= (A%M - B%M) < M  ( + M)\n",
    "0 <= (A%M - B%M + M) < 2M"
   ]
  },
  {
   "cell_type": "code",
   "execution_count": null,
   "id": "04b2fe2c",
   "metadata": {},
   "outputs": [
    {
     "name": "stdout",
     "output_type": "stream",
     "text": [
      "6\n"
     ]
    }
   ],
   "source": [
    "while True:\n",
    "    try:\n",
    "        n = int(input())\n",
    "    except:\n",
    "        break\n",
    "    num = 0\n",
    "    i = 1\n",
    "    while True:\n",
    "        num = num * 10 + 1\n",
    "        num %= n\n",
    "        if num == 0:\n",
    "            print(i)\n",
    "            break\n",
    "        i += 1"
   ]
  },
  {
   "cell_type": "markdown",
   "id": "2a33db63",
   "metadata": {},
   "source": [
    "### 약수\n"
   ]
  },
  {
   "cell_type": "markdown",
   "id": "86bdda0e",
   "metadata": {},
   "source": [
    "#### 약수의 합 시간 제한 0.5초\n",
    "\n",
    "f(A) = A의 약수의 합   \n",
    "g(N) = f(1) + f(2) + ... + f(N)   \n",
    "1 <= N <= 1000000\n",
    "\n",
    "N이하의 자연수 중 1을 약수로 갖는 수의 개수 == N//1   \n",
    "N이하의 자연수 중 2을 약수로 갖는 수의 개수 == N//2   \n",
    "N이하의 자연수 중 3을 약수로 갖는 수의 개수 == N//3   \n",
    "...   \n",
    "\n",
    "ex) N == 7   \n",
    "1 1 1 1 1 1 1   \n",
    "...2 3 2 5 2 7      \n",
    ".........4....3      \n",
    "...............6       \n",
    "\n",
    "g(N) = N//1 * 1 + N//2 * 2 + N//3 * 3 + ... + N//N * N\n",
    "          \n",
    "  "
   ]
  },
  {
   "cell_type": "code",
   "execution_count": null,
   "id": "2c95c19d",
   "metadata": {},
   "outputs": [],
   "source": [
    "n = int(input())\n",
    "\n",
    "def divisor_sum(n: int) -> int:\n",
    "    ans = 0\n",
    "    for i in rnage(1, n + 1):\n",
    "        ans += n//i * i\n",
    "print(ans)"
   ]
  },
  {
   "cell_type": "markdown",
   "id": "e219d0c3",
   "metadata": {},
   "source": [
    "테스크 케이스 있을 시"
   ]
  },
  {
   "cell_type": "code",
   "execution_count": 5,
   "id": "05604baf",
   "metadata": {},
   "outputs": [
    {
     "name": "stdout",
     "output_type": "stream",
     "text": [
      "[0, 0, 3, 4, 7, 6, 12, 8]\n"
     ]
    }
   ],
   "source": [
    "# 약수 방식으로 구하는 것은 O(n^2)\n",
    "d = [0] *8\n",
    "n = 7\n",
    "for i in range(2, n+1):\n",
    "    for j in range(1, i+1):\n",
    "        if i % j == 0:\n",
    "            d[i] += j\n",
    "print(d)"
   ]
  },
  {
   "cell_type": "code",
   "execution_count": 8,
   "id": "c6d5ef5f",
   "metadata": {},
   "outputs": [
    {
     "name": "stdout",
     "output_type": "stream",
     "text": [
      "[1, 1, 3, 4, 7, 6, 12, 8]\n"
     ]
    }
   ],
   "source": [
    "# 배수 O(NlogN)\n",
    "d = [1] * 8\n",
    "n = 7\n",
    "for i in range(2, n+1):\n",
    "    j = 1\n",
    "    while i * j <= n:\n",
    "        d[i*j] += i;\n",
    "        j += 1\n",
    "print(d)        "
   ]
  },
  {
   "cell_type": "code",
   "execution_count": 11,
   "id": "26c47ddc",
   "metadata": {},
   "outputs": [
    {
     "name": "stdout",
     "output_type": "stream",
     "text": [
      "3\n",
      "4\n",
      "5\n",
      "6\n",
      "15\n",
      "21\n",
      "33\n"
     ]
    }
   ],
   "source": [
    "# O(NlogN + T)\n",
    "MAX = 1000000\n",
    "d = [1] * (MAX + 1)\n",
    "s = [0] * (MAX + 1)\n",
    "for i in range(2, MAX+1): # O(NlogN)\n",
    "    j = 1\n",
    "    while i*j <= MAX:\n",
    "        d[i*j] += i\n",
    "        j += 1\n",
    "for i in range(1, MAX+1): # O(N)\n",
    "    s[i] = s[i-1] + d[i]\n",
    "    \n",
    "t = int(input())\n",
    "ans = []\n",
    "for _ in range(t):   # O(T)\n",
    "    n = int(input())\n",
    "    ans.append(s[n])\n",
    "print('\\n'.join(map(str, ans)))"
   ]
  },
  {
   "cell_type": "code",
   "execution_count": null,
   "id": "35747e20",
   "metadata": {},
   "outputs": [],
   "source": []
  },
  {
   "cell_type": "code",
   "execution_count": null,
   "id": "d02dfa96",
   "metadata": {},
   "outputs": [],
   "source": []
  },
  {
   "cell_type": "code",
   "execution_count": null,
   "id": "c5aaed1d",
   "metadata": {},
   "outputs": [],
   "source": []
  },
  {
   "cell_type": "code",
   "execution_count": null,
   "id": "c6e3dd9f",
   "metadata": {},
   "outputs": [],
   "source": []
  },
  {
   "cell_type": "code",
   "execution_count": null,
   "id": "034355d0",
   "metadata": {},
   "outputs": [],
   "source": []
  },
  {
   "cell_type": "code",
   "execution_count": null,
   "id": "88dba087",
   "metadata": {},
   "outputs": [],
   "source": []
  },
  {
   "cell_type": "code",
   "execution_count": null,
   "id": "e49b39e8",
   "metadata": {},
   "outputs": [],
   "source": []
  },
  {
   "cell_type": "code",
   "execution_count": null,
   "id": "c549b6f9",
   "metadata": {},
   "outputs": [],
   "source": []
  }
 ],
 "metadata": {
  "kernelspec": {
   "display_name": "Python 3",
   "language": "python",
   "name": "python3"
  },
  "language_info": {
   "codemirror_mode": {
    "name": "ipython",
    "version": 3
   },
   "file_extension": ".py",
   "mimetype": "text/x-python",
   "name": "python",
   "nbconvert_exporter": "python",
   "pygments_lexer": "ipython3",
   "version": "3.8.8"
  }
 },
 "nbformat": 4,
 "nbformat_minor": 5
}
