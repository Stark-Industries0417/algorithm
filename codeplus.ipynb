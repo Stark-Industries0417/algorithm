{
 "cells": [
  {
   "cell_type": "markdown",
   "id": "054f40e2",
   "metadata": {},
   "source": [
    "### 나머지\n",
    "\n",
    "(A X B) % M = ((A % M) X (B % M)) % M\n",
    "<br/>\n",
    "(A + B) % M = ((A % M) + (B % M)) % M\n",
    "\n",
    "0 <= A % M < M\n",
    "0 <= B % M < M      (-)\n",
    "-M <= (A%M - B%M) < M  ( + M)\n",
    "0 <= (A%M - B%M + M) < 2M"
   ]
  },
  {
   "cell_type": "code",
   "execution_count": null,
   "id": "04b2fe2c",
   "metadata": {},
   "outputs": [
    {
     "name": "stdout",
     "output_type": "stream",
     "text": [
      "6\n"
     ]
    }
   ],
   "source": [
    "while True:\n",
    "    try:\n",
    "        n = int(input())\n",
    "    except:\n",
    "        break\n",
    "    num = 0\n",
    "    i = 1\n",
    "    while True:\n",
    "        num = num * 10 + 1\n",
    "        num %= n\n",
    "        if num == 0:\n",
    "            print(i)\n",
    "            break\n",
    "        i += 1"
   ]
  },
  {
   "cell_type": "markdown",
   "id": "2a33db63",
   "metadata": {},
   "source": [
    "### 약수\n"
   ]
  },
  {
   "cell_type": "markdown",
   "id": "86bdda0e",
   "metadata": {},
   "source": [
    "#### 약수의 합 시간 제한 0.5초\n",
    "\n",
    "f(A) = A의 약수의 합   \n",
    "g(N) = f(1) + f(2) + ... + f(N)   \n",
    "1 <= N <= 1000000\n",
    "\n",
    "N이하의 자연수 중 1을 약수로 갖는 수의 개수 == N//1   \n",
    "N이하의 자연수 중 2을 약수로 갖는 수의 개수 == N//2   \n",
    "N이하의 자연수 중 3을 약수로 갖는 수의 개수 == N//3   \n",
    "...   \n",
    "\n",
    "ex) N == 7   \n",
    "1 1 1 1 1 1 1   \n",
    "...2 3 2 5 2 7      \n",
    ".........4....3      \n",
    "...............6       \n",
    "\n",
    "g(N) = N//1 * 1 + N//2 * 2 + N//3 * 3 + ... + N//N * N\n",
    "          \n",
    "  "
   ]
  },
  {
   "cell_type": "code",
   "execution_count": null,
   "id": "2c95c19d",
   "metadata": {},
   "outputs": [],
   "source": [
    "n = int(input())\n",
    "\n",
    "def divisor_sum(n: int) -> int:\n",
    "    ans = 0\n",
    "    for i in range(1, n + 1):\n",
    "        ans += n//i * i\n",
    "print(ans)"
   ]
  },
  {
   "cell_type": "markdown",
   "id": "e219d0c3",
   "metadata": {},
   "source": [
    "테스크 케이스 있을 시"
   ]
  },
  {
   "cell_type": "code",
   "execution_count": 5,
   "id": "05604baf",
   "metadata": {},
   "outputs": [
    {
     "name": "stdout",
     "output_type": "stream",
     "text": [
      "[0, 0, 3, 4, 7, 6, 12, 8]\n"
     ]
    }
   ],
   "source": [
    "# 약수 방식으로 구하는 것은 O(n^2)\n",
    "d = [0] *8\n",
    "n = 7\n",
    "for i in range(2, n+1):\n",
    "    for j in range(1, i+1):\n",
    "        if i % j == 0:\n",
    "            d[i] += j\n",
    "print(d)"
   ]
  },
  {
   "cell_type": "code",
   "execution_count": 8,
   "id": "c6d5ef5f",
   "metadata": {},
   "outputs": [
    {
     "name": "stdout",
     "output_type": "stream",
     "text": [
      "[1, 1, 3, 4, 7, 6, 12, 8]\n"
     ]
    }
   ],
   "source": [
    "# 배수 O(NlogN)\n",
    "d = [1] * 8\n",
    "n = 7\n",
    "for i in range(2, n+1):\n",
    "    j = 1\n",
    "    while i * j <= n:\n",
    "        d[i*j] += i;\n",
    "        j += 1\n",
    "print(d)        "
   ]
  },
  {
   "cell_type": "code",
   "execution_count": 11,
   "id": "26c47ddc",
   "metadata": {},
   "outputs": [
    {
     "name": "stdout",
     "output_type": "stream",
     "text": [
      "3\n",
      "4\n",
      "5\n",
      "6\n",
      "15\n",
      "21\n",
      "33\n"
     ]
    }
   ],
   "source": [
    "# O(NlogN + T)\n",
    "MAX = 1000000\n",
    "d = [1] * (MAX + 1)\n",
    "s = [0] * (MAX + 1)\n",
    "for i in range(2, MAX+1): # O(NlogN)\n",
    "    j = 1\n",
    "    while i*j <= MAX:\n",
    "        d[i*j] += i\n",
    "        j += 1\n",
    "for i in range(1, MAX+1): # O(N)\n",
    "    s[i] = s[i-1] + d[i]\n",
    "    \n",
    "t = int(input())\n",
    "ans = []\n",
    "for _ in range(t):   # O(T)\n",
    "    n = int(input())\n",
    "    ans.append(s[n])\n",
    "print('\\n'.join(map(str, ans)))"
   ]
  },
  {
   "cell_type": "markdown",
   "id": "fd619a05",
   "metadata": {},
   "source": [
    "### 최대공약수"
   ]
  },
  {
   "cell_type": "code",
   "execution_count": 9,
   "id": "d02dfa96",
   "metadata": {},
   "outputs": [
    {
     "name": "stdout",
     "output_type": "stream",
     "text": [
      "72 30\n",
      "6\n"
     ]
    }
   ],
   "source": [
    "def gcd(x: int, y: int) -> int:\n",
    "    if y == 0:\n",
    "        return x\n",
    "    else:\n",
    "        return gcd(y, x%y)\n",
    "a, b = map(int, input().split())\n",
    "g = gcd(a, b)\n",
    "print(g)"
   ]
  },
  {
   "cell_type": "code",
   "execution_count": 20,
   "id": "c5aaed1d",
   "metadata": {},
   "outputs": [
    {
     "name": "stdout",
     "output_type": "stream",
     "text": [
      "2 10\n",
      "2\n",
      "3\n",
      "5\n",
      "7\n"
     ]
    }
   ],
   "source": [
    "# 에라토스테네스의 체\n",
    "\n",
    "MAX = 1000\n",
    "check = [True] * (MAX + 1)\n",
    "check [0] = check[1] = False\n",
    "\n",
    "for i in range(2, MAX+1):\n",
    "    if check[i]:\n",
    "        j = i ** 2\n",
    "        while j <= MAX:\n",
    "            check[j] = False\n",
    "            j += i\n",
    "\n",
    "m, n = map(int, input().split())\n",
    "for i in range(m, n+1):\n",
    "    if check[i]:\n",
    "        print(i)"
   ]
  },
  {
   "cell_type": "code",
   "execution_count": 11,
   "id": "c6e3dd9f",
   "metadata": {},
   "outputs": [
    {
     "name": "stdout",
     "output_type": "stream",
     "text": [
      "2 3 5 7 11 13 17 19 23 29 31 37 41 43 47 53 59 61 67 71 73 79 83 89 97 "
     ]
    }
   ],
   "source": [
    "import math\n",
    "\n",
    "MAX = 100\n",
    "array = [True for _ in range(MAX+1)]\n",
    "\n",
    "for i in range(2, int(math.sqrt(MAX)) + 1):\n",
    "    if array[i]:\n",
    "        j = 2\n",
    "        while i * j <= MAX:\n",
    "            array[i * j] = False\n",
    "            j += 1\n",
    "for i in range(2, MAX + 1):\n",
    "    if array[i]:\n",
    "        print(i, end=' ')"
   ]
  },
  {
   "cell_type": "code",
   "execution_count": 21,
   "id": "2064493c",
   "metadata": {},
   "outputs": [
    {
     "name": "stdout",
     "output_type": "stream",
     "text": [
      "10\n",
      "10 = 3 + 7\n",
      "0\n"
     ]
    }
   ],
   "source": [
    "# 골드바흐의 추측\n",
    "\n",
    "MAX = 1000000\n",
    "check = [True] * (MAX + 1)\n",
    "check[0] = check[1] = False\n",
    "prime = []\n",
    "for i in range(2, MAX+1):\n",
    "    if check[i]:\n",
    "        prime.append(i)\n",
    "        j = i ** 2\n",
    "        while j <= MAX:\n",
    "            check[j] = False\n",
    "            j += i\n",
    "prime = prime[1:]\n",
    "while True:\n",
    "    n = int(input())\n",
    "    if n == 0:\n",
    "         break\n",
    "    for p in prime:\n",
    "        if check[n-p]:\n",
    "            print(f'{n} = {p} + {n-p}')\n",
    "            break"
   ]
  },
  {
   "cell_type": "code",
   "execution_count": 73,
   "id": "9d71666c",
   "metadata": {},
   "outputs": [
    {
     "data": {
      "text/plain": [
       "[1, 2, 4, 5]"
      ]
     },
     "execution_count": 73,
     "metadata": {},
     "output_type": "execute_result"
    }
   ],
   "source": [
    "a = [1, 2, 3, 4, 5]\n",
    "\n",
    "a"
   ]
  },
  {
   "cell_type": "code",
   "execution_count": null,
   "id": "b1bdabd2",
   "metadata": {},
   "outputs": [],
   "source": [
    "# remove 로 삭제한 후 인덱스가 줄어들어 out of index 오류 났었음.\n",
    "for i in range(8):\n",
    "        for j in range(i+1, 9):\n",
    "            print(i, j)\n",
    "            if sum(talls) - (talls[i] + talls[j]) == 100:\n",
    "                talls.remove(talls[i])\n",
    "                talls.remove(talls[j])\n",
    "                break\n",
    "                "
   ]
  },
  {
   "cell_type": "code",
   "execution_count": 90,
   "id": "a0441ef5",
   "metadata": {
    "scrolled": false
   },
   "outputs": [
    {
     "name": "stdout",
     "output_type": "stream",
     "text": [
      "20\n",
      "7\n",
      "23\n",
      "19\n",
      "10\n",
      "15\n",
      "25\n",
      "8\n",
      "13\n",
      "7\n",
      "8\n",
      "10\n",
      "13\n",
      "19\n",
      "20\n",
      "23\n"
     ]
    }
   ],
   "source": [
    "# 일곱 난쟁이 브루트 포스\n",
    "\n",
    "talls = [int(input()) for _ in range(9)]\n",
    "\n",
    "def dwarfs(talls: list) -> None:\n",
    "    fake_dwarfs = []\n",
    "    for i in range(8):\n",
    "        for j in range(i+1, 9):\n",
    "            if sum(talls) - (talls[i] + talls[j]) == 100:\n",
    "                fake_dwarfs.append(talls[i])\n",
    "                fake_dwarfs.append(talls[j])\n",
    "    talls.remove(fake_dwarfs[0])\n",
    "    talls.remove(fake_dwarfs[1])\n",
    "    talls.sort()\n",
    "    \n",
    "    for tall in talls:\n",
    "        print(tall)\n",
    "        \n",
    "dwarfs(talls)"
   ]
  },
  {
   "cell_type": "code",
   "execution_count": 92,
   "id": "31738684",
   "metadata": {},
   "outputs": [
    {
     "name": "stdout",
     "output_type": "stream",
     "text": [
      "20\n",
      "7\n",
      "13\n",
      "19\n",
      "10\n",
      "15\n",
      "25\n",
      "8\n",
      "13\n",
      "7\n",
      "8\n",
      "13\n",
      "13\n",
      "15\n",
      "19\n",
      "25\n"
     ]
    }
   ],
   "source": [
    "# 일곱 난쟁이 조회\n",
    "talls = [int(input()) for _ in range(9)]\n",
    "\n",
    "def dwarfs(talls: list) -> None:\n",
    "    talls_dict = {}\n",
    "    talls_sum = sum(talls) - 100\n",
    "\n",
    "    for i, v in enumerate(talls):\n",
    "        if talls_sum - v in talls_dict:\n",
    "            talls.pop(i)\n",
    "            talls.pop(talls_dict[talls_sum - v])\n",
    "        talls_dict[v] = i\n",
    "     \n",
    "    talls.sort()\n",
    "    for tall in talls:\n",
    "        print(tall)\n",
    "    \n",
    "dwarfs(talls)"
   ]
  },
  {
   "cell_type": "code",
   "execution_count": 27,
   "id": "e57d695b",
   "metadata": {},
   "outputs": [
    {
     "name": "stdout",
     "output_type": "stream",
     "text": [
      "4\n",
      "PPPP\n",
      "CYZY\n",
      "CCPY\n",
      "PPCC\n",
      "4\n"
     ]
    }
   ],
   "source": [
    "### 사탕 찾기\n",
    "def check(a):\n",
    "    global ans\n",
    "    n = len(a)\n",
    "    for i in range(n):\n",
    "        cnt = 1\n",
    "        for j in range(1, n):\n",
    "            if a[i][j] == a[i][j-1]:\n",
    "                cnt += 1\n",
    "            else:\n",
    "                cnt = 1\n",
    "            if ans < cnt:\n",
    "                ans = cnt\n",
    "        cnt = 1\n",
    "        for j in range(1, n):\n",
    "            if a[j][i] == a[j-1][i]:\n",
    "                cnt += 1\n",
    "            else:\n",
    "                cnt = 1\n",
    "            if ans < cnt:\n",
    "                ans = cnt\n",
    "                \n",
    "    return ans\n",
    "\n",
    "n = int(input())\n",
    "a = [list(input()) for _ in range(n)]\n",
    "ans = 0\n",
    "for i in range(n):\n",
    "    for j in range(n):\n",
    "        if j+1 <n:\n",
    "            a[i][j], a[i][j+1] = a[i][j+1], a[i][j]\n",
    "            temp = check(a)\n",
    "            if ans < temp:\n",
    "                ans = temp\n",
    "            a[i][j], a[i][j+1] = a[i][j+1], a[i][j]\n",
    "            \n",
    "        if i+1 < n:\n",
    "            a[i][j], a[i+1][j] = a[i+1][j], a[i][j]\n",
    "            temp = check(a)\n",
    "            if ans < temp:\n",
    "                ans = temp\n",
    "            a[i][j], a[i+1][j] = a[i+1][j], a[i][j]\n",
    "print(ans)            "
   ]
  },
  {
   "cell_type": "code",
   "execution_count": null,
   "id": "b228edd8",
   "metadata": {},
   "outputs": [],
   "source": [
    "# 날짜 계산\n",
    "\n",
    "E, S, M = map(int, input().split())\n",
    "e, s, m = 1, 1, 1\n",
    "year = 1\n",
    "\n",
    "while True:\n",
    "    if e == E and s == S and m == M:\n",
    "        print(year)\n",
    "        break\n",
    "    e += 1\n",
    "    s += 1\n",
    "    m += 1\n",
    "    if e == 16:\n",
    "        e = 1\n",
    "    if s == 29:\n",
    "        s = 1\n",
    "    if m == 20:\n",
    "        m = 1\n",
    "    year += 1"
   ]
  },
  {
   "cell_type": "code",
   "execution_count": null,
   "id": "f08f86b1",
   "metadata": {},
   "outputs": [],
   "source": [
    "e, s, m = map(int, input().split())\n",
    "e -= 1\n",
    "s -= 1\n",
    "m -= 1\n",
    "year = 0\n",
    "\n",
    "while True:\n",
    "    if year % 15 == e and year % 28 == s and year % 19 == m:\n",
    "        "
   ]
  },
  {
   "cell_type": "code",
   "execution_count": null,
   "id": "e856250d",
   "metadata": {},
   "outputs": [],
   "source": [
    "# 리모컨 \n",
    "\n",
    "n = int(input())\n",
    "m = int(input())\n",
    "broken = [False] * 10\n",
    "\n",
    "if m > 0:\n",
    "    button = list(map(int, input().split()))\n",
    "for x in button:\n",
    "    broken[x] = True\n",
    "\n",
    "def possible(chanel):\n",
    "    if chanel == 0:\n",
    "        if broken[0]:\n",
    "            return 0\n",
    "        else:\n",
    "            return 1\n",
    "    l = 0\n",
    "    while chanel > 0:\n",
    "        if broken[chanel % 10]:\n",
    "            return 0\n",
    "        l += 1\n",
    "        chanel //= 10\n",
    "    return l\n",
    "\n",
    "ans = abs(n - 100)\n",
    "for chanel in range(1000001):\n",
    "    l = possible(chanel)\n",
    "    if l > 0:\n",
    "        press = abs(chanel - n)\n",
    "        if ans > l + press:\n",
    "            ans = l + press\n",
    "print(ans)"
   ]
  },
  {
   "cell_type": "code",
   "execution_count": 2,
   "id": "96b129be",
   "metadata": {},
   "outputs": [
    {
     "name": "stdout",
     "output_type": "stream",
     "text": [
      "5 7 4 3\n",
      "24\n"
     ]
    }
   ],
   "source": [
    "# 카잉 달력\n",
    "\n",
    "m, n, x, y = map(int, input().split())\n",
    "x -= 1\n",
    "y-= 1\n",
    "k = x\n",
    "\n",
    "while k < n * m:\n",
    "    if k % n == y:\n",
    "        print(k+1)        break\n",
    "    k += m\n",
    "\n",
    "else:\n",
    "    print(-1)\n"
   ]
  },
  {
   "cell_type": "code",
   "execution_count": null,
   "id": "b7727a2c",
   "metadata": {},
   "outputs": [],
   "source": [
    "# n 자리 숫자의 개수\n",
    "\n",
    "n = int(input())\n",
    "ans = 0\n",
    "start = 1\n",
    "length = 1\n",
    "while start <= n:\n",
    "    end = start*10 - 1\n",
    "    if end > n:\n",
    "        end = n\n",
    "    ans += (end - start + 1) * length\n",
    "    start *= 10\n",
    "    length += 1\n",
    "print(ans)\n"
   ]
  },
  {
   "cell_type": "code",
   "execution_count": null,
   "id": "40437a4f",
   "metadata": {},
   "outputs": [],
   "source": []
  },
  {
   "cell_type": "code",
   "execution_count": null,
   "id": "1c36f7b1",
   "metadata": {},
   "outputs": [],
   "source": []
  },
  {
   "cell_type": "code",
   "execution_count": null,
   "id": "1fb1cd39",
   "metadata": {},
   "outputs": [],
   "source": []
  },
  {
   "cell_type": "code",
   "execution_count": null,
   "id": "877708bc",
   "metadata": {},
   "outputs": [],
   "source": []
  },
  {
   "cell_type": "code",
   "execution_count": null,
   "id": "ebc55dbd",
   "metadata": {},
   "outputs": [],
   "source": []
  },
  {
   "cell_type": "code",
   "execution_count": null,
   "id": "82af6a0f",
   "metadata": {},
   "outputs": [],
   "source": []
  },
  {
   "cell_type": "code",
   "execution_count": null,
   "id": "a424db13",
   "metadata": {},
   "outputs": [],
   "source": []
  },
  {
   "cell_type": "code",
   "execution_count": null,
   "id": "e49b39e8",
   "metadata": {},
   "outputs": [],
   "source": []
  },
  {
   "cell_type": "code",
   "execution_count": null,
   "id": "c549b6f9",
   "metadata": {},
   "outputs": [],
   "source": []
  }
 ],
 "metadata": {
  "kernelspec": {
   "display_name": "Python 3",
   "language": "python",
   "name": "python3"
  },
  "language_info": {
   "codemirror_mode": {
    "name": "ipython",
    "version": 3
   },
   "file_extension": ".py",
   "mimetype": "text/x-python",
   "name": "python",
   "nbconvert_exporter": "python",
   "pygments_lexer": "ipython3",
   "version": "3.8.8"
  }
 },
 "nbformat": 4,
 "nbformat_minor": 5
}
