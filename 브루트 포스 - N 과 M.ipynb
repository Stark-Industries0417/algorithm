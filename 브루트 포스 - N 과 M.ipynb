{
 "cells": [
  {
   "cell_type": "code",
   "execution_count": 4,
   "id": "e81159ab",
   "metadata": {},
   "outputs": [
    {
     "data": {
      "text/plain": [
       "5"
      ]
     },
     "execution_count": 4,
     "metadata": {},
     "output_type": "execute_result"
    }
   ],
   "source": [
    "a = [0] * 5\n",
    "len(a)"
   ]
  },
  {
   "cell_type": "code",
   "execution_count": 16,
   "id": "15da3ff5",
   "metadata": {
    "scrolled": true
   },
   "outputs": [
    {
     "name": "stdout",
     "output_type": "stream",
     "text": [
      "4 2\n",
      "[1, 2]\n",
      "[1, 3]\n",
      "[1, 4]\n",
      "[2, 1]\n",
      "[2, 3]\n",
      "[2, 4]\n",
      "[3, 1]\n",
      "[3, 2]\n",
      "[3, 4]\n",
      "[4, 1]\n",
      "[4, 2]\n",
      "[4, 3]\n"
     ]
    }
   ],
   "source": [
    "#  n 과 m 1 nPm o(n!)\n",
    "\n",
    "n, m = map(int, input().split())\n",
    "c = [False] * (n + 1)\n",
    "a = [0] * (m)\n",
    "\n",
    "def permutation(index: int, n: int, m: int) -> list:\n",
    "    if index == m:\n",
    "        print(a)\n",
    "        return\n",
    "    \n",
    "    for i in range(1, n + 1):\n",
    "        if c[i]:\n",
    "            continue\n",
    "        \n",
    "        c[i] = True\n",
    "        a[index] = i\n",
    "        go(index + 1, n, m)\n",
    "        c[i] = False\n",
    "\n",
    "permutation(0, n, m)"
   ]
  },
  {
   "cell_type": "code",
   "execution_count": 17,
   "id": "10111b51",
   "metadata": {
    "scrolled": true
   },
   "outputs": [
    {
     "name": "stdout",
     "output_type": "stream",
     "text": [
      "4 2\n",
      "[1, 2]\n",
      "[1, 3]\n",
      "[1, 4]\n",
      "[2, 3]\n",
      "[2, 4]\n",
      "[3, 4]\n"
     ]
    }
   ],
   "source": [
    "# n과 m 2 nCm \n",
    "\n",
    "n, m = map(int, input().split())\n",
    "c = [False] * (n + 1)\n",
    "a = [0] * (m)\n",
    "\n",
    "def permutation(index: int, start: int, n: int, m: int) -> list:\n",
    "    if index == m:\n",
    "        print(a)\n",
    "        return\n",
    "    \n",
    "    for i in range(start , n + 1):\n",
    "        if c[i]:\n",
    "            continue\n",
    "        \n",
    "        c[i] = True\n",
    "        a[index] = i\n",
    "        permutation(index + 1, i + 1, n, m)\n",
    "        c[i] = False\n",
    "\n",
    "permutation(0, 1, n, m)"
   ]
  },
  {
   "cell_type": "code",
   "execution_count": 19,
   "id": "78406c00",
   "metadata": {},
   "outputs": [
    {
     "name": "stdout",
     "output_type": "stream",
     "text": [
      "4 2\n",
      "[1, 2]\n",
      "[1, 3]\n",
      "[1, 4]\n",
      "[2, 3]\n",
      "[2, 4]\n",
      "[3, 4]\n"
     ]
    }
   ],
   "source": [
    "#  n 과 m 2 nCm o(2^n)\n",
    "\n",
    "n, m = map(int, input().split())\n",
    "a = [0] * m\n",
    "\n",
    "def go(num: int, selected: int, n: int, m: int) -> list:\n",
    "    if selected == m:\n",
    "        print(a)\n",
    "        return\n",
    "    if num > n:\n",
    "        return\n",
    "    a[selected] = num\n",
    "    go(num + 1, selected + 1, n, m)\n",
    "    a[selected] = 0\n",
    "    go(num + 1, selected, n, m)\n",
    "    \n",
    "go(1, 0, n, m)"
   ]
  },
  {
   "cell_type": "code",
   "execution_count": 21,
   "id": "9d382876",
   "metadata": {},
   "outputs": [
    {
     "name": "stdout",
     "output_type": "stream",
     "text": [
      "4 2\n",
      "[1, 1]\n",
      "[1, 2]\n",
      "[1, 3]\n",
      "[1, 4]\n",
      "[2, 1]\n",
      "[2, 2]\n",
      "[2, 3]\n",
      "[2, 4]\n",
      "[3, 1]\n",
      "[3, 2]\n",
      "[3, 3]\n",
      "[3, 4]\n",
      "[4, 1]\n",
      "[4, 2]\n",
      "[4, 3]\n",
      "[4, 4]\n"
     ]
    }
   ],
   "source": [
    "#  n 과 m 3 nHm o(n^m)\n",
    "\n",
    "n, m = map(int, input().split())\n",
    "c = [False] * (n + 1)\n",
    "a = [0] * (m)\n",
    "\n",
    "def permutation_repetition(index: int, n: int, m: int) -> list:\n",
    "    if index == m:\n",
    "        print(a)\n",
    "        return\n",
    "    \n",
    "    for i in range(1, n + 1):  \n",
    "#         if c[i]:\n",
    "#             continue\n",
    "        c[i] = True\n",
    "        a[index] = i\n",
    "        permutation_repetition(index + 1, n, m)\n",
    "        c[i] = False\n",
    "\n",
    "permutation_repetition(0, n, m)"
   ]
  },
  {
   "cell_type": "code",
   "execution_count": null,
   "id": "aa1dd980",
   "metadata": {},
   "outputs": [],
   "source": [
    "#  n 과 m 4 중복 순열 비 내림차순\n",
    "\n",
    "n, m = map(int, input().split())\n",
    "c = [False] * (n + 1)\n",
    "a = [0] * (m)\n",
    "\n",
    "def permutation_repetition(index: int, start: int, n: int, m: int) -> list:\n",
    "    if index == m:\n",
    "        print(a)\n",
    "        return\n",
    "    \n",
    "    for i in range(start , n + 1):\n",
    "#         if c[i]:\n",
    "#             continue\n",
    "        \n",
    "        c[i] = True\n",
    "        a[index] = i\n",
    "        permutation_repetition(index + 1, i, n, m)\n",
    "        c[i] = False\n",
    "\n",
    "permutation_repetition(0, 1, n, m)"
   ]
  },
  {
   "cell_type": "code",
   "execution_count": null,
   "id": "b0e9943d",
   "metadata": {},
   "outputs": [],
   "source": [
    "# n 과 m 4\n",
    "n, m = map(int, input().split())\n",
    "a = [0] * m\n",
    "\n",
    "def permutation_repetition(num: int, selected: int, n: int, m: int) -> list:\n",
    "    if selected == m:\n",
    "        print(a)\n",
    "        return\n",
    "    if num > n:\n",
    "        return\n",
    "    for i in range(m-selected, 0, -1):\n",
    "        a[num] = i\n",
    "        permutation_repetition(num + 1, selected + i, n, m)\n",
    "    a[num] = 0\n",
    "    permutation_repetition(num + 1, selected, n, m)\n",
    "    \n",
    "permutation_repetition(1, 0, n, m)"
   ]
  },
  {
   "cell_type": "code",
   "execution_count": null,
   "id": "513903ce",
   "metadata": {},
   "outputs": [],
   "source": []
  },
  {
   "cell_type": "code",
   "execution_count": null,
   "id": "dbb15738",
   "metadata": {},
   "outputs": [],
   "source": []
  },
  {
   "cell_type": "code",
   "execution_count": null,
   "id": "f42112aa",
   "metadata": {},
   "outputs": [],
   "source": []
  },
  {
   "cell_type": "code",
   "execution_count": null,
   "id": "0bcbfdc0",
   "metadata": {},
   "outputs": [],
   "source": []
  },
  {
   "cell_type": "code",
   "execution_count": null,
   "id": "6076c0fc",
   "metadata": {},
   "outputs": [],
   "source": []
  },
  {
   "cell_type": "code",
   "execution_count": null,
   "id": "c7826227",
   "metadata": {},
   "outputs": [],
   "source": []
  },
  {
   "cell_type": "code",
   "execution_count": null,
   "id": "ace60e22",
   "metadata": {},
   "outputs": [],
   "source": []
  },
  {
   "cell_type": "code",
   "execution_count": null,
   "id": "3028f257",
   "metadata": {},
   "outputs": [],
   "source": []
  },
  {
   "cell_type": "code",
   "execution_count": null,
   "id": "8e861c8b",
   "metadata": {},
   "outputs": [],
   "source": []
  },
  {
   "cell_type": "code",
   "execution_count": null,
   "id": "625c774f",
   "metadata": {},
   "outputs": [],
   "source": []
  }
 ],
 "metadata": {
  "kernelspec": {
   "display_name": "Python 3",
   "language": "python",
   "name": "python3"
  },
  "language_info": {
   "codemirror_mode": {
    "name": "ipython",
    "version": 3
   },
   "file_extension": ".py",
   "mimetype": "text/x-python",
   "name": "python",
   "nbconvert_exporter": "python",
   "pygments_lexer": "ipython3",
   "version": "3.8.8"
  }
 },
 "nbformat": 4,
 "nbformat_minor": 5
}
