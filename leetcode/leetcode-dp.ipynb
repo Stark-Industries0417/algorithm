{
 "cells": [
  {
   "attachments": {},
   "cell_type": "markdown",
   "metadata": {},
   "source": [
    "## Climbing Stairs\n",
    "https://leetcode.com/problems/climbing-stairs/"
   ]
  },
  {
   "cell_type": "code",
   "execution_count": null,
   "metadata": {},
   "outputs": [],
   "source": [
    "def climbStairs(n: int):\n",
    "    dp = [0] * (n+1)\n",
    "    dp[0] = 1\n",
    "    \n",
    "    for i in range(1, n+1):\n",
    "        for j in range(1, 3):\n",
    "            if i >= j:\n",
    "                dp[i] += dp[i-j]\n",
    "    return dp[n]\n",
    "climbStairs(3)"
   ]
  },
  {
   "attachments": {},
   "cell_type": "markdown",
   "metadata": {},
   "source": [
    "## Min Cost Climbing Stairs\n",
    "https://leetcode.com/problems/min-cost-climbing-stairs/"
   ]
  },
  {
   "cell_type": "code",
   "execution_count": null,
   "metadata": {},
   "outputs": [],
   "source": [
    "def minCostClimbingStairs(cost) -> int:\n",
    "    dp = [0] * (len(cost) + 1)\n",
    "    for i in range(2, len(cost) + 1):\n",
    "        dp[i] = min(dp[i-1] + cost[i-1], dp[i-2] + cost[i-2])\n",
    "    return dp[len(cost)]\n",
    "\n",
    "minCostClimbingStairs([1,100,1,1,1,100,1,1,100,1])"
   ]
  },
  {
   "attachments": {},
   "cell_type": "markdown",
   "metadata": {},
   "source": [
    "## Unique Paths\n",
    "https://leetcode.com/problems/unique-paths/description/"
   ]
  },
  {
   "cell_type": "code",
   "execution_count": null,
   "metadata": {},
   "outputs": [],
   "source": [
    "\n",
    "def uniquePaths(m: int, n: int) -> int:\n",
    "    dp = [[0] * (m) for _ in range(n)]\n",
    "    for j in range(m):\n",
    "        dp[0][j] = 1\n",
    "    for i in range(n):\n",
    "        dp[i][0] = 1\n",
    "    \n",
    "    for i in range(1, n):\n",
    "        for j in range(1, m):\n",
    "            dp[i][j] += dp[i][j-1]\n",
    "            dp[i][j] += dp[i-1][j]\n",
    "\n",
    "    return dp[n-1][m-1]\n",
    "uniquePaths(3, 7)"
   ]
  }
 ],
 "metadata": {
  "kernelspec": {
   "display_name": "base",
   "language": "python",
   "name": "python3"
  },
  "language_info": {
   "name": "python",
   "version": "3.9.6"
  },
  "orig_nbformat": 4
 },
 "nbformat": 4,
 "nbformat_minor": 2
}
