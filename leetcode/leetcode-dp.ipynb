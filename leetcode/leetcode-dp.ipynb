{
 "cells": [
  {
   "attachments": {},
   "cell_type": "markdown",
   "metadata": {},
   "source": [
    "## Climbing Stairs\n",
    "https://leetcode.com/problems/climbing-stairs/"
   ]
  },
  {
   "cell_type": "code",
   "execution_count": null,
   "metadata": {},
   "outputs": [],
   "source": [
    "def climbStairs(n: int):\n",
    "    dp = [0] * (n+1)\n",
    "    dp[0] = 1\n",
    "    \n",
    "    for i in range(1, n+1):\n",
    "        for j in range(1, 3):\n",
    "            if i >= j:\n",
    "                dp[i] += dp[i-j]\n",
    "    return dp[n]\n",
    "climbStairs(3)"
   ]
  },
  {
   "attachments": {},
   "cell_type": "markdown",
   "metadata": {},
   "source": [
    "## Min Cost Climbing Stairs\n",
    "https://leetcode.com/problems/min-cost-climbing-stairs/"
   ]
  },
  {
   "cell_type": "code",
   "execution_count": null,
   "metadata": {},
   "outputs": [],
   "source": [
    "# 시간초과: 완전탐색으로 풀이\n",
    "\n",
    "cost = [1,100,1,1,1,100,1,1,100,1]\n",
    "n = len(cost)\n",
    "\n",
    "def go(idx):\n",
    "    if idx in [0, 1]:\n",
    "        return 0\n",
    "    return min(go(idx-1) + cost[idx-1], go(idx-2) + cost[idx-2])\n",
    "\n",
    "print(go(n))\n"
   ]
  },
  {
   "cell_type": "code",
   "execution_count": null,
   "metadata": {},
   "outputs": [],
   "source": [
    "# 탑 다운\n",
    "\n",
    "def minCostClimbingStairs(cost) -> int:\n",
    "        n = len(cost)\n",
    "        dp = [0] * (n+1)\n",
    "        def go(idx):\n",
    "            if idx in [0, 1]:\n",
    "                return 0\n",
    "            if not dp[idx]:\n",
    "                dp[idx] = min(go(idx-1) + cost[idx-1], go(idx-2) + cost[idx-2])\n",
    "            return dp[idx]\n",
    "        return go(len(cost))"
   ]
  },
  {
   "cell_type": "code",
   "execution_count": null,
   "metadata": {},
   "outputs": [],
   "source": [
    "# 바텀 업\n",
    "\n",
    "def minCostClimbingStairs(cost) -> int:\n",
    "    dp = [0] * (len(cost) + 1)\n",
    "    for i in range(2, len(cost) + 1):\n",
    "        dp[i] = min(dp[i-1] + cost[i-1], dp[i-2] + cost[i-2])\n",
    "    return dp[len(cost)]\n",
    "\n",
    "minCostClimbingStairs([1,100,1,1,1,100,1,1,100,1])"
   ]
  },
  {
   "attachments": {},
   "cell_type": "markdown",
   "metadata": {},
   "source": [
    "## Unique Paths\n",
    "https://leetcode.com/problems/unique-paths/description/"
   ]
  },
  {
   "cell_type": "code",
   "execution_count": null,
   "metadata": {},
   "outputs": [],
   "source": [
    "## 탑 다운\n",
    "def uniquePaths(self, n: int, m: int) -> int:\n",
    "    dp = [[0] * m for _ in range(n)]\n",
    "    def go(n, m):\n",
    "        if not all([n, m]):\n",
    "            return 1\n",
    "        if not dp[n][m]:\n",
    "            dp[n][m] = go(n-1, m) + go(n, m-1)\n",
    "        return dp[n][m]\n",
    "    return go(n-1, m-1)\n"
   ]
  },
  {
   "cell_type": "code",
   "execution_count": null,
   "metadata": {},
   "outputs": [],
   "source": [
    "# 바텀 업\n",
    "def uniquePaths(m: int, n: int) -> int:\n",
    "    dp = [[0] * (m) for _ in range(n)]\n",
    "    for j in range(m):\n",
    "        dp[0][j] = 1\n",
    "    for i in range(n):\n",
    "        dp[i][0] = 1\n",
    "    \n",
    "    for i in range(1, n):\n",
    "        for j in range(1, m):\n",
    "            dp[i][j] += dp[i][j-1]\n",
    "            dp[i][j] += dp[i-1][j]\n",
    "\n",
    "    return dp[n-1][m-1]\n",
    "uniquePaths(3, 7)"
   ]
  },
  {
   "attachments": {},
   "cell_type": "markdown",
   "metadata": {},
   "source": []
  }
 ],
 "metadata": {
  "kernelspec": {
   "display_name": "base",
   "language": "python",
   "name": "python3"
  },
  "language_info": {
   "name": "python",
   "version": "3.9.13"
  },
  "orig_nbformat": 4
 },
 "nbformat": 4,
 "nbformat_minor": 2
}
