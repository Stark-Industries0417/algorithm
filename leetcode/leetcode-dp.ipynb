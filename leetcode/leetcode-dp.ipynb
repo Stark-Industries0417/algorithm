{
 "cells": [
  {
   "attachments": {},
   "cell_type": "markdown",
   "metadata": {},
   "source": [
    "## Climbing Stairs\n",
    "https://leetcode.com/problems/climbing-stairs/"
   ]
  },
  {
   "cell_type": "code",
   "execution_count": null,
   "metadata": {},
   "outputs": [],
   "source": [
    "def climbStairs(n: int):\n",
    "    dp = [0] * (n+1)\n",
    "    dp[0] = 1\n",
    "    \n",
    "    for i in range(1, n+1):\n",
    "        for j in range(1, 3):\n",
    "            if i >= j:\n",
    "                dp[i] += dp[i-j]\n",
    "    return dp[n]\n",
    "climbStairs(3)"
   ]
  },
  {
   "attachments": {},
   "cell_type": "markdown",
   "metadata": {},
   "source": [
    "## Min Cost Climbing Stairs\n",
    "https://leetcode.com/problems/min-cost-climbing-stairs/"
   ]
  },
  {
   "cell_type": "code",
   "execution_count": null,
   "metadata": {},
   "outputs": [],
   "source": [
    "# 시간초과: 완전탐색으로 풀이\n",
    "\n",
    "cost = [1,100,1,1,1,100,1,1,100,1]\n",
    "n = len(cost)\n",
    "\n",
    "def go(idx):\n",
    "    if idx in [0, 1]:\n",
    "        return 0\n",
    "    return min(go(idx-1) + cost[idx-1], go(idx-2) + cost[idx-2])\n",
    "\n",
    "print(go(n))\n"
   ]
  },
  {
   "cell_type": "code",
   "execution_count": null,
   "metadata": {},
   "outputs": [],
   "source": [
    "# 탑 다운\n",
    "\n",
    "def minCostClimbingStairs(cost) -> int:\n",
    "        n = len(cost)\n",
    "        dp = [0] * (n+1)\n",
    "        def go(idx):\n",
    "            if idx in [0, 1]:\n",
    "                return 0\n",
    "            if not dp[idx]:\n",
    "                dp[idx] = min(go(idx-1) + cost[idx-1], go(idx-2) + cost[idx-2])\n",
    "            return dp[idx]\n",
    "        return go(len(cost))"
   ]
  },
  {
   "cell_type": "code",
   "execution_count": null,
   "metadata": {},
   "outputs": [],
   "source": [
    "# 바텀 업\n",
    "\n",
    "def minCostClimbingStairs(cost) -> int:\n",
    "    dp = [0] * (len(cost) + 1)\n",
    "    for i in range(2, len(cost) + 1):\n",
    "        dp[i] = min(dp[i-1] + cost[i-1], dp[i-2] + cost[i-2])\n",
    "    return dp[len(cost)]\n",
    "\n",
    "minCostClimbingStairs([1,100,1,1,1,100,1,1,100,1])"
   ]
  },
  {
   "attachments": {},
   "cell_type": "markdown",
   "metadata": {},
   "source": [
    "## Unique Paths\n",
    "https://leetcode.com/problems/unique-paths/description/"
   ]
  },
  {
   "cell_type": "code",
   "execution_count": null,
   "metadata": {},
   "outputs": [],
   "source": [
    "## 탑 다운\n",
    "def uniquePaths(self, n: int, m: int) -> int:\n",
    "    dp = [[0] * m for _ in range(n)]\n",
    "    def go(n, m):\n",
    "        if not all([n, m]):\n",
    "            return 1\n",
    "        if not dp[n][m]:\n",
    "            dp[n][m] = go(n-1, m) + go(n, m-1)\n",
    "        return dp[n][m]\n",
    "    return go(n-1, m-1)\n"
   ]
  },
  {
   "cell_type": "code",
   "execution_count": null,
   "metadata": {},
   "outputs": [],
   "source": [
    "# 바텀 업\n",
    "def uniquePaths(m: int, n: int) -> int:\n",
    "    dp = [[0] * (m) for _ in range(n)]\n",
    "    for j in range(m):\n",
    "        dp[0][j] = 1\n",
    "    for i in range(n):\n",
    "        dp[i][0] = 1\n",
    "    \n",
    "    for i in range(1, n):\n",
    "        for j in range(1, m):\n",
    "            dp[i][j] += dp[i][j-1]\n",
    "            dp[i][j] += dp[i-1][j]\n",
    "\n",
    "    return dp[n-1][m-1]\n",
    "uniquePaths(3, 7)"
   ]
  },
  {
   "attachments": {},
   "cell_type": "markdown",
   "metadata": {},
   "source": [
    "## House Robber\n",
    "https://leetcode.com/problems/house-robber/description/"
   ]
  },
  {
   "cell_type": "code",
   "execution_count": null,
   "metadata": {},
   "outputs": [],
   "source": [
    "# 탑다운 시간초과\n",
    "def rob(self, nums: List[int]) -> int:\n",
    "    n = len(nums)\n",
    "    dp = [0] * n\n",
    "    def go(idx):\n",
    "        if idx == 0:\n",
    "            return nums[0]\n",
    "        elif idx == 1:\n",
    "            return max(nums[0], nums[1])\n",
    "            \n",
    "        if not dp[idx]:\n",
    "            dp[idx] = max(go(idx-1), go(idx-2) + nums[idx])\n",
    "        return dp[idx]\n",
    "    return go(n-1)"
   ]
  },
  {
   "cell_type": "code",
   "execution_count": null,
   "metadata": {},
   "outputs": [],
   "source": [
    "# 탑다운 개선\n",
    "\n",
    "def rob(nums) -> int:  \n",
    "    n = len(nums)\n",
    "    if not n:\n",
    "        return 0        \n",
    "    memo = [0] * n\n",
    "    \n",
    "    def steal(n):\n",
    "        if memo[n]:\n",
    "            return memo[n]\n",
    "        if n == 0:\n",
    "            result = nums[0]\n",
    "        elif n == 1:\n",
    "            result = max(nums[0], nums[1])\n",
    "        else:\n",
    "            result = max(steal(n-1),  nums[n] + steal(n-2))\n",
    "        memo[n] = result\n",
    "        return result\n",
    "    return steal(n-1)\n",
    "\n",
    "print(rob([2,7,9,3,1]))"
   ]
  },
  {
   "cell_type": "code",
   "execution_count": null,
   "metadata": {},
   "outputs": [],
   "source": [
    "# 바텀 업\n",
    "\n",
    "def rob(nums) -> int:\n",
    "    n = len(nums)\n",
    "    if n == 1:\n",
    "        return nums[0]\n",
    "    dp = [0] * n\n",
    "    dp[0] = nums[0]\n",
    "    dp[1] = max(nums[0], nums[1])\n",
    "\n",
    "    for i in range(2, n):\n",
    "        dp[i] = max(dp[i-1], dp[i-2] + nums[i])\n",
    "    return dp[n-1]"
   ]
  },
  {
   "attachments": {},
   "cell_type": "markdown",
   "metadata": {},
   "source": [
    "## Longest Palindromic Substring\n",
    "https://leetcode.com/problems/longest-palindromic-substring/description/"
   ]
  },
  {
   "cell_type": "code",
   "execution_count": null,
   "metadata": {},
   "outputs": [],
   "source": [
    "class Solution:\n",
    "    def longestPalindrome(self, s: str) -> str:\n",
    "        n = len(s)\n",
    "        if n < 2 or s == s[::-1]:\n",
    "            return s\n",
    "        \n",
    "        def expand(left, right):\n",
    "            while left >= 0 and right < n and s[left] == s[right]:\n",
    "                left -= 1\n",
    "                right += 1\n",
    "            return s[left+1:right]\n",
    "        \n",
    "        result = ''\n",
    "        for i in range(n-1):\n",
    "            result = max(result, expand(i, i+1), expand(i, i+2), key=len)\n",
    "        return result"
   ]
  },
  {
   "cell_type": "code",
   "execution_count": null,
   "metadata": {},
   "outputs": [],
   "source": [
    "def longestPalindrome(s: str) -> str:\n",
    "    n = len(s)\n",
    "    ans = ''\n",
    "\n",
    "    dp = [[False] * n for _ in range(n)]\n",
    "    for i in range(n):\n",
    "        dp[i][i] = True\n",
    "        ans = s[i]\n",
    "    \n",
    "    max_len = 1\n",
    "    for start in range(n-2, -1, -1):\n",
    "        for end in range(start+1, n):\n",
    "            if s[start] == s[end]:\n",
    "                if end - start == 1 or dp[start+1][end-1]:\n",
    "                    dp[start][end] = True\n",
    "                    if max_len < end - start + 1:\n",
    "                        max_len = end - start + 1\n",
    "                        ans = s[start:end+1]\n",
    "    return ans\n",
    "\n",
    "print(longestPalindrome(\"aaaa\"))"
   ]
  },
  {
   "attachments": {},
   "cell_type": "markdown",
   "metadata": {},
   "source": [
    "## 22. Generate Parentheses\n",
    "https://leetcode.com/problems/generate-parentheses/description/"
   ]
  },
  {
   "cell_type": "code",
   "execution_count": null,
   "metadata": {},
   "outputs": [],
   "source": [
    "def generateParenthesis(n: int):\n",
    "    ans = []\n",
    "    def dfs(left, right, s):\n",
    "        if len(s) == n*2:\n",
    "            ans.append(s)\n",
    "            return\n",
    "        \n",
    "        if left < n:\n",
    "            dfs(left+1, right, s+'(')\n",
    "        if right < left:\n",
    "            dfs(left, right+1, s+')')\n",
    "    \n",
    "    dfs(0, 0, '')\n",
    "    return ans"
   ]
  },
  {
   "attachments": {},
   "cell_type": "markdown",
   "metadata": {},
   "source": [
    "## Jump Game 2\n",
    "https://leetcode.com/problems/jump-game-ii/"
   ]
  },
  {
   "cell_type": "code",
   "execution_count": 4,
   "metadata": {},
   "outputs": [
    {
     "name": "stdout",
     "output_type": "stream",
     "text": [
      "[0, 1, 1, 2, 2]\n"
     ]
    }
   ],
   "source": [
    "def jump(nums):\n",
    "    l = len(nums)\n",
    "    dp = [1e9] * l\n",
    "    dp[0] = 0\n",
    "\n",
    "    for i in range(l):\n",
    "        for j in range(1, nums[i]+1):\n",
    "            if i + j < l:\n",
    "                dp[i+j] = min(dp[i+j], dp[i]+1)\n",
    "    return dp[l-1]\n",
    "\n",
    "print(jump([2, 3, 1, 1, 4]))"
   ]
  },
  {
   "cell_type": "code",
   "execution_count": null,
   "metadata": {},
   "outputs": [],
   "source": [
    "def jump(nums):\n",
    "    reach = count = last = 0\n",
    "\n",
    "    for i in range(len(nums)-1):\n",
    "        reach = max(reach, i + nums[i])\n",
    "\n",
    "        if i == last:\n",
    "            last = reach\n",
    "            count += 1\n",
    "    return count\n",
    "\n",
    "print(jump([2, 3, 1, 1, 4]))"
   ]
  },
  {
   "attachments": {},
   "cell_type": "markdown",
   "metadata": {},
   "source": [
    "## Maximum Subarray\n",
    "https://leetcode.com/problems/maximum-subarray/solutions/?orderBy=most_votes&languageTags=python3"
   ]
  },
  {
   "cell_type": "code",
   "execution_count": null,
   "metadata": {},
   "outputs": [],
   "source": [
    "def maxSubArray(nums):\n",
    "    dp = [0] * len(nums)\n",
    "    for i, num in enumerate(nums):\n",
    "        dp[i] = max(dp[i-1] + num, num)\n",
    "    \n",
    "    return max(dp)\n",
    "\n",
    "print(maxSubArray([-2,1,-3,4,-1,2,1,-5,4]))"
   ]
  },
  {
   "attachments": {},
   "cell_type": "markdown",
   "metadata": {},
   "source": [
    "## Unique Paths II\n",
    "https://leetcode.com/problems/unique-paths-ii/"
   ]
  },
  {
   "cell_type": "code",
   "execution_count": null,
   "metadata": {},
   "outputs": [],
   "source": [
    "# 탑 다운\n",
    "\n",
    "def uniquePathsWithObstacles(obstacleGrid) -> int:\n",
    "    n, m = len(obstacleGrid), len(obstacleGrid[0])\n",
    "    dp = [[0] * m for _ in range(n)]\n",
    "    dp[0][0] = 1\n",
    "\n",
    "    def go(x, y):\n",
    "        if x < 0 or x >= n or y < 0 or y >= m:\n",
    "            return 0\n",
    "        \n",
    "        if obstacleGrid[x][y] == 1:\n",
    "            return 0\n",
    "\n",
    "        if [x, y] == [0, 0]:\n",
    "            return 1\n",
    "\n",
    "        if not dp[x][y]:\n",
    "            dp[x][y] = go(x-1, y) + go(x, y-1)\n",
    "\n",
    "        return dp[x][y]\n",
    "\n",
    "    return go(n-1, m-1)\n",
    "\n",
    "\n",
    "print(uniquePathsWithObstacles([[0,0,0],[0,1,0],[0,0,0]]))"
   ]
  },
  {
   "cell_type": "code",
   "execution_count": null,
   "metadata": {},
   "outputs": [],
   "source": [
    "def uniquePathsWithObstacles(obstacleGrid) -> int:\n",
    "    n, m = len(obstacleGrid), len(obstacleGrid[0])\n",
    "    dp = [[0] * (m+1) for _ in range(n+1)]\n",
    "    dp[1][1] = 0 if obstacleGrid[0][0] else 1\n",
    "\n",
    "    for i in range(1, n+1):\n",
    "        for j in range(1, m+1):\n",
    "            if obstacleGrid[i-1][j-1]:\n",
    "                continue\n",
    "            dp[i][j] += dp[i-1][j] + dp[i][j-1]\n",
    "            \n",
    "    return dp[n][m]\n",
    "\n",
    "print(uniquePathsWithObstacles([[1]]))"
   ]
  },
  {
   "attachments": {},
   "cell_type": "markdown",
   "metadata": {},
   "source": [
    "## Minimum Path Sum\n",
    "https://leetcode.com/problems/minimum-path-sum/description/"
   ]
  },
  {
   "cell_type": "code",
   "execution_count": null,
   "metadata": {},
   "outputs": [],
   "source": [
    "def minPathSum(grid):\n",
    "    n, m = len(grid), len(grid[0])\n",
    "    dp = [[0] * m for _ in range(n)]\n",
    "    dp[0][0] = grid[0][0]\n",
    "\n",
    "    def go(x, y):\n",
    "        if [x, y] == [0, 0]:\n",
    "            return dp[0][0]\n",
    "        \n",
    "        if x < 0 or x >= n or y < 0 or y >= m:\n",
    "            return 1e9\n",
    "\n",
    "        if not dp[x][y]:\n",
    "            dp[x][y] = min(go(x-1, y), go(x, y-1)) + grid[x][y]\n",
    "\n",
    "        return dp[x][y]\n",
    "\n",
    "    return go(n-1, m-1)\n",
    "print(minPathSum([[1,3,1],[1,5,1],[4,2,1]]))"
   ]
  },
  {
   "cell_type": "code",
   "execution_count": null,
   "metadata": {},
   "outputs": [],
   "source": [
    "def minPathSum(grid):\n",
    "    n, m = len(grid), len(grid[0])\n",
    "    dp = [[1e9] * (m+1) for _ in range(n+1)]\n",
    "    dp[1][1] = grid[0][0]\n",
    "\n",
    "    for i in range(1, n+1):\n",
    "        for j in range(1, m+1):\n",
    "            if [i, j] == [1, 1]:\n",
    "                continue\n",
    "            dp[i][j] = min(dp[i-1][j], dp[i][j-1]) + grid[i-1][j-1]\n",
    "    return dp[n][m]\n",
    "\n",
    "print(minPathSum([[1,2],[1,1]]))"
   ]
  },
  {
   "attachments": {},
   "cell_type": "markdown",
   "metadata": {},
   "source": [
    "## Decode Ways\n",
    "https://leetcode.com/problems/decode-ways/description/"
   ]
  },
  {
   "cell_type": "code",
   "execution_count": null,
   "metadata": {},
   "outputs": [],
   "source": [
    "def numDecodings(s):\n",
    "    dp = [0] * (len(s) + 1)             \n",
    "    dp[0] = dp[1] = 1\n",
    "\n",
    "    if s[0] == \"0\":            \n",
    "        return 0\n",
    "    for i in range(2, len(s) + 1):\n",
    "        if 1<=int(s[i-1])<=9:\n",
    "            dp[i] += dp[i - 1]\n",
    "        if 10 <= int(s[i - 2] + s[i - 1]) <= 26 :\n",
    "            dp[i] += dp[i - 2] \n",
    "    return dp[-1]\n",
    "\n",
    "print(numDecodings(\"2101\"))"
   ]
  }
 ],
 "metadata": {
  "kernelspec": {
   "display_name": "base",
   "language": "python",
   "name": "python3"
  },
  "language_info": {
   "codemirror_mode": {
    "name": "ipython",
    "version": 3
   },
   "file_extension": ".py",
   "mimetype": "text/x-python",
   "name": "python",
   "nbconvert_exporter": "python",
   "pygments_lexer": "ipython3",
   "version": "3.9.13"
  },
  "orig_nbformat": 4
 },
 "nbformat": 4,
 "nbformat_minor": 2
}
