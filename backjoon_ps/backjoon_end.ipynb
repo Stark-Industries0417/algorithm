{
 "cells": [
  {
   "cell_type": "markdown",
   "id": "2d66e09b",
   "metadata": {},
   "source": [
    "## 숫자의 신\n",
    "https://www.acmicpc.net/problem/1422"
   ]
  },
  {
   "cell_type": "code",
   "execution_count": 14,
   "id": "17a1a157",
   "metadata": {},
   "outputs": [
    {
     "name": "stdout",
     "output_type": "stream",
     "text": [
      "3 4\n",
      "1\n",
      "10\n",
      "100\n",
      "110100100\n"
     ]
    }
   ],
   "source": [
    "# 메모리 초과\n",
    "\n",
    "k, n = map(int, input().split())\n",
    "nums = [int(input()) for _ in range(k)]\n",
    "nums.sort(reverse=True)\n",
    "ans = []\n",
    "for _ in range(k, n):\n",
    "    nums.append(nums[0])\n",
    "check = [False] * len(nums)\n",
    "\n",
    "def back_tracking(idx, s):\n",
    "    if idx == n:\n",
    "        ans.append(s)\n",
    "        return\n",
    "\n",
    "    for i, v in enumerate(nums):\n",
    "        if check[i]:\n",
    "            continue\n",
    "        check[i] = True\n",
    "        back_tracking(idx+1, s+str(v))\n",
    "        check[i] = False\n",
    "\n",
    "back_tracking(0, '')\n",
    "print(max(ans))"
   ]
  }
 ],
 "metadata": {
  "kernelspec": {
   "display_name": "Python 3",
   "language": "python",
   "name": "python3"
  },
  "language_info": {
   "codemirror_mode": {
    "name": "ipython",
    "version": 3
   },
   "file_extension": ".py",
   "mimetype": "text/x-python",
   "name": "python",
   "nbconvert_exporter": "python",
   "pygments_lexer": "ipython3",
   "version": "3.8.8"
  }
 },
 "nbformat": 4,
 "nbformat_minor": 5
}
