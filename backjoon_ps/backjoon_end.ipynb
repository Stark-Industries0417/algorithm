{
 "cells": [
  {
   "cell_type": "markdown",
   "id": "2d66e09b",
   "metadata": {},
   "source": [
    "## 숫자의 신\n",
    "https://www.acmicpc.net/problem/1422"
   ]
  },
  {
   "cell_type": "code",
   "execution_count": 14,
   "id": "17a1a157",
   "metadata": {},
   "outputs": [
    {
     "name": "stdout",
     "output_type": "stream",
     "text": [
      "3 4\n",
      "1\n",
      "10\n",
      "100\n",
      "110100100\n"
     ]
    }
   ],
   "source": [
    "# 메모리 초과\n",
    "\n",
    "k, n = map(int, input().split())\n",
    "nums = [int(input()) for _ in range(k)]\n",
    "nums.sort(reverse=True)\n",
    "ans = []\n",
    "for _ in range(k, n):\n",
    "    nums.append(nums[0])\n",
    "check = [False] * len(nums)\n",
    "\n",
    "def back_tracking(idx, s):\n",
    "    if idx == n:\n",
    "        ans.append(s)\n",
    "        return\n",
    "\n",
    "    for i, v in enumerate(nums):\n",
    "        if check[i]:\n",
    "            continue\n",
    "        check[i] = True\n",
    "        back_tracking(idx+1, s+str(v))\n",
    "        check[i] = False\n",
    "\n",
    "back_tracking(0, '')\n",
    "print(max(ans))"
   ]
  },
  {
   "cell_type": "markdown",
   "id": "258be34c",
   "metadata": {},
   "source": [
    "# 2/15 화"
   ]
  },
  {
   "cell_type": "markdown",
   "id": "1f4c999c",
   "metadata": {},
   "source": [
    "## N-Queen\n",
    "https://www.acmicpc.net/problem/9663"
   ]
  },
  {
   "cell_type": "code",
   "execution_count": 1,
   "id": "d57417f0",
   "metadata": {},
   "outputs": [
    {
     "name": "stdout",
     "output_type": "stream",
     "text": [
      "8\n",
      "92\n"
     ]
    }
   ],
   "source": [
    "# 시간초과\n",
    "\n",
    "def check(row, col):\n",
    "    for i in range(n):\n",
    "        if i == row:\n",
    "            continue\n",
    "        if a[i][col]:\n",
    "            return False\n",
    "    x = row-1\n",
    "    y = col-1\n",
    "    while x >= 0 and y >= 0:\n",
    "        if a[x][y]:\n",
    "            return False\n",
    "        x -= 1\n",
    "        y -= 1\n",
    "    x = row-1\n",
    "    y = col+1\n",
    "    while x >= 0 and y < n:\n",
    "        if a[x][y]:\n",
    "            return False\n",
    "        x -= 1\n",
    "        y += 1\n",
    "    return True\n",
    "\n",
    "def calc(row):\n",
    "    if row == n:\n",
    "        global ans\n",
    "        ans += 1\n",
    "        return\n",
    "    for col in range(n):\n",
    "        a[row][col] = True\n",
    "        if check(row, col):\n",
    "            calc(row+1)\n",
    "        a[row][col] = False\n",
    "n = int(input())\n",
    "ans = 0\n",
    "a = [[False]*n for _ in range(n)]\n",
    "calc(0)\n",
    "print(ans)"
   ]
  },
  {
   "cell_type": "code",
   "execution_count": 2,
   "id": "4944ee84",
   "metadata": {},
   "outputs": [
    {
     "name": "stdout",
     "output_type": "stream",
     "text": [
      "8\n",
      "92\n"
     ]
    }
   ],
   "source": [
    "def check(row, col):\n",
    "    if check_col[col]:\n",
    "        return False\n",
    "    if check_dig[row+col]:\n",
    "        return False\n",
    "    if check_dig2[row-col+n-1]:\n",
    "        return False\n",
    "    return True\n",
    "\n",
    "def calc(row):\n",
    "    if row == n:\n",
    "        return 1\n",
    "    ans = 0\n",
    "    for col in range(n):\n",
    "        if check(row, col):\n",
    "            check_dig[row+col] = True\n",
    "            check_dig2[row-col+n-1]=True\n",
    "            check_col[col] = True\n",
    "            a[row][col] = True\n",
    "            \n",
    "            ans += calc(row+1)\n",
    "            \n",
    "            check_dig[row+col] = False\n",
    "            check_dig2[row-col+n-1] = False\n",
    "            check_col[col] = False\n",
    "            a[row][col] = False\n",
    "    return ans\n",
    "\n",
    "n = int(input())\n",
    "a = [[False]*n for _ in range(n)]\n",
    "check_col = [False] * n\n",
    "check_dig = [False] * (2*n-1)\n",
    "check_dig2 = [False] * (2*n-1)\n",
    "print(calc(0))"
   ]
  },
  {
   "cell_type": "code",
   "execution_count": 3,
   "id": "17e5aa7c",
   "metadata": {},
   "outputs": [
    {
     "name": "stdout",
     "output_type": "stream",
     "text": [
      "8\n",
      "92\n"
     ]
    }
   ],
   "source": [
    "n = int(input())\n",
    "ans = 0\n",
    "row = [0]*n\n",
    "\n",
    "def check(x):\n",
    "    for i in range(x):\n",
    "        if row[x] == row[i] or abs(row[x] - row[i]) == abs(x-i):\n",
    "            return False\n",
    "    return True\n",
    "\n",
    "def n_queens(x):\n",
    "    global ans\n",
    "    if x == n:\n",
    "        ans += 1\n",
    "        return\n",
    "    \n",
    "    for i in range(n):\n",
    "        row[x] = i\n",
    "        if check(x):\n",
    "            n_queens(x+1)\n",
    "\n",
    "n_queens(0)\n",
    "print(ans)"
   ]
  },
  {
   "cell_type": "markdown",
   "id": "5c71101f",
   "metadata": {},
   "source": [
    "## 스도쿠\n",
    "https://www.acmicpc.net/problem/2580"
   ]
  },
  {
   "cell_type": "code",
   "execution_count": 5,
   "id": "19fcead4",
   "metadata": {},
   "outputs": [
    {
     "name": "stdout",
     "output_type": "stream",
     "text": [
      "0 3 5 4 6 9 2 7 8\n",
      "7 8 2 1 0 5 6 0 9\n",
      "0 6 0 2 7 8 1 3 5\n",
      "3 2 1 0 4 6 8 9 7\n",
      "8 0 4 9 1 3 5 0 6\n",
      "5 9 6 8 2 0 4 1 3\n",
      "9 1 7 6 5 2 0 8 0\n",
      "6 0 3 7 0 1 9 5 2\n",
      "2 5 8 3 9 4 7 6 0\n",
      "1 3 5 4 6 9 2 7 8\n",
      "7 8 2 1 3 5 6 4 9\n",
      "4 6 9 2 7 8 1 3 5\n",
      "3 2 1 5 4 6 8 9 7\n",
      "8 7 4 9 1 3 5 2 6\n",
      "5 9 6 8 2 7 4 1 3\n",
      "9 1 7 6 5 2 3 8 4\n",
      "6 4 3 7 8 1 9 5 2\n",
      "2 5 8 3 9 4 7 6 1\n"
     ]
    },
    {
     "data": {
      "text/plain": [
       "True"
      ]
     },
     "execution_count": 5,
     "metadata": {},
     "output_type": "execute_result"
    }
   ],
   "source": [
    "def square(x, y):\n",
    "    return (x//3)*3 + (y//3)\n",
    "\n",
    "def go(z):\n",
    "    if z == 81:\n",
    "        for row in a:\n",
    "            print(*row)\n",
    "        return True\n",
    "    x = z//n\n",
    "    y = z%n\n",
    "    if a[x][y] != 0:\n",
    "        return go(z+1)\n",
    "    else:\n",
    "        for i in range(1, 10):\n",
    "            if c[x][i] == False and c2[y][i] == False and c3[square(x,y)][i] == False:\n",
    "                c[x][i] = c2[y][i] = c3[square(x, y)][i] = True\n",
    "                a[x][y] = i\n",
    "                if go(z+1):\n",
    "                    return True\n",
    "                a[x][y] = 0\n",
    "                c[x][i] = c2[y][i] = c3[square(x, y)][i] = False\n",
    "    return False\n",
    "n = 9\n",
    "a = [list(map(int, input().split())) for _ in range(n)]\n",
    "c = [[False]*10 for _ in range(n)]\n",
    "c2 = [[False]*10 for _ in range(n)]\n",
    "c3 = [[False]*10 for _ in range(n)]\n",
    "for i in range(n):\n",
    "    for j in range(n):\n",
    "        if a[i][j] != 0:\n",
    "            c[i][a[i][j]] = True\n",
    "            c2[j][a[i][j]] = True\n",
    "            c3[square(i, j)][a[i][j]] = True\n",
    "\n",
    "go(0)"
   ]
  },
  {
   "cell_type": "code",
   "execution_count": null,
   "id": "ef8f79ab",
   "metadata": {},
   "outputs": [],
   "source": [
    "board = [list(map(int, input().split())) for _ in range(9)]\n",
    "zeros = [(i, j) for i in range(9) for j in range(9) if board[i][j] == 0]\n",
    "\n",
    "\n",
    "def get_possibles(r, c):\n",
    "    possibles = set(range(1, 10))\n",
    "    possibles -= set(board[r])\n",
    "    test = set()\n",
    "    for i in range(9):\n",
    "        test.add(board[i][c])\n",
    "    possibles -= test\n",
    "    test = set()\n",
    "    for i in range(r//3*3, r//3*3+3):\n",
    "        for j in range(c//3*3, c//3*3+3):\n",
    "            test.add(board[i][j])\n",
    "    possibles -= test\n",
    "    return tuple(possibles)\n",
    "\n",
    "\n",
    "def solve(i):\n",
    "    if i == len(zeros):\n",
    "        [print(*row) for row in board]\n",
    "        sys.exit()\n",
    "    r, c = zeros[i]\n",
    "    possibles = get_possibles(r, c)\n",
    "    for num in possibles:\n",
    "        board[r][c] = num\n",
    "        solve(i+1)\n",
    "        board[r][c] = 0\n",
    "\n",
    "\n",
    "solve(0)"
   ]
  },
  {
   "cell_type": "markdown",
   "id": "b3905eac",
   "metadata": {},
   "source": [
    "## 스도미노쿠\n",
    "https://www.acmicpc.net/problem/4574"
   ]
  },
  {
   "cell_type": "code",
   "execution_count": null,
   "id": "3dd6b6d6",
   "metadata": {},
   "outputs": [],
   "source": [
    "n = 9\n",
    "dx = [0, 1]\n",
    "dy = [1, 0]\n",
    "def convert(s):\n",
    "    return (ord(s[0])-ord('A'), ord(s[1])-ord('1'))\n",
    "def square(x, y):\n",
    "    return (x//3)*3 + (y//3)\n",
    "def can(x, y, num):\n",
    "    return not c[x][num] and not c2[y][num] and not c3[square(x, y)][num]\n",
    "def check(x, y, num, what):\n",
    "    c[x][num] = what\n",
    "    c2[y][num] = what\n",
    "    c3[square(x, y)][num] = what\n",
    "def check_range(x, y):\n",
    "    return 0 <= x < n and 0 <= y < n\n",
    "def go(z):\n",
    "    if z == 81:\n",
    "        for i in range(n):\n",
    "            print(*a[i])\n",
    "        return True\n",
    "    x = z//n\n",
    "    y = z%n\n",
    "    if a[x][y] != 0:\n",
    "        return go(z+1)\n",
    "    else:\n",
    "        for k in range(2):\n",
    "            nx, ny = x+dx[k], y+dy[k]\n",
    "            if not check_range(nx, ny):\n",
    "                continue\n",
    "            if a[nx][ny] != 0:\n",
    "                continue\n",
    "            for i in range(1, 10):\n",
    "                for j in range(1, 10):\n",
    "                    if i == j:\n",
    "                        continue\n",
    "                    if domino[i][j]:\n",
    "                        continue\n",
    "                    if can(x, y, i) and can(nx, ny, j):\n",
    "                        check(x, y, i, True)\n",
    "                        check(nx, ny, j, True)\n",
    "                        domino[i][j] = domino[j][i] = True\n",
    "                        a[x][y] = i\n",
    "                        a[nx][ny] = j\n",
    "                        if go(z+1):\n",
    "                            return True\n",
    "                        check(x, y, i, False)\n",
    "                        check(nx, ny, j, False)\n",
    "                        domino[i][j] = domino[j][i] = False\n",
    "                        a[x][y] = 0\n",
    "                        a[nx][ny] = 0\n",
    "    return False\n",
    "tc = 1\n",
    "while True:\n",
    "    c = [[False]*10 for _ in range(10)]\n",
    "    c2 = [[False]*10 for _ in range(10)]    \n",
    "    c3 = [[False]*10 for _ in range(10)]    \n",
    "    domino = [[False]*10 for _ in range(10)]\n",
    "    a = [[0]*9 for _ in range(9)]\n",
    "    m = int(input())\n",
    "    if m == 0:\n",
    "        break\n",
    "    for i in range(m):\n",
    "        n1, s1, n2, s2 = input().split()\n",
    "        n1 = int(n1)\n",
    "        n2 = int(n2)\n",
    "        x1, y1 = convert(s1)\n",
    "        x2, y2 = convert(s2)\n",
    "        a[x1][y1] = n1\n",
    "        a[x2][y2] = n2\n",
    "        domino[n1][n2] = domino[n2][n1] = True\n",
    "        check(x1, y1, n1, True)\n",
    "        check(x2, y2, n2, True)\n",
    "    temp = input().split()\n",
    "    for i in range(1, 10):\n",
    "        s = temp[i-1]\n",
    "        x, y = convert(s)\n",
    "        a[x][y] = i\n",
    "        check(x, y, i, True)\n",
    "    print('Puzzle %d' %tc)\n",
    "    go(0)\n",
    "    tc += 1"
   ]
  },
  {
   "cell_type": "markdown",
   "id": "c8475b14",
   "metadata": {},
   "source": [
    "## 벽 부수고 이동하기\n",
    "https://www.acmicpc.net/problem/2206"
   ]
  },
  {
   "cell_type": "code",
   "execution_count": null,
   "id": "3c11c491",
   "metadata": {},
   "outputs": [],
   "source": [
    "import sys\n",
    "from collections import deque\n",
    "input = sys.stdin.readline\n",
    "dx = [1, -1, 0, 0]\n",
    "dy = [0, 0, -1, 1]\n",
    "def bfs():\n",
    "    q = deque()\n",
    "    q.append([0, 0, 1])\n",
    "    visit = [[[0] * 2 for i in range(m)] for i in range(n)]\n",
    "    visit[0][0][1] = 1\n",
    "    while q:\n",
    "        a, b, w = q.popleft()\n",
    "        if a == n - 1 and b == m - 1:\n",
    "            return visit[a][b][w]\n",
    "        for i in range(4):\n",
    "            x = a + dx[i]\n",
    "            y = b + dy[i]\n",
    "            if 0 <= x < n and 0 <= y < m:\n",
    "                if s[x][y] == 1 and w == 1:\n",
    "                    visit[x][y][0] = visit[a][b][1] + 1\n",
    "                    q.append([x, y, 0])\n",
    "                elif s[x][y] == 0 and visit[x][y][w] == 0:\n",
    "                    visit[x][y][w] = visit[a][b][w] + 1\n",
    "                    q.append([x, y, w])\n",
    "    return -1\n",
    "n, m = map(int, input().split())\n",
    "s = []\n",
    "for i in range(n):\n",
    "    s.append(list(map(int, list(input().strip()))))\n",
    "print(bfs())"
   ]
  }
 ],
 "metadata": {
  "kernelspec": {
   "display_name": "Python 3",
   "language": "python",
   "name": "python3"
  },
  "language_info": {
   "codemirror_mode": {
    "name": "ipython",
    "version": 3
   },
   "file_extension": ".py",
   "mimetype": "text/x-python",
   "name": "python",
   "nbconvert_exporter": "python",
   "pygments_lexer": "ipython3",
   "version": "3.8.8"
  }
 },
 "nbformat": 4,
 "nbformat_minor": 5
}
