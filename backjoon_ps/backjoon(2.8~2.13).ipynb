{
 "cells": [
  {
   "cell_type": "markdown",
   "id": "9fb07405",
   "metadata": {},
   "source": [
    "# 2/8 화"
   ]
  },
  {
   "cell_type": "markdown",
   "id": "f3f92328",
   "metadata": {},
   "source": [
    "## 토마토\n",
    "https://www.acmicpc.net/problem/7576"
   ]
  },
  {
   "cell_type": "code",
   "execution_count": 9,
   "id": "5ea7ac96",
   "metadata": {},
   "outputs": [
    {
     "data": {
      "text/plain": [
       "6"
      ]
     },
     "execution_count": 9,
     "metadata": {},
     "output_type": "execute_result"
    }
   ],
   "source": [
    "a = [[1,2,3], [4,5,6]]\n",
    "max(list(map(max, a)))"
   ]
  },
  {
   "cell_type": "code",
   "execution_count": null,
   "id": "2ffeb0c1",
   "metadata": {},
   "outputs": [],
   "source": [
    "from collections import deque\n",
    "m, n = map(int, input().split())\n",
    "box = [list(map(int, input().split())) for _ in range(n)]\n",
    "dx = [0, 0, 1, -1]\n",
    "dy = [1, -1, 0, 0]\n",
    "q = deque()\n",
    "for i in range(n):\n",
    "    for j in range(m):\n",
    "        if box[i][j] == 1:\n",
    "            q.append((i, j))\n",
    "\n",
    "while q:\n",
    "    x, y = q.popleft()\n",
    "    for k in range(4):\n",
    "        nx, ny = x+dx[k], y+dy[k]\n",
    "        if 0 <= nx < n and 0 <= ny < m and box[nx][ny] == 0:\n",
    "            box[nx][ny] = box[x][y] + 1\n",
    "            q.append((nx ,ny))\n",
    "ok = True\n",
    "for i in range(n):\n",
    "    if 0 in box[i]:\n",
    "        ok = False\n",
    "\n",
    "if ok:\n",
    "    print(max(map(max, box)) - 1)\n",
    "else:\n",
    "    print(-1)"
   ]
  },
  {
   "cell_type": "markdown",
   "id": "39a5fd28",
   "metadata": {},
   "source": [
    "## 토마토2\n",
    "https://www.acmicpc.net/problem/7569"
   ]
  },
  {
   "cell_type": "code",
   "execution_count": 37,
   "id": "cdee254c",
   "metadata": {},
   "outputs": [
    {
     "data": {
      "text/plain": [
       "1"
      ]
     },
     "execution_count": 37,
     "metadata": {},
     "output_type": "execute_result"
    }
   ],
   "source": [
    "a = [[[1, 2], [2, 3]]]\n",
    "a[0][0]"
   ]
  },
  {
   "cell_type": "code",
   "execution_count": 11,
   "id": "bd997162",
   "metadata": {},
   "outputs": [
    {
     "name": "stdout",
     "output_type": "stream",
     "text": [
      "4 4 2\n",
      "0 0 0 0\n",
      "0 0 0 0\n",
      "0 0 0 0\n",
      "0 0 0 0\n",
      "1 1 1 1\n",
      "1 1 1 1\n",
      "1 1 1 1\n",
      "1 1 1 1\n"
     ]
    },
    {
     "data": {
      "text/plain": [
       "[[[0, 0, 0, 0], [0, 0, 0, 0], [0, 0, 0, 0], [0, 0, 0, 0]],\n",
       " [[1, 1, 1, 1], [1, 1, 1, 1], [1, 1, 1, 1], [1, 1, 1, 1]]]"
      ]
     },
     "execution_count": 11,
     "metadata": {},
     "output_type": "execute_result"
    }
   ],
   "source": [
    "from collections import deque\n",
    "m, n, h = map(int, input().split())\n",
    "box = [[list(map(int, input().split())) for _ in range(n)] for _ in range(h)]\n",
    "dx = [0, 0, 1, -1, 0, 0]\n",
    "dy = [1, -1, 0, 0, 0 ,0]\n",
    "dz = [0, 0, 0, 0, 1, -1]\n",
    "q = deque()\n",
    "for l in range(h):\n",
    "    for i in range(n):\n",
    "        for j in range(m):\n",
    "            if box[i][j][l] == 1:\n",
    "                q.append((i, j, l))\n",
    "\n",
    "while q:\n",
    "    x, y, z = q.popleft()\n",
    "    for k in range(6):\n",
    "        nx, ny, nz = x+dx[k], y+dy[k], z+dz[k]\n",
    "        if 0 <= nx < n and 0 <= ny < m and 0 <= nz < h and box[nx][ny][nz] == 1:\n",
    "            box[nx][ny][nz] = box[x][y][z] + 1\n",
    "            q.append((nx, ny, nz))\n",
    "\n",
    "ok = True\n",
    "for l in range(h):\n",
    "    for i in range(n):\n",
    "        for j in range(m):\n",
    "            if box[i][j][l] == 0:\n",
    "                ok = False\n",
    "if ok:\n",
    "    print(max(map(max, map(max, box))) - 1)"
   ]
  },
  {
   "cell_type": "code",
   "execution_count": null,
   "id": "c634410d",
   "metadata": {},
   "outputs": [],
   "source": [
    "import sys\n",
    "from collections import deque\n",
    "m,n,h = map(int,input().split()) # mn크기, h상자수\n",
    "graph = []\n",
    "queue = deque([])\n",
    " \n",
    "for i in range(h):\n",
    "    tmp = []\n",
    "    for j in range(n):\n",
    "        tmp.append(list(map(int,sys.stdin.readline().split())))\n",
    "        for k in range(m):\n",
    "            if tmp[j][k]==1:\n",
    "                queue.append([i,j,k])\n",
    "    graph.append(tmp)\n",
    "    \n",
    "dx = [-1,1,0,0,0,0]\n",
    "dy = [0,0,1,-1,0,0]\n",
    "dz = [0,0,0,0,1,-1]\n",
    "while(queue):\n",
    "    x,y,z = queue.popleft()\n",
    "    \n",
    "    for i in range(6):\n",
    "        a = x+dx[i]\n",
    "        b = y+dy[i]\n",
    "        c = z+dz[i]\n",
    "        if 0<=a<h and 0<=b<n and 0<=c<m and graph[a][b][c]==0:\n",
    "            queue.append([a,b,c])\n",
    "            graph[a][b][c] = graph[x][y][z]+1\n",
    "            \n",
    "day = 0\n",
    "for i in graph:\n",
    "    for j in i:\n",
    "        for k in j:\n",
    "            if k==0:\n",
    "                print(-1)\n",
    "                exit(0)\n",
    "        day = max(day,max(j))\n",
    "print(day-1)"
   ]
  },
  {
   "cell_type": "markdown",
   "id": "e7762fbc",
   "metadata": {},
   "source": [
    "## 텀 프로젝트\n",
    "https://www.acmicpc.net/problem/9466"
   ]
  },
  {
   "cell_type": "code",
   "execution_count": 21,
   "id": "f61f9fec",
   "metadata": {},
   "outputs": [
    {
     "name": "stdout",
     "output_type": "stream",
     "text": [
      "2\n",
      "7\n",
      "3 1 3 7 3 4 6\n",
      "3\n",
      "8\n",
      "1 2 3 4 5 6 7 8\n",
      "0\n"
     ]
    }
   ],
   "source": [
    "import sys\n",
    "sys.setrecursionlimit(10 ** 6)\n",
    "\n",
    "def dfs(x):\n",
    "    global result\n",
    "    visited[x] = True\n",
    "    cycle.append(x)\n",
    "    number = numbers[x]\n",
    "    \n",
    "    if visited[number]:\n",
    "        if number in cycle:\n",
    "            result += cycle[cycle.index(number):]\n",
    "        return\n",
    "    else:\n",
    "        dfs(number)\n",
    "\n",
    "for _ in range(int(input())):\n",
    "    n = int(input())\n",
    "    numbers = [0] + list(map(int, input().split()))\n",
    "    visited = [True] + [False] * n\n",
    "    result = []\n",
    "    \n",
    "    for i in range(1, n+1):\n",
    "        if not visited[i]:\n",
    "            cycle = []\n",
    "            dfs(i)\n",
    "    \n",
    "    print(n - len(result))"
   ]
  },
  {
   "cell_type": "markdown",
   "id": "f859ce24",
   "metadata": {},
   "source": [
    "## 치즈\n",
    "https://www.acmicpc.net/problem/2636"
   ]
  },
  {
   "cell_type": "code",
   "execution_count": null,
   "id": "a2f5c9b9",
   "metadata": {},
   "outputs": [],
   "source": [
    "# 맵이 바뀔때마다 bfs 를 시켜야 한다.\n",
    "\n",
    "from collections import deque\n",
    "\n",
    "n, m = map(int, input().split())\n",
    "graph = [list(map(int, input().split())) for _ in range(n)]\n",
    "dx = [0, 0, 1, -1]\n",
    "dy = [1, -1, 0, 0]\n",
    "cheeze = []\n",
    "\n",
    "def bfs():\n",
    "    q = deque([(0, 0)])\n",
    "    visited[0][0] = True\n",
    "    cnt = 0\n",
    "    while q:\n",
    "        x, y = q.popleft()\n",
    "        for k in range(4):\n",
    "            nx, ny = x+dx[k], y+dy[k]\n",
    "            if 0 <= nx < n and 0 <= ny < m and not visited[nx][ny]:\n",
    "                if graph[nx][ny] == 0:\n",
    "                    visited[nx][ny] = True\n",
    "                    q.append((nx, ny))\n",
    "        \n",
    "                else:\n",
    "                    visited[nx][ny] = True\n",
    "                    graph[nx][ny] = 0\n",
    "    cnt += 1\n",
    "    cheeze.append(cnt)\n",
    "    return cnt\n",
    "        \n",
    "\n",
    "\n",
    "hour = 0\n",
    "while True:\n",
    "    hour += 1\n",
    "    visited = [[0]*m for _ in range(n)]\n",
    "    cnt = bfs()\n",
    "    if cnt == 0:\n",
    "        break\n",
    "\n",
    "print(hour-1)\n",
    "print(cheeze[-2])"
   ]
  },
  {
   "cell_type": "markdown",
   "id": "86dcf0b4",
   "metadata": {},
   "source": [
    "## 영역 구하기\n",
    "https://www.acmicpc.net/problem/2583"
   ]
  },
  {
   "cell_type": "code",
   "execution_count": 33,
   "id": "881fc81b",
   "metadata": {},
   "outputs": [
    {
     "name": "stdout",
     "output_type": "stream",
     "text": [
      "5 7 3\n",
      "0 2 4 4\n",
      "1 1 2 5\n",
      "4 0 6 2\n",
      "3\n",
      "1 7 13\n"
     ]
    }
   ],
   "source": [
    "from collections import deque\n",
    "m, n, k = map(int, input().split())\n",
    "graph = [[0]*n for _ in range(m)]\n",
    "dx = [0, 0, -1, 1]\n",
    "dy = [1, -1, 0, 0]\n",
    "for _ in range(k):\n",
    "    x1, y1, x2, y2 = map(int, input().split())\n",
    "    for i in range(y1, y2):\n",
    "        for j in range(x1, x2):\n",
    "            graph[i][j] = 1\n",
    "\n",
    "def bfs(i, j):\n",
    "    q = deque([(i, j)])\n",
    "    area = 1\n",
    "    while q:\n",
    "        y, x = q.popleft()\n",
    "        for k in range(4):\n",
    "            ny, nx = y+dy[k], x+dx[k]\n",
    "            if 0 <= ny < m and 0 <= nx < n and graph[ny][nx] == 0:\n",
    "                graph[ny][nx] = 1\n",
    "                q.append((ny, nx))\n",
    "                area += 1\n",
    "    return area\n",
    "            \n",
    "\n",
    "ans = []\n",
    "for i in range(m):\n",
    "    for j in range(n):\n",
    "        if graph[i][j] == 0:\n",
    "            graph[i][j] = 1\n",
    "            ans.append(bfs(i, j))\n",
    "               \n",
    "print(len(ans))\n",
    "print(*sorted(ans))"
   ]
  },
  {
   "cell_type": "code",
   "execution_count": null,
   "id": "a5053b98",
   "metadata": {},
   "outputs": [],
   "source": [
    "5 7 3\n",
    "0 2 4 4\n",
    "1 1 2 5\n",
    "4 0 6 2"
   ]
  },
  {
   "cell_type": "markdown",
   "id": "e41a5edc",
   "metadata": {},
   "source": [
    "# 2/9 수"
   ]
  },
  {
   "cell_type": "markdown",
   "id": "18e39b75",
   "metadata": {},
   "source": [
    "## 2xn 타일링\n",
    "https://www.acmicpc.net/problem/11726"
   ]
  },
  {
   "cell_type": "code",
   "execution_count": 41,
   "id": "89ba4ed5",
   "metadata": {},
   "outputs": [
    {
     "name": "stdout",
     "output_type": "stream",
     "text": [
      "3\n",
      "3\n"
     ]
    }
   ],
   "source": [
    "MAX = 10007\n",
    "n = int(input())\n",
    "d = [1] * (n+1)\n",
    "for i in range(2, n+1):\n",
    "    d[i] = d[i-1] + d[i-2]\n",
    "print(d[n] % MAX)"
   ]
  },
  {
   "cell_type": "markdown",
   "id": "7a00add4",
   "metadata": {},
   "source": [
    "## 2xn 타일링 2\n",
    "https://www.acmicpc.net/problem/11727   \n",
    "d[n] = d[n-1] + 2 * d[n-2]"
   ]
  },
  {
   "cell_type": "code",
   "execution_count": 45,
   "id": "b2ac7248",
   "metadata": {},
   "outputs": [
    {
     "name": "stdout",
     "output_type": "stream",
     "text": [
      "12\n"
     ]
    },
    {
     "data": {
      "text/plain": [
       "2731"
      ]
     },
     "execution_count": 45,
     "metadata": {},
     "output_type": "execute_result"
    }
   ],
   "source": [
    "MAX = 10007\n",
    "n = int(input())\n",
    "d = [1] * (n+1)\n",
    "for i in range(2, n+1):\n",
    "    d[i] = d[i-1] + 2*d[i-2]\n",
    "print(d[n] % 10007)"
   ]
  },
  {
   "cell_type": "markdown",
   "id": "ec819793",
   "metadata": {},
   "source": [
    "## 연속합\n",
    "https://www.acmicpc.net/problem/1912"
   ]
  },
  {
   "cell_type": "code",
   "execution_count": 46,
   "id": "94c89062",
   "metadata": {},
   "outputs": [
    {
     "name": "stdout",
     "output_type": "stream",
     "text": [
      "10\n",
      "10 -4 3 1 5 6 -35 12 21 -1\n"
     ]
    },
    {
     "data": {
      "text/plain": [
       "[10, 6, 9, 10, 15, 21, -14, 12, 33, 32]"
      ]
     },
     "execution_count": 46,
     "metadata": {},
     "output_type": "execute_result"
    }
   ],
   "source": [
    "n = int(input())\n",
    "num = list(map(int, input().split()))\n",
    "d = [0]*n\n",
    "for i in range(n):\n",
    "    d[i] = num[i]\n",
    "    if i == 0:\n",
    "        continue\n",
    "    if d[i] < d[i-1] + num[i]:\n",
    "        d[i] = d[i-1] + num[i]\n",
    "print(max(d))"
   ]
  },
  {
   "cell_type": "markdown",
   "id": "98be24e5",
   "metadata": {},
   "source": [
    "## 동전 1\n",
    "https://www.acmicpc.net/problem/2293"
   ]
  },
  {
   "cell_type": "code",
   "execution_count": 55,
   "id": "aed0aee5",
   "metadata": {},
   "outputs": [
    {
     "name": "stdout",
     "output_type": "stream",
     "text": [
      "3 10\n",
      "1\n",
      "2\n",
      "5\n",
      "10\n"
     ]
    }
   ],
   "source": [
    "n, k = map(int, input().split())\n",
    "nums = [int(input()) for _ in range(n)]\n",
    "d = [0]*(k+1)\n",
    "d[0] = 1\n",
    "for num in nums:\n",
    "    for i in range(1, k+1):\n",
    "        if i >= num:\n",
    "            d[i] += d[i-num]\n",
    "print(d[k])"
   ]
  },
  {
   "cell_type": "code",
   "execution_count": 54,
   "id": "8f3c2a1a",
   "metadata": {},
   "outputs": [
    {
     "name": "stdout",
     "output_type": "stream",
     "text": [
      "3 10\n",
      "1\n",
      "2\n",
      "5\n"
     ]
    },
    {
     "data": {
      "text/plain": [
       "[1, 1, 2, 3, 5, 9, 15, 26, 44, 75, 128]"
      ]
     },
     "execution_count": 54,
     "metadata": {},
     "output_type": "execute_result"
    }
   ],
   "source": [
    "# 내 풀이 1+2, 2+1 처럼 중복되 있음\n",
    "n, k = map(int, input().split())\n",
    "nums = [int(input()) for _ in range(n)]\n",
    "d = [0]*(k+1)\n",
    "d[0] = 1\n",
    "for i in range(1, k+1):\n",
    "    for num in nums:\n",
    "        if i >= num:\n",
    "            d[i] += d[i-num]\n",
    "d"
   ]
  },
  {
   "cell_type": "markdown",
   "id": "3bdd0e96",
   "metadata": {},
   "source": [
    "## 포도주 시식\n",
    "https://www.acmicpc.net/problem/2156"
   ]
  },
  {
   "cell_type": "code",
   "execution_count": 56,
   "id": "04d9574e",
   "metadata": {},
   "outputs": [
    {
     "name": "stdout",
     "output_type": "stream",
     "text": [
      "6\n",
      "6\n",
      "10\n",
      "13\n",
      "9\n",
      "8\n",
      "1\n"
     ]
    },
    {
     "data": {
      "text/plain": [
       "33"
      ]
     },
     "execution_count": 56,
     "metadata": {},
     "output_type": "execute_result"
    }
   ],
   "source": [
    "# https://www.acmicpc.net/problem/2579 << 이 문제와 유사\n",
    "# 시간 될때 2차원으로 풀어보기도 할 것\n",
    "n = int(input())\n",
    "num = [0] + [int(input()) for _ in range(n)]\n",
    "d = [0] * 10001\n",
    "d[1] = num[1]\n",
    "d[2] = num[1] + num[2]\n",
    "for i in range(3, n+1):\n",
    "    d[i] = max(d[i-1], d[i-2] + num[i], d[i-3] + num[i-1] + num[i])\n",
    "print(d[n])"
   ]
  }
 ],
 "metadata": {
  "kernelspec": {
   "display_name": "Python 3",
   "language": "python",
   "name": "python3"
  },
  "language_info": {
   "codemirror_mode": {
    "name": "ipython",
    "version": 3
   },
   "file_extension": ".py",
   "mimetype": "text/x-python",
   "name": "python",
   "nbconvert_exporter": "python",
   "pygments_lexer": "ipython3",
   "version": "3.8.8"
  }
 },
 "nbformat": 4,
 "nbformat_minor": 5
}
