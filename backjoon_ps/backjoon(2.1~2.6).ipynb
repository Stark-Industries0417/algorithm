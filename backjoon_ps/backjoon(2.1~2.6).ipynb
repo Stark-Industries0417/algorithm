{
 "cells": [
  {
   "cell_type": "markdown",
   "id": "167ff0f5",
   "metadata": {},
   "source": [
    "# 2/1 화"
   ]
  },
  {
   "cell_type": "markdown",
   "id": "ba27e480",
   "metadata": {},
   "source": [
    "## 로또\n",
    "https://www.acmicpc.net/problem/6603"
   ]
  },
  {
   "cell_type": "code",
   "execution_count": 36,
   "id": "5b150dc7",
   "metadata": {},
   "outputs": [
    {
     "name": "stdout",
     "output_type": "stream",
     "text": [
      "7 1 2 3 4 5 6 7\n",
      "1 2 3 4 5 6\n",
      "1 2 3 4 5 7\n",
      "1 2 3 4 6 7\n",
      "1 2 3 5 6 7\n",
      "1 2 4 5 6 7\n",
      "1 3 4 5 6 7\n",
      "2 3 4 5 6 7\n",
      "8 1 2 3 5 8 13 21 34\n",
      "1 2 3 5 8 13\n",
      "1 2 3 5 8 21\n",
      "1 2 3 5 8 34\n",
      "1 2 3 5 13 21\n",
      "1 2 3 5 13 34\n",
      "1 2 3 5 21 34\n",
      "1 2 3 8 13 21\n",
      "1 2 3 8 13 34\n",
      "1 2 3 8 21 34\n",
      "1 2 3 13 21 34\n",
      "1 2 5 8 13 21\n",
      "1 2 5 8 13 34\n",
      "1 2 5 8 21 34\n",
      "1 2 5 13 21 34\n",
      "1 2 8 13 21 34\n",
      "1 3 5 8 13 21\n",
      "1 3 5 8 13 34\n",
      "1 3 5 8 21 34\n",
      "1 3 5 13 21 34\n",
      "1 3 8 13 21 34\n",
      "1 5 8 13 21 34\n",
      "2 3 5 8 13 21\n",
      "2 3 5 8 13 34\n",
      "2 3 5 8 21 34\n",
      "2 3 5 13 21 34\n",
      "2 3 8 13 21 34\n",
      "2 5 8 13 21 34\n",
      "3 5 8 13 21 34\n",
      "0\n"
     ]
    }
   ],
   "source": [
    "import sys\n",
    "sys.setrecursionlimit(10**6)\n",
    "\n",
    "def permutation(start: int, idx: int, lotto: list) -> None:\n",
    "    if idx == 6:\n",
    "        print(*lotto)\n",
    "        return\n",
    "    \n",
    "    for i in range(start, k):\n",
    "        if check[i]:\n",
    "            continue\n",
    "        check[i] = True\n",
    "        permutation(i+1, idx+1, lotto+[s[i]])\n",
    "        check[i] = False\n",
    "        \n",
    "while True:        \n",
    "    if k == 0:\n",
    "        break\n",
    "    k, *s = list(map(int, input().split()))\n",
    "    check = [False]*k\n",
    "    permutation(0, 0, [])"
   ]
  },
  {
   "cell_type": "markdown",
   "id": "74a7b53c",
   "metadata": {},
   "source": [
    "## 부분수열의 합\n",
    "https://www.acmicpc.net/problem/1182"
   ]
  },
  {
   "cell_type": "code",
   "execution_count": 43,
   "id": "8aeeecf1",
   "metadata": {},
   "outputs": [
    {
     "name": "stdout",
     "output_type": "stream",
     "text": [
      "5 0\n",
      "-7 -3 -2 5 8\n",
      "1\n"
     ]
    }
   ],
   "source": [
    "n, m = map(int, input().split())\n",
    "num = list(map(int, input().split()))\n",
    "ans = 0\n",
    "\n",
    "for i in range(1, 2**n):\n",
    "    s = 0\n",
    "    for k in range(n):\n",
    "        if i & (1 << k):\n",
    "            s += num[k]\n",
    "    if s == m:\n",
    "        ans += 1\n",
    "print(ans)"
   ]
  },
  {
   "cell_type": "markdown",
   "id": "dd20779a",
   "metadata": {},
   "source": [
    "## 1, 2, 3 더하기\n",
    "https://www.acmicpc.net/problem/9095"
   ]
  },
  {
   "cell_type": "code",
   "execution_count": 50,
   "id": "2389fc7d",
   "metadata": {},
   "outputs": [
    {
     "name": "stdout",
     "output_type": "stream",
     "text": [
      "1\n",
      "3\n",
      "4\n"
     ]
    }
   ],
   "source": [
    "d = [1]*12\n",
    "d[2] = 2\n",
    "for i in range(3, 12):\n",
    "    d[i] = d[i-1] + d[i-2] + d[i-3]\n",
    "\n",
    "\n",
    "for _ in range(int(input())):\n",
    "    n = int(input())\n",
    "    print(d[n])"
   ]
  },
  {
   "cell_type": "markdown",
   "id": "0b08b8c3",
   "metadata": {},
   "source": [
    "## <span style='color: red' >N-Queen</span>\n",
    "https://www.acmicpc.net/problem/9663"
   ]
  },
  {
   "cell_type": "code",
   "execution_count": 56,
   "id": "d4ff81ac",
   "metadata": {},
   "outputs": [
    {
     "name": "stdout",
     "output_type": "stream",
     "text": [
      "4\n",
      "2\n"
     ]
    }
   ],
   "source": [
    "def check(x):\n",
    "    for i in range(x):\n",
    "        if col[x] == col[i] or abs(col[i]-col[x]) == x-i:\n",
    "            return False\n",
    "    return True\n",
    "\n",
    "def dfs(x):\n",
    "    global res\n",
    "    if x == n:\n",
    "        res += 1\n",
    "        return\n",
    "    for i in range(n):\n",
    "        col[x] = i\n",
    "        if check(x):\n",
    "            dfs(x+1)\n",
    "n = int(input())\n",
    "res = 0\n",
    "col = [0]*15\n",
    "dfs(0)\n",
    "print(res)"
   ]
  },
  {
   "cell_type": "markdown",
   "id": "51981416",
   "metadata": {},
   "source": [
    "## 약수\n",
    "https://www.acmicpc.net/problem/1037"
   ]
  },
  {
   "cell_type": "code",
   "execution_count": 60,
   "id": "5d2b7dbc",
   "metadata": {},
   "outputs": [
    {
     "name": "stdout",
     "output_type": "stream",
     "text": [
      "6\n",
      "3 4 2 12 6 8\n",
      "24\n"
     ]
    }
   ],
   "source": [
    "n = int(input())\n",
    "a = list(map(int, input().split()))\n",
    "a.sort()\n",
    "print(a[0] * a[-1])"
   ]
  },
  {
   "cell_type": "markdown",
   "id": "40f9fa02",
   "metadata": {},
   "source": [
    "# 2/2 수"
   ]
  },
  {
   "cell_type": "markdown",
   "id": "c61a617b",
   "metadata": {},
   "source": [
    "## 소수 찾기\n",
    "https://www.acmicpc.net/problem/1978"
   ]
  },
  {
   "cell_type": "code",
   "execution_count": 1,
   "id": "7d8da879",
   "metadata": {},
   "outputs": [
    {
     "name": "stdout",
     "output_type": "stream",
     "text": [
      "4\n",
      "1 3 5 7\n",
      "3\n"
     ]
    }
   ],
   "source": [
    "n = int(input())\n",
    "mino = list(map(int, input().split()))\n",
    "cnt = 0\n",
    "for m in mino:\n",
    "    error = 0\n",
    "    if m > 1:\n",
    "        for i in range(2, m):\n",
    "            if m % i == 0:\n",
    "                error += 1\n",
    "        if error == 0:\n",
    "            cnt += 1\n",
    "print(cnt)"
   ]
  },
  {
   "cell_type": "markdown",
   "id": "cc97a4d7",
   "metadata": {},
   "source": [
    "## 소수 구하기\n",
    "https://www.acmicpc.net/problem/1929"
   ]
  },
  {
   "cell_type": "code",
   "execution_count": 2,
   "id": "a8528b00",
   "metadata": {},
   "outputs": [
    {
     "name": "stdout",
     "output_type": "stream",
     "text": [
      "3 16\n",
      "3\n",
      "5\n",
      "7\n",
      "11\n",
      "13\n"
     ]
    }
   ],
   "source": [
    "MAX = 1000000\n",
    "check = [True] * (MAX + 1)\n",
    "check [0] = check[1] = False\n",
    "\n",
    "for i in range(2, MAX+1):\n",
    "    if check[i]:\n",
    "        j = i ** 2\n",
    "        while j <= MAX:\n",
    "            check[j] = False\n",
    "            j += i\n",
    "\n",
    "m, n = map(int, input().split())\n",
    "for i in range(m, n+1):\n",
    "    if check[i]:\n",
    "        print(i)"
   ]
  },
  {
   "cell_type": "markdown",
   "id": "37841934",
   "metadata": {},
   "source": [
    "## 최대공약수와 최소공배수\n",
    "https://www.acmicpc.net/problem/2609"
   ]
  },
  {
   "cell_type": "code",
   "execution_count": 5,
   "id": "a9c39ac6",
   "metadata": {},
   "outputs": [
    {
     "name": "stdout",
     "output_type": "stream",
     "text": [
      "24 18\n",
      "6\n",
      "72\n"
     ]
    }
   ],
   "source": [
    "a, b = map(int, input().split())\n",
    "\n",
    "def gcd(x, y):\n",
    "    if y == 0:\n",
    "        print(x)\n",
    "        print(a*b//x)\n",
    "        return \n",
    "    else:\n",
    "        return gcd(y, x%y)\n",
    "gcd(a, b)"
   ]
  },
  {
   "cell_type": "markdown",
   "id": "ce291e06",
   "metadata": {},
   "source": [
    "## 스타트와 링크\n",
    "https://www.acmicpc.net/problem/14889"
   ]
  },
  {
   "cell_type": "code",
   "execution_count": null,
   "id": "b8d0ef5e",
   "metadata": {},
   "outputs": [],
   "source": [
    "def go(index: int, first: list, second: list) -> int:\n",
    "    if index == n:\n",
    "        if len(first) != n//2:\n",
    "            return -1\n",
    "        if len(second) != n//2:\n",
    "            return -1\n",
    "        t1 = t2 = 0\n",
    "        for i in range(n//2):\n",
    "            for j in range(n//2):\n",
    "                if i == j:\n",
    "                    continue\n",
    "                t1 += s[first[i]][first[j]]\n",
    "                t2 += s[second[i]][second[j]]\n",
    "        diff = abs(t1 - t2)\n",
    "        return diff\n",
    "    \n",
    "    if len(first) > n//2: return -1          # 백트래킹 종료 조건 없으면 모든 경우 다 살피는 브루트 포스임\n",
    "    if len(second) > n//2: return -1         # 백트래킹 종료 조건\n",
    "    \n",
    "    ans = -1\n",
    "    t1 = go(index + 1, first + [index], second)\n",
    "    if ans == -1 or (t1 != -1 and ans > t1):\n",
    "        ans = t1\n",
    "    \n",
    "    t2 = go(index + 1, first, second + [index])\n",
    "    if ans == -1 or (t2 != -1 and ans > t2):\n",
    "        ans = t2\n",
    "    return ans\n",
    "\n",
    "n = int(input())\n",
    "s = [list(map(int, input().split())) for _ in range(n)]\n",
    "print(go(0, [], []))"
   ]
  },
  {
   "cell_type": "markdown",
   "id": "9d2202ca",
   "metadata": {},
   "source": [
    "## 치킨 배달\n",
    "https://www.acmicpc.net/problem/15686"
   ]
  },
  {
   "cell_type": "markdown",
   "id": "45916edc",
   "metadata": {},
   "source": [
    "# 2/3 목"
   ]
  },
  {
   "cell_type": "markdown",
   "id": "1affe910",
   "metadata": {},
   "source": [
    "## 좋은수열\n",
    "https://www.acmicpc.net/problem/2661"
   ]
  },
  {
   "cell_type": "code",
   "execution_count": 20,
   "id": "1ff2df1d",
   "metadata": {
    "scrolled": true
   },
   "outputs": [
    {
     "name": "stdout",
     "output_type": "stream",
     "text": [
      "7\n",
      "1213121"
     ]
    },
    {
     "data": {
      "text/plain": [
       "0"
      ]
     },
     "execution_count": 20,
     "metadata": {},
     "output_type": "execute_result"
    }
   ],
   "source": [
    "def back_tracking(idx):\n",
    "    for i in range(1, (idx//2) + 1):\n",
    "        if s[-i:] == s[-2*i:-i]: return -1\n",
    "        \n",
    "    if idx == n:\n",
    "        for i in range(n): print(s[i], end='')\n",
    "        return 0\n",
    "    for i in range(1, 4):\n",
    "        s.append(i)\n",
    "        if back_tracking(idx + 1) == 0:\n",
    "            return 0\n",
    "        s.pop()\n",
    "n = int(input())\n",
    "s = []\n",
    "back_tracking(0)"
   ]
  },
  {
   "cell_type": "markdown",
   "id": "f6416034",
   "metadata": {},
   "source": [
    "## 스도쿠\n",
    "https://www.acmicpc.net/problem/2580"
   ]
  },
  {
   "cell_type": "markdown",
   "id": "11846136",
   "metadata": {},
   "source": [
    "## 가로수\n",
    "https://www.acmicpc.net/problem/2485"
   ]
  },
  {
   "cell_type": "code",
   "execution_count": 25,
   "id": "1f6a9635",
   "metadata": {},
   "outputs": [
    {
     "name": "stdout",
     "output_type": "stream",
     "text": [
      "4\n",
      "2\n",
      "6\n",
      "12\n",
      "18\n",
      "5\n"
     ]
    }
   ],
   "source": [
    "import sys\n",
    "\n",
    "\n",
    "def gcd_func(a, b):\n",
    "    while b != 0:\n",
    "        a, b = b, a % b\n",
    "\n",
    "    return a\n",
    "\n",
    "\n",
    "input = sys.stdin.readline\n",
    "N = int(input())\n",
    "\n",
    "trees = [int(input()) for _ in range(N)]\n",
    "\n",
    "gaps = []\n",
    "for i in range(1, N):  # 가로수의 간격\n",
    "    gaps.append(trees[i] - trees[i - 1])\n",
    "\n",
    "gaps_set = list(set(gaps))  # 간격 중복 제거\n",
    "\n",
    "gcd = gaps_set[0]\n",
    "for i in range(1, len(gaps_set)):  # 간격들의 최대공약수\n",
    "    gcd = gcd_func(gcd, gaps_set[i])\n",
    "\n",
    "answer_tree_cnt = 0\n",
    "for gap in gaps:  # 간격을 최대공약수로 나누고 1을 빼주면 심을 나무 숫자\n",
    "    answer_tree_cnt += gap // gcd - 1\n",
    "\n",
    "print(answer_tree_cnt)"
   ]
  }
 ],
 "metadata": {
  "kernelspec": {
   "display_name": "Python 3",
   "language": "python",
   "name": "python3"
  },
  "language_info": {
   "codemirror_mode": {
    "name": "ipython",
    "version": 3
   },
   "file_extension": ".py",
   "mimetype": "text/x-python",
   "name": "python",
   "nbconvert_exporter": "python",
   "pygments_lexer": "ipython3",
   "version": "3.8.8"
  }
 },
 "nbformat": 4,
 "nbformat_minor": 5
}
