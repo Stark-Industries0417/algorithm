{
 "cells": [
  {
   "cell_type": "markdown",
   "id": "167ff0f5",
   "metadata": {},
   "source": [
    "# 2/1 화"
   ]
  },
  {
   "cell_type": "markdown",
   "id": "ba27e480",
   "metadata": {},
   "source": [
    "## 로또\n",
    "https://www.acmicpc.net/problem/6603"
   ]
  },
  {
   "cell_type": "code",
   "execution_count": 36,
   "id": "5b150dc7",
   "metadata": {},
   "outputs": [
    {
     "name": "stdout",
     "output_type": "stream",
     "text": [
      "7 1 2 3 4 5 6 7\n",
      "1 2 3 4 5 6\n",
      "1 2 3 4 5 7\n",
      "1 2 3 4 6 7\n",
      "1 2 3 5 6 7\n",
      "1 2 4 5 6 7\n",
      "1 3 4 5 6 7\n",
      "2 3 4 5 6 7\n",
      "8 1 2 3 5 8 13 21 34\n",
      "1 2 3 5 8 13\n",
      "1 2 3 5 8 21\n",
      "1 2 3 5 8 34\n",
      "1 2 3 5 13 21\n",
      "1 2 3 5 13 34\n",
      "1 2 3 5 21 34\n",
      "1 2 3 8 13 21\n",
      "1 2 3 8 13 34\n",
      "1 2 3 8 21 34\n",
      "1 2 3 13 21 34\n",
      "1 2 5 8 13 21\n",
      "1 2 5 8 13 34\n",
      "1 2 5 8 21 34\n",
      "1 2 5 13 21 34\n",
      "1 2 8 13 21 34\n",
      "1 3 5 8 13 21\n",
      "1 3 5 8 13 34\n",
      "1 3 5 8 21 34\n",
      "1 3 5 13 21 34\n",
      "1 3 8 13 21 34\n",
      "1 5 8 13 21 34\n",
      "2 3 5 8 13 21\n",
      "2 3 5 8 13 34\n",
      "2 3 5 8 21 34\n",
      "2 3 5 13 21 34\n",
      "2 3 8 13 21 34\n",
      "2 5 8 13 21 34\n",
      "3 5 8 13 21 34\n",
      "0\n"
     ]
    }
   ],
   "source": [
    "import sys\n",
    "sys.setrecursionlimit(10**6)\n",
    "\n",
    "def permutation(start: int, idx: int, lotto: list) -> None:\n",
    "    if idx == 6:\n",
    "        print(*lotto)\n",
    "        return\n",
    "    \n",
    "    for i in range(start, k):\n",
    "        if check[i]:\n",
    "            continue\n",
    "        check[i] = True\n",
    "        permutation(i+1, idx+1, lotto+[s[i]])\n",
    "        check[i] = False\n",
    "        \n",
    "while True:        \n",
    "    if k == 0:\n",
    "        break\n",
    "    k, *s = list(map(int, input().split()))\n",
    "    check = [False]*k\n",
    "    permutation(0, 0, [])"
   ]
  },
  {
   "cell_type": "markdown",
   "id": "74a7b53c",
   "metadata": {},
   "source": [
    "## 부분수열의 합\n",
    "https://www.acmicpc.net/problem/1182"
   ]
  },
  {
   "cell_type": "code",
   "execution_count": 43,
   "id": "8aeeecf1",
   "metadata": {},
   "outputs": [
    {
     "name": "stdout",
     "output_type": "stream",
     "text": [
      "5 0\n",
      "-7 -3 -2 5 8\n",
      "1\n"
     ]
    }
   ],
   "source": [
    "n, m = map(int, input().split())\n",
    "num = list(map(int, input().split()))\n",
    "ans = 0\n",
    "\n",
    "for i in range(1, 2**n):\n",
    "    s = 0\n",
    "    for k in range(n):\n",
    "        if i & (1 << k):\n",
    "            s += num[k]\n",
    "    if s == m:\n",
    "        ans += 1\n",
    "print(ans)"
   ]
  },
  {
   "cell_type": "markdown",
   "id": "dd20779a",
   "metadata": {},
   "source": [
    "## 1, 2, 3 더하기\n",
    "https://www.acmicpc.net/problem/9095"
   ]
  },
  {
   "cell_type": "code",
   "execution_count": 50,
   "id": "2389fc7d",
   "metadata": {},
   "outputs": [
    {
     "name": "stdout",
     "output_type": "stream",
     "text": [
      "1\n",
      "3\n",
      "4\n"
     ]
    }
   ],
   "source": [
    "d = [1]*12\n",
    "d[2] = 2\n",
    "for i in range(3, 12):\n",
    "    d[i] = d[i-1] + d[i-2] + d[i-3]\n",
    "\n",
    "\n",
    "for _ in range(int(input())):\n",
    "    n = int(input())\n",
    "    print(d[n])"
   ]
  },
  {
   "cell_type": "markdown",
   "id": "0b08b8c3",
   "metadata": {},
   "source": [
    "## <span style='color: red' >N-Queen</span>\n",
    "https://www.acmicpc.net/problem/9663"
   ]
  },
  {
   "cell_type": "code",
   "execution_count": 56,
   "id": "d4ff81ac",
   "metadata": {},
   "outputs": [
    {
     "name": "stdout",
     "output_type": "stream",
     "text": [
      "4\n",
      "2\n"
     ]
    }
   ],
   "source": [
    "def check(x):\n",
    "    for i in range(x):\n",
    "        if col[x] == col[i] or abs(col[i]-col[x]) == x-i:\n",
    "            return False\n",
    "    return True\n",
    "\n",
    "def dfs(x):\n",
    "    global res\n",
    "    if x == n:\n",
    "        res += 1\n",
    "        return\n",
    "    for i in range(n):\n",
    "        col[x] = i\n",
    "        if check(x):\n",
    "            dfs(x+1)\n",
    "n = int(input())\n",
    "res = 0\n",
    "col = [0]*15\n",
    "dfs(0)\n",
    "print(res)"
   ]
  },
  {
   "cell_type": "markdown",
   "id": "51981416",
   "metadata": {},
   "source": [
    "## 약수\n",
    "https://www.acmicpc.net/problem/1037"
   ]
  },
  {
   "cell_type": "code",
   "execution_count": 60,
   "id": "5d2b7dbc",
   "metadata": {},
   "outputs": [
    {
     "name": "stdout",
     "output_type": "stream",
     "text": [
      "6\n",
      "3 4 2 12 6 8\n",
      "24\n"
     ]
    }
   ],
   "source": [
    "n = int(input())\n",
    "a = list(map(int, input().split()))\n",
    "a.sort()\n",
    "print(a[0] * a[-1])"
   ]
  },
  {
   "cell_type": "markdown",
   "id": "40f9fa02",
   "metadata": {},
   "source": [
    "# 2/2 수"
   ]
  },
  {
   "cell_type": "markdown",
   "id": "c61a617b",
   "metadata": {},
   "source": [
    "## 소수 찾기\n",
    "https://www.acmicpc.net/problem/1978"
   ]
  },
  {
   "cell_type": "code",
   "execution_count": 1,
   "id": "7d8da879",
   "metadata": {},
   "outputs": [
    {
     "name": "stdout",
     "output_type": "stream",
     "text": [
      "4\n",
      "1 3 5 7\n",
      "3\n"
     ]
    }
   ],
   "source": [
    "n = int(input())\n",
    "mino = list(map(int, input().split()))\n",
    "cnt = 0\n",
    "for m in mino:\n",
    "    error = 0\n",
    "    if m > 1:\n",
    "        for i in range(2, m):\n",
    "            if m % i == 0:\n",
    "                error += 1\n",
    "        if error == 0:\n",
    "            cnt += 1\n",
    "print(cnt)"
   ]
  },
  {
   "cell_type": "markdown",
   "id": "cc97a4d7",
   "metadata": {},
   "source": [
    "## 소수 구하기\n",
    "https://www.acmicpc.net/problem/1929"
   ]
  },
  {
   "cell_type": "code",
   "execution_count": 2,
   "id": "a8528b00",
   "metadata": {},
   "outputs": [
    {
     "name": "stdout",
     "output_type": "stream",
     "text": [
      "3 16\n",
      "3\n",
      "5\n",
      "7\n",
      "11\n",
      "13\n"
     ]
    }
   ],
   "source": [
    "MAX = 1000000\n",
    "check = [True] * (MAX + 1)\n",
    "check [0] = check[1] = False\n",
    "\n",
    "for i in range(2, MAX+1):\n",
    "    if check[i]:\n",
    "        j = i ** 2\n",
    "        while j <= MAX:\n",
    "            check[j] = False\n",
    "            j += i\n",
    "\n",
    "m, n = map(int, input().split())\n",
    "for i in range(m, n+1):\n",
    "    if check[i]:\n",
    "        print(i)"
   ]
  },
  {
   "cell_type": "markdown",
   "id": "37841934",
   "metadata": {},
   "source": [
    "## 최대공약수와 최소공배수\n",
    "https://www.acmicpc.net/problem/2609"
   ]
  },
  {
   "cell_type": "code",
   "execution_count": 5,
   "id": "a9c39ac6",
   "metadata": {},
   "outputs": [
    {
     "name": "stdout",
     "output_type": "stream",
     "text": [
      "24 18\n",
      "6\n",
      "72\n"
     ]
    }
   ],
   "source": [
    "a, b = map(int, input().split())\n",
    "\n",
    "def gcd(x, y):\n",
    "    if y == 0:\n",
    "        print(x)\n",
    "        print(a*b//x)\n",
    "        return \n",
    "    else:\n",
    "        return gcd(y, x%y)\n",
    "gcd(a, b)"
   ]
  },
  {
   "cell_type": "markdown",
   "id": "ce291e06",
   "metadata": {},
   "source": [
    "## 스타트와 링크\n",
    "https://www.acmicpc.net/problem/14889"
   ]
  },
  {
   "cell_type": "code",
   "execution_count": null,
   "id": "b8d0ef5e",
   "metadata": {},
   "outputs": [],
   "source": [
    "def go(index: int, first: list, second: list) -> int:\n",
    "    if index == n:\n",
    "        if len(first) != n//2:\n",
    "            return -1\n",
    "        if len(second) != n//2:\n",
    "            return -1\n",
    "        t1 = t2 = 0\n",
    "        for i in range(n//2):\n",
    "            for j in range(n//2):\n",
    "                if i == j:\n",
    "                    continue\n",
    "                t1 += s[first[i]][first[j]]\n",
    "                t2 += s[second[i]][second[j]]\n",
    "        diff = abs(t1 - t2)\n",
    "        return diff\n",
    "    \n",
    "    if len(first) > n//2: return -1          # 백트래킹 종료 조건 없으면 모든 경우 다 살피는 브루트 포스임\n",
    "    if len(second) > n//2: return -1         # 백트래킹 종료 조건\n",
    "    \n",
    "    ans = -1\n",
    "    t1 = go(index + 1, first + [index], second)\n",
    "    if ans == -1 or (t1 != -1 and ans > t1):\n",
    "        ans = t1\n",
    "    \n",
    "    t2 = go(index + 1, first, second + [index])\n",
    "    if ans == -1 or (t2 != -1 and ans > t2):\n",
    "        ans = t2\n",
    "    return ans\n",
    "\n",
    "n = int(input())\n",
    "s = [list(map(int, input().split())) for _ in range(n)]\n",
    "print(go(0, [], []))"
   ]
  },
  {
   "cell_type": "markdown",
   "id": "9d2202ca",
   "metadata": {},
   "source": [
    "## 치킨 배달\n",
    "https://www.acmicpc.net/problem/15686"
   ]
  },
  {
   "cell_type": "markdown",
   "id": "45916edc",
   "metadata": {},
   "source": [
    "# 2/3 목"
   ]
  },
  {
   "cell_type": "markdown",
   "id": "1affe910",
   "metadata": {},
   "source": [
    "## 좋은수열\n",
    "https://www.acmicpc.net/problem/2661"
   ]
  },
  {
   "cell_type": "code",
   "execution_count": 20,
   "id": "1ff2df1d",
   "metadata": {
    "scrolled": true
   },
   "outputs": [
    {
     "name": "stdout",
     "output_type": "stream",
     "text": [
      "7\n",
      "1213121"
     ]
    },
    {
     "data": {
      "text/plain": [
       "0"
      ]
     },
     "execution_count": 20,
     "metadata": {},
     "output_type": "execute_result"
    }
   ],
   "source": [
    "def back_tracking(idx):\n",
    "    for i in range(1, (idx//2) + 1):\n",
    "        if s[-i:] == s[-2*i:-i]: return -1\n",
    "        \n",
    "    if idx == n:\n",
    "        for i in range(n): print(s[i], end='')\n",
    "        return 0\n",
    "    for i in range(1, 4):\n",
    "        s.append(i)\n",
    "        if back_tracking(idx + 1) == 0:\n",
    "            return 0\n",
    "        s.pop()\n",
    "n = int(input())\n",
    "s = []\n",
    "back_tracking(0)"
   ]
  },
  {
   "cell_type": "markdown",
   "id": "f6416034",
   "metadata": {},
   "source": [
    "## 스도쿠\n",
    "https://www.acmicpc.net/problem/2580"
   ]
  },
  {
   "cell_type": "markdown",
   "id": "11846136",
   "metadata": {},
   "source": [
    "## 가로수\n",
    "https://www.acmicpc.net/problem/2485"
   ]
  },
  {
   "cell_type": "code",
   "execution_count": 25,
   "id": "5c4bffae",
   "metadata": {},
   "outputs": [
    {
     "name": "stdout",
     "output_type": "stream",
     "text": [
      "4\n",
      "1\n",
      "3\n",
      "7\n",
      "13\n",
      "3\n"
     ]
    }
   ],
   "source": [
    "n = int(input())\n",
    "lights = [int(input()) for _ in range(n)]\n",
    "gaps = [lights[i] - lights[i-1] for i in range(1, n)]\n",
    "gaps_set = list(set(gaps))\n",
    "\n",
    "def gcd_func(a, b):\n",
    "    if b == 0:\n",
    "        return a\n",
    "    else:\n",
    "        return gcd_func(b, a%b)\n",
    "\n",
    "gcd = gaps[0]\n",
    "for i in range(1, len(gaps_set)):\n",
    "    gcd = gcd_func(gcd, gaps[i])\n",
    "\n",
    "ans = 0\n",
    "for gap in gaps:\n",
    "    ans += ((gap // gcd) - 1)\n",
    "print(ans)"
   ]
  },
  {
   "cell_type": "markdown",
   "id": "c9edffc8",
   "metadata": {},
   "source": [
    "# 2/4 금"
   ]
  },
  {
   "cell_type": "markdown",
   "id": "77a3f31d",
   "metadata": {},
   "source": [
    "## 소수의 연속합\n",
    "https://www.acmicpc.net/problem/1644"
   ]
  },
  {
   "cell_type": "code",
   "execution_count": null,
   "id": "7c93fb74",
   "metadata": {},
   "outputs": [],
   "source": [
    "n = int(input())\n",
    "check = [True] * (n+1)\n",
    "check[0] = check[1] = False\n",
    "mino = []\n",
    "for i in range(2, n+1):\n",
    "    if check[i]:\n",
    "        mino.append(i)\n",
    "        j = i ** 2\n",
    "        while j <= n:\n",
    "            check[j] = False\n",
    "            j += i\n",
    "\n",
    "ans = 0\n",
    "left = 0\n",
    "right = 0\n",
    "while right <= len(mino):\n",
    "    s = sum(mino[left:right])\n",
    "    if s == n:\n",
    "        ans += 1\n",
    "        right += 1\n",
    "    elif s < n:\n",
    "        right += 1\n",
    "    else:\n",
    "        left += 1\n",
    "print(ans)"
   ]
  },
  {
   "cell_type": "markdown",
   "id": "c88e9ca4",
   "metadata": {},
   "source": [
    "## 골드바흐의 추측\n",
    "https://www.acmicpc.net/problem/6588"
   ]
  },
  {
   "cell_type": "code",
   "execution_count": 9,
   "id": "d350241e",
   "metadata": {},
   "outputs": [
    {
     "name": "stdout",
     "output_type": "stream",
     "text": [
      "8\n",
      "8 = 3 + 5\n",
      "20\n",
      "20 = 3 + 17\n",
      "0\n"
     ]
    }
   ],
   "source": [
    "MAX = 1000000\n",
    "check = [True] * (MAX+1)\n",
    "check[0] = check[1] = False\n",
    "prime = []\n",
    "for i in range(2, MAX+1):\n",
    "    if check[i]:\n",
    "        prime.append(i)\n",
    "        j = i ** 2\n",
    "        while j <= MAX:\n",
    "            check[j] = False\n",
    "            j += i\n",
    "while True:\n",
    "    n = int(input())\n",
    "    if n == 0:\n",
    "        break\n",
    "    for p in prime:\n",
    "        if check[n-p]:\n",
    "            print(f'{n} = {p} + {n-p}')\n",
    "            break"
   ]
  },
  {
   "cell_type": "markdown",
   "id": "9565fc26",
   "metadata": {},
   "source": [
    "## 환상의 짝꿍\n",
    "https://www.acmicpc.net/problem/15711"
   ]
  },
  {
   "cell_type": "code",
   "execution_count": 1,
   "id": "94fa4cf5",
   "metadata": {},
   "outputs": [
    {
     "name": "stdout",
     "output_type": "stream",
     "text": [
      "1\n",
      "5 5\n",
      "YES\n"
     ]
    }
   ],
   "source": [
    "MAX = 2000000\n",
    "check = [True] * (MAX+1)\n",
    "check[0] = check[1] = False\n",
    "prime = []\n",
    "for i in range(2, MAX+1):\n",
    "    if check[i]:\n",
    "        prime.append(i)\n",
    "        j = i ** 2\n",
    "        while j <= MAX:\n",
    "            check[j] = False\n",
    "            j += i\n",
    "\n",
    "for _ in range(int(input())):\n",
    "    a, b = map(int, input().split())\n",
    "    s = a + b\n",
    "    if s < 4:\n",
    "        print('NO')\n",
    "    elif s % 2 == 0:\n",
    "        print('YES')\n",
    "    else:\n",
    "        if check[s-2]:\n",
    "            print('YES')\n",
    "        else:\n",
    "            print('NO')"
   ]
  },
  {
   "cell_type": "code",
   "execution_count": null,
   "id": "9a6eddce",
   "metadata": {},
   "outputs": [],
   "source": [
    "import sys\n",
    "\n",
    "# 문제의 맥스값까지의 소수를 미리 다 구하기 (값이 커서 소수들을 따로 저장해둠)\n",
    "num = 2000000\n",
    "arr = [False, False] + [True for _ in range(num-1)]\n",
    "primes = []\n",
    "for i in range(2, num+1):\n",
    "    if arr[i]:\n",
    "        primes.append(i)\n",
    "        for k in range(i+i, num, i):\n",
    "            arr[k] = False\n",
    "\n",
    "\n",
    "def isPrime(n):\n",
    "\t# 2000000보다 크면 소수로 나눠지는지 확인\n",
    "    if n > num:\n",
    "        for prime in primes:\n",
    "            if prime >= n:\n",
    "                break\n",
    "            elif n % prime == 0:\n",
    "                return False\n",
    "        return True\n",
    "        \n",
    "    # 2000000보다 작으면 소수인지 바로 확인\n",
    "    else:\n",
    "        return arr[n]\n",
    "\n",
    "\n",
    "T = int(sys.stdin.readline())\n",
    "\n",
    "for _ in range(T):\n",
    "    A, B = map(int, sys.stdin.readline().split(\" \"))\n",
    "    s = A+B\n",
    "\n",
    "    # 2나 3일 경우엔 NO\n",
    "    if s < 4:\n",
    "        print(\"NO\")\n",
    "\n",
    "    # 합이 4 이상의 짝수일 경우는 무조건 YES (-> 골드바흐의 추측)\n",
    "    elif s % 2 == 0:\n",
    "        print(\"YES\")\n",
    "\n",
    "    # 홀수소수는 짝수소수(2)+홀수소수의 조합으로밖에 안됨\n",
    "    # s-2가 소수인지 확인\n",
    "    else:\n",
    "        if isPrime(s-2):\n",
    "            print(\"YES\")\n",
    "        else:\n",
    "            print(\"NO\")"
   ]
  },
  {
   "cell_type": "markdown",
   "id": "88001884",
   "metadata": {},
   "source": [
    "## 제곱 ㄴㄴ 수\n",
    "https://www.acmicpc.net/problem/1016"
   ]
  },
  {
   "cell_type": "code",
   "execution_count": 16,
   "id": "63680b15",
   "metadata": {},
   "outputs": [
    {
     "name": "stdout",
     "output_type": "stream",
     "text": [
      "15 15\n",
      "1\n"
     ]
    }
   ],
   "source": [
    "# [5, 6, 7, 8, 9]에서 어떤 값 7의 인덱스를 알아내려면 7 - 제일 처음 값 하면 인덱스가 나온다!\n",
    "\n",
    "minv, maxv = map(int, input().split())\n",
    "\n",
    "answer = maxv - minv + 1\n",
    "check = [False] * (maxv - minv + 1)\n",
    "\n",
    "for i in range(2, int(maxv ** 0.5 + 1)):\n",
    "    square = i ** 2\n",
    "    for j in range((((minv-1)//square)+1)*square, maxv + 1, square):\n",
    "        if not check[j-minv]:\n",
    "            check[j-minv] = True\n",
    "            answer -= 1\n",
    "print(answer)"
   ]
  },
  {
   "cell_type": "markdown",
   "id": "c61460e9",
   "metadata": {},
   "source": [
    "# 2/5 토"
   ]
  },
  {
   "cell_type": "markdown",
   "id": "3e80bcbb",
   "metadata": {},
   "source": [
    "## DFS와 BFS\n",
    "https://www.acmicpc.net/problem/1260"
   ]
  },
  {
   "cell_type": "code",
   "execution_count": 40,
   "id": "e1cbfed1",
   "metadata": {},
   "outputs": [
    {
     "name": "stdout",
     "output_type": "stream",
     "text": [
      "1000 1 1000\n",
      "999 1000\n",
      "1000 999 \n",
      "1000 999 "
     ]
    }
   ],
   "source": [
    "from collections import deque\n",
    "\n",
    "n, m, v = map(int, input().split())\n",
    "graph = [[] for _ in range(n+1)]\n",
    "for _ in range(m):\n",
    "    x, y = map(int, input().split())\n",
    "    graph[x].append(y)\n",
    "    graph[y].append(x)\n",
    "    \n",
    "graph = list(map(sorted, graph))\n",
    "\n",
    "visited = [False] * (n+1)\n",
    "\n",
    "def dfs(v):\n",
    "    visited[v] = True\n",
    "    print(v, end=' ')\n",
    "    \n",
    "    for i in graph[v]:\n",
    "        if not visited[i]:\n",
    "            dfs(i)\n",
    "            \n",
    "def bfs(v):\n",
    "    visited = [False] * (n+1)\n",
    "    visited[v] = True\n",
    "    q = deque([v])\n",
    "    \n",
    "    while q:\n",
    "        now = q.popleft()\n",
    "        print(now, end=' ')\n",
    "        for i in graph[now]:\n",
    "            if not visited[i]:\n",
    "                q.append(i)\n",
    "                visited[i] = True\n",
    "dfs(v)\n",
    "print()\n",
    "bfs(v)"
   ]
  },
  {
   "cell_type": "markdown",
   "id": "ecfa1625",
   "metadata": {},
   "source": [
    "## 단지번호 붙이기\n",
    "https://www.acmicpc.net/problem/2667"
   ]
  },
  {
   "cell_type": "code",
   "execution_count": 53,
   "id": "fad1f24b",
   "metadata": {},
   "outputs": [
    {
     "name": "stdout",
     "output_type": "stream",
     "text": [
      "7\n",
      "0110100\n",
      "0110101\n",
      "1110101\n",
      "0000111\n",
      "0100000\n",
      "0111110\n",
      "0111000\n",
      "3\n",
      "7\n",
      "8\n",
      "9\n"
     ]
    }
   ],
   "source": [
    "import sys\n",
    "sys.setrecursionlimit(10 ** 6)\n",
    "\n",
    "n = int(input())\n",
    "graph = [list(map(int, input())) for _ in range(n)]\n",
    "cnt = 0\n",
    "\n",
    "def dfs(x, y):\n",
    "    global house\n",
    "    if x <= -1 or x >= n or y <= -1 or y >= n:\n",
    "        return\n",
    "    if graph[x][y] == 1:\n",
    "        graph[x][y] = 0\n",
    "        house += 1\n",
    "        \n",
    "        dfs(x-1, y)\n",
    "        dfs(x+1, y)\n",
    "        dfs(x, y-1)\n",
    "        dfs(x, y+1)\n",
    "        \n",
    "        return house\n",
    "    return\n",
    "\n",
    "house_li = []\n",
    "for i in range(n):\n",
    "    for j in range(n):\n",
    "        if graph[i][j] == 1:\n",
    "            house = 0\n",
    "            house_li.append(dfs(i, j))\n",
    "            cnt += 1\n",
    "house_li.sort()\n",
    "print(cnt)\n",
    "for i in house_li:\n",
    "    print(i)"
   ]
  },
  {
   "cell_type": "markdown",
   "id": "890e34f8",
   "metadata": {},
   "source": [
    "## 숨바꼭질\n",
    "https://www.acmicpc.net/problem/1697"
   ]
  },
  {
   "cell_type": "code",
   "execution_count": null,
   "id": "8ba726da",
   "metadata": {},
   "outputs": [],
   "source": [
    "from collections import deque\n",
    "\n",
    "n, k = map(int, input().split())\n",
    "dist = [-1] * 200001\n",
    "dist[n] = 0\n",
    "\n",
    "q = deque([n])\n",
    "while q:\n",
    "    now = q.popleft()\n",
    "    for nxt in [now-1, now+1, 2*now]:\n",
    "        if 0 <= nxt <= 200000 and dist[nxt] == -1:\n",
    "            dist[nxt] = dist[now] + 1\n",
    "            q.append(nxt)\n",
    "print(dist[k])"
   ]
  },
  {
   "cell_type": "markdown",
   "id": "7c8c852d",
   "metadata": {},
   "source": [
    "## 미로 탐색\n",
    "https://www.acmicpc.net/problem/2178"
   ]
  },
  {
   "cell_type": "code",
   "execution_count": 63,
   "id": "45fea8d2",
   "metadata": {},
   "outputs": [
    {
     "name": "stdout",
     "output_type": "stream",
     "text": [
      "4 6\n",
      "101111\n",
      "101010\n",
      "101011\n",
      "111011\n"
     ]
    },
    {
     "data": {
      "text/plain": [
       "15"
      ]
     },
     "execution_count": 63,
     "metadata": {},
     "output_type": "execute_result"
    }
   ],
   "source": [
    "from collections import deque\n",
    "n, m = map(int, input().split())\n",
    "graph = [list(map(int, input())) for _ in range(n)]\n",
    "dx = [0, 0, -1, 1]\n",
    "dy = [1, -1, 0, 0]\n",
    "dist = [[-1]*m for _ in range(n)]\n",
    "dist[0][0] = 1\n",
    "q = deque([(0, 0)])\n",
    "while q:\n",
    "    x, y = q.popleft()\n",
    "    for k in range(4):\n",
    "        nx, ny = x+dx[k], y+dy[k]\n",
    "        if 0 <= nx < n and 0 <= ny < m and dist[nx][ny] == -1 and graph[nx][ny] == 1:\n",
    "            dist[nx][ny] = dist[x][y] + 1\n",
    "            q.append((nx, ny))\n",
    "print(dist[n-1][m-1])"
   ]
  },
  {
   "cell_type": "markdown",
   "id": "e28256ed",
   "metadata": {},
   "source": [
    "## 바이러스\n",
    "https://www.acmicpc.net/problem/2606"
   ]
  },
  {
   "cell_type": "code",
   "execution_count": 65,
   "id": "41592eac",
   "metadata": {},
   "outputs": [
    {
     "name": "stdout",
     "output_type": "stream",
     "text": [
      "7\n",
      "6\n",
      "1 2\n",
      "2 3\n",
      "1 5\n",
      "5 2\n",
      "5 6\n",
      "4 7\n",
      "4\n"
     ]
    }
   ],
   "source": [
    "n = int(input())\n",
    "m = int(input())\n",
    "graph = [[] for _ in range(n+1)]\n",
    "visited = [False] * (n+1)\n",
    "for _ in range(m):\n",
    "    u, v = map(int, input().split())\n",
    "    graph[u].append(v)\n",
    "    graph[v].append(u)\n",
    "    \n",
    "cnt = 0\n",
    "def dfs(v):\n",
    "    global cnt\n",
    "    visited[v] = True\n",
    "    \n",
    "    for i in graph[v]:\n",
    "        if not visited[i]:\n",
    "            dfs(i)\n",
    "            cnt += 1\n",
    "    return cnt\n",
    "\n",
    "print(dfs(1))  "
   ]
  },
  {
   "cell_type": "markdown",
   "id": "1854097e",
   "metadata": {},
   "source": [
    "## 피보나치 함수\n",
    "https://www.acmicpc.net/problem/1003"
   ]
  },
  {
   "cell_type": "code",
   "execution_count": 74,
   "id": "e668a1e3",
   "metadata": {},
   "outputs": [
    {
     "name": "stdout",
     "output_type": "stream",
     "text": [
      "2\n",
      "6\n",
      "5 8\n",
      "22\n",
      "10946 17711\n"
     ]
    }
   ],
   "source": [
    "zero = [1, 0, 1]\n",
    "one = [0, 1, 1]\n",
    "\n",
    "def fibo(n):\n",
    "    length = len(zero)\n",
    "    if length <= n:\n",
    "        for i in range(length, n+1):\n",
    "            zero.append(zero[i-1] + zero[i-2])\n",
    "            one.append(one[i-1] + one[i-2])\n",
    "            \n",
    "    print(zero[n], one[n])\n",
    "\n",
    "\n",
    "for _ in range(int(input())):\n",
    "    n = int(input())\n",
    "    fibo(n)"
   ]
  }
 ],
 "metadata": {
  "kernelspec": {
   "display_name": "Python 3",
   "language": "python",
   "name": "python3"
  },
  "language_info": {
   "codemirror_mode": {
    "name": "ipython",
    "version": 3
   },
   "file_extension": ".py",
   "mimetype": "text/x-python",
   "name": "python",
   "nbconvert_exporter": "python",
   "pygments_lexer": "ipython3",
   "version": "3.8.8"
  }
 },
 "nbformat": 4,
 "nbformat_minor": 5
}
