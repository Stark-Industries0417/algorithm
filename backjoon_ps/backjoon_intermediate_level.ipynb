{
 "cells": [
  {
   "cell_type": "markdown",
   "id": "3763e914",
   "metadata": {},
   "source": [
    "## 부등호\n",
    "https://www.acmicpc.net/problem/2529"
   ]
  },
  {
   "cell_type": "code",
   "execution_count": null,
   "id": "fed58629",
   "metadata": {},
   "outputs": [],
   "source": [
    "n = int(input())\n",
    "sign = input().split()\n",
    "check = [False] * 10\n",
    "ans = []\n",
    "\n",
    "def right_sign(x, y, op):\n",
    "    if op == '<':\n",
    "        if x > y:\n",
    "            return False\n",
    "    else:\n",
    "        if x < y:\n",
    "            return False\n",
    "    return True\n",
    "\n",
    "\n",
    "def back_tracking(idx, s):\n",
    "    if idx == n+1:\n",
    "        ans.append(s)\n",
    "        return\n",
    "    \n",
    "    for i in range(10):\n",
    "        if check[i]:\n",
    "            continue\n",
    "        if idx == 0 or right_sign(s[idx-1], str(i), sign[idx-1]):\n",
    "            check[i] = True\n",
    "            back_tracking(idx+1, s + str(i))\n",
    "            check[i] = False\n",
    "\n",
    "back_tracking(0, '')\n",
    "ans.sort()\n",
    "\n",
    "print(ans[-1])\n",
    "print(ans[0])"
   ]
  },
  {
   "cell_type": "markdown",
   "id": "724347b4",
   "metadata": {},
   "source": [
    "## nm과 k\n",
    "https://www.acmicpc.net/problem/18290"
   ]
  },
  {
   "cell_type": "code",
   "execution_count": null,
   "id": "2f81cf42",
   "metadata": {},
   "outputs": [],
   "source": [
    "n, m, k = map(int, input().split())\n",
    "a = [list(map(int, input().split())) for _ in range(n)]\n",
    "check = [[False] * m for _ in range(n)]\n",
    "ans = -int(1e9)\n",
    "\n",
    "dx, dy = [0, 0, 1, -1], [1, -1, 0, 0]\n",
    "\n",
    "def go(px, py, cnt, s):\n",
    "    global ans\n",
    "    if cnt == k:\n",
    "        if ans < s:\n",
    "            ans = s\n",
    "        return\n",
    "    \n",
    "    for x in range(px, n):\n",
    "        for y in range(py if x == px else 0, m):\n",
    "            if check[x][y]:\n",
    "                continue\n",
    "            ok = True\n",
    "            for i in range(4):\n",
    "                nx, ny = x+dx[i], y+dy[i]\n",
    "                if 0 <= nx < n and 0 <= ny < m:\n",
    "                    if check[nx][ny]:\n",
    "                        ok = False\n",
    "            if ok:\n",
    "                check[x][y] = True\n",
    "                go(x, y, cnt+1, s+a[x][y])\n",
    "                check[x][y] = False\n",
    "go(0, 0, 0, 0)\n",
    "print(ans)"
   ]
  }
 ],
 "metadata": {
  "kernelspec": {
   "display_name": "Python 3",
   "language": "python",
   "name": "python3"
  },
  "language_info": {
   "codemirror_mode": {
    "name": "ipython",
    "version": 3
   },
   "file_extension": ".py",
   "mimetype": "text/x-python",
   "name": "python",
   "nbconvert_exporter": "python",
   "pygments_lexer": "ipython3",
   "version": "3.8.8"
  }
 },
 "nbformat": 4,
 "nbformat_minor": 5
}
