{
 "cells": [
  {
   "cell_type": "markdown",
   "id": "82269400",
   "metadata": {},
   "source": [
    "## 차량 번호판 1\n",
    "https://www.acmicpc.net/problem/16968"
   ]
  },
  {
   "cell_type": "code",
   "execution_count": null,
   "id": "e6cef280",
   "metadata": {},
   "outputs": [],
   "source": [
    "s = input()\n",
    "\n",
    "ans = 1\n",
    "for i in range(len(s)):\n",
    "    cnt = 26 if s[i] == 'c' else 10\n",
    "    if i > 0 and s[i] == s[i-1]:\n",
    "        cnt -= 1\n",
    "    ans *= cnt\n",
    "print(ans)"
   ]
  },
  {
   "cell_type": "markdown",
   "id": "728814a4",
   "metadata": {},
   "source": [
    "## 로마 숫자 만들기\n",
    "https://www.acmicpc.net/problem/16922"
   ]
  },
  {
   "cell_type": "code",
   "execution_count": null,
   "id": "70118131",
   "metadata": {},
   "outputs": [],
   "source": [
    "from itertools import combinations_with_replacement\n",
    "n = int(input())\n",
    "result = []\n",
    "numbers = [1, 5, 10, 50]\n",
    "\n",
    "for temp in combinations_with_replacement(range(4), n):\n",
    "    sum = 0\n",
    "    for i in temp:\n",
    "        sum += numbers[i]\n",
    "    result.append(sum)\n",
    "\n",
    "print(len(set(result)))"
   ]
  },
  {
   "cell_type": "markdown",
   "id": "7c9a323e",
   "metadata": {},
   "source": [
    "## 십자가 찾기\n",
    "https://www.acmicpc.net/problem/16924"
   ]
  },
  {
   "cell_type": "code",
   "execution_count": null,
   "id": "25c3b359",
   "metadata": {},
   "outputs": [],
   "source": [
    "n, m = map(int, input().split())\n",
    "a = [input() for _ in range(n)]\n",
    "check = [[False] * m for _ in range(n)]\n",
    "ans = []\n",
    "\n",
    "for i in range(n):\n",
    "    for j in range(m):\n",
    "        if a[i][j] == '*':\n",
    "            l = 0\n",
    "            k = 1\n",
    "            while True:\n",
    "                if i+k < n and i-k >= 0 and j+k < m and j-k >= 0:\n",
    "                    if a[i+k][j] == '*' and a[i-k][j] == '*' and a[i][j-k] == '*' and a[i][j+k] == '*':\n",
    "                        l = k\n",
    "                    else:\n",
    "                        break\n",
    "                else:\n",
    "                    break\n",
    "                k += 1\n",
    "            if l > 0:\n",
    "                ans.append((i+1, j+1, l))\n",
    "                check[i][j] = True\n",
    "                for k in range(1, l+1):\n",
    "                    check[i+k][j] = True\n",
    "                    check[i-k][j] = True\n",
    "                    check[i][j+k] = True\n",
    "                    check[i][j-k] = True\n",
    "\n",
    "for i in range(n):\n",
    "    for j in range(m):\n",
    "        if a[i][j] == '*' and check[i][j] == False:\n",
    "            print(-1)\n",
    "            exit(0)\n",
    "            \n",
    "print(len(ans))\n",
    "for p in ans:\n",
    "    print(*p)"
   ]
  },
  {
   "cell_type": "markdown",
   "id": "e472bea4",
   "metadata": {},
   "source": [
    "## 부분 문자열\n",
    "https://www.acmicpc.net/problem/16916"
   ]
  },
  {
   "cell_type": "code",
   "execution_count": 3,
   "id": "5213025b",
   "metadata": {},
   "outputs": [
    {
     "name": "stdout",
     "output_type": "stream",
     "text": [
      "baekjoon\n",
      "aek\n",
      "1\n"
     ]
    }
   ],
   "source": [
    "s = input()\n",
    "p = input()\n",
    "ans = p in s\n",
    "print(int(ans))"
   ]
  },
  {
   "cell_type": "markdown",
   "id": "96295e31",
   "metadata": {},
   "source": [
    "## 찾기\n",
    "https://www.acmicpc.net/problem/1786"
   ]
  },
  {
   "cell_type": "code",
   "execution_count": null,
   "id": "ee7d2508",
   "metadata": {},
   "outputs": [],
   "source": [
    "T = input()\n",
    "P = input()\n",
    "\n",
    "pi = [0] * len(P)\n",
    "\n",
    "j = 0\n",
    "for i in range(1, len(P)):\n",
    "    while j > 0 and P[i] != P[j]:\n",
    "        j = pi[j-1]\n",
    "    \n",
    "    if P[i] == P[j]:\n",
    "        j += 1\n",
    "        pi[i] = j\n",
    "\n",
    "result = []\n",
    "count = 0\n",
    "\n",
    "j = 0\n",
    "for i in range(len(T)):\n",
    "    while j > 0 and T[i] != P[j]:\n",
    "        j = pi[j-1]\n",
    "    \n",
    "    if T[i] == P[j]:\n",
    "        if j == (len(P) - 1):\n",
    "            result.append(i - len(P) + 2)\n",
    "            count += 1\n",
    "            j = pi[j]\n",
    "        else:\n",
    "            j += 1\n",
    "print(count)\n",
    "for elem in result:\n",
    "    print(elem)"
   ]
  },
  {
   "cell_type": "markdown",
   "id": "f1ac24ae",
   "metadata": {},
   "source": [
    "## 광고\n",
    "https://www.acmicpc.net/problem/1305"
   ]
  },
  {
   "cell_type": "code",
   "execution_count": null,
   "id": "fa8e0b5a",
   "metadata": {},
   "outputs": [],
   "source": [
    "l = int(input())\n",
    "s = input()\n",
    "pi = [0] * len(s)\n",
    "\n",
    "j = 0\n",
    "for i in range(1, len(s)):\n",
    "    while j > 0 and s[i] != s[j]:\n",
    "        j = pi[j-1]\n",
    "    \n",
    "    if s[i] == s[j]:\n",
    "        j += 1\n",
    "        pi[i] = j\n",
    "\n",
    "print(l - pi[-1])"
   ]
  },
  {
   "cell_type": "markdown",
   "id": "7e50eded",
   "metadata": {},
   "source": [
    "# 다이나믹 프로그래밍2"
   ]
  },
  {
   "cell_type": "markdown",
   "id": "a183f629",
   "metadata": {},
   "source": [
    "## 이동하기\n",
    "https://www.acmicpc.net/problem/11048"
   ]
  },
  {
   "cell_type": "code",
   "execution_count": null,
   "id": "62630822",
   "metadata": {},
   "outputs": [],
   "source": [
    "n, m = map(int, input().split())\n",
    "graph =[[0] * (m+1)] + [[0] + list(map(int, input().split())) for _ in range(n)]\n",
    "d = [[0] * (m+1) for _ in range(n+1)]\n",
    "d[1][1] = graph[1][1]\n",
    "\n",
    "for i in range(1, n+1):\n",
    "    for j in range(1, m+1):\n",
    "        if j+1 <= m:\n",
    "            if d[i][j+1] < d[i][j] + graph[i][j+1]:\n",
    "                d[i][j+1] = d[i][j] + graph[i][j+1]\n",
    "        if i+1 <= n:\n",
    "            if d[i+1][j] < d[i][j] + graph[i+1][j]:\n",
    "                d[i+1][j] = d[i][j] + graph[i+1][j]\n",
    "        if i+1 <= n and j+1 <= m:\n",
    "            if d[i+1][j+1] < d[i][j] + graph[i+1][j+1]:\n",
    "                d[i+1][j+1] = d[i][j] + graph[i+1][j+1]\n",
    "print(d[n][m])"
   ]
  },
  {
   "cell_type": "markdown",
   "id": "199febd0",
   "metadata": {},
   "source": [
    "## 점프 점프\n",
    "https://www.acmicpc.net/problem/11060"
   ]
  },
  {
   "cell_type": "code",
   "execution_count": null,
   "id": "29dfd2dd",
   "metadata": {},
   "outputs": [],
   "source": [
    "n = int(input())\n",
    "graph = list(map(int, input().split()))\n",
    "d = [-1] * n\n",
    "d[0] = 0\n",
    "\n",
    "for i in range(1, n):\n",
    "    for j in range(i):\n",
    "        if d[j] != -1 and i - j <= graph[j]:\n",
    "            if d[i] == -1 or d[i] > d[j] + 1:\n",
    "                d[i] = d[j] + 1\n",
    "\n",
    "print(d[-1])"
   ]
  },
  {
   "cell_type": "markdown",
   "id": "fbefc75b",
   "metadata": {},
   "source": [
    "## 퇴사 2\n",
    "https://www.acmicpc.net/problem/15486"
   ]
  },
  {
   "cell_type": "code",
   "execution_count": null,
   "id": "7ba1e309",
   "metadata": {},
   "outputs": [],
   "source": [
    "import sys\n",
    "input = sys.stdin.readline\n",
    "\n",
    "n = int(input())\n",
    "t = [0] * n\n",
    "p = [0] * n\n",
    "\n",
    "for i in range(n):\n",
    "    t[i], p[i] = map(int, input().rstrip().split())\n",
    "dp = [0] * (n+1)\n",
    "\n",
    "for i in range(n):\n",
    "    if t[i] <= n - i:\n",
    "        dp[i+t[i]] = max(dp[i+t[i]], dp[i] + p[i])\n",
    "    dp[i+1] = max(dp[i], dp[i+1])\n",
    "\n",
    "print(dp[n])"
   ]
  },
  {
   "cell_type": "markdown",
   "id": "7c89f348",
   "metadata": {},
   "source": [
    "## 팰린드롬?\n",
    "https://www.acmicpc.net/problem/10942"
   ]
  },
  {
   "cell_type": "code",
   "execution_count": null,
   "id": "6ab15d4a",
   "metadata": {},
   "outputs": [],
   "source": [
    "import sys\n",
    "input = sys.stdin.readline\n",
    "\n",
    "n = int(input())\n",
    "nums = list(map(int, input().split()))\n",
    "\n",
    "d = [[0] * n for _ in range(n)]\n",
    "\n",
    "for i in range(n):\n",
    "    d[i][i] = 1\n",
    "for i in range(n-1):\n",
    "    if nums[i] == nums[i+1]:\n",
    "        d[i][i+1] = 1\n",
    "\n",
    "for k in range(2, n):\n",
    "    for i in range(n-k):\n",
    "        if nums[i] == nums[i+k] and d[i+1][i+k-1]:\n",
    "            d[i][i+k] = 1\n",
    "\n",
    "m = int(input())\n",
    "for _ in range(m):\n",
    "    s, e = map(int, input().split())\n",
    "    print(d[s-1][e-1])"
   ]
  }
 ],
 "metadata": {
  "kernelspec": {
   "display_name": "Python 3",
   "language": "python",
   "name": "python3"
  },
  "language_info": {
   "codemirror_mode": {
    "name": "ipython",
    "version": 3
   },
   "file_extension": ".py",
   "mimetype": "text/x-python",
   "name": "python",
   "nbconvert_exporter": "python",
   "pygments_lexer": "ipython3",
   "version": "3.8.8"
  }
 },
 "nbformat": 4,
 "nbformat_minor": 5
}
