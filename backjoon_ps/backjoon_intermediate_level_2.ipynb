{
 "cells": [
  {
   "cell_type": "markdown",
   "id": "82269400",
   "metadata": {},
   "source": [
    "## 차량 번호판 1\n",
    "https://www.acmicpc.net/problem/16968"
   ]
  },
  {
   "cell_type": "code",
   "execution_count": null,
   "id": "e6cef280",
   "metadata": {},
   "outputs": [],
   "source": [
    "s = input()\n",
    "\n",
    "ans = 1\n",
    "for i in range(len(s)):\n",
    "    cnt = 26 if s[i] == 'c' else 10\n",
    "    if i > 0 and s[i] == s[i-1]:\n",
    "        cnt -= 1\n",
    "    ans *= cnt\n",
    "print(ans)"
   ]
  },
  {
   "cell_type": "markdown",
   "id": "728814a4",
   "metadata": {},
   "source": [
    "## 로마 숫자 만들기\n",
    "https://www.acmicpc.net/problem/16922"
   ]
  },
  {
   "cell_type": "code",
   "execution_count": null,
   "id": "70118131",
   "metadata": {},
   "outputs": [],
   "source": [
    "from itertools import combinations_with_replacement\n",
    "n = int(input())\n",
    "result = []\n",
    "numbers = [1, 5, 10, 50]\n",
    "\n",
    "for temp in combinations_with_replacement(range(4), n):\n",
    "    sum = 0\n",
    "    for i in temp:\n",
    "        sum += numbers[i]\n",
    "    result.append(sum)\n",
    "\n",
    "print(len(set(result)))"
   ]
  },
  {
   "cell_type": "markdown",
   "id": "e472bea4",
   "metadata": {},
   "source": [
    "## 부분 문자열\n",
    "https://www.acmicpc.net/problem/16916"
   ]
  },
  {
   "cell_type": "code",
   "execution_count": 3,
   "id": "5213025b",
   "metadata": {},
   "outputs": [
    {
     "name": "stdout",
     "output_type": "stream",
     "text": [
      "baekjoon\n",
      "aek\n",
      "1\n"
     ]
    }
   ],
   "source": [
    "s = input()\n",
    "p = input()\n",
    "ans = p in s\n",
    "print(int(ans))"
   ]
  },
  {
   "cell_type": "markdown",
   "id": "96295e31",
   "metadata": {},
   "source": [
    "## 찾기\n",
    "https://www.acmicpc.net/problem/1786"
   ]
  },
  {
   "cell_type": "code",
   "execution_count": null,
   "id": "ee7d2508",
   "metadata": {},
   "outputs": [],
   "source": [
    "T = input()\n",
    "P = input()\n",
    "\n",
    "pi = [0] * len(P)\n",
    "\n",
    "j = 0\n",
    "for i in range(1, len(P)):\n",
    "    while j > 0 and P[i] != P[j]:\n",
    "        j = pi[j-1]\n",
    "    \n",
    "    if P[i] == P[j]:\n",
    "        j += 1\n",
    "        pi[i] = j\n",
    "\n",
    "result = []\n",
    "count = 0\n",
    "\n",
    "j = 0\n",
    "for i in range(len(T)):\n",
    "    while j > 0 and T[i] != P[j]:\n",
    "        j = pi[j-1]\n",
    "    \n",
    "    if T[i] == P[j]:\n",
    "        if j == (len(P) - 1):\n",
    "            result.append(i - len(P) + 2)\n",
    "            count += 1\n",
    "            j = pi[j]\n",
    "        else:\n",
    "            j += 1\n",
    "print(count)\n",
    "for elem in result:\n",
    "    print(elem)"
   ]
  },
  {
   "cell_type": "markdown",
   "id": "f1ac24ae",
   "metadata": {},
   "source": [
    "## 광고\n",
    "https://www.acmicpc.net/problem/1305"
   ]
  },
  {
   "cell_type": "code",
   "execution_count": null,
   "id": "fa8e0b5a",
   "metadata": {},
   "outputs": [],
   "source": [
    "l = int(input())\n",
    "s = input()\n",
    "pi = [0] * len(s)\n",
    "\n",
    "j = 0\n",
    "for i in range(1, len(s)):\n",
    "    while j > 0 and s[i] != s[j]:\n",
    "        j = pi[j-1]\n",
    "    \n",
    "    if s[i] == s[j]:\n",
    "        j += 1\n",
    "        pi[i] = j\n",
    "\n",
    "print(l - pi[-1])"
   ]
  }
 ],
 "metadata": {
  "kernelspec": {
   "display_name": "Python 3",
   "language": "python",
   "name": "python3"
  },
  "language_info": {
   "codemirror_mode": {
    "name": "ipython",
    "version": 3
   },
   "file_extension": ".py",
   "mimetype": "text/x-python",
   "name": "python",
   "nbconvert_exporter": "python",
   "pygments_lexer": "ipython3",
   "version": "3.8.8"
  }
 },
 "nbformat": 4,
 "nbformat_minor": 5
}
