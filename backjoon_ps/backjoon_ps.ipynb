{
 "cells": [
  {
   "cell_type": "markdown",
   "id": "5c5e2594",
   "metadata": {},
   "source": [
    "## 호텔\n",
    "https://www.acmicpc.net/problem/1106"
   ]
  },
  {
   "cell_type": "code",
   "execution_count": null,
   "id": "77126693",
   "metadata": {},
   "outputs": [],
   "source": [
    "from sys import maxsize\n",
    "\n",
    "c, n = map(int, input().split())\n",
    "info = sorted([list(map(int, input().split())) for _ in range(n)])\n",
    "dp = [0] + [maxsize] * (c + 99)\n",
    "\n",
    "for cost, customer in info:\n",
    "    for j in range(customer, c + 100):\n",
    "        dp[j] = min(dp[j], dp[j - customer] + cost)\n",
    "\n",
    "print(min(dp[c:c+100]))"
   ]
  },
  {
   "cell_type": "markdown",
   "id": "6561a849",
   "metadata": {},
   "source": [
    "## 알파벳\n",
    "https://www.acmicpc.net/problem/1987"
   ]
  },
  {
   "cell_type": "code",
   "execution_count": 3,
   "id": "ed640be3",
   "metadata": {},
   "outputs": [
    {
     "data": {
      "text/plain": [
       "{1, 2}"
      ]
     },
     "execution_count": 3,
     "metadata": {},
     "output_type": "execute_result"
    }
   ],
   "source": [
    "# 시간초과\n",
    "\n",
    "from collections import deque\n",
    "\n",
    "dx, dy = [0, 0, 1, -1], [1, -1, 0, 0]\n",
    "\n",
    "r, c = map(int, input().split())\n",
    "board = [input() for _ in range(r)]\n",
    "q = deque([(0, 0, [board[0][0]])])\n",
    "MAX = -int(1e9)\n",
    "\n",
    "while q:    \n",
    "    x, y, check = q.popleft()\n",
    "    if MAX < len(check):\n",
    "        MAX = len(check)\n",
    "    \n",
    "    for k in range(4):\n",
    "        nx, ny = x+dx[k], y+dy[k]\n",
    "        if 0 <= nx < r and 0 <= ny < c and board[nx][ny] not in check:\n",
    "            copied = check[:]\n",
    "            copied.append(board[nx][ny])\n",
    "            q.append((nx, ny, copied))\n",
    "print(MAX)"
   ]
  },
  {
   "cell_type": "code",
   "execution_count": null,
   "id": "7938bf25",
   "metadata": {},
   "outputs": [],
   "source": [
    "dx, dy = [0, 0, 1, -1], [1, -1, 0, 0]\n",
    "\n",
    "r, c = map(int, input().split())\n",
    "board = [input() for _ in range(r)]\n",
    "q = set([(0, 0, board[0][0])])\n",
    "MAX = -int(1e9)\n",
    "\n",
    "while q:    \n",
    "    x, y, check = q.pop()\n",
    "    if MAX < len(check):\n",
    "        MAX = len(check)\n",
    "    \n",
    "    for k in range(4):\n",
    "        nx, ny = x+dx[k], y+dy[k]\n",
    "        if 0 <= nx < r and 0 <= ny < c and board[nx][ny] not in check:\n",
    "            q.add((nx, ny, check + board[nx][ny]))\n",
    "print(MAX)"
   ]
  },
  {
   "cell_type": "markdown",
   "id": "937e49b8",
   "metadata": {},
   "source": [
    "## 이건 꼭 풀어야 해!\n",
    "https://www.acmicpc.net/problem/17390"
   ]
  },
  {
   "cell_type": "code",
   "execution_count": 2,
   "id": "2d858155",
   "metadata": {},
   "outputs": [
    {
     "data": {
      "text/plain": [
       "[1, 2, 2, 3, 5]"
      ]
     },
     "execution_count": 2,
     "metadata": {},
     "output_type": "execute_result"
    }
   ],
   "source": [
    "import sys \n",
    "input = sys.stdin.realine\n",
    "\n",
    "n, q = map(int, input().split())\n",
    "a = list(map(int, input().split()))\n",
    "a.sort()\n",
    "\n",
    "for i in range(1, n):\n",
    "    a[i] = a[i] + a[i-1]\n",
    "\n",
    "for _ in range(q):\n",
    "    l, r = map(int, input().split())\n",
    "    if l == 1:\n",
    "        print(a[r-1])\n",
    "    else:\n",
    "        print(a[r-1] - a[l-2])"
   ]
  },
  {
   "cell_type": "markdown",
   "id": "35269193",
   "metadata": {},
   "source": [
    "## 암호코드\n",
    "https://www.acmicpc.net/problem/2011"
   ]
  },
  {
   "cell_type": "code",
   "execution_count": null,
   "id": "23a47fe0",
   "metadata": {},
   "outputs": [],
   "source": [
    "n = list(map(int, input()))\n",
    "dp = [0] * (len(n) + 1)\n",
    "l = len(n)\n",
    "if n[0] == 0:\n",
    "    print(0)\n",
    "\n",
    "else:\n",
    "    n = [0] + n\n",
    "    dp[0] = dp[1] = 1\n",
    "    for i in range(2, l+1):\n",
    "        if n[i] > 0:\n",
    "            dp[i] += dp[i-1]\n",
    "        temp = n[i-1]*10 + n[i]\n",
    "        if temp >= 10 and temp <= 26:\n",
    "            dp[i] += dp[i-2]\n",
    "    print(dp[l] % 1000000) "
   ]
  },
  {
   "cell_type": "markdown",
   "id": "b05dcce0",
   "metadata": {},
   "source": [
    "## 가장 큰 정사각형\n",
    "https://www.acmicpc.net/problem/1915"
   ]
  },
  {
   "cell_type": "code",
   "execution_count": null,
   "id": "0c8e9d50",
   "metadata": {},
   "outputs": [],
   "source": [
    "n, m = map(int, input().split())\n",
    "boards = [list(map(int, input())) for _ in range(n)]\n",
    "dp = [[0] * m for _ in range(n)]\n",
    "\n",
    "ans = 0\n",
    "for i in range(n):\n",
    "    for j in range(m):\n",
    "        if i == 0 or j == 0:\n",
    "            dp[i][j] = boards[i][j]\n",
    "        elif boards[i][j] == 0:\n",
    "            dp[i][j] = 0\n",
    "        else:\n",
    "            dp[i][j] = min(dp[i-1][j-1], dp[i-1][j], dp[i][j-1]) + 1\n",
    "        ans = max(dp[i][j], ans)\n",
    "print(ans ** 2)"
   ]
  },
  {
   "cell_type": "markdown",
   "id": "4ac461ce",
   "metadata": {},
   "source": [
    "## 수 묶기\n",
    "https://www.acmicpc.net/problem/1744"
   ]
  },
  {
   "cell_type": "code",
   "execution_count": 41,
   "id": "c3051daa",
   "metadata": {},
   "outputs": [
    {
     "data": {
      "text/plain": [
       "2"
      ]
     },
     "execution_count": 41,
     "metadata": {},
     "output_type": "execute_result"
    }
   ],
   "source": [
    "n = int(input())\n",
    "pos, neg, one = [], [], []\n",
    "result = 0\n",
    "\n",
    "for _ in range(n):\n",
    "    num = int(input())\n",
    "    if num > 1:\n",
    "        pos.append(num)\n",
    "    elif num <= 0:\n",
    "        neg.append(num)\n",
    "    else:\n",
    "        one.append(num)\n",
    "\n",
    "pos.sort(reverse=True)\n",
    "neg.sort()\n",
    "\n",
    "result += sum(pos[i] * pos[i+1] for i in range(0, len(pos), 2) if i+1 < len(pos))\n",
    "if len(pos) % 2 != 0:\n",
    "    result += pos[-1]\n",
    "\n",
    "result += sum(neg[i] * neg[i+1] for i in range(0, len(neg), 2) if i+1 < len(neg))\n",
    "if len(neg) % 2 != 0:\n",
    "    result += neg[-1]\n",
    "\n",
    "result += sum(one)\n",
    "\n",
    "print(result)"
   ]
  },
  {
   "cell_type": "markdown",
   "id": "e9dc83f0",
   "metadata": {},
   "source": [
    "## 집합의 표현\n",
    "https://www.acmicpc.net/problem/1717"
   ]
  },
  {
   "cell_type": "code",
   "execution_count": null,
   "id": "bddee92c",
   "metadata": {},
   "outputs": [],
   "source": [
    "n, m = map(int, input().split())\n",
    "\n",
    "parent = [i for i in range(n+1)]\n",
    "\n",
    "def find(num):\n",
    "    if num == parent[num]:\n",
    "        return num\n",
    "    p = find(parent[num])\n",
    "    parent[num] = p\n",
    "    return parent[num]\n",
    "    \n",
    "\n",
    "def union(a, b):\n",
    "    a = find(a); b = find(b)\n",
    "\n",
    "    if a == b:\n",
    "        return\n",
    "    elif a < b:\n",
    "        parent[b] = a\n",
    "    else:\n",
    "        parent[a] = b\n",
    "\n",
    "for _ in range(m):\n",
    "    o, a, b = map(int, input().split())\n",
    "\n",
    "    if o == 0:\n",
    "        union(a, b)\n",
    "    else:\n",
    "        if find(a) == find(b):\n",
    "            print(\"YES\")\n",
    "        else:\n",
    "            print(\"NO\")"
   ]
  },
  {
   "cell_type": "code",
   "execution_count": null,
   "id": "a9a78c31",
   "metadata": {},
   "outputs": [],
   "source": [
    "7 8\n",
    "0 1 3\n",
    "1 1 7\n",
    "0 7 6\n",
    "1 7 1\n",
    "0 3 7\n",
    "0 4 2\n",
    "0 1 1\n",
    "1 1 1\n",
    "\n",
    "NO\n",
    "NO\n",
    "YES"
   ]
  }
 ],
 "metadata": {
  "kernelspec": {
   "display_name": "Python 3",
   "language": "python",
   "name": "python3"
  },
  "language_info": {
   "codemirror_mode": {
    "name": "ipython",
    "version": 3
   },
   "file_extension": ".py",
   "mimetype": "text/x-python",
   "name": "python",
   "nbconvert_exporter": "python",
   "pygments_lexer": "ipython3",
   "version": "3.8.8"
  }
 },
 "nbformat": 4,
 "nbformat_minor": 5
}
