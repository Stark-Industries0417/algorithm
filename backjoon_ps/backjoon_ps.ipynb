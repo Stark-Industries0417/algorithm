{
 "cells": [
  {
   "cell_type": "markdown",
   "id": "5c5e2594",
   "metadata": {},
   "source": [
    "## 호텔\n",
    "https://www.acmicpc.net/problem/1106"
   ]
  },
  {
   "cell_type": "code",
   "execution_count": null,
   "id": "77126693",
   "metadata": {},
   "outputs": [],
   "source": [
    "from sys import maxsize\n",
    "\n",
    "c, n = map(int, input().split())\n",
    "info = sorted([list(map(int, input().split())) for _ in range(n)])\n",
    "dp = [0] + [maxsize] * (c + 99)\n",
    "\n",
    "for cost, customer in info:\n",
    "    for j in range(customer, c + 100):\n",
    "        dp[j] = min(dp[j], dp[j - customer] + cost)\n",
    "\n",
    "print(min(dp[c:c+100]))"
   ]
  },
  {
   "cell_type": "markdown",
   "id": "6561a849",
   "metadata": {},
   "source": [
    "## 알파벳\n",
    "https://www.acmicpc.net/problem/1987"
   ]
  },
  {
   "cell_type": "code",
   "execution_count": 3,
   "id": "ed640be3",
   "metadata": {},
   "outputs": [
    {
     "data": {
      "text/plain": [
       "{1, 2}"
      ]
     },
     "execution_count": 3,
     "metadata": {},
     "output_type": "execute_result"
    }
   ],
   "source": [
    "# 시간초과\n",
    "\n",
    "from collections import deque\n",
    "\n",
    "dx, dy = [0, 0, 1, -1], [1, -1, 0, 0]\n",
    "\n",
    "r, c = map(int, input().split())\n",
    "board = [input() for _ in range(r)]\n",
    "q = deque([(0, 0, [board[0][0]])])\n",
    "MAX = -int(1e9)\n",
    "\n",
    "while q:    \n",
    "    x, y, check = q.popleft()\n",
    "    if MAX < len(check):\n",
    "        MAX = len(check)\n",
    "    \n",
    "    for k in range(4):\n",
    "        nx, ny = x+dx[k], y+dy[k]\n",
    "        if 0 <= nx < r and 0 <= ny < c and board[nx][ny] not in check:\n",
    "            copied = check[:]\n",
    "            copied.append(board[nx][ny])\n",
    "            q.append((nx, ny, copied))\n",
    "print(MAX)"
   ]
  },
  {
   "cell_type": "code",
   "execution_count": null,
   "id": "7938bf25",
   "metadata": {},
   "outputs": [],
   "source": [
    "dx, dy = [0, 0, 1, -1], [1, -1, 0, 0]\n",
    "\n",
    "r, c = map(int, input().split())\n",
    "board = [input() for _ in range(r)]\n",
    "q = set([(0, 0, board[0][0])])\n",
    "MAX = -int(1e9)\n",
    "\n",
    "while q:    \n",
    "    x, y, check = q.pop()\n",
    "    if MAX < len(check):\n",
    "        MAX = len(check)\n",
    "    \n",
    "    for k in range(4):\n",
    "        nx, ny = x+dx[k], y+dy[k]\n",
    "        if 0 <= nx < r and 0 <= ny < c and board[nx][ny] not in check:\n",
    "            q.add((nx, ny, check + board[nx][ny]))\n",
    "print(MAX)"
   ]
  },
  {
   "cell_type": "markdown",
   "id": "937e49b8",
   "metadata": {},
   "source": [
    "## 이건 꼭 풀어야 해!\n",
    "https://www.acmicpc.net/problem/17390"
   ]
  },
  {
   "cell_type": "code",
   "execution_count": 2,
   "id": "2d858155",
   "metadata": {},
   "outputs": [
    {
     "data": {
      "text/plain": [
       "[1, 2, 2, 3, 5]"
      ]
     },
     "execution_count": 2,
     "metadata": {},
     "output_type": "execute_result"
    }
   ],
   "source": [
    "import sys \n",
    "input = sys.stdin.realine\n",
    "\n",
    "n, q = map(int, input().split())\n",
    "a = list(map(int, input().split()))\n",
    "a.sort()\n",
    "\n",
    "for i in range(1, n):\n",
    "    a[i] = a[i] + a[i-1]\n",
    "\n",
    "for _ in range(q):\n",
    "    l, r = map(int, input().split())\n",
    "    if l == 1:\n",
    "        print(a[r-1])\n",
    "    else:\n",
    "        print(a[r-1] - a[l-2])"
   ]
  },
  {
   "cell_type": "markdown",
   "id": "35269193",
   "metadata": {},
   "source": [
    "## 암호코드\n",
    "https://www.acmicpc.net/problem/2011"
   ]
  },
  {
   "cell_type": "code",
   "execution_count": null,
   "id": "23a47fe0",
   "metadata": {},
   "outputs": [],
   "source": [
    "n = list(map(int, input()))\n",
    "dp = [0] * (len(n) + 1)\n",
    "l = len(n)\n",
    "if n[0] == 0:\n",
    "    print(0)\n",
    "\n",
    "else:\n",
    "    n = [0] + n\n",
    "    dp[0] = dp[1] = 1\n",
    "    for i in range(2, l+1):\n",
    "        if n[i] > 0:\n",
    "            dp[i] += dp[i-1]\n",
    "        temp = n[i-1]*10 + n[i]\n",
    "        if temp >= 10 and temp <= 26:\n",
    "            dp[i] += dp[i-2]\n",
    "    print(dp[l] % 1000000) "
   ]
  },
  {
   "cell_type": "markdown",
   "id": "b05dcce0",
   "metadata": {},
   "source": [
    "## 가장 큰 정사각형\n",
    "https://www.acmicpc.net/problem/1915"
   ]
  },
  {
   "cell_type": "code",
   "execution_count": null,
   "id": "0c8e9d50",
   "metadata": {},
   "outputs": [],
   "source": [
    "n, m = map(int, input().split())\n",
    "boards = [list(map(int, input())) for _ in range(n)]\n",
    "dp = [[0] * m for _ in range(n)]\n",
    "\n",
    "ans = 0\n",
    "for i in range(n):\n",
    "    for j in range(m):\n",
    "        if i == 0 or j == 0:\n",
    "            dp[i][j] = boards[i][j]\n",
    "        elif boards[i][j] == 0:\n",
    "            dp[i][j] = 0\n",
    "        else:\n",
    "            dp[i][j] = min(dp[i-1][j-1], dp[i-1][j], dp[i][j-1]) + 1\n",
    "        ans = max(dp[i][j], ans)\n",
    "print(ans ** 2)"
   ]
  },
  {
   "cell_type": "markdown",
   "id": "4ac461ce",
   "metadata": {},
   "source": [
    "## 수 묶기\n",
    "https://www.acmicpc.net/problem/1744"
   ]
  },
  {
   "cell_type": "code",
   "execution_count": 41,
   "id": "c3051daa",
   "metadata": {},
   "outputs": [
    {
     "data": {
      "text/plain": [
       "2"
      ]
     },
     "execution_count": 41,
     "metadata": {},
     "output_type": "execute_result"
    }
   ],
   "source": [
    "n = int(input())\n",
    "pos, neg, one = [], [], []\n",
    "result = 0\n",
    "\n",
    "for _ in range(n):\n",
    "    num = int(input())\n",
    "    if num > 1:\n",
    "        pos.append(num)\n",
    "    elif num <= 0:\n",
    "        neg.append(num)\n",
    "    else:\n",
    "        one.append(num)\n",
    "\n",
    "pos.sort(reverse=True)\n",
    "neg.sort()\n",
    "\n",
    "result += sum(pos[i] * pos[i+1] for i in range(0, len(pos), 2) if i+1 < len(pos))\n",
    "if len(pos) % 2 != 0:\n",
    "    result += pos[-1]\n",
    "\n",
    "result += sum(neg[i] * neg[i+1] for i in range(0, len(neg), 2) if i+1 < len(neg))\n",
    "if len(neg) % 2 != 0:\n",
    "    result += neg[-1]\n",
    "\n",
    "result += sum(one)\n",
    "\n",
    "print(result)"
   ]
  },
  {
   "cell_type": "markdown",
   "id": "ca66e98e",
   "metadata": {},
   "source": [
    "## 집합의 표현\n",
    "https://www.acmicpc.net/problem/1717"
   ]
  },
  {
   "cell_type": "code",
   "execution_count": null,
   "id": "e8f17cda",
   "metadata": {},
   "outputs": [],
   "source": [
    "n, m = map(int, input().split())\n",
    "\n",
    "parent = [i for i in range(n+1)]\n",
    "\n",
    "def find(num):\n",
    "    if num == parent[num]:\n",
    "        return num\n",
    "    p = find(parent[num])\n",
    "    parent[num] = p\n",
    "    return parent[num]\n",
    "    \n",
    "\n",
    "def union(a, b):\n",
    "    a = find(a); b = find(b)\n",
    "\n",
    "    if a == b:\n",
    "        return\n",
    "    elif a < b:\n",
    "        parent[b] = a\n",
    "    else:\n",
    "        parent[a] = b\n",
    "\n",
    "for _ in range(m):\n",
    "    o, a, b = map(int, input().split())\n",
    "\n",
    "    if o == 0:\n",
    "        union(a, b)\n",
    "    else:\n",
    "        if find(a) == find(b):\n",
    "            print(\"YES\")\n",
    "        else:\n",
    "            print(\"NO\")"
   ]
  },
  {
   "cell_type": "code",
   "execution_count": null,
   "id": "a7b0e0f2",
   "metadata": {},
   "outputs": [],
   "source": [
    "7 8\n",
    "0 1 3\n",
    "1 1 7\n",
    "0 7 6\n",
    "1 7 1\n",
    "0 3 7\n",
    "0 4 2\n",
    "0 1 1\n",
    "1 1 1\n",
    "\n",
    "NO\n",
    "NO\n",
    "YES"
   ]
  },
  {
   "cell_type": "markdown",
   "id": "c8bfa461",
   "metadata": {},
   "source": [
    "## 개똥벌레\n",
    "https://www.acmicpc.net/problem/3020"
   ]
  },
  {
   "cell_type": "code",
   "execution_count": null,
   "id": "868f7650",
   "metadata": {},
   "outputs": [],
   "source": [
    "n, h = map(int, input().split())\n",
    "\n",
    "down = [0] * (h + 1)\n",
    "up = [0] * (h + 1)\n",
    "\n",
    "min_count = n\n",
    "range_count = 0\n",
    "\n",
    "for i in range(n):\n",
    "    if i % 2 == 0:\n",
    "        down[int(input())] += 1\n",
    "    else:\n",
    "        up[int(input())] += 1\n",
    "\n",
    "for i in range(h-1, 0, -1):\n",
    "    down[i] += down[i + 1]\n",
    "    up[i] += up[i + 1]\n",
    "\n",
    "\n",
    "for i in range(1, h+1):\n",
    "    if min_count > down[i] + up[h - i + 1]:\n",
    "        min_count = down[i] + up[h - i + 1]\n",
    "        range_count = 1\n",
    "    elif min_count == down[i]+up[h - i + 1]:\n",
    "        range_count += 1\n",
    "\n",
    "print(min_count, range_count)"
   ]
  },
  {
   "cell_type": "markdown",
   "id": "394368dc",
   "metadata": {},
   "source": [
    "## 거짓말\n",
    "https://www.acmicpc.net/problem/1043"
   ]
  },
  {
   "cell_type": "code",
   "execution_count": null,
   "id": "e9dc2ecb",
   "metadata": {},
   "outputs": [],
   "source": [
    "n, m = map(int, input().split())\n",
    "truth_num = list(map(int, input().split()))[1:]\n",
    "parent = list(range(n+1))\n",
    "for i in truth_num:\n",
    "    parent[i] = 0\n",
    "\n",
    "def find(num):\n",
    "    if num == parent[num]:\n",
    "        return num\n",
    "    p = find(parent[num])\n",
    "    parent[num] = p\n",
    "    return p\n",
    "\n",
    "def union(a, b):\n",
    "    a = find(a); b = find(b)\n",
    "    if a == 0 and b == 0:\n",
    "        return\n",
    "    if a == 0:\n",
    "        parent[b] = a\n",
    "    elif b == 0:\n",
    "        parent[a] = b\n",
    "    else:\n",
    "        if a < b:\n",
    "            parent[b] = a\n",
    "        else:\n",
    "            parent[a] = b\n",
    "\n",
    "parties = []\n",
    "for _ in range(m):\n",
    "    party = list(map(int, input().split()))[1:]\n",
    "    \n",
    "    for p in range(len(party)-1):\n",
    "        union(party[p], party[p+1])\n",
    "    parties.append(party)\n",
    "\n",
    "ans = 0\n",
    "for party in parties:\n",
    "    ok = True\n",
    "    for p in party:\n",
    "        if find(p) == 0:\n",
    "            ok = False\n",
    "    if ok:\n",
    "        ans += 1\n",
    "\n",
    "print(ans)"
   ]
  },
  {
   "cell_type": "markdown",
   "id": "5a1d3813",
   "metadata": {},
   "source": [
    "## N과 M 6\n",
    "https://www.acmicpc.net/problem/15655"
   ]
  },
  {
   "cell_type": "code",
   "execution_count": null,
   "id": "a6aecfcf",
   "metadata": {},
   "outputs": [],
   "source": [
    "n, m = map(int, input().split())\n",
    "nums = list(map(int, input().split()))\n",
    "nums.sort()\n",
    "check = [False] * n\n",
    "\n",
    "ans = [0] * m\n",
    "\n",
    "def permutation(idx, start):\n",
    "    if idx == m:\n",
    "        print(*ans)\n",
    "        return\n",
    "    \n",
    "    for i in range(start, len(nums)):\n",
    "        if check[i]:\n",
    "            continue\n",
    "        check[i] = True\n",
    "        ans[idx] = nums[i]\n",
    "        permutation(idx + 1, i + 1)\n",
    "        check[i] = False\n",
    "\n",
    "permutation(0, 0)"
   ]
  },
  {
   "cell_type": "markdown",
   "id": "ed1c08b3",
   "metadata": {},
   "source": [
    "## 음식 평론가\n",
    "https://www.acmicpc.net/problem/1188"
   ]
  },
  {
   "cell_type": "code",
   "execution_count": null,
   "id": "27b598f7",
   "metadata": {},
   "outputs": [],
   "source": [
    "n, m = map(int, input().split())\n",
    "\n",
    "def gcd(a, b):\n",
    "    if a % b == 0:\n",
    "        return b\n",
    "    return gcd(b, a % b)\n",
    "\n",
    "print(m - gcd(n, m))"
   ]
  },
  {
   "cell_type": "markdown",
   "id": "534ffd55",
   "metadata": {},
   "source": [
    "## 즐거운 단어\n",
    "https://www.acmicpc.net/problem/2922"
   ]
  },
  {
   "cell_type": "code",
   "execution_count": null,
   "id": "6c367607",
   "metadata": {},
   "outputs": [],
   "source": [
    "word = input()\n",
    "ans = 0\n",
    "\n",
    "def check(s):\n",
    "    if 'L' not in s:\n",
    "        return False\n",
    "    mo = 'AEIOU'\n",
    "\n",
    "    for i in range(len(s)-2):\n",
    "        if s[i] in mo and s[i+1] in mo and s[i+2] in mo:\n",
    "            return False\n",
    "        if s[i] not in mo and s[i+1] not in mo and s[i+2] not in mo:\n",
    "            return False\n",
    "    return True\n",
    "\n",
    "\n",
    "def back_tracking(s, idx, ch):\n",
    "    global ans\n",
    "    if '_' not in s:\n",
    "        if check(s):\n",
    "            tmp = 1\n",
    "            for c in ch:\n",
    "                if c == 'A': tmp *= 5\n",
    "                elif c == 'B': tmp *= 20\n",
    "                else: tmp *= 1\n",
    "            ans += tmp\n",
    "        return\n",
    "\n",
    "    for i in range(idx, len(s)):\n",
    "        if s[i] == '_':\n",
    "            back_tracking(s[:i]+'A'+s[i+1:], idx+1, ch+'A')\n",
    "            back_tracking(s[:i]+'B'+s[i+1:], idx+1, ch+'B')\n",
    "            back_tracking(s[:i]+'L'+s[i+1:], idx+1, ch+'L')\n",
    "            return\n",
    "\n",
    "flag = False\n",
    "for i in range(len(word)):\n",
    "    if word[i] == '_':\n",
    "        flag = True\n",
    "        back_tracking(word, i, '')\n",
    "        break\n",
    "\n",
    "if not flag:\n",
    "    ans = 1\n",
    "print(ans)"
   ]
  },
  {
   "cell_type": "markdown",
   "id": "b1b75376",
   "metadata": {},
   "source": [
    "## 램프\n",
    "https://www.acmicpc.net/problem/1034"
   ]
  },
  {
   "cell_type": "code",
   "execution_count": null,
   "id": "a6a161e2",
   "metadata": {},
   "outputs": [],
   "source": [
    "n, m = map(int, input().split())\n",
    "lamp = [input() for _ in range(n)]\n",
    "k = int(input())\n",
    "\n",
    "max_cnt = 0\n",
    "\n",
    "for row in range(n):\n",
    "    zero = 0\n",
    "    for col in lamp[row]:\n",
    "        if col == '0':\n",
    "            zero += 1\n",
    "\n",
    "    same_row = 0\n",
    "    if zero <= k and zero % 2 == k % 2:\n",
    "        for row2 in range(n):\n",
    "            if lamp[row] == lamp[row2]:\n",
    "                same_row += 1\n",
    "    max_cnt = max(max_cnt, same_row)\n",
    "print(max_cnt)"
   ]
  },
  {
   "cell_type": "markdown",
   "id": "51b61ed1",
   "metadata": {},
   "source": [
    "## 잠수함 식별\n",
    "https://www.acmicpc.net/problem/2671"
   ]
  },
  {
   "cell_type": "code",
   "execution_count": null,
   "id": "5ea769bb",
   "metadata": {},
   "outputs": [],
   "source": [
    "import re\n",
    "\n",
    "signal = input()\n",
    "print('SUBMARINE' if re.fullmatch('(100+1+|01)+', signal) else 'NOISE')"
   ]
  },
  {
   "cell_type": "markdown",
   "id": "9bce5cf1",
   "metadata": {},
   "source": [
    "## 숫자 고르기\n",
    "https://www.acmicpc.net/problem/2668"
   ]
  },
  {
   "cell_type": "code",
   "execution_count": null,
   "id": "faef7bcf",
   "metadata": {},
   "outputs": [],
   "source": [
    "n = int(input())\n",
    "arr = [0] + [int(input()) for _ in range(n)]\n",
    "visited = [True] + [False] * n\n",
    "result = []\n",
    "def dfs(i):\n",
    "    visited[i] = True\n",
    "    num = arr[i]\n",
    "    cycle.append(i)\n",
    "    \n",
    "    if visited[num]:\n",
    "        if num in cycle:\n",
    "            result.extend(cycle[cycle.index(num):])\n",
    "    else:\n",
    "        dfs(num)\n",
    "\n",
    "for i in range(1, n+1):\n",
    "    if not visited[i]:\n",
    "        cycle = []\n",
    "        dfs(i)\n",
    "\n",
    "print(result)\n",
    "for i in sorted(result):\n",
    "    print(i)"
   ]
  },
  {
   "cell_type": "markdown",
   "id": "14ad9903",
   "metadata": {},
   "source": [
    "## 회장뽑기\n",
    "https://www.acmicpc.net/problem/2660"
   ]
  },
  {
   "cell_type": "code",
   "execution_count": null,
   "id": "08b10997",
   "metadata": {},
   "outputs": [],
   "source": [
    "n = int(input())\n",
    "\n",
    "INF = int(1e9)\n",
    "graph = [[INF] * (n+1) for _ in range(n+1)]\n",
    "\n",
    "while True:\n",
    "    a, b = map(int, input().split())\n",
    "    if a == b == -1:\n",
    "        break\n",
    "    graph[a][b] = 1\n",
    "    graph[b][a] = 1\n",
    "\n",
    "for k in range(1, n+1):\n",
    "    for a in range(1, n+1):\n",
    "        for b in range(1, n+1):\n",
    "            if graph[a][b] > graph[a][k] + graph[k][b]:\n",
    "                graph[a][b] = graph[a][k] + graph[k][b]\n",
    "\n",
    "ans = []\n",
    "for i in range(1, n+1):\n",
    "    ans.append(max(graph[i][1:]))\n",
    "chairman = min(ans)\n",
    "print(chairman, ans.count(chairman))\n",
    "for i in range(n):\n",
    "    if ans[i] == chairman:\n",
    "        print(i+1, end=' ')"
   ]
  },
  {
   "cell_type": "markdown",
   "id": "c0943d91",
   "metadata": {},
   "source": [
    "## 구간 합 구하기 4\n",
    "https://www.acmicpc.net/problem/11659"
   ]
  },
  {
   "cell_type": "code",
   "execution_count": null,
   "id": "31145391",
   "metadata": {},
   "outputs": [],
   "source": [
    "n, m = map(int, input().split())\n",
    "nums = list(map(int, input().split()))\n",
    "for i in range(1, len(nums)):\n",
    "    nums[i] += nums[i-1]\n",
    "\n",
    "for _ in range(m):\n",
    "    a, b = map(int, input().split())\n",
    "    if a == 1:\n",
    "        print(nums[b-1])\n",
    "        continue\n",
    "    print(nums[b-1] - nums[a-2])"
   ]
  },
  {
   "cell_type": "code",
   "execution_count": 8,
   "id": "93df39de",
   "metadata": {},
   "outputs": [
    {
     "data": {
      "text/plain": [
       "{'a': 1, 'b': 2, 'c': 3}"
      ]
     },
     "execution_count": 8,
     "metadata": {},
     "output_type": "execute_result"
    }
   ],
   "source": [
    "from collections import Counter\n",
    "\n",
    "id = [1, 2, 3]\n",
    "name = ['a', 'b', 'c']\n",
    "a = dict(zip(name, id))\n",
    "a"
   ]
  },
  {
   "cell_type": "markdown",
   "id": "f178ac32",
   "metadata": {},
   "source": [
    "## 1, 2, 3 더하기 5\n",
    "https://www.acmicpc.net/problem/15990"
   ]
  },
  {
   "cell_type": "code",
   "execution_count": null,
   "id": "bb18ca05",
   "metadata": {},
   "outputs": [],
   "source": [
    "d = [[0] * 4 for _ in range(100001)]\n",
    "mod = 1000000009\n",
    "\n",
    "for i in range(1, 4):\n",
    "    d[i][i] = 1\n",
    "d[3][1], d[3][2] = 1, 1\n",
    "\n",
    "for i in range(4, 100001):\n",
    "    d[i][1] = (d[i-1][2] + d[i-1][3]) % mod\n",
    "    d[i][2] = (d[i-2][1] + d[i-2][3]) % mod\n",
    "    d[i][3] = (d[i-3][1] + d[i-3][2]) % mod\n",
    "\n",
    "for _ in range(int(input())):\n",
    "    n = int(input())\n",
    "    print(sum(d[n]) % mod)"
   ]
  }
 ],
 "metadata": {
  "kernelspec": {
   "display_name": "Python 3",
   "language": "python",
   "name": "python3"
  },
  "language_info": {
   "codemirror_mode": {
    "name": "ipython",
    "version": 3
   },
   "file_extension": ".py",
   "mimetype": "text/x-python",
   "name": "python",
   "nbconvert_exporter": "python",
   "pygments_lexer": "ipython3",
   "version": "3.8.8"
  }
 },
 "nbformat": 4,
 "nbformat_minor": 5
}
