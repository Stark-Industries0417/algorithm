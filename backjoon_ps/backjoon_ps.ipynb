{
 "cells": [
  {
   "cell_type": "markdown",
   "id": "5c5e2594",
   "metadata": {},
   "source": [
    "## 호텔\n",
    "https://www.acmicpc.net/problem/1106"
   ]
  },
  {
   "cell_type": "code",
   "execution_count": null,
   "id": "77126693",
   "metadata": {},
   "outputs": [],
   "source": [
    "from sys import maxsize\n",
    "\n",
    "c, n = map(int, input().split())\n",
    "info = sorted([list(map(int, input().split())) for _ in range(n)])\n",
    "dp = [0] + [maxsize] * (c + 99)\n",
    "\n",
    "for cost, customer in info:\n",
    "    for j in range(customer, c + 100):\n",
    "        dp[j] = min(dp[j], dp[j - customer] + cost)\n",
    "\n",
    "print(min(dp[c:c+100]))"
   ]
  }
 ],
 "metadata": {
  "kernelspec": {
   "display_name": "Python 3",
   "language": "python",
   "name": "python3"
  },
  "language_info": {
   "codemirror_mode": {
    "name": "ipython",
    "version": 3
   },
   "file_extension": ".py",
   "mimetype": "text/x-python",
   "name": "python",
   "nbconvert_exporter": "python",
   "pygments_lexer": "ipython3",
   "version": "3.8.8"
  }
 },
 "nbformat": 4,
 "nbformat_minor": 5
}
