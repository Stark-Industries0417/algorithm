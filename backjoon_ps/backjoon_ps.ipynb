{
 "cells": [
  {
   "cell_type": "markdown",
   "id": "5c5e2594",
   "metadata": {},
   "source": [
    "## 호텔\n",
    "https://www.acmicpc.net/problem/1106"
   ]
  },
  {
   "cell_type": "code",
   "execution_count": null,
   "id": "77126693",
   "metadata": {},
   "outputs": [],
   "source": [
    "from sys import maxsize\n",
    "\n",
    "c, n = map(int, input().split())\n",
    "info = sorted([list(map(int, input().split())) for _ in range(n)])\n",
    "dp = [0] + [maxsize] * (c + 99)\n",
    "\n",
    "for cost, customer in info:\n",
    "    for j in range(customer, c + 100):\n",
    "        dp[j] = min(dp[j], dp[j - customer] + cost)\n",
    "\n",
    "print(min(dp[c:c+100]))"
   ]
  },
  {
   "cell_type": "markdown",
   "id": "6561a849",
   "metadata": {},
   "source": [
    "## 알파벳\n",
    "https://www.acmicpc.net/problem/1987"
   ]
  },
  {
   "cell_type": "code",
   "execution_count": 3,
   "id": "ed640be3",
   "metadata": {},
   "outputs": [
    {
     "data": {
      "text/plain": [
       "{1, 2}"
      ]
     },
     "execution_count": 3,
     "metadata": {},
     "output_type": "execute_result"
    }
   ],
   "source": [
    "# 시간초과\n",
    "\n",
    "from collections import deque\n",
    "\n",
    "dx, dy = [0, 0, 1, -1], [1, -1, 0, 0]\n",
    "\n",
    "r, c = map(int, input().split())\n",
    "board = [input() for _ in range(r)]\n",
    "q = deque([(0, 0, [board[0][0]])])\n",
    "MAX = -int(1e9)\n",
    "\n",
    "while q:    \n",
    "    x, y, check = q.popleft()\n",
    "    if MAX < len(check):\n",
    "        MAX = len(check)\n",
    "    \n",
    "    for k in range(4):\n",
    "        nx, ny = x+dx[k], y+dy[k]\n",
    "        if 0 <= nx < r and 0 <= ny < c and board[nx][ny] not in check:\n",
    "            copied = check[:]\n",
    "            copied.append(board[nx][ny])\n",
    "            q.append((nx, ny, copied))\n",
    "print(MAX)"
   ]
  },
  {
   "cell_type": "code",
   "execution_count": null,
   "id": "7938bf25",
   "metadata": {},
   "outputs": [],
   "source": [
    "dx, dy = [0, 0, 1, -1], [1, -1, 0, 0]\n",
    "\n",
    "r, c = map(int, input().split())\n",
    "board = [input() for _ in range(r)]\n",
    "q = set([(0, 0, board[0][0])])\n",
    "MAX = -int(1e9)\n",
    "\n",
    "while q:    \n",
    "    x, y, check = q.pop()\n",
    "    if MAX < len(check):\n",
    "        MAX = len(check)\n",
    "    \n",
    "    for k in range(4):\n",
    "        nx, ny = x+dx[k], y+dy[k]\n",
    "        if 0 <= nx < r and 0 <= ny < c and board[nx][ny] not in check:\n",
    "            q.add((nx, ny, check + board[nx][ny]))\n",
    "print(MAX)"
   ]
  },
  {
   "cell_type": "markdown",
   "id": "937e49b8",
   "metadata": {},
   "source": [
    "## 이건 꼭 풀어야 해!\n",
    "https://www.acmicpc.net/problem/17390"
   ]
  },
  {
   "cell_type": "code",
   "execution_count": 2,
   "id": "2d858155",
   "metadata": {},
   "outputs": [
    {
     "data": {
      "text/plain": [
       "[1, 2, 2, 3, 5]"
      ]
     },
     "execution_count": 2,
     "metadata": {},
     "output_type": "execute_result"
    }
   ],
   "source": [
    "import sys \n",
    "input = sys.stdin.realine\n",
    "\n",
    "n, q = map(int, input().split())\n",
    "a = list(map(int, input().split()))\n",
    "a.sort()\n",
    "\n",
    "for i in range(1, n):\n",
    "    a[i] = a[i] + a[i-1]\n",
    "\n",
    "for _ in range(q):\n",
    "    l, r = map(int, input().split())\n",
    "    if l == 1:\n",
    "        print(a[r-1])\n",
    "    else:\n",
    "        print(a[r-1] - a[l-2])"
   ]
  },
  {
   "cell_type": "markdown",
   "id": "35269193",
   "metadata": {},
   "source": [
    "## 암호코드\n",
    "https://www.acmicpc.net/problem/2011"
   ]
  },
  {
   "cell_type": "code",
   "execution_count": null,
   "id": "23a47fe0",
   "metadata": {},
   "outputs": [],
   "source": [
    "n = list(map(int, input()))\n",
    "dp = [0] * (len(n) + 1)\n",
    "l = len(n)\n",
    "if n[0] == 0:\n",
    "    print(0)\n",
    "\n",
    "else:\n",
    "    n = [0] + n\n",
    "    dp[0] = dp[1] = 1\n",
    "    for i in range(2, l+1):\n",
    "        if n[i] > 0:\n",
    "            dp[i] += dp[i-1]\n",
    "        temp = n[i-1]*10 + n[i]\n",
    "        if temp >= 10 and temp <= 26:\n",
    "            dp[i] += dp[i-2]\n",
    "    print(dp[l] % 1000000) "
   ]
  }
 ],
 "metadata": {
  "kernelspec": {
   "display_name": "Python 3",
   "language": "python",
   "name": "python3"
  },
  "language_info": {
   "codemirror_mode": {
    "name": "ipython",
    "version": 3
   },
   "file_extension": ".py",
   "mimetype": "text/x-python",
   "name": "python",
   "nbconvert_exporter": "python",
   "pygments_lexer": "ipython3",
   "version": "3.8.8"
  }
 },
 "nbformat": 4,
 "nbformat_minor": 5
}
