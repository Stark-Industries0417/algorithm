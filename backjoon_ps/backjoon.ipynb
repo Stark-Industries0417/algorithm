{
 "cells": [
  {
   "cell_type": "markdown",
   "id": "f391de4a",
   "metadata": {},
   "source": [
    "# 3/12 토"
   ]
  },
  {
   "cell_type": "markdown",
   "id": "8110313a",
   "metadata": {},
   "source": [
    "## 신기한 소수\n",
    "https://www.acmicpc.net/problem/2023"
   ]
  },
  {
   "cell_type": "code",
   "execution_count": 21,
   "id": "0a3a63c0",
   "metadata": {
    "scrolled": true
   },
   "outputs": [
    {
     "name": "stdout",
     "output_type": "stream",
     "text": [
      "5\n",
      "23333\n",
      "23339\n",
      "23399\n",
      "23993\n",
      "29399\n",
      "31193\n",
      "31379\n",
      "37337\n",
      "37339\n",
      "37397\n",
      "59393\n",
      "59399\n",
      "71933\n",
      "73331\n",
      "73939\n"
     ]
    }
   ],
   "source": [
    "# 메모리 초과\n",
    "\n",
    "n = int(input())\n",
    "MAX = 10**n\n",
    "check = [num for num in range(10**(n-1), 10**n)]\n",
    "for i in range(2, int(MAX**0.5 + 1)):\n",
    "    for j in range(i**2, MAX+1, i):\n",
    "        check[j] = False\n",
    "        \n",
    "def check_minority(p):\n",
    "    for i in range(1, n):\n",
    "        if not check[p//10**(n-i)]:\n",
    "            return False\n",
    "    return True\n",
    "            \n",
    "for i in range(10**(n-1), 10**n):\n",
    "    if check[i] and check_minority(i):\n",
    "        print(i)"
   ]
  },
  {
   "cell_type": "code",
   "execution_count": 35,
   "id": "2b1f3962",
   "metadata": {},
   "outputs": [
    {
     "name": "stdout",
     "output_type": "stream",
     "text": [
      "4\n",
      "2333\n",
      "2339\n",
      "2393\n",
      "2399\n",
      "2939\n",
      "3119\n",
      "3137\n",
      "3733\n",
      "3739\n",
      "3793\n",
      "3797\n",
      "5939\n",
      "7193\n",
      "7331\n",
      "7333\n",
      "7393\n"
     ]
    }
   ],
   "source": [
    "# 시간초과\n",
    "n = int(input())\n",
    "def prime(p):\n",
    "    if p == 1:\n",
    "        return False\n",
    "    for i in range(2, int(p**0.5)+1):\n",
    "        if p % i == 0:\n",
    "            return False\n",
    "\n",
    "    return True\n",
    "\n",
    "def check_minority(p):\n",
    "    for i in range(1, n):\n",
    "        if not prime(p//(10**(n-i))):\n",
    "            return False\n",
    "    return True\n",
    "            \n",
    "for c in range(10**(n-1), 10**n):\n",
    "    if prime(c):\n",
    "        if check_minority(c):\n",
    "            print(c)"
   ]
  },
  {
   "cell_type": "code",
   "execution_count": 38,
   "id": "0acc8417",
   "metadata": {},
   "outputs": [
    {
     "name": "stdout",
     "output_type": "stream",
     "text": [
      "4\n",
      "2333\n",
      "2339\n",
      "2393\n",
      "2399\n",
      "2939\n",
      "3119\n",
      "3137\n",
      "3733\n",
      "3739\n",
      "3793\n",
      "3797\n",
      "5939\n",
      "7193\n",
      "7331\n",
      "7333\n",
      "7393\n"
     ]
    }
   ],
   "source": [
    "n = int(input())\n",
    "\n",
    "def check_prime(num):\n",
    "    for i in range(2, int(num**0.5) + 1):\n",
    "        if num % i == 0:\n",
    "            return False\n",
    "    return True\n",
    "\n",
    "def dfs(num):\n",
    "    if len(str(num)) == n:\n",
    "        print(num)\n",
    "        return\n",
    "    else:\n",
    "        for i in range(10):\n",
    "            temp = num*10 + i\n",
    "            if check_prime(temp):\n",
    "                dfs(temp)\n",
    "dfs(2)\n",
    "dfs(3)\n",
    "dfs(5)\n",
    "dfs(7)"
   ]
  },
  {
   "cell_type": "markdown",
   "id": "318dcd7a",
   "metadata": {},
   "source": [
    "# 3/13 일"
   ]
  },
  {
   "cell_type": "markdown",
   "id": "47317762",
   "metadata": {},
   "source": [
    "## 유닛 이동시키기\n",
    "https://www.acmicpc.net/problem/2194"
   ]
  },
  {
   "cell_type": "code",
   "execution_count": null,
   "id": "6fb2cc2f",
   "metadata": {},
   "outputs": [],
   "source": [
    "N, M, A, B, K = map(int, input().split())\n",
    "graph = [[0]*M for _ in range(N)]\n",
    "for _ in range(K):\n",
    "    u, v = map(int, input().split())\n",
    "    graph[u-1][v-1] = 1\n",
    "for _ in range(2):\n",
    "    s = map(int, input().split())\n",
    "    e = map(int, input().split())\n",
    "\n",
    "    "
   ]
  },
  {
   "cell_type": "markdown",
   "id": "6860928f",
   "metadata": {},
   "source": [
    "# 3/14 월"
   ]
  },
  {
   "cell_type": "markdown",
   "id": "c56a8bb2",
   "metadata": {},
   "source": [
    "## 보물섬\n",
    "https://www.acmicpc.net/problem/2589"
   ]
  },
  {
   "cell_type": "code",
   "execution_count": null,
   "id": "f925a3af",
   "metadata": {},
   "outputs": [],
   "source": [
    "from collections import deque\n",
    "\n",
    "n, m = map(int, input().split())\n",
    "graph = [list(input()) for _ in range(n)]\n",
    "dx, dy = [0, 0, 1, -1], [1, -1, 0, 0]\n",
    "\n",
    "\n",
    "def bfs(i, j):\n",
    "    visited[i][j] = True\n",
    "    q = deque([(i, j)])\n",
    "    max_n = 0\n",
    "    while q:\n",
    "        x, y = q.popleft()\n",
    "        for k in range(4):\n",
    "            nx, ny = x + dx[k], y + dy[k]\n",
    "            if (\n",
    "                0 <= nx < n\n",
    "                and 0 <= ny < m\n",
    "                and not visited[nx][ny]\n",
    "                and graph[nx][ny] != \"W\"\n",
    "            ):\n",
    "                visited[nx][ny] = True\n",
    "                graph[nx][ny] = graph[x][y] + 1\n",
    "                max_n = max(max_n, graph[nx][ny])\n",
    "                q.append((nx, ny))\n",
    "    return max_n\n",
    "\n",
    "\n",
    "result = 0\n",
    "for i in range(n):\n",
    "    for j in range(m):\n",
    "        if graph[i][j] != \"W\":\n",
    "            visited = [[False] * m for _ in range(n)]\n",
    "            graph[i][j] = 0\n",
    "            result = max(result, bfs(i, j))\n",
    "\n",
    "print(result)"
   ]
  },
  {
   "cell_type": "markdown",
   "id": "eb6ed406",
   "metadata": {},
   "source": [
    "# 3/15 화\n"
   ]
  },
  {
   "cell_type": "markdown",
   "id": "4990292e",
   "metadata": {},
   "source": [
    "## 회장뽑기\n",
    "https://www.acmicpc.net/problem/2660"
   ]
  },
  {
   "cell_type": "code",
   "execution_count": null,
   "id": "f540ac57",
   "metadata": {},
   "outputs": [],
   "source": [
    "INF = int(1e9)\n",
    "n = int(input())\n",
    "graph = [[INF] * (n + 1) for _ in range(n + 1)]\n",
    "for i in range(1, n + 1):\n",
    "    for j in range(1, n + 1):\n",
    "        if i == j:\n",
    "            graph[i][j] = 0\n",
    "\n",
    "while True:\n",
    "    a, b = map(int, input().split())\n",
    "    if a == -1 and b == -1:\n",
    "        break\n",
    "    graph[a][b] = 1\n",
    "    graph[b][a] = 1\n",
    "\n",
    "for k in range(1, n + 1):\n",
    "    for a in range(1, n + 1):\n",
    "        for b in range(1, n + 1):\n",
    "            if graph[a][b] > graph[a][k] + graph[k][b]:\n",
    "                graph[a][b] = graph[a][k] + graph[k][b]\n",
    "\n",
    "ans = []\n",
    "for i in range(1, n + 1):\n",
    "    ans.append(max(graph[i][1:]))\n",
    "\n",
    "chair_man = min(ans)\n",
    "print(chair_man, ans.count(chair_man))\n",
    "for i in range(n):\n",
    "    if ans[i] == chair_man:\n",
    "        print(i + 1, end=\" \")"
   ]
  },
  {
   "cell_type": "markdown",
   "id": "eeee9e79",
   "metadata": {},
   "source": [
    "# 3/16 수"
   ]
  },
  {
   "cell_type": "markdown",
   "id": "488143e3",
   "metadata": {},
   "source": [
    "## 숫자고르기\n",
    "https://www.acmicpc.net/problem/2668"
   ]
  },
  {
   "cell_type": "code",
   "execution_count": null,
   "id": "c2f9136a",
   "metadata": {},
   "outputs": [],
   "source": [
    "n = int(input())\n",
    "arr = [0] + [int(input()) for _ in range(n)]\n",
    "visited = [True] + [False] * (n)\n",
    "\n",
    "result = []\n",
    "\n",
    "\n",
    "def dfs(i):\n",
    "    global result\n",
    "    visited[i] = True\n",
    "    num = arr[i]\n",
    "    cycle.append(i)\n",
    "    if visited[num]:\n",
    "        if num in cycle:\n",
    "            result += cycle[cycle.index(num) :]\n",
    "    else:\n",
    "        dfs(num)\n",
    "\n",
    "\n",
    "for i in range(1, n + 1):\n",
    "    if not visited[i]:\n",
    "        cycle = []\n",
    "        dfs(i)\n",
    "print(len(result))\n",
    "for i in sorted(result):\n",
    "    print(i)"
   ]
  },
  {
   "cell_type": "markdown",
   "id": "7cd78890",
   "metadata": {},
   "source": [
    "# 3/17 목"
   ]
  },
  {
   "cell_type": "markdown",
   "id": "da249c21",
   "metadata": {},
   "source": [
    "## 중량제한\n",
    "https://www.acmicpc.net/problem/1939"
   ]
  },
  {
   "cell_type": "code",
   "execution_count": null,
   "id": "df834006",
   "metadata": {},
   "outputs": [],
   "source": [
    "from collections import deque\n",
    "\n",
    "\n",
    "def bfs(mid):\n",
    "    visited[start] = True\n",
    "    q = deque([start])\n",
    "\n",
    "    while q:\n",
    "        now = q.popleft()\n",
    "        if now == end:\n",
    "            return True\n",
    "        for nx, nc in graph[now]:\n",
    "            if not visited[nx] and mid <= nc:\n",
    "                q.append(nx)\n",
    "                visited[nx] = True\n",
    "    return False\n",
    "\n",
    "\n",
    "n, m = map(int, input().split())\n",
    "graph = [[] for _ in range(n + 1)]\n",
    "for _ in range(m):\n",
    "    a, b, c = map(int, input().split())\n",
    "    graph[a].append((b, c))\n",
    "    graph[b].append((a, c))\n",
    "\n",
    "start, end = map(int, input().split())\n",
    "\n",
    "left, right = 1, 1000000000\n",
    "while left <= right:\n",
    "    visited = [False] * (n + 1)\n",
    "    mid = (left + right) // 2\n",
    "    if bfs(mid):\n",
    "        left = mid + 1\n",
    "    else:\n",
    "        right = mid - 1\n",
    "print(right)"
   ]
  }
 ],
 "metadata": {
  "kernelspec": {
   "display_name": "Python 3",
   "language": "python",
   "name": "python3"
  },
  "language_info": {
   "codemirror_mode": {
    "name": "ipython",
    "version": 3
   },
   "file_extension": ".py",
   "mimetype": "text/x-python",
   "name": "python",
   "nbconvert_exporter": "python",
   "pygments_lexer": "ipython3",
   "version": "3.8.8"
  }
 },
 "nbformat": 4,
 "nbformat_minor": 5
}
