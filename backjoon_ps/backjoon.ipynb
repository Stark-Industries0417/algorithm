{
 "cells": [
  {
   "cell_type": "markdown",
   "id": "d5c328ad",
   "metadata": {},
   "source": [
    "# 1/11화"
   ]
  },
  {
   "cell_type": "markdown",
   "id": "e2ff8e7f",
   "metadata": {},
   "source": [
    "## 1668번 트로피 진열"
   ]
  },
  {
   "cell_type": "code",
   "execution_count": 2,
   "id": "f9288898",
   "metadata": {},
   "outputs": [
    {
     "name": "stdout",
     "output_type": "stream",
     "text": [
      "5\n",
      "1\n",
      "2\n",
      "5\n",
      "2\n",
      "1\n",
      "3\n",
      "3\n"
     ]
    }
   ],
   "source": [
    "n = int(input())\n",
    "th = [int(input()) for _ in range(n)]\n",
    "\n",
    "def tropy(th: list) -> int:\n",
    "    left, right = 0, n - 1\n",
    "    left_max, right_max = th[left], th[n-1]\n",
    "    left_cnt, right_cnt = 1, 1\n",
    "    \n",
    "    while left <= right:\n",
    "        if left_max <= right_max:\n",
    "            if left_max < th[left]:    \n",
    "                left_cnt += 1\n",
    "                left_max = th[left]\n",
    "            else:\n",
    "                left += 1\n",
    "\n",
    "        else:\n",
    "            if right_max < th[right]:\n",
    "                right_cnt += 1\n",
    "                right_max = th[right]\n",
    "            else:\n",
    "                right -= 1\n",
    "  \n",
    "    print(left_cnt)\n",
    "    print(right_cnt)\n",
    "\n",
    "tropy(th)"
   ]
  },
  {
   "cell_type": "code",
   "execution_count": 4,
   "id": "f8930257",
   "metadata": {},
   "outputs": [
    {
     "name": "stdout",
     "output_type": "stream",
     "text": [
      "5\n",
      "1\n",
      "2\n",
      "5\n",
      "2\n",
      "1\n",
      "3\n",
      "3\n"
     ]
    }
   ],
   "source": [
    "N = int(input())\n",
    "li = [int(input()) for _ in range(N)]\n",
    "left_cnt = right_cnt = 0\n",
    "left_max = right_max = 0\n",
    "for n in li:\n",
    "    if n > left_max:\n",
    "        left_max = n\n",
    "        left_cnt += 1\n",
    "for n in li[::-1]:\n",
    "    if n > right_max:\n",
    "        right_max = n\n",
    "        right_cnt += 1\n",
    "print(left_cnt)\n",
    "print(right_cnt)"
   ]
  },
  {
   "cell_type": "markdown",
   "id": "474e23bc",
   "metadata": {},
   "source": [
    "## 20365 블로그2"
   ]
  },
  {
   "cell_type": "code",
   "execution_count": 5,
   "id": "64e257e2",
   "metadata": {},
   "outputs": [
    {
     "name": "stdout",
     "output_type": "stream",
     "text": [
      "5\n",
      "BBBRR\n"
     ]
    },
    {
     "data": {
      "text/plain": [
       "3"
      ]
     },
     "execution_count": 5,
     "metadata": {},
     "output_type": "execute_result"
    }
   ],
   "source": [
    "# 무조건 전체를 한 색으로 칠하고 다른 색 개수를 더하는 것으로 잘못 생각\n",
    "\n",
    "from collections import Counter\n",
    "n = int(input())\n",
    "ques_c = input()\n",
    "def question(ques_c: str) -> int:\n",
    "    cnt = 1\n",
    "    question_cnt = Counter(ques_c).most_common(2)\n",
    "    cnt += question_cnt[1][1]\n",
    "    return cnt\n",
    "question(ques_c)"
   ]
  },
  {
   "cell_type": "code",
   "execution_count": 6,
   "id": "b88364d1",
   "metadata": {},
   "outputs": [
    {
     "name": "stdout",
     "output_type": "stream",
     "text": [
      "5\n",
      "BBBRR\n",
      "2\n"
     ]
    }
   ],
   "source": [
    "n = int(input())\n",
    "s = input()\n",
    "cnt = {'B': 0,'R': 0}\n",
    "cnt[s[0]] += 1\n",
    "for i in range(1,n):\n",
    "    if s[i] != s[i-1]:\n",
    "        cnt[s[i]] += 1\n",
    "print(min(cnt['B'],cnt['R'])+1)"
   ]
  },
  {
   "cell_type": "markdown",
   "id": "07e8689e",
   "metadata": {},
   "source": [
    "## 9489번 사촌"
   ]
  },
  {
   "cell_type": "code",
   "execution_count": 7,
   "id": "e29c7fd6",
   "metadata": {},
   "outputs": [
    {
     "name": "stdout",
     "output_type": "stream",
     "text": [
      "12\n"
     ]
    },
    {
     "ename": "ValueError",
     "evalue": "not enough values to unpack (expected 2, got 1)",
     "output_type": "error",
     "traceback": [
      "\u001b[0;31m---------------------------------------------------------------------------\u001b[0m",
      "\u001b[0;31mValueError\u001b[0m                                Traceback (most recent call last)",
      "\u001b[0;32m<ipython-input-7-90c6d79f412e>\u001b[0m in \u001b[0;36m<module>\u001b[0;34m\u001b[0m\n\u001b[1;32m      2\u001b[0m \u001b[0;34m\u001b[0m\u001b[0m\n\u001b[1;32m      3\u001b[0m \u001b[0;32mwhile\u001b[0m \u001b[0;32mTrue\u001b[0m\u001b[0;34m:\u001b[0m\u001b[0;34m\u001b[0m\u001b[0;34m\u001b[0m\u001b[0m\n\u001b[0;32m----> 4\u001b[0;31m     \u001b[0mn\u001b[0m\u001b[0;34m,\u001b[0m\u001b[0mk\u001b[0m \u001b[0;34m=\u001b[0m \u001b[0mmap\u001b[0m\u001b[0;34m(\u001b[0m\u001b[0mint\u001b[0m\u001b[0;34m,\u001b[0m\u001b[0minput\u001b[0m\u001b[0;34m(\u001b[0m\u001b[0;34m)\u001b[0m\u001b[0;34m.\u001b[0m\u001b[0msplit\u001b[0m\u001b[0;34m(\u001b[0m\u001b[0;34m)\u001b[0m\u001b[0;34m)\u001b[0m\u001b[0;34m\u001b[0m\u001b[0;34m\u001b[0m\u001b[0m\n\u001b[0m\u001b[1;32m      5\u001b[0m     \u001b[0;32mif\u001b[0m \u001b[0;32mnot\u001b[0m \u001b[0mn\u001b[0m \u001b[0;32mand\u001b[0m \u001b[0;32mnot\u001b[0m \u001b[0mk\u001b[0m\u001b[0;34m:\u001b[0m\u001b[0;34m\u001b[0m\u001b[0;34m\u001b[0m\u001b[0m\n\u001b[1;32m      6\u001b[0m         \u001b[0;32mbreak\u001b[0m\u001b[0;34m\u001b[0m\u001b[0;34m\u001b[0m\u001b[0m\n",
      "\u001b[0;31mValueError\u001b[0m: not enough values to unpack (expected 2, got 1)"
     ]
    }
   ],
   "source": [
    "from collections import defaultdict\n",
    "\n",
    "while True:\n",
    "    n,k = map(int,input().split())\n",
    "    if not n and not k:\n",
    "        break\n",
    "    arr = list(map(int,input().split()))\n",
    "    parents = defaultdict(int)\n",
    "    idx=0\n",
    "    for i in range(1,n):\n",
    "        parents[arr[i]] = arr[idx]\n",
    "        if i <n-1 and arr[i]+1 < arr[i+1]:\n",
    "            idx+=1\n",
    "    if parents[parents[k]]:\n",
    "        cnt=0\n",
    "        for node in arr:\n",
    "            if (parents[parents[k]] == parents[parents[node]]) and (parents[k] != parents[node]):\n",
    "                cnt+=1\n",
    "        print(cnt)\n",
    "    else:\n",
    "        print(0)"
   ]
  },
  {
   "cell_type": "markdown",
   "id": "578021d4",
   "metadata": {},
   "source": [
    "# 1/12 수"
   ]
  },
  {
   "cell_type": "markdown",
   "id": "fef3a2fb",
   "metadata": {},
   "source": [
    "## 암호\n",
    "https://www.acmicpc.net/problem/1718"
   ]
  },
  {
   "cell_type": "code",
   "execution_count": 8,
   "id": "581149d5",
   "metadata": {},
   "outputs": [
    {
     "name": "stdout",
     "output_type": "stream",
     "text": [
      "nice day\n",
      "love\n",
      "btgz oet\n"
     ]
    }
   ],
   "source": [
    "text = input()\n",
    "key = input()\n",
    "answer = ''\n",
    "\n",
    "for i in range(len(text)):\n",
    "    if text[i] == ' ':\n",
    "        answer += ' '\n",
    "    else:\n",
    "        answer += chr((ord(text[i]) - ord(key[i%len(key)]) - 1) % 26 + ord('a'))\n",
    "print(answer)"
   ]
  },
  {
   "cell_type": "markdown",
   "id": "fd6fb5fd",
   "metadata": {},
   "source": [
    "# 1/13 목"
   ]
  },
  {
   "cell_type": "markdown",
   "id": "410e6654",
   "metadata": {},
   "source": [
    "## 세로 읽기 10798번\n",
    "https://www.acmicpc.net/problem/10798"
   ]
  },
  {
   "cell_type": "code",
   "execution_count": 9,
   "id": "b60346c5",
   "metadata": {},
   "outputs": [
    {
     "name": "stdout",
     "output_type": "stream",
     "text": [
      "AABCDD\n",
      "afzz\n",
      "09121\n",
      "a8EWg6\n",
      "p5h3kx\n"
     ]
    },
    {
     "data": {
      "text/plain": [
       "'Aa0apAf985Bz1EhCz2W3D1gkD6x'"
      ]
     },
     "execution_count": 9,
     "metadata": {},
     "output_type": "execute_result"
    }
   ],
   "source": [
    "letters = [input() for _ in range(5)]\n",
    "n = max(letters, key=len)\n",
    "s = ''\n",
    "for i in range(len(n)):\n",
    "    for j in range(5):\n",
    "        try:\n",
    "            s += letters[j][i]\n",
    "        except:\n",
    "            continue\n",
    "s"
   ]
  },
  {
   "cell_type": "markdown",
   "id": "2cc05e0f",
   "metadata": {},
   "source": [
    "## 연산자 끼워넣기 O(4 ^ n)\n",
    "https://www.acmicpc.net/problem/15658"
   ]
  },
  {
   "cell_type": "code",
   "execution_count": 11,
   "id": "e68c99e6",
   "metadata": {},
   "outputs": [
    {
     "name": "stdout",
     "output_type": "stream",
     "text": [
      "3\n",
      "3 4 5\n",
      "2 1 2 1\n"
     ]
    }
   ],
   "source": [
    "# 시간 초과\n",
    "\n",
    "import sys \n",
    "\n",
    "n = int(input())\n",
    "num = list(map(int, input().split()))\n",
    "op_cnt = list(map(int, input().split()))\n",
    "check = [False] * (sum(op_cnt))\n",
    "max_result = -sys.maxsize\n",
    "min_result = sys.maxsize\n",
    "\n",
    "op = ''\n",
    "for i, v in enumerate(op_cnt):\n",
    "    if i == 0:\n",
    "        op += '+' * v\n",
    "    elif i == 1:\n",
    "        op += '-' * v\n",
    "    elif i == 2:\n",
    "        op += '*' * v\n",
    "    else:\n",
    "        op += '/' * v\n",
    "    \n",
    "def operator(index: int, s: int) -> list:\n",
    "    if index == n:\n",
    "        global max_result, min_result\n",
    "        max_result = max(max_result, s)\n",
    "        min_result = min(min_result, s)\n",
    "        return \n",
    "   \n",
    "    for i in range(len(op)):\n",
    "        if check[i]:\n",
    "            continue\n",
    "        \n",
    "        if op[i] == '+':\n",
    "            result = s + num[index]\n",
    "        elif op[i] == '-':\n",
    "            result = s - num[index]\n",
    "        elif op[i] == '*':\n",
    "            result = s * num[index]\n",
    "        elif op[i] == '/':\n",
    "            if s < 0:\n",
    "                result = -s // num[index]\n",
    "                result = -result\n",
    "            else:\n",
    "                result = s // num[index]\n",
    "                \n",
    "        check[i] = True\n",
    "        if result > s or result < s:\n",
    "            operator(index + 1, result)    \n",
    "        check[i] = False\n",
    "        \n",
    "\n",
    "operator(1, num[0])"
   ]
  },
  {
   "cell_type": "code",
   "execution_count": 12,
   "id": "726f4c6d",
   "metadata": {},
   "outputs": [
    {
     "name": "stdout",
     "output_type": "stream",
     "text": [
      "6\n",
      "1 2 3 4 5 6\n",
      "3 2 1 1\n",
      "72\n",
      "-48\n"
     ]
    }
   ],
   "source": [
    "# 시간초과 개선\n",
    "import sys \n",
    "\n",
    "n = int(input())\n",
    "num = list(map(int, input().split()))\n",
    "op_cnt = list(map(int, input().split()))\n",
    "max_result = -sys.maxsize\n",
    "min_result = sys.maxsize\n",
    "\n",
    "\n",
    "    \n",
    "def operator(index: int, s: int) -> list:\n",
    "    if index == n:\n",
    "        global max_result, min_result\n",
    "        max_result = max(max_result, s)\n",
    "        min_result = min(min_result, s)\n",
    "        return \n",
    "   \n",
    "    for i in range(len(op_cnt)):\n",
    "        if not op_cnt[i] == 0:\n",
    "            if i == 0:\n",
    "                result = s + num[index]\n",
    "            elif i == 1:\n",
    "                result = s - num[index]\n",
    "            elif i == 2:\n",
    "                result = s * num[index]\n",
    "            else:\n",
    "                if s < 0:\n",
    "                    result = -s // num[index]\n",
    "                    result = -result\n",
    "                else:\n",
    "                    result = s // num[index]\n",
    "\n",
    "            op_cnt[i] -= 1\n",
    "            operator(index + 1, result)    \n",
    "            op_cnt[i] += 1\n",
    "\n",
    "\n",
    "operator(1, num[0])\n",
    "\n",
    "\n",
    "print(max_result)\n",
    "print(min_result)"
   ]
  },
  {
   "cell_type": "markdown",
   "id": "e58a2d81",
   "metadata": {},
   "source": [
    "# 1/14 금"
   ]
  },
  {
   "cell_type": "markdown",
   "id": "0910a213",
   "metadata": {},
   "source": [
    "## 디지털 시계\n",
    "https://www.acmicpc.net/problem/1942"
   ]
  },
  {
   "cell_type": "code",
   "execution_count": null,
   "id": "637645d4",
   "metadata": {},
   "outputs": [],
   "source": [
    "import datetime\n",
    "from datetime import timedelta\n",
    "\n",
    "for i in range(3):\n",
    "    start, end = input().split()\n",
    "\n",
    "    stH, stM, stS = map(int, start.split(':'))\n",
    "    edH, edM, edS = map(int, end.split(':'))\n",
    "\n",
    "    stime = datetime.datetime(2021, 1, 1, stH, stM, stS)\n",
    "    tmp_time = stime.strftime('%H%M%S')\n",
    "\n",
    "    sec = 1\n",
    "    cnt = 0\n",
    "    if int(tmp_time) % 3 == 0:\n",
    "        cnt += 1\n",
    "    etime = datetime.datetime(2021, 1, 1, edH, edM, edS)\n",
    "    etime = etime.strftime('%H%M%S')\n",
    "\n",
    "    while True:\n",
    "        if tmp_time == etime:\n",
    "            break\n",
    "        stime = stime + timedelta(seconds=sec)\n",
    "        tmp_time = stime.strftime('%H%M%S')\n",
    "        if int(tmp_time) % 3 == 0:\n",
    "            cnt += 1\n",
    "    print(cnt)"
   ]
  },
  {
   "cell_type": "markdown",
   "id": "5a1fa5f7",
   "metadata": {},
   "source": [
    "# 1/15 토"
   ]
  },
  {
   "cell_type": "markdown",
   "id": "483774bc",
   "metadata": {},
   "source": [
    "## 양 구출 작전 16437번\n",
    "https://www.acmicpc.net/problem/16437"
   ]
  },
  {
   "cell_type": "code",
   "execution_count": null,
   "id": "0dd185f9",
   "metadata": {},
   "outputs": [],
   "source": [
    "import sys\n",
    "sys.setrecursionlimit(1000000)\n",
    "# input = sys.stdin.readline\n",
    "n = int(input())\n",
    "wolves = [0 for _ in range(n+1)]\n",
    "sheeps = {i:0 for i in range(1, n+1)}\n",
    "tree = [[] for _ in range(n+1)]\n",
    "for i in range(2, n+1):\n",
    "    t, a, p = input().split()\n",
    "    a = int(a)\n",
    "    p = int(p)\n",
    "    if t == 'W':\n",
    "        wolves[i] = a\n",
    "    else:\n",
    "        sheeps[i] = a\n",
    "    tree[p].append(i)\n",
    "\n",
    "\n",
    "def dfs(here):\n",
    "    num_sheeps = sheeps[here]\n",
    "    for there in tree[here]:\n",
    "        num_sheeps += dfs(there)\n",
    "    if wolves[here] != 0:\n",
    "        if num_sheeps < wolves[here]:\n",
    "            wolves[here] -= num_sheeps\n",
    "            num_sheeps = 0\n",
    "        else:\n",
    "            num_sheeps -= wolves[here]\n",
    "            wolves[here] = 0\n",
    "    return num_sheeps\n",
    "    \n",
    "print(dfs(1))"
   ]
  },
  {
   "cell_type": "markdown",
   "id": "63e8cb0d",
   "metadata": {},
   "source": [
    "# 1/18 화"
   ]
  },
  {
   "cell_type": "code",
   "execution_count": null,
   "id": "ca3fa016",
   "metadata": {},
   "outputs": [],
   "source": [
    "N, B = input().split()\n",
    "\n",
    "N = N[::-1]\n",
    "B = int(B)\n",
    "result = 0\n",
    "number = '0123456789ABCDEFGHIJKLMNOPQRSTUVWXYZ'\n",
    "\n",
    "for x in range(len(N)-1, -1, -1):\n",
    "    result += number.index(N[x]) * (B ** x)\n",
    "\n",
    "print(result)"
   ]
  },
  {
   "cell_type": "markdown",
   "id": "65aeb743",
   "metadata": {},
   "source": [
    "# 1/19 수"
   ]
  },
  {
   "cell_type": "code",
   "execution_count": 14,
   "id": "706f7795",
   "metadata": {},
   "outputs": [
    {
     "name": "stdout",
     "output_type": "stream",
     "text": [
      "4 2\n",
      "1 2\n",
      "1 3\n",
      "1 4\n",
      "2 1\n",
      "2 3\n",
      "2 4\n",
      "3 1\n",
      "3 2\n",
      "3 4\n",
      "4 1\n",
      "4 2\n",
      "4 3\n"
     ]
    }
   ],
   "source": [
    "import sys\n",
    "sys.setrecursionlimit(10 ** 6)\n",
    "n, m = map(int, input().split())\n",
    "ans = [0] * m\n",
    "check = [False] * (n+1)\n",
    "def permutation(index: int) -> None:\n",
    "    if index == m:\n",
    "        print(*ans)\n",
    "        return\n",
    "    \n",
    "    for i in range(1, n+1):\n",
    "        if check[i]:\n",
    "            continue\n",
    "        check[i] = True\n",
    "        ans[index] = i\n",
    "        permutation(index + 1)\n",
    "        check[i] = False\n",
    "permutation(0)"
   ]
  },
  {
   "cell_type": "markdown",
   "id": "55949ebc",
   "metadata": {},
   "source": [
    "## 블록쌓기\n",
    "https://www.acmicpc.net/problem/18427"
   ]
  },
  {
   "cell_type": "code",
   "execution_count": null,
   "id": "e8004fac",
   "metadata": {},
   "outputs": [],
   "source": [
    "n, m, h = map(int, input().split())\n",
    "dp = [[1] + [0] * h for _ in range(n+1)]\n",
    "for i in range(1, n+1):\n",
    "    dp[i] = dp[i-1].copy()\n",
    "    blocks = list(map(int, input().split()))\n",
    "    for b in blocks:\n",
    "        for j in range(b, h+1):\n",
    "            dp[i][j] += dp[i-1][j-b]\n",
    "print(dp[n][h] % 10007)"
   ]
  },
  {
   "cell_type": "markdown",
   "id": "9c58591f",
   "metadata": {},
   "source": [
    "# 1/20 목"
   ]
  },
  {
   "cell_type": "markdown",
   "id": "4a6e3358",
   "metadata": {},
   "source": [
    "## 뱀과 사다리 게임\n",
    "https://www.acmicpc.net/problem/16928"
   ]
  },
  {
   "cell_type": "code",
   "execution_count": null,
   "id": "010cb8d7",
   "metadata": {},
   "outputs": [],
   "source": [
    "from collections import deque\n",
    "\n",
    "N, M = map(int, input().split())\n",
    "board_cnt = [0] * 101\n",
    "visited = [False] * 101\n",
    "\n",
    "snack = dict()\n",
    "ladder = dict()\n",
    "for _ in range(N):\n",
    "    i, j = map(int, input().split())\n",
    "    ladder[i] = j\n",
    "for _ in range(M):\n",
    "    i, j = map(int, input().split())\n",
    "    snack[i] = j\n",
    "\n",
    "def bfs():\n",
    "    queue = deque([1])\n",
    "    visited[1] = True\n",
    "    while queue:\n",
    "        now = queue.popleft()\n",
    "        for move in range(1, 7):\n",
    "            check_move = now + move\n",
    "            if 0 < check_move <= 100 and not visited[check_move]:\n",
    "                if check_move in ladder.keys():\n",
    "                    check_move = ladder[check_move]\n",
    "                if check_move in snack.keys():\n",
    "                    check_move = snack[check_move]\n",
    "                if not visited[check_move]:\n",
    "                    queue.append(check_move)\n",
    "                    visited[check_move] = True\n",
    "                    board_cnt[check_move] = board_cnt[now] + 1\n",
    "bfs()\n",
    "print(board_cnt[100])"
   ]
  },
  {
   "cell_type": "markdown",
   "id": "8484521e",
   "metadata": {},
   "source": [
    "# 1/21 금"
   ]
  },
  {
   "cell_type": "markdown",
   "id": "0e0f9468",
   "metadata": {},
   "source": [
    "## 네트워크 복구\n",
    "https://www.acmicpc.net/problem/2211"
   ]
  },
  {
   "cell_type": "code",
   "execution_count": null,
   "id": "6fff9dff",
   "metadata": {},
   "outputs": [],
   "source": [
    "import heapq\n",
    "import sys\n",
    "INF = sys.maxsize\n",
    "\n",
    "n, m = map(int, input().split())\n",
    "parent = [0] * (n+1)\n",
    "graph = [[] for _ in range(n+1)]\n",
    "distance = [INF] * (n+1)\n",
    "\n",
    "for _ in range(m):\n",
    "    a, b, c = map(int, input().split())\n",
    "    graph[a].append((b, c))\n",
    "    graph[b].append((a, c))\n",
    "\n",
    "def dijkstra(start):\n",
    "    q = []\n",
    "    heapq.heappush(q, (0, start))\n",
    "    distance[start] = 0\n",
    "    while q:\n",
    "        dist, now = heapq.heappop(q)\n",
    "        if distance[now] < dist:\n",
    "            continue\n",
    "        for next_node, next_cost in graph[now]:\n",
    "            cost = dist + next_cost\n",
    "            \n",
    "            if distance[next_node] > cost:\n",
    "                parent[next_node] = now\n",
    "                distance[next_node] = cost\n",
    "                heapq.heappush(q, (cost, next_node))\n",
    "\n",
    "            \n",
    "dijkstra(1)\n",
    "print(n-1)\n",
    "for i in range(2, n+1):\n",
    "    print(i, parent[i])"
   ]
  },
  {
   "cell_type": "markdown",
   "id": "dff63c39",
   "metadata": {},
   "source": [
    "# 1/25 화"
   ]
  },
  {
   "cell_type": "markdown",
   "id": "f404654f",
   "metadata": {},
   "source": [
    "## <span style='color: purple'>밑 줄</span>\n",
    "https://www.acmicpc.net/problem/1474"
   ]
  },
  {
   "cell_type": "code",
   "execution_count": null,
   "id": "dccbee16",
   "metadata": {},
   "outputs": [],
   "source": [
    "words = ['A', 'quick', 'brown']\n",
    "new_words = list('_'.join(words))\n",
    "\n",
    "new_words"
   ]
  },
  {
   "cell_type": "code",
   "execution_count": null,
   "id": "ee6fda86",
   "metadata": {},
   "outputs": [],
   "source": [
    "n, m = map(int, input().split())\n",
    "words = [input() for _ in range(n)]"
   ]
  },
  {
   "cell_type": "markdown",
   "id": "7bf897dc",
   "metadata": {},
   "source": [
    "## 별 찍기\n",
    "https://www.acmicpc.net/problem/10992"
   ]
  },
  {
   "cell_type": "code",
   "execution_count": 44,
   "id": "b916f515",
   "metadata": {},
   "outputs": [
    {
     "name": "stdout",
     "output_type": "stream",
     "text": [
      "5\n",
      "    *\n",
      "   * *\n",
      "  *   *\n",
      " *     *\n",
      "*********\n"
     ]
    }
   ],
   "source": [
    "n = int(input())\n",
    "\n",
    "for i in range(1, n+1):\n",
    "    if i == 1:\n",
    "        print(' '*(n-i) + '*')\n",
    "    elif i == n:\n",
    "        print('*'*(2*i-1))\n",
    "    else:\n",
    "        print(' '*(n-i) + '*'+ ' '*(2*i-3) + '*')"
   ]
  },
  {
   "cell_type": "markdown",
   "id": "bbd7367b",
   "metadata": {},
   "source": [
    "## 수 찾기\n",
    "https://www.acmicpc.net/problem/1920"
   ]
  },
  {
   "cell_type": "code",
   "execution_count": 48,
   "id": "11f1ea21",
   "metadata": {},
   "outputs": [
    {
     "name": "stdout",
     "output_type": "stream",
     "text": [
      "5\n",
      "4 1 5 2 3\n",
      "5\n",
      "1 3 7 9 5\n",
      "1\n",
      "1\n",
      "0\n",
      "0\n",
      "1\n"
     ]
    }
   ],
   "source": [
    "# 시간 초과\n",
    "n = int(input())\n",
    "num1 = list(map(int, input().split()))\n",
    "m = int(input())\n",
    "num2 = list(map(int, input().split()))\n",
    "\n",
    "for i in range(m):\n",
    "    if num2[i] in num1:\n",
    "        print(1)\n",
    "    else:\n",
    "        print(0)"
   ]
  },
  {
   "cell_type": "code",
   "execution_count": 51,
   "id": "d33a7fdd",
   "metadata": {},
   "outputs": [
    {
     "name": "stdout",
     "output_type": "stream",
     "text": [
      "5\n",
      "4 1 5 2 3\n",
      "5\n",
      "1 3 7 9 5\n",
      "1\n",
      "1\n",
      "0\n",
      "0\n",
      "1\n"
     ]
    }
   ],
   "source": [
    "n = int(input())\n",
    "N = list(map(int, input().split()))\n",
    "m = int(input())\n",
    "M = list(map(int, input().split()))\n",
    "N.sort()\n",
    "\n",
    "def binary(target):\n",
    "    left = 0\n",
    "    right = n-1\n",
    "    while left <= right:\n",
    "        mid = (left + right) // 2\n",
    "        if N[mid] == target:\n",
    "            return True\n",
    "        if target < N[mid]:\n",
    "            right = mid - 1\n",
    "        elif target > N[mid]:\n",
    "            left = mid + 1\n",
    "    return False\n",
    "\n",
    "for i in M:\n",
    "    if binary(i):\n",
    "        print(1)\n",
    "    else:\n",
    "        print(0)"
   ]
  },
  {
   "cell_type": "markdown",
   "id": "f7dcf077",
   "metadata": {},
   "source": [
    "## 수 정렬하기\n",
    "https://www.acmicpc.net/problem/2750"
   ]
  },
  {
   "cell_type": "code",
   "execution_count": 56,
   "id": "b858e0d2",
   "metadata": {},
   "outputs": [
    {
     "name": "stdout",
     "output_type": "stream",
     "text": [
      "5\n",
      "5\n",
      "2\n",
      "3\n",
      "4\n",
      "1\n",
      "1\n",
      "2\n",
      "3\n",
      "4\n",
      "5\n"
     ]
    }
   ],
   "source": [
    "n = int(input())\n",
    "num = [int(input()) for _ in range(n)]\n",
    "num.sort()\n",
    "for i in num:\n",
    "    print(i)"
   ]
  },
  {
   "cell_type": "markdown",
   "id": "3347a867",
   "metadata": {},
   "source": [
    "## 수 정렬하기2\n",
    "https://www.acmicpc.net/problem/2751"
   ]
  },
  {
   "cell_type": "code",
   "execution_count": 62,
   "id": "dbf23673",
   "metadata": {},
   "outputs": [
    {
     "ename": "ValueError",
     "evalue": "invalid literal for int() with base 10: ''",
     "output_type": "error",
     "traceback": [
      "\u001b[0;31m---------------------------------------------------------------------------\u001b[0m",
      "\u001b[0;31mValueError\u001b[0m                                Traceback (most recent call last)",
      "\u001b[0;32m<ipython-input-62-a7bcb06415e7>\u001b[0m in \u001b[0;36m<module>\u001b[0;34m\u001b[0m\n\u001b[1;32m      1\u001b[0m \u001b[0;32mimport\u001b[0m \u001b[0msys\u001b[0m\u001b[0;34m\u001b[0m\u001b[0;34m\u001b[0m\u001b[0m\n\u001b[0;32m----> 2\u001b[0;31m \u001b[0mn\u001b[0m \u001b[0;34m=\u001b[0m \u001b[0mint\u001b[0m\u001b[0;34m(\u001b[0m\u001b[0msys\u001b[0m\u001b[0;34m.\u001b[0m\u001b[0mstdin\u001b[0m\u001b[0;34m.\u001b[0m\u001b[0mreadline\u001b[0m\u001b[0;34m(\u001b[0m\u001b[0;34m)\u001b[0m\u001b[0;34m)\u001b[0m\u001b[0;34m\u001b[0m\u001b[0;34m\u001b[0m\u001b[0m\n\u001b[0m\u001b[1;32m      3\u001b[0m \u001b[0mnum\u001b[0m \u001b[0;34m=\u001b[0m \u001b[0;34m[\u001b[0m\u001b[0mint\u001b[0m\u001b[0;34m(\u001b[0m\u001b[0msys\u001b[0m\u001b[0;34m.\u001b[0m\u001b[0mstdin\u001b[0m\u001b[0;34m.\u001b[0m\u001b[0mreadline\u001b[0m\u001b[0;34m(\u001b[0m\u001b[0;34m)\u001b[0m\u001b[0;34m)\u001b[0m \u001b[0;32mfor\u001b[0m \u001b[0m_\u001b[0m \u001b[0;32min\u001b[0m \u001b[0mrange\u001b[0m\u001b[0;34m(\u001b[0m\u001b[0mn\u001b[0m\u001b[0;34m)\u001b[0m\u001b[0;34m]\u001b[0m\u001b[0;34m\u001b[0m\u001b[0;34m\u001b[0m\u001b[0m\n\u001b[1;32m      4\u001b[0m \u001b[0;32mfor\u001b[0m \u001b[0mi\u001b[0m \u001b[0;32min\u001b[0m \u001b[0msorted\u001b[0m\u001b[0;34m(\u001b[0m\u001b[0mnum\u001b[0m\u001b[0;34m)\u001b[0m\u001b[0;34m:\u001b[0m\u001b[0;34m\u001b[0m\u001b[0;34m\u001b[0m\u001b[0m\n\u001b[1;32m      5\u001b[0m     \u001b[0msys\u001b[0m\u001b[0;34m.\u001b[0m\u001b[0mstdout\u001b[0m\u001b[0;34m.\u001b[0m\u001b[0mwrite\u001b[0m\u001b[0;34m(\u001b[0m\u001b[0mstr\u001b[0m\u001b[0;34m(\u001b[0m\u001b[0mi\u001b[0m\u001b[0;34m)\u001b[0m \u001b[0;34m+\u001b[0m \u001b[0;34m'\\n'\u001b[0m\u001b[0;34m)\u001b[0m\u001b[0;34m\u001b[0m\u001b[0;34m\u001b[0m\u001b[0m\n",
      "\u001b[0;31mValueError\u001b[0m: invalid literal for int() with base 10: ''"
     ]
    }
   ],
   "source": [
    "import sys\n",
    "n = int(sys.stdin.readline())\n",
    "num = [int(sys.stdin.readline()) for _ in range(n)]\n",
    "for i in sorted(num):\n",
    "    sys.stdout.write(str(i) + '\\n')"
   ]
  },
  {
   "cell_type": "markdown",
   "id": "88ee72e9",
   "metadata": {},
   "source": [
    "## 수 정렬하기3\n",
    "https://www.acmicpc.net/problem/10989"
   ]
  },
  {
   "cell_type": "code",
   "execution_count": null,
   "id": "bf57878a",
   "metadata": {},
   "outputs": [],
   "source": [
    "# num 공간 할당 때문에 메모리 초과 일어남\n",
    "from sys import stdin, stdout\n",
    "n = int(stdin.readline())\n",
    "num = [int(stdin.readline()) for _ in range(n)]\n",
    "check = [0] * 10001\n",
    "\n",
    "for i in num:\n",
    "    check[i] = check[i] + 1\n",
    "for i in range(10001):\n",
    "    if check[i]:\n",
    "        for j in range(check[i]):\n",
    "            print(i)"
   ]
  },
  {
   "cell_type": "code",
   "execution_count": null,
   "id": "9796e49b",
   "metadata": {},
   "outputs": [],
   "source": [
    "import sys \n",
    "N = int(input()) \n",
    "check_list = [0] * 10001 \n",
    "for i in range(N): \n",
    "    input_num = int(sys.stdin.readline()) \n",
    "    check_list[input_num] = check_list[input_num] + 1 \n",
    "for i in range(10001): \n",
    "    if check_list[i]: \n",
    "        for j in range(check_list[i]): \n",
    "            print(i)"
   ]
  },
  {
   "cell_type": "code",
   "execution_count": null,
   "id": "29fdd94e",
   "metadata": {},
   "outputs": [],
   "source": [
    "# 이 코드는 왜 메모리 초과가 나는지 모르겠다\n",
    "from sys import stdin, stdout\n",
    "n = int(input())\n",
    "num = [int(stdin.readline()) for _ in range(n)]\n",
    "num.sort()\n",
    "for i in num:\n",
    "    print(i)"
   ]
  },
  {
   "cell_type": "markdown",
   "id": "ac88a085",
   "metadata": {},
   "source": [
    "## 숫자 카드\n",
    "https://www.acmicpc.net/problem/10815"
   ]
  },
  {
   "cell_type": "code",
   "execution_count": 69,
   "id": "55bbdfee",
   "metadata": {},
   "outputs": [
    {
     "name": "stdout",
     "output_type": "stream",
     "text": [
      "5\n",
      "6 3 2 10 -10\n",
      "5\n",
      "10 9 -5 2 3 4 5 -10\n",
      "1 0 0 1 1 0 0 1 "
     ]
    }
   ],
   "source": [
    "n = int(input())\n",
    "N = list(map(int, input().split()))\n",
    "m = int(input())\n",
    "M = list(map(int ,input().split()))\n",
    "N.sort()\n",
    "def binary(target):\n",
    "    left = 0\n",
    "    right = n-1\n",
    "    while left <= right:\n",
    "        mid = (left + right) // 2\n",
    "        if N[mid] == target:\n",
    "            return 1\n",
    "        if target < N[mid]:\n",
    "            right = mid - 1\n",
    "        elif target > N[mid]:\n",
    "            left = mid + 1\n",
    "    return 0\n",
    "\n",
    "for i in M:\n",
    "    print(binary(i), end=' ')"
   ]
  },
  {
   "cell_type": "markdown",
   "id": "12d218f7",
   "metadata": {},
   "source": [
    "# 1/28 금"
   ]
  },
  {
   "cell_type": "markdown",
   "id": "914c5319",
   "metadata": {},
   "source": [
    "## 스택\n",
    "https://www.acmicpc.net/problem/10828"
   ]
  },
  {
   "cell_type": "code",
   "execution_count": 87,
   "id": "f6ebcbd8",
   "metadata": {},
   "outputs": [
    {
     "ename": "ValueError",
     "evalue": "invalid literal for int() with base 10: ''",
     "output_type": "error",
     "traceback": [
      "\u001b[0;31m---------------------------------------------------------------------------\u001b[0m",
      "\u001b[0;31mValueError\u001b[0m                                Traceback (most recent call last)",
      "\u001b[0;32m<ipython-input-87-d756eaa452f2>\u001b[0m in \u001b[0;36m<module>\u001b[0;34m\u001b[0m\n\u001b[1;32m      1\u001b[0m \u001b[0;32mimport\u001b[0m \u001b[0msys\u001b[0m\u001b[0;34m\u001b[0m\u001b[0;34m\u001b[0m\u001b[0m\n\u001b[0;32m----> 2\u001b[0;31m \u001b[0mn\u001b[0m \u001b[0;34m=\u001b[0m \u001b[0mint\u001b[0m\u001b[0;34m(\u001b[0m\u001b[0msys\u001b[0m\u001b[0;34m.\u001b[0m\u001b[0mstdin\u001b[0m\u001b[0;34m.\u001b[0m\u001b[0mreadline\u001b[0m\u001b[0;34m(\u001b[0m\u001b[0;34m)\u001b[0m\u001b[0;34m)\u001b[0m\u001b[0;34m\u001b[0m\u001b[0;34m\u001b[0m\u001b[0m\n\u001b[0m\u001b[1;32m      3\u001b[0m \u001b[0;34m\u001b[0m\u001b[0m\n\u001b[1;32m      4\u001b[0m \u001b[0mstack\u001b[0m\u001b[0;34m=\u001b[0m\u001b[0;34m[\u001b[0m\u001b[0;34m]\u001b[0m\u001b[0;34m\u001b[0m\u001b[0;34m\u001b[0m\u001b[0m\n\u001b[1;32m      5\u001b[0m \u001b[0;32mfor\u001b[0m \u001b[0mi\u001b[0m \u001b[0;32min\u001b[0m \u001b[0mrange\u001b[0m\u001b[0;34m(\u001b[0m\u001b[0mn\u001b[0m\u001b[0;34m)\u001b[0m\u001b[0;34m:\u001b[0m\u001b[0;34m\u001b[0m\u001b[0;34m\u001b[0m\u001b[0m\n",
      "\u001b[0;31mValueError\u001b[0m: invalid literal for int() with base 10: ''"
     ]
    }
   ],
   "source": [
    "import sys\n",
    "n = int(sys.stdin.readline())\n",
    "\n",
    "stack=[]\n",
    "for i in range(n):\n",
    "    command = sys.stdin.readline().split()\n",
    "\n",
    "    if command[0]=='push':\n",
    "        stack.append(command[1])\n",
    "    elif command[0]=='pop':\n",
    "        if len(stack)==0:\n",
    "            print(-1)\n",
    "        else:\n",
    "            print(stack.pop())\n",
    "    elif command[0] == 'size':\n",
    "        print(len(stack))\n",
    "    elif command[0] == 'empty':\n",
    "        if len(stack)==0:\n",
    "            print(1)\n",
    "        else:\n",
    "            print(0)\n",
    "    elif command[0] == 'top':\n",
    "        if len(stack)==0:\n",
    "            print(-1)\n",
    "        else:\n",
    "            print(stack[-1])"
   ]
  },
  {
   "cell_type": "markdown",
   "id": "fbcd184e",
   "metadata": {},
   "source": [
    "## 큐\n",
    "https://www.acmicpc.net/problem/10845"
   ]
  },
  {
   "cell_type": "code",
   "execution_count": 3,
   "id": "9f5aff8c",
   "metadata": {},
   "outputs": [
    {
     "name": "stdout",
     "output_type": "stream",
     "text": [
      "3\n",
      "push 1\n",
      "push 2\n",
      "front\n",
      "1\n"
     ]
    }
   ],
   "source": [
    "n = int(input())\n",
    "queue = []\n",
    "for _ in range(n):\n",
    "    command = input().split()\n",
    "    if command[0] == 'push':\n",
    "        queue.append(command[1])\n",
    "    elif command[0] == 'pop':\n",
    "        if len(queue) == 0:\n",
    "            print(-1)\n",
    "        else:\n",
    "            print(queue.pop(0))\n",
    "    elif command[0] == 'size':\n",
    "        print(len(queue))\n",
    "    elif command[0] == 'empty':\n",
    "        if len(queue) == 0:\n",
    "            print(1)\n",
    "        else:\n",
    "            print(0)\n",
    "    elif command[0] == 'front':\n",
    "        if len(queue) == 0:\n",
    "            print(-1)\n",
    "        else:\n",
    "            print(queue[0])\n",
    "    else:\n",
    "        if len(queue) == 0:\n",
    "            print(-1)\n",
    "        else:\n",
    "            print(queue[-1])"
   ]
  },
  {
   "cell_type": "markdown",
   "id": "d8014fa7",
   "metadata": {},
   "source": [
    "## 덱\n",
    "https://www.acmicpc.net/problem/10866"
   ]
  },
  {
   "cell_type": "code",
   "execution_count": 7,
   "id": "506e5558",
   "metadata": {},
   "outputs": [
    {
     "name": "stdout",
     "output_type": "stream",
     "text": [
      "5\n",
      "push_back 1\n",
      "push_front 2\n",
      "front\n",
      "2\n",
      "back\n",
      "1\n",
      "size\n",
      "2\n"
     ]
    }
   ],
   "source": [
    "from collections import deque\n",
    "deque = deque([])\n",
    "n = int(input())\n",
    "\n",
    "for _ in range(n):\n",
    "    command = input().split()\n",
    "    if command[0] == 'push_front':\n",
    "        deque.appendleft(command[1])\n",
    "    \n",
    "    elif command[0] == 'push_back':\n",
    "        deque.append(command[1])\n",
    "    \n",
    "    elif command[0] == 'pop_front':\n",
    "        if len(deque) == 0:\n",
    "            print(-1)\n",
    "        else:\n",
    "            print(deque.popleft())\n",
    "            \n",
    "    elif command[0] == 'pop_back':\n",
    "        if len(deque) == 0:\n",
    "            print(-1)\n",
    "        else:\n",
    "            print(deque.pop())\n",
    "    \n",
    "    elif command[0] == 'size':\n",
    "        print(len(deque))\n",
    "        \n",
    "    elif command[0] == 'empty':\n",
    "        if len(deque) == 0:\n",
    "            print(1)\n",
    "        else:\n",
    "            print(0)\n",
    "    \n",
    "    elif command[0] == 'front':\n",
    "        if len(deque) == 0:\n",
    "            print(-1)\n",
    "        else:\n",
    "            print(deque[0])\n",
    "    \n",
    "    elif command[0] == 'back':\n",
    "        if len(deque) == 0:\n",
    "            print(-1)\n",
    "        else:\n",
    "            print(deque[-1])"
   ]
  },
  {
   "cell_type": "code",
   "execution_count": 20,
   "id": "791f9567",
   "metadata": {},
   "outputs": [
    {
     "data": {
      "text/plain": [
       "deque([2, 3, 4])"
      ]
     },
     "execution_count": 20,
     "metadata": {},
     "output_type": "execute_result"
    }
   ],
   "source": [
    "from collections import deque\n",
    "\n",
    "deq = deque([1, 2, 3, 4])\n",
    "\n",
    "deq.remove(1)\n",
    "deq"
   ]
  },
  {
   "cell_type": "code",
   "execution_count": 11,
   "id": "886b47dd",
   "metadata": {},
   "outputs": [
    {
     "name": "stdout",
     "output_type": "stream",
     "text": [
      "abc\n",
      "9\n",
      "L\n",
      "L\n",
      "L\n",
      "L\n",
      "L\n",
      "P x\n",
      "L\n",
      "B\n",
      "P y\n",
      "yxabc\n"
     ]
    }
   ],
   "source": [
    "# 시간 초과, del, insert O(n) 만큼 걸리므로\n",
    "from collections import deque\n",
    "\n",
    "deq = deque(list(input()))\n",
    "n = int(input())\n",
    "idx = len(deq) + 1\n",
    "for _ in range(n):\n",
    "    command = input().split()\n",
    "    \n",
    "    if command[0] == 'L':\n",
    "        if idx == 0:\n",
    "            continue\n",
    "        idx -= 1\n",
    "    \n",
    "    elif command[0] == 'D':\n",
    "        if idx == len(deq) + 1:\n",
    "            continue\n",
    "        idx += 1\n",
    "    \n",
    "    elif command[0] == 'B':\n",
    "        if idx == 0:\n",
    "            continue\n",
    "        del deq[idx-1]\n",
    "    \n",
    "    else:\n",
    "        deq.insert(idx, command[1])\n",
    "\n",
    "print(''.join(deq))"
   ]
  },
  {
   "cell_type": "code",
   "execution_count": null,
   "id": "a7c2b808",
   "metadata": {},
   "outputs": [],
   "source": [
    "import sys\n",
    "st1 = list(sys.stdin.readline().rstrip())\n",
    "st2 = []\n",
    "\n",
    "for _ in range(int(sys.stdin.readline())):\n",
    "    command = list(sys.stdin.readline().split())\n",
    "    \n",
    "    if command[0] == 'L':\n",
    "        if st1:\n",
    "            st2.append(st1.pop())\n",
    "    \n",
    "    elif command[0] == 'D':\n",
    "        if st2:\n",
    "            st1.append(st2.pop())\n",
    "    \n",
    "    elif command[0] == 'B':\n",
    "        if st1:\n",
    "            st1.pop()\n",
    "    \n",
    "    else:\n",
    "        st1.append(command[1])\n",
    "\n",
    "st1.extend(reversed(st2))\n",
    "print(''.join(st1))"
   ]
  },
  {
   "cell_type": "markdown",
   "id": "f0b20ceb",
   "metadata": {},
   "source": [
    "## 보물\n",
    "https://www.acmicpc.net/problem/1026"
   ]
  },
  {
   "cell_type": "code",
   "execution_count": 22,
   "id": "0f57bdb1",
   "metadata": {},
   "outputs": [
    {
     "name": "stdout",
     "output_type": "stream",
     "text": [
      "5\n",
      "1 1 1 6 0\n",
      "2 7 8 3 1\n",
      "18\n"
     ]
    }
   ],
   "source": [
    "n = int(input())\n",
    "a = list(map(int, input().split()))\n",
    "b = list(map(int, input().split()))\n",
    "s = 0\n",
    "a.sort()\n",
    "b.sort(reverse=True)\n",
    "for v1, v2 in zip(a, b):\n",
    "    s += (v1 * v2)\n",
    "print(s)"
   ]
  },
  {
   "cell_type": "code",
   "execution_count": 23,
   "id": "6ff15726",
   "metadata": {},
   "outputs": [
    {
     "name": "stdout",
     "output_type": "stream",
     "text": [
      "5\n",
      "1 1 1 6 0\n",
      "2 7 8 3 1\n",
      "18\n"
     ]
    }
   ],
   "source": [
    "n = int(input())\n",
    "a = list(map(int, input().split()))\n",
    "b = list(map(int, input().split()))\n",
    "s = 0\n",
    "for _ in range(n):\n",
    "    s += min(a) * max(b)\n",
    "    a.pop(a.index(min(a)))\n",
    "    b.pop(b.index(max(b)))\n",
    "print(s)"
   ]
  },
  {
   "cell_type": "markdown",
   "id": "3bcfeee1",
   "metadata": {},
   "source": [
    "# 1/29 토"
   ]
  },
  {
   "cell_type": "markdown",
   "id": "9b251978",
   "metadata": {},
   "source": [
    "## 단어 정렬\n",
    "https://www.acmicpc.net/problem/1181"
   ]
  },
  {
   "cell_type": "code",
   "execution_count": 14,
   "id": "1634e581",
   "metadata": {},
   "outputs": [
    {
     "name": "stdout",
     "output_type": "stream",
     "text": [
      "13\n",
      "but\n",
      "i\n",
      "wont\n",
      "hesitate\n",
      "no\n",
      "more\n",
      "no\n",
      "more\n",
      "it\n",
      "cannot\n",
      "wait\n",
      "im\n",
      "yours\n",
      "i\n",
      "im\n",
      "it\n",
      "no\n",
      "but\n",
      "more\n",
      "wait\n",
      "wont\n",
      "yours\n",
      "cannot\n",
      "hesitate\n"
     ]
    }
   ],
   "source": [
    "# 시간초과 그냥 sort 하면 되는데 굳이 선택 정렬 구현해서 시간초과 남\n",
    "n = int(input())\n",
    "words = [input() for _ in range(n)]\n",
    "set_words = set(words)\n",
    "words = list(set_words)\n",
    "words.sort(key=len)\n",
    "\n",
    "for i in range(1, len(words)):\n",
    "    min_index = i\n",
    "    for j in range(i+1, len(words)):\n",
    "        if len(words[min_index]) == len(words[j]) and words[min_index] > words[j]:\n",
    "            min_index = j\n",
    "    words[i], words[min_index] = words[min_index], words[i]\n",
    "\n",
    "for word in wors:\n",
    "    print(word)"
   ]
  },
  {
   "cell_type": "code",
   "execution_count": 16,
   "id": "2806b4f7",
   "metadata": {},
   "outputs": [
    {
     "name": "stdout",
     "output_type": "stream",
     "text": [
      "13\n",
      "but\n",
      "i\n",
      "wont\n",
      "hesitate\n",
      "no\n",
      "more\n",
      "no\n",
      "more\n",
      "it\n",
      "cannot\n",
      "wait\n",
      "im\n",
      "yours\n"
     ]
    },
    {
     "data": {
      "text/plain": [
       "['i',\n",
       " 'im',\n",
       " 'it',\n",
       " 'no',\n",
       " 'but',\n",
       " 'more',\n",
       " 'wait',\n",
       " 'wont',\n",
       " 'yours',\n",
       " 'cannot',\n",
       " 'hesitate']"
      ]
     },
     "execution_count": 16,
     "metadata": {},
     "output_type": "execute_result"
    }
   ],
   "source": [
    "n = int(input())\n",
    "words = [input() for _ in range(n)]\n",
    "set_words = set(words)\n",
    "words = list(set_words)\n",
    "words.sort()\n",
    "words.sort(key=len)\n",
    "for word in words:\n",
    "    print(word)"
   ]
  },
  {
   "cell_type": "code",
   "execution_count": 20,
   "id": "8f0378be",
   "metadata": {},
   "outputs": [
    {
     "name": "stdout",
     "output_type": "stream",
     "text": [
      "13\n",
      "but\n",
      "i\n",
      "wont\n",
      "hesitate\n",
      "no\n",
      "more\n",
      "no\n",
      "more\n",
      "it\n",
      "cannot\n",
      "wait\n",
      "im\n",
      "yours\n",
      "i\n",
      "im\n",
      "it\n",
      "no\n",
      "but\n",
      "more\n",
      "wait\n",
      "wont\n",
      "yours\n",
      "cannot\n",
      "hesitate\n"
     ]
    }
   ],
   "source": [
    "words_list = []\n",
    "for _ in range(int(input())):\n",
    "    word = input()\n",
    "    words_cnt = len(word)\n",
    "    words_list.append((word, words_cnt))\n",
    "    \n",
    "words_list = list(set(words_list))\n",
    "words_list.sort(key = lambda x: (x[1], x[0]))\n",
    "for w in words_list:\n",
    "    print(w[0])"
   ]
  },
  {
   "cell_type": "markdown",
   "id": "a3bdec98",
   "metadata": {},
   "source": [
    "## 좌표 정렬하기\n",
    "https://www.acmicpc.net/problem/11650"
   ]
  },
  {
   "cell_type": "code",
   "execution_count": 23,
   "id": "f925efac",
   "metadata": {},
   "outputs": [
    {
     "name": "stdout",
     "output_type": "stream",
     "text": [
      "5\n",
      "3 4\n",
      "1 1\n",
      "1 -1\n",
      "2 2\n",
      "3 3\n",
      "1 -1\n",
      "1 1\n",
      "2 2\n",
      "3 3\n",
      "3 4\n"
     ]
    }
   ],
   "source": [
    "pos = []\n",
    "for _ in range(int(input())):\n",
    "    x, y = map(int, input().split())\n",
    "    pos.append((x, y))\n",
    "\n",
    "pos.sort(key = lambda a: (a[0], a[1]))\n",
    "for v in pos:\n",
    "    print(*v)"
   ]
  },
  {
   "cell_type": "markdown",
   "id": "e92078d3",
   "metadata": {},
   "source": [
    "## 좌표 정렬하기2\n",
    "https://www.acmicpc.net/problem/11651"
   ]
  },
  {
   "cell_type": "code",
   "execution_count": 24,
   "id": "9d6ba68d",
   "metadata": {},
   "outputs": [
    {
     "name": "stdout",
     "output_type": "stream",
     "text": [
      "5\n",
      "0 4\n",
      "1 2\n",
      "1 -1\n",
      "2 2\n",
      "3 3\n",
      "1 -1\n",
      "1 2\n",
      "2 2\n",
      "3 3\n",
      "0 4\n"
     ]
    }
   ],
   "source": [
    "pos = []\n",
    "for _ in range(int(input())):\n",
    "    x, y = map(int, input().split())\n",
    "    pos.append((x, y))\n",
    "\n",
    "pos.sort(key = lambda a: (a[1], a[0]))\n",
    "for v in pos:\n",
    "    print(*v)"
   ]
  },
  {
   "cell_type": "markdown",
   "id": "43ae7b44",
   "metadata": {},
   "source": [
    "## 중복 빼고 정렬하기\n",
    "https://www.acmicpc.net/problem/10867"
   ]
  },
  {
   "cell_type": "code",
   "execution_count": 32,
   "id": "ffd78ccc",
   "metadata": {},
   "outputs": [
    {
     "name": "stdout",
     "output_type": "stream",
     "text": [
      "10\n",
      "1 4 2 3 1 4 2 3 1 2\n",
      "[1, 1, 1, 2, 2, 2, 3, 3, 4, 4]\n",
      "1 2 3 4\n"
     ]
    }
   ],
   "source": [
    "# set 전에 sort 한것은 왜 틀렸는지 모르겠다\n",
    "n = int(input())\n",
    "num = list(map(int, input().split()))\n",
    "num.sort()\n",
    "print(num)\n",
    "num = list(set(num))\n",
    "print(*num)"
   ]
  },
  {
   "cell_type": "code",
   "execution_count": 31,
   "id": "8acbe7a3",
   "metadata": {},
   "outputs": [
    {
     "name": "stdout",
     "output_type": "stream",
     "text": [
      "10\n",
      "1 4 2 3 1 4 2 3 1 2\n",
      "[1, 2, 3, 4]\n",
      "1 2 3 4\n"
     ]
    }
   ],
   "source": [
    "n = int(input())\n",
    "num = list(map(int, input().split()))\n",
    "num = list(set(num))\n",
    "print(num)\n",
    "num.sort()\n",
    "print(*num)"
   ]
  },
  {
   "cell_type": "code",
   "execution_count": 35,
   "id": "570e95e5",
   "metadata": {},
   "outputs": [
    {
     "name": "stdout",
     "output_type": "stream",
     "text": [
      "5\n",
      "1 1 2 4 2\n",
      "1 2 4\n"
     ]
    }
   ],
   "source": [
    "n = int(input())\n",
    "num = sorted(list(set(map(int, input().split()))))\n",
    "print(*num)"
   ]
  },
  {
   "cell_type": "markdown",
   "id": "fba7503e",
   "metadata": {},
   "source": [
    "## 숫자 카드2\n",
    "https://www.acmicpc.net/problem/10816"
   ]
  },
  {
   "cell_type": "code",
   "execution_count": 38,
   "id": "93a9a0da",
   "metadata": {},
   "outputs": [
    {
     "name": "stdout",
     "output_type": "stream",
     "text": [
      "10\n",
      "6 3 2 10 10 10 -10 -10 7 3\n",
      "8\n",
      "10 9 -5 2 3 4 5 -10\n",
      "3 0 0 1 2 0 0 2 "
     ]
    }
   ],
   "source": [
    "from bisect import bisect_left, bisect_right\n",
    "\n",
    "n = int(input())\n",
    "card = list(map(int, input().split()))\n",
    "m = int(input())\n",
    "num = list(map(int, input().split()))\n",
    "card.sort()\n",
    "\n",
    "def count_range(left_value, right_value):\n",
    "    right_index = bisect_right(card, right_value)\n",
    "    left_index = bisect_left(card, left_value)\n",
    "    return right_index - left_index\n",
    "\n",
    "for i in num:\n",
    "    print(count_range(i, i), end=' ')"
   ]
  },
  {
   "cell_type": "markdown",
   "id": "138bca5c",
   "metadata": {},
   "source": [
    "# 1/30 일"
   ]
  },
  {
   "cell_type": "markdown",
   "id": "a5e9eee3",
   "metadata": {},
   "source": [
    "## 괄호\n",
    "https://www.acmicpc.net/problem/9012"
   ]
  },
  {
   "cell_type": "code",
   "execution_count": 3,
   "id": "4d6f884e",
   "metadata": {},
   "outputs": [
    {
     "name": "stdout",
     "output_type": "stream",
     "text": [
      "1\n",
      ")(\n",
      "NO\n"
     ]
    }
   ],
   "source": [
    "for _ in range(int(input())):\n",
    "    s = 0\n",
    "    for i in list(input()):\n",
    "        if i == '(':\n",
    "            s += 1\n",
    "        elif i == ')':\n",
    "            s -= 1\n",
    "        if s < 0:\n",
    "            print('NO')\n",
    "            break\n",
    "            \n",
    "    if s > 0:\n",
    "        print('NO')\n",
    "    elif s == 0:\n",
    "        print('YES')"
   ]
  },
  {
   "cell_type": "markdown",
   "id": "5a6e5e53",
   "metadata": {},
   "source": [
    "## 스택 수열\n",
    "https://www.acmicpc.net/problem/1874"
   ]
  },
  {
   "cell_type": "code",
   "execution_count": 13,
   "id": "e9e50adc",
   "metadata": {},
   "outputs": [
    {
     "name": "stdout",
     "output_type": "stream",
     "text": [
      "5\n",
      "1\n",
      "2\n",
      "5\n",
      "3\n",
      "NO\n"
     ]
    }
   ],
   "source": [
    "n = int(input())\n",
    "stack = []\n",
    "ans = []\n",
    "cur = 1\n",
    "flag = True\n",
    "for i in range(n):\n",
    "    num = int(input())\n",
    "    \n",
    "    while cur <= num:\n",
    "        stack.append(cur)\n",
    "        ans.append('+')\n",
    "        cur += 1\n",
    "    \n",
    "    if stack[-1] == num:\n",
    "        stack.pop()\n",
    "        ans.append('-')\n",
    "    else:\n",
    "        print('NO')\n",
    "        flag = False\n",
    "        break\n",
    "if flag:\n",
    "    for i in ans:\n",
    "        print(i)"
   ]
  },
  {
   "cell_type": "markdown",
   "id": "f3fc46de",
   "metadata": {},
   "source": [
    "## 요세푸스 문제\n",
    "https://www.acmicpc.net/problem/1158"
   ]
  },
  {
   "cell_type": "code",
   "execution_count": 13,
   "id": "f459d186",
   "metadata": {},
   "outputs": [
    {
     "name": "stdout",
     "output_type": "stream",
     "text": [
      "7 3\n",
      "<3, 6, 2, 7, 5, 1, 4>\n"
     ]
    }
   ],
   "source": [
    "n, k = map(int, input().split())\n",
    "arr = list(range(1, n+1))\n",
    "dead = []\n",
    "num = 0\n",
    "\n",
    "for t in range(n):\n",
    "    num += k-1\n",
    "    if num >= len(arr):\n",
    "        num %= len(arr)\n",
    "    dead.append(arr.pop(num))\n",
    "print('<'+', '.join(map(str,dead))+'>')"
   ]
  },
  {
   "cell_type": "markdown",
   "id": "d381d9f6",
   "metadata": {},
   "source": [
    "## 프린터 큐\n",
    "https://www.acmicpc.net/problem/1966"
   ]
  },
  {
   "cell_type": "markdown",
   "id": "ff538af5",
   "metadata": {},
   "source": [
    "리스트를 순회하는 for문 내에서 그 리스트 값이 바뀌면 그 바뀐 값을 바로 참조한다 리스트는 가변 자료형이기 때문   \n",
    "또 for문은 인덱스 순서로 순회한다는 것"
   ]
  },
  {
   "cell_type": "code",
   "execution_count": 36,
   "id": "33647775",
   "metadata": {},
   "outputs": [
    {
     "name": "stdout",
     "output_type": "stream",
     "text": [
      "3\n",
      "1 0\n",
      "5\n",
      "1\n",
      "4 2\n",
      "1 2 3 4\n",
      "2\n",
      "6 0\n",
      "1 1 9 1 1 1\n",
      "5\n"
     ]
    }
   ],
   "source": [
    "for _ in range(int(input())):\n",
    "    n, m = map(int, input().split())\n",
    "    imt = list(map(int, input().split()))\n",
    "    check = [0] * n\n",
    "    cnt = 0\n",
    "    check[m] = 1\n",
    "\n",
    "    while True:\n",
    "        if imt[0] == max(imt):\n",
    "            cnt += 1\n",
    "            if check[0] == 1:\n",
    "                print(cnt)\n",
    "                break\n",
    "            else:\n",
    "                imt.pop(0)\n",
    "                check.pop(0)\n",
    "        else:\n",
    "            imt.append(imt.pop(0))\n",
    "            check.append(check.pop(0))"
   ]
  }
 ],
 "metadata": {
  "kernelspec": {
   "display_name": "Python 3",
   "language": "python",
   "name": "python3"
  },
  "language_info": {
   "codemirror_mode": {
    "name": "ipython",
    "version": 3
   },
   "file_extension": ".py",
   "mimetype": "text/x-python",
   "name": "python",
   "nbconvert_exporter": "python",
   "pygments_lexer": "ipython3",
   "version": "3.8.8"
  }
 },
 "nbformat": 4,
 "nbformat_minor": 5
}
