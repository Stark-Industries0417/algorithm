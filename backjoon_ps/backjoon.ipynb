{
 "cells": [
  {
   "cell_type": "markdown",
   "id": "d5c328ad",
   "metadata": {},
   "source": [
    "# 1/11화"
   ]
  },
  {
   "cell_type": "markdown",
   "id": "e2ff8e7f",
   "metadata": {},
   "source": [
    "## 1668번 트로피 진열"
   ]
  },
  {
   "cell_type": "code",
   "execution_count": 2,
   "id": "f9288898",
   "metadata": {},
   "outputs": [
    {
     "name": "stdout",
     "output_type": "stream",
     "text": [
      "5\n",
      "1\n",
      "2\n",
      "5\n",
      "2\n",
      "1\n",
      "3\n",
      "3\n"
     ]
    }
   ],
   "source": [
    "n = int(input())\n",
    "th = [int(input()) for _ in range(n)]\n",
    "\n",
    "def tropy(th: list) -> int:\n",
    "    left, right = 0, n - 1\n",
    "    left_max, right_max = th[left], th[n-1]\n",
    "    left_cnt, right_cnt = 1, 1\n",
    "    \n",
    "    while left <= right:\n",
    "        if left_max <= right_max:\n",
    "            if left_max < th[left]:    \n",
    "                left_cnt += 1\n",
    "                left_max = th[left]\n",
    "            else:\n",
    "                left += 1\n",
    "\n",
    "        else:\n",
    "            if right_max < th[right]:\n",
    "                right_cnt += 1\n",
    "                right_max = th[right]\n",
    "            else:\n",
    "                right -= 1\n",
    "  \n",
    "    print(left_cnt)\n",
    "    print(right_cnt)\n",
    "\n",
    "tropy(th)"
   ]
  },
  {
   "cell_type": "code",
   "execution_count": 4,
   "id": "f8930257",
   "metadata": {},
   "outputs": [
    {
     "name": "stdout",
     "output_type": "stream",
     "text": [
      "5\n",
      "1\n",
      "2\n",
      "5\n",
      "2\n",
      "1\n",
      "3\n",
      "3\n"
     ]
    }
   ],
   "source": [
    "N = int(input())\n",
    "li = [int(input()) for _ in range(N)]\n",
    "left_cnt = right_cnt = 0\n",
    "left_max = right_max = 0\n",
    "for n in li:\n",
    "    if n > left_max:\n",
    "        left_max = n\n",
    "        left_cnt += 1\n",
    "for n in li[::-1]:\n",
    "    if n > right_max:\n",
    "        right_max = n\n",
    "        right_cnt += 1\n",
    "print(left_cnt)\n",
    "print(right_cnt)"
   ]
  },
  {
   "cell_type": "markdown",
   "id": "474e23bc",
   "metadata": {},
   "source": [
    "## 20365 블로그2"
   ]
  },
  {
   "cell_type": "code",
   "execution_count": 5,
   "id": "64e257e2",
   "metadata": {},
   "outputs": [
    {
     "name": "stdout",
     "output_type": "stream",
     "text": [
      "5\n",
      "BBBRR\n"
     ]
    },
    {
     "data": {
      "text/plain": [
       "3"
      ]
     },
     "execution_count": 5,
     "metadata": {},
     "output_type": "execute_result"
    }
   ],
   "source": [
    "# 무조건 전체를 한 색으로 칠하고 다른 색 개수를 더하는 것으로 잘못 생각\n",
    "\n",
    "from collections import Counter\n",
    "n = int(input())\n",
    "ques_c = input()\n",
    "def question(ques_c: str) -> int:\n",
    "    cnt = 1\n",
    "    question_cnt = Counter(ques_c).most_common(2)\n",
    "    cnt += question_cnt[1][1]\n",
    "    return cnt\n",
    "question(ques_c)"
   ]
  },
  {
   "cell_type": "code",
   "execution_count": 6,
   "id": "b88364d1",
   "metadata": {},
   "outputs": [
    {
     "name": "stdout",
     "output_type": "stream",
     "text": [
      "5\n",
      "BBBRR\n",
      "2\n"
     ]
    }
   ],
   "source": [
    "n = int(input())\n",
    "s = input()\n",
    "cnt = {'B': 0,'R': 0}\n",
    "cnt[s[0]] += 1\n",
    "for i in range(1,n):\n",
    "    if s[i] != s[i-1]:\n",
    "        cnt[s[i]] += 1\n",
    "print(min(cnt['B'],cnt['R'])+1)"
   ]
  },
  {
   "cell_type": "markdown",
   "id": "07e8689e",
   "metadata": {},
   "source": [
    "## 9489번 사촌"
   ]
  },
  {
   "cell_type": "code",
   "execution_count": 7,
   "id": "e29c7fd6",
   "metadata": {},
   "outputs": [
    {
     "name": "stdout",
     "output_type": "stream",
     "text": [
      "12\n"
     ]
    },
    {
     "ename": "ValueError",
     "evalue": "not enough values to unpack (expected 2, got 1)",
     "output_type": "error",
     "traceback": [
      "\u001b[0;31m---------------------------------------------------------------------------\u001b[0m",
      "\u001b[0;31mValueError\u001b[0m                                Traceback (most recent call last)",
      "\u001b[0;32m<ipython-input-7-90c6d79f412e>\u001b[0m in \u001b[0;36m<module>\u001b[0;34m\u001b[0m\n\u001b[1;32m      2\u001b[0m \u001b[0;34m\u001b[0m\u001b[0m\n\u001b[1;32m      3\u001b[0m \u001b[0;32mwhile\u001b[0m \u001b[0;32mTrue\u001b[0m\u001b[0;34m:\u001b[0m\u001b[0;34m\u001b[0m\u001b[0;34m\u001b[0m\u001b[0m\n\u001b[0;32m----> 4\u001b[0;31m     \u001b[0mn\u001b[0m\u001b[0;34m,\u001b[0m\u001b[0mk\u001b[0m \u001b[0;34m=\u001b[0m \u001b[0mmap\u001b[0m\u001b[0;34m(\u001b[0m\u001b[0mint\u001b[0m\u001b[0;34m,\u001b[0m\u001b[0minput\u001b[0m\u001b[0;34m(\u001b[0m\u001b[0;34m)\u001b[0m\u001b[0;34m.\u001b[0m\u001b[0msplit\u001b[0m\u001b[0;34m(\u001b[0m\u001b[0;34m)\u001b[0m\u001b[0;34m)\u001b[0m\u001b[0;34m\u001b[0m\u001b[0;34m\u001b[0m\u001b[0m\n\u001b[0m\u001b[1;32m      5\u001b[0m     \u001b[0;32mif\u001b[0m \u001b[0;32mnot\u001b[0m \u001b[0mn\u001b[0m \u001b[0;32mand\u001b[0m \u001b[0;32mnot\u001b[0m \u001b[0mk\u001b[0m\u001b[0;34m:\u001b[0m\u001b[0;34m\u001b[0m\u001b[0;34m\u001b[0m\u001b[0m\n\u001b[1;32m      6\u001b[0m         \u001b[0;32mbreak\u001b[0m\u001b[0;34m\u001b[0m\u001b[0;34m\u001b[0m\u001b[0m\n",
      "\u001b[0;31mValueError\u001b[0m: not enough values to unpack (expected 2, got 1)"
     ]
    }
   ],
   "source": [
    "from collections import defaultdict\n",
    "\n",
    "while True:\n",
    "    n,k = map(int,input().split())\n",
    "    if not n and not k:\n",
    "        break\n",
    "    arr = list(map(int,input().split()))\n",
    "    parents = defaultdict(int)\n",
    "    idx=0\n",
    "    for i in range(1,n):\n",
    "        parents[arr[i]] = arr[idx]\n",
    "        if i <n-1 and arr[i]+1 < arr[i+1]:\n",
    "            idx+=1\n",
    "    if parents[parents[k]]:\n",
    "        cnt=0\n",
    "        for node in arr:\n",
    "            if (parents[parents[k]] == parents[parents[node]]) and (parents[k] != parents[node]):\n",
    "                cnt+=1\n",
    "        print(cnt)\n",
    "    else:\n",
    "        print(0)"
   ]
  },
  {
   "cell_type": "markdown",
   "id": "578021d4",
   "metadata": {},
   "source": [
    "# 1/12 수"
   ]
  },
  {
   "cell_type": "markdown",
   "id": "fef3a2fb",
   "metadata": {},
   "source": [
    "## 암호\n",
    "https://www.acmicpc.net/problem/1718"
   ]
  },
  {
   "cell_type": "code",
   "execution_count": 8,
   "id": "581149d5",
   "metadata": {},
   "outputs": [
    {
     "name": "stdout",
     "output_type": "stream",
     "text": [
      "nice day\n",
      "love\n",
      "btgz oet\n"
     ]
    }
   ],
   "source": [
    "text = input()\n",
    "key = input()\n",
    "answer = ''\n",
    "\n",
    "for i in range(len(text)):\n",
    "    if text[i] == ' ':\n",
    "        answer += ' '\n",
    "    else:\n",
    "        answer += chr((ord(text[i]) - ord(key[i%len(key)]) - 1) % 26 + ord('a'))\n",
    "print(answer)"
   ]
  },
  {
   "cell_type": "markdown",
   "id": "fd6fb5fd",
   "metadata": {},
   "source": [
    "# 1/13 목"
   ]
  },
  {
   "cell_type": "markdown",
   "id": "410e6654",
   "metadata": {},
   "source": [
    "## 세로 읽기 10798번\n",
    "https://www.acmicpc.net/problem/10798"
   ]
  },
  {
   "cell_type": "code",
   "execution_count": 9,
   "id": "b60346c5",
   "metadata": {},
   "outputs": [
    {
     "name": "stdout",
     "output_type": "stream",
     "text": [
      "AABCDD\n",
      "afzz\n",
      "09121\n",
      "a8EWg6\n",
      "p5h3kx\n"
     ]
    },
    {
     "data": {
      "text/plain": [
       "'Aa0apAf985Bz1EhCz2W3D1gkD6x'"
      ]
     },
     "execution_count": 9,
     "metadata": {},
     "output_type": "execute_result"
    }
   ],
   "source": [
    "letters = [input() for _ in range(5)]\n",
    "n = max(letters, key=len)\n",
    "s = ''\n",
    "for i in range(len(n)):\n",
    "    for j in range(5):\n",
    "        try:\n",
    "            s += letters[j][i]\n",
    "        except:\n",
    "            continue\n",
    "s"
   ]
  },
  {
   "cell_type": "markdown",
   "id": "2cc05e0f",
   "metadata": {},
   "source": [
    "## 연산자 끼워넣기 O(4 ^ n)\n",
    "https://www.acmicpc.net/problem/15658"
   ]
  },
  {
   "cell_type": "code",
   "execution_count": 11,
   "id": "e68c99e6",
   "metadata": {},
   "outputs": [
    {
     "name": "stdout",
     "output_type": "stream",
     "text": [
      "3\n",
      "3 4 5\n",
      "2 1 2 1\n"
     ]
    }
   ],
   "source": [
    "# 시간 초과\n",
    "\n",
    "import sys \n",
    "\n",
    "n = int(input())\n",
    "num = list(map(int, input().split()))\n",
    "op_cnt = list(map(int, input().split()))\n",
    "check = [False] * (sum(op_cnt))\n",
    "max_result = -sys.maxsize\n",
    "min_result = sys.maxsize\n",
    "\n",
    "op = ''\n",
    "for i, v in enumerate(op_cnt):\n",
    "    if i == 0:\n",
    "        op += '+' * v\n",
    "    elif i == 1:\n",
    "        op += '-' * v\n",
    "    elif i == 2:\n",
    "        op += '*' * v\n",
    "    else:\n",
    "        op += '/' * v\n",
    "    \n",
    "def operator(index: int, s: int) -> list:\n",
    "    if index == n:\n",
    "        global max_result, min_result\n",
    "        max_result = max(max_result, s)\n",
    "        min_result = min(min_result, s)\n",
    "        return \n",
    "   \n",
    "    for i in range(len(op)):\n",
    "        if check[i]:\n",
    "            continue\n",
    "        \n",
    "        if op[i] == '+':\n",
    "            result = s + num[index]\n",
    "        elif op[i] == '-':\n",
    "            result = s - num[index]\n",
    "        elif op[i] == '*':\n",
    "            result = s * num[index]\n",
    "        elif op[i] == '/':\n",
    "            if s < 0:\n",
    "                result = -s // num[index]\n",
    "                result = -result\n",
    "            else:\n",
    "                result = s // num[index]\n",
    "                \n",
    "        check[i] = True\n",
    "        if result > s or result < s:\n",
    "            operator(index + 1, result)    \n",
    "        check[i] = False\n",
    "        \n",
    "\n",
    "operator(1, num[0])"
   ]
  },
  {
   "cell_type": "code",
   "execution_count": 12,
   "id": "726f4c6d",
   "metadata": {},
   "outputs": [
    {
     "name": "stdout",
     "output_type": "stream",
     "text": [
      "6\n",
      "1 2 3 4 5 6\n",
      "3 2 1 1\n",
      "72\n",
      "-48\n"
     ]
    }
   ],
   "source": [
    "# 시간초과 개선\n",
    "import sys \n",
    "\n",
    "n = int(input())\n",
    "num = list(map(int, input().split()))\n",
    "op_cnt = list(map(int, input().split()))\n",
    "max_result = -sys.maxsize\n",
    "min_result = sys.maxsize\n",
    "\n",
    "\n",
    "    \n",
    "def operator(index: int, s: int) -> list:\n",
    "    if index == n:\n",
    "        global max_result, min_result\n",
    "        max_result = max(max_result, s)\n",
    "        min_result = min(min_result, s)\n",
    "        return \n",
    "   \n",
    "    for i in range(len(op_cnt)):\n",
    "        if not op_cnt[i] == 0:\n",
    "            if i == 0:\n",
    "                result = s + num[index]\n",
    "            elif i == 1:\n",
    "                result = s - num[index]\n",
    "            elif i == 2:\n",
    "                result = s * num[index]\n",
    "            else:\n",
    "                if s < 0:\n",
    "                    result = -s // num[index]\n",
    "                    result = -result\n",
    "                else:\n",
    "                    result = s // num[index]\n",
    "\n",
    "            op_cnt[i] -= 1\n",
    "            operator(index + 1, result)    \n",
    "            op_cnt[i] += 1\n",
    "\n",
    "\n",
    "operator(1, num[0])\n",
    "\n",
    "\n",
    "print(max_result)\n",
    "print(min_result)"
   ]
  },
  {
   "cell_type": "markdown",
   "id": "e58a2d81",
   "metadata": {},
   "source": [
    "# 1/14 금"
   ]
  },
  {
   "cell_type": "markdown",
   "id": "0910a213",
   "metadata": {},
   "source": [
    "## 디지털 시계\n",
    "https://www.acmicpc.net/problem/1942"
   ]
  },
  {
   "cell_type": "code",
   "execution_count": null,
   "id": "637645d4",
   "metadata": {},
   "outputs": [],
   "source": [
    "import datetime\n",
    "from datetime import timedelta\n",
    "\n",
    "for i in range(3):\n",
    "    start, end = input().split()\n",
    "\n",
    "    stH, stM, stS = map(int, start.split(':'))\n",
    "    edH, edM, edS = map(int, end.split(':'))\n",
    "\n",
    "    stime = datetime.datetime(2021, 1, 1, stH, stM, stS)\n",
    "    tmp_time = stime.strftime('%H%M%S')\n",
    "\n",
    "    sec = 1\n",
    "    cnt = 0\n",
    "    if int(tmp_time) % 3 == 0:\n",
    "        cnt += 1\n",
    "    etime = datetime.datetime(2021, 1, 1, edH, edM, edS)\n",
    "    etime = etime.strftime('%H%M%S')\n",
    "\n",
    "    while True:\n",
    "        if tmp_time == etime:\n",
    "            break\n",
    "        stime = stime + timedelta(seconds=sec)\n",
    "        tmp_time = stime.strftime('%H%M%S')\n",
    "        if int(tmp_time) % 3 == 0:\n",
    "            cnt += 1\n",
    "    print(cnt)"
   ]
  },
  {
   "cell_type": "markdown",
   "id": "5a1fa5f7",
   "metadata": {},
   "source": [
    "# 1/15 토"
   ]
  },
  {
   "cell_type": "markdown",
   "id": "483774bc",
   "metadata": {},
   "source": [
    "## 양 구출 작전 16437번\n",
    "https://www.acmicpc.net/problem/16437"
   ]
  },
  {
   "cell_type": "code",
   "execution_count": null,
   "id": "0dd185f9",
   "metadata": {},
   "outputs": [],
   "source": [
    "import sys\n",
    "sys.setrecursionlimit(1000000)\n",
    "# input = sys.stdin.readline\n",
    "n = int(input())\n",
    "wolves = [0 for _ in range(n+1)]\n",
    "sheeps = {i:0 for i in range(1, n+1)}\n",
    "tree = [[] for _ in range(n+1)]\n",
    "for i in range(2, n+1):\n",
    "    t, a, p = input().split()\n",
    "    a = int(a)\n",
    "    p = int(p)\n",
    "    if t == 'W':\n",
    "        wolves[i] = a\n",
    "    else:\n",
    "        sheeps[i] = a\n",
    "    tree[p].append(i)\n",
    "\n",
    "\n",
    "def dfs(here):\n",
    "    num_sheeps = sheeps[here]\n",
    "    for there in tree[here]:\n",
    "        num_sheeps += dfs(there)\n",
    "    if wolves[here] != 0:\n",
    "        if num_sheeps < wolves[here]:\n",
    "            wolves[here] -= num_sheeps\n",
    "            num_sheeps = 0\n",
    "        else:\n",
    "            num_sheeps -= wolves[here]\n",
    "            wolves[here] = 0\n",
    "    return num_sheeps\n",
    "    \n",
    "print(dfs(1))"
   ]
  },
  {
   "cell_type": "markdown",
   "id": "63e8cb0d",
   "metadata": {},
   "source": [
    "# 1/18 화"
   ]
  },
  {
   "cell_type": "code",
   "execution_count": null,
   "id": "ca3fa016",
   "metadata": {},
   "outputs": [],
   "source": [
    "N, B = input().split()\n",
    "\n",
    "N = N[::-1]\n",
    "B = int(B)\n",
    "result = 0\n",
    "number = '0123456789ABCDEFGHIJKLMNOPQRSTUVWXYZ'\n",
    "\n",
    "for x in range(len(N)-1, -1, -1):\n",
    "    result += number.index(N[x]) * (B ** x)\n",
    "\n",
    "print(result)"
   ]
  },
  {
   "cell_type": "markdown",
   "id": "65aeb743",
   "metadata": {},
   "source": [
    "# 1/19 수"
   ]
  },
  {
   "cell_type": "code",
   "execution_count": 14,
   "id": "706f7795",
   "metadata": {},
   "outputs": [
    {
     "name": "stdout",
     "output_type": "stream",
     "text": [
      "4 2\n",
      "1 2\n",
      "1 3\n",
      "1 4\n",
      "2 1\n",
      "2 3\n",
      "2 4\n",
      "3 1\n",
      "3 2\n",
      "3 4\n",
      "4 1\n",
      "4 2\n",
      "4 3\n"
     ]
    }
   ],
   "source": [
    "import sys\n",
    "sys.setrecursionlimit(10 ** 6)\n",
    "n, m = map(int, input().split())\n",
    "ans = [0] * m\n",
    "check = [False] * (n+1)\n",
    "def permutation(index: int) -> None:\n",
    "    if index == m:\n",
    "        print(*ans)\n",
    "        return\n",
    "    \n",
    "    for i in range(1, n+1):\n",
    "        if check[i]:\n",
    "            continue\n",
    "        check[i] = True\n",
    "        ans[index] = i\n",
    "        permutation(index + 1)\n",
    "        check[i] = False\n",
    "permutation(0)"
   ]
  },
  {
   "cell_type": "markdown",
   "id": "55949ebc",
   "metadata": {},
   "source": [
    "## 블록쌓기\n",
    "https://www.acmicpc.net/problem/18427"
   ]
  },
  {
   "cell_type": "code",
   "execution_count": null,
   "id": "e8004fac",
   "metadata": {},
   "outputs": [],
   "source": [
    "n, m, h = map(int, input().split())\n",
    "dp = [[1] + [0] * h for _ in range(n+1)]\n",
    "for i in range(1, n+1):\n",
    "    dp[i] = dp[i-1].copy()\n",
    "    blocks = list(map(int, input().split()))\n",
    "    for b in blocks:\n",
    "        for j in range(b, h+1):\n",
    "            dp[i][j] += dp[i-1][j-b]\n",
    "print(dp[n][h] % 10007)"
   ]
  },
  {
   "cell_type": "markdown",
   "id": "9c58591f",
   "metadata": {},
   "source": [
    "# 1/20 목"
   ]
  },
  {
   "cell_type": "markdown",
   "id": "4a6e3358",
   "metadata": {},
   "source": [
    "## 뱀과 사다리 게임\n",
    "https://www.acmicpc.net/problem/16928"
   ]
  },
  {
   "cell_type": "code",
   "execution_count": null,
   "id": "010cb8d7",
   "metadata": {},
   "outputs": [],
   "source": [
    "from collections import deque\n",
    "\n",
    "N, M = map(int, input().split())\n",
    "board_cnt = [0] * 101\n",
    "visited = [False] * 101\n",
    "\n",
    "snack = dict()\n",
    "ladder = dict()\n",
    "for _ in range(N):\n",
    "    i, j = map(int, input().split())\n",
    "    ladder[i] = j\n",
    "for _ in range(M):\n",
    "    i, j = map(int, input().split())\n",
    "    snack[i] = j\n",
    "\n",
    "def bfs():\n",
    "    queue = deque([1])\n",
    "    visited[1] = True\n",
    "    while queue:\n",
    "        now = queue.popleft()\n",
    "        for move in range(1, 7):\n",
    "            check_move = now + move\n",
    "            if 0 < check_move <= 100 and not visited[check_move]:\n",
    "                if check_move in ladder.keys():\n",
    "                    check_move = ladder[check_move]\n",
    "                if check_move in snack.keys():\n",
    "                    check_move = snack[check_move]\n",
    "                if not visited[check_move]:\n",
    "                    queue.append(check_move)\n",
    "                    visited[check_move] = True\n",
    "                    board_cnt[check_move] = board_cnt[now] + 1\n",
    "bfs()\n",
    "print(board_cnt[100])"
   ]
  },
  {
   "cell_type": "markdown",
   "id": "8484521e",
   "metadata": {},
   "source": [
    "# 1/21 금"
   ]
  },
  {
   "cell_type": "markdown",
   "id": "0e0f9468",
   "metadata": {},
   "source": [
    "## 네트워크 복구\n",
    "https://www.acmicpc.net/problem/2211"
   ]
  },
  {
   "cell_type": "code",
   "execution_count": null,
   "id": "6fff9dff",
   "metadata": {},
   "outputs": [],
   "source": [
    "import heapq\n",
    "import sys\n",
    "INF = sys.maxsize\n",
    "\n",
    "n, m = map(int, input().split())\n",
    "parent = [0] * (n+1)\n",
    "graph = [[] for _ in range(n+1)]\n",
    "distance = [INF] * (n+1)\n",
    "\n",
    "for _ in range(m):\n",
    "    a, b, c = map(int, input().split())\n",
    "    graph[a].append((b, c))\n",
    "    graph[b].append((a, c))\n",
    "\n",
    "def dijkstra(start):\n",
    "    q = []\n",
    "    heapq.heappush(q, (0, start))\n",
    "    distance[start] = 0\n",
    "    while q:\n",
    "        dist, now = heapq.heappop(q)\n",
    "        if distance[now] < dist:\n",
    "            continue\n",
    "        for next_node, next_cost in graph[now]:\n",
    "            cost = dist + next_cost\n",
    "            \n",
    "            if distance[next_node] > cost:\n",
    "                parent[next_node] = now\n",
    "                distance[next_node] = cost\n",
    "                heapq.heappush(q, (cost, next_node))\n",
    "\n",
    "            \n",
    "dijkstra(1)\n",
    "print(n-1)\n",
    "for i in range(2, n+1):\n",
    "    print(i, parent[i])"
   ]
  },
  {
   "cell_type": "markdown",
   "id": "dff63c39",
   "metadata": {},
   "source": [
    "# 1/25 화"
   ]
  },
  {
   "cell_type": "markdown",
   "id": "f404654f",
   "metadata": {},
   "source": [
    "## <span style='color: purple'>밑 줄</span>\n",
    "https://www.acmicpc.net/problem/1474"
   ]
  },
  {
   "cell_type": "code",
   "execution_count": null,
   "id": "dccbee16",
   "metadata": {},
   "outputs": [],
   "source": [
    "words = ['A', 'quick', 'brown']\n",
    "new_words = list('_'.join(words))\n",
    "\n",
    "new_words"
   ]
  },
  {
   "cell_type": "code",
   "execution_count": null,
   "id": "ee6fda86",
   "metadata": {},
   "outputs": [],
   "source": [
    "n, m = map(int, input().split())\n",
    "words = [input() for _ in range(n)]"
   ]
  },
  {
   "cell_type": "markdown",
   "id": "7bf897dc",
   "metadata": {},
   "source": [
    "## 별 찍기\n",
    "https://www.acmicpc.net/problem/10992"
   ]
  },
  {
   "cell_type": "code",
   "execution_count": 44,
   "id": "b916f515",
   "metadata": {},
   "outputs": [
    {
     "name": "stdout",
     "output_type": "stream",
     "text": [
      "5\n",
      "    *\n",
      "   * *\n",
      "  *   *\n",
      " *     *\n",
      "*********\n"
     ]
    }
   ],
   "source": [
    "n = int(input())\n",
    "\n",
    "for i in range(1, n+1):\n",
    "    if i == 1:\n",
    "        print(' '*(n-i) + '*')\n",
    "    elif i == n:\n",
    "        print('*'*(2*i-1))\n",
    "    else:\n",
    "        print(' '*(n-i) + '*'+ ' '*(2*i-3) + '*')"
   ]
  },
  {
   "cell_type": "markdown",
   "id": "bbd7367b",
   "metadata": {},
   "source": [
    "## 수 찾기\n",
    "https://www.acmicpc.net/problem/1920"
   ]
  },
  {
   "cell_type": "code",
   "execution_count": 48,
   "id": "11f1ea21",
   "metadata": {},
   "outputs": [
    {
     "name": "stdout",
     "output_type": "stream",
     "text": [
      "5\n",
      "4 1 5 2 3\n",
      "5\n",
      "1 3 7 9 5\n",
      "1\n",
      "1\n",
      "0\n",
      "0\n",
      "1\n"
     ]
    }
   ],
   "source": [
    "# 시간 초과\n",
    "n = int(input())\n",
    "num1 = list(map(int, input().split()))\n",
    "m = int(input())\n",
    "num2 = list(map(int, input().split()))\n",
    "\n",
    "for i in range(m):\n",
    "    if num2[i] in num1:\n",
    "        print(1)\n",
    "    else:\n",
    "        print(0)"
   ]
  },
  {
   "cell_type": "code",
   "execution_count": 51,
   "id": "d33a7fdd",
   "metadata": {},
   "outputs": [
    {
     "name": "stdout",
     "output_type": "stream",
     "text": [
      "5\n",
      "4 1 5 2 3\n",
      "5\n",
      "1 3 7 9 5\n",
      "1\n",
      "1\n",
      "0\n",
      "0\n",
      "1\n"
     ]
    }
   ],
   "source": [
    "n = int(input())\n",
    "N = list(map(int, input().split()))\n",
    "m = int(input())\n",
    "M = list(map(int, input().split()))\n",
    "N.sort()\n",
    "\n",
    "def binary(target):\n",
    "    left = 0\n",
    "    right = n-1\n",
    "    while left <= right:\n",
    "        mid = (left + right) // 2\n",
    "        if N[mid] == target:\n",
    "            return True\n",
    "        if target < N[mid]:\n",
    "            right = mid - 1\n",
    "        elif target > N[mid]:\n",
    "            left = mid + 1\n",
    "    return False\n",
    "\n",
    "for i in M:\n",
    "    if binary(i):\n",
    "        print(1)\n",
    "    else:\n",
    "        print(0)"
   ]
  },
  {
   "cell_type": "markdown",
   "id": "f7dcf077",
   "metadata": {},
   "source": [
    "## 수 정렬하기\n",
    "https://www.acmicpc.net/problem/2750"
   ]
  },
  {
   "cell_type": "code",
   "execution_count": 56,
   "id": "b858e0d2",
   "metadata": {},
   "outputs": [
    {
     "name": "stdout",
     "output_type": "stream",
     "text": [
      "5\n",
      "5\n",
      "2\n",
      "3\n",
      "4\n",
      "1\n",
      "1\n",
      "2\n",
      "3\n",
      "4\n",
      "5\n"
     ]
    }
   ],
   "source": [
    "n = int(input())\n",
    "num = [int(input()) for _ in range(n)]\n",
    "num.sort()\n",
    "for i in num:\n",
    "    print(i)"
   ]
  },
  {
   "cell_type": "markdown",
   "id": "3347a867",
   "metadata": {},
   "source": [
    "## 수 정렬하기2\n",
    "https://www.acmicpc.net/problem/2751"
   ]
  },
  {
   "cell_type": "code",
   "execution_count": 62,
   "id": "dbf23673",
   "metadata": {},
   "outputs": [
    {
     "ename": "ValueError",
     "evalue": "invalid literal for int() with base 10: ''",
     "output_type": "error",
     "traceback": [
      "\u001b[0;31m---------------------------------------------------------------------------\u001b[0m",
      "\u001b[0;31mValueError\u001b[0m                                Traceback (most recent call last)",
      "\u001b[0;32m<ipython-input-62-a7bcb06415e7>\u001b[0m in \u001b[0;36m<module>\u001b[0;34m\u001b[0m\n\u001b[1;32m      1\u001b[0m \u001b[0;32mimport\u001b[0m \u001b[0msys\u001b[0m\u001b[0;34m\u001b[0m\u001b[0;34m\u001b[0m\u001b[0m\n\u001b[0;32m----> 2\u001b[0;31m \u001b[0mn\u001b[0m \u001b[0;34m=\u001b[0m \u001b[0mint\u001b[0m\u001b[0;34m(\u001b[0m\u001b[0msys\u001b[0m\u001b[0;34m.\u001b[0m\u001b[0mstdin\u001b[0m\u001b[0;34m.\u001b[0m\u001b[0mreadline\u001b[0m\u001b[0;34m(\u001b[0m\u001b[0;34m)\u001b[0m\u001b[0;34m)\u001b[0m\u001b[0;34m\u001b[0m\u001b[0;34m\u001b[0m\u001b[0m\n\u001b[0m\u001b[1;32m      3\u001b[0m \u001b[0mnum\u001b[0m \u001b[0;34m=\u001b[0m \u001b[0;34m[\u001b[0m\u001b[0mint\u001b[0m\u001b[0;34m(\u001b[0m\u001b[0msys\u001b[0m\u001b[0;34m.\u001b[0m\u001b[0mstdin\u001b[0m\u001b[0;34m.\u001b[0m\u001b[0mreadline\u001b[0m\u001b[0;34m(\u001b[0m\u001b[0;34m)\u001b[0m\u001b[0;34m)\u001b[0m \u001b[0;32mfor\u001b[0m \u001b[0m_\u001b[0m \u001b[0;32min\u001b[0m \u001b[0mrange\u001b[0m\u001b[0;34m(\u001b[0m\u001b[0mn\u001b[0m\u001b[0;34m)\u001b[0m\u001b[0;34m]\u001b[0m\u001b[0;34m\u001b[0m\u001b[0;34m\u001b[0m\u001b[0m\n\u001b[1;32m      4\u001b[0m \u001b[0;32mfor\u001b[0m \u001b[0mi\u001b[0m \u001b[0;32min\u001b[0m \u001b[0msorted\u001b[0m\u001b[0;34m(\u001b[0m\u001b[0mnum\u001b[0m\u001b[0;34m)\u001b[0m\u001b[0;34m:\u001b[0m\u001b[0;34m\u001b[0m\u001b[0;34m\u001b[0m\u001b[0m\n\u001b[1;32m      5\u001b[0m     \u001b[0msys\u001b[0m\u001b[0;34m.\u001b[0m\u001b[0mstdout\u001b[0m\u001b[0;34m.\u001b[0m\u001b[0mwrite\u001b[0m\u001b[0;34m(\u001b[0m\u001b[0mstr\u001b[0m\u001b[0;34m(\u001b[0m\u001b[0mi\u001b[0m\u001b[0;34m)\u001b[0m \u001b[0;34m+\u001b[0m \u001b[0;34m'\\n'\u001b[0m\u001b[0;34m)\u001b[0m\u001b[0;34m\u001b[0m\u001b[0;34m\u001b[0m\u001b[0m\n",
      "\u001b[0;31mValueError\u001b[0m: invalid literal for int() with base 10: ''"
     ]
    }
   ],
   "source": [
    "import sys\n",
    "n = int(sys.stdin.readline())\n",
    "num = [int(sys.stdin.readline()) for _ in range(n)]\n",
    "for i in sorted(num):\n",
    "    sys.stdout.write(str(i) + '\\n')"
   ]
  },
  {
   "cell_type": "markdown",
   "id": "88ee72e9",
   "metadata": {},
   "source": [
    "## 수 정렬하기3\n",
    "https://www.acmicpc.net/problem/10989"
   ]
  },
  {
   "cell_type": "code",
   "execution_count": null,
   "id": "bf57878a",
   "metadata": {},
   "outputs": [],
   "source": [
    "# num 공간 할당 때문에 메모리 초과 일어남\n",
    "from sys import stdin, stdout\n",
    "n = int(stdin.readline())\n",
    "num = [int(stdin.readline()) for _ in range(n)]\n",
    "check = [0] * 10001\n",
    "\n",
    "for i in num:\n",
    "    check[i] = check[i] + 1\n",
    "for i in range(10001):\n",
    "    if check[i]:\n",
    "        for j in range(check[i]):\n",
    "            print(i)"
   ]
  },
  {
   "cell_type": "code",
   "execution_count": null,
   "id": "9796e49b",
   "metadata": {},
   "outputs": [],
   "source": [
    "import sys \n",
    "N = int(input()) \n",
    "check_list = [0] * 10001 \n",
    "for i in range(N): \n",
    "    input_num = int(sys.stdin.readline()) \n",
    "    check_list[input_num] = check_list[input_num] + 1 \n",
    "for i in range(10001): \n",
    "    if check_list[i]: \n",
    "        for j in range(check_list[i]): \n",
    "            print(i)"
   ]
  },
  {
   "cell_type": "code",
   "execution_count": null,
   "id": "29fdd94e",
   "metadata": {},
   "outputs": [],
   "source": [
    "# 이 코드는 왜 메모리 초과가 나는지 모르겠다\n",
    "from sys import stdin, stdout\n",
    "n = int(input())\n",
    "num = [int(stdin.readline()) for _ in range(n)]\n",
    "num.sort()\n",
    "for i in num:\n",
    "    print(i)"
   ]
  },
  {
   "cell_type": "markdown",
   "id": "ac88a085",
   "metadata": {},
   "source": [
    "## 숫자 카드\n",
    "https://www.acmicpc.net/problem/10815"
   ]
  },
  {
   "cell_type": "code",
   "execution_count": 69,
   "id": "55bbdfee",
   "metadata": {},
   "outputs": [
    {
     "name": "stdout",
     "output_type": "stream",
     "text": [
      "5\n",
      "6 3 2 10 -10\n",
      "5\n",
      "10 9 -5 2 3 4 5 -10\n",
      "1 0 0 1 1 0 0 1 "
     ]
    }
   ],
   "source": [
    "n = int(input())\n",
    "N = list(map(int, input().split()))\n",
    "m = int(input())\n",
    "M = list(map(int ,input().split()))\n",
    "N.sort()\n",
    "def binary(target):\n",
    "    left = 0\n",
    "    right = n-1\n",
    "    while left <= right:\n",
    "        mid = (left + right) // 2\n",
    "        if N[mid] == target:\n",
    "            return 1\n",
    "        if target < N[mid]:\n",
    "            right = mid - 1\n",
    "        elif target > N[mid]:\n",
    "            left = mid + 1\n",
    "    return 0\n",
    "\n",
    "for i in M:\n",
    "    print(binary(i), end=' ')"
   ]
  }
 ],
 "metadata": {
  "kernelspec": {
   "display_name": "Python 3",
   "language": "python",
   "name": "python3"
  },
  "language_info": {
   "codemirror_mode": {
    "name": "ipython",
    "version": 3
   },
   "file_extension": ".py",
   "mimetype": "text/x-python",
   "name": "python",
   "nbconvert_exporter": "python",
   "pygments_lexer": "ipython3",
   "version": "3.8.8"
  }
 },
 "nbformat": 4,
 "nbformat_minor": 5
}
