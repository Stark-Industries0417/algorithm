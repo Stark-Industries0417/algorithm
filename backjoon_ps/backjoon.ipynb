{
 "cells": [
  {
   "cell_type": "markdown",
   "id": "11ad8614",
   "metadata": {},
   "source": [
    "# 3/12 토"
   ]
  },
  {
   "cell_type": "markdown",
   "id": "5c3a4287",
   "metadata": {},
   "source": [
    "## 신기한 소수\n",
    "https://www.acmicpc.net/problem/2023"
   ]
  },
  {
   "cell_type": "code",
   "execution_count": 21,
   "id": "04dca4a6",
   "metadata": {
    "scrolled": true
   },
   "outputs": [
    {
     "name": "stdout",
     "output_type": "stream",
     "text": [
      "5\n",
      "23333\n",
      "23339\n",
      "23399\n",
      "23993\n",
      "29399\n",
      "31193\n",
      "31379\n",
      "37337\n",
      "37339\n",
      "37397\n",
      "59393\n",
      "59399\n",
      "71933\n",
      "73331\n",
      "73939\n"
     ]
    }
   ],
   "source": [
    "# 메모리 초과\n",
    "\n",
    "n = int(input())\n",
    "MAX = 10**n\n",
    "check = [num for num in range(10**(n-1), 10**n)]\n",
    "for i in range(2, int(MAX**0.5 + 1)):\n",
    "    for j in range(i**2, MAX+1, i):\n",
    "        check[j] = False\n",
    "        \n",
    "def check_minority(p):\n",
    "    for i in range(1, n):\n",
    "        if not check[p//10**(n-i)]:\n",
    "            return False\n",
    "    return True\n",
    "            \n",
    "for i in range(10**(n-1), 10**n):\n",
    "    if check[i] and check_minority(i):\n",
    "        print(i)"
   ]
  },
  {
   "cell_type": "code",
   "execution_count": 35,
   "id": "528f0871",
   "metadata": {},
   "outputs": [
    {
     "name": "stdout",
     "output_type": "stream",
     "text": [
      "4\n",
      "2333\n",
      "2339\n",
      "2393\n",
      "2399\n",
      "2939\n",
      "3119\n",
      "3137\n",
      "3733\n",
      "3739\n",
      "3793\n",
      "3797\n",
      "5939\n",
      "7193\n",
      "7331\n",
      "7333\n",
      "7393\n"
     ]
    }
   ],
   "source": [
    "# 시간초과\n",
    "n = int(input())\n",
    "def prime(p):\n",
    "    if p == 1:\n",
    "        return False\n",
    "    for i in range(2, int(p**0.5)+1):\n",
    "        if p % i == 0:\n",
    "            return False\n",
    "\n",
    "    return True\n",
    "\n",
    "def check_minority(p):\n",
    "    for i in range(1, n):\n",
    "        if not prime(p//(10**(n-i))):\n",
    "            return False\n",
    "    return True\n",
    "            \n",
    "for c in range(10**(n-1), 10**n):\n",
    "    if prime(c):\n",
    "        if check_minority(c):\n",
    "            print(c)"
   ]
  },
  {
   "cell_type": "code",
   "execution_count": 38,
   "id": "4fbf6ebf",
   "metadata": {},
   "outputs": [
    {
     "name": "stdout",
     "output_type": "stream",
     "text": [
      "4\n",
      "2333\n",
      "2339\n",
      "2393\n",
      "2399\n",
      "2939\n",
      "3119\n",
      "3137\n",
      "3733\n",
      "3739\n",
      "3793\n",
      "3797\n",
      "5939\n",
      "7193\n",
      "7331\n",
      "7333\n",
      "7393\n"
     ]
    }
   ],
   "source": [
    "n = int(input())\n",
    "\n",
    "def check_prime(num):\n",
    "    for i in range(2, int(num**0.5) + 1):\n",
    "        if num % i == 0:\n",
    "            return False\n",
    "    return True\n",
    "\n",
    "def dfs(num):\n",
    "    if len(str(num)) == n:\n",
    "        print(num)\n",
    "        return\n",
    "    else:\n",
    "        for i in range(10):\n",
    "            temp = num*10 + i\n",
    "            if check_prime(temp):\n",
    "                dfs(temp)\n",
    "dfs(2)\n",
    "dfs(3)\n",
    "dfs(5)\n",
    "dfs(7)"
   ]
  }
 ],
 "metadata": {
  "kernelspec": {
   "display_name": "Python 3",
   "language": "python",
   "name": "python3"
  },
  "language_info": {
   "codemirror_mode": {
    "name": "ipython",
    "version": 3
   },
   "file_extension": ".py",
   "mimetype": "text/x-python",
   "name": "python",
   "nbconvert_exporter": "python",
   "pygments_lexer": "ipython3",
   "version": "3.8.8"
  }
 },
 "nbformat": 4,
 "nbformat_minor": 5
}
