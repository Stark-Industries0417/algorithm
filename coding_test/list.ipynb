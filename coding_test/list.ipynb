{
 "cells": [
  {
   "cell_type": "markdown",
   "metadata": {},
   "source": [
    "# 리스트"
   ]
  },
  {
   "attachments": {},
   "cell_type": "markdown",
   "metadata": {},
   "source": [
    "## Two sum\n",
    "정수가 저장된 배열 nums가 주어졌을 때, nums의 원소중 두 숫자를 더해서 target이 될 수 있으면 True 불가능하면 False를 반환하세요.   \n",
    "같은 원소를 두 번 사용할 수 없습니다.   \n",
    "\n",
    "### 제약조건\n",
    "2 <= nums.length <= 10^4   \n",
    "-10^9 <= nums[i] <= 10^9   \n",
    "-10^9 <= target <= 10^9   \n",
    "\n",
    "input : nums = {4, 1, 9, 7, 5, 3, 16}, target : 14   \n",
    "output: True   \n",
    "input : nums = {2, 1, 5, 7}, target: 4    \n",
    "output: False"
   ]
  },
  {
   "attachments": {},
   "cell_type": "markdown",
   "metadata": {},
   "source": [
    "- 직관적으로 생각하기\n",
    "    - 보통 완전탐색으로 시작\n",
    "    - 문제 상황을 단순화 하여 생각하기\n",
    "    - 문제 상황을 극한화 하여 생각하기\n",
    "- 자료구조와 알고리즘 활용\n",
    "    - 문제이해 에서 파악한 내용을 토대로 어떤 자료구조를 사용하는게 가장 적합한지 결정\n",
    "    - 대놓고 특정 자료구조와 알고리즘을 묻는 문제도 많음\n",
    "    - 자료구조에 따라 선택할 수 있는 알고리즘을 문제에 적용\n",
    "- 메모리 사용\n",
    "    - 시간복잡도를 줄이기 위해 메모리를 사용하는 방법\n",
    "    - 대표적으로 해시테이블"
   ]
  },
  {
   "cell_type": "code",
   "execution_count": null,
   "metadata": {},
   "outputs": [],
   "source": [
    "# 완전탐색\n",
    "\n",
    "def twoSum(nums, target):\n",
    "    l = len(nums)\n",
    "    for i in range(l-1):\n",
    "        for j in range(i+1, l):\n",
    "            if nums[i] + nums[j] == target:\n",
    "                return True\n",
    "    return False"
   ]
  },
  {
   "cell_type": "code",
   "execution_count": null,
   "metadata": {},
   "outputs": [],
   "source": [
    "# Two pointer\n",
    "\n",
    "nums = [4, 1, 9, 7, 5 , 3,16]\n",
    "\n",
    "def twoSum(nums, target):\n",
    "    nums.sort()\n",
    "    \n",
    "    left = 0\n",
    "    right = len(nums) - 1\n",
    "\n",
    "    while left < right:\n",
    "        mid = nums[left] + nums[right]\n",
    "        \n",
    "        if mid == target:\n",
    "            return True\n",
    "        elif mid < target:\n",
    "            left += 1\n",
    "        else:\n",
    "            right -= 1\n",
    "    return False"
   ]
  },
  {
   "attachments": {},
   "cell_type": "markdown",
   "metadata": {},
   "source": [
    "# Linked List"
   ]
  },
  {
   "cell_type": "code",
   "execution_count": null,
   "metadata": {},
   "outputs": [],
   "source": [
    "class Node :\n",
    "    def __init__(self, value = 0, next = None):\n",
    "        self.value = value\n",
    "        self.next = next\n",
    "\n",
    "class LinkedList(object):\n",
    "    def __init__(self):\n",
    "        self.size = 0\n",
    "        self.head = None\n",
    "    \n",
    "    def insert_back(self, value):\n",
    "        new_node = Node(value)\n",
    "        if self.head is None:\n",
    "            self.head = new_node\n",
    "        else:\n",
    "            current = self.head\n",
    "            while(current.next):\n",
    "                current = current.next    \n",
    "            current.next = new_node\n",
    "            \n",
    "    def get(self, idx):\n",
    "        if idx < 0 or idx >= self.size:\n",
    "            raise Exception(\"out of range\")\n",
    "        current = self.head\n",
    "        for _ in range(idx):\n",
    "            current = current.next\n",
    "        return current.value\n",
    "    \n",
    "    def insert(self, idx, value):\n",
    "        new_node = Node(value)\n",
    "        if idx == 0:\n",
    "            new_node.next = self.head\n",
    "            self.head = new_node\n",
    "        else:\n",
    "            current = self.head\n",
    "            for _ in range(idx-1):\n",
    "                current = current.next\n",
    "            new_node.next = current.next\n",
    "            current.next = new_node\n",
    "            \n",
    "    def remove(self, idx):\n",
    "        if idx == 0:\n",
    "            self.head = self.head.next \n",
    "        else:\n",
    "            current = self.head\n",
    "            for _ in range(idx-1):\n",
    "                current = current.next\n",
    "            current.next = current.next.next\n",
    "\n",
    "    def print(self):\n",
    "        current = self.head\n",
    "        while(current):\n",
    "            print(current.value, end=\"\")\n",
    "            current = current.next    \n",
    "            if current:\n",
    "                print(\"->\", end=\"\")\n",
    "        print()\n"
   ]
  }
 ],
 "metadata": {
  "kernelspec": {
   "display_name": "base",
   "language": "python",
   "name": "python3"
  },
  "language_info": {
   "name": "python",
   "version": "3.9.13"
  },
  "orig_nbformat": 4
 },
 "nbformat": 4,
 "nbformat_minor": 2
}
