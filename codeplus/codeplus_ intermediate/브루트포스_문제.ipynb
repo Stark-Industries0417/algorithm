{
 "cells": [
  {
   "cell_type": "markdown",
   "id": "0c59745b",
   "metadata": {},
   "source": [
    "## 차량 번호판 1\n",
    "https://www.acmicpc.net/problem/16968"
   ]
  },
  {
   "cell_type": "code",
   "execution_count": null,
   "id": "fa0c657c",
   "metadata": {},
   "outputs": [],
   "source": [
    "n = input()\n",
    "ans = 0\n",
    "def go(idx, s):\n",
    "    if idx == len(n):\n",
    "        global ans\n",
    "        ans += 1\n",
    "        return\n",
    "    \n",
    "    if n[idx] == 'c':\n",
    "        for char in range(ord('a'), ord('z')+1):\n",
    "            if idx == 0 or s[idx-1] != chr(char):\n",
    "                go(idx+1, s+chr(char))\n",
    "\n",
    "    else:\n",
    "        for i in range(10):\n",
    "            if idx == 0 or s[idx-1] != str(i):\n",
    "                go(idx+1, s+str(i))\n",
    "    return\n",
    "\n",
    "go(0, '')\n",
    "print(ans)"
   ]
  },
  {
   "cell_type": "code",
   "execution_count": null,
   "id": "864b114b",
   "metadata": {},
   "outputs": [],
   "source": [
    "s = input()\n",
    "\n",
    "ans = 1\n",
    "for i, char in enumerate(s):\n",
    "    if char == 'c':\n",
    "        if i == 0:\n",
    "            ans *= 26\n",
    "        else:\n",
    "            if s[i-1] == 'c':\n",
    "                ans *= 25\n",
    "            else:\n",
    "                ans *= 26\n",
    "    else:\n",
    "        if i == 0:\n",
    "            ans *= 10\n",
    "        else:\n",
    "            if s[i-1] == 'd':\n",
    "                ans *= 9\n",
    "            else:\n",
    "                ans *= 10\n",
    "print(ans)"
   ]
  },
  {
   "cell_type": "code",
   "execution_count": null,
   "id": "09e5104a",
   "metadata": {},
   "outputs": [],
   "source": [
    "s = input()\n",
    "ans = 1\n",
    "for i in range(len(s)):\n",
    "    cnt = 26 if s[i] == 'c' else 10\n",
    "    if i > 0 and s[i] == s[i-1]:\n",
    "        cnt -= 1\n",
    "    ans *= cnt\n",
    "print(ans)"
   ]
  },
  {
   "cell_type": "markdown",
   "id": "781aae15",
   "metadata": {},
   "source": [
    "## 양념 반 후라이드 반\n",
    "https://www.acmicpc.net/problem/16917"
   ]
  },
  {
   "cell_type": "code",
   "execution_count": null,
   "id": "dd410820",
   "metadata": {},
   "outputs": [],
   "source": [
    "A, B, C, X, Y = map(int, input().split())\n",
    "ans = X*A + Y*B\n",
    "\n",
    "for i in range(1, max(X,Y)*2 + 1):\n",
    "    price = 2*i*C + max(0, X-i)*A + max(0, Y-i)*B\n",
    "    if ans > price:\n",
    "        ans = price\n",
    "print(ans)"
   ]
  },
  {
   "cell_type": "markdown",
   "id": "1c6a4949",
   "metadata": {},
   "source": [
    "## 로마 숫자 만들기\n",
    "https://www.acmicpc.net/problem/16922"
   ]
  },
  {
   "cell_type": "code",
   "execution_count": null,
   "id": "a0ba02c2",
   "metadata": {},
   "outputs": [],
   "source": [
    "n = int(input())\n",
    "check = [False] * (50*20 + 1)\n",
    "\n",
    "for i in range(n+1):\n",
    "    for j in range(n-i+1):\n",
    "        for k in range(n-i-j+1):\n",
    "            l = n - i - j - k\n",
    "            s = i + 5*j + 10*k + 50*l\n",
    "            check[s] = True\n",
    "print(sum(check))"
   ]
  },
  {
   "cell_type": "markdown",
   "id": "219728f3",
   "metadata": {},
   "source": [
    "## 십자가 찾기\n",
    "https://www.acmicpc.net/submit/16924/52494545"
   ]
  },
  {
   "cell_type": "code",
   "execution_count": null,
   "id": "1c5a5fc3",
   "metadata": {},
   "outputs": [],
   "source": [
    "n, m = map(int, input().split())\n",
    "graph = [input() for _ in range(n)]\n",
    "check = [[False] * m for _ in range(n)]\n",
    "\n",
    "ans = []\n",
    "for i in range(n):\n",
    "    for j in range(m):\n",
    "        if graph[i][j] == '*':\n",
    "            k = 1\n",
    "            while i-k >= 0 and i+k < n and j-k >= 0 and j+k < m:\n",
    "                if graph[i-k][j] == graph[i+k][j] == graph[i][j-k] == graph[i][j+k] == '*':\n",
    "                    ans.append((i+1, j+1, k))\n",
    "                    k += 1\n",
    "                else: \n",
    "                    break\n",
    "\n",
    "            if k > 1:\n",
    "                check[i][j] = True\n",
    "                for l in range(1, k):\n",
    "                    check[i-l][j] = True\n",
    "                    check[i+l][j] = True\n",
    "                    check[i][j-l] = True\n",
    "                    check[i][j+l] = True\n",
    "\n",
    "for i in range(n):\n",
    "    for j in range(m):\n",
    "        if graph[i][j] == '*' and not check[i][j]:\n",
    "            print(-1)\n",
    "            exit(0)\n",
    "\n",
    "print(len(ans))\n",
    "for elem in ans:\n",
    "    print(*elem)"
   ]
  },
  {
   "cell_type": "markdown",
   "id": "8c9c93e1",
   "metadata": {},
   "source": [
    "## 나3곱2\n",
    "https://www.acmicpc.net/problem/16936"
   ]
  },
  {
   "cell_type": "code",
   "execution_count": null,
   "id": "f70e625d",
   "metadata": {},
   "outputs": [],
   "source": [
    "n = int(input())\n",
    "a = list(map(int, input().split()))\n",
    "for i in range(n):\n",
    "    num = a[i]\n",
    "    cnt = 0\n",
    "    while num % 3 == 0:\n",
    "        num //= 3\n",
    "        cnt += 1\n",
    "    a[i] = (-cnt, a[i])\n",
    "a.sort()\n",
    "\n",
    "print(*[elem[1] for elem in a])"
   ]
  },
  {
   "cell_type": "markdown",
   "id": "3c52e4f6",
   "metadata": {},
   "source": [
    "## 두 스티커\n",
    "https://www.acmicpc.net/problem/16937"
   ]
  },
  {
   "cell_type": "code",
   "execution_count": null,
   "id": "10f4d754",
   "metadata": {},
   "outputs": [],
   "source": [
    "h, w = map(int, input().split())\n",
    "n = int(input())\n",
    "r, c = [0]*n, [0]*n\n",
    "for i in range(n):\n",
    "    r[i], c[i] = map(int, input().split())\n",
    "\n",
    "ans = 0\n",
    "for i in range(n):\n",
    "    r1, c1 = r[i], c[i]\n",
    "    for j in range(i+1, n):\n",
    "        r2, c2 = r[j], c[j]\n",
    "        for _ in range(2):\n",
    "            for _ in range(2):\n",
    "                if r1+r2 <= h and max(c1, c2) <= w:\n",
    "                    temp = r1*c1 + r2*c2\n",
    "                    if ans < temp:\n",
    "                        ans = temp\n",
    "                if max(r1, r2) <= h and c1+c2 <= w:\n",
    "                    temp = r1*c1 + r2*c2\n",
    "                    if ans < temp:\n",
    "                        ans = temp\n",
    "                r2, c2 = c2, r2\n",
    "            r1, c1 = c1, r1\n",
    "print(ans)"
   ]
  }
 ],
 "metadata": {
  "kernelspec": {
   "display_name": "Python 3",
   "language": "python",
   "name": "python3"
  },
  "language_info": {
   "codemirror_mode": {
    "name": "ipython",
    "version": 3
   },
   "file_extension": ".py",
   "mimetype": "text/x-python",
   "name": "python",
   "nbconvert_exporter": "python",
   "pygments_lexer": "ipython3",
   "version": "3.8.8"
  }
 },
 "nbformat": 4,
 "nbformat_minor": 5
}
