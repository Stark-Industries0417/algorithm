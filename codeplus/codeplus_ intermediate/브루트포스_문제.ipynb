{
 "cells": [
  {
   "cell_type": "markdown",
   "id": "0c59745b",
   "metadata": {},
   "source": [
    "## 차량 번호판 1\n",
    "https://www.acmicpc.net/problem/16968"
   ]
  },
  {
   "cell_type": "code",
   "execution_count": null,
   "id": "fa0c657c",
   "metadata": {},
   "outputs": [],
   "source": [
    "n = input()\n",
    "ans = 0\n",
    "def go(idx, s):\n",
    "    if idx == len(n):\n",
    "        global ans\n",
    "        ans += 1\n",
    "        return\n",
    "    \n",
    "    if n[idx] == 'c':\n",
    "        for char in range(ord('a'), ord('z')+1):\n",
    "            if idx == 0 or s[idx-1] != chr(char):\n",
    "                go(idx+1, s+chr(char))\n",
    "\n",
    "    else:\n",
    "        for i in range(10):\n",
    "            if idx == 0 or s[idx-1] != str(i):\n",
    "                go(idx+1, s+str(i))\n",
    "    return\n",
    "\n",
    "go(0, '')\n",
    "print(ans)"
   ]
  },
  {
   "cell_type": "code",
   "execution_count": null,
   "id": "864b114b",
   "metadata": {},
   "outputs": [],
   "source": [
    "s = input()\n",
    "\n",
    "ans = 1\n",
    "for i, char in enumerate(s):\n",
    "    if char == 'c':\n",
    "        if i == 0:\n",
    "            ans *= 26\n",
    "        else:\n",
    "            if s[i-1] == 'c':\n",
    "                ans *= 25\n",
    "            else:\n",
    "                ans *= 26\n",
    "    else:\n",
    "        if i == 0:\n",
    "            ans *= 10\n",
    "        else:\n",
    "            if s[i-1] == 'd':\n",
    "                ans *= 9\n",
    "            else:\n",
    "                ans *= 10\n",
    "print(ans)"
   ]
  },
  {
   "cell_type": "code",
   "execution_count": null,
   "id": "09e5104a",
   "metadata": {},
   "outputs": [],
   "source": [
    "s = input()\n",
    "ans = 1\n",
    "for i in range(len(s)):\n",
    "    cnt = 26 if s[i] == 'c' else 10\n",
    "    if i > 0 and s[i] == s[i-1]:\n",
    "        cnt -= 1\n",
    "    ans *= cnt\n",
    "print(ans)"
   ]
  },
  {
   "cell_type": "markdown",
   "id": "781aae15",
   "metadata": {},
   "source": [
    "## 양념 반 후라이드 반\n",
    "https://www.acmicpc.net/problem/16917"
   ]
  },
  {
   "cell_type": "code",
   "execution_count": null,
   "id": "dd410820",
   "metadata": {},
   "outputs": [],
   "source": [
    "A, B, C, X, Y = map(int, input().split())\n",
    "ans = X*A + Y*B\n",
    "\n",
    "for i in range(1, max(X,Y)*2 + 1):\n",
    "    price = 2*i*C + max(0, X-i)*A + max(0, Y-i)*B\n",
    "    if ans > price:\n",
    "        ans = price\n",
    "print(ans)"
   ]
  },
  {
   "cell_type": "markdown",
   "id": "1c6a4949",
   "metadata": {},
   "source": [
    "## 로마 숫자 만들기\n",
    "https://www.acmicpc.net/problem/16922"
   ]
  },
  {
   "cell_type": "code",
   "execution_count": null,
   "id": "a0ba02c2",
   "metadata": {},
   "outputs": [],
   "source": [
    "n = int(input())\n",
    "check = [False] * (50*20 + 1)\n",
    "\n",
    "for i in range(n+1):\n",
    "    for j in range(n-i+1):\n",
    "        for k in range(n-i-j+1):\n",
    "            l = n - i - j - k\n",
    "            s = i + 5*j + 10*k + 50*l\n",
    "            check[s] = True\n",
    "print(sum(check))"
   ]
  },
  {
   "cell_type": "markdown",
   "id": "219728f3",
   "metadata": {},
   "source": [
    "## 십자가 찾기\n",
    "https://www.acmicpc.net/submit/16924/52494545"
   ]
  },
  {
   "cell_type": "code",
   "execution_count": null,
   "id": "1c5a5fc3",
   "metadata": {},
   "outputs": [],
   "source": [
    "n, m = map(int, input().split())\n",
    "graph = [input() for _ in range(n)]\n",
    "check = [[False] * m for _ in range(n)]\n",
    "\n",
    "ans = []\n",
    "for i in range(n):\n",
    "    for j in range(m):\n",
    "        if graph[i][j] == '*':\n",
    "            k = 1\n",
    "            while i-k >= 0 and i+k < n and j-k >= 0 and j+k < m:\n",
    "                if graph[i-k][j] == graph[i+k][j] == graph[i][j-k] == graph[i][j+k] == '*':\n",
    "                    ans.append((i+1, j+1, k))\n",
    "                    k += 1\n",
    "                else: \n",
    "                    break\n",
    "\n",
    "            if k > 1:\n",
    "                check[i][j] = True\n",
    "                for l in range(1, k):\n",
    "                    check[i-l][j] = True\n",
    "                    check[i+l][j] = True\n",
    "                    check[i][j-l] = True\n",
    "                    check[i][j+l] = True\n",
    "\n",
    "for i in range(n):\n",
    "    for j in range(m):\n",
    "        if graph[i][j] == '*' and not check[i][j]:\n",
    "            print(-1)\n",
    "            exit(0)\n",
    "\n",
    "print(len(ans))\n",
    "for elem in ans:\n",
    "    print(*elem)"
   ]
  },
  {
   "cell_type": "markdown",
   "id": "8c9c93e1",
   "metadata": {},
   "source": [
    "## 나3곱2\n",
    "https://www.acmicpc.net/problem/16936"
   ]
  },
  {
   "cell_type": "code",
   "execution_count": null,
   "id": "f70e625d",
   "metadata": {},
   "outputs": [],
   "source": [
    "n = int(input())\n",
    "a = list(map(int, input().split()))\n",
    "for i in range(n):\n",
    "    num = a[i]\n",
    "    cnt = 0\n",
    "    while num % 3 == 0:\n",
    "        num //= 3\n",
    "        cnt += 1\n",
    "    a[i] = (-cnt, a[i])\n",
    "a.sort()\n",
    "\n",
    "print(*[elem[1] for elem in a])"
   ]
  },
  {
   "cell_type": "markdown",
   "id": "4ace4edd",
   "metadata": {},
   "source": [
    "## 두 스티커\n",
    "https://www.acmicpc.net/problem/16937"
   ]
  },
  {
   "cell_type": "code",
   "execution_count": null,
   "id": "ebe97b4d",
   "metadata": {},
   "outputs": [],
   "source": [
    "h, w = map(int, input().split())\n",
    "n = int(input())\n",
    "r, c = [0]*n, [0]*n\n",
    "for i in range(n):\n",
    "    r[i], c[i] = map(int, input().split())\n",
    "\n",
    "ans = 0\n",
    "for i in range(n):\n",
    "    r1, c1 = r[i], c[i]\n",
    "    for j in range(i+1, n):\n",
    "        r2, c2 = r[j], c[j]\n",
    "        for _ in range(2):\n",
    "            for _ in range(2):\n",
    "                if r1+r2 <= h and max(c1, c2) <= w:\n",
    "                    temp = r1*c1 + r2*c2\n",
    "                    if ans < temp:\n",
    "                        ans = temp\n",
    "                if max(r1, r2) <= h and c1+c2 <= w:\n",
    "                    temp = r1*c1 + r2*c2\n",
    "                    if ans < temp:\n",
    "                        ans = temp\n",
    "                r2, c2 = c2, r2\n",
    "            r1, c1 = c1, r1\n",
    "print(ans)"
   ]
  },
  {
   "cell_type": "markdown",
   "id": "be8ebd98",
   "metadata": {},
   "source": [
    "## 캠프 준비\n",
    "https://www.acmicpc.net/problem/16938"
   ]
  },
  {
   "cell_type": "code",
   "execution_count": null,
   "id": "8c54b61f",
   "metadata": {},
   "outputs": [],
   "source": [
    "from itertools import combinations\n",
    "\n",
    "n, l, r, x = map(int, input().split())\n",
    "a = list(map(int, input().split()))\n",
    "ans = 0\n",
    "for cnt in range(2, n+1):\n",
    "    combi = list(combinations(a, cnt))\n",
    "    for com in combi:\n",
    "        if l <= sum(com) <= r:\n",
    "            if x <= max(com) - min(com):\n",
    "                ans += 1\n",
    "print(ans)"
   ]
  },
  {
   "cell_type": "code",
   "execution_count": null,
   "id": "e4602e76",
   "metadata": {},
   "outputs": [],
   "source": [
    "n, l, r, x = map(int, input().split())\n",
    "a = list(map(int, input().split()))\n",
    "\n",
    "def go(idx, cnt, total, easy, hard):\n",
    "    if idx == n:\n",
    "        if cnt >= 2 and l <= total <= r and hard - easy >= x:\n",
    "            return 1\n",
    "        else:\n",
    "            return 0\n",
    "\n",
    "    cnt1 = go(idx+1, cnt+1, total+a[idx], min(easy, a[idx]), max(hard, a[idx]))\n",
    "    cnt2 = go(idx+1, cnt, total, easy, hard)\n",
    "    return cnt1 + cnt2\n",
    "print(go(0, 0, 0, 1e9, 0))"
   ]
  },
  {
   "cell_type": "markdown",
   "id": "627e3279",
   "metadata": {},
   "source": [
    "## 숫자 재배치\n",
    "https://www.acmicpc.net/problem/16943"
   ]
  },
  {
   "cell_type": "code",
   "execution_count": null,
   "id": "83d12636",
   "metadata": {},
   "outputs": [],
   "source": [
    "A, B = map(list, input().split())\n",
    "l = len(A)\n",
    "check = [False] * l\n",
    "ans = -1\n",
    "\n",
    "def go(idx, num):\n",
    "    if idx == l:\n",
    "        global ans\n",
    "        num = int(num)\n",
    "        if ans < num < int(''.join(B)):\n",
    "            ans = num\n",
    "        return\n",
    "\n",
    "    for i in range(l):\n",
    "        if (idx == 0 and A[i] == 0):\n",
    "            continue\n",
    "        if check[i]:\n",
    "            continue\n",
    "        check[i] = True\n",
    "        go(idx+1, num+A[i])\n",
    "        check[i] = False\n",
    "    return\n",
    "go(0, '')\n",
    "\n",
    "print(ans)"
   ]
  },
  {
   "cell_type": "code",
   "execution_count": null,
   "id": "27ffd774",
   "metadata": {},
   "outputs": [],
   "source": [
    "A, B = input().split()\n",
    "A = list(map(int, A))\n",
    "B = int(B)\n",
    "l = len(A)\n",
    "check = [False] * l\n",
    "\n",
    "def go(idx, num):\n",
    "    if idx == l:\n",
    "        return num\n",
    "\n",
    "    ans = -1\n",
    "    for i in range(l):\n",
    "        if idx == 0 and A[i] == 0:\n",
    "            continue\n",
    "        if check[i]:\n",
    "            continue\n",
    "        check[i] = True\n",
    "        temp = go(idx+1, num*10 + A[i])\n",
    "        if temp < B:\n",
    "            if ans == -1 or ans < temp:\n",
    "                ans = temp\n",
    "        check[i] = False\n",
    "    return ans\n",
    "print(go(0, 0))"
   ]
  },
  {
   "cell_type": "markdown",
   "id": "8060ece2",
   "metadata": {},
   "source": [
    "## 괄호 추가하기\n",
    "https://www.acmicpc.net/problem/16637"
   ]
  },
  {
   "cell_type": "code",
   "execution_count": null,
   "id": "782ae914",
   "metadata": {},
   "outputs": [],
   "source": [
    "n = int(input())\n",
    "oper = list(input())\n",
    "ans = None\n",
    "\n",
    "for i in range(0, n, 2):\n",
    "    oper[i] = int(oper[i])\n",
    "m = (n-1)//2\n",
    "\n",
    "for s in range(1 << m):\n",
    "    ok = True\n",
    "    for i in range(m-1):\n",
    "        if s & 1<<i and s & 1<<i+1:\n",
    "            ok = False\n",
    "\n",
    "    if not ok:\n",
    "        continue\n",
    "        \n",
    "    b = oper[:]\n",
    "    for i in range(m):\n",
    "        if s & 1<<i:\n",
    "            k = 2*i + 1\n",
    "            if b[k] == '+':\n",
    "                b[k-1] += b[k+1]\n",
    "            elif b[k] == '-':\n",
    "                b[k-1] -= b[k+1]\n",
    "            else:\n",
    "                b[k-1] *= b[k+1]\n",
    "            b[k] = '+'\n",
    "            b[k+1] = 0\n",
    "\n",
    "    temp = b[0]\n",
    "    for i in range(m):\n",
    "        k = 2*i + 1\n",
    "        if b[k] == '+':\n",
    "            temp += b[k+1]\n",
    "        elif b[k] == '-':\n",
    "            temp -= b[k+1]\n",
    "        else:\n",
    "            temp *= b[k+1]\n",
    "    if ans is None or ans < temp:\n",
    "        ans = temp\n",
    "print(ans)"
   ]
  }
 ],
 "metadata": {
  "kernelspec": {
   "display_name": "Python 3",
   "language": "python",
   "name": "python3"
  },
  "language_info": {
   "codemirror_mode": {
    "name": "ipython",
    "version": 3
   },
   "file_extension": ".py",
   "mimetype": "text/x-python",
   "name": "python",
   "nbconvert_exporter": "python",
   "pygments_lexer": "ipython3",
   "version": "3.8.8"
  }
 },
 "nbformat": 4,
 "nbformat_minor": 5
}
