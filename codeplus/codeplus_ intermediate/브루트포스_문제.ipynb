{
 "cells": [
  {
   "cell_type": "markdown",
   "id": "72bd6802",
   "metadata": {},
   "source": [
    "## 차량 번호판 1\n",
    "https://www.acmicpc.net/problem/16968"
   ]
  },
  {
   "cell_type": "code",
   "execution_count": null,
   "id": "c16bca8d",
   "metadata": {},
   "outputs": [],
   "source": [
    "n = input()\n",
    "ans = 0\n",
    "def go(idx, s):\n",
    "    if idx == len(n):\n",
    "        global ans\n",
    "        ans += 1\n",
    "        return\n",
    "    \n",
    "    if n[idx] == 'c':\n",
    "        for char in range(ord('a'), ord('z')+1):\n",
    "            if idx == 0 or s[idx-1] != chr(char):\n",
    "                go(idx+1, s+chr(char))\n",
    "\n",
    "    else:\n",
    "        for i in range(10):\n",
    "            if idx == 0 or s[idx-1] != str(i):\n",
    "                go(idx+1, s+str(i))\n",
    "    return\n",
    "\n",
    "go(0, '')\n",
    "print(ans)"
   ]
  },
  {
   "cell_type": "code",
   "execution_count": null,
   "id": "c57076ed",
   "metadata": {},
   "outputs": [],
   "source": [
    "s = input()\n",
    "\n",
    "ans = 1\n",
    "for i, char in enumerate(s):\n",
    "    if char == 'c':\n",
    "        if i == 0:\n",
    "            ans *= 26\n",
    "        else:\n",
    "            if s[i-1] == 'c':\n",
    "                ans *= 25\n",
    "            else:\n",
    "                ans *= 26\n",
    "    else:\n",
    "        if i == 0:\n",
    "            ans *= 10\n",
    "        else:\n",
    "            if s[i-1] == 'd':\n",
    "                ans *= 9\n",
    "            else:\n",
    "                ans *= 10\n",
    "print(ans)"
   ]
  }
 ],
 "metadata": {
  "kernelspec": {
   "display_name": "Python 3",
   "language": "python",
   "name": "python3"
  },
  "language_info": {
   "codemirror_mode": {
    "name": "ipython",
    "version": 3
   },
   "file_extension": ".py",
   "mimetype": "text/x-python",
   "name": "python",
   "nbconvert_exporter": "python",
   "pygments_lexer": "ipython3",
   "version": "3.8.8"
  }
 },
 "nbformat": 4,
 "nbformat_minor": 5
}
