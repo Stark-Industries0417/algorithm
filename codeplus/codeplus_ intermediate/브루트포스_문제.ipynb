{
 "cells": [
  {
   "cell_type": "markdown",
   "id": "747fef77",
   "metadata": {},
   "source": [
    "## 차량 번호판 1\n",
    "https://www.acmicpc.net/problem/16968"
   ]
  },
  {
   "cell_type": "code",
   "execution_count": null,
   "id": "4735cf87",
   "metadata": {},
   "outputs": [],
   "source": [
    "n = input()\n",
    "ans = 0\n",
    "def go(idx, s):\n",
    "    if idx == len(n):\n",
    "        global ans\n",
    "        ans += 1\n",
    "        return\n",
    "    \n",
    "    if n[idx] == 'c':\n",
    "        for char in range(ord('a'), ord('z')+1):\n",
    "            if idx == 0 or s[idx-1] != chr(char):\n",
    "                go(idx+1, s+chr(char))\n",
    "\n",
    "    else:\n",
    "        for i in range(10):\n",
    "            if idx == 0 or s[idx-1] != str(i):\n",
    "                go(idx+1, s+str(i))\n",
    "    return\n",
    "\n",
    "go(0, '')\n",
    "print(ans)"
   ]
  },
  {
   "cell_type": "code",
   "execution_count": null,
   "id": "4afd41f1",
   "metadata": {},
   "outputs": [],
   "source": [
    "s = input()\n",
    "\n",
    "ans = 1\n",
    "for i, char in enumerate(s):\n",
    "    if char == 'c':\n",
    "        if i == 0:\n",
    "            ans *= 26\n",
    "        else:\n",
    "            if s[i-1] == 'c':\n",
    "                ans *= 25\n",
    "            else:\n",
    "                ans *= 26\n",
    "    else:\n",
    "        if i == 0:\n",
    "            ans *= 10\n",
    "        else:\n",
    "            if s[i-1] == 'd':\n",
    "                ans *= 9\n",
    "            else:\n",
    "                ans *= 10\n",
    "print(ans)"
   ]
  },
  {
   "cell_type": "code",
   "execution_count": null,
   "id": "a79abc49",
   "metadata": {},
   "outputs": [],
   "source": [
    "s = input()\n",
    "ans = 1\n",
    "for i in range(len(s)):\n",
    "    cnt = 26 if s[i] == 'c' else 10\n",
    "    if i > 0 and s[i] == s[i-1]:\n",
    "        cnt -= 1\n",
    "    ans *= cnt\n",
    "print(ans)"
   ]
  },
  {
   "cell_type": "markdown",
   "id": "f0cfd6ff",
   "metadata": {},
   "source": [
    "## 양념 반 후라이드 반\n",
    "https://www.acmicpc.net/problem/16917"
   ]
  },
  {
   "cell_type": "code",
   "execution_count": null,
   "id": "5f595fe8",
   "metadata": {},
   "outputs": [],
   "source": [
    "A, B, C, X, Y = map(int, input().split())\n",
    "ans = X*A + Y*B\n",
    "\n",
    "for i in range(1, max(X,Y)*2 + 1):\n",
    "    price = 2*i*C + max(0, X-i)*A + max(0, Y-i)*B\n",
    "    if ans > price:\n",
    "        ans = price\n",
    "print(ans)"
   ]
  },
  {
   "cell_type": "markdown",
   "id": "c3cc6b0e",
   "metadata": {},
   "source": [
    "## 로마 숫자 만들기\n",
    "https://www.acmicpc.net/problem/16922"
   ]
  },
  {
   "cell_type": "code",
   "execution_count": null,
   "id": "4e7b3035",
   "metadata": {},
   "outputs": [],
   "source": [
    "n = int(input())\n",
    "check = [False] * (50*20 + 1)\n",
    "\n",
    "for i in range(n+1):\n",
    "    for j in range(n-i+1):\n",
    "        for k in range(n-i-j+1):\n",
    "            l = n - i - j - k\n",
    "            s = i + 5*j + 10*k + 50*l\n",
    "            check[s] = True\n",
    "print(sum(check))"
   ]
  }
 ],
 "metadata": {
  "kernelspec": {
   "display_name": "Python 3",
   "language": "python",
   "name": "python3"
  },
  "language_info": {
   "codemirror_mode": {
    "name": "ipython",
    "version": 3
   },
   "file_extension": ".py",
   "mimetype": "text/x-python",
   "name": "python",
   "nbconvert_exporter": "python",
   "pygments_lexer": "ipython3",
   "version": "3.8.8"
  }
 },
 "nbformat": 4,
 "nbformat_minor": 5
}
