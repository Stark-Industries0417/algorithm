{
 "cells": [
  {
   "cell_type": "markdown",
   "id": "8174ac41",
   "metadata": {},
   "source": [
    "## 늑대와 양\n",
    "https://www.acmicpc.net/problem/16956"
   ]
  },
  {
   "cell_type": "code",
   "execution_count": null,
   "id": "044a6485",
   "metadata": {},
   "outputs": [],
   "source": [
    "from collections import deque\n",
    "\n",
    "n, m = map(int, input().split())\n",
    "graph = [list(input()) for _ in range(n)]\n",
    "visited = [[False] * m for _ in range(n)]\n",
    "dx, dy = [0, 0, 1, -1], [1, -1, 0, 0]\n",
    "q = deque()\n",
    "for i in range(n):\n",
    "    for j in range(m):\n",
    "        if graph[i][j] == 'S':\n",
    "            q.append((i, j))\n",
    "\n",
    "while q:\n",
    "    x, y = q.popleft()\n",
    "    for k in range(4):\n",
    "        nx, ny = x+dx[k], y+dy[k]\n",
    "        if 0 <= nx < n and 0 <= ny < m:\n",
    "            if graph[nx][ny] == '.':\n",
    "                graph[nx][ny] = 'D'\n",
    "            elif graph[nx][ny] == 'W':\n",
    "                print(0)\n",
    "                exit(0)\n",
    "print(1)\n",
    "for i in range(n):\n",
    "    print(''.join(graph[i]))"
   ]
  },
  {
   "cell_type": "markdown",
   "id": "b68e6c40",
   "metadata": {},
   "source": [
    "## 스타트링크\n",
    "https://www.acmicpc.net/problem/5014"
   ]
  },
  {
   "cell_type": "code",
   "execution_count": null,
   "id": "4fdc2047",
   "metadata": {},
   "outputs": [],
   "source": [
    "from collections import deque\n",
    "\n",
    "F, S, G, U, D = map(int, input().split())\n",
    "visited = [False] * (F+1)\n",
    "visited[S] = True\n",
    "q = deque([(S, 0)])\n",
    "\n",
    "while q:\n",
    "    x, cnt = q.popleft()\n",
    "    if x == G:\n",
    "        print(cnt)\n",
    "        break\n",
    "    for nx in [x+U, x-D]:\n",
    "        if 0 < nx <= F and not visited[nx]:\n",
    "            visited[nx] = True\n",
    "            q.append((nx, cnt+1))\n",
    "else:\n",
    "    print(\"use the stairs\")"
   ]
  },
  {
   "cell_type": "markdown",
   "id": "0dfadf21",
   "metadata": {},
   "source": [
    "## 탈옥\n",
    "https://www.acmicpc.net/problem/9376"
   ]
  },
  {
   "cell_type": "code",
   "execution_count": null,
   "id": "aee9a70b",
   "metadata": {},
   "outputs": [],
   "source": [
    "from collections import deque\n",
    "\n",
    "dx, dy = [0, 0, 1, -1], [1, -1, 0, 0]\n",
    "\n",
    "def bfs(x, y):\n",
    "    dist = [[-1] * m for _ in range(n)]\n",
    "    q = deque([(x, y)])\n",
    "    dist[x][y] = 0\n",
    "    while q:\n",
    "        x, y = q.popleft()\n",
    "        for k in range(4):\n",
    "            nx, ny = x+dx[k], y+dy[k]\n",
    "            if 0 <= nx < n and 0 <= ny < m and dist[nx][ny] == -1 and graph[nx][ny] != '*':\n",
    "                if graph[nx][ny] == '#':\n",
    "                    dist[nx][ny] = dist[x][y] + 1\n",
    "                    q.append((nx, ny))\n",
    "                else:\n",
    "                    dist[nx][ny] = dist[x][y]\n",
    "                    q.appendleft((nx, ny))\n",
    "    \n",
    "    return dist\n",
    "\n",
    "for _ in range(int(input())):\n",
    "    n, m = map(int, input().split())\n",
    "    graph = [list('.' + input() + '.') for _ in range(n)]\n",
    "    n += 2\n",
    "    m += 2\n",
    "    graph = [list('.' * m)] + graph + [list('.' * m)]\n",
    "\n",
    "    temp = []\n",
    "    for i in range(n):\n",
    "        for j in range(m):\n",
    "            if graph[i][j] == '$':\n",
    "                temp.extend([i, j])\n",
    "                graph[i][j] = '.'\n",
    "    \n",
    "    x1, y1, x2, y2 = temp\n",
    "    d1 = bfs(0, 0)\n",
    "    d2 = bfs(x1, y1)\n",
    "    d3 = bfs(x2, y2)\n",
    "\n",
    "    ans = int(1e9)\n",
    "    for i in range(n):\n",
    "        for j in range(m):\n",
    "            if d1[i][j] != -1 and d2[i][j] != -1 and d3[i][j] != -1:\n",
    "                cnt = d1[i][j] + d2[i][j] + d3[i][j]\n",
    "                if graph[i][j] == '#':\n",
    "                    cnt -= 2\n",
    "                ans = min(ans, cnt)\n",
    "\n",
    "    print(ans)"
   ]
  },
  {
   "cell_type": "markdown",
   "id": "990892a6",
   "metadata": {},
   "source": [
    "## 물통\n",
    "https://www.acmicpc.net/problem/2251"
   ]
  },
  {
   "cell_type": "code",
   "execution_count": null,
   "id": "dafc4e2a",
   "metadata": {},
   "outputs": [],
   "source": [
    "from collections import deque\n",
    "\n",
    "a, b, c = map(int, input().split())\n",
    "q = deque([(0, 0)])\n",
    "\n",
    "visited = [[False] * (b+1) for _ in range(a+1)]\n",
    "visited[0][0] = True\n",
    "\n",
    "ans = []\n",
    "\n",
    "def pour(x, y):\n",
    "    if not visited[x][y]:\n",
    "        visited[x][y] = True\n",
    "        q.append((x, y))\n",
    "\n",
    "def bfs():\n",
    "    while q:\n",
    "        x, y = q.popleft()\n",
    "        z = c - x - y\n",
    "\n",
    "        if x == 0:\n",
    "            ans.append(z)\n",
    "        \n",
    "        # A -> B\n",
    "        water = min(x, b - y)\n",
    "        pour(x - water, y + water)\n",
    "\n",
    "        # A -> C\n",
    "        water = min(x, c - z)\n",
    "        pour(x - water, y)\n",
    "\n",
    "        # B -> A\n",
    "        water = min(y, a - x)\n",
    "        pour(x + water, y - water)\n",
    "\n",
    "        # B -> C\n",
    "        water = min(y, c - z)\n",
    "        pour(x, y - water)\n",
    "\n",
    "        # C -> A\n",
    "        water = min(z, a - x)\n",
    "        pour(x + water, y)\n",
    "\n",
    "        # C -> B\n",
    "        water = min(z, b - y)\n",
    "        pour(x, y + water)\n",
    "bfs()\n",
    "ans.sort()\n",
    "print(*ans)"
   ]
  },
  {
   "cell_type": "markdown",
   "id": "aa1ed5d4",
   "metadata": {},
   "source": [
    "## <span style=\"color: red\">모양 만들기</span>\n",
    "https://www.acmicpc.net/problem/16932"
   ]
  },
  {
   "cell_type": "code",
   "execution_count": null,
   "id": "79facc57",
   "metadata": {},
   "outputs": [],
   "source": [
    "# 1000 ^ 4 => 시간 초과\n",
    "\n",
    "from collections import deque\n",
    "n, m = map(int, input().split())\n",
    "graph = [list(map(int, input().split())) for _ in range(n)]\n",
    "dx, dy = [0, 0, 1, -1], [1, -1, 0, 0]\n",
    "\n",
    "def bfs():\n",
    "    visited = [[False] * m for _ in range(n)]\n",
    "    ans = []\n",
    "    for i in range(n):\n",
    "        for j in range(m):\n",
    "            if graph[i][j] == 1 and not visited[i][j]:\n",
    "                q = deque([(i, j)])\n",
    "                visited[i][j] = True\n",
    "                cnt = 1\n",
    "                while q:\n",
    "                    x, y = q.popleft()\n",
    "                    for k in range(4):\n",
    "                        nx, ny = x+dx[k], y+dy[k]\n",
    "                        if 0 <= nx < n and 0 <= ny < m and not visited[nx][ny] and graph[nx][ny] == 1:\n",
    "                            visited[nx][ny] = True\n",
    "                            q.append((nx, ny))\n",
    "                            cnt += 1\n",
    "                ans.append(cnt)\n",
    "    return max(ans)\n",
    "\n",
    "ans = 0\n",
    "for i in range(n):\n",
    "    for j in range(m):\n",
    "        if graph[i][j] == 0:\n",
    "            graph[i][j] = 1\n",
    "            cnt = bfs()\n",
    "            ans = max(ans, cnt)\n",
    "            graph[i][j] = 0\n",
    "print(ans)"
   ]
  },
  {
   "cell_type": "code",
   "execution_count": null,
   "id": "4d890cff",
   "metadata": {},
   "outputs": [],
   "source": [
    "# 시간초과\n",
    "from collections import deque\n",
    "\n",
    "n, m = map(int, input().split())\n",
    "graph = [list(map(int, input().split())) for _ in range(n)]\n",
    "dx, dy = [0, 0, 1, -1], [1, -1, 0, 0]\n",
    "\n",
    "mock = [[0] * m for _ in range(n)]\n",
    "for i in range(n):\n",
    "    for j in range(m):\n",
    "        mock[i][j] = graph[i][j]\n",
    "\n",
    "def bfs(i, j):\n",
    "    cnt = 1\n",
    "    q = deque([(i, j)])\n",
    "    visited = [[False] * m for _ in range(n)]\n",
    "\n",
    "    while q:\n",
    "        x, y = q.popleft()\n",
    "        for k in range(4):\n",
    "            nx, ny = x+dx[k], y+dy[k]\n",
    "            if 0 <= nx < n and 0 <= ny < m and not visited[nx][ny]:\n",
    "                visited[nx][ny] = True\n",
    "                if graph[nx][ny] == 1:\n",
    "                    q.append((nx, ny))\n",
    "                    cnt += 1\n",
    "    mock[i][j] += cnt\n",
    "\n",
    "ans = 0\n",
    "for i in range(n):\n",
    "    for j in range(m):\n",
    "        if graph[i][j] == 0:\n",
    "                bfs(i, j)\n",
    "print(max(map(max, mock)))"
   ]
  },
  {
   "cell_type": "markdown",
   "id": "bc9a80d0",
   "metadata": {},
   "source": [
    "## 말이 되고픈 원숭이\n",
    "https://www.acmicpc.net/problem/1600"
   ]
  },
  {
   "cell_type": "code",
   "execution_count": null,
   "id": "8b621372",
   "metadata": {},
   "outputs": [],
   "source": [
    "from collections import deque\n",
    "\n",
    "dx, dy = [0, 0, 1, -1, 2, 2, -2, -2, 1, 1, -1, -1], [1, -1, 0, 0, 1, -1, 1, -1, 2, -2, 2, -2]\n",
    "count = [0, 0, 0, 0, 1, 1, 1, 1, 1, 1, 1, 1]\n",
    "\n",
    "l = int(input())\n",
    "m, n = map(int, input().split())\n",
    "graph = [list(map(int, input().split())) for _ in range(n)]\n",
    "dist = [[[-1] * (l+1) for _ in range(m)] for _ in range(n)]\n",
    "\n",
    "q = deque([(0, 0, 0)])\n",
    "dist[0][0][0] = 0\n",
    "\n",
    "while q:\n",
    "    x, y, c = q.popleft()\n",
    "    if [x, y] == [n-1, m-1]:\n",
    "        print(dist[x][y][c])\n",
    "        break\n",
    "    for k in range(12):\n",
    "        nx, ny, nc = x+dx[k], y+dy[k], c+count[k]\n",
    "        if 0 <= nx < n and 0 <= ny < m and nc <= l and dist[nx][ny][nc] == -1 and graph[nx][ny] == 0:\n",
    "                dist[nx][ny][nc] = dist[x][y][c] + 1\n",
    "                q.append((nx, ny, nc))\n",
    "                \n",
    "else:\n",
    "    print(-1)"
   ]
  },
  {
   "cell_type": "markdown",
   "id": "fdab0cb5",
   "metadata": {},
   "source": [
    "## 아기 상어 2\n",
    "https://www.acmicpc.net/problem/17086"
   ]
  },
  {
   "cell_type": "markdown",
   "id": "e5cd31b5",
   "metadata": {},
   "source": [
    "## 로봇 청소기\n",
    "https://www.acmicpc.net/problem/4991"
   ]
  },
  {
   "cell_type": "markdown",
   "id": "dd4faeb4",
   "metadata": {},
   "source": [
    "## 거울 설치\n",
    "https://www.acmicpc.net/problem/2151"
   ]
  },
  {
   "cell_type": "markdown",
   "id": "0744d815",
   "metadata": {},
   "source": [
    "## 성곽\n",
    "https://www.acmicpc.net/problem/2234"
   ]
  },
  {
   "cell_type": "markdown",
   "id": "0b0dc7e0",
   "metadata": {},
   "source": [
    "## 새로운 하노이 탑\n",
    "https://www.acmicpc.net/problem/12906"
   ]
  },
  {
   "cell_type": "markdown",
   "id": "9846faf5",
   "metadata": {},
   "source": [
    "## 연구소 2\n",
    "https://www.acmicpc.net/problem/17141"
   ]
  },
  {
   "cell_type": "markdown",
   "id": "dcc5d601",
   "metadata": {},
   "source": [
    "## 연구소 3\n",
    "https://www.acmicpc.net/problem/17142"
   ]
  }
 ],
 "metadata": {
  "kernelspec": {
   "display_name": "Python 3",
   "language": "python",
   "name": "python3"
  },
  "language_info": {
   "codemirror_mode": {
    "name": "ipython",
    "version": 3
   },
   "file_extension": ".py",
   "mimetype": "text/x-python",
   "name": "python",
   "nbconvert_exporter": "python",
   "pygments_lexer": "ipython3",
   "version": "3.8.8"
  }
 },
 "nbformat": 4,
 "nbformat_minor": 5
}
