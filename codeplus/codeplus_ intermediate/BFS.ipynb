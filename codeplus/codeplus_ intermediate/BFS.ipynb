{
 "cells": [
  {
   "cell_type": "markdown",
   "id": "8174ac41",
   "metadata": {},
   "source": [
    "## 늑대와 양\n",
    "https://www.acmicpc.net/problem/16956"
   ]
  },
  {
   "cell_type": "code",
   "execution_count": null,
   "id": "044a6485",
   "metadata": {},
   "outputs": [],
   "source": [
    "from collections import deque\n",
    "\n",
    "n, m = map(int, input().split())\n",
    "graph = [list(input()) for _ in range(n)]\n",
    "visited = [[False] * m for _ in range(n)]\n",
    "dx, dy = [0, 0, 1, -1], [1, -1, 0, 0]\n",
    "q = deque()\n",
    "for i in range(n):\n",
    "    for j in range(m):\n",
    "        if graph[i][j] == 'S':\n",
    "            q.append((i, j))\n",
    "\n",
    "while q:\n",
    "    x, y = q.popleft()\n",
    "    for k in range(4):\n",
    "        nx, ny = x+dx[k], y+dy[k]\n",
    "        if 0 <= nx < n and 0 <= ny < m:\n",
    "            if graph[nx][ny] == '.':\n",
    "                graph[nx][ny] = 'D'\n",
    "            elif graph[nx][ny] == 'W':\n",
    "                print(0)\n",
    "                exit(0)\n",
    "print(1)\n",
    "for i in range(n):\n",
    "    print(''.join(graph[i]))"
   ]
  },
  {
   "cell_type": "markdown",
   "id": "b68e6c40",
   "metadata": {},
   "source": [
    "## 스타트링크\n",
    "https://www.acmicpc.net/problem/5014"
   ]
  },
  {
   "cell_type": "markdown",
   "id": "0dfadf21",
   "metadata": {},
   "source": [
    "## 탈옥\n",
    "https://www.acmicpc.net/problem/9376"
   ]
  },
  {
   "cell_type": "markdown",
   "id": "990892a6",
   "metadata": {},
   "source": [
    "## 물통\n",
    "https://www.acmicpc.net/problem/2251"
   ]
  },
  {
   "cell_type": "markdown",
   "id": "aa1ed5d4",
   "metadata": {},
   "source": [
    "## 모양 만들기\n",
    "https://www.acmicpc.net/problem/16932"
   ]
  },
  {
   "cell_type": "markdown",
   "id": "bc9a80d0",
   "metadata": {},
   "source": [
    "## 말이 되고픈 원숭이\n",
    "https://www.acmicpc.net/problem/1600"
   ]
  },
  {
   "cell_type": "markdown",
   "id": "fdab0cb5",
   "metadata": {},
   "source": [
    "## 아기 상어 2\n",
    "https://www.acmicpc.net/problem/17086"
   ]
  },
  {
   "cell_type": "markdown",
   "id": "e5cd31b5",
   "metadata": {},
   "source": [
    "## 로봇 청소기\n",
    "https://www.acmicpc.net/problem/4991"
   ]
  },
  {
   "cell_type": "markdown",
   "id": "dd4faeb4",
   "metadata": {},
   "source": [
    "## 거울 설치\n",
    "https://www.acmicpc.net/problem/2151"
   ]
  },
  {
   "cell_type": "markdown",
   "id": "0744d815",
   "metadata": {},
   "source": [
    "## 성곽\n",
    "https://www.acmicpc.net/problem/2234"
   ]
  },
  {
   "cell_type": "markdown",
   "id": "0b0dc7e0",
   "metadata": {},
   "source": [
    "## 새로운 하노이 탑\n",
    "https://www.acmicpc.net/problem/12906"
   ]
  },
  {
   "cell_type": "markdown",
   "id": "9846faf5",
   "metadata": {},
   "source": [
    "## 연구소 2\n",
    "https://www.acmicpc.net/problem/17141"
   ]
  },
  {
   "cell_type": "markdown",
   "id": "dcc5d601",
   "metadata": {},
   "source": [
    "## 연구소 3\n",
    "https://www.acmicpc.net/problem/17142"
   ]
  }
 ],
 "metadata": {
  "kernelspec": {
   "display_name": "Python 3",
   "language": "python",
   "name": "python3"
  },
  "language_info": {
   "codemirror_mode": {
    "name": "ipython",
    "version": 3
   },
   "file_extension": ".py",
   "mimetype": "text/x-python",
   "name": "python",
   "nbconvert_exporter": "python",
   "pygments_lexer": "ipython3",
   "version": "3.8.8"
  }
 },
 "nbformat": 4,
 "nbformat_minor": 5
}
