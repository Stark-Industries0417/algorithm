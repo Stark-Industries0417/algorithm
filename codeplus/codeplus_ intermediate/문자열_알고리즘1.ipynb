{
 "cells": [
  {
   "cell_type": "markdown",
   "id": "99d6f085",
   "metadata": {},
   "source": [
    "## 부분 문자열\n",
    "https://www.acmicpc.net/problem/16916"
   ]
  },
  {
   "cell_type": "code",
   "execution_count": null,
   "id": "3c0e7480",
   "metadata": {},
   "outputs": [],
   "source": [
    "s = input()\n",
    "p = input()\n",
    "\n",
    "print(int(p in s))"
   ]
  },
  {
   "cell_type": "markdown",
   "id": "10e54faa",
   "metadata": {},
   "source": [
    "## 찾기\n",
    "https://www.acmicpc.net/problem/1786"
   ]
  },
  {
   "cell_type": "markdown",
   "id": "fc6830df",
   "metadata": {},
   "source": [
    "## 광고\n",
    "https://www.acmicpc.net/problem/1305"
   ]
  },
  {
   "cell_type": "markdown",
   "id": "a96fcd80",
   "metadata": {},
   "source": [
    "## Cubeditor\n",
    "https://www.acmicpc.net/problem/1701"
   ]
  },
  {
   "cell_type": "markdown",
   "id": "15dc512a",
   "metadata": {},
   "source": [
    "## 문자열 집합\n",
    "https://www.acmicpc.net/problem/14425"
   ]
  },
  {
   "cell_type": "markdown",
   "id": "9e411e4b",
   "metadata": {},
   "source": [
    "## 접두사 찾기\n",
    "https://www.acmicpc.net/problem/14426"
   ]
  },
  {
   "cell_type": "markdown",
   "id": "1f5593c8",
   "metadata": {},
   "source": [
    "## 두 수 XOR\n",
    "https://www.acmicpc.net/problem/13505"
   ]
  },
  {
   "cell_type": "markdown",
   "id": "6dabb1e1",
   "metadata": {},
   "source": [
    "## 문자열 집합 판별\n",
    "https://www.acmicpc.net/problem/9250"
   ]
  },
  {
   "cell_type": "markdown",
   "id": "5bf892f1",
   "metadata": {},
   "source": [
    "## 돌연변이\n",
    "https://www.acmicpc.net/problem/10256"
   ]
  }
 ],
 "metadata": {
  "kernelspec": {
   "display_name": "Python 3",
   "language": "python",
   "name": "python3"
  },
  "language_info": {
   "codemirror_mode": {
    "name": "ipython",
    "version": 3
   },
   "file_extension": ".py",
   "mimetype": "text/x-python",
   "name": "python",
   "nbconvert_exporter": "python",
   "pygments_lexer": "ipython3",
   "version": "3.8.8"
  }
 },
 "nbformat": 4,
 "nbformat_minor": 5
}
