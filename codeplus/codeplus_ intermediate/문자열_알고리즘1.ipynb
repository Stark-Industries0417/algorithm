{
 "cells": [
  {
   "cell_type": "markdown",
   "id": "99d6f085",
   "metadata": {},
   "source": [
    "## 부분 문자열\n",
    "https://www.acmicpc.net/problem/16916"
   ]
  },
  {
   "cell_type": "code",
   "execution_count": null,
   "id": "ba213e8c",
   "metadata": {},
   "outputs": [],
   "source": [
    "s = input()\n",
    "p = input()\n",
    "\n",
    "print(int(p in s))"
   ]
  },
  {
   "cell_type": "markdown",
   "id": "10e54faa",
   "metadata": {},
   "source": [
    "## 찾기\n",
    "https://www.acmicpc.net/problem/1786"
   ]
  },
  {
   "cell_type": "code",
   "execution_count": null,
   "id": "662aff38",
   "metadata": {},
   "outputs": [],
   "source": [
    "T = input()\n",
    "P = input()\n",
    "\n",
    "l = len(P)\n",
    "pi = [0] * l\n",
    "\n",
    "j = 0\n",
    "for i in range(1, l):\n",
    "    while j > 0 and P[i] != P[j]:\n",
    "        j = pi[j-1]\n",
    "    \n",
    "    if P[i] == P[j]:\n",
    "        j += 1\n",
    "        pi[i] = j\n",
    "\n",
    "result = []\n",
    "count = 0\n",
    "\n",
    "j = 0\n",
    "for i in range(len(T)):\n",
    "    while j > 0 and T[i] != P[j]:\n",
    "        j = pi[j-1]\n",
    "    \n",
    "    if T[i] == P[j]:\n",
    "        if j == l - 1:\n",
    "            result.append(i - l + 2)\n",
    "            count += 1\n",
    "            j = pi[j]\n",
    "        else:\n",
    "            j += 1\n",
    "\n",
    "print(count)\n",
    "print(*[elem for elem in result])"
   ]
  },
  {
   "cell_type": "markdown",
   "id": "fc6830df",
   "metadata": {},
   "source": [
    "## 광고\n",
    "https://www.acmicpc.net/problem/1305"
   ]
  },
  {
   "cell_type": "code",
   "execution_count": null,
   "id": "6da3b71b",
   "metadata": {},
   "outputs": [],
   "source": [
    "l = int(input())\n",
    "s = input()\n",
    "pi = [0] * len(s)\n",
    "\n",
    "j = 0\n",
    "for i in range(1, len(s)):\n",
    "    while j > 0 and s[i] != s[j]:\n",
    "        j = pi[j-1]\n",
    "    \n",
    "    if s[i] == s[j]:\n",
    "        j += 1\n",
    "        pi[i] = j\n",
    "\n",
    "print(l - pi[-1])"
   ]
  },
  {
   "cell_type": "markdown",
   "id": "a96fcd80",
   "metadata": {},
   "source": [
    "## Cubeditor\n",
    "https://www.acmicpc.net/problem/1701"
   ]
  },
  {
   "cell_type": "code",
   "execution_count": null,
   "id": "c9fc707f",
   "metadata": {},
   "outputs": [],
   "source": [
    "def make_pi(p):\n",
    "    l = len(p)\n",
    "    pi = [0] * l\n",
    "    \n",
    "    j = 0\n",
    "    for i in range(1, l):\n",
    "        while j > 0 and p[i] != p[j]:\n",
    "            j = pi[j-1]\n",
    "        \n",
    "        if p[i] == p[j]:\n",
    "            j += 1\n",
    "            pi[i] = j\n",
    "    return max(pi)\n",
    "\n",
    "s = input()\n",
    "result = 0\n",
    "\n",
    "for idx in range(l := len(s)):\n",
    "    sub_str = s[idx:l]\n",
    "    result = max(result, make_pi(sub_str))\n",
    "\n",
    "print(result)"
   ]
  },
  {
   "cell_type": "markdown",
   "id": "15dc512a",
   "metadata": {},
   "source": [
    "## 문자열 집합\n",
    "https://www.acmicpc.net/problem/14425"
   ]
  },
  {
   "cell_type": "code",
   "execution_count": null,
   "id": "f2930372",
   "metadata": {},
   "outputs": [],
   "source": [
    "n, m = map(int, input().split())\n",
    "s = {input(): 0 for _ in range(n)}\n",
    "\n",
    "cnt = 0\n",
    "for _ in range(m):\n",
    "    try:\n",
    "        s[input()]\n",
    "        cnt += 1\n",
    "    except:\n",
    "        pass\n",
    "print(cnt)"
   ]
  },
  {
   "cell_type": "markdown",
   "id": "9e411e4b",
   "metadata": {},
   "source": [
    "## 접두사 찾기\n",
    "https://www.acmicpc.net/problem/14426"
   ]
  },
  {
   "cell_type": "markdown",
   "id": "1f5593c8",
   "metadata": {},
   "source": [
    "## 두 수 XOR\n",
    "https://www.acmicpc.net/problem/13505"
   ]
  },
  {
   "cell_type": "markdown",
   "id": "6dabb1e1",
   "metadata": {},
   "source": [
    "## 문자열 집합 판별\n",
    "https://www.acmicpc.net/problem/9250"
   ]
  },
  {
   "cell_type": "markdown",
   "id": "5bf892f1",
   "metadata": {},
   "source": [
    "## 돌연변이\n",
    "https://www.acmicpc.net/problem/10256"
   ]
  }
 ],
 "metadata": {
  "kernelspec": {
   "display_name": "Python 3",
   "language": "python",
   "name": "python3"
  },
  "language_info": {
   "codemirror_mode": {
    "name": "ipython",
    "version": 3
   },
   "file_extension": ".py",
   "mimetype": "text/x-python",
   "name": "python",
   "nbconvert_exporter": "python",
   "pygments_lexer": "ipython3",
   "version": "3.8.8"
  }
 },
 "nbformat": 4,
 "nbformat_minor": 5
}
