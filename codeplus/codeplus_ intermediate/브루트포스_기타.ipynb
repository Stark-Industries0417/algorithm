{
 "cells": [
  {
   "cell_type": "markdown",
   "id": "fe94e9a6",
   "metadata": {},
   "source": [
    "## 수들의 합 2\n",
    "https://www.acmicpc.net/problem/2003"
   ]
  },
  {
   "cell_type": "code",
   "execution_count": null,
   "id": "f1a17fe7",
   "metadata": {},
   "outputs": [],
   "source": [
    "n, m = map(int, input().split())\n",
    "arr = list(map(int, input().split()))\n",
    "ans = s = right = 0\n",
    "for left in range(n):\n",
    "    while s < m and right < n:\n",
    "        s += arr[right]\n",
    "        right += 1\n",
    "    if s == m:\n",
    "        ans += 1\n",
    "    s -= arr[left]\n",
    "print(ans)"
   ]
  }
 ],
 "metadata": {
  "kernelspec": {
   "display_name": "Python 3",
   "language": "python",
   "name": "python3"
  },
  "language_info": {
   "codemirror_mode": {
    "name": "ipython",
    "version": 3
   },
   "file_extension": ".py",
   "mimetype": "text/x-python",
   "name": "python",
   "nbconvert_exporter": "python",
   "pygments_lexer": "ipython3",
   "version": "3.8.8"
  }
 },
 "nbformat": 4,
 "nbformat_minor": 5
}
