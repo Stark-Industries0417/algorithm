{
 "cells": [
  {
   "cell_type": "markdown",
   "id": "fe94e9a6",
   "metadata": {},
   "source": [
    "## 수들의 합 2\n",
    "https://www.acmicpc.net/problem/2003"
   ]
  },
  {
   "cell_type": "code",
   "execution_count": null,
   "id": "f1a17fe7",
   "metadata": {},
   "outputs": [],
   "source": [
    "n, m = map(int, input().split())\n",
    "arr = list(map(int, input().split()))\n",
    "ans = s = right = 0\n",
    "for left in range(n):\n",
    "    while s < m and right < n:\n",
    "        s += arr[right]\n",
    "        right += 1\n",
    "    if s == m:\n",
    "        ans += 1\n",
    "    s -= arr[left]\n",
    "print(ans)"
   ]
  },
  {
   "cell_type": "markdown",
   "id": "29747457",
   "metadata": {},
   "source": [
    "## 부분합\n",
    "https://www.acmicpc.net/problem/1806"
   ]
  },
  {
   "cell_type": "code",
   "execution_count": null,
   "id": "5b8d5ad8",
   "metadata": {},
   "outputs": [],
   "source": [
    "n, m = map(int, input().split())\n",
    "arr = list(map(int, input().split()))\n",
    "\n",
    "left = right = 0\n",
    "s = arr[0]\n",
    "ans = 1e9\n",
    "\n",
    "while left <= right and right < n:\n",
    "    if s >= m:\n",
    "        s -= arr[left]\n",
    "        ans = min(ans, right - left + 1)\n",
    "        left += 1\n",
    "    else:\n",
    "        right += 1\n",
    "        if right < n:\n",
    "            s += arr[right]\n",
    "\n",
    "print(0 if ans == 1e9 else ans)"
   ]
  },
  {
   "cell_type": "markdown",
   "id": "1f184b67",
   "metadata": {},
   "source": [
    "## 소수의 연속합\n",
    "https://www.acmicpc.net/problem/1644"
   ]
  },
  {
   "cell_type": "code",
   "execution_count": 1,
   "id": "2a21e884",
   "metadata": {},
   "outputs": [
    {
     "data": {
      "text/plain": [
       "[]"
      ]
     },
     "execution_count": 1,
     "metadata": {},
     "output_type": "execute_result"
    }
   ],
   "source": [
    "n = int(input())\n",
    "check = [False]*2 + [True] * (n-1)\n",
    "\n",
    "prime = []\n",
    "for i in range(2, n+1):\n",
    "    if check[i]:\n",
    "        prime.append(i)\n",
    "        for j in range(i**2, n+1, i):\n",
    "            check[j] = False\n",
    "\n",
    "if n < 2:\n",
    "    print(0)\n",
    "    exit(0)\n",
    "\n",
    "s = prime[0]\n",
    "l = len(prime)\n",
    "ans = right = left = 0\n",
    "while left <= right and right < l:\n",
    "    if s == n:\n",
    "        s -= prime[left]\n",
    "        ans += 1\n",
    "        left += 1\n",
    "    elif s < n:\n",
    "        right += 1\n",
    "        if right < l:\n",
    "            s += prime[right]\n",
    "    else:\n",
    "        s -= prime[left]\n",
    "        left += 1\n",
    "print(ans)"
   ]
  },
  {
   "cell_type": "code",
   "execution_count": null,
   "id": "e19bad5b",
   "metadata": {},
   "outputs": [],
   "source": [
    "n = int(input())\n",
    "check = [False]*2 + [True] * (n-1)\n",
    "\n",
    "prime = []\n",
    "for i in range(2, n+1):\n",
    "    if check[i]:\n",
    "        prime.append(i)\n",
    "        for j in range(i**2, n+1, i):\n",
    "            check[j] = False\n",
    "\n",
    "ans = right = left = 0\n",
    "while right <= len(prime):\n",
    "    s = sum(prime[left:right])\n",
    "    if s == n:\n",
    "        ans += 1\n",
    "        right += 1\n",
    "    elif s < n:\n",
    "        right += 1\n",
    "    else:\n",
    "        left += 1\n",
    "print(ans)"
   ]
  },
  {
   "cell_type": "markdown",
   "id": "a75a4512",
   "metadata": {},
   "source": [
    "## 부분수열의 합 2\n",
    "https://www.acmicpc.net/problem/1208"
   ]
  },
  {
   "cell_type": "code",
   "execution_count": null,
   "id": "ec265c9f",
   "metadata": {},
   "outputs": [],
   "source": [
    "n, s = map(int, input().split())\n",
    "a = list(map(int, input().split()))\n",
    "m = n // 2\n",
    "n = n - m\n",
    "\n",
    "first = [0] * (1 << n)\n",
    "for i in range(1 << n):\n",
    "    for j in range(n):\n",
    "        if i & (1 << j):\n",
    "            first[i] += a[j]\n",
    "\n",
    "second = [0] * (1 << m)\n",
    "for i in range(1 << m):\n",
    "    for j in range(m):\n",
    "        if i & (1 << j):\n",
    "            second[i] += a[j+n]\n",
    "first.sort(), second.sort(reverse=True)\n",
    "\n",
    "left = right = ans = 0\n",
    "n, m = 1 << n, 1 << m\n",
    "while left < n and right < m:\n",
    "    if first[left] + second[right] == s:\n",
    "        c1 = c2 = 1\n",
    "        left += 1; right += 1\n",
    "        \n",
    "        while left < n and first[left] == first[left-1]:\n",
    "            c1 += 1\n",
    "            left += 1\n",
    "        while right < m and second[right] == second[right-1]:\n",
    "            c2 += 1\n",
    "            right += 1\n",
    "        ans += c1*c2\n",
    "    elif first[left] + second[right] < s:\n",
    "        left += 1\n",
    "    else:\n",
    "        right += 1\n",
    "\n",
    "if s == 0:\n",
    "    ans -= 1\n",
    "print(ans)"
   ]
  }
 ],
 "metadata": {
  "kernelspec": {
   "display_name": "Python 3",
   "language": "python",
   "name": "python3"
  },
  "language_info": {
   "codemirror_mode": {
    "name": "ipython",
    "version": 3
   },
   "file_extension": ".py",
   "mimetype": "text/x-python",
   "name": "python",
   "nbconvert_exporter": "python",
   "pygments_lexer": "ipython3",
   "version": "3.8.8"
  }
 },
 "nbformat": 4,
 "nbformat_minor": 5
}
