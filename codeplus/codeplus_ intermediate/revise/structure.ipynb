{
 "cells": [
  {
   "attachments": {},
   "cell_type": "markdown",
   "metadata": {},
   "source": [
    "## 문자열 폭발\n",
    "https://www.acmicpc.net/problem/9935"
   ]
  },
  {
   "cell_type": "code",
   "execution_count": null,
   "metadata": {},
   "outputs": [],
   "source": [
    "words = input()\n",
    "bomb = list(input())\n",
    "\n",
    "stack = []\n",
    "for word in words:\n",
    "    stack.append(word)\n",
    "    if stack and stack[-len(bomb):] == bomb:\n",
    "        for _ in range(len(bomb)):\n",
    "            stack.pop()\n",
    "print(*stack if stack else \"FRULA\", sep='')"
   ]
  }
 ],
 "metadata": {
  "kernelspec": {
   "display_name": "Python 3",
   "language": "python",
   "name": "python3"
  },
  "language_info": {
   "name": "python",
   "version": "3.9.6"
  },
  "orig_nbformat": 4
 },
 "nbformat": 4,
 "nbformat_minor": 2
}
