{
 "cells": [
  {
   "attachments": {},
   "cell_type": "markdown",
   "metadata": {},
   "source": [
    "## 문자열 폭발\n",
    "https://www.acmicpc.net/problem/9935"
   ]
  },
  {
   "cell_type": "code",
   "execution_count": null,
   "metadata": {},
   "outputs": [],
   "source": [
    "words = input()\n",
    "bomb = list(input())\n",
    "\n",
    "stack = []\n",
    "for word in words:\n",
    "    stack.append(word)\n",
    "    if stack and stack[-len(bomb):] == bomb:\n",
    "        for _ in range(len(bomb)):\n",
    "            stack.pop()\n",
    "print(*stack if stack else \"FRULA\", sep='')"
   ]
  },
  {
   "attachments": {},
   "cell_type": "markdown",
   "metadata": {},
   "source": [
    "## 히스토그램에서 가장 큰 직사각형\n",
    "https://www.acmicpc.net/problem/6549"
   ]
  },
  {
   "cell_type": "code",
   "execution_count": null,
   "metadata": {},
   "outputs": [],
   "source": [
    "while True:\n",
    "    n, *histo = list(map(int, input().split()))\n",
    "    if not n:\n",
    "        break\n",
    "    ans = 0\n",
    "    stack = []\n",
    "    for idx in range(len(histo)):\n",
    "        while stack and histo[stack[-1]] > histo[idx]:\n",
    "            height = histo[stack.pop()]\n",
    "            width = idx\n",
    "            if stack:\n",
    "                width = idx - stack[-1] - 1\n",
    "            ans = max(ans, width * height)\n",
    "        stack.append(idx)\n",
    "    \n",
    "    while stack:\n",
    "        height = histo[stack.pop()]\n",
    "        width = n\n",
    "        if stack:\n",
    "            width = n - stack[-1] - 1\n",
    "        ans = max(ans, width * height)\n",
    "    print(ans)"
   ]
  }
 ],
 "metadata": {
  "kernelspec": {
   "display_name": "Python 3",
   "language": "python",
   "name": "python3"
  },
  "language_info": {
   "name": "python",
   "version": "3.9.6"
  },
  "orig_nbformat": 4
 },
 "nbformat": 4,
 "nbformat_minor": 2
}
