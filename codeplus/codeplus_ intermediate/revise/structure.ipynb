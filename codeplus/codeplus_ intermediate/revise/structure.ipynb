{
 "cells": [
  {
   "attachments": {},
   "cell_type": "markdown",
   "metadata": {},
   "source": [
    "## 문자열 폭발\n",
    "https://www.acmicpc.net/problem/9935"
   ]
  },
  {
   "cell_type": "code",
   "execution_count": null,
   "metadata": {},
   "outputs": [],
   "source": [
    "words = input()\n",
    "bomb = list(input())\n",
    "\n",
    "stack = []\n",
    "for word in words:\n",
    "    stack.append(word)\n",
    "    if stack and stack[-len(bomb):] == bomb:\n",
    "        for _ in range(len(bomb)):\n",
    "            stack.pop()\n",
    "print(*stack if stack else \"FRULA\", sep='')"
   ]
  },
  {
   "attachments": {},
   "cell_type": "markdown",
   "metadata": {},
   "source": [
    "## 히스토그램에서 가장 큰 직사각형\n",
    "https://www.acmicpc.net/problem/6549"
   ]
  },
  {
   "cell_type": "code",
   "execution_count": null,
   "metadata": {},
   "outputs": [],
   "source": [
    "while True:\n",
    "    n, *histo = list(map(int, input().split()))\n",
    "    if not n:\n",
    "        break\n",
    "    ans = 0\n",
    "    stack = []\n",
    "    for idx in range(len(histo)):\n",
    "        while stack and histo[stack[-1]] > histo[idx]:\n",
    "            height = histo[stack.pop()]\n",
    "            width = idx\n",
    "            if stack:\n",
    "                width = idx - stack[-1] - 1\n",
    "            ans = max(ans, width * height)\n",
    "        stack.append(idx)\n",
    "    \n",
    "    while stack:\n",
    "        height = histo[stack.pop()]\n",
    "        width = n\n",
    "        if stack:\n",
    "            width = n - stack[-1] - 1\n",
    "        ans = max(ans, width * height)\n",
    "    print(ans)"
   ]
  },
  {
   "attachments": {},
   "cell_type": "markdown",
   "metadata": {},
   "source": [
    "## 오아시스 재결합\n",
    "https://www.acmicpc.net/problem/3015"
   ]
  },
  {
   "cell_type": "code",
   "execution_count": null,
   "metadata": {},
   "outputs": [],
   "source": [
    "oasis = [int(input()) for _ in range(int(input()))]\n",
    "stack = []\n",
    "result = 0\n",
    "for o in oasis:\n",
    "    while stack and stack[-1][0] < o:\n",
    "        result += stack.pop()[1]\n",
    "    if not stack:\n",
    "        stack.append((o, 1))\n",
    "        continue\n",
    "\n",
    "    if stack[-1][0] == o:\n",
    "        cnt = stack.pop()[1]\n",
    "        result += cnt\n",
    "\n",
    "        if stack:\n",
    "            result += 1\n",
    "        stack.append((o, cnt+1))\n",
    "    else:\n",
    "        stack.append((o, 1))\n",
    "        result += 1\n",
    "print(result)"
   ]
  },
  {
   "attachments": {},
   "cell_type": "markdown",
   "metadata": {},
   "source": [
    "## 최대 힙\n",
    "https://www.acmicpc.net/problem/11279"
   ]
  },
  {
   "cell_type": "code",
   "execution_count": null,
   "metadata": {},
   "outputs": [],
   "source": [
    "import heapq, sys\n",
    "input = sys.stdin.readline\n",
    "\n",
    "heap = []\n",
    "for _ in range(int(input())):\n",
    "    n = int(input())\n",
    "    if n == 0:\n",
    "        try:\n",
    "            print(-heapq.heappop(heap))\n",
    "        except:\n",
    "            print(0)\n",
    "    else:\n",
    "        heapq.heappush(heap, -n)"
   ]
  },
  {
   "attachments": {},
   "cell_type": "markdown",
   "metadata": {},
   "source": [
    "## 가운데를 말해요\n",
    "https://www.acmicpc.net/problem/1655"
   ]
  },
  {
   "cell_type": "code",
   "execution_count": null,
   "metadata": {},
   "outputs": [],
   "source": [
    "import heapq\n",
    "left, right, ans = [], [], []\n",
    "\n",
    "for _ in range(int(input())):\n",
    "    n = int(input())\n",
    "\n",
    "    if len(left) == len(right):\n",
    "        heapq.heappush(left, -n)\n",
    "    else:\n",
    "        heapq.heappush(right, n)\n",
    "    \n",
    "    if right and -left[0] > right[0]:\n",
    "        left_val = -heapq.heappop(left)\n",
    "        right_val = heapq.heappop(right)\n",
    "\n",
    "        heapq.heappush(left, -right_val)\n",
    "        heapq.heappush(right, left_val)\n",
    "\n",
    "    ans.append(-left[0])\n",
    "print(*[elem for elem in ans], sep=\"\\n\")"
   ]
  },
  {
   "attachments": {},
   "cell_type": "markdown",
   "metadata": {},
   "source": [
    "## 회사에 있는 사람\n",
    "https://www.acmicpc.net/problem/7785"
   ]
  },
  {
   "cell_type": "code",
   "execution_count": null,
   "metadata": {},
   "outputs": [],
   "source": [
    "office = dict()\n",
    "\n",
    "for _ in range(int(input())):\n",
    "    name, record = input().split()\n",
    "    if record == 'enter':\n",
    "        office[name] = 1\n",
    "    else:\n",
    "        del office[name]\n",
    "\n",
    "print(*sorted(office, reverse=True), sep=\"\\n\")"
   ]
  },
  {
   "attachments": {},
   "cell_type": "markdown",
   "metadata": {},
   "source": [
    "## 검열\n",
    "https://www.acmicpc.net/problem/3111"
   ]
  },
  {
   "cell_type": "code",
   "execution_count": null,
   "metadata": {},
   "outputs": [],
   "source": [
    "import sys\n",
    "input = sys.stdin.readline\n",
    "\n",
    "word = list(input().rstrip())\n",
    "text = input().rstrip()\n",
    "\n",
    "reverse_word = word[::-1]\n",
    "\n",
    "front, back = [], []\n",
    "frontIdx, backIdx = 0, len(text) - 1\n",
    "flag = True\n",
    "\n",
    "while frontIdx <= backIdx:\n",
    "    if flag:\n",
    "        front.append(text[frontIdx])\n",
    "        frontIdx += 1\n",
    "        if front[-len(word):] == word:\n",
    "            front[-len(word):] = []\n",
    "            flag = False\n",
    "    else:\n",
    "        back.append(text[backIdx])\n",
    "        backIdx-= 1\n",
    "        if back[-len(word):] == reverse_word:\n",
    "            back[-len(word):] = []\n",
    "            flag = True\n",
    "\n",
    "while back:\n",
    "    front.append(back.pop())\n",
    "    if front[-len(word):] == word:\n",
    "        front[-len(word):] = []\n",
    "\n",
    "print(''.join(front))"
   ]
  }
 ],
 "metadata": {
  "kernelspec": {
   "display_name": "Python 3",
   "language": "python",
   "name": "python3"
  },
  "language_info": {
   "name": "python",
   "version": "3.9.6"
  },
  "orig_nbformat": 4
 },
 "nbformat": 4,
 "nbformat_minor": 2
}
