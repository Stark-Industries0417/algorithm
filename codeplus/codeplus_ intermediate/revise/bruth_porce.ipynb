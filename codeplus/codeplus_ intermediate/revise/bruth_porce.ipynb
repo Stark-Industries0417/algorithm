{
 "cells": [
  {
   "cell_type": "markdown",
   "metadata": {},
   "source": [
    "## 차량 번호판1\n",
    "https://www.acmicpc.net/problem/16968"
   ]
  },
  {
   "cell_type": "code",
   "execution_count": null,
   "metadata": {},
   "outputs": [],
   "source": [
    "s = input()\n",
    "ans = 1\n",
    "for i in range(len(s)):\n",
    "    cnt = 26 if s[i] == 'c' else 10\n",
    "    if i > 0 and s[i] == s[i-1]:\n",
    "        cnt -= 1\n",
    "    ans *= cnt\n",
    "print(ans)"
   ]
  },
  {
   "cell_type": "markdown",
   "metadata": {},
   "source": [
    "## 양념 반 후라이드 반\n",
    "https://www.acmicpc.net/problem/16917"
   ]
  },
  {
   "cell_type": "code",
   "execution_count": null,
   "metadata": {},
   "outputs": [],
   "source": [
    "A, B, C, X, Y = list(map(int, input().split()))\n",
    "\n",
    "ans = A*X + B*Y\n",
    "\n",
    "for i in range(1, max(X, Y) + 1):\n",
    "    price = 2*i*C + max(0, X-i)*A + max(0, Y-i)*B\n",
    "    ans = min(ans, price)\n",
    "\n",
    "print(ans)"
   ]
  },
  {
   "cell_type": "markdown",
   "metadata": {},
   "source": [
    "## 로마 숫자 만들기\n",
    "https://www.acmicpc.net/problem/16922"
   ]
  },
  {
   "cell_type": "code",
   "execution_count": null,
   "metadata": {},
   "outputs": [],
   "source": [
    "n = int(input())\n",
    "\n",
    "check = [False] * (50*20+1)\n",
    "\n",
    "for i in range(n+1):\n",
    "    for j in range(n-i+1):\n",
    "        for k in range(n-i-j+1):\n",
    "            l = n - i - j - k\n",
    "            s = i*1 + j*5 + k*10 + l*50\n",
    "            check[s] = True\n",
    "\n",
    "print(sum(check))"
   ]
  },
  {
   "cell_type": "code",
   "execution_count": null,
   "metadata": {},
   "outputs": [],
   "source": [
    "from itertools import combinations_with_replacement\n",
    "\n",
    "n = int(input())\n",
    "result = []\n",
    "numbers = [1, 5, 10 ,50]\n",
    "\n",
    "for temp in combinations_with_replacement(range(4), n):\n",
    "    s = 0\n",
    "    for i in temp:\n",
    "        s += numbers[i]\n",
    "    result.append(s)\n",
    "\n",
    "print(len(set(result)))"
   ]
  },
  {
   "cell_type": "markdown",
   "metadata": {},
   "source": [
    "## 십자가 찾기\n",
    "https://www.acmicpc.net/problem/16924"
   ]
  },
  {
   "cell_type": "code",
   "execution_count": null,
   "metadata": {},
   "outputs": [],
   "source": [
    "N, M = map(int, input().split())\n",
    "graph = [input() for _ in range(N)]\n",
    "check = [[False] * M for _ in range(N)]\n",
    "ans = []\n",
    "\n",
    "for i in range(N):\n",
    "    for j in range(M):\n",
    "        if graph[i][j] != '*':\n",
    "            continue\n",
    "        \n",
    "        k = 1\n",
    "        while i-k >= 0 and i+k < N and j-k >= 0 and j+k < M:\n",
    "            if graph[i+k][j] == graph[i-k][j] == graph[i][j+k] == graph[i][j-k] == '*':\n",
    "                ans.append((i+1, j+1, k))\n",
    "                k += 1\n",
    "            else:\n",
    "                break\n",
    "        \n",
    "        if k > 1:\n",
    "            check[i][j] = True\n",
    "            for l in range(1, k):\n",
    "                check[i+l][j] = True\n",
    "                check[i-l][j] = True\n",
    "                check[i][j+l] = True\n",
    "                check[i][j-l] = True\n",
    "\n",
    "for i in range(N):\n",
    "    for j in range(M):\n",
    "        if graph[i][j] == '*' and not check[i][j]:\n",
    "            print(-1)\n",
    "            exit(0)\n",
    "\n",
    "print(len(ans))\n",
    "for elem in ans:\n",
    "    print(*elem)"
   ]
  },
  {
   "cell_type": "markdown",
   "metadata": {},
   "source": [
    "## 나3곱2\n",
    "https://www.acmicpc.net/problem/16936"
   ]
  },
  {
   "cell_type": "code",
   "execution_count": null,
   "metadata": {},
   "outputs": [],
   "source": [
    "n = int(input())\n",
    "a = list(map(int, input().split()))\n",
    "for i in range(n):\n",
    "    num = a[i]\n",
    "    cnt = 0\n",
    "    while num % 3 == 0:\n",
    "        num //= 3\n",
    "        cnt += 1\n",
    "    a[i] = (-cnt, a[i])\n",
    "a.sort()\n",
    "\n",
    "print(*[elem[1] for elem in a])"
   ]
  }
 ],
 "metadata": {
  "language_info": {
   "name": "python"
  }
 },
 "nbformat": 4,
 "nbformat_minor": 2
}
