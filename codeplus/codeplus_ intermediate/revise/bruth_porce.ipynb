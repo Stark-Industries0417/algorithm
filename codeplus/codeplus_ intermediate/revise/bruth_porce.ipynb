{
 "cells": [
  {
   "cell_type": "markdown",
   "metadata": {},
   "source": [
    "## 차량 번호판1\n",
    "https://www.acmicpc.net/problem/16968"
   ]
  },
  {
   "cell_type": "code",
   "execution_count": null,
   "metadata": {},
   "outputs": [],
   "source": [
    "s = input()\n",
    "ans = 1\n",
    "for i in range(len(s)):\n",
    "    cnt = 26 if s[i] == 'c' else 10\n",
    "    if i > 0 and s[i] == s[i-1]:\n",
    "        cnt -= 1\n",
    "    ans *= cnt\n",
    "print(ans)"
   ]
  },
  {
   "cell_type": "markdown",
   "metadata": {},
   "source": [
    "## 양념 반 후라이드 반\n",
    "https://www.acmicpc.net/problem/16917"
   ]
  },
  {
   "cell_type": "code",
   "execution_count": null,
   "metadata": {},
   "outputs": [],
   "source": [
    "A, B, C, X, Y = list(map(int, input().split()))\n",
    "\n",
    "ans = A*X + B*Y\n",
    "\n",
    "for i in range(1, max(X, Y) + 1):\n",
    "    price = 2*i*C + max(0, X-i)*A + max(0, Y-i)*B\n",
    "    ans = min(ans, price)\n",
    "\n",
    "print(ans)"
   ]
  },
  {
   "cell_type": "markdown",
   "metadata": {},
   "source": [
    "## 로마 숫자 만들기\n",
    "https://www.acmicpc.net/problem/16922"
   ]
  },
  {
   "cell_type": "code",
   "execution_count": null,
   "metadata": {},
   "outputs": [],
   "source": [
    "n = int(input())\n",
    "\n",
    "check = [False] * (50*20+1)\n",
    "\n",
    "for i in range(n+1):\n",
    "    for j in range(n-i+1):\n",
    "        for k in range(n-i-j+1):\n",
    "            l = n - i - j - k\n",
    "            s = i*1 + j*5 + k*10 + l*50\n",
    "            check[s] = True\n",
    "\n",
    "print(sum(check))"
   ]
  },
  {
   "cell_type": "code",
   "execution_count": null,
   "metadata": {},
   "outputs": [],
   "source": [
    "from itertools import combinations_with_replacement\n",
    "\n",
    "n = int(input())\n",
    "result = []\n",
    "numbers = [1, 5, 10 ,50]\n",
    "\n",
    "for temp in combinations_with_replacement(range(4), n):\n",
    "    s = 0\n",
    "    for i in temp:\n",
    "        s += numbers[i]\n",
    "    result.append(s)\n",
    "\n",
    "print(len(set(result)))"
   ]
  },
  {
   "cell_type": "markdown",
   "metadata": {},
   "source": [
    "## 십자가 찾기\n",
    "https://www.acmicpc.net/problem/16924"
   ]
  },
  {
   "cell_type": "code",
   "execution_count": null,
   "metadata": {},
   "outputs": [],
   "source": [
    "N, M = map(int, input().split())\n",
    "graph = [input() for _ in range(N)]\n",
    "check = [[False] * M for _ in range(N)]\n",
    "ans = []\n",
    "\n",
    "for i in range(N):\n",
    "    for j in range(M):\n",
    "        if graph[i][j] != '*':\n",
    "            continue\n",
    "        \n",
    "        k = 1\n",
    "        while i-k >= 0 and i+k < N and j-k >= 0 and j+k < M:\n",
    "            if graph[i+k][j] == graph[i-k][j] == graph[i][j+k] == graph[i][j-k] == '*':\n",
    "                ans.append((i+1, j+1, k))\n",
    "                k += 1\n",
    "            else:\n",
    "                break\n",
    "        \n",
    "        if k > 1:\n",
    "            check[i][j] = True\n",
    "            for l in range(1, k):\n",
    "                check[i+l][j] = True\n",
    "                check[i-l][j] = True\n",
    "                check[i][j+l] = True\n",
    "                check[i][j-l] = True\n",
    "\n",
    "for i in range(N):\n",
    "    for j in range(M):\n",
    "        if graph[i][j] == '*' and not check[i][j]:\n",
    "            print(-1)\n",
    "            exit(0)\n",
    "\n",
    "print(len(ans))\n",
    "for elem in ans:\n",
    "    print(*elem)"
   ]
  },
  {
   "cell_type": "markdown",
   "metadata": {},
   "source": [
    "## 나3곱2\n",
    "https://www.acmicpc.net/problem/16936"
   ]
  },
  {
   "cell_type": "code",
   "execution_count": null,
   "metadata": {},
   "outputs": [],
   "source": [
    "n = int(input())\n",
    "a = list(map(int, input().split()))\n",
    "for i in range(n):\n",
    "    num = a[i]\n",
    "    cnt = 0\n",
    "    while num % 3 == 0:\n",
    "        num //= 3\n",
    "        cnt += 1\n",
    "    a[i] = (-cnt, a[i])\n",
    "a.sort()\n",
    "\n",
    "print(*[elem[1] for elem in a])"
   ]
  },
  {
   "cell_type": "markdown",
   "metadata": {},
   "source": [
    "## 두 스티커\n",
    "https://www.acmicpc.net/problem/16937"
   ]
  },
  {
   "cell_type": "code",
   "execution_count": null,
   "metadata": {},
   "outputs": [],
   "source": [
    "h, w = map(int, input().split())\n",
    "n = int(input())\n",
    "r, c = [0] * n, [0] * n\n",
    "\n",
    "for i in range(n):\n",
    "    r[i], c[i] = map(int, input().split())\n",
    "\n",
    "ans = 0\n",
    "for i in range(n):\n",
    "    r1, c1 = r[i], c[i]\n",
    "    for j in range(i+1, n):\n",
    "        r2, c2 = r[j], c[j]\n",
    "        for _ in range(2):\n",
    "            for _ in range(2):\n",
    "                if r1 + r2 <= h and max(c1, c2) <= w:\n",
    "                    temp = r1*c1 + r2*c2\n",
    "                    ans = max(ans, temp)\n",
    "                if max(r1, r2) <= h and c1 + c2 <= w:\n",
    "                    temp = r1*c1 + r2*c2\n",
    "                    ans = max(ans, temp)\n",
    "                r2, c2 = c2, r2\n",
    "            r1, c1 = c1, r1\n",
    "\n",
    "print(ans)"
   ]
  },
  {
   "cell_type": "markdown",
   "metadata": {},
   "source": [
    "## 캠프 준비\n",
    "https://www.acmicpc.net/problem/16938"
   ]
  },
  {
   "cell_type": "code",
   "execution_count": null,
   "metadata": {},
   "outputs": [],
   "source": [
    "from itertools import combinations\n",
    "\n",
    "n, l, r, x = map(int, input().split())\n",
    "a = list(map(int, input().split()))\n",
    "\n",
    "ans = 0\n",
    "for cnt in range(2, n+1):\n",
    "    for combi in combinations(a, cnt):\n",
    "        if l <= sum(combi) <= r:\n",
    "            if max(combi) - min(combi) >= x:\n",
    "                ans += 1\n",
    "print(ans)"
   ]
  },
  {
   "cell_type": "code",
   "execution_count": null,
   "metadata": {},
   "outputs": [],
   "source": [
    "n, l, r, x = map(int, input().split())\n",
    "a = list(map(int, input().split()))\n",
    "c = [False] * n\n",
    "\n",
    "\n",
    "def go(idx):\n",
    "    if idx == n:\n",
    "        easy = hard = -1\n",
    "        cnt = total = 0\n",
    "        for i in range(n):\n",
    "            if c[i] is False:\n",
    "                continue\n",
    "            total += a[i]\n",
    "            cnt += 1\n",
    "            if hard == -1 or hard < a[i]:\n",
    "                hard = a[i]\n",
    "            if easy == -1 or easy > a[i]:\n",
    "                easy = a[i]\n",
    "\n",
    "        if cnt >= 2 and l <= total <= r and hard - easy >= x:\n",
    "            return 1\n",
    "        else:\n",
    "            return 0\n",
    "\n",
    "    c[idx] = True\n",
    "    cnt1 = go(idx + 1)\n",
    "    c[idx] = False\n",
    "    cnt2 = go(idx + 1)\n",
    "\n",
    "    return cnt1 + cnt2\n",
    "\n",
    "print(go(0))\n"
   ]
  },
  {
   "cell_type": "markdown",
   "metadata": {},
   "source": [
    "## 숫자 재배치\n",
    "https://www.acmicpc.net/problem/16943"
   ]
  },
  {
   "cell_type": "code",
   "execution_count": null,
   "metadata": {},
   "outputs": [],
   "source": [
    "A, B = map(list, input().split())\n",
    "l = len(A)\n",
    "check = [False] * l\n",
    "numB = int(''.join(B))\n",
    "ans = -1\n",
    "\n",
    "def go(idx, num):\n",
    "    if idx == l:\n",
    "        global ans\n",
    "        num = int(num)\n",
    "        if ans < num < int(numB):\n",
    "            ans = num\n",
    "        return\n",
    "        \n",
    "    for i in range(l):\n",
    "        if idx == 0 and A[i] == '0': continue\n",
    "        if check[i]: continue\n",
    "\n",
    "        check[i] = True\n",
    "        go(idx+1, num + A[i])\n",
    "        check[i] = False\n",
    "\n",
    "go(0, '')\n",
    "\n",
    "print(ans)"
   ]
  },
  {
   "cell_type": "markdown",
   "metadata": {},
   "source": [
    "## 괄호 추가하기\n",
    "https://www.acmicpc.net/problem/16637"
   ]
  },
  {
   "cell_type": "code",
   "execution_count": null,
   "metadata": {},
   "outputs": [],
   "source": [
    "n = int(input())\n",
    "m = (n-1) // 2\n",
    "exp = list(input())\n",
    "ans = None\n",
    "\n",
    "for i in range(0, n, 2):\n",
    "    exp[i] = int(exp[i])\n",
    "\n",
    "for s in range(1 << m):\n",
    "    ok = True\n",
    "    for  i in range(m-1):\n",
    "        if s & 1 << i and s & 1 << (i+1):\n",
    "            ok = False\n",
    "    if not ok: continue\n",
    "\n",
    "    temp = exp[:]\n",
    "    for i in range(m):\n",
    "        if not (s & 1 << i): continue\n",
    "\n",
    "        idx = 2*i + 1\n",
    "        op = temp[idx]\n",
    "        if op == '+':\n",
    "            temp[idx-1] += temp[idx+1]\n",
    "        elif op == '-':\n",
    "            temp[idx-1] -= temp[idx+1]\n",
    "        else:\n",
    "            temp[idx-1] *= temp[idx+1]\n",
    "        temp[idx] = '+'\n",
    "        temp[idx+1] = 0\n",
    "    \n",
    "    tmp = temp[0]\n",
    "    for i in range(1, n, 2):\n",
    "        op = temp[i]        # temp 변경된 연산자로 계산해야 하니 temp의 i 번째 인덱스를 가리켜야 한다.\n",
    "        if op == '+':\n",
    "            tmp += temp[i+1]\n",
    "        elif op == '-':\n",
    "            tmp -= temp[i+1]\n",
    "        else:\n",
    "            tmp *= temp[i+1]\n",
    "    if ans is None or ans < tmp:\n",
    "        ans = tmp\n",
    "\n",
    "print(ans)\n"
   ]
  },
  {
   "cell_type": "markdown",
   "metadata": {},
   "source": [
    "## 감시\n",
    "https://www.acmicpc.net/problem/15683"
   ]
  },
  {
   "cell_type": "code",
   "execution_count": null,
   "metadata": {},
   "outputs": [],
   "source": [
    "n, m = map(int, input().split())\n",
    "graph = [list(map(int, input().split())) for _ in range(n)]\n",
    "dx, dy = [0, 1, 0, -1], [1, 0, -1, 0]\n",
    "\n",
    "cctv = []\n",
    "for i in range(n):\n",
    "    for j in range(m):\n",
    "        if 1 <= graph[i][j] <= 5:\n",
    "            cctv.append((graph[i][j], i, j))\n",
    "\n",
    "def check(cp, x, y, dir):\n",
    "    i, j = x, y\n",
    "    while 0 <= i < n and 0 <= j < m:\n",
    "        if graph[i][j] == 6:\n",
    "            break\n",
    "        cp[i][j] = graph[x][y]\n",
    "        i += dx[dir]\n",
    "        j += dy[dir]\n",
    "\n",
    "def go(idx, cctv, dirs):\n",
    "    if idx == len(cctv):\n",
    "        cp = [row[:] for row in graph]\n",
    "\n",
    "        for i, (type, x, y) in enumerate(cctv):\n",
    "            if type == 1:\n",
    "                check(cp, x, y, dirs[i])\n",
    "            elif type == 2:\n",
    "                check(cp, x, y, dirs[i])\n",
    "                check(cp, x, y, (dirs[i] + 2) % 4)\n",
    "            elif type == 3:\n",
    "                check(cp, x, y, dirs[i])\n",
    "                check(cp, x, y, (dirs[i] + 1) % 4)\n",
    "            elif type == 4:\n",
    "                check(cp, x, y, dirs[i])\n",
    "                check(cp, x, y, (dirs[i] + 1) % 4)\n",
    "                check(cp, x, y, (dirs[i] + 2) % 4)\n",
    "            else:\n",
    "                check(cp, x, y, dirs[i])\n",
    "                check(cp, x, y, (dirs[i] + 1) % 4)\n",
    "                check(cp, x, y, (dirs[i] + 2) % 4)\n",
    "                check(cp, x, y, (dirs[i] + 3) % 4)\n",
    "\n",
    "        return sum([row.count(0) for row in cp])\n",
    "    \n",
    "    ans = 100\n",
    "    for dir in range(4):\n",
    "        cnt = go(idx+1, cctv, dirs + [dir])\n",
    "        ans = min(ans, cnt)\n",
    "    return ans\n",
    "\n",
    "print(go(0, cctv, []))"
   ]
  },
  {
   "cell_type": "markdown",
   "metadata": {},
   "source": [
    "## 등차수열 변환\n",
    "https://www.acmicpc.net/problem/17088"
   ]
  },
  {
   "cell_type": "code",
   "execution_count": null,
   "metadata": {},
   "outputs": [],
   "source": [
    "n = int(input())\n",
    "a = list(map(int, input().split()))\n",
    "\n",
    "if n == 1:\n",
    "    print(0)\n",
    "    exit(0)\n",
    "\n",
    "ans = -1\n",
    "for d1 in range(-1, 2):\n",
    "    for d2 in range(-1, 2):\n",
    "        change = 0\n",
    "        if d1 != 0: change += 1\n",
    "        if d2 != 0: change += 1\n",
    "        a0 = a[0] + d1\n",
    "        diff = a[1] + d2 - a0\n",
    "        ok = True   \n",
    "\n",
    "        an = a0 + diff\n",
    "        for i in range(2, n):\n",
    "            an += diff\n",
    "            if a[i] == an:\n",
    "                continue\n",
    "            if a[i] - 1 == an:\n",
    "                change += 1\n",
    "            elif a[i] + 1 == an:\n",
    "                change += 1\n",
    "            else:\n",
    "                ok = False\n",
    "                break\n",
    "        if ok:\n",
    "            if ans == -1 or ans > change:\n",
    "                ans = change\n",
    "print(ans)"
   ]
  },
  {
   "cell_type": "markdown",
   "metadata": {},
   "source": [
    "## 치킨 배달\n",
    "https://www.acmicpc.net/problem/15686"
   ]
  },
  {
   "cell_type": "code",
   "execution_count": null,
   "metadata": {},
   "outputs": [],
   "source": [
    "from itertools import combinations\n",
    "\n",
    "n, m = map(int, input().split())\n",
    "\n",
    "graph, chicken, houses = [], [], []\n",
    "for i in range(n):\n",
    "    row = list(map(int, input().split()))\n",
    "    graph.append(row)\n",
    "    for j in range(n):\n",
    "        if graph[i][j] == 1:\n",
    "            houses.append((i, j))\n",
    "        elif graph[i][j] == 2:\n",
    "            chicken.append((i, j))\n",
    "\n",
    "ans = 1e9\n",
    "for combi in combinations(chicken, m):\n",
    "    city_dist = 0\n",
    "    for house in houses:\n",
    "        dist = 101\n",
    "        hx, hy = house\n",
    "        for choice in combi:\n",
    "            cx, cy = choice\n",
    "            dist = min(dist, abs(hx - cx) + abs(hy - cy))\n",
    "        city_dist += dist\n",
    "\n",
    "    ans = min(ans, city_dist)\n",
    "\n",
    "print(ans)"
   ]
  }
 ],
 "metadata": {
  "kernelspec": {
   "display_name": "Python 3",
   "language": "python",
   "name": "python3"
  },
  "language_info": {
   "codemirror_mode": {
    "name": "ipython",
    "version": 3
   },
   "file_extension": ".py",
   "mimetype": "text/x-python",
   "name": "python",
   "nbconvert_exporter": "python",
   "pygments_lexer": "ipython3",
   "version": "3.9.13"
  }
 },
 "nbformat": 4,
 "nbformat_minor": 2
}
