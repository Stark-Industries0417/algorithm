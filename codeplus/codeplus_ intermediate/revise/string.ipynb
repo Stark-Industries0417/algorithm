{
 "cells": [
  {
   "attachments": {},
   "cell_type": "markdown",
   "metadata": {},
   "source": [
    "## 부분 문자열\n",
    "https://www.acmicpc.net/problem/16916"
   ]
  },
  {
   "cell_type": "code",
   "execution_count": null,
   "metadata": {},
   "outputs": [],
   "source": [
    "T = input()\n",
    "P = input()\n",
    "\n",
    "pi = [0] * len(P)\n",
    "j = 0\n",
    "for i in range(1, len(P)):\n",
    "    while j > 0 and P[i] != P[j]:\n",
    "        j = pi[j-1]\n",
    "\n",
    "    if P[i] == P[j]:\n",
    "        j += 1\n",
    "        pi[i] = j\n",
    "\n",
    "def kmp():\n",
    "    j = 0\n",
    "    for i in range(len(T)):\n",
    "        while j > 0 and T[i] != P[j]:\n",
    "            j = pi[j-1]\n",
    "        \n",
    "        if T[i] == P[j]:\n",
    "            if j == len(P)-1:\n",
    "                return True\n",
    "            else:\n",
    "                j += 1\n",
    "    return False\n",
    "\n",
    "print([0, 1][kmp()])"
   ]
  },
  {
   "attachments": {},
   "cell_type": "markdown",
   "metadata": {},
   "source": [
    "## 찾기\n",
    "https://www.acmicpc.net/problem/1786"
   ]
  },
  {
   "cell_type": "code",
   "execution_count": null,
   "metadata": {},
   "outputs": [],
   "source": [
    "T = input()\n",
    "P = input()\n",
    "\n",
    "l = len(P)\n",
    "pi = [0] * l \n",
    "\n",
    "j = 0\n",
    "for i in range(1, l):\n",
    "    while j > 0 and P[i] != P[j]:\n",
    "        j = pi[j-1]\n",
    "    \n",
    "    if P[i] == P[j]:\n",
    "        j += 1\n",
    "        pi[i] = j\n",
    "\n",
    "result = []\n",
    "count = 0\n",
    "\n",
    "j = 0\n",
    "for i in range(len(T)):\n",
    "    while j > 0 and T[i] != P[j]:\n",
    "        j = pi[j-1]\n",
    "    \n",
    "    if T[i] == P[j]:\n",
    "        if j == l - 1:\n",
    "            result.append(i - l + 2)\n",
    "            count += 1\n",
    "            j = pi[j]\n",
    "        else:\n",
    "            j += 1\n",
    "\n",
    "print(count)\n",
    "print(*[elem for elem in result])"
   ]
  },
  {
   "attachments": {},
   "cell_type": "markdown",
   "metadata": {},
   "source": [
    "## Cubeditor\n",
    "https://www.acmicpc.net/problem/1701"
   ]
  },
  {
   "cell_type": "code",
   "execution_count": null,
   "metadata": {},
   "outputs": [],
   "source": [
    "def make_pi(p):\n",
    "    l = len(p)\n",
    "    pi = [0] * l\n",
    "    \n",
    "    j = 0\n",
    "    for i in range(1, l):\n",
    "        while j > 0 and p[i] != p[j]:\n",
    "            j = pi[j-1]\n",
    "        \n",
    "        if p[i] == p[j]:\n",
    "            j += 1\n",
    "            pi[i] = j\n",
    "    return max(pi)\n",
    "\n",
    "s = input()\n",
    "result = 0\n",
    "\n",
    "for idx in range(l := len(s)):\n",
    "    sub_str = s[idx:l]\n",
    "    result = max(result, make_pi(sub_str))\n",
    "\n",
    "print(result)"
   ]
  }
 ],
 "metadata": {
  "kernelspec": {
   "display_name": "base",
   "language": "python",
   "name": "python3"
  },
  "language_info": {
   "name": "python",
   "version": "3.9.13"
  },
  "orig_nbformat": 4
 },
 "nbformat": 4,
 "nbformat_minor": 2
}
