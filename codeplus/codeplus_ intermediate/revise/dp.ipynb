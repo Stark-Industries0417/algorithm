{
 "cells": [
  {
   "attachments": {},
   "cell_type": "markdown",
   "metadata": {},
   "source": [
    "## 이동하기\n",
    "https://www.acmicpc.net/problem/11048"
   ]
  },
  {
   "cell_type": "code",
   "execution_count": null,
   "metadata": {},
   "outputs": [],
   "source": [
    "n, m = map(int, input().split())\n",
    "graph = [[0] * (m+1)] + [[0] + list(map(int, input().split())) for _ in range(n)]\n",
    "\n",
    "for i in range(1, n+1):\n",
    "    for j in range(1, m+1):\n",
    "        graph[i][j] += max(graph[i-1][j], graph[i][j-1], graph[i-1][j-1])\n",
    "\n",
    "print(graph[n][m])"
   ]
  },
  {
   "attachments": {},
   "cell_type": "markdown",
   "metadata": {},
   "source": [
    "## 점프\n",
    "https://www.acmicpc.net/problem/11060"
   ]
  },
  {
   "cell_type": "code",
   "execution_count": null,
   "metadata": {},
   "outputs": [],
   "source": [
    "n = int(input())\n",
    "miro = list(map(int, input().split()))\n",
    "\n",
    "dp = [-1] * n\n",
    "dp[0] = 0\n",
    "\n",
    "for i in range(1, n):\n",
    "    for j in range(i):\n",
    "        if i - j <= miro[j] and dp[j] != -1:\n",
    "            if dp[i] == -1 or dp[i] > dp[j] + 1:\n",
    "                dp[i] = dp[j] + 1\n",
    "\n",
    "print(dp[n-1])"
   ]
  },
  {
   "attachments": {},
   "cell_type": "markdown",
   "metadata": {},
   "source": [
    "## 퇴사2\n",
    "https://www.acmicpc.net/problem/15486"
   ]
  },
  {
   "cell_type": "code",
   "execution_count": null,
   "metadata": {},
   "outputs": [],
   "source": [
    "import sys \n",
    "input = sys.stdin.readline \n",
    "\n",
    "n = int(input())\n",
    "t,p = [],[]\n",
    "dp = [0] * (n+1)\n",
    "for i in range(n):\n",
    "    x,y = map(int,input().split())\n",
    "    t.append(x)\n",
    "    p.append(y)\n",
    "M = 0 \n",
    "for i in range(n):\n",
    "    M = max(M,dp[i])  \n",
    "    if i+t[i] > n :  \n",
    "        continue \n",
    "    dp[i+t[i]] = max(M+p[i],dp[i+t[i]])\n",
    "print(max(dp))"
   ]
  },
  {
   "attachments": {},
   "cell_type": "markdown",
   "metadata": {},
   "source": [
    "## 팰린드롬?\n",
    "https://www.acmicpc.net/problem/10942"
   ]
  },
  {
   "cell_type": "code",
   "execution_count": null,
   "metadata": {},
   "outputs": [],
   "source": [
    "n = int(input())\n",
    "arr = list(map(int, input().split()))\n",
    "dp = [[0] * n for _ in range(n)]\n",
    "m = int(input())\n",
    "\n",
    "for arr_len in range(n):\n",
    "    for start in range(n - arr_len):\n",
    "        end = start + arr_len\n",
    "        if start == end:\n",
    "            dp[start][end] = 1\n",
    "        elif arr[start] == arr[end]:\n",
    "            if start + 1 == end:\n",
    "                dp[start][end] = 1\n",
    "            elif dp[start+1][end-1]:\n",
    "                dp[start][end] = 1\n",
    "\n",
    "for _ in range(m):\n",
    "    s, e = map(int, input().split())\n",
    "    print(dp[s-1][e-1])"
   ]
  },
  {
   "attachments": {},
   "cell_type": "markdown",
   "metadata": {},
   "source": [
    "## 1, 2, 3 더하기\n",
    "https://www.acmicpc.net/problem/9095"
   ]
  },
  {
   "cell_type": "code",
   "execution_count": null,
   "metadata": {},
   "outputs": [],
   "source": [
    "n = int(input())\n",
    "dp = [0] * 11\n",
    "dp[0] = dp[1] = 1\n",
    "\n",
    "for i in range(2, 11):\n",
    "    for j in range(1, 4):\n",
    "        if i >= j:\n",
    "            dp[i] += dp[i-j]\n",
    "\n",
    "for _ in range(n):\n",
    "    num = int(input())\n",
    "    print(dp[num])\n"
   ]
  },
  {
   "attachments": {},
   "cell_type": "markdown",
   "metadata": {},
   "source": [
    "## 파일 합치기\n",
    "https://www.acmicpc.net/problem/11066"
   ]
  },
  {
   "cell_type": "code",
   "execution_count": null,
   "metadata": {},
   "outputs": [],
   "source": [
    "for _ in range(int(input())):\n",
    "    k = int(input())\n",
    "    files = [*map(int, input().split())]\n",
    "    minCost = [[0]*k for _ in range(k)]\n",
    "    subSum = {-1: 0}\n",
    "    for i in range(k):\n",
    "        subSum[i] = subSum[i-1] + files[i]\n",
    "    \n",
    "    for size in range(1, k):\n",
    "        for start in range(k-size):\n",
    "            end = start + size\n",
    "\n",
    "            result = 1e9\n",
    "            for cut in range(start, end):\n",
    "                result = min(result, minCost[start][cut] + minCost[cut+1][end] + subSum[end] - subSum[start-1])\n",
    "            minCost = result\n",
    "    print(minCost[0][-1])\n",
    "    "
   ]
  },
  {
   "attachments": {},
   "cell_type": "markdown",
   "metadata": {},
   "source": [
    "## 평범한 배낭\n",
    "https://www.acmicpc.net/problem/12865"
   ]
  },
  {
   "cell_type": "code",
   "execution_count": null,
   "metadata": {},
   "outputs": [],
   "source": [
    "n, k = map(int, input().split())\n",
    "\n",
    "thing = [[0, 0]] + [list(map(int, input().split())) for _ in range(n)]\n",
    "dp = [[0] * (k+1) for _ in range(n+1)]\n",
    "\n",
    "for i in range(1, n+1):\n",
    "    for j in range(1, k+1):\n",
    "        w, v = thing[i][0], thing[i][1]\n",
    "\n",
    "        dp[i][j] = dp[i-1][j]\n",
    "        \n",
    "        if j >= w:\n",
    "            dp[i][j] = max(dp[i][j], dp[i-1][j-w] + v)\n",
    "print(dp[n][k])"
   ]
  },
  {
   "attachments": {},
   "cell_type": "markdown",
   "metadata": {},
   "source": [
    "## 기타리스트\n",
    " https://www.acmicpc.net/problem/1495"
   ]
  },
  {
   "cell_type": "code",
   "execution_count": null,
   "metadata": {},
   "outputs": [],
   "source": [
    "N, S, M = map(int, input().split())\n",
    "v = list(map(int, input().split()))\n",
    "\n",
    "# dp[i][j] = i 번째 음악을 j 볼륨으로 노래 부를 수 있다.\n",
    "dp = [[0] * (M+1) for _ in range(N+1)]\n",
    "dp[0][S] = 1\n",
    "\n",
    "for i in range(N):\n",
    "    for j in range(M+1):\n",
    "        if dp[i][j]:\n",
    "            if 0 <= j+v[i] <= M:\n",
    "                dp[i+1][j+v[i]] = 1\n",
    "            if 0 <= j-v[i] <= M:\n",
    "                dp[i+1][j-v[i]] = 1\n",
    "\n",
    "try:\n",
    "    print(max([j for j in range(M+1) if dp[-1][j]]))\n",
    "except:\n",
    "    print(-1)\n"
   ]
  },
  {
   "attachments": {},
   "cell_type": "markdown",
   "metadata": {},
   "source": [
    "## 뮤탈리스크\n",
    "https://www.acmicpc.net/problem/12869"
   ]
  },
  {
   "cell_type": "code",
   "execution_count": null,
   "metadata": {},
   "outputs": [],
   "source": [
    "from itertools import permutations\n",
    "\n",
    "N = int(input())\n",
    "hp = list(map(int, input().split()))\n",
    "hp.extend([0, 0])\n",
    "\n",
    "dp = [[[0] * 61 for _ in range(61)] for _ in range(61)]\n",
    "dp[hp[0]][hp[1]][hp[2]] = 1\n",
    "\n",
    "permutation = list(permutations([9, 3, 1]))\n",
    "\n",
    "for i in range(60, -1, -1):\n",
    "    for j in range(60, -1, -1):\n",
    "        for k in range(60, -1, -1):\n",
    "            for p in permutation:\n",
    "                i_ = i-p[0] if i-p[0] >= 0 else 0\n",
    "                j_ = j-p[0] if j-p[0] >= 0 else 0\n",
    "                k_ = k-p[0] if k-p[0] >= 0 else 0\n",
    "\n",
    "                if dp[i_][j_][k_] == 0 or dp[i_][j_][k_] > dp[i][j][k] + 1:\n",
    "                    dp[i_][j_][k_] = dp[i][j][k] + 1\n",
    "\n",
    "print(dp[0][0][0] - 1)"
   ]
  },
  {
   "attachments": {},
   "cell_type": "markdown",
   "metadata": {},
   "source": [
    "## 괄호\n",
    "https://www.acmicpc.net/problem/10422"
   ]
  },
  {
   "cell_type": "code",
   "execution_count": null,
   "metadata": {},
   "outputs": [],
   "source": [
    "import sys\n",
    "input = sys.stdin.readline\n",
    "\n",
    "data = [int(input()) for _ in range(int(input()))]\n",
    "mod = 1000000007\n",
    "\n",
    "dp = [0] * 5001\n",
    "dp[0] = 1\n",
    "\n",
    "for i in range(2, 5001, 2):\n",
    "    for j in range(2, i+1, 2):\n",
    "        dp[i] += (dp[j-2] * dp[i-j]) % mod\n",
    "\n",
    "print(*[dp[elem]%mod for elem in data], sep='\\n')"
   ]
  },
  {
   "cell_type": "code",
   "execution_count": null,
   "metadata": {},
   "outputs": [],
   "source": [
    "dp = [0] * 5001\n",
    "dp[0] = 1\n",
    "mod = 1000000007\n",
    "\n",
    "for i in range(2, 5001, 2):\n",
    "    for j in range(2, i+1, 2):\n",
    "        dp[i] += dp[i-j] * dp[j-2]\n",
    "        dp[i] %= mod\n",
    "\n",
    "for _ in range(int(input())):\n",
    "    l = int(input())\n",
    "    print(dp[l] % mod)"
   ]
  },
  {
   "attachments": {},
   "cell_type": "markdown",
   "metadata": {},
   "source": [
    "## 동전 1\n",
    "https://www.acmicpc.net/problem/2293"
   ]
  },
  {
   "cell_type": "code",
   "execution_count": null,
   "metadata": {},
   "outputs": [],
   "source": [
    "n, k = map(int, input().split())\n",
    "coins = [int(input()) for _ in range(n)]\n",
    "\n",
    "dp = [0] * (k+1)\n",
    "dp[0] = 1\n",
    "\n",
    "for j in coins:\n",
    "    for i in range(1, k+1):\n",
    "        if i < j:\n",
    "            continue\n",
    "        dp[i] += dp[i-j]\n",
    "print(dp[k])"
   ]
  },
  {
   "attachments": {},
   "cell_type": "markdown",
   "metadata": {},
   "source": [
    "## 크리보드\n",
    "https://www.acmicpc.net/problem/11058"
   ]
  },
  {
   "cell_type": "code",
   "execution_count": null,
   "metadata": {},
   "outputs": [],
   "source": [
    "n = int(input())\n",
    "\n",
    "d = [0] * (n+1)\n",
    "\n",
    "for i in range(1, n+1):\n",
    "    d[i] = d[i-1] + 1\n",
    "    for j in range(1, i-1):\n",
    "        if d[i] < d[i-(j+2)] * (j+1):\n",
    "            d[i] = d[i-(j+2)] * (j+1)\n",
    "print(d[n])"
   ]
  },
  {
   "cell_type": "markdown",
   "metadata": {},
   "source": [
    "## 점프\n",
    "https://www.acmicpc.net/problem/1890"
   ]
  },
  {
   "cell_type": "code",
   "execution_count": null,
   "metadata": {},
   "outputs": [],
   "source": [
    "n = int(input())\n",
    "graph = [list(map(int, input().split())) for _ in range(n)]\n",
    "dp = [[0] * n for _ in range(n)]\n",
    "dp[0][0] = 1\n",
    "\n",
    "for i in range(n):\n",
    "    for j in range(n):\n",
    "        if [i, j] == [n-1, n-1]:\n",
    "            print(dp[i][j])\n",
    "            break\n",
    "        if j + graph[i][j] < n:\n",
    "            dp[i][j+graph[i][j]] += dp[i][j]\n",
    "        if i + graph[i][j] < n:\n",
    "            dp[i+graph[i][j]][j] += dp[i][j]"
   ]
  },
  {
   "cell_type": "markdown",
   "metadata": {},
   "source": [
    "## 행렬 곱셈 순서\n",
    "https://www.acmicpc.net/problem/11049"
   ]
  },
  {
   "cell_type": "code",
   "execution_count": null,
   "metadata": {},
   "outputs": [],
   "source": [
    "n = int(input())\n",
    "matrix = [[0] * n for _ in range(n)]\n",
    "dp = [[0] * n for _ in range(n)]\n",
    "\n",
    "for i in range(n):\n",
    "    for j in range(n):\n",
    "        if i == 1:\n",
    "            dp[j][j+i] = matrix[j][0] * matrix[j][1] * matrix[j+i][1]\n",
    "            continue\n",
    "\n",
    "        dp[j][j+i] = 1e9\n",
    "        for k in range(j, j+i):\n",
    "            dp[j][j+i] = min(dp[j][j+i], dp[j][k] + dp[k+1][j+i] + matrix[j][0] * matrix[k][1] * matrix[j+i][1])\n",
    "\n",
    "print(dp[0][n-1])"
   ]
  }
 ],
 "metadata": {
  "language_info": {
   "name": "python"
  },
  "orig_nbformat": 4
 },
 "nbformat": 4,
 "nbformat_minor": 2
}
