{
 "cells": [
  {
   "attachments": {},
   "cell_type": "markdown",
   "metadata": {},
   "source": [
    "## 이동하기\n",
    "https://www.acmicpc.net/problem/11048"
   ]
  },
  {
   "cell_type": "code",
   "execution_count": null,
   "metadata": {},
   "outputs": [],
   "source": [
    "n, m = map(int, input().split())\n",
    "graph = [[0] * (m+1)] + [[0] + list(map(int, input().split())) for _ in range(n)]\n",
    "\n",
    "for i in range(1, n+1):\n",
    "    for j in range(1, m+1):\n",
    "        graph[i][j] += max(graph[i-1][j], graph[i][j-1], graph[i-1][j-1])\n",
    "\n",
    "print(graph[n][m])"
   ]
  },
  {
   "attachments": {},
   "cell_type": "markdown",
   "metadata": {},
   "source": [
    "## 점프\n",
    "https://www.acmicpc.net/problem/11060"
   ]
  },
  {
   "cell_type": "code",
   "execution_count": null,
   "metadata": {},
   "outputs": [],
   "source": [
    "n = int(input())\n",
    "miro = list(map(int, input().split()))\n",
    "\n",
    "dp = [-1] * n\n",
    "dp[0] = 0\n",
    "\n",
    "for i in range(1, n):\n",
    "    for j in range(i):\n",
    "        if i - j <= miro[j] and dp[j] != -1:\n",
    "            if dp[i] == -1 or dp[i] > dp[j] + 1:\n",
    "                dp[i] = dp[j] + 1\n",
    "\n",
    "print(dp[n-1])"
   ]
  },
  {
   "attachments": {},
   "cell_type": "markdown",
   "metadata": {},
   "source": [
    "## 퇴사2\n",
    "https://www.acmicpc.net/problem/15486"
   ]
  },
  {
   "cell_type": "code",
   "execution_count": null,
   "metadata": {},
   "outputs": [],
   "source": [
    "import sys \n",
    "input = sys.stdin.readline \n",
    "\n",
    "n = int(input())\n",
    "t,p = [],[]\n",
    "dp = [0] * (n+1)\n",
    "for i in range(n):\n",
    "    x,y = map(int,input().split())\n",
    "    t.append(x)\n",
    "    p.append(y)\n",
    "M = 0 \n",
    "for i in range(n):\n",
    "    M = max(M,dp[i])  \n",
    "    if i+t[i] > n :  \n",
    "        continue \n",
    "    dp[i+t[i]] = max(M+p[i],dp[i+t[i]])\n",
    "print(max(dp))"
   ]
  },
  {
   "attachments": {},
   "cell_type": "markdown",
   "metadata": {},
   "source": [
    "## 팰린드롬?\n",
    "https://www.acmicpc.net/problem/10942"
   ]
  },
  {
   "cell_type": "code",
   "execution_count": null,
   "metadata": {},
   "outputs": [],
   "source": [
    "n = int(input())\n",
    "arr = list(map(int, input().split()))\n",
    "dp = [[0] * n for _ in range(n)]\n",
    "m = int(input())\n",
    "\n",
    "for arr_len in range(n):\n",
    "    for start in range(n - arr_len):\n",
    "        end = start + arr_len\n",
    "        if start == end:\n",
    "            dp[start][end] = 1\n",
    "        elif arr[start] == arr[end]:\n",
    "            if start + 1 == end:\n",
    "                dp[start][end] = 1\n",
    "            elif dp[start+1][end-1]:\n",
    "                dp[start][end] = 1\n",
    "\n",
    "for _ in range(m):\n",
    "    s, e = map(int, input().split())\n",
    "    print(dp[s-1][e-1])"
   ]
  },
  {
   "attachments": {},
   "cell_type": "markdown",
   "metadata": {},
   "source": [
    "## 1, 2, 3 더하기\n",
    "https://www.acmicpc.net/problem/9095"
   ]
  },
  {
   "cell_type": "code",
   "execution_count": null,
   "metadata": {},
   "outputs": [],
   "source": [
    "n = int(input())\n",
    "dp = [0] * 11\n",
    "dp[0] = dp[1] = 1\n",
    "\n",
    "for i in range(2, 11):\n",
    "    for j in range(1, 4):\n",
    "        if i >= j:\n",
    "            dp[i] += dp[i-j]\n",
    "\n",
    "for _ in range(n):\n",
    "    num = int(input())\n",
    "    print(dp[num])\n"
   ]
  }
 ],
 "metadata": {
  "language_info": {
   "name": "python"
  },
  "orig_nbformat": 4
 },
 "nbformat": 4,
 "nbformat_minor": 2
}
