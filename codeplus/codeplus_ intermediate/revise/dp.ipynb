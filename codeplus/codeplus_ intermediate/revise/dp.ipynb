{
 "cells": [
  {
   "attachments": {},
   "cell_type": "markdown",
   "metadata": {},
   "source": [
    "## 이동하기\n",
    "https://www.acmicpc.net/problem/11048"
   ]
  },
  {
   "cell_type": "code",
   "execution_count": null,
   "metadata": {},
   "outputs": [],
   "source": [
    "n, m = map(int, input().split())\n",
    "graph = [list(map(int, input().split())) for _ in range(n)]\n",
    "\n",
    "dp = [[0] * m for _ in range(n)]\n",
    "dp[0][0] = graph[0][0]\n",
    "\n",
    "for i in range(n):\n",
    "    for j in range(m):\n",
    "        if i+1 < n:     \n",
    "            if dp[i+1][j] < dp[i][j] + graph[i+1][j]:\n",
    "                dp[i+1][j] = dp[i][j] + graph[i+1][j]\n",
    "        if j+1 < m:\n",
    "            if dp[i][j+1] < dp[i][j] + graph[i][j+1]:\n",
    "                dp[i][j+1] = dp[i][j] + graph[i][j+1]\n",
    "        if i+1 < n and j+1 < m:\n",
    "            if dp[i+1][j+1] < dp[i][j] + graph[i+1][j+1]:\n",
    "                dp[i+1][j+1] = dp[i][j] + graph[i+1][j+1]   \n",
    "\n",
    "print(dp[n-1][m-1])"
   ]
  },
  {
   "attachments": {},
   "cell_type": "markdown",
   "metadata": {},
   "source": [
    "## 팰린드롬?\n",
    "https://www.acmicpc.net/problem/10942"
   ]
  },
  {
   "cell_type": "code",
   "execution_count": null,
   "metadata": {},
   "outputs": [],
   "source": [
    "import sys\n",
    "input = sys.stdin.readline\n",
    "\n",
    "n = int(input())\n",
    "arr = list(map(int, input().split()))\n",
    "m = int(input())\n",
    "\n",
    "dp = [[0] * n for _ in range(n)]\n",
    "\n",
    "for arr_len in range(n):\n",
    "    for start in range(n - arr_len):\n",
    "        end = start + arr_len\n",
    "\n",
    "        if start == end:\n",
    "            dp[start][end] = 1\n",
    "        elif arr[start] == arr[end]:\n",
    "            if start+1 == end:\n",
    "                dp[start][end] = 1\n",
    "            elif dp[start+1][end-1]:\n",
    "                dp[start][end] = 1\n",
    "\n",
    "for _ in range(m):\n",
    "    s, e = map(int, input().split())\n",
    "    print(dp[s-1][e-1])"
   ]
  },
  {
   "attachments": {},
   "cell_type": "markdown",
   "metadata": {},
   "source": [
    "## 파일 합치기\n",
    "https://www.acmicpc.net/problem/11066"
   ]
  },
  {
   "cell_type": "code",
   "execution_count": null,
   "metadata": {},
   "outputs": [],
   "source": [
    "for _ in range(int(input())):\n",
    "    n = int(input())\n",
    "    files = list(map(int, input().split()))\n",
    "    dp = [[0] * n for _ in range(n)]\n",
    "\n",
    "    partSum = {-1: 0}\n",
    "    for i in range(n):\n",
    "        partSum[i] = partSum[i-1] + files[i]\n",
    "\n",
    "    for size in range(1, n):\n",
    "        for start in range(n-size):\n",
    "            end = start + size\n",
    "\n",
    "            val = 1e9\n",
    "            for cut in range(start, end):\n",
    "                val = min(val, dp[start][cut] + dp[cut+1][end] + partSum[end] - partSum[start-1])\n",
    "            dp[start][end] = val\n",
    "    print(dp[0][-1])"
   ]
  },
  {
   "attachments": {},
   "cell_type": "markdown",
   "metadata": {},
   "source": [
    "## 평범한 배낭\n",
    "https://www.acmicpc.net/problem/12865"
   ]
  },
  {
   "cell_type": "code",
   "execution_count": null,
   "metadata": {},
   "outputs": [],
   "source": [
    "n, k = map(int, input().split())\n",
    "\n",
    "thing = [[0, 0]] + [list(map(int, input().split())) for _ in range(n)]\n",
    "d = [[0] * (k+1) for _ in range(n+1)]\n",
    "\n",
    "for i in range(1, n+1):\n",
    "    w, v = thing[i]\n",
    "    for j in range(1, k+1):\n",
    "        if j < w:\n",
    "            d[i][j] = d[i-1][j]\n",
    "        else:\n",
    "            d[i][j] = max(d[i-1][j-w] + v, d[i-1][j])\n",
    "\n",
    "print(d[n][k])"
   ]
  },
  {
   "attachments": {},
   "cell_type": "markdown",
   "metadata": {},
   "source": [
    "## 기타리스트\n",
    "https://www.acmicpc.net/problem/1495"
   ]
  },
  {
   "cell_type": "code",
   "execution_count": null,
   "metadata": {},
   "outputs": [],
   "source": [
    "n, s, m = map(int, input().split())\n",
    "vol = list(map(int, input().split()))\n",
    "\n",
    "dp = [[0] * (m+1) for _ in range(n+1)]\n",
    "dp[0][s] = 1\n",
    "\n",
    "for i in range(n):\n",
    "    for j in range(m+1):\n",
    "        if dp[i][j]:\n",
    "            if j + vol[i] < m+1:\n",
    "                dp[i+1][j + vol[i]] = 1\n",
    "            if 0 <= j - vol[i]:\n",
    "                dp[i+1][j - vol[i]] = 1\n",
    "for i in range(m, -1, -1):\n",
    "    if dp[-1][i]:\n",
    "        print(i)\n",
    "        break\n",
    "else:\n",
    "    print(-1)"
   ]
  },
  {
   "attachments": {},
   "cell_type": "markdown",
   "metadata": {},
   "source": [
    "## 뮤탈리스크\n",
    "https://www.acmicpc.net/problem/12869"
   ]
  },
  {
   "cell_type": "code",
   "execution_count": null,
   "metadata": {},
   "outputs": [],
   "source": [
    "from itertools import permutations\n",
    "\n",
    "n = int(input())\n",
    "scvs = list(map(int, input().split()))\n",
    "scvs.extend([0, 0])\n",
    "\n",
    "dp = [[[0] * 61 for _ in range(61)] for _ in range(61)]\n",
    "dp[scvs[0]][scvs[1]][scvs[2]] = 1\n",
    "\n",
    "combi = list(permutations([9, 3, 1], 3))\n",
    "\n",
    "for i in range(60, -1, -1):\n",
    "    for j in range(60, -1, -1):\n",
    "        for k in range(60, -1, -1):\n",
    "            if dp[i][j][k]:\n",
    "                for c in combi:\n",
    "                    i_ = i - c[0] if i - c[0] >= 0 else 0\n",
    "                    j_ = j - c[1] if j - c[1] >= 0 else 0\n",
    "                    k_ = k - c[2] if k - c[2] >= 0 else 0\n",
    "                    if dp[i_][j_][k_] == 0 or dp[i_][j_][k_] > dp[i][j][k] + 1:\n",
    "                        dp[i_][j_][k_] = dp[i][j][k] + 1\n",
    "print(dp[0][0][0] - 1)"
   ]
  },
  {
   "attachments": {},
   "cell_type": "markdown",
   "metadata": {},
   "source": [
    "## 괄호\n",
    "https://www.acmicpc.net/problem/10422"
   ]
  },
  {
   "cell_type": "code",
   "execution_count": null,
   "metadata": {},
   "outputs": [],
   "source": [
    "import sys\n",
    "input = sys.stdin.readline\n",
    "\n",
    "data = [int(input()) for _ in range(int(input()))]\n",
    "mod = 1000000007\n",
    "\n",
    "dp = [0] * 5001\n",
    "dp[0] = 1\n",
    "\n",
    "for i in range(2, 5001, 2):\n",
    "    for j in range(2, i+1, 2):\n",
    "        dp[i] += (dp[j-2] * dp[i-j]) % mod\n",
    "\n",
    "print(*[dp[elem]%mod for elem in data], sep='\\n')"
   ]
  },
  {
   "attachments": {},
   "cell_type": "markdown",
   "metadata": {},
   "source": [
    "## 점프\n",
    "https://www.acmicpc.net/problem/1890"
   ]
  },
  {
   "cell_type": "code",
   "execution_count": null,
   "metadata": {},
   "outputs": [],
   "source": [
    "n = int(input())\n",
    "graph = [list(map(int, input().split())) for _ in range(n)]\n",
    "dp = [[0] * n for _ in range(n)]\n",
    "dp[0][0] = 1\n",
    "\n",
    "for i in range(n):\n",
    "    for j in range(n):\n",
    "        if [i, j] == [n-1, n-1]:\n",
    "            print(dp[i][j])\n",
    "            break\n",
    "        if j + graph[i][j] < n:\n",
    "            dp[i][j+graph[i][j]] += dp[i][j]\n",
    "        if i + graph[i][j] < n:\n",
    "            dp[i+graph[i][j]][j] += dp[i][j]"
   ]
  },
  {
   "attachments": {},
   "cell_type": "markdown",
   "metadata": {},
   "source": [
    "## 행렬 곱셈 순서\n",
    "https://www.acmicpc.net/problem/11049"
   ]
  },
  {
   "cell_type": "code",
   "execution_count": null,
   "metadata": {},
   "outputs": [],
   "source": [
    "n = int(input())\n",
    "matrix = [list(map(int, input().split())) for _ in range(n)]\n",
    "dp = [[0] * n for _ in range(n)]\n",
    "\n",
    "for dist in range(1, n):\n",
    "    for start in range(n-dist):\n",
    "\n",
    "        if dist == 1:\n",
    "            dp[start][start+dist] = matrix[start][0] * matrix[start][1] * matrix[start+dist][1]\n",
    "            continue\n",
    "        dp[start][start+dist] = 1e9\n",
    "        for mid in range(start, start+dist):\n",
    "            dp[start][start+dist] = min(dp[start][start+dist], dp[start][mid] + dp[mid+1][start+dist] + matrix[start][0] * matrix[mid][1] * matrix[start+dist][1])\n",
    "print(dp[0][-1])"
   ]
  },
  {
   "attachments": {},
   "cell_type": "markdown",
   "metadata": {},
   "source": [
    "## 1학년\n",
    "https://www.acmicpc.net/problem/5557"
   ]
  },
  {
   "cell_type": "code",
   "execution_count": null,
   "metadata": {},
   "outputs": [],
   "source": [
    "n = int(input())\n",
    "nums = list(map(int, input().split()))\n",
    "\n",
    "d = [[0] * 21 for _ in range(n-1)]\n",
    "d[0][nums[0]] = 1\n",
    "\n",
    "\n",
    "for i in range(n-2):\n",
    "    for j in range(21):\n",
    "        if d[i][j]:\n",
    "            if j + nums[i+1] <= 20:\n",
    "                d[i+1][j+nums[i+1]] += d[i][j]\n",
    "            if j - nums[i+1] >= 0:\n",
    "                d[i+1][j-nums[i+1]] += d[i][j]\n",
    "\n",
    "print(d[-1][nums[-1]])"
   ]
  }
 ],
 "metadata": {
  "kernelspec": {
   "display_name": "Python 3",
   "language": "python",
   "name": "python3"
  },
  "language_info": {
   "name": "python",
   "version": "3.9.6"
  },
  "orig_nbformat": 4
 },
 "nbformat": 4,
 "nbformat_minor": 2
}
