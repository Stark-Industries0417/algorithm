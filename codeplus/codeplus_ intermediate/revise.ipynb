{
 "cells": [
  {
   "attachments": {},
   "cell_type": "markdown",
   "metadata": {},
   "source": [
    "## 1학년\n",
    "https://www.acmicpc.net/problem/5557"
   ]
  },
  {
   "cell_type": "code",
   "execution_count": 1,
   "metadata": {},
   "outputs": [
    {
     "ename": "ValueError",
     "evalue": "invalid literal for int() with base 10: ''",
     "output_type": "error",
     "traceback": [
      "\u001b[0;31m---------------------------------------------------------------------------\u001b[0m",
      "\u001b[0;31mValueError\u001b[0m                                Traceback (most recent call last)",
      "\u001b[0;32m/var/folders/8k/0tb6pvx13_z082t48c3b6j9h0000gn/T/ipykernel_8401/2442258200.py\u001b[0m in \u001b[0;36m<module>\u001b[0;34m\u001b[0m\n\u001b[0;32m----> 1\u001b[0;31m \u001b[0mn\u001b[0m \u001b[0;34m=\u001b[0m \u001b[0mint\u001b[0m\u001b[0;34m(\u001b[0m\u001b[0minput\u001b[0m\u001b[0;34m(\u001b[0m\u001b[0;34m)\u001b[0m\u001b[0;34m)\u001b[0m\u001b[0;34m\u001b[0m\u001b[0;34m\u001b[0m\u001b[0m\n\u001b[0m\u001b[1;32m      2\u001b[0m \u001b[0marr\u001b[0m \u001b[0;34m=\u001b[0m \u001b[0mlist\u001b[0m\u001b[0;34m(\u001b[0m\u001b[0mmap\u001b[0m\u001b[0;34m(\u001b[0m\u001b[0mint\u001b[0m\u001b[0;34m,\u001b[0m \u001b[0minput\u001b[0m\u001b[0;34m(\u001b[0m\u001b[0;34m)\u001b[0m\u001b[0;34m.\u001b[0m\u001b[0msplit\u001b[0m\u001b[0;34m(\u001b[0m\u001b[0;34m)\u001b[0m\u001b[0;34m)\u001b[0m\u001b[0;34m)\u001b[0m\u001b[0;34m\u001b[0m\u001b[0;34m\u001b[0m\u001b[0m\n\u001b[1;32m      3\u001b[0m \u001b[0mdp\u001b[0m \u001b[0;34m=\u001b[0m \u001b[0;34m[\u001b[0m\u001b[0;34m[\u001b[0m\u001b[0;36m0\u001b[0m\u001b[0;34m]\u001b[0m \u001b[0;34m*\u001b[0m \u001b[0;36m21\u001b[0m \u001b[0;32mfor\u001b[0m \u001b[0m_\u001b[0m \u001b[0;32min\u001b[0m \u001b[0mrange\u001b[0m\u001b[0;34m(\u001b[0m\u001b[0mn\u001b[0m\u001b[0;34m-\u001b[0m\u001b[0;36m1\u001b[0m\u001b[0;34m)\u001b[0m\u001b[0;34m]\u001b[0m\u001b[0;34m\u001b[0m\u001b[0;34m\u001b[0m\u001b[0m\n\u001b[1;32m      4\u001b[0m \u001b[0mdp\u001b[0m\u001b[0;34m[\u001b[0m\u001b[0;36m0\u001b[0m\u001b[0;34m]\u001b[0m\u001b[0;34m[\u001b[0m\u001b[0marr\u001b[0m\u001b[0;34m[\u001b[0m\u001b[0;36m0\u001b[0m\u001b[0;34m]\u001b[0m\u001b[0;34m]\u001b[0m \u001b[0;34m=\u001b[0m \u001b[0;36m1\u001b[0m\u001b[0;34m\u001b[0m\u001b[0;34m\u001b[0m\u001b[0m\n\u001b[1;32m      5\u001b[0m \u001b[0;34m\u001b[0m\u001b[0m\n",
      "\u001b[0;31mValueError\u001b[0m: invalid literal for int() with base 10: ''"
     ]
    }
   ],
   "source": [
    "n = int(input())\n",
    "arr = list(map(int, input().split()))\n",
    "dp = [[0] * 21 for _ in range(n-1)]\n",
    "dp[0][arr[0]] = 1\n",
    "\n",
    "for i in range(n-2):\n",
    "    for j in range(21):\n",
    "        if dp[i][j]:\n",
    "            if j + arr[i+1] <= 20:\n",
    "                dp[i+1][j+arr[i+1]] += dp[i][j]\n",
    "            if j - arr[i+1] >= 0:\n",
    "                dp[i+1][j-arr[i+1]] += dp[i][j]\n",
    "print(dp[-1][arr[-1]])"
   ]
  },
  {
   "attachments": {},
   "cell_type": "markdown",
   "metadata": {},
   "source": [
    "## 점프\n",
    "https://www.acmicpc.net/problem/1890"
   ]
  },
  {
   "cell_type": "code",
   "execution_count": null,
   "metadata": {},
   "outputs": [],
   "source": [
    "n = int(input())\n",
    "graph = [list(map(int, input().split())) for _ in range(n)]\n",
    "dp = [[0] * n for _ in range(n)]\n",
    "dp[0][0] = 1\n",
    "\n",
    "for i in range(n):\n",
    "    for j in range(n):\n",
    "        if [i, j] == [n-1, n-1]:\n",
    "            print(dp[i][j])\n",
    "            break\n",
    "        if j + graph[i][j] < n:\n",
    "            dp[i][j+graph[i][j]] += dp[i][j]\n",
    "        if i + graph[i][j] < n:\n",
    "            dp[i+graph[i][j]][j] += dp[i][j]"
   ]
  },
  {
   "attachments": {},
   "cell_type": "markdown",
   "metadata": {},
   "source": [
    "## 크리보드\n",
    "https://www.acmicpc.net/problem/11058"
   ]
  },
  {
   "cell_type": "code",
   "execution_count": null,
   "metadata": {},
   "outputs": [],
   "source": [
    "n = int(input())\n",
    "dp = [0] * (n+1)\n",
    "\n",
    "for i in range(1, n+1):\n",
    "    dp[i] = dp[i-1] + 1\n",
    "    for j in range(1, i-1):\n",
    "        if dp[i] < dp[i-(j+2)] * (j+1):\n",
    "            dp[i] = dp[i-(j+2)] * (j+1)\n",
    "print(dp[n])"
   ]
  },
  {
   "attachments": {},
   "cell_type": "markdown",
   "metadata": {},
   "source": [
    "## 동전 2\n",
    "https://www.acmicpc.net/problem/2294"
   ]
  },
  {
   "cell_type": "code",
   "execution_count": null,
   "metadata": {},
   "outputs": [],
   "source": [
    "n, k = map(int, input().split())\n",
    "coins = [int(input()) for _ in range(n)]\n",
    "dp = [1e9] * (k+1)\n",
    "dp[0] = 0\n",
    "\n",
    "for coin in coins:\n",
    "    for num in range(1, k+1):\n",
    "        if num >= coin:\n",
    "            if dp[num] > dp[num - coin] + 1:\n",
    "                dp[num] = dp[num - coin] + 1\n",
    "print(-1 if dp[k] == 1e9 else dp[k])\n"
   ]
  },
  {
   "attachments": {},
   "cell_type": "markdown",
   "metadata": {},
   "source": [
    "## 동전 1\n",
    "https://www.acmicpc.net/problem/2293"
   ]
  },
  {
   "cell_type": "code",
   "execution_count": null,
   "metadata": {},
   "outputs": [],
   "source": [
    "n, k = map(int, input().split())\n",
    "coins = [int(input()) for _ in range(n)]\n",
    "dp = [0] * (k+1)\n",
    "dp[0] = 1\n",
    "\n",
    "for coin in coins:\n",
    "    for num in range(1, k+1):\n",
    "        if num >= coin:\n",
    "            dp[num] += dp[num-coin]\n",
    "print(dp[k])"
   ]
  },
  {
   "attachments": {},
   "cell_type": "markdown",
   "metadata": {},
   "source": [
    "## 늑대와 양\n",
    "https://www.acmicpc.net/problem/16956"
   ]
  },
  {
   "cell_type": "code",
   "execution_count": null,
   "metadata": {},
   "outputs": [],
   "source": [
    "from collections import deque\n",
    "\n",
    "n, m = map(int, input().split())\n",
    "graph = [list(input()) for _ in range(n)]\n",
    "visited = [[-1] * m for _ in range(n)]\n",
    "dx, dy = [0, 0, 1, -1], [1, -1, 0, 0]\n",
    "\n",
    "q = deque()\n",
    "for i in range(n):\n",
    "    for j in range(m):\n",
    "        if graph[i][j] == 'W':\n",
    "            q.append((i, j))\n",
    "\n",
    "while q:\n",
    "    x, y = q.popleft()\n",
    "    for k in range(4):\n",
    "        nx, ny = x+dx[k], y+dy[k]\n",
    "        if 0 <= nx < n and 0 <= ny < m and visited[nx][ny] == -1:\n",
    "            if graph[nx][ny] == '.':\n",
    "                graph[nx][ny] = 'D'\n",
    "            elif graph[nx][ny] == 'S':\n",
    "                print(0)\n",
    "                exit(0)\n",
    "print(1)\n",
    "print(*[''.join(graph[i]) for i in range(n)], sep='\\n')"
   ]
  },
  {
   "attachments": {},
   "cell_type": "markdown",
   "metadata": {},
   "source": [
    "## 스타트링크\n",
    "https://www.acmicpc.net/problem/5014"
   ]
  },
  {
   "cell_type": "code",
   "execution_count": null,
   "metadata": {},
   "outputs": [],
   "source": [
    "from collections import deque\n",
    "\n",
    "F, S, G, U, D = map(int, input().split())\n",
    "\n",
    "q = deque([(S, 0)])\n",
    "visited = [False] * (F+1)\n",
    "visited[S] = True\n",
    "\n",
    "while q:\n",
    "    x, bnt = q.popleft()\n",
    "    if x == G:\n",
    "        print(bnt)\n",
    "        break\n",
    "    for nx in [x+U, x-D]:\n",
    "        if 1 <= nx <= F and not visited[nx]:\n",
    "            visited[nx] = True\n",
    "            q.append((nx, bnt+1))\n",
    "else:\n",
    "    print('use the stairs')"
   ]
  },
  {
   "attachments": {},
   "cell_type": "markdown",
   "metadata": {},
   "source": [
    "## 탈옥\n",
    "https://www.acmicpc.net/problem/9376"
   ]
  },
  {
   "cell_type": "code",
   "execution_count": null,
   "metadata": {},
   "outputs": [],
   "source": [
    "from collections import deque\n",
    "\n",
    "dx, dy = [0, 0, 1, -1], [1, -1, 0, 0]\n",
    "\n",
    "def bfs(x, y):    \n",
    "    q = deque([(x, y, 0)])\n",
    "    visited = [[-1] * m for _ in range(n)]\n",
    "    visited[x][y] = 0\n",
    "\n",
    "    while q:\n",
    "        x, y, door = q.popleft()\n",
    "        for k in range(4):\n",
    "            nx, ny = x+dx[k], y+dy[k]\n",
    "            if 0 <= nx < n and 0 <= ny < m and visited[nx][ny] == -1 and graph[nx][ny] != '*':\n",
    "                if graph[nx][ny] == '#':\n",
    "                    visited[nx][ny] = door + 1\n",
    "                    q.append((nx, ny, door+1))\n",
    "                else:\n",
    "                    visited[nx][ny] = door\n",
    "                    q.appendleft((nx, ny, door))\n",
    "                    \n",
    "    return visited\n",
    "\n",
    "                    \n",
    "for _ in range(int(input())):\n",
    "    n, m = map(int, input().split())\n",
    "    graph = ['.' * (m+2)] + ['.' + input() + '.' for _ in range(n)] + ['.' * (m+2)]\n",
    "    n, m = map(lambda x: x+2, [n, m])\n",
    "\n",
    "    x1 = y1 = x2 = y2 = -1\n",
    "    for i in range(n):\n",
    "        for j in range(m):\n",
    "            if graph[i][j] == '$':\n",
    "                if x1 == -1:\n",
    "                    x1, y1 = i, j\n",
    "                else:\n",
    "                    x2, y2 = i, j\n",
    "    d1 = bfs(0, 0)\n",
    "    d2 = bfs(x1, y1)\n",
    "    d3 = bfs(x2, y2)\n",
    "\n",
    "    ans = 1e9\n",
    "    for i in range(n):\n",
    "        for j in range(m):\n",
    "            if -1 not in [d1[i][j], d2[i][j], d3[i][j]]:\n",
    "                cnt = d1[i][j] + d2[i][j] + d3[i][j]\n",
    "                if graph[i][j] == '#':\n",
    "                    cnt -= 2\n",
    "                ans = min(ans, cnt)\n",
    "    print(ans)\n"
   ]
  }
 ],
 "metadata": {
  "kernelspec": {
   "display_name": "base",
   "language": "python",
   "name": "python3"
  },
  "language_info": {
   "codemirror_mode": {
    "name": "ipython",
    "version": 3
   },
   "file_extension": ".py",
   "mimetype": "text/x-python",
   "name": "python",
   "nbconvert_exporter": "python",
   "pygments_lexer": "ipython3",
   "version": "3.9.13"
  },
  "orig_nbformat": 4,
  "vscode": {
   "interpreter": {
    "hash": "cc4d55d52d1114a871817dc9d2b4e4d90b6d108a695844ce0d6cbea98b4fea22"
   }
  }
 },
 "nbformat": 4,
 "nbformat_minor": 2
}
