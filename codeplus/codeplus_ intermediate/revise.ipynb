{
 "cells": [
  {
   "attachments": {},
   "cell_type": "markdown",
   "metadata": {},
   "source": [
    "## 1학년\n",
    "https://www.acmicpc.net/problem/5557"
   ]
  },
  {
   "cell_type": "code",
   "execution_count": null,
   "metadata": {},
   "outputs": [],
   "source": [
    "n = int(input())\n",
    "arr = list(map(int, input().split()))\n",
    "dp = [[0] * 21 for _ in range(n-1)]\n",
    "dp[0][arr[0]] = 1\n",
    "\n",
    "for i in range(n-2):\n",
    "    for j in range(21):\n",
    "        if dp[i][j]:\n",
    "            if j + arr[i+1] <= 20:\n",
    "                dp[i+1][j+arr[i+1]] += dp[i][j]\n",
    "            if j - arr[i+1] >= 0:\n",
    "                dp[i+1][j-arr[i+1]] += dp[i][j]\n",
    "print(dp[-1][arr[-1]])"
   ]
  },
  {
   "attachments": {},
   "cell_type": "markdown",
   "metadata": {},
   "source": [
    "## 점프\n",
    "https://www.acmicpc.net/problem/1890"
   ]
  },
  {
   "cell_type": "code",
   "execution_count": null,
   "metadata": {},
   "outputs": [],
   "source": [
    "n = int(input())\n",
    "graph = [list(map(int, input().split())) for _ in range(n)]\n",
    "dp = [[0] * n for _ in range(n)]\n",
    "dp[0][0] = 1\n",
    "\n",
    "for i in range(n):\n",
    "    for j in range(n):\n",
    "        if [i, j] == [n-1, n-1]:\n",
    "            print(dp[i][j])\n",
    "            break\n",
    "        if j + graph[i][j] < n:\n",
    "            dp[i][j+graph[i][j]] += dp[i][j]\n",
    "        if i + graph[i][j] < n:\n",
    "            dp[i+graph[i][j]][j] += dp[i][j]"
   ]
  }
 ],
 "metadata": {
  "kernelspec": {
   "display_name": "base",
   "language": "python",
   "name": "python3"
  },
  "language_info": {
   "name": "python",
   "version": "3.9.13"
  },
  "orig_nbformat": 4,
  "vscode": {
   "interpreter": {
    "hash": "cc4d55d52d1114a871817dc9d2b4e4d90b6d108a695844ce0d6cbea98b4fea22"
   }
  }
 },
 "nbformat": 4,
 "nbformat_minor": 2
}
