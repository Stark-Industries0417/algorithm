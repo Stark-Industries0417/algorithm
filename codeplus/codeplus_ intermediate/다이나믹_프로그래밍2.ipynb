{
 "cells": [
  {
   "cell_type": "markdown",
   "id": "ba307f85",
   "metadata": {},
   "source": [
    "## 이동하기\n",
    "https://www.acmicpc.net/problem/11048   "
   ]
  },
  {
   "cell_type": "code",
   "execution_count": null,
   "id": "bdc45dbb",
   "metadata": {},
   "outputs": [],
   "source": [
    "n, m = map(int, input().split())\n",
    "graph = [list(map(int, input().split())) for _ in range(n)]\n",
    "\n",
    "dp = [[0] * m for _ in range(n)]\n",
    "dp[0][0] = graph[0][0]\n",
    "\n",
    "for i in range(n):\n",
    "    for j in range(m):\n",
    "        if i+1 < n:\n",
    "            if dp[i+1][j] < dp[i][j] + graph[i+1][j]:\n",
    "                dp[i+1][j] = dp[i][j] + graph[i+1][j]\n",
    "        if j+1 < m:\n",
    "            if dp[i][j+1] < dp[i][j] + graph[i][j+1]:\n",
    "                dp[i][j+1] = dp[i][j] + graph[i][j+1]\n",
    "        if i+1 < n and j+1 < m:\n",
    "            if dp[i+1][j+1] < dp[i][j] + graph[i+1][j+1]:\n",
    "                dp[i+1][j+1] = dp[i][j] + graph[i+1][j+1]\n",
    "\n",
    "print(dp[n-1][m-1])"
   ]
  },
  {
   "cell_type": "markdown",
   "id": "1b96fc86",
   "metadata": {},
   "source": [
    "## 점프점프\n",
    "https://www.acmicpc.net/problem/11060"
   ]
  },
  {
   "cell_type": "code",
   "execution_count": null,
   "id": "c83a9e24",
   "metadata": {},
   "outputs": [],
   "source": [
    "n = int(input())\n",
    "arr = list(map(int, input().split()))\n",
    "d = [-1] * n\n",
    "d[0] = 0\n",
    " \n",
    "for i in range(1, n):\n",
    "    for j in range(i):\n",
    "        if d[j] != -1 and i - j <= arr[j]:\n",
    "            if d[i] == -1 or d[i] > d[j] + 1:\n",
    "                d[i] = d[j] + 1\n",
    "print(d[-1])"
   ]
  },
  {
   "cell_type": "code",
   "execution_count": null,
   "id": "6a0d26cb",
   "metadata": {},
   "outputs": [],
   "source": [
    "n = int(input())\n",
    "arr = list(map(int, input().split()))\n",
    "d = [-1] * n\n",
    "d[0] = 0\n",
    "\n",
    "for i in range(n-1):\n",
    "    if d[i] == -1: continue\n",
    "    for j in range(1, arr[i]+1):\n",
    "        if i+j >= n: break\n",
    "        if d[i+j] == -1 or d[i+j] > d[i] + 1:\n",
    "            d[i+j] = d[i] + 1\n",
    "\n",
    "print(d[n-1])"
   ]
  },
  {
   "cell_type": "markdown",
   "id": "8bf33722",
   "metadata": {},
   "source": [
    "## 퇴사2\n",
    "https://www.acmicpc.net/problem/15486"
   ]
  },
  {
   "cell_type": "code",
   "execution_count": null,
   "id": "fa2b5891",
   "metadata": {},
   "outputs": [],
   "source": [
    "n = int(input())\n",
    "t, p = [], []\n",
    "dp = [0] * (n+1)\n",
    "\n",
    "for _ in range(n):\n",
    "    a, b = map(int, input().split())\n",
    "    t.append(a)\n",
    "    p.append(b)\n",
    "\n",
    "m = 0\n",
    "for i in range(n):\n",
    "    m = max(m, dp[i])\n",
    "    if i + t[i] > n:\n",
    "        continue\n",
    "    dp[i+t[i]] = max(m+p[i], dp[i+t[i]])\n",
    "\n",
    "print(max(dp))"
   ]
  },
  {
   "cell_type": "code",
   "execution_count": null,
   "id": "e83ca298",
   "metadata": {},
   "outputs": [],
   "source": [
    "import sys\n",
    "\n",
    "N = int(sys.stdin.readline())\n",
    "\n",
    "day = N\n",
    "T, P = [], []\n",
    "dp = [0]*(N+1)\n",
    "\n",
    "for i in range(N):\n",
    "    temp = list(map(int, sys.stdin.readline().split()))\n",
    "    T.append(temp[0])\n",
    "    P.append(temp[1])\n",
    "\n",
    "\n",
    "for i in range(0, N):\n",
    "    if T[i] <= N - i:\n",
    "        dp[i+T[i]] = max(dp[i+T[i]], dp[i]+P[i])\n",
    "        \n",
    "    dp[i+1] = max(dp[i+1], dp[i])\n",
    "\n",
    "print(dp[N])"
   ]
  },
  {
   "cell_type": "markdown",
   "id": "3fd56040",
   "metadata": {},
   "source": [
    "## 팰린드롬?\n",
    "https://www.acmicpc.net/problem/10942"
   ]
  },
  {
   "cell_type": "code",
   "execution_count": null,
   "id": "7e224ae4",
   "metadata": {},
   "outputs": [],
   "source": [
    "import sys\n",
    "input = sys.stdin.readline\n",
    "\n",
    "n = int(input())\n",
    "arr = list(map(int, input().split()))\n",
    "m = int(input())\n",
    "\n",
    "dp = [[0] * n for _ in range(n)]\n",
    "\n",
    "for arr_len in range(n):\n",
    "    for start in range(n - arr_len):\n",
    "        end = start + arr_len\n",
    "\n",
    "        if start == end:\n",
    "            dp[start][end] = 1\n",
    "        elif arr[start] == arr[end]:\n",
    "            if start+1 == end:\n",
    "                dp[start][end] = 1\n",
    "            elif dp[start+1][end-1]:\n",
    "                dp[start][end] = 1\n",
    "\n",
    "for _ in range(m):\n",
    "    s, e = map(int, input().split())\n",
    "    print(dp[s-1][e-1])"
   ]
  },
  {
   "cell_type": "markdown",
   "id": "709c9517",
   "metadata": {},
   "source": [
    "## 1, 2, 3 더하기\n",
    "https://www.acmicpc.net/problem/9095"
   ]
  },
  {
   "cell_type": "code",
   "execution_count": null,
   "id": "da9b6a1d",
   "metadata": {},
   "outputs": [],
   "source": [
    "MAX = 10001\n",
    "\n",
    "dp = [0] * MAX\n",
    "dp[0] = 1\n",
    "\n",
    "for i in range(1, 4):\n",
    "    for j in range(1, MAX):\n",
    "        if j >= i:\n",
    "            dp[j] += dp[j-i]\n",
    "\n",
    "for _ in range(int(input())):\n",
    "    n = int(input())\n",
    "    print(dp[n])"
   ]
  },
  {
   "cell_type": "markdown",
   "id": "80e42234",
   "metadata": {},
   "source": [
    "## 파일 합치기\n",
    "https://www.acmicpc.net/problem/11066"
   ]
  },
  {
   "cell_type": "code",
   "execution_count": null,
   "id": "6124c004",
   "metadata": {},
   "outputs": [],
   "source": [
    "for _ in range(int(input())):\n",
    "    K = int(input())\n",
    "    files = [*map(int, input().split())]\n",
    "    minCost = [[0]*K for _ in range(K)] # 메모이제이션 리스트\n",
    "    \n",
    "    subSum = {-1: 0}\n",
    "    for idx in range(K):\n",
    "        subSum[idx] = subSum[idx-1] + files[idx]\n",
    "    \n",
    "    for size in range(1, K): \n",
    "        for start in range(K-size):\n",
    "            end = start + size\n",
    "            \n",
    "            result = float(\"inf\")\n",
    "            for cut in range(start, end):\n",
    "                result = min(result, minCost[start][cut] + minCost[cut+1][end] + subSum[end] - subSum[start-1])\n",
    "            \n",
    "            minCost[start][end] = result\n",
    "\n",
    "    print(minCost[0][-1])"
   ]
  },
  {
   "cell_type": "markdown",
   "id": "1cfbedc9",
   "metadata": {},
   "source": [
    "## 평범한 배낭\n",
    "https://www.acmicpc.net/problem/12865"
   ]
  },
  {
   "cell_type": "code",
   "execution_count": null,
   "id": "1ed5d425",
   "metadata": {},
   "outputs": [],
   "source": [
    "n, k = map(int, input().split())\n",
    "\n",
    "thing = [[0, 0]]\n",
    "for _ in range(n):\n",
    "    thing.append(list(map(int, input().split())))\n",
    "\n",
    "dp = [[0] * (k+1) for _ in range(n+1)]\n",
    "\n",
    "for i in range(1, n+1):\n",
    "    for j in range(1, k+1):\n",
    "        w = thing[i][0]\n",
    "        v = thing[i][1]\n",
    "\n",
    "        if j < w:\n",
    "            dp[i][j] = dp[i-1][j]\n",
    "        else:\n",
    "            dp[i][j] = max(dp[i-1][j-w] + v, dp[i-1][j])\n",
    "print(dp[n][k])"
   ]
  },
  {
   "cell_type": "markdown",
   "id": "1a12e2b3",
   "metadata": {},
   "source": [
    "## 기타리스트\n",
    "https://www.acmicpc.net/problem/1495"
   ]
  },
  {
   "cell_type": "code",
   "execution_count": null,
   "id": "287ad34d",
   "metadata": {},
   "outputs": [],
   "source": [
    "n, s, m = map(int, input().split())\n",
    "v = list(map(int, input().split()))\n",
    "dp = [[0] * (m+1) for _ in range(n+1)]\n",
    "dp[0][s] = 1\n",
    "\n",
    "for i in range(n):\n",
    "    for j in range(m+1):\n",
    "        if dp[i][j]:\n",
    "            if j+v[i] <= m:\n",
    "                dp[i+1][j+v[i]] = 1\n",
    "            if j-v[i] >= 0:\n",
    "                dp[i+1][j-v[i]] = 1\n",
    "\n",
    "for i in range(m, -1, -1):\n",
    "    if dp[n][i]:\n",
    "        print(i)\n",
    "        break\n",
    "\n",
    "else:\n",
    "    print(-1)"
   ]
  },
  {
   "cell_type": "markdown",
   "id": "da14d02e",
   "metadata": {},
   "source": [
    "## 뮤탈리스크\n",
    "https://www.acmicpc.net/problem/12869"
   ]
  },
  {
   "cell_type": "code",
   "execution_count": null,
   "id": "b1b7c11f",
   "metadata": {},
   "outputs": [],
   "source": [
    "n = int(input())\n",
    "scvs = list(map(int, input().split()))\n",
    "scvs.extend([0, 0])\n",
    "\n",
    "dp = [[[0] * 61 for _ in range(61)] for _ in range(61)]\n",
    "dp[scvs[0]][scvs[1]][scvs[2]] = 1\n",
    "\n",
    "combi = [(9, 3, 1), (9, 1, 3), (3, 9, 1), (3, 1, 9), (1, 3, 9), (1, 9, 3)]\n",
    "\n",
    "for i in range(60, -1, -1):\n",
    "    for j in range(60, -1, -1):\n",
    "        for k in range(60, -1, -1):\n",
    "            if dp[i][j][k] > 0:\n",
    "                for c in combi:\n",
    "                    i_ = i-c[0] if i-c[0] >= 0 else 0\n",
    "                    j_ = j-c[1] if j-c[1] >= 0 else 0\n",
    "                    k_ = k-c[2] if k-c[2] >= 0 else 0\n",
    "                    \n",
    "                    if dp[i_][j_][k_] == 0 or dp[i_][j_][k_] > dp[i][j][k] + 1:\n",
    "                        dp[i_][j_][k_] = dp[i][j][k] + 1\n",
    "print(dp[0][0][0] - 1)"
   ]
  },
  {
   "cell_type": "markdown",
   "id": "b051187f",
   "metadata": {},
   "source": [
    "## 괄호\n",
    "https://www.acmicpc.net/problem/10422"
   ]
  },
  {
   "cell_type": "code",
   "execution_count": null,
   "id": "f51e0e48",
   "metadata": {},
   "outputs": [],
   "source": [
    "import sys\n",
    "input = sys.stdin.readline\n",
    "\n",
    "t = int(input())\n",
    "lst = []\n",
    "for _ in range(t):\n",
    "    lst.append(int(input()))\n",
    "\n",
    "dp = [0] * 5001\n",
    "dp[0] = 1\n",
    "for i in range(2, 5001, 2):\n",
    "    for j in range(2, i + 1, 2):\n",
    "        dp[i] += (dp[j - 2] * dp[i - j]) % 1000000007\n",
    "\n",
    "for i in lst:\n",
    "    print(dp[i] % 1000000007)"
   ]
  },
  {
   "cell_type": "markdown",
   "id": "4a17abf1",
   "metadata": {},
   "source": [
    "# 연습"
   ]
  },
  {
   "cell_type": "markdown",
   "id": "e991b3dd",
   "metadata": {},
   "source": [
    "## 동전1\n",
    "https://www.acmicpc.net/problem/2293"
   ]
  },
  {
   "cell_type": "code",
   "execution_count": null,
   "id": "93ac802f",
   "metadata": {},
   "outputs": [],
   "source": [
    "n, k = map(int, input().split())\n",
    "nums = [int(input()) for _ in range(n)]\n",
    "dp = [0] * (k+1)\n",
    "dp[0] = 1\n",
    "\n",
    "for number in nums:\n",
    "    for i in range(1, k+1):\n",
    "        if i >= number:\n",
    "            dp[i] += dp[i - number]\n",
    "print(dp[k])"
   ]
  },
  {
   "cell_type": "markdown",
   "id": "941da04d",
   "metadata": {},
   "source": [
    "## 동전2\n",
    "https://www.acmicpc.net/problem/2294"
   ]
  },
  {
   "cell_type": "code",
   "execution_count": null,
   "id": "e179ff82",
   "metadata": {},
   "outputs": [],
   "source": [
    "n, k = map(int, input().split())\n",
    "coins = [int(input()) for _ in range(n)]\n",
    "dp = [1e9] * (k+1)\n",
    "dp[0] = 0\n",
    "\n",
    "for coin in coins:\n",
    "    for num in range(1, k+1):\n",
    "        if num >= coin:\n",
    "            if dp[num] > dp[num-coin] + 1:\n",
    "                dp[num] = dp[num-coin] + 1\n",
    "print(-1 if dp[k] == 1e9 else dp[k])"
   ]
  },
  {
   "cell_type": "markdown",
   "id": "e7875d91",
   "metadata": {},
   "source": [
    "## 크리보드\n",
    "https://www.acmicpc.net/problem/11058"
   ]
  },
  {
   "cell_type": "code",
   "execution_count": null,
   "id": "c23cb2aa",
   "metadata": {},
   "outputs": [],
   "source": [
    "n = int(input())\n",
    "dp = [0] * (n+1)\n",
    "\n",
    "for i in range(1, n+1):\n",
    "    dp[i] = dp[i-1] + 1\n",
    "    for j in range(1, i-1):\n",
    "        if dp[i] < dp[i-(j+2)] * (j+1):\n",
    "            dp[i] = dp[i-(j+2)] * (j+1)\n",
    "print(dp[n])"
   ]
  },
  {
   "cell_type": "markdown",
   "id": "f61c64b5",
   "metadata": {},
   "source": [
    "## 점프\n",
    "https://www.acmicpc.net/problem/1890"
   ]
  },
  {
   "cell_type": "code",
   "execution_count": null,
   "id": "176d961f",
   "metadata": {},
   "outputs": [],
   "source": [
    "# 실패: 메모리 초과\n",
    "\n",
    "from collections import deque\n",
    "\n",
    "n = int(input())\n",
    "graph = [list(map(int, input().split())) for _ in range(n)]\n",
    "dx, dy = [0, 1], [1, 0]\n",
    "dp = [[0] * n for _ in range(n)]\n",
    "\n",
    "q = deque([(0, 0)])\n",
    "\n",
    "while q:\n",
    "    x, y = q.popleft()\n",
    "    if [x, y] == [n-1, n-1]:\n",
    "        continue\n",
    "    for k in range(2):\n",
    "        nx, ny = x+dx[k]*graph[x][y], y+dy[k]*graph[x][y]\n",
    "        if 0 <= nx < n and 0 <= ny < n:\n",
    "            dp[nx][ny] += 1\n",
    "            q.append((nx, ny))\n",
    "print(dp[n-1][n-1])"
   ]
  },
  {
   "cell_type": "code",
   "execution_count": null,
   "id": "a237acc1",
   "metadata": {},
   "outputs": [],
   "source": [
    "n = int(input())\n",
    "graph = [list(map(int, input().split())) for _ in range(n)]\n",
    "dp = [[0] * n for _ in range(n)]\n",
    "dp[0][0] = 1\n",
    "\n",
    "for i in range(n):\n",
    "    for j in range(n):\n",
    "        if [i, j] == [n-1, n-1]:\n",
    "            print(dp[i][j])\n",
    "            break\n",
    "        if j + graph[i][j] < n:\n",
    "            dp[i][j+graph[i][j]] += dp[i][j]\n",
    "        if i + graph[i][j] < n:\n",
    "            dp[i+graph[i][j]][j] += dp[i][j]"
   ]
  },
  {
   "attachments": {},
   "cell_type": "markdown",
   "id": "717e29f1",
   "metadata": {},
   "source": [
    "## <span style=\"color:red\">행렬 곱셈 순서</span>\n",
    "https://www.acmicpc.net/problem/11049"
   ]
  },
  {
   "cell_type": "code",
   "execution_count": null,
   "id": "2b0cd221",
   "metadata": {},
   "outputs": [],
   "source": [
    "N = int(input())\n",
    "matrix = []\n",
    "for _ in range(N):\n",
    "    matrix.append(list(map(int, input().split())))\n",
    "dp =[[0 for _ in range(N)] for _ in range(N)] \n",
    "\n",
    "for i in range(1, N): #몇 번째 대각선?\n",
    "    for j in range(0, N-i): #대각선에서 몇 번째 열?\n",
    "    \n",
    "        if i == 1: #차이가 1밖에 나지 않는 칸\n",
    "            dp[j][j+i] = matrix[j][0] * matrix[j][1] * matrix[j+i][1]\n",
    "            continue\n",
    "        \n",
    "        dp[j][j+i] = 2**32 #최댓값을 미리 넣어줌\n",
    "        for k in range(j, j+i): \n",
    "            dp[j][j+i] = min(dp[j][j+i], \n",
    "                             dp[j][k] + dp[k+1][j+i] + matrix[j][0] * matrix[k][1] * matrix[j+i][1])\n",
    "                \n",
    "print(dp[0][N-1]) #맨 오른쪽 위"
   ]
  },
  {
   "cell_type": "markdown",
   "id": "ab52c02c",
   "metadata": {},
   "source": [
    "## 1학년\n",
    "https://www.acmicpc.net/problem/5557"
   ]
  },
  {
   "cell_type": "code",
   "execution_count": null,
   "id": "f6facd1d",
   "metadata": {},
   "outputs": [],
   "source": [
    "n = int(input())\n",
    "nums = list(map(int, input().split()))\n",
    "\n",
    "d = [[0] * 21 for _ in range(n-1)]\n",
    "d[0][nums[0]] = 1\n",
    "\n",
    "\n",
    "for i in range(n-2):\n",
    "    for j in range(21):\n",
    "        if d[i][j]:\n",
    "            if j + nums[i+1] <= 20:\n",
    "                d[i+1][j+nums[i+1]] += d[i][j]\n",
    "            if j - nums[i+1] >= 0:\n",
    "                d[i+1][j-nums[i+1]] += d[i][j]\n",
    "\n",
    "print(d[-1][nums[-1]])"
   ]
  },
  {
   "cell_type": "markdown",
   "id": "ae917712",
   "metadata": {},
   "source": [
    "## ABC\n",
    "https://www.acmicpc.net/problem/12969"
   ]
  },
  {
   "cell_type": "markdown",
   "id": "f25e516b",
   "metadata": {},
   "source": [
    "## 출근 기록\n",
    "https://www.acmicpc.net/problem/14238"
   ]
  },
  {
   "cell_type": "markdown",
   "id": "0d72b2a2",
   "metadata": {},
   "source": [
    "## BOJ 거리\n",
    "https://www.acmicpc.net/problem/12026"
   ]
  },
  {
   "cell_type": "code",
   "execution_count": null,
   "id": "05970df3",
   "metadata": {},
   "outputs": [],
   "source": [
    "n = int(input())\n",
    "block = input()\n",
    "\n",
    "boj = ['B', 'O', 'J']\n",
    "\n",
    "dp = [1e9] * n\n",
    "dp[0] = 0\n",
    "\n",
    "for i in range(1, n):\n",
    "    prev = boj[boj.index(block[i])-1]\n",
    "    for j in range(i):\n",
    "        if prev == block[j]:\n",
    "            dp[i] = min(dp[i], dp[j] + (i-j)**2)\n",
    "\n",
    "print(dp[-1] if dp[-1] != 1e9 else -1)"
   ]
  },
  {
   "cell_type": "markdown",
   "id": "0d32a1d3",
   "metadata": {},
   "source": [
    "## Acka\n",
    "https://www.acmicpc.net/problem/12996"
   ]
  },
  {
   "cell_type": "markdown",
   "id": "22b906fc",
   "metadata": {},
   "source": [
    "## 데스노트\n",
    "https://www.acmicpc.net/problem/2281"
   ]
  },
  {
   "cell_type": "markdown",
   "id": "cd055c40",
   "metadata": {},
   "source": [
    "## 올바른 괄호 문자열\n",
    "https://www.acmicpc.net/problem/3012"
   ]
  },
  {
   "cell_type": "markdown",
   "id": "f5a77d93",
   "metadata": {},
   "source": [
    "## 소형 기관차\n",
    "https://www.acmicpc.net/problem/2616"
   ]
  },
  {
   "cell_type": "markdown",
   "id": "6be2b4dd",
   "metadata": {},
   "source": [
    "## 박스 안의 열쇠\n",
    "https://www.acmicpc.net/problem/1413"
   ]
  },
  {
   "cell_type": "markdown",
   "id": "41683c1e",
   "metadata": {},
   "source": [
    "## 팔굽혀펴기\n",
    "https://www.acmicpc.net/problem/10564"
   ]
  },
  {
   "cell_type": "markdown",
   "id": "ea68fbd8",
   "metadata": {},
   "source": [
    "## 건배\n",
    "https://www.acmicpc.net/problem/1970"
   ]
  },
  {
   "cell_type": "markdown",
   "id": "916334fb",
   "metadata": {},
   "source": [
    "## 초콜릿 자르기\n",
    "https://www.acmicpc.net/problem/2163"
   ]
  },
  {
   "cell_type": "markdown",
   "id": "321a846a",
   "metadata": {},
   "source": [
    "# 도전"
   ]
  },
  {
   "cell_type": "markdown",
   "id": "fe8cce9e",
   "metadata": {},
   "source": [
    "## 플레이리스트\n",
    "https://www.acmicpc.net/problem/12872   \n",
    "https://www.acmicpc.net/source/share/5c42cd9b1a9e4f3b89e3f4300477dac8"
   ]
  },
  {
   "cell_type": "markdown",
   "id": "8b003211",
   "metadata": {},
   "source": [
    "## N-RookII\n",
    "https://www.acmicpc.net/problem/1767    \n",
    "https://www.acmicpc.net/source/share/a5897aeeb8ac4af2950ff8084928d51b"
   ]
  }
 ],
 "metadata": {
  "kernelspec": {
   "display_name": "base",
   "language": "python",
   "name": "python3"
  },
  "language_info": {
   "codemirror_mode": {
    "name": "ipython",
    "version": 3
   },
   "file_extension": ".py",
   "mimetype": "text/x-python",
   "name": "python",
   "nbconvert_exporter": "python",
   "pygments_lexer": "ipython3",
   "version": "3.9.13"
  },
  "vscode": {
   "interpreter": {
    "hash": "cc4d55d52d1114a871817dc9d2b4e4d90b6d108a695844ce0d6cbea98b4fea22"
   }
  }
 },
 "nbformat": 4,
 "nbformat_minor": 5
}
