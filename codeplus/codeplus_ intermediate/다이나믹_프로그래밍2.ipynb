{
 "cells": [
  {
   "cell_type": "markdown",
   "id": "ba307f85",
   "metadata": {},
   "source": [
    "## 이동하기\n",
    "https://www.acmicpc.net/problem/11048   "
   ]
  },
  {
   "cell_type": "code",
   "execution_count": null,
   "id": "bdc45dbb",
   "metadata": {},
   "outputs": [],
   "source": [
    "n, m = map(int, input().split())\n",
    "graph = [list(map(int, input().split())) for _ in range(n)]\n",
    "\n",
    "dp = [[0] * m for _ in range(n)]\n",
    "dp[0][0] = graph[0][0]\n",
    "\n",
    "for i in range(n):\n",
    "    for j in range(m):\n",
    "        if i+1 < n:\n",
    "            if dp[i+1][j] < dp[i][j] + graph[i+1][j]:\n",
    "                dp[i+1][j] = dp[i][j] + graph[i+1][j]\n",
    "        if j+1 < m:\n",
    "            if dp[i][j+1] < dp[i][j] + graph[i][j+1]:\n",
    "                dp[i][j+1] = dp[i][j] + graph[i][j+1]\n",
    "        if i+1 < n and j+1 < m:\n",
    "            if dp[i+1][j+1] < dp[i][j] + graph[i+1][j+1]:\n",
    "                dp[i+1][j+1] = dp[i][j] + graph[i+1][j+1]\n",
    "\n",
    "print(dp[n-1][m-1])"
   ]
  },
  {
   "cell_type": "markdown",
   "id": "1b96fc86",
   "metadata": {},
   "source": [
    "## 점프점프\n",
    "https://www.acmicpc.net/problem/11060"
   ]
  },
  {
   "cell_type": "code",
   "execution_count": null,
   "id": "c83a9e24",
   "metadata": {},
   "outputs": [],
   "source": [
    "n = int(input())\n",
    "arr = list(map(int, input().split()))\n",
    "d = [-1] * n\n",
    "d[0] = 0\n",
    "\n",
    "for i in range(1, n):\n",
    "    for j in range(i):\n",
    "        if d[j] != -1 and i - j <= arr[j]:\n",
    "            if d[i] == -1 or d[i] > d[j] + 1:\n",
    "                d[i] = d[j] + 1\n",
    "print(d[-1])"
   ]
  },
  {
   "cell_type": "markdown",
   "id": "8bf33722",
   "metadata": {},
   "source": [
    "## 퇴사2\n",
    "https://www.acmicpc.net/problem/15486"
   ]
  },
  {
   "cell_type": "code",
   "execution_count": null,
   "id": "fa2b5891",
   "metadata": {},
   "outputs": [],
   "source": [
    "n = int(input())\n",
    "t, p = [], []\n",
    "dp = [0] * (n+1)\n",
    "\n",
    "for _ in range(n):\n",
    "    a, b = map(int, input().split())\n",
    "    t.append(a)\n",
    "    p.append(b)\n",
    "\n",
    "m = 0\n",
    "for i in range(n):\n",
    "    m = max(m, dp[i])\n",
    "    if i + t[i] > n:\n",
    "        continue\n",
    "    dp[i+t[i]] = max(m+p[i], dp[i+t[i]])\n",
    "\n",
    "print(max(dp))"
   ]
  },
  {
   "cell_type": "markdown",
   "id": "3fd56040",
   "metadata": {},
   "source": [
    "## 팰린드롬?\n",
    "https://www.acmicpc.net/problem/10942"
   ]
  },
  {
   "cell_type": "markdown",
   "id": "709c9517",
   "metadata": {},
   "source": [
    "## 1, 2, 3 더하기\n",
    "https://www.acmicpc.net/problem/9095"
   ]
  },
  {
   "cell_type": "markdown",
   "id": "80e42234",
   "metadata": {},
   "source": [
    "## 파일 합치기\n",
    "https://www.acmicpc.net/problem/11066"
   ]
  },
  {
   "cell_type": "markdown",
   "id": "1cfbedc9",
   "metadata": {},
   "source": [
    "## 평범한 배낭\n",
    "https://www.acmicpc.net/problem/12865"
   ]
  },
  {
   "cell_type": "markdown",
   "id": "1a12e2b3",
   "metadata": {},
   "source": [
    "## 기타리스트\n",
    "https://www.acmicpc.net/problem/1495"
   ]
  },
  {
   "cell_type": "markdown",
   "id": "da14d02e",
   "metadata": {},
   "source": [
    "## 뮤탈리스크\n",
    "https://www.acmicpc.net/problem/12869"
   ]
  },
  {
   "cell_type": "markdown",
   "id": "b051187f",
   "metadata": {},
   "source": [
    "## 괄호\n",
    "https://www.acmicpc.net/problem/10422"
   ]
  },
  {
   "cell_type": "markdown",
   "id": "4a17abf1",
   "metadata": {},
   "source": [
    "# 연습"
   ]
  },
  {
   "cell_type": "markdown",
   "id": "e991b3dd",
   "metadata": {},
   "source": [
    "## 동전1\n",
    "https://www.acmicpc.net/problem/2293"
   ]
  },
  {
   "cell_type": "markdown",
   "id": "941da04d",
   "metadata": {},
   "source": [
    "## 동전2\n",
    "https://www.acmicpc.net/problem/2294"
   ]
  },
  {
   "cell_type": "markdown",
   "id": "e7875d91",
   "metadata": {},
   "source": [
    "## 크리보드\n",
    "https://www.acmicpc.net/problem/11058"
   ]
  },
  {
   "cell_type": "markdown",
   "id": "f61c64b5",
   "metadata": {},
   "source": [
    "## 점프\n",
    "https://www.acmicpc.net/problem/1890"
   ]
  },
  {
   "cell_type": "markdown",
   "id": "717e29f1",
   "metadata": {},
   "source": [
    "## 행렬 곱셈 순서\n",
    "https://www.acmicpc.net/problem/11049"
   ]
  },
  {
   "cell_type": "markdown",
   "id": "ab52c02c",
   "metadata": {},
   "source": [
    "## 1학년\n",
    "https://www.acmicpc.net/problem/5557"
   ]
  },
  {
   "cell_type": "markdown",
   "id": "ae917712",
   "metadata": {},
   "source": [
    "## ABC\n",
    "https://www.acmicpc.net/problem/12969"
   ]
  },
  {
   "cell_type": "markdown",
   "id": "f25e516b",
   "metadata": {},
   "source": [
    "## 출근 기록\n",
    "https://www.acmicpc.net/problem/14238"
   ]
  },
  {
   "cell_type": "markdown",
   "id": "0d72b2a2",
   "metadata": {},
   "source": [
    "## BOJ 거리\n",
    "https://www.acmicpc.net/problem/12026"
   ]
  },
  {
   "cell_type": "markdown",
   "id": "0d32a1d3",
   "metadata": {},
   "source": [
    "## Acka\n",
    "https://www.acmicpc.net/problem/12996"
   ]
  },
  {
   "cell_type": "markdown",
   "id": "22b906fc",
   "metadata": {},
   "source": [
    "## 데스노트\n",
    "https://www.acmicpc.net/problem/2281"
   ]
  },
  {
   "cell_type": "markdown",
   "id": "cd055c40",
   "metadata": {},
   "source": [
    "## 올바른 괄호 문자열\n",
    "https://www.acmicpc.net/problem/3012"
   ]
  },
  {
   "cell_type": "markdown",
   "id": "f5a77d93",
   "metadata": {},
   "source": [
    "## 소형 기관차\n",
    "https://www.acmicpc.net/problem/2616"
   ]
  },
  {
   "cell_type": "markdown",
   "id": "6be2b4dd",
   "metadata": {},
   "source": [
    "## 박스 안의 열쇠\n",
    "https://www.acmicpc.net/problem/1413"
   ]
  },
  {
   "cell_type": "markdown",
   "id": "41683c1e",
   "metadata": {},
   "source": [
    "## 팔굽혀펴기\n",
    "https://www.acmicpc.net/problem/10564"
   ]
  },
  {
   "cell_type": "markdown",
   "id": "ea68fbd8",
   "metadata": {},
   "source": [
    "## 건배\n",
    "https://www.acmicpc.net/problem/1970"
   ]
  },
  {
   "cell_type": "markdown",
   "id": "916334fb",
   "metadata": {},
   "source": [
    "## 초콜릿 자르기\n",
    "https://www.acmicpc.net/problem/2163"
   ]
  },
  {
   "cell_type": "markdown",
   "id": "321a846a",
   "metadata": {},
   "source": [
    "# 도전"
   ]
  },
  {
   "cell_type": "markdown",
   "id": "fe8cce9e",
   "metadata": {},
   "source": [
    "## 플레이리스트\n",
    "https://www.acmicpc.net/problem/12872   \n",
    "https://www.acmicpc.net/source/share/5c42cd9b1a9e4f3b89e3f4300477dac8"
   ]
  },
  {
   "cell_type": "markdown",
   "id": "8b003211",
   "metadata": {},
   "source": [
    "## N-RookII\n",
    "https://www.acmicpc.net/problem/1767    \n",
    "https://www.acmicpc.net/source/share/a5897aeeb8ac4af2950ff8084928d51b"
   ]
  }
 ],
 "metadata": {
  "kernelspec": {
   "display_name": "Python 3",
   "language": "python",
   "name": "python3"
  },
  "language_info": {
   "codemirror_mode": {
    "name": "ipython",
    "version": 3
   },
   "file_extension": ".py",
   "mimetype": "text/x-python",
   "name": "python",
   "nbconvert_exporter": "python",
   "pygments_lexer": "ipython3",
   "version": "3.8.8"
  }
 },
 "nbformat": 4,
 "nbformat_minor": 5
}
