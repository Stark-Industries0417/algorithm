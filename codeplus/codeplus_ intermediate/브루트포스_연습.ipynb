{
 "cells": [
  {
   "cell_type": "markdown",
   "id": "2127cefe",
   "metadata": {},
   "source": [
    "## Baaaaaaaaaduk2 (Easy)\n",
    "https://www.acmicpc.net/problem/16988"
   ]
  },
  {
   "cell_type": "code",
   "execution_count": null,
   "id": "f33c9320",
   "metadata": {},
   "outputs": [],
   "source": [
    "from collections import deque\n",
    "\n",
    "n, m = map(int, input().split())\n",
    "graph = [list(map(int, input().split())) for _ in range(n)]\n",
    "dx, dy = [0, 0, 1, -1], [1, -1, 0, 0]\n",
    "\n",
    "def bfs():\n",
    "    ans = 0\n",
    "    check = [[False]*m for _ in range(n)]\n",
    "\n",
    "    for i in range(n):\n",
    "        for j in range(m):\n",
    "            if graph[i][j] == 2 and not check[i][j]:\n",
    "                check[i][j] = True\n",
    "                dead = True\n",
    "                q = deque([(i, j)])\n",
    "                cnt = 0\n",
    "                while q:\n",
    "                    cnt += 1\n",
    "                    x, y = q.popleft()\n",
    "                    for k in range(4):\n",
    "                        nx, ny = x+dx[k], y+dy[k]\n",
    "                        if 0 <= nx < n and 0 <= ny < m:\n",
    "                            if graph[nx][ny] == 0:\n",
    "                                dead = False\n",
    "                            elif graph[nx][ny] == 2 and not check[nx][ny]:\n",
    "                                q.append((nx, ny))\n",
    "                                check[nx][ny] = True\n",
    "                if dead:\n",
    "                    ans += cnt\n",
    "    return ans\n",
    "\n",
    "ans = 0\n",
    "for i in range(n):\n",
    "    for j in range(m):\n",
    "        if graph[i][j] == 0:\n",
    "            graph[i][j] = 1\n",
    "\n",
    "            for x in range(n):\n",
    "                for y in range(m):\n",
    "                    if [i, j] == [x, y]:\n",
    "                        continue\n",
    "                    if graph[x][y] != 0:\n",
    "                        continue\n",
    "                    graph[x][y] = 1\n",
    "                    cnt = bfs()\n",
    "                    if ans < cnt:\n",
    "                        ans = cnt\n",
    "                    graph[x][y] = 0\n",
    "            graph[i][j] = 0\n",
    "print(ans)"
   ]
  }
 ],
 "metadata": {
  "kernelspec": {
   "display_name": "Python 3",
   "language": "python",
   "name": "python3"
  },
  "language_info": {
   "codemirror_mode": {
    "name": "ipython",
    "version": 3
   },
   "file_extension": ".py",
   "mimetype": "text/x-python",
   "name": "python",
   "nbconvert_exporter": "python",
   "pygments_lexer": "ipython3",
   "version": "3.8.8"
  }
 },
 "nbformat": 4,
 "nbformat_minor": 5
}
