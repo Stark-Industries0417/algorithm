{
 "cells": [
  {
   "cell_type": "markdown",
   "id": "42360b3b",
   "metadata": {},
   "source": [
    "## 문자열 폭발\n",
    "https://www.acmicpc.net/problem/9935"
   ]
  },
  {
   "cell_type": "code",
   "execution_count": null,
   "id": "29f62af1",
   "metadata": {},
   "outputs": [],
   "source": [
    "words =  input()\n",
    "bomb = list(input())\n",
    "\n",
    "stack = []\n",
    "for word in words:\n",
    "    stack.append(word)\n",
    "    if len(stack) >= len(bomb):\n",
    "        if stack[-len(bomb):] == bomb:\n",
    "            for _ in range(len(bomb)):\n",
    "                stack.pop()\n",
    "print(*stack if stack else \"FRULA\", sep='')"
   ]
  },
  {
   "cell_type": "markdown",
   "id": "b29da21a",
   "metadata": {},
   "source": [
    "## <span style=\"color: red\">히스토그램에서 가장 큰 직사각형</span>\n",
    "https://www.acmicpc.net/problem/6549"
   ]
  },
  {
   "cell_type": "code",
   "execution_count": null,
   "id": "b2a45ed6",
   "metadata": {},
   "outputs": [],
   "source": [
    "while True:\n",
    "    n, *histo = list(map(int, input().split()))\n",
    "    if not n:\n",
    "        break\n",
    "\n",
    "    stack = []\n",
    "    ans = 0\n",
    "    for i in range(len(histo)):\n",
    "        left = i\n",
    "        while stack and histo[stack[-1]] > histo[i]:\n",
    "            height = histo[stack[-1]]\n",
    "            stack.pop()\n",
    "            width = i\n",
    "            if stack:\n",
    "                width = i - stack[-1] - 1\n",
    "            if ans < width * height:\n",
    "                ans = width * height\n",
    "        stack.append(i)\n",
    "\n",
    "    while stack:\n",
    "        height = histo[stack[-1]]\n",
    "        stack.pop()\n",
    "        width = n\n",
    "        if stack:\n",
    "            width = n - stack[-1] - 1\n",
    "        if ans < width * height:\n",
    "            ans = width * height\n",
    "    print(ans)"
   ]
  },
  {
   "cell_type": "markdown",
   "id": "d22fb37c",
   "metadata": {},
   "source": [
    "## <span style=\"color: red\">오아시스 재결합</span>\n",
    "https://www.acmicpc.net/problem/3015"
   ]
  },
  {
   "cell_type": "code",
   "execution_count": null,
   "id": "3a1b6dc8",
   "metadata": {},
   "outputs": [],
   "source": [
    "oasis = [int(input()) for _ in range(int(input()))]\n",
    "\n",
    "stack = [] # (키, cnt)로 append\n",
    "result = 0\n",
    "\n",
    "for o in oasis:\n",
    "\n",
    "  # 스택 끝 값보다 키 크면 pop\n",
    "  while stack and stack[-1][0]<o:\n",
    "    result += stack.pop()[1]\n",
    "\n",
    "  # 스택이 비어있으면 해당 키 append하고 continue\n",
    "  if not stack:\n",
    "    stack.append((o, 1))\n",
    "    continue\n",
    "\n",
    "    \n",
    "  # 스택 끝 값의 키와 같을 때\n",
    "  if stack[-1][0]==o:\n",
    "    cnt = stack.pop()[1]\n",
    "    result += cnt\n",
    "\n",
    "    if stack: result += 1\n",
    "    stack.append((o, cnt+1))\n",
    "\n",
    "  # 스택 끝 값의 키보다 작을 때\n",
    "  else:\n",
    "    stack.append((o, 1))\n",
    "    result += 1\n",
    "\n",
    "# 결과값 출력\n",
    "print(result)"
   ]
  },
  {
   "cell_type": "markdown",
   "id": "cfe19d36",
   "metadata": {},
   "source": [
    "# 유니온 파인드 공부"
   ]
  },
  {
   "cell_type": "markdown",
   "id": "d0606c11",
   "metadata": {},
   "source": [
    "## 집합의 표현\n",
    "https://www.acmicpc.net/problem/1717"
   ]
  },
  {
   "cell_type": "code",
   "execution_count": null,
   "id": "314aa4f6",
   "metadata": {},
   "outputs": [],
   "source": [
    "n, m = map(int, input().split())\n",
    "parent = [elem for elem in range(n+1)]\n",
    "\n",
    "def find(num):\n",
    "    if num == parent[num]:\n",
    "        return num\n",
    "    p = find(parent[num])\n",
    "    parent[num] = p\n",
    "    return parent[num]\n",
    "\n",
    "def union(a, b):\n",
    "    a = find(a)\n",
    "    b = find(b)\n",
    "    \n",
    "    if a == b:\n",
    "        return\n",
    "    elif a < b:\n",
    "        parent[b] = a\n",
    "    else:\n",
    "        parent[a] = b\n",
    "\n",
    "for _ in range(m):\n",
    "    o, a, b = map(int, input().split())\n",
    "    if o == 0:\n",
    "        union(a, b)\n",
    "    else:\n",
    "        if find(a) == find(b):\n",
    "            print(\"YES\")\n",
    "        else:\n",
    "            print(\"NO\")"
   ]
  },
  {
   "cell_type": "markdown",
   "id": "19431d06",
   "metadata": {},
   "source": [
    "## 바이러스\n",
    "https://www.acmicpc.net/problem/2606"
   ]
  },
  {
   "cell_type": "code",
   "execution_count": null,
   "id": "d2f1c8c0",
   "metadata": {},
   "outputs": [],
   "source": [
    "n = int(input())\n",
    "m = int(input())\n",
    "parent = [elem for elem in range(n+1)]\n",
    "\n",
    "def find(k):\n",
    "    if k == parent[k]:\n",
    "        return k\n",
    "    p = find(parent[k])\n",
    "    parent[k] = p\n",
    "    return p\n",
    "\n",
    "def union(a, b):\n",
    "    a, b = map(find, [a, b])\n",
    "\n",
    "    if a == b:\n",
    "        return\n",
    "    elif a < b:\n",
    "        parent[b] = a\n",
    "    else:\n",
    "        parent[a] = b\n",
    "\n",
    "for _ in range(m):\n",
    "    a, b = map(int, input().split())\n",
    "    union(a, b)\n",
    "\n",
    "print(sum(1 for i in range(2, n+1) if find(i) == 1))"
   ]
  },
  {
   "cell_type": "markdown",
   "id": "2f3a653a",
   "metadata": {},
   "source": [
    "# 힙 공부"
   ]
  },
  {
   "cell_type": "markdown",
   "id": "81c58582",
   "metadata": {},
   "source": [
    "## 최대 힙\n",
    "https://www.acmicpc.net/problem/11279"
   ]
  },
  {
   "cell_type": "code",
   "execution_count": null,
   "id": "841dc310",
   "metadata": {},
   "outputs": [],
   "source": [
    "import heapq, sys\n",
    "input = sys.stdin.readline\n",
    "\n",
    "heap = []\n",
    "for _ in range(int(input())):\n",
    "    num = int(input())\n",
    "\n",
    "    if num == 0:\n",
    "        try:\n",
    "            print(-heapq.heappop(heap))\n",
    "        except:\n",
    "            print(0)\n",
    "    else:\n",
    "        heapq.heappush(heap, -num)"
   ]
  },
  {
   "cell_type": "markdown",
   "id": "e040ad34",
   "metadata": {},
   "source": [
    "## 최소 힙\n",
    "https://www.acmicpc.net/problem/1927"
   ]
  },
  {
   "cell_type": "code",
   "execution_count": null,
   "id": "9ce9956c",
   "metadata": {},
   "outputs": [],
   "source": [
    "import heapq, sys\n",
    "\n",
    "input = sys.stdin.readline\n",
    "\n",
    "heap = []\n",
    "for _ in range(int(input())):\n",
    "    num = int(input())\n",
    "    if num == 0:\n",
    "        try:\n",
    "            print(heapq.heappop(heap))\n",
    "        except:\n",
    "            print(0)\n",
    "    else:\n",
    "        heapq.heappush(heap, num)"
   ]
  },
  {
   "cell_type": "markdown",
   "id": "acfc1710",
   "metadata": {},
   "source": [
    "## 가운데를 말해요\n",
    "https://www.acmicpc.net/problem/1655"
   ]
  },
  {
   "cell_type": "code",
   "execution_count": null,
   "id": "f632be3a",
   "metadata": {},
   "outputs": [],
   "source": [
    "import heapq\n",
    "\n",
    "left, right, ans = [], [], []\n",
    "\n",
    "for _ in range(int(input())):\n",
    "    num = int(input())\n",
    "    if len(left) == len(right):\n",
    "        heapq.heappush(left, -num)\n",
    "    else:\n",
    "        heapq.heappush(right, num)\n",
    "\n",
    "    if right and -left[0] > right[0]:\n",
    "        l = heapq.heappop(left)\n",
    "        r = heapq.heappop(right)\n",
    "        heapq.heappush(left, -r)\n",
    "        heapq.heappush(right, -l)\n",
    "    ans.append(-left[0])\n",
    "\n",
    "print(*[elem for elem in ans], sep=\"\\n\")"
   ]
  },
  {
   "cell_type": "markdown",
   "id": "171e5849",
   "metadata": {},
   "source": [
    "## 회사에 있는 사람\n",
    "https://www.acmicpc.net/problem/7785"
   ]
  },
  {
   "cell_type": "code",
   "execution_count": null,
   "id": "82184edc",
   "metadata": {},
   "outputs": [],
   "source": [
    "dic = {}\n",
    "for _ in range(int(input())):\n",
    "    name, state = input().split()\n",
    "    if state == \"leave\":\n",
    "        del dic[name]\n",
    "    else:\n",
    "        dic[name] = 0\n",
    "\n",
    "arr = sorted(dic, reverse=True)\n",
    "print(*[elem for elem in arr], sep=\"\\n\")"
   ]
  },
  {
   "cell_type": "markdown",
   "id": "35208261",
   "metadata": {},
   "source": [
    "## 듣보잡\n",
    "https://www.acmicpc.net/problem/1764"
   ]
  },
  {
   "cell_type": "code",
   "execution_count": null,
   "id": "e1a25102",
   "metadata": {},
   "outputs": [],
   "source": [
    "n, m = map(int, input().split())\n",
    "a, b = set(), set()\n",
    "for _ in range(n):\n",
    "    a.add(input())\n",
    "\n",
    "for _ in range(m):\n",
    "    b.add(input())\n",
    "\n",
    "print(len(a & b))\n",
    "print(*[elem for elem in sorted(a & b)], sep=\"\\n\")"
   ]
  },
  {
   "cell_type": "markdown",
   "id": "50809fdb",
   "metadata": {},
   "source": [
    "# 자료구조2 연습"
   ]
  },
  {
   "cell_type": "markdown",
   "id": "03b879ce",
   "metadata": {},
   "source": [
    "## 검열\n",
    "https://www.acmicpc.net/problem/3111"
   ]
  },
  {
   "cell_type": "code",
   "execution_count": 9,
   "id": "35b2c101",
   "metadata": {},
   "outputs": [
    {
     "data": {
      "text/plain": [
       "([1, 2, 3], [5, 3])"
      ]
     },
     "execution_count": 9,
     "metadata": {},
     "output_type": "execute_result"
    }
   ],
   "source": [
    "import sys\n",
    "\n",
    "input = sys.stdin.readline().rstrip()\n",
    "\n",
    "A = input()\n",
    "T = input()\n",
    "\n",
    "idx, last_idx = 0, len(T) - 1\n",
    "front, back = [], []\n",
    "l = len(A)\n",
    "reverse_A = A[::-1]\n",
    "\n",
    "flag = True\n",
    "\n",
    "while idx <= last_idx:\n",
    "    if flag:\n",
    "        front.append(T[idx])\n",
    "        idx += 1\n",
    "        if front[-l:] == A:\n",
    "            front[-l:] = []\n",
    "            flag = False\n",
    "    else:\n",
    "        back.append(T[last_idx])\n",
    "        last_idx -= 1\n",
    "        if back[-l:] == reverse_A:\n",
    "            back[-l:] = []\n",
    "            flag = True\n",
    "while back:\n",
    "    front.append(back.pop)\n",
    "    if front[-l:] == A:\n",
    "        front[-l:] = []\n",
    "\n",
    "print(''.join(front))"
   ]
  },
  {
   "attachments": {},
   "cell_type": "markdown",
   "id": "761ce6ef",
   "metadata": {},
   "source": [
    "## <span style=\"color: red\">카드 구매하기 3</span>\n",
    "https://www.acmicpc.net/problem/16909"
   ]
  },
  {
   "cell_type": "markdown",
   "id": "dfbe215c",
   "metadata": {},
   "source": [
    "## Ceiling Function\n",
    "https://www.acmicpc.net/problem/12767"
   ]
  }
 ],
 "metadata": {
  "kernelspec": {
   "display_name": "Python 3",
   "language": "python",
   "name": "python3"
  },
  "language_info": {
   "codemirror_mode": {
    "name": "ipython",
    "version": 3
   },
   "file_extension": ".py",
   "mimetype": "text/x-python",
   "name": "python",
   "nbconvert_exporter": "python",
   "pygments_lexer": "ipython3",
   "version": "3.9.6"
  },
  "vscode": {
   "interpreter": {
    "hash": "31f2aee4e71d21fbe5cf8b01ff0e069b9275f58929596ceb00d14d90e3e16cd6"
   }
  }
 },
 "nbformat": 4,
 "nbformat_minor": 5
}
