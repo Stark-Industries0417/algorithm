{
 "cells": [
  {
   "cell_type": "markdown",
   "id": "42360b3b",
   "metadata": {},
   "source": [
    "## 문자열 폭발\n",
    "https://www.acmicpc.net/problem/9935"
   ]
  },
  {
   "cell_type": "code",
   "execution_count": null,
   "id": "04a7f3ff",
   "metadata": {},
   "outputs": [],
   "source": [
    "words =  input()\n",
    "bomb = list(input())\n",
    "\n",
    "stack = []\n",
    "for word in words:\n",
    "    stack.append(word)\n",
    "    if len(stack) >= len(bomb):\n",
    "        if stack[-len(bomb):] == bomb:\n",
    "            for _ in range(len(bomb)):\n",
    "                stack.pop()\n",
    "print(*stack if stack else \"FRULA\", sep='')"
   ]
  },
  {
   "cell_type": "markdown",
   "id": "b29da21a",
   "metadata": {},
   "source": [
    "## 히스토그램에서 가장 큰 직사각형\n",
    "https://www.acmicpc.net/problem/6549"
   ]
  },
  {
   "cell_type": "markdown",
   "id": "d22fb37c",
   "metadata": {},
   "source": [
    "## 오아시스 재결합\n",
    "https://www.acmicpc.net/problem/3015"
   ]
  },
  {
   "cell_type": "markdown",
   "id": "cfe19d36",
   "metadata": {},
   "source": [
    "# 유니온 파인드 공부"
   ]
  },
  {
   "cell_type": "markdown",
   "id": "d0606c11",
   "metadata": {},
   "source": [
    "## 집합의 표현\n",
    "https://www.acmicpc.net/problem/1717"
   ]
  },
  {
   "cell_type": "markdown",
   "id": "19431d06",
   "metadata": {},
   "source": [
    "## 바이러스\n",
    "https://www.acmicpc.net/problem/2606"
   ]
  },
  {
   "cell_type": "markdown",
   "id": "2f3a653a",
   "metadata": {},
   "source": [
    "# 힙 공부"
   ]
  },
  {
   "cell_type": "markdown",
   "id": "81c58582",
   "metadata": {},
   "source": [
    "## 최대 힙\n",
    "https://www.acmicpc.net/problem/11279"
   ]
  },
  {
   "cell_type": "markdown",
   "id": "e040ad34",
   "metadata": {},
   "source": [
    "## 최소 힙\n",
    "https://www.acmicpc.net/problem/1927"
   ]
  },
  {
   "cell_type": "markdown",
   "id": "acfc1710",
   "metadata": {},
   "source": [
    "## 가운데를 말해요\n",
    "https://www.acmicpc.net/problem/1655"
   ]
  },
  {
   "cell_type": "markdown",
   "id": "171e5849",
   "metadata": {},
   "source": [
    "## 회사에 있는 사람\n",
    "https://www.acmicpc.net/problem/7785"
   ]
  },
  {
   "cell_type": "markdown",
   "id": "35208261",
   "metadata": {},
   "source": [
    "## 듣보잡\n",
    "https://www.acmicpc.net/problem/1764"
   ]
  },
  {
   "cell_type": "markdown",
   "id": "50809fdb",
   "metadata": {},
   "source": [
    "# 자료구조2 연습"
   ]
  },
  {
   "cell_type": "markdown",
   "id": "03b879ce",
   "metadata": {},
   "source": [
    "## 검열\n",
    "https://www.acmicpc.net/problem/3111"
   ]
  },
  {
   "cell_type": "markdown",
   "id": "761ce6ef",
   "metadata": {},
   "source": [
    "## 카드 구매하기 3\n",
    "https://www.acmicpc.net/problem/16909"
   ]
  },
  {
   "cell_type": "markdown",
   "id": "dfbe215c",
   "metadata": {},
   "source": [
    "## Ceiling Function\n",
    "https://www.acmicpc.net/problem/12767"
   ]
  }
 ],
 "metadata": {
  "kernelspec": {
   "display_name": "Python 3",
   "language": "python",
   "name": "python3"
  },
  "language_info": {
   "codemirror_mode": {
    "name": "ipython",
    "version": 3
   },
   "file_extension": ".py",
   "mimetype": "text/x-python",
   "name": "python",
   "nbconvert_exporter": "python",
   "pygments_lexer": "ipython3",
   "version": "3.8.8"
  }
 },
 "nbformat": 4,
 "nbformat_minor": 5
}
