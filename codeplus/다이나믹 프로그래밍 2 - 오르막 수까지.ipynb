{
 "cells": [
  {
   "cell_type": "markdown",
   "id": "6ada2fb8",
   "metadata": {},
   "source": [
    "## 1, 2, 3 더하기 3\n",
    "https://www.acmicpc.net/problem/15988"
   ]
  },
  {
   "cell_type": "code",
   "execution_count": 3,
   "id": "7bdfb32b",
   "metadata": {},
   "outputs": [
    {
     "name": "stdout",
     "output_type": "stream",
     "text": [
      "3\n",
      "4\n",
      "7\n",
      "7\n",
      "44\n",
      "10\n",
      "274\n"
     ]
    }
   ],
   "source": [
    "d = [0] * 1000001\n",
    "mod = 1000000009\n",
    "d[0] = 1\n",
    "for i in range(1, 1000000+1):\n",
    "    if i-1 >= 0:\n",
    "        d[i] += d[i-1]\n",
    "    if i-2 >= 0:\n",
    "        d[i] += d[i-2]\n",
    "    if i-3 >= 0:\n",
    "        d[i] += d[i-3]\n",
    "    d[i] %= mod\n",
    "    \n",
    "t = int(input())\n",
    "for _ in range(t):\n",
    "    n = int(input())\n",
    "    print(d[n])"
   ]
  },
  {
   "cell_type": "markdown",
   "id": "c02ed811",
   "metadata": {},
   "source": [
    "## RGB거리\n",
    "https://www.acmicpc.net/problem/1149   \n",
    "d[i][j] = i번 집을 색 j로 칠했을 때, 1~i번 집 칠하는 비용의 최소값\n",
    "d[i][0] = min(d[i-1][1], d[i-1][2]) + a[i][0]"
   ]
  },
  {
   "cell_type": "code",
   "execution_count": 9,
   "id": "23334b85",
   "metadata": {},
   "outputs": [
    {
     "name": "stdout",
     "output_type": "stream",
     "text": [
      "3\n",
      "26 40 83\n",
      "49 60 57\n",
      "13 89 99\n",
      "96\n"
     ]
    }
   ],
   "source": [
    "n = int(input())\n",
    "d = [list(map(int, input().split())) for _ in range(n)]\n",
    "for i in range(1, len(d)):\n",
    "    d[i][0] = min(d[i-1][1], d[i-1][2]) + d[i][0]\n",
    "    d[i][1] = min(d[i-1][0], d[i-1][2]) + d[i][1]\n",
    "    d[i][2] = min(d[i-1][0], d[i-1][1]) + d[i][2]\n",
    "print(min(d[n-1]))"
   ]
  },
  {
   "cell_type": "markdown",
   "id": "50198d14",
   "metadata": {},
   "source": [
    "## 동물원\n",
    "https://www.acmicpc.net/problem/1309   \n",
    "d[n][m] = 세로로 n칸이고 마지막 칸 m번 방법인 배치의 수   \n",
    "d[n][0] = d[n-1][0] + d[n-1][1] + d[n-1][2]   \n",
    "d[n][1] = d[n-1][0] + d[n-1][2]"
   ]
  },
  {
   "cell_type": "code",
   "execution_count": 15,
   "id": "9d0aca63",
   "metadata": {},
   "outputs": [
    {
     "name": "stdout",
     "output_type": "stream",
     "text": [
      "4\n",
      "41\n"
     ]
    }
   ],
   "source": [
    "n = int(input())\n",
    "d = [[0] * 3 for _ in range(n+1)]\n",
    "for i in range(3):\n",
    "    d[1][i] = 1\n",
    "mod = 9901\n",
    "\n",
    "for i in range(2, n+1):\n",
    "    d[i][0] = (d[i-1][0] + d[i-1][1] + d[i-1][2]) % mod\n",
    "    d[i][1] = (d[i-1][0] + d[i-1][2]) % mod\n",
    "    d[i][2] = (d[i-1][0] + d[i-1][1]) % mod\n",
    "    \n",
    "print(sum(d[n]) % mod)"
   ]
  },
  {
   "cell_type": "markdown",
   "id": "97e2e98e",
   "metadata": {},
   "source": [
    "## 오르막 수\n",
    "https://www.acmicpc.net/problem/11057   \n",
    "d[i][j] = 수의 길이 i이고 마지막 i번째 수는 j인 오르막 수의 개수\n",
    "d[i][j] += d[i-1][k]   \n",
    "d[1][0~9] = 1"
   ]
  },
  {
   "cell_type": "code",
   "execution_count": 21,
   "id": "40bfad1d",
   "metadata": {},
   "outputs": [
    {
     "name": "stdout",
     "output_type": "stream",
     "text": [
      "2\n",
      "55\n"
     ]
    }
   ],
   "source": [
    "n = int(input())\n",
    "mod = 10007\n",
    "d = [[0] * 10 for _ in range(n+1)]\n",
    "for i in range(10): d[1][i] = 1\n",
    "for i in range(2, n+1):\n",
    "    for j in range(10):\n",
    "        for k in range(j+1):\n",
    "            d[i][j] += d[i-1][k]\n",
    "            d[i][j] %= mod\n",
    "ans = 0\n",
    "for i in range(10):\n",
    "    ans += d[n][i]\n",
    "ans %= mod\n",
    "print(ans)"
   ]
  }
 ],
 "metadata": {
  "kernelspec": {
   "display_name": "Python 3",
   "language": "python",
   "name": "python3"
  },
  "language_info": {
   "codemirror_mode": {
    "name": "ipython",
    "version": 3
   },
   "file_extension": ".py",
   "mimetype": "text/x-python",
   "name": "python",
   "nbconvert_exporter": "python",
   "pygments_lexer": "ipython3",
   "version": "3.8.8"
  }
 },
 "nbformat": 4,
 "nbformat_minor": 5
}
