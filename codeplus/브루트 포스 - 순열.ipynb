{
 "cells": [
  {
   "cell_type": "markdown",
   "id": "7485451c",
   "metadata": {},
   "source": [
    "# 순열 O(N * N!) \n",
    "10! 이 4백만 정도 인데 11! 은 4억을 넘어가서 4초 정도 걸림 그래서 보통 문제에서 N <= 10 으로 제한 둠"
   ]
  },
  {
   "cell_type": "markdown",
   "id": "eb1d4d45",
   "metadata": {},
   "source": [
    "## 다음순열 O(N)\n",
    "https://www.acmicpc.net/problem/10972"
   ]
  },
  {
   "cell_type": "code",
   "execution_count": 2,
   "id": "3c7fdd3a",
   "metadata": {},
   "outputs": [
    {
     "name": "stdout",
     "output_type": "stream",
     "text": [
      "4\n",
      "1 2 3 4\n",
      "1 2 4 3\n"
     ]
    }
   ],
   "source": [
    "n = int(input())\n",
    "a = list(map(int, input().split()))\n",
    "\n",
    "def next_permutation(a: list) -> bool:\n",
    "    i = len(a) - 1\n",
    "    while i > 0 and a[i-1] >= a[i]:\n",
    "        i -= 1\n",
    "    if i <= 0:\n",
    "        return False\n",
    "    j = len(a) - 1\n",
    "    while a[j] <= a[i-1]:\n",
    "        j -= 1\n",
    "    a[i-1], a[j] = a[j], a[i-1]\n",
    "    \n",
    "    j = len(a) - 1\n",
    "    while i < j:\n",
    "        a[i], a[j] = a[j], a[i]\n",
    "        i += 1\n",
    "        j -= 1\n",
    "    return True\n",
    "\n",
    "if next_permutation(a):\n",
    "    print(' '.join(map(str, a)))\n",
    "else:\n",
    "    print(-1)"
   ]
  },
  {
   "cell_type": "markdown",
   "id": "1e221238",
   "metadata": {},
   "source": [
    "## 이전 순열 \n",
    "https://www.acmicpc.net/problem/10973"
   ]
  },
  {
   "cell_type": "markdown",
   "id": "e6393ce9",
   "metadata": {},
   "source": [
    "## 모든 순열 \n",
    "https://www.acmicpc.net/problem/10974"
   ]
  },
  {
   "cell_type": "code",
   "execution_count": 3,
   "id": "94a36d1d",
   "metadata": {},
   "outputs": [
    {
     "name": "stdout",
     "output_type": "stream",
     "text": [
      "4\n",
      "1 2 3 4\n",
      "1 2 4 3\n",
      "1 3 2 4\n",
      "1 3 4 2\n",
      "1 4 2 3\n",
      "1 4 3 2\n",
      "2 1 3 4\n",
      "2 1 4 3\n",
      "2 3 1 4\n",
      "2 3 4 1\n",
      "2 4 1 3\n",
      "2 4 3 1\n",
      "3 1 2 4\n",
      "3 1 4 2\n",
      "3 2 1 4\n",
      "3 2 4 1\n",
      "3 4 1 2\n",
      "3 4 2 1\n",
      "4 1 2 3\n",
      "4 1 3 2\n",
      "4 2 1 3\n",
      "4 2 3 1\n",
      "4 3 1 2\n",
      "4 3 2 1\n"
     ]
    }
   ],
   "source": [
    "n = int(input())\n",
    "a = list(range(1, n + 1))\n",
    "def all_permutation(a):\n",
    "    i = len(a) - 1\n",
    "    while i > 0 and a[i-1] >= a[i]: # 비 오름차순 아닌 인덱스 찾기\n",
    "        i -= 1\n",
    "    if i <= 0:\n",
    "        return False\n",
    "    j = len(a) - 1\n",
    "    while a[j] <= a[i-1]:  # i-1 와 바꿀 수 찾기\n",
    "        j -= 1\n",
    "    \n",
    "    a[i-1], a[j] = a[j], a[i-1] # 값 바꾸기\n",
    "    \n",
    "    j = len(a) - 1\n",
    "    while i < j:       # 인덱스 i 부터 수들 비 내림차순으로 바꾸기\n",
    "        a[i], a[j] = a[j], a[i]\n",
    "        i += 1\n",
    "        j -= 1\n",
    "    return True\n",
    "\n",
    "while True:\n",
    "    print(' '.join(map(str, a)))\n",
    "    if not all_permutation(a):\n",
    "        break\n",
    "        "
   ]
  },
  {
   "cell_type": "code",
   "execution_count": null,
   "id": "f5cd635c",
   "metadata": {},
   "outputs": [],
   "source": []
  },
  {
   "cell_type": "code",
   "execution_count": null,
   "id": "3b994dc8",
   "metadata": {},
   "outputs": [],
   "source": []
  },
  {
   "cell_type": "code",
   "execution_count": null,
   "id": "3f29c372",
   "metadata": {},
   "outputs": [],
   "source": []
  },
  {
   "cell_type": "code",
   "execution_count": null,
   "id": "0369bc84",
   "metadata": {},
   "outputs": [],
   "source": []
  },
  {
   "cell_type": "code",
   "execution_count": null,
   "id": "afca1ad6",
   "metadata": {},
   "outputs": [],
   "source": []
  },
  {
   "cell_type": "code",
   "execution_count": null,
   "id": "92b55de3",
   "metadata": {},
   "outputs": [],
   "source": []
  },
  {
   "cell_type": "code",
   "execution_count": null,
   "id": "c8f95512",
   "metadata": {},
   "outputs": [],
   "source": []
  },
  {
   "cell_type": "code",
   "execution_count": null,
   "id": "56971036",
   "metadata": {},
   "outputs": [],
   "source": []
  }
 ],
 "metadata": {
  "kernelspec": {
   "display_name": "Python 3",
   "language": "python",
   "name": "python3"
  },
  "language_info": {
   "codemirror_mode": {
    "name": "ipython",
    "version": 3
   },
   "file_extension": ".py",
   "mimetype": "text/x-python",
   "name": "python",
   "nbconvert_exporter": "python",
   "pygments_lexer": "ipython3",
   "version": "3.8.8"
  }
 },
 "nbformat": 4,
 "nbformat_minor": 5
}
