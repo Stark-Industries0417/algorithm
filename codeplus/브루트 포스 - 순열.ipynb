{
 "cells": [
  {
   "cell_type": "markdown",
   "id": "7485451c",
   "metadata": {},
   "source": [
    "# 순열 O(N * N!) \n",
    "10! 이 4백만 정도 인데 11! 은 4억을 넘어가서 4초 정도 걸림 그래서 보통 문제에서 N <= 10 으로 제한 둠"
   ]
  },
  {
   "cell_type": "markdown",
   "id": "eb1d4d45",
   "metadata": {},
   "source": [
    "## 다음순열 O(N)\n",
    "https://www.acmicpc.net/problem/10972"
   ]
  },
  {
   "cell_type": "markdown",
   "id": "12aa5eca",
   "metadata": {},
   "source": [
    "7236541    \n",
    "A[i-1] < A[i] 만족하는 가장 큰 i 찾기   \n",
    "i <= j ans A[j] > A[i-1] 만족하는 가장 큰 j 찾기   \n",
    "A[i-1], A[j] swap   \n",
    "7246531   \n",
    "A[i] 부터 순열 뒤집기\n",
    "7241356\n"
   ]
  },
  {
   "cell_type": "code",
   "execution_count": 2,
   "id": "3c7fdd3a",
   "metadata": {},
   "outputs": [
    {
     "name": "stdout",
     "output_type": "stream",
     "text": [
      "4\n",
      "1 2 3 4\n",
      "1 2 4 3\n"
     ]
    }
   ],
   "source": [
    "n = int(input())\n",
    "a = list(map(int, input().split()))\n",
    "\n",
    "def next_permutation(a: list) -> bool:\n",
    "    i = len(a) - 1\n",
    "    while i > 0 and a[i-1] >= a[i]:\n",
    "        i -= 1\n",
    "    if i <= 0:\n",
    "        return False\n",
    "    j = len(a) - 1\n",
    "    while a[j] <= a[i-1]:\n",
    "        j -= 1\n",
    "    a[i-1], a[j] = a[j], a[i-1]\n",
    "    \n",
    "    j = len(a) - 1\n",
    "    while i < j:\n",
    "        a[i], a[j] = a[j], a[i]\n",
    "        i += 1\n",
    "        j -= 1\n",
    "    return True\n",
    "\n",
    "if next_permutation(a):\n",
    "    print(' '.join(map(str, a)))\n",
    "else:\n",
    "    print(-1)"
   ]
  },
  {
   "cell_type": "markdown",
   "id": "1e221238",
   "metadata": {},
   "source": [
    "## 이전 순열 \n",
    "https://www.acmicpc.net/problem/10973"
   ]
  },
  {
   "cell_type": "markdown",
   "id": "e6393ce9",
   "metadata": {},
   "source": [
    "## 모든 순열 \n",
    "https://www.acmicpc.net/problem/10974"
   ]
  },
  {
   "cell_type": "code",
   "execution_count": 3,
   "id": "94a36d1d",
   "metadata": {},
   "outputs": [
    {
     "name": "stdout",
     "output_type": "stream",
     "text": [
      "4\n",
      "1 2 3 4\n",
      "1 2 4 3\n",
      "1 3 2 4\n",
      "1 3 4 2\n",
      "1 4 2 3\n",
      "1 4 3 2\n",
      "2 1 3 4\n",
      "2 1 4 3\n",
      "2 3 1 4\n",
      "2 3 4 1\n",
      "2 4 1 3\n",
      "2 4 3 1\n",
      "3 1 2 4\n",
      "3 1 4 2\n",
      "3 2 1 4\n",
      "3 2 4 1\n",
      "3 4 1 2\n",
      "3 4 2 1\n",
      "4 1 2 3\n",
      "4 1 3 2\n",
      "4 2 1 3\n",
      "4 2 3 1\n",
      "4 3 1 2\n",
      "4 3 2 1\n"
     ]
    }
   ],
   "source": [
    "n = int(input())\n",
    "a = list(range(1, n + 1))\n",
    "def all_permutation(a):\n",
    "    i = len(a) - 1\n",
    "    while i > 0 and a[i-1] >= a[i]: # 비 오름차순 아닌 인덱스 찾기\n",
    "        i -= 1\n",
    "    if i <= 0:\n",
    "        return False\n",
    "    j = len(a) - 1\n",
    "    while a[j] <= a[i-1]:  # i-1 와 바꿀 수 찾기\n",
    "        j -= 1\n",
    "    \n",
    "    a[i-1], a[j] = a[j], a[i-1] # 값 바꾸기\n",
    "    \n",
    "    j = len(a) - 1\n",
    "    while i < j:       # 인덱스 i 부터 수들 비 내림차순으로 바꾸기\n",
    "        a[i], a[j] = a[j], a[i]\n",
    "        i += 1\n",
    "        j -= 1\n",
    "    return True\n",
    "\n",
    "while True:\n",
    "    print(' '.join(map(str, a)))\n",
    "    if not all_permutation(a):\n",
    "        break\n",
    "        "
   ]
  },
  {
   "cell_type": "markdown",
   "id": "323e2574",
   "metadata": {},
   "source": [
    "## 차이를 최대로 10819번 O(n * n!)\n",
    "3 ≤ N ≤ 8   \n",
    "최댓값   \n",
    "https://www.acmicpc.net/problem/10819\n"
   ]
  },
  {
   "cell_type": "code",
   "execution_count": null,
   "id": "3b994dc8",
   "metadata": {},
   "outputs": [],
   "source": [
    "def next_permutation(a: list) -> bool:\n",
    "    i = len(a) - 1\n",
    "    while i > 0 and a[i-1] >= a[i]:\n",
    "        i -= 1\n",
    "    if i <= 0:\n",
    "        return False\n",
    "    j = len(a) - 1\n",
    "    while a[j] <= a[i-1]:\n",
    "        j -= 1\n",
    "    \n",
    "    a[i-1], a[j] = a[j], a[i-1]\n",
    "    \n",
    "    j = len(a) - 1\n",
    "    while i < j:\n",
    "        a[i], a[j] = a[j], a[i]\n",
    "        j += 1\n",
    "        j -= 1\n",
    "    return True\n",
    "\n",
    "def calc(a):\n",
    "    ans = 0\n",
    "    for i in range(1, len(a)):\n",
    "        ans += abs(a[i] - a[i-1])\n",
    "    return ans\n",
    "\n",
    "n = int(input())\n",
    "a = list(map(int, input().split()))\n",
    "a.sort()\n",
    "ans = 0\n",
    "\n",
    "while True:\n",
    "    temp = calc(a)\n",
    "    ans = max(ans, temp)\n",
    "    if not next_permutation(a):\n",
    "        break\n",
    "print(ans)"
   ]
  },
  {
   "cell_type": "markdown",
   "id": "56ea8044",
   "metadata": {},
   "source": [
    "## 외판원 순회2  O(N * N!)\n",
    "https://www.acmicpc.net/problem/10971\n",
    "\n",
    "\n",
    "2 ≤ N ≤ 10"
   ]
  },
  {
   "cell_type": "code",
   "execution_count": 1,
   "id": "cf74e934",
   "metadata": {},
   "outputs": [
    {
     "name": "stdout",
     "output_type": "stream",
     "text": [
      "4\n",
      "0 10 15 20\n",
      "5 0 9 10\n",
      "6 13 0 12\n",
      "8 8 9 0\n",
      "35\n"
     ]
    }
   ],
   "source": [
    "import sys\n",
    "\n",
    "def next_permutation(a: list) -> bool:\n",
    "    i = len(a) - 1\n",
    "    while i > 0 and a[i-1] >= a[i]:\n",
    "        i -= 1\n",
    "    if i <= 0:\n",
    "        return False\n",
    "    \n",
    "    j = len(a) - 1\n",
    "    while a[j] <= a[i-1]:\n",
    "        j -= 1\n",
    "    a[i-1], a[j] = a[j], a[i-1]\n",
    "    \n",
    "    j = len(a) - 1\n",
    "    while i < j:\n",
    "        a[i], a[j] = a[j], a[i]\n",
    "        i += 1\n",
    "        j -= 1\n",
    "    return True\n",
    "\n",
    "n = int(input())\n",
    "w = [list(map(int, input().split())) for _ in range(n)]\n",
    "d = list(range(n))\n",
    "ans = sys.maxsize\n",
    "\n",
    "while True:\n",
    "    if d[0] != 0:\n",
    "        break\n",
    "    ok = True\n",
    "    s = 0\n",
    "    for i in range(0, n-1):\n",
    "        if w[d[i]][d[i+1]] == 0:\n",
    "            ok = False\n",
    "            break\n",
    "        else:\n",
    "            s += w[d[i]][d[i+1]]\n",
    "    if ok and w[d[-1]][d[0]] != 0:\n",
    "        s += w[d[-1]][d[0]]\n",
    "        ans = min(ans, s)\n",
    "    if not next_permutation(d):\n",
    "        break\n",
    "print(ans)"
   ]
  },
  {
   "cell_type": "markdown",
   "id": "e20224c3",
   "metadata": {},
   "source": [
    "1 -> 2 -> 3 -> 4   \n",
    "2 -> 3 -> 4 -> 1   \n",
    "3 -> 4 -> 1 -> 2   \n",
    "4 -> 1 -> 2 -> 3\n",
    "\n",
    "모든 같은 경우 이므로 시작점을 1로 고정해도 됨"
   ]
  },
  {
   "cell_type": "markdown",
   "id": "8aef70aa",
   "metadata": {},
   "source": [
    "## 로또    \n",
    "N 과 M (2) 와 같음   \n",
    "https://www.acmicpc.net/problem/6603"
   ]
  },
  {
   "cell_type": "code",
   "execution_count": null,
   "id": "27f2161b",
   "metadata": {},
   "outputs": [],
   "source": [
    "def next_permutation(a: list) -> bool:\n",
    "    i = len(a) - 1\n",
    "    while i > 0 and a[i-1] >= a[i]:\n",
    "        i -= 1\n",
    "    if i <= 0:\n",
    "        return False\n",
    "\n",
    "    j = len(a) - 1\n",
    "    while a[i-1] >= a[j]:\n",
    "        j -= 1\n",
    "    a[i-1], a[j] = a[j], a[i-1]\n",
    "    \n",
    "    j = len(a) - 1\n",
    "    while i < j:\n",
    "        a[i], a[j] = a[j], a[i]\n",
    "        i += 1\n",
    "        j -= 1\n",
    "    return True\n",
    "\n",
    "while True:\n",
    "    n, *a = list(map(int, input().split()))\n",
    "    if n == 0:\n",
    "        break\n",
    "    d = [0] * (n-6) + [1] * 6\n",
    "    ans = []\n",
    "    while True:\n",
    "        cur = [a[i] for i in range(n) if d[i] == 1]\n",
    "        ans.append(cur)\n",
    "        if not next_permutation(d):\n",
    "            break\n",
    "    ans.sort()\n",
    "    for v in ans:\n",
    "        print(' '.join(map(str, v)))\n",
    "    print()\n"
   ]
  },
  {
   "cell_type": "code",
   "execution_count": null,
   "id": "533db73f",
   "metadata": {},
   "outputs": [],
   "source": []
  },
  {
   "cell_type": "code",
   "execution_count": null,
   "id": "81f544c1",
   "metadata": {},
   "outputs": [],
   "source": []
  },
  {
   "cell_type": "code",
   "execution_count": null,
   "id": "d9dd17d8",
   "metadata": {},
   "outputs": [],
   "source": []
  },
  {
   "cell_type": "code",
   "execution_count": null,
   "id": "3cace223",
   "metadata": {},
   "outputs": [],
   "source": []
  },
  {
   "cell_type": "code",
   "execution_count": null,
   "id": "e3075c67",
   "metadata": {},
   "outputs": [],
   "source": []
  },
  {
   "cell_type": "code",
   "execution_count": null,
   "id": "d6e88740",
   "metadata": {},
   "outputs": [],
   "source": []
  },
  {
   "cell_type": "code",
   "execution_count": null,
   "id": "a349b168",
   "metadata": {},
   "outputs": [],
   "source": []
  },
  {
   "cell_type": "code",
   "execution_count": null,
   "id": "3f29c372",
   "metadata": {},
   "outputs": [],
   "source": []
  },
  {
   "cell_type": "code",
   "execution_count": null,
   "id": "0369bc84",
   "metadata": {},
   "outputs": [],
   "source": []
  },
  {
   "cell_type": "code",
   "execution_count": null,
   "id": "afca1ad6",
   "metadata": {},
   "outputs": [],
   "source": []
  },
  {
   "cell_type": "code",
   "execution_count": null,
   "id": "92b55de3",
   "metadata": {},
   "outputs": [],
   "source": []
  },
  {
   "cell_type": "code",
   "execution_count": null,
   "id": "c8f95512",
   "metadata": {},
   "outputs": [],
   "source": []
  },
  {
   "cell_type": "code",
   "execution_count": null,
   "id": "56971036",
   "metadata": {},
   "outputs": [],
   "source": []
  }
 ],
 "metadata": {
  "kernelspec": {
   "display_name": "Python 3",
   "language": "python",
   "name": "python3"
  },
  "language_info": {
   "codemirror_mode": {
    "name": "ipython",
    "version": 3
   },
   "file_extension": ".py",
   "mimetype": "text/x-python",
   "name": "python",
   "nbconvert_exporter": "python",
   "pygments_lexer": "ipython3",
   "version": "3.8.8"
  }
 },
 "nbformat": 4,
 "nbformat_minor": 5
}
