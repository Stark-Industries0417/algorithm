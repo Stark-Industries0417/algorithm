{
 "cells": [
  {
   "cell_type": "markdown",
   "id": "c4130fe0",
   "metadata": {},
   "source": [
    "## 1, 2, 3 더하기 O(3 ^ n)"
   ]
  },
  {
   "cell_type": "code",
   "execution_count": 4,
   "id": "f8e18a90",
   "metadata": {},
   "outputs": [
    {
     "name": "stdout",
     "output_type": "stream",
     "text": [
      "7\n"
     ]
    }
   ],
   "source": [
    "def go(sum: int, goal: int) -> int:\n",
    "    if sum > goal: return 0\n",
    "    if sum == goal: return 1\n",
    "    now = 0\n",
    "    for i in range(1, 4):\n",
    "        now += go(sum + i, goal)\n",
    "    return now\n",
    "\n",
    "print(go(0, 4))"
   ]
  },
  {
   "cell_type": "markdown",
   "id": "4e801181",
   "metadata": {},
   "source": [
    "## 암호 만들기 O(2 ^ C * L)\n",
    "https://www.acmicpc.net/problem/1759"
   ]
  },
  {
   "cell_type": "code",
   "execution_count": 13,
   "id": "f34930f7",
   "metadata": {},
   "outputs": [
    {
     "name": "stdout",
     "output_type": "stream",
     "text": [
      "3 4\n",
      "a b c d\n",
      "abc\n",
      "abd\n",
      "acd\n"
     ]
    }
   ],
   "source": [
    "L, C = map(int, input().split())\n",
    "alpha = input().split()\n",
    "alpha.sort()\n",
    "\n",
    "def go(L: int, alpha: str, password: str, i: int) -> None:\n",
    "    if len(password) == L and check(password):\n",
    "        print(password)\n",
    "        return\n",
    "    if len(alpha) == i:\n",
    "        return\n",
    "    go(L, alpha, password + alpha[i], i + 1)\n",
    "    go(L, alpha, password, i + 1)    \n",
    "\n",
    "def check(password: str) -> bool:\n",
    "    ja = mo = 0\n",
    "    for c in password:\n",
    "        if c in 'aeiou':\n",
    "            mo += 1\n",
    "        else:\n",
    "            ja += 1\n",
    "    return ja >= 2 and mo >= 1\n",
    "\n",
    "go(L, alpha, '', 0)"
   ]
  },
  {
   "cell_type": "markdown",
   "id": "2cf8de5e",
   "metadata": {},
   "source": [
    "## 퇴사 14501번 O(2 ^ N)\n",
    "https://www.acmicpc.net/problem/14501"
   ]
  },
  {
   "cell_type": "code",
   "execution_count": 12,
   "id": "78b04ff5",
   "metadata": {},
   "outputs": [
    {
     "name": "stdout",
     "output_type": "stream",
     "text": [
      "3\n",
      "3 80\n",
      "2 100\n",
      "1 30\n",
      "100\n"
     ]
    }
   ],
   "source": [
    "n = int(input())\n",
    "t = [0] * (n + 1)\n",
    "p = [0] * (n + 1)\n",
    "for i in range(1, n + 1):\n",
    "    t[i], p[i] = map(int, input().split())\n",
    "ans = 0\n",
    "\n",
    "def go(day, s):\n",
    "    global ans\n",
    "    if day == n + 1:\n",
    "        ans = max(ans, s)\n",
    "        return\n",
    "    if day > n + 1:\n",
    "        return\n",
    "    go(day + t[day], s + p[day])\n",
    "    go(day + 1, s)\n",
    "    \n",
    "\n",
    "go(1, 0)\n",
    "print(ans)"
   ]
  },
  {
   "cell_type": "markdown",
   "id": "0355a873",
   "metadata": {},
   "source": [
    "# 백트래킹\n",
    "- 더 이상 호출이 의미 없는 경우 중간에 재귀 함수의 호출을 중단하는 방법"
   ]
  },
  {
   "cell_type": "markdown",
   "id": "b6a1f618",
   "metadata": {},
   "source": [
    "## 스타트와 링크 O(2 ^ N)\n",
    "https://www.acmicpc.net/problem/14889"
   ]
  },
  {
   "cell_type": "code",
   "execution_count": 6,
   "id": "469e4640",
   "metadata": {},
   "outputs": [
    {
     "name": "stdout",
     "output_type": "stream",
     "text": [
      "6\n",
      "0 1 2 3 4 5\n",
      "1 0 2 3 4 5\n",
      "1 2 0 3 4 5\n",
      "1 2 3 0 4 5\n",
      "1 2 3 4 0 5\n",
      "1 2 3 4 5 0\n",
      "2\n"
     ]
    }
   ],
   "source": [
    "# O(2^n)\n",
    "\n",
    "def go(index: int, first: list, second: list) -> int:\n",
    "    if index == n:\n",
    "        if len(first) != n//2:\n",
    "            return -1\n",
    "        if len(second) != n//2:\n",
    "            return -1\n",
    "        t1 = t2 = 0\n",
    "        for i in range(n//2):\n",
    "            for j in range(n//2):\n",
    "                if i == j:\n",
    "                    continue\n",
    "                t1 += s[first[i]][first[j]]\n",
    "                t2 += s[second[i]][second[j]]\n",
    "        diff = abs(t1 - t2)\n",
    "        return diff\n",
    "    \n",
    "    if len(first) > n//2: return -1          # 백트래킹 종료 조건 없으면 모든 경우 다 살피는 브루트 포스임\n",
    "    if len(second) > n//2: return -1         # 백트래킹 종료 조건\n",
    "    \n",
    "#     ans = -1\n",
    "    t1 = go(index + 1, first + [index], second)\n",
    "#     if ans == -1 or (t1 != -1 and ans > t1):\n",
    "    ans = t1\n",
    "    \n",
    "    t2 = go(index + 1, first, second + [index])\n",
    "    if ans == -1 or (t2 != -1 and ans > t2):\n",
    "        ans = t2\n",
    "    return ans\n",
    "\n",
    "n = int(input())\n",
    "s = [list(map(int, input().split())) for _ in range(n)]\n",
    "print(go(0, [], []))"
   ]
  },
  {
   "cell_type": "markdown",
   "id": "99d9a1cb",
   "metadata": {},
   "source": [
    "## 부등호 O(10!)\n",
    "https://www.acmicpc.net/problem/2529"
   ]
  },
  {
   "cell_type": "code",
   "execution_count": null,
   "id": "3ca4967c",
   "metadata": {},
   "outputs": [],
   "source": [
    "def ok(num: str) -> bool:\n",
    "    for i in range(n):\n",
    "        if a[i] == '<':\n",
    "            if num[i] > num[i+1]: \n",
    "                return False\n",
    "        else:\n",
    "            if num[i] < num[i+1]:\n",
    "                return False\n",
    "    return True"
   ]
  },
  {
   "cell_type": "code",
   "execution_count": 23,
   "id": "5084fed0",
   "metadata": {},
   "outputs": [
    {
     "name": "stdout",
     "output_type": "stream",
     "text": [
      "2\n",
      "< >\n",
      "897\n",
      "021\n"
     ]
    }
   ],
   "source": [
    "def good(x, y, op):\n",
    "    if op == '<':\n",
    "        if x > y:\n",
    "            return False\n",
    "    if op == '>':\n",
    "        if x < y:\n",
    "            return False\n",
    "    return True\n",
    "\n",
    "\n",
    "def go(index: int, num: str) -> None:\n",
    "    if index == n + 1:\n",
    "        ans.append(num)\n",
    "        return\n",
    "    \n",
    "    for i in range(10):\n",
    "        if check[i]:\n",
    "            continue\n",
    "        if index == 0 or good(num[index-1], str(i), a[index-1]):\n",
    "            check[i] = True\n",
    "            go(index+1, num + str(i))\n",
    "            check[i] = False\n",
    "\n",
    "n = int(input())\n",
    "a = input().split()\n",
    "ans = []\n",
    "check = [False] * 10\n",
    "\n",
    "go(0, '')\n",
    "ans.sort()\n",
    "\n",
    "print(ans[-1])\n",
    "print(ans[0])"
   ]
  },
  {
   "cell_type": "markdown",
   "id": "77e41d88",
   "metadata": {},
   "source": [
    "## 맞춰봐 O(21 ^ N) \n",
    "1 <= N: 자연수 <= 10    \n",
    "https://www.acmicpc.net/problem/1248"
   ]
  },
  {
   "cell_type": "code",
   "execution_count": 14,
   "id": "63dbb9ad",
   "metadata": {},
   "outputs": [
    {
     "ename": "SyntaxError",
     "evalue": "unexpected EOF while parsing (<ipython-input-14-8b569bf053e7>, line 18)",
     "output_type": "error",
     "traceback": [
      "\u001b[0;36m  File \u001b[0;32m\"<ipython-input-14-8b569bf053e7>\"\u001b[0;36m, line \u001b[0;32m18\u001b[0m\n\u001b[0;31m    \u001b[0m\n\u001b[0m    ^\u001b[0m\n\u001b[0;31mSyntaxError\u001b[0m\u001b[0;31m:\u001b[0m unexpected EOF while parsing\n"
     ]
    }
   ],
   "source": [
    "# 시간초과 풀이\n",
    "def ok():\n",
    "    for i in range(n):\n",
    "        s = 0\n",
    "        for j in range(i, n):\n",
    "            s += ans[j]\n",
    "            if sign[i][j] == 0:\n",
    "                if s != 0:\n",
    "                    return False\n",
    "            elif sign[i][j] > 0:\n",
    "                if s <= 0:\n",
    "                    return False\n",
    "            elif sign[i][j] < 0:\n",
    "                if s >= 0:\n",
    "                    return False\n",
    "    return True\n",
    "\n",
    "def go(index):\n",
    "    if index == n:\n",
    "        return ok()\n",
    "    for i in range(-10, 11):\n",
    "        ans[index] = i\n",
    "        if go(index + 1):\n",
    "            return True\n",
    "    return False\n",
    "\n",
    "n = int(input())\n",
    "s = input()\n",
    "sign = [[0] * n for _ in range(n)]\n",
    "ans = [0] * n\n",
    "cnt = 0\n",
    "for i in range(n):\n",
    "    for j in range(i, n):\n",
    "        if s[cnt] == '0':\n",
    "            sign[i][j] = 0\n",
    "        elif s[cnt] == '+':\n",
    "            sign[i][j] = 1\n",
    "        else:\n",
    "            sign[i][j] = -1\n",
    "        cnt += 1\n",
    "\n",
    "go(0)\n",
    "print(' '.join(map(str, ans)))"
   ]
  },
  {
   "cell_type": "code",
   "execution_count": null,
   "id": "8ff623c2",
   "metadata": {},
   "outputs": [],
   "source": [
    "# O(10 ^ 10) 시간초과\n",
    "def ok():\n",
    "    for i in range(n):\n",
    "        s = 0\n",
    "        for j in range(i, n):\n",
    "            s += ans[j]\n",
    "            if sign[i][j] == 0:\n",
    "                if s != 0:\n",
    "                    return False\n",
    "            elif sign[i][j] > 0:\n",
    "                if s <= 0:\n",
    "                    return False\n",
    "            elif sign[i][j] < 0:\n",
    "                if s >= 0:\n",
    "                    return False\n",
    "    return True\n",
    "\n",
    "\n",
    "def go(index):\n",
    "    if index == n:\n",
    "        return ok()\n",
    "    if sign[index][index] == 0:\n",
    "        ans[index] = 0\n",
    "        return go(index + 1)\n",
    "    for i in range(1, 10):\n",
    "        ans[index] = sign[index][index] * i\n",
    "        if go(index + 1):\n",
    "            return True\n",
    "    return False\n",
    "\n",
    "\n",
    "n = int(input())\n",
    "s = input()\n",
    "sign = [[0] * n for _ in range(n)]\n",
    "ans = [0] * n\n",
    "cnt = 0\n",
    "for i in range(n):\n",
    "    for j in range(i, n):\n",
    "        if s[cnt] == '0':\n",
    "            sign[i][j] = 0\n",
    "        elif s[cnt] == '+':\n",
    "            sign[i][j] = 1\n",
    "        else:\n",
    "            sign[i][j] = -1\n",
    "        cnt += 1\n",
    "\n",
    "go(0)\n",
    "print(' '.join(map(str, ans)))"
   ]
  },
  {
   "cell_type": "code",
   "execution_count": 30,
   "id": "a03efcde",
   "metadata": {},
   "outputs": [
    {
     "name": "stdout",
     "output_type": "stream",
     "text": [
      "4\n",
      "-+0++++--+\n",
      "-1 3 -2 1\n"
     ]
    }
   ],
   "source": [
    "def check(index):\n",
    "    s = 0\n",
    "    for i in range(index, -1, -1):\n",
    "        s += ans[i]\n",
    "        if sign[i][index] == 0:\n",
    "            if s != 0:\n",
    "                return False\n",
    "        elif sign[i][index] < 0:\n",
    "            if s >= 0:\n",
    "                return False\n",
    "        elif sign[i][index] > 0:\n",
    "            if s <= 0:\n",
    "                return False\n",
    "    return True\n",
    "\n",
    "def go(index):\n",
    "    if index == n:\n",
    "        return True\n",
    "    \n",
    "    if sign[index][index] == 0:\n",
    "        ans[index] = 0\n",
    "        return check(index) and go(index + 1)\n",
    "    \n",
    "    for i in range(1, 11):\n",
    "        ans[index] = i * sign[index][index]\n",
    "        if check(index) and go(index + 1):\n",
    "            return True\n",
    "    return False\n",
    "    \n",
    "    \n",
    "n = int(input())\n",
    "s = input()\n",
    "sign = [[0] * n for _ in range(n)]\n",
    "ans = [0] * n\n",
    "cnt = 0\n",
    "for i in range(n):\n",
    "    for j in range(i, n):\n",
    "        if s[cnt] == '0':\n",
    "            sign[i][j] = 0\n",
    "        elif s[cnt] == '+':\n",
    "            sign[i][j] = 1\n",
    "        else:\n",
    "            sign[i][j] = -1\n",
    "        cnt += 1\n",
    "\n",
    "go(0)\n",
    "print(' '.join(map(str, ans)))"
   ]
  },
  {
   "cell_type": "code",
   "execution_count": null,
   "id": "66154db1",
   "metadata": {},
   "outputs": [],
   "source": []
  },
  {
   "cell_type": "code",
   "execution_count": null,
   "id": "a932552a",
   "metadata": {},
   "outputs": [],
   "source": []
  },
  {
   "cell_type": "code",
   "execution_count": null,
   "id": "ef6c241c",
   "metadata": {},
   "outputs": [],
   "source": []
  },
  {
   "cell_type": "code",
   "execution_count": null,
   "id": "044e971a",
   "metadata": {},
   "outputs": [],
   "source": []
  },
  {
   "cell_type": "code",
   "execution_count": null,
   "id": "3289864a",
   "metadata": {},
   "outputs": [],
   "source": []
  },
  {
   "cell_type": "code",
   "execution_count": null,
   "id": "80f918f2",
   "metadata": {},
   "outputs": [],
   "source": []
  },
  {
   "cell_type": "code",
   "execution_count": null,
   "id": "6dc4e968",
   "metadata": {},
   "outputs": [],
   "source": []
  },
  {
   "cell_type": "code",
   "execution_count": null,
   "id": "b1019b52",
   "metadata": {},
   "outputs": [],
   "source": []
  },
  {
   "cell_type": "code",
   "execution_count": null,
   "id": "73108648",
   "metadata": {},
   "outputs": [],
   "source": []
  },
  {
   "cell_type": "code",
   "execution_count": null,
   "id": "b6998aa1",
   "metadata": {},
   "outputs": [],
   "source": []
  }
 ],
 "metadata": {
  "kernelspec": {
   "display_name": "Python 3",
   "language": "python",
   "name": "python3"
  },
  "language_info": {
   "codemirror_mode": {
    "name": "ipython",
    "version": 3
   },
   "file_extension": ".py",
   "mimetype": "text/x-python",
   "name": "python",
   "nbconvert_exporter": "python",
   "pygments_lexer": "ipython3",
   "version": "3.8.8"
  }
 },
 "nbformat": 4,
 "nbformat_minor": 5
}
