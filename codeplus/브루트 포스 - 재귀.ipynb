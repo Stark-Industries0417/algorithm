{
 "cells": [
  {
   "cell_type": "markdown",
   "id": "c4130fe0",
   "metadata": {},
   "source": [
    "## 1, 2, 3 더하기 O(3 ^ n)"
   ]
  },
  {
   "cell_type": "code",
   "execution_count": 3,
   "id": "f8e18a90",
   "metadata": {},
   "outputs": [
    {
     "name": "stdout",
     "output_type": "stream",
     "text": [
      "7\n"
     ]
    }
   ],
   "source": [
    "def go(sum: int, goal: int) -> int:\n",
    "    if sum > goal: return 0\n",
    "    if sum == goal: return 1\n",
    "    now = 0\n",
    "    for i in range(1, 4):\n",
    "        now += go(sum + i, goal)\n",
    "    return now\n",
    "\n",
    "print(go(0, 4))"
   ]
  },
  {
   "cell_type": "markdown",
   "id": "4e801181",
   "metadata": {},
   "source": [
    "## 암호 만들기 O(2 ^ C * L)\n",
    "https://www.acmicpc.net/problem/1759"
   ]
  },
  {
   "cell_type": "code",
   "execution_count": 13,
   "id": "f34930f7",
   "metadata": {},
   "outputs": [
    {
     "name": "stdout",
     "output_type": "stream",
     "text": [
      "3 4\n",
      "a b c d\n",
      "abc\n",
      "abd\n",
      "acd\n"
     ]
    }
   ],
   "source": [
    "L, C = map(int, input().split())\n",
    "alpha = input().split()\n",
    "alpha.sort()\n",
    "\n",
    "def go(L: int, alpha: str, password: str, i: int) -> None:\n",
    "    if len(password) == L and check(password):\n",
    "        print(password)\n",
    "        return\n",
    "    if len(alpha) == i:\n",
    "        return\n",
    "    go(L, alpha, password + alpha[i], i + 1)\n",
    "    go(L, alpha, password, i + 1)    \n",
    "\n",
    "def check(password: str) -> bool:\n",
    "    ja = mo = 0\n",
    "    for c in password:\n",
    "        if c in 'aeiou':\n",
    "            mo += 1\n",
    "        else:\n",
    "            ja += 1\n",
    "    return ja >= 2 and mo >= 1\n",
    "\n",
    "go(L, alpha, '', 0)"
   ]
  },
  {
   "cell_type": "markdown",
   "id": "2cf8de5e",
   "metadata": {},
   "source": [
    "## 퇴사 14501번 O(2 ^ N)\n",
    "https://www.acmicpc.net/problem/14501"
   ]
  },
  {
   "cell_type": "code",
   "execution_count": 19,
   "id": "78b04ff5",
   "metadata": {},
   "outputs": [
    {
     "name": "stdout",
     "output_type": "stream",
     "text": [
      "3\n",
      "3 50\n",
      "2 70\n",
      "1 80\n",
      "80\n"
     ]
    }
   ],
   "source": [
    "n = int(input())\n",
    "t = [0] * (n + 1)\n",
    "p = [0] * (n + 1)\n",
    "for i in range(1, n + 1):\n",
    "    t[i], p[i] = map(int, input().split())\n",
    "ans = 0\n",
    "\n",
    "def go(day, s):\n",
    "    global ans\n",
    "    if day == n + 1:\n",
    "        ans = max(ans, s)\n",
    "        return\n",
    "    if day > n + 1:\n",
    "        return\n",
    "    go(day + t[day], s + p[day])\n",
    "    go(day + 1, s)\n",
    "    \n",
    "\n",
    "go(1, 0)\n",
    "print(ans)"
   ]
  },
  {
   "cell_type": "markdown",
   "id": "0355a873",
   "metadata": {},
   "source": [
    "## 백트래킹\n",
    "- 더 이상 호출이 의미 없는 경우 중간에 재귀 함수의 호출을 중단하는 방법"
   ]
  },
  {
   "cell_type": "markdown",
   "id": "b6a1f618",
   "metadata": {},
   "source": [
    "### 스타트와 링크"
   ]
  },
  {
   "cell_type": "code",
   "execution_count": null,
   "id": "469e4640",
   "metadata": {},
   "outputs": [],
   "source": [
    "# O(2^n)\n",
    "\n",
    "def go(index: int, first: list, second: list) -> int:\n",
    "    if index == n:\n",
    "        if len(first) != n//2:\n",
    "            return -1\n",
    "        if len(second) != n//2:\n",
    "            return -1\n",
    "        t1 = t2 = 0\n",
    "        for i in range(n//2):\n",
    "            for j in range(n//2):\n",
    "                if i == j:\n",
    "                    continue\n",
    "                t1 += s[first[i]][first[j]]\n",
    "                t2 += s[second[i]][second[j]]\n",
    "        diff = abs(t1 - t2)\n",
    "        return diff\n",
    "    ans = -1\n",
    "    t1 = go(index + 1, first + [index], second)\n",
    "    if ans == -1 or (t1 != -1 and ans > t1):\n",
    "        ans = t1\n",
    "    t2 = go(index + 1, first, second + [index])\n",
    "    if ans == -1 or (t2 != -1 and ans > t2):\n",
    "        ans = t2\n",
    "    return ans\n",
    "\n",
    "n = int(input())\n",
    "s = [list(map(int, input().split())) for _ in range(n)]\n",
    "print(go(0, [], []))"
   ]
  },
  {
   "cell_type": "code",
   "execution_count": null,
   "id": "7b10b841",
   "metadata": {},
   "outputs": [],
   "source": []
  },
  {
   "cell_type": "code",
   "execution_count": null,
   "id": "6834050b",
   "metadata": {},
   "outputs": [],
   "source": []
  },
  {
   "cell_type": "code",
   "execution_count": null,
   "id": "5084fed0",
   "metadata": {},
   "outputs": [],
   "source": []
  },
  {
   "cell_type": "code",
   "execution_count": null,
   "id": "63dbb9ad",
   "metadata": {},
   "outputs": [],
   "source": []
  },
  {
   "cell_type": "code",
   "execution_count": null,
   "id": "044e971a",
   "metadata": {},
   "outputs": [],
   "source": []
  },
  {
   "cell_type": "code",
   "execution_count": null,
   "id": "3289864a",
   "metadata": {},
   "outputs": [],
   "source": []
  },
  {
   "cell_type": "code",
   "execution_count": null,
   "id": "80f918f2",
   "metadata": {},
   "outputs": [],
   "source": []
  },
  {
   "cell_type": "code",
   "execution_count": null,
   "id": "6dc4e968",
   "metadata": {},
   "outputs": [],
   "source": []
  },
  {
   "cell_type": "code",
   "execution_count": null,
   "id": "b1019b52",
   "metadata": {},
   "outputs": [],
   "source": []
  },
  {
   "cell_type": "code",
   "execution_count": null,
   "id": "73108648",
   "metadata": {},
   "outputs": [],
   "source": []
  },
  {
   "cell_type": "code",
   "execution_count": null,
   "id": "b6998aa1",
   "metadata": {},
   "outputs": [],
   "source": []
  }
 ],
 "metadata": {
  "kernelspec": {
   "display_name": "Python 3",
   "language": "python",
   "name": "python3"
  },
  "language_info": {
   "codemirror_mode": {
    "name": "ipython",
    "version": 3
   },
   "file_extension": ".py",
   "mimetype": "text/x-python",
   "name": "python",
   "nbconvert_exporter": "python",
   "pygments_lexer": "ipython3",
   "version": "3.8.8"
  }
 },
 "nbformat": 4,
 "nbformat_minor": 5
}
