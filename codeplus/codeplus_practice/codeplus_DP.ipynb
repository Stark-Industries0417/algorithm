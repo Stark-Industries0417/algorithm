{
 "cells": [
  {
   "cell_type": "markdown",
   "id": "fc6e684e",
   "metadata": {},
   "source": [
    "## 이동하기\n",
    "https://www.acmicpc.net/problem/11048"
   ]
  },
  {
   "cell_type": "code",
   "execution_count": null,
   "id": "1fbf1aa1",
   "metadata": {},
   "outputs": [],
   "source": [
    "# python3 에선 시간초과 내 풀이\n",
    "\n",
    "import sys\n",
    "from collections import deque\n",
    "\n",
    "input = sys.stdin.readline\n",
    "\n",
    "n, m = map(int, input().split())\n",
    "graph = list(list(map(int, input().split())) for _ in range(n))\n",
    "dx, dy = [0, 1, 1], [1, 0, 1]\n",
    "d = [[-1] * m for _ in range(n)]\n",
    "q = deque([(0, 0)])\n",
    "d[0][0] = graph[0][0]\n",
    "\n",
    "while q:\n",
    "    x, y = q.popleft()\n",
    "    if x == n-1 and y == m-1:\n",
    "        print(d[n-1][m-1])\n",
    "        break\n",
    "    for k in range(3):\n",
    "        nx, ny = x+dx[k], y+dy[k]\n",
    "        if 0 <= nx < n and 0 <= ny < m and d[nx][ny] < d[x][y] + graph[nx][ny]:\n",
    "            d[nx][ny] = d[x][y] + graph[nx][ny]\n",
    "            q.append((nx, ny))"
   ]
  },
  {
   "cell_type": "code",
   "execution_count": null,
   "id": "489e18c2",
   "metadata": {},
   "outputs": [],
   "source": [
    "# python3에서도 가능\n",
    "\n",
    "n, m = map(int, input().split())\n",
    "graph =[[0] * (m+1)] + [[0] + list(map(int, input().split())) for _ in range(n)]\n",
    "d = [[0] * (m+1) for _ in range(n+1)]\n",
    "\n",
    "for i in range(1, n+1):\n",
    "    for j in range(1, m+1):\n",
    "        d[i][j] = max(d[i][j-1], d[i-1][j], d[i-1][j-1]) + graph[i][j]\n",
    "\n",
    "print(d[n][m])"
   ]
  },
  {
   "cell_type": "code",
   "execution_count": null,
   "id": "3b7a8ede",
   "metadata": {},
   "outputs": [],
   "source": [
    "n, m = map(int, input().split())\n",
    "graph =[[0] * (m+1)] + [[0] + list(map(int, input().split())) for _ in range(n)]\n",
    "d = [[0] * (m+1) for _ in range(n+1)]\n",
    "d[1][1] = graph[1][1]\n",
    "\n",
    "for i in range(1, n+1):\n",
    "    for j in range(1, m+1):\n",
    "        if j+1 <= m:\n",
    "            if d[i][j+1] < d[i][j] + graph[i][j+1]:\n",
    "                d[i][j+1] = d[i][j] + graph[i][j+1]\n",
    "        if i+1 <= n:\n",
    "            if d[i+1][j] < d[i][j] + graph[i+1][j]:\n",
    "                d[i+1][j] = d[i][j] + graph[i+1][j]\n",
    "        if i+1 <= n and j+1 <= m:\n",
    "            if d[i+1][j+1] < d[i][j] + graph[i+1][j+1]:\n",
    "                d[i+1][j+1] = d[i][j] + graph[i+1][j+1]\n",
    "\n",
    "print(d[n][m])"
   ]
  },
  {
   "cell_type": "markdown",
   "id": "e6d5f5a4",
   "metadata": {},
   "source": [
    "## 점프 점프\n",
    "https://www.acmicpc.net/problem/11060"
   ]
  },
  {
   "cell_type": "code",
   "execution_count": null,
   "id": "f6546560",
   "metadata": {},
   "outputs": [],
   "source": [
    "n = int(input())\n",
    "graph = list(map(int, input().split()))\n",
    "d = [int(1e9)] * n\n",
    "d[0] = 0\n",
    "\n",
    "for i in range(1, n):\n",
    "    for j in range(i):\n",
    "        if graph[j] > 0 and j + graph[j] >= i and d[i] > d[j] + 1:\n",
    "            d[i] = d[j] + 1\n",
    "\n",
    "if d[-1] == int(1e9):\n",
    "    print(-1)\n",
    "else:\n",
    "    print(d[-1])"
   ]
  },
  {
   "cell_type": "code",
   "execution_count": null,
   "id": "dcdb142f",
   "metadata": {},
   "outputs": [],
   "source": [
    "n = int(input())\n",
    "graph = list(map(int, input().split()))\n",
    "d = [-1] * n\n",
    "d[0] = 0\n",
    "\n",
    "for i in range(1, n):\n",
    "    for j in range(i):\n",
    "        if d[j] != -1 and i - j <= graph[j]:\n",
    "            if d[i] == -1 or d[i] > d[j] + 1:\n",
    "                d[i] = d[j] + 1\n",
    "\n",
    "print(d[-1])"
   ]
  },
  {
   "cell_type": "code",
   "execution_count": null,
   "id": "493b6aa8",
   "metadata": {},
   "outputs": [],
   "source": [
    "n = int(input())\n",
    "graph = list(map(int, input().split()))\n",
    "d = [-1] * n\n",
    "d[0] = 0\n",
    "\n",
    "for i in range(n-1):\n",
    "    if d[i] == -1: continue\n",
    "    for j in range(1, graph[i]+1):\n",
    "        if i+j >= n:\n",
    "            break\n",
    "        if d[i+j] == -1 or d[i+j] > d[i] + 1:\n",
    "            d[i+j] = d[i] + 1\n",
    "\n",
    "print(d[n-1])"
   ]
  },
  {
   "cell_type": "markdown",
   "id": "9da4f1ab",
   "metadata": {},
   "source": [
    "## 팰린드롬\n",
    "https://www.acmicpc.net/problem/10942"
   ]
  },
  {
   "cell_type": "code",
   "execution_count": null,
   "id": "c2cd217b",
   "metadata": {},
   "outputs": [],
   "source": []
  }
 ],
 "metadata": {
  "kernelspec": {
   "display_name": "Python 3",
   "language": "python",
   "name": "python3"
  },
  "language_info": {
   "codemirror_mode": {
    "name": "ipython",
    "version": 3
   },
   "file_extension": ".py",
   "mimetype": "text/x-python",
   "name": "python",
   "nbconvert_exporter": "python",
   "pygments_lexer": "ipython3",
   "version": "3.8.8"
  }
 },
 "nbformat": 4,
 "nbformat_minor": 5
}
