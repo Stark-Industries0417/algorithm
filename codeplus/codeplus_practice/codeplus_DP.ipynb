{
 "cells": [
  {
   "cell_type": "markdown",
   "id": "fc6e684e",
   "metadata": {},
   "source": [
    "## 이동하기\n",
    "https://www.acmicpc.net/problem/11048"
   ]
  },
  {
   "cell_type": "code",
   "execution_count": null,
   "id": "1fbf1aa1",
   "metadata": {},
   "outputs": [],
   "source": [
    "# python3 에선 시간초과 내 풀이\n",
    "\n",
    "import sys\n",
    "from collections import deque\n",
    "\n",
    "input = sys.stdin.readline\n",
    "\n",
    "n, m = map(int, input().split())\n",
    "graph = list(list(map(int, input().split())) for _ in range(n))\n",
    "dx, dy = [0, 1, 1], [1, 0, 1]\n",
    "d = [[-1] * m for _ in range(n)]\n",
    "q = deque([(0, 0)])\n",
    "d[0][0] = graph[0][0]\n",
    "\n",
    "while q:\n",
    "    x, y = q.popleft()\n",
    "    if x == n-1 and y == m-1:\n",
    "        print(d[n-1][m-1])\n",
    "        break\n",
    "    for k in range(3):\n",
    "        nx, ny = x+dx[k], y+dy[k]\n",
    "        if 0 <= nx < n and 0 <= ny < m and d[nx][ny] < d[x][y] + graph[nx][ny]:\n",
    "            d[nx][ny] = d[x][y] + graph[nx][ny]\n",
    "            q.append((nx, ny))"
   ]
  },
  {
   "cell_type": "code",
   "execution_count": null,
   "id": "489e18c2",
   "metadata": {},
   "outputs": [],
   "source": [
    "# python3에서도 가능\n",
    "\n",
    "n, m = map(int, input().split())\n",
    "graph =[[0] * (m+1)] + [[0] + list(map(int, input().split())) for _ in range(n)]\n",
    "d = [[0] * (m+1) for _ in range(n+1)]\n",
    "\n",
    "for i in range(1, n+1):\n",
    "    for j in range(1, m+1):\n",
    "        d[i][j] = max(d[i][j-1], d[i-1][j], d[i-1][j-1]) + graph[i][j]\n",
    "\n",
    "print(d[n][m])"
   ]
  },
  {
   "cell_type": "code",
   "execution_count": null,
   "id": "3b7a8ede",
   "metadata": {},
   "outputs": [],
   "source": [
    "n, m = map(int, input().split())\n",
    "graph =[[0] * (m+1)] + [[0] + list(map(int, input().split())) for _ in range(n)]\n",
    "d = [[0] * (m+1) for _ in range(n+1)]\n",
    "d[1][1] = graph[1][1]\n",
    "\n",
    "for i in range(1, n+1):\n",
    "    for j in range(1, m+1):\n",
    "        if j+1 <= m:\n",
    "            if d[i][j+1] < d[i][j] + graph[i][j+1]:\n",
    "                d[i][j+1] = d[i][j] + graph[i][j+1]\n",
    "        if i+1 <= n:\n",
    "            if d[i+1][j] < d[i][j] + graph[i+1][j]:\n",
    "                d[i+1][j] = d[i][j] + graph[i+1][j]\n",
    "        if i+1 <= n and j+1 <= m:\n",
    "            if d[i+1][j+1] < d[i][j] + graph[i+1][j+1]:\n",
    "                d[i+1][j+1] = d[i][j] + graph[i+1][j+1]\n",
    "\n",
    "print(d[n][m])"
   ]
  },
  {
   "cell_type": "markdown",
   "id": "e6d5f5a4",
   "metadata": {},
   "source": [
    "## 점프 점프\n",
    "https://www.acmicpc.net/problem/11060"
   ]
  },
  {
   "cell_type": "code",
   "execution_count": null,
   "id": "f6546560",
   "metadata": {},
   "outputs": [],
   "source": [
    "n = int(input())\n",
    "graph = list(map(int, input().split()))\n",
    "d = [int(1e9)] * n\n",
    "d[0] = 0\n",
    "\n",
    "for i in range(1, n):\n",
    "    for j in range(i):\n",
    "        if graph[j] > 0 and j + graph[j] >= i and d[i] > d[j] + 1:\n",
    "            d[i] = d[j] + 1\n",
    "\n",
    "if d[-1] == int(1e9):\n",
    "    print(-1)\n",
    "else:\n",
    "    print(d[-1])"
   ]
  },
  {
   "cell_type": "code",
   "execution_count": null,
   "id": "dcdb142f",
   "metadata": {},
   "outputs": [],
   "source": [
    "n = int(input())\n",
    "graph = list(map(int, input().split()))\n",
    "d = [-1] * n\n",
    "d[0] = 0\n",
    "\n",
    "for i in range(1, n):\n",
    "    for j in range(i):\n",
    "        if d[j] != -1 and i - j <= graph[j]:\n",
    "            if d[i] == -1 or d[i] > d[j] + 1:\n",
    "                d[i] = d[j] + 1\n",
    "\n",
    "print(d[-1])"
   ]
  },
  {
   "cell_type": "code",
   "execution_count": null,
   "id": "493b6aa8",
   "metadata": {},
   "outputs": [],
   "source": [
    "n = int(input())\n",
    "graph = list(map(int, input().split()))\n",
    "d = [-1] * n\n",
    "d[0] = 0\n",
    "\n",
    "for i in range(n-1):\n",
    "    if d[i] == -1: continue\n",
    "    for j in range(1, graph[i]+1):\n",
    "        if i+j >= n:\n",
    "            break\n",
    "        if d[i+j] == -1 or d[i+j] > d[i] + 1:\n",
    "            d[i+j] = d[i] + 1\n",
    "\n",
    "print(d[n-1])"
   ]
  },
  {
   "cell_type": "markdown",
   "id": "9da4f1ab",
   "metadata": {},
   "source": [
    "## 팰린드롬\n",
    "https://www.acmicpc.net/problem/10942"
   ]
  },
  {
   "cell_type": "code",
   "execution_count": 3,
   "id": "c2cd217b",
   "metadata": {},
   "outputs": [
    {
     "ename": "ValueError",
     "evalue": "invalid literal for int() with base 10: ''",
     "output_type": "error",
     "traceback": [
      "\u001b[0;31m---------------------------------------------------------------------------\u001b[0m",
      "\u001b[0;31mValueError\u001b[0m                                Traceback (most recent call last)",
      "\u001b[0;32m<ipython-input-3-d0b3a145d25e>\u001b[0m in \u001b[0;36m<module>\u001b[0;34m\u001b[0m\n\u001b[0;32m----> 1\u001b[0;31m \u001b[0mn\u001b[0m \u001b[0;34m=\u001b[0m \u001b[0mint\u001b[0m\u001b[0;34m(\u001b[0m\u001b[0minput\u001b[0m\u001b[0;34m(\u001b[0m\u001b[0;34m)\u001b[0m\u001b[0;34m)\u001b[0m\u001b[0;34m\u001b[0m\u001b[0;34m\u001b[0m\u001b[0m\n\u001b[0m\u001b[1;32m      2\u001b[0m \u001b[0mnums\u001b[0m \u001b[0;34m=\u001b[0m \u001b[0mlist\u001b[0m\u001b[0;34m(\u001b[0m\u001b[0mmap\u001b[0m\u001b[0;34m(\u001b[0m\u001b[0mint\u001b[0m\u001b[0;34m,\u001b[0m \u001b[0minput\u001b[0m\u001b[0;34m(\u001b[0m\u001b[0;34m)\u001b[0m\u001b[0;34m.\u001b[0m\u001b[0msplit\u001b[0m\u001b[0;34m(\u001b[0m\u001b[0;34m)\u001b[0m\u001b[0;34m)\u001b[0m\u001b[0;34m)\u001b[0m\u001b[0;34m\u001b[0m\u001b[0;34m\u001b[0m\u001b[0m\n\u001b[1;32m      3\u001b[0m \u001b[0;34m\u001b[0m\u001b[0m\n\u001b[1;32m      4\u001b[0m \u001b[0md\u001b[0m \u001b[0;34m=\u001b[0m \u001b[0;34m[\u001b[0m\u001b[0;34m[\u001b[0m\u001b[0;36m0\u001b[0m\u001b[0;34m]\u001b[0m \u001b[0;34m*\u001b[0m \u001b[0mn\u001b[0m \u001b[0;32mfor\u001b[0m \u001b[0m_\u001b[0m \u001b[0;32min\u001b[0m \u001b[0mrange\u001b[0m\u001b[0;34m(\u001b[0m\u001b[0mn\u001b[0m\u001b[0;34m)\u001b[0m\u001b[0;34m]\u001b[0m\u001b[0;34m\u001b[0m\u001b[0;34m\u001b[0m\u001b[0m\n\u001b[1;32m      5\u001b[0m \u001b[0;34m\u001b[0m\u001b[0m\n",
      "\u001b[0;31mValueError\u001b[0m: invalid literal for int() with base 10: ''"
     ]
    }
   ],
   "source": [
    "import sys\n",
    "input = sys.stdin.readline\n",
    "\n",
    "n = int(input())\n",
    "nums = list(map(int, input().split()))\n",
    "\n",
    "d = [[0] * n for _ in range(n)]\n",
    "\n",
    "for i in range(n):\n",
    "    d[i][i] = 1\n",
    "for i in range(n-1):\n",
    "    if nums[i] == nums[i+1]:\n",
    "        d[i][i+1] = 1\n",
    "\n",
    "for k in range(2, n):\n",
    "    for i in range(n-k):\n",
    "        if nums[i] == nums[i+k] and d[i+1][i+k-1]:\n",
    "            d[i][i+k] = 1\n",
    "\n",
    "m = int(input())\n",
    "for _ in range(m):\n",
    "    s, e = map(int, input().split())\n",
    "    print(d[s-1][e-1])"
   ]
  },
  {
   "cell_type": "markdown",
   "id": "35228cb7",
   "metadata": {},
   "source": [
    "## 1, 2, 3 더하기\n",
    "https://www.acmicpc.net/problem/9095"
   ]
  },
  {
   "cell_type": "code",
   "execution_count": null,
   "id": "6ae38b76",
   "metadata": {},
   "outputs": [],
   "source": [
    "d = [1] * 11\n",
    "d[2] = 2\n",
    "for i in range(3, 11):\n",
    "    d[i] = d[i-1] + d[i-2] + d[i-3]\n",
    "\n",
    "\n",
    "for _ in range(int(input())):\n",
    "    n = int(input())\n",
    "    print(d[n])"
   ]
  },
  {
   "cell_type": "markdown",
   "id": "7fa99536",
   "metadata": {},
   "source": [
    "## 1, 2, 3 더하기 4\n",
    "https://www.acmicpc.net/problem/15989"
   ]
  },
  {
   "cell_type": "code",
   "execution_count": null,
   "id": "84c707ef",
   "metadata": {},
   "outputs": [],
   "source": [
    "MAX = 10001\n",
    "\n",
    "d = [0] * MAX\n",
    "d[0] = 1\n",
    "\n",
    "for i in range(1, 4):\n",
    "    for j in range(1, MAX):\n",
    "        if j >= i:\n",
    "            d[j] += d[j-i]\n",
    "\n",
    "for _ in range(int(input())):\n",
    "    n = int(input())\n",
    "    print(d[n])"
   ]
  },
  {
   "cell_type": "markdown",
   "id": "149ce2fb",
   "metadata": {},
   "source": [
    "## <span style=\"color: red\">파일 합치기</span>\n",
    "https://www.acmicpc.net/problem/11066"
   ]
  },
  {
   "cell_type": "code",
   "execution_count": null,
   "id": "9259e4ff",
   "metadata": {},
   "outputs": [],
   "source": [
    "def dp(start,end):\n",
    "        # 메모이제이션이 된 구간\n",
    "        if d[start][end] != -1:\n",
    "            return d[start][end]\n",
    "        \n",
    "        if start == end:\n",
    "            return 0\n",
    "        \n",
    "        ans = float('inf')\n",
    "        s = sum(f[start:end+1])\n",
    "        for i in range(start, end):\n",
    "            # 양분할 한 것 각각 + 둘을 합친 것\n",
    "            temp = dp(start,i) + dp(i+1,end) + s\n",
    "            \n",
    "            if ans > temp:\n",
    "                ans = temp\n",
    "            \n",
    "            d[start][end] = ans\n",
    "        return ans\n",
    "\n",
    "for i in range(int(input())):\n",
    "    n = int(input())\n",
    "    f = list(map(int,input().split()))\n",
    "    d = [[-1]*(n+1) for i in range(n+1)]\n",
    "    \n",
    "    print(dp(0,n-1))"
   ]
  },
  {
   "cell_type": "markdown",
   "id": "834c454b",
   "metadata": {},
   "source": [
    "## <span style=\"color: red\">평범한 배낭</span>\n",
    "https://www.acmicpc.net/problem/12865"
   ]
  },
  {
   "cell_type": "code",
   "execution_count": null,
   "id": "6f8b6f03",
   "metadata": {},
   "outputs": [],
   "source": [
    "n, k = map(int, input().split())\n",
    "\n",
    "thing = [[0,0]]\n",
    "d = [[0]*(k+1) for _ in range(n+1)]\n",
    "\n",
    "for i in range(n):\n",
    "    thing.append(list(map(int, input().split())))\n",
    "\n",
    "for i in range(1, n+1):\n",
    "    for j in range(1, k+1):\n",
    "        w = thing[i][0]\n",
    "        v = thing[i][1]\n",
    "\n",
    "        if j < w:\n",
    "            d[i][j] = d[i-1][j]\n",
    "        else:\n",
    "            d[i][j] = max(d[i-1][j], d[i-1][j-w]+v)\n",
    "\n",
    "print(d[n][k])"
   ]
  },
  {
   "cell_type": "markdown",
   "id": "3f7e96c9",
   "metadata": {},
   "source": [
    "## 기타리스트\n",
    "https://www.acmicpc.net/problem/1495"
   ]
  },
  {
   "cell_type": "code",
   "execution_count": null,
   "id": "b1db1923",
   "metadata": {},
   "outputs": [],
   "source": [
    "n, s, m = map(int, input().split())\n",
    "v = list(map(int, input().split()))\n",
    "dp = [[0] * (m+1) for _ in range(n+1)]\n",
    "dp[0][s] = 1\n",
    "\n",
    "for i in range(n):\n",
    "    for j in range(m+1):\n",
    "        if dp[i][j]:\n",
    "            if j+v[i] <= m:\n",
    "                dp[i+1][j+v[i]] = 1\n",
    "            if j-v[i] >= 0:\n",
    "                dp[i+1][j-v[i]] = 1\n",
    "\n",
    "for i in range(m, -1, -1):\n",
    "    if dp[n][i]:\n",
    "        print(i)\n",
    "        break\n",
    "\n",
    "else:\n",
    "    print(-1)"
   ]
  },
  {
   "cell_type": "markdown",
   "id": "64cf7f33",
   "metadata": {},
   "source": [
    "## 뮤탈리스크\n",
    "https://www.acmicpc.net/problem/12869"
   ]
  },
  {
   "cell_type": "code",
   "execution_count": null,
   "id": "563f44c9",
   "metadata": {},
   "outputs": [],
   "source": [
    "n = int(input())\n",
    "lst = list(map(int, input().split()))\n",
    "\n",
    "import itertools\n",
    "\n",
    "dp = [[[-1 for _ in range(61)] for _ in range(61)] for _ in range(61)]\n",
    "\n",
    "def go(a, b, c):\n",
    "    if a < 0:\n",
    "        return go(0, b, c)\n",
    "    if b < 0:\n",
    "        return go(a, 0, c)\n",
    "    if c < 0:\n",
    "        return go(a, b, 0)\n",
    "    if a == 0 and b == 0 and c == 0:\n",
    "        return 0\n",
    "    if dp[a][b][c] != -1:\n",
    "        return dp[a][b][c]\n",
    "    dp[a][b][c] = 999999999\n",
    "    for case in list(itertools.permutations([1, 3, 9])):\n",
    "        dp[a][b][c] = min(dp[a][b][c], go(a - case[0], b - case[1], c - case[2]))\n",
    "    dp[a][b][c] += 1\n",
    "    return dp[a][b][c]\n",
    "\n",
    "scv = [0, 0, 0]\n",
    "for i in range(len(lst)):\n",
    "    scv[i] = lst[i]\n",
    "print(go(scv[0], scv[1], scv[2]))"
   ]
  },
  {
   "cell_type": "markdown",
   "id": "de5f3238",
   "metadata": {},
   "source": [
    "## 괄호\n",
    "https://www.acmicpc.net/problem/10422"
   ]
  },
  {
   "cell_type": "code",
   "execution_count": null,
   "id": "4c26477f",
   "metadata": {},
   "outputs": [],
   "source": [
    "import sys\n",
    "input = sys.stdin.readline\n",
    "\n",
    "t = int(input())\n",
    "lst = []\n",
    "for _ in range(t):\n",
    "    lst.append(int(input()))\n",
    "\n",
    "dp = [0] * 5001\n",
    "dp[0] = 1\n",
    "for i in range(2, 5001, 2):\n",
    "    for j in range(2, i + 1, 2):\n",
    "        dp[i] += (dp[j - 2] * dp[i - j]) % 1000000007\n",
    "\n",
    "for i in lst:\n",
    "    print(dp[i] % 1000000007)"
   ]
  },
  {
   "cell_type": "markdown",
   "id": "41e50e3b",
   "metadata": {},
   "source": [
    "## 동전 1\n",
    "https://www.acmicpc.net/problem/2293"
   ]
  },
  {
   "cell_type": "code",
   "execution_count": null,
   "id": "56d395b0",
   "metadata": {},
   "outputs": [],
   "source": [
    "n, k = map(int, input().split())\n",
    "nums = [int(input()) for _ in range(n)]\n",
    "d = [0]*(k+1)\n",
    "d[0] = 1\n",
    "for num in nums:\n",
    "    for i in range(1, k+1):\n",
    "        if i >= num:\n",
    "            d[i] += d[i-num]\n",
    "print(d[k])"
   ]
  },
  {
   "cell_type": "markdown",
   "id": "5ee55ba5",
   "metadata": {},
   "source": [
    "## 동전 2\n",
    "https://www.acmicpc.net/problem/2294"
   ]
  },
  {
   "cell_type": "code",
   "execution_count": null,
   "id": "4732be53",
   "metadata": {},
   "outputs": [],
   "source": [
    "n, k = map(int, input().split())\n",
    "nums = [int(input()) for _ in range(n)]\n",
    "d = [0] + [int(1e9)] * k\n",
    "\n",
    "for num in nums:\n",
    "    for i in range(1, k+1):\n",
    "        if i >= num and d[i] > d[i-num] + 1:\n",
    "            d[i] = d[i-num] + 1\n",
    "\n",
    "if d[k] == int(1e9):\n",
    "    print(-1)\n",
    "else:\n",
    "    print(d[k])"
   ]
  },
  {
   "cell_type": "markdown",
   "id": "d30bc224",
   "metadata": {},
   "source": [
    "## 크리보드\n",
    "https://www.acmicpc.net/problem/11058"
   ]
  },
  {
   "cell_type": "code",
   "execution_count": null,
   "id": "c339b1ce",
   "metadata": {},
   "outputs": [],
   "source": [
    "n = int(input())\n",
    "d = [0] * (n+1)\n",
    "\n",
    "for i in range(1, n+1):\n",
    "    d[i] = d[i-1] + 1\n",
    "    for j in range(1, i-1):\n",
    "        if d[i] < d[i-(j+2)] * (j+1):\n",
    "            d[i] = d[i-(j+2)] * (j+1)\n",
    "\n",
    "print(d[n])"
   ]
  }
 ],
 "metadata": {
  "kernelspec": {
   "display_name": "Python 3",
   "language": "python",
   "name": "python3"
  },
  "language_info": {
   "codemirror_mode": {
    "name": "ipython",
    "version": 3
   },
   "file_extension": ".py",
   "mimetype": "text/x-python",
   "name": "python",
   "nbconvert_exporter": "python",
   "pygments_lexer": "ipython3",
   "version": "3.8.8"
  }
 },
 "nbformat": 4,
 "nbformat_minor": 5
}
