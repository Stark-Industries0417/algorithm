{
 "cells": [
  {
   "cell_type": "markdown",
   "id": "705a25b1",
   "metadata": {},
   "source": [
    "## 인구 이동\n",
    "https://www.acmicpc.net/problem/16234"
   ]
  },
  {
   "cell_type": "code",
   "execution_count": null,
   "id": "ab604a07",
   "metadata": {},
   "outputs": [],
   "source": [
    "from collections import deque\n",
    "\n",
    "dx, dy = [0, 0, 1, -1], [1, -1, 0, 0]\n",
    "\n",
    "n, l, r = map(int, input().split())\n",
    "graph = list(list(map(int, input().split())) for _ in range(n))\n",
    "\n",
    "def bfs():\n",
    "    visited = [[False] * n for _ in range(n)]\n",
    "    ok = False\n",
    "    for i in range(n):\n",
    "        for j in range(n):\n",
    "            if not visited[i][j]:\n",
    "                q = deque([(i, j)])\n",
    "                s = [(i, j)]\n",
    "                visited[i][j] = True\n",
    "                total = graph[i][j]\n",
    "\n",
    "                while q:\n",
    "                    x, y = q.popleft()\n",
    "                    for k in range(4):\n",
    "                        nx, ny = x+dx[k], y+dy[k]\n",
    "                        if nx < 0 or nx >= n or ny < 0 or ny >= n or visited[nx][ny]:\n",
    "                            continue\n",
    "                        diff = abs(graph[nx][ny] - graph[x][y])\n",
    "                        if l <= diff <= r:\n",
    "                            q.append((nx, ny))\n",
    "                            s.append((nx, ny))\n",
    "                            visited[nx][ny] = True\n",
    "                            ok = True\n",
    "                            total += graph[nx][ny]\n",
    "                val = total // len(s)\n",
    "                for x, y in s:\n",
    "                    graph[x][y] = val\n",
    "    return ok\n",
    "\n",
    "\n",
    "ans = 0\n",
    "while True:\n",
    "    if bfs():\n",
    "        ans += 1\n",
    "    else:\n",
    "        break\n",
    "print(ans)"
   ]
  }
 ],
 "metadata": {
  "kernelspec": {
   "display_name": "Python 3",
   "language": "python",
   "name": "python3"
  },
  "language_info": {
   "codemirror_mode": {
    "name": "ipython",
    "version": 3
   },
   "file_extension": ".py",
   "mimetype": "text/x-python",
   "name": "python",
   "nbconvert_exporter": "python",
   "pygments_lexer": "ipython3",
   "version": "3.8.8"
  }
 },
 "nbformat": 4,
 "nbformat_minor": 5
}
