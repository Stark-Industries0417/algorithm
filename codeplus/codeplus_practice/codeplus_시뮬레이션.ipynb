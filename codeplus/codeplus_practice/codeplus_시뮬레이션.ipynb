{
 "cells": [
  {
   "cell_type": "markdown",
   "id": "705a25b1",
   "metadata": {},
   "source": [
    "## 인구 이동\n",
    "https://www.acmicpc.net/problem/16234"
   ]
  },
  {
   "cell_type": "code",
   "execution_count": null,
   "id": "ab604a07",
   "metadata": {},
   "outputs": [],
   "source": [
    "from collections import deque\n",
    "\n",
    "dx, dy = [0, 0, 1, -1], [1, -1, 0, 0]\n",
    "\n",
    "n, l, r = map(int, input().split())\n",
    "graph = list(list(map(int, input().split())) for _ in range(n))\n",
    "\n",
    "def bfs():\n",
    "    visited = [[False] * n for _ in range(n)]\n",
    "    ok = False\n",
    "    for i in range(n):\n",
    "        for j in range(n):\n",
    "            if not visited[i][j]:\n",
    "                q = deque([(i, j)])\n",
    "                s = [(i, j)]\n",
    "                visited[i][j] = True\n",
    "                total = graph[i][j]\n",
    "\n",
    "                while q:\n",
    "                    x, y = q.popleft()\n",
    "                    for k in range(4):\n",
    "                        nx, ny = x+dx[k], y+dy[k]\n",
    "                        if nx < 0 or nx >= n or ny < 0 or ny >= n or visited[nx][ny]:\n",
    "                            continue\n",
    "                        diff = abs(graph[nx][ny] - graph[x][y])\n",
    "                        if l <= diff <= r:\n",
    "                            q.append((nx, ny))\n",
    "                            s.append((nx, ny))\n",
    "                            visited[nx][ny] = True\n",
    "                            ok = True\n",
    "                            total += graph[nx][ny]\n",
    "                val = total // len(s)\n",
    "                for x, y in s:\n",
    "                    graph[x][y] = val\n",
    "    return ok\n",
    "\n",
    "\n",
    "ans = 0\n",
    "while True:\n",
    "    if bfs():\n",
    "        ans += 1\n",
    "    else:\n",
    "        break\n",
    "print(ans)"
   ]
  },
  {
   "cell_type": "markdown",
   "id": "9784fda3",
   "metadata": {},
   "source": [
    "## 나무 재테크\n",
    "https://www.acmicpc.net/problem/16235"
   ]
  },
  {
   "cell_type": "code",
   "execution_count": null,
   "id": "5ef9d3b2",
   "metadata": {},
   "outputs": [],
   "source": [
    "dx = [-1,-1,-1,0,0,1,1,1]\n",
    "dy = [-1,0,1,-1,1,-1,0,1]\n",
    "n, m, l = map(int, input().split())\n",
    "a = [list(map(int, input().split())) for _ in range(n)]\n",
    "d = [[5] * n for _ in range(n)]\n",
    "tree = [[[] for _ in range(n)] for _ in range(n)]\n",
    "for _ in range(m):\n",
    "    x, y, age = map(int, input().split())\n",
    "    tree[x-1][y-1].append(age)\n",
    "\n",
    "for _ in range(l):\n",
    "    p = [[0]*n for _ in range(n)]\n",
    "    for i in range(n):\n",
    "        for j in range(n):\n",
    "            temp = []\n",
    "            tree[i][j].sort()\n",
    "            dead = 0\n",
    "            for x in tree[i][j]:\n",
    "                if x <= d[i][j]:\n",
    "                    d[i][j] -= x\n",
    "                    temp.append(x+1)\n",
    "                    if (x+1) % 5 == 0:\n",
    "                        for k in range(8):\n",
    "                            nx, ny = i+dx[k], j+dy[k]\n",
    "                            if 0 <= nx < n and 0 <= ny < n:\n",
    "                                p[nx][ny] += 1\n",
    "                else:\n",
    "                    dead += x//2\n",
    "            tree[i][j] = temp\n",
    "            d[i][j] += dead\n",
    "            d[i][j] += a[i][j]\n",
    "\n",
    "    for i in range(n):\n",
    "        for j in range(n):\n",
    "            for k in range(p[i][j]):\n",
    "                tree[i][j].append(1)\n",
    "\n",
    "ans = 0\n",
    "for i in range(n):\n",
    "    for j in range(n):\n",
    "        ans += len(tree[i][j])\n",
    "print(ans)"
   ]
  }
 ],
 "metadata": {
  "kernelspec": {
   "display_name": "Python 3",
   "language": "python",
   "name": "python3"
  },
  "language_info": {
   "codemirror_mode": {
    "name": "ipython",
    "version": 3
   },
   "file_extension": ".py",
   "mimetype": "text/x-python",
   "name": "python",
   "nbconvert_exporter": "python",
   "pygments_lexer": "ipython3",
   "version": "3.8.8"
  }
 },
 "nbformat": 4,
 "nbformat_minor": 5
}
