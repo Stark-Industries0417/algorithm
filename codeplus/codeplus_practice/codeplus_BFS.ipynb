{
 "cells": [
  {
   "cell_type": "markdown",
   "id": "4c1be5a8",
   "metadata": {},
   "source": [
    "## 뱀과 사다리 게임\n",
    "https://www.acmicpc.net/problem/16928"
   ]
  },
  {
   "cell_type": "code",
   "execution_count": 2,
   "id": "17c4f14c",
   "metadata": {},
   "outputs": [
    {
     "data": {
      "text/plain": [
       "False"
      ]
     },
     "execution_count": 2,
     "metadata": {},
     "output_type": "execute_result"
    }
   ],
   "source": [
    "from collections import deque\n",
    "\n",
    "n, m = map(int, input().split())\n",
    "after = list(range(101))\n",
    "dist = [-1] * 101\n",
    "for _ in range(n + m):\n",
    "    x, y = map(int, input().split())\n",
    "    after[x] = y\n",
    "\n",
    "dist[1] = 0\n",
    "q = deque([1])\n",
    "while q:\n",
    "    x = q.popleft()\n",
    "    for k in [x + 1, x + 2, x + 3, x + 4, x + 5, x + 6]:\n",
    "        if k > 100:\n",
    "            continue\n",
    "        nk = after[k]\n",
    "        if dist[nk] == -1:\n",
    "            dist[nk] = dist[x] + 1\n",
    "            q.append(nk)\n",
    "print(dist[100])"
   ]
  },
  {
   "cell_type": "markdown",
   "id": "077ea8b7",
   "metadata": {},
   "source": [
    "## 데스나이트\n",
    "https://www.acmicpc.net/problem/16948"
   ]
  },
  {
   "cell_type": "code",
   "execution_count": null,
   "id": "ad663839",
   "metadata": {},
   "outputs": [],
   "source": [
    "from collections import deque\n",
    "\n",
    "\n",
    "n = int(input())\n",
    "r1, c1, r2, c2 = map(int, input().split())\n",
    "dx, dy = [-2, -2, 0, 0, 2, 2], [-1, 1, -2, 2, -1, 1]\n",
    "graph = [[-1] * n for _ in range(n)]\n",
    "q = deque()\n",
    "q.append((r1, c1))\n",
    "graph[r1][c1] = 0\n",
    "while q:\n",
    "    x, y = q.popleft()\n",
    "    if x == r2 and y == c2:\n",
    "        break\n",
    "    for k in range(6):\n",
    "        nx, ny = x + dx[k], y + dy[k]\n",
    "        if 0 <= nx < n and 0 <= ny < n:\n",
    "            if graph[nx][ny] == -1:\n",
    "                graph[nx][ny] = graph[x][y] + 1\n",
    "                q.append((nx, ny))\n",
    "\n",
    "print(graph[r2][c2])"
   ]
  },
  {
   "cell_type": "markdown",
   "id": "10d77d1b",
   "metadata": {},
   "source": [
    "## 연구소\n",
    "https://www.acmicpc.net/problem/14502"
   ]
  },
  {
   "cell_type": "code",
   "execution_count": null,
   "id": "94ec46cd",
   "metadata": {},
   "outputs": [],
   "source": [
    "from collections import deque\n",
    "\n",
    "n, m = map(int, input().split())\n",
    "graph = [list(map(int, input().split())) for _ in range(n)]\n",
    "dx, dy = [0, 0, 1, -1], [1, -1, 0, 0]\n",
    "ans = 0\n",
    "\n",
    "\n",
    "def bfs():\n",
    "    cnt = 0\n",
    "    b = [[0] * m for _ in range(n)]\n",
    "    q = deque()\n",
    "    for i in range(n):\n",
    "        for j in range(m):\n",
    "            b[i][j] = graph[i][j]\n",
    "            if b[i][j] == 2:\n",
    "                q.append((i, j))\n",
    "    while q:\n",
    "        x, y = q.popleft()\n",
    "        for k in range(4):\n",
    "            nx, ny = x + dx[k], y + dy[k]\n",
    "            if 0 <= nx < n and 0 <= ny < m and b[nx][ny] == 0:\n",
    "                b[nx][ny] = 2\n",
    "                q.append((nx, ny))\n",
    "\n",
    "    for i in range(n):\n",
    "        for j in range(m):\n",
    "            if b[i][j] == 0:\n",
    "                cnt += 1\n",
    "\n",
    "    return cnt\n",
    "\n",
    "\n",
    "for a in range(n):\n",
    "    for b in range(m):\n",
    "        if graph[a][b] != 0:\n",
    "            continue\n",
    "        for c in range(n):\n",
    "            for d in range(m):\n",
    "                if graph[c][d] != 0:\n",
    "                    continue\n",
    "                for e in range(n):\n",
    "                    for f in range(m):\n",
    "                        if graph[e][f] != 0:\n",
    "                            continue\n",
    "                        if a == c and b == d:\n",
    "                            continue\n",
    "                        if a == e and b == f:\n",
    "                            continue\n",
    "                        if c == e and d == f:\n",
    "                            continue\n",
    "                        graph[a][b] = 1\n",
    "                        graph[c][d] = 1\n",
    "                        graph[e][f] = 1\n",
    "                        cur = bfs()\n",
    "                        if ans < cur:\n",
    "                            ans = cur\n",
    "                        graph[a][b] = 0\n",
    "                        graph[c][d] = 0\n",
    "                        graph[e][f] = 0\n",
    "\n",
    "print(ans)"
   ]
  },
  {
   "cell_type": "markdown",
   "id": "2eb2eef3",
   "metadata": {},
   "source": [
    "## 돌 그룹\n",
    "https://www.acmicpc.net/problem/12886"
   ]
  },
  {
   "cell_type": "code",
   "execution_count": null,
   "id": "78a22e89",
   "metadata": {},
   "outputs": [],
   "source": [
    "import sys\n",
    "\n",
    "sys.setrecursionlimit(10 ** 6)\n",
    "x, y, z = map(int, input().split())\n",
    "check = [[False] * 1501 for _ in range(1501)]\n",
    "s = x + y + z\n",
    "\n",
    "\n",
    "def go(x, y):\n",
    "    if check[x][y]:\n",
    "        return\n",
    "    check[x][y] = True\n",
    "    a = [x, y, s - x - y]\n",
    "    for i in range(3):\n",
    "        for j in range(3):\n",
    "            if a[i] < a[j]:\n",
    "                b = [x, y, s - x - y]\n",
    "                b[i] += a[i]\n",
    "                b[j] -= a[i]\n",
    "                go(b[0], b[1])\n",
    "\n",
    "\n",
    "if s % 3 != 0:\n",
    "    print(0)\n",
    "else:\n",
    "    go(x, y)\n",
    "    if check[s // 3][s // 3]:\n",
    "        print(1)\n",
    "    else:\n",
    "        print(0)"
   ]
  },
  {
   "cell_type": "markdown",
   "id": "e43cb44d",
   "metadata": {},
   "source": [
    "## 벽 부수고 이동하기\n",
    "https://www.acmicpc.net/problem/2206"
   ]
  },
  {
   "cell_type": "code",
   "execution_count": null,
   "id": "9c3bcbf2",
   "metadata": {},
   "outputs": [],
   "source": [
    "from collections import deque\n",
    "\n",
    "n, m = map(int, input().split())\n",
    "graph = [list(map(int, input())) for _ in range(n)]\n",
    "visited = [[[0, 0] for _ in range(m)] for _ in range(n)]\n",
    "dx, dy = [0, 0, 1, -1], [1, -1, 0, 0]\n",
    "q = deque([(0, 0, 0)])\n",
    "visited[0][0][0] = 1\n",
    "\n",
    "while q:\n",
    "    x, y, c = q.popleft()\n",
    "    if x == n - 1 and y == m - 1:\n",
    "        print(visited[x][y][c])\n",
    "        break\n",
    "\n",
    "    for k in range(4):\n",
    "        nx, ny = x + dx[k], y + dy[k]\n",
    "        if 0 <= nx < n and 0 <= ny < m and not visited[nx][ny][c]:\n",
    "            if graph[nx][ny] == 0:\n",
    "                visited[nx][ny][c] = visited[x][y][c] + 1\n",
    "                q.append((nx, ny, c))\n",
    "            elif graph[nx][ny] and c == 0:\n",
    "                visited[nx][ny][c + 1] = visited[x][y][c] + 1\n",
    "                q.append((nx, ny, c + 1))\n",
    "else:\n",
    "    print(-1)"
   ]
  }
 ],
 "metadata": {
  "kernelspec": {
   "display_name": "Python 3",
   "language": "python",
   "name": "python3"
  },
  "language_info": {
   "codemirror_mode": {
    "name": "ipython",
    "version": 3
   },
   "file_extension": ".py",
   "mimetype": "text/x-python",
   "name": "python",
   "nbconvert_exporter": "python",
   "pygments_lexer": "ipython3",
   "version": "3.8.8"
  }
 },
 "nbformat": 4,
 "nbformat_minor": 5
}
