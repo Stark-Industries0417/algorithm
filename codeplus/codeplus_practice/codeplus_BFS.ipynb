{
 "cells": [
  {
   "cell_type": "markdown",
   "id": "4c1be5a8",
   "metadata": {},
   "source": [
    "## 뱀과 사다리 게임\n",
    "https://www.acmicpc.net/problem/16928"
   ]
  },
  {
   "cell_type": "code",
   "execution_count": 2,
   "id": "17c4f14c",
   "metadata": {},
   "outputs": [
    {
     "data": {
      "text/plain": [
       "False"
      ]
     },
     "execution_count": 2,
     "metadata": {},
     "output_type": "execute_result"
    }
   ],
   "source": [
    "from collections import deque\n",
    "\n",
    "n, m = map(int, input().split())\n",
    "after = list(range(101))\n",
    "dist = [-1] * 101\n",
    "for _ in range(n + m):\n",
    "    x, y = map(int, input().split())\n",
    "    after[x] = y\n",
    "\n",
    "dist[1] = 0\n",
    "q = deque([1])\n",
    "while q:\n",
    "    x = q.popleft()\n",
    "    for k in [x + 1, x + 2, x + 3, x + 4, x + 5, x + 6]:\n",
    "        if k > 100:\n",
    "            continue\n",
    "        nk = after[k]\n",
    "        if dist[nk] == -1:\n",
    "            dist[nk] = dist[x] + 1\n",
    "            q.append(nk)\n",
    "print(dist[100])"
   ]
  },
  {
   "cell_type": "markdown",
   "id": "077ea8b7",
   "metadata": {},
   "source": [
    "## 데스나이트\n",
    "https://www.acmicpc.net/problem/16948"
   ]
  },
  {
   "cell_type": "code",
   "execution_count": null,
   "id": "ad663839",
   "metadata": {},
   "outputs": [],
   "source": [
    "from collections import deque\n",
    "\n",
    "\n",
    "n = int(input())\n",
    "r1, c1, r2, c2 = map(int, input().split())\n",
    "dx, dy = [-2, -2, 0, 0, 2, 2], [-1, 1, -2, 2, -1, 1]\n",
    "graph = [[-1] * n for _ in range(n)]\n",
    "q = deque()\n",
    "q.append((r1, c1))\n",
    "graph[r1][c1] = 0\n",
    "while q:\n",
    "    x, y = q.popleft()\n",
    "    if x == r2 and y == c2:\n",
    "        break\n",
    "    for k in range(6):\n",
    "        nx, ny = x + dx[k], y + dy[k]\n",
    "        if 0 <= nx < n and 0 <= ny < n:\n",
    "            if graph[nx][ny] == -1:\n",
    "                graph[nx][ny] = graph[x][y] + 1\n",
    "                q.append((nx, ny))\n",
    "\n",
    "print(graph[r2][c2])"
   ]
  },
  {
   "cell_type": "markdown",
   "id": "10d77d1b",
   "metadata": {},
   "source": [
    "## 연구소\n",
    "https://www.acmicpc.net/problem/14502"
   ]
  },
  {
   "cell_type": "code",
   "execution_count": null,
   "id": "94ec46cd",
   "metadata": {},
   "outputs": [],
   "source": []
  }
 ],
 "metadata": {
  "kernelspec": {
   "display_name": "Python 3",
   "language": "python",
   "name": "python3"
  },
  "language_info": {
   "codemirror_mode": {
    "name": "ipython",
    "version": 3
   },
   "file_extension": ".py",
   "mimetype": "text/x-python",
   "name": "python",
   "nbconvert_exporter": "python",
   "pygments_lexer": "ipython3",
   "version": "3.8.8"
  }
 },
 "nbformat": 4,
 "nbformat_minor": 5
}
