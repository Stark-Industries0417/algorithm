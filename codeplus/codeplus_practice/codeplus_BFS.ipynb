{
 "cells": [
  {
   "cell_type": "markdown",
   "id": "4c1be5a8",
   "metadata": {},
   "source": [
    "## 뱀과 사다리 게임\n",
    "https://www.acmicpc.net/problem/16928"
   ]
  },
  {
   "cell_type": "code",
   "execution_count": 2,
   "id": "17c4f14c",
   "metadata": {},
   "outputs": [
    {
     "data": {
      "text/plain": [
       "False"
      ]
     },
     "execution_count": 2,
     "metadata": {},
     "output_type": "execute_result"
    }
   ],
   "source": [
    "from collections import deque\n",
    "\n",
    "n, m = map(int, input().split())\n",
    "after = list(range(101))\n",
    "dist = [-1] * 101\n",
    "for _ in range(n + m):\n",
    "    x, y = map(int, input().split())\n",
    "    after[x] = y\n",
    "\n",
    "dist[1] = 0\n",
    "q = deque([1])\n",
    "while q:\n",
    "    x = q.popleft()\n",
    "    for k in [x + 1, x + 2, x + 3, x + 4, x + 5, x + 6]:\n",
    "        if k > 100:\n",
    "            continue\n",
    "        nk = after[k]\n",
    "        if dist[nk] == -1:\n",
    "            dist[nk] = dist[x] + 1\n",
    "            q.append(nk)\n",
    "print(dist[100])"
   ]
  }
 ],
 "metadata": {
  "kernelspec": {
   "display_name": "Python 3",
   "language": "python",
   "name": "python3"
  },
  "language_info": {
   "codemirror_mode": {
    "name": "ipython",
    "version": 3
   },
   "file_extension": ".py",
   "mimetype": "text/x-python",
   "name": "python",
   "nbconvert_exporter": "python",
   "pygments_lexer": "ipython3",
   "version": "3.8.8"
  }
 },
 "nbformat": 4,
 "nbformat_minor": 5
}
