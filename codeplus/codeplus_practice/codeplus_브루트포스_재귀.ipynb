{
 "cells": [
  {
   "cell_type": "markdown",
   "id": "b7502e8e",
   "metadata": {},
   "source": [
    "## 로또\n",
    "https://www.acmicpc.net/problem/6603"
   ]
  },
  {
   "cell_type": "code",
   "execution_count": 9,
   "id": "55f7dbc2",
   "metadata": {},
   "outputs": [
    {
     "name": "stdout",
     "output_type": "stream",
     "text": [
      "7 1 2 3 4 5 6 7\n",
      "1 2 3 4 5 6\n",
      "1 2 3 4 5 7\n",
      "1 2 3 4 6 7\n",
      "1 2 3 5 6 7\n",
      "1 2 4 5 6 7\n",
      "1 3 4 5 6 7\n",
      "2 3 4 5 6 7\n",
      "\n",
      "0\n"
     ]
    }
   ],
   "source": [
    "def lotto(idx, cnt, arr):\n",
    "    if cnt == 6:\n",
    "        print(*arr)\n",
    "        return\n",
    "    \n",
    "    if idx >= n:\n",
    "        return\n",
    "\n",
    "    lotto(idx+1, cnt+1, arr+[k[idx]])\n",
    "    lotto(idx+1, cnt, arr)\n",
    "\n",
    "while True:\n",
    "    n, *k = list(map(int, input().split()))\n",
    "    if n == 0:\n",
    "        break\n",
    "    lotto(0, 0, [])\n",
    "    print()"
   ]
  },
  {
   "cell_type": "markdown",
   "id": "635d1f5b",
   "metadata": {},
   "source": [
    "## 부분수열의 합\n",
    "https://www.acmicpc.net/problem/1182"
   ]
  },
  {
   "cell_type": "code",
   "execution_count": 24,
   "id": "b60ab91e",
   "metadata": {},
   "outputs": [
    {
     "name": "stdout",
     "output_type": "stream",
     "text": [
      "5 0\n",
      "-7 -3 -2 5 8\n",
      "1\n"
     ]
    }
   ],
   "source": [
    "n, s = map(int, input().split())\n",
    "arr = list(map(int, input().split()))\n",
    "cnt = 0\n",
    "def permutation(idx, nums):\n",
    "    global cnt\n",
    "    if idx == n:\n",
    "        if nums == s:\n",
    "            cnt += 1\n",
    "        return\n",
    "    \n",
    "    permutation(idx+1, nums+arr[idx])\n",
    "    permutation(idx+1, nums)\n",
    "    \n",
    "permutation(0, 0)\n",
    "if s == 0:\n",
    "    cnt -= 1\n",
    "print(cnt)"
   ]
  },
  {
   "cell_type": "markdown",
   "id": "5ca2ce84",
   "metadata": {},
   "source": [
    "## 부분수열의 합\n",
    "https://www.acmicpc.net/problem/14225"
   ]
  },
  {
   "cell_type": "code",
   "execution_count": 27,
   "id": "244f0c72",
   "metadata": {},
   "outputs": [
    {
     "name": "stdout",
     "output_type": "stream",
     "text": [
      "3\n",
      "5 1 2\n",
      "4\n"
     ]
    }
   ],
   "source": [
    "n = int(input())\n",
    "ans = [True] * 2000001\n",
    "arr = list(map(int, input().split()))\n",
    "\n",
    "for a in arr:\n",
    "    ans[a] = False\n",
    "\n",
    "def permutation(idx, nums):\n",
    "    if idx == n:\n",
    "        ans[nums] = False\n",
    "        return\n",
    "    \n",
    "    permutation(idx+1, nums+arr[idx])\n",
    "    permutation(idx+1, nums)\n",
    "\n",
    "permutation(0, 0)\n",
    "\n",
    "for i in range(1, 20000001):\n",
    "    if ans[i]:\n",
    "        print(i)\n",
    "        break"
   ]
  },
  {
   "cell_type": "markdown",
   "id": "c339b103",
   "metadata": {},
   "source": [
    "## 연산자 끼워넣기\n",
    "https://www.acmicpc.net/problem/14888"
   ]
  },
  {
   "cell_type": "code",
   "execution_count": null,
   "id": "f7393932",
   "metadata": {},
   "outputs": [],
   "source": [
    "n = int(input())\n",
    "nums = list(map(int, input().split()))\n",
    "arr = list(map(int, input().split()))\n",
    "operate = []\n",
    "for i, op in enumerate(arr):\n",
    "    for _ in range(op):\n",
    "        if i == 0:\n",
    "            operate.append('+')\n",
    "        elif i == 1:\n",
    "            operate.append('-')\n",
    "        elif i == 2:\n",
    "            operate.append('*')\n",
    "        else:\n",
    "            operate.append('/')\n",
    "check = [False] * len(operate)\n",
    "\n",
    "def calc(idx, s, op):\n",
    "    if op == '+':\n",
    "        return s + nums[idx]\n",
    "    elif op == '-':\n",
    "        return s - nums[idx]\n",
    "    elif op == '*':\n",
    "        return s * nums[idx]\n",
    "    else:\n",
    "        if s >= 0:\n",
    "            return s // nums[idx]\n",
    "        else:\n",
    "            return -(-s // nums[idx])\n",
    "\n",
    "ans = []\n",
    "def back_tracking(idx, s):\n",
    "    global ans\n",
    "    if idx == n:\n",
    "        ans.append(s)\n",
    "        return\n",
    "    for i in range(len(operate)):\n",
    "        if check[i]:\n",
    "            continue\n",
    "        check[i] = True\n",
    "        back_tracking(idx+1, calc(idx, s, operate[i]))\n",
    "        check[i] = False\n",
    "        \n",
    "back_tracking(1, nums[0])\n",
    "ans.sort()\n",
    "print(ans[-1])\n",
    "print(ans[0])"
   ]
  },
  {
   "cell_type": "code",
   "execution_count": 21,
   "id": "231bbd3a",
   "metadata": {},
   "outputs": [
    {
     "name": "stdout",
     "output_type": "stream",
     "text": [
      "6\n",
      "1 2 3 4 5 6\n",
      "2 1 1 1\n",
      "[-24, -9, -5, -4, -2, -1, -1, 0, 0, 0, 0, 0, 0, 1, 1, 1, 1, 1, 1, 1, 1, 2, 2, 3, 3, 3, 3, 3, 3, 5, 5, 5, 5, 6, 6, 6, 6, 6, 6, 6, 7, 7, 7, 7, 11, 11, 11, 11, 11, 12, 12, 13, 19, 24, 26, 29, 30, 30, 36, 54]\n"
     ]
    }
   ],
   "source": [
    "n = int(input())\n",
    "nums = list(map(int, input().split()))\n",
    "plus, minus, mul, div = map(int, input().split())\n",
    "ans = []\n",
    "\n",
    "def calc(idx, cur, plus, minus, mul, div):\n",
    "    global ans\n",
    "    if idx == n:\n",
    "        ans.append(cur)\n",
    "        return\n",
    "    if plus > 0:\n",
    "        calc(idx+1, cur+nums[idx], plus-1, minus, mul, div)\n",
    "    if minus > 0:\n",
    "        calc(idx+1, cur-nums[idx], plus, minus-1, mul, div)\n",
    "    if mul > 0:\n",
    "        calc(idx+1, cur*nums[idx], plus, minus, mul-1, div)\n",
    "    if div > 0:\n",
    "        if cur >= 0:\n",
    "            calc(idx+1, cur//nums[idx], plus, minus, mul, div-1)\n",
    "        else:\n",
    "            calc(idx+1, -(-cur//nums[idx]), plus, minus, mul, div-1)\n",
    "\n",
    "calc(1, nums[0], plus, minus, mul, div)\n",
    "\n",
    "print(sorted(ans))"
   ]
  },
  {
   "cell_type": "markdown",
   "id": "967bb630",
   "metadata": {},
   "source": [
    "## 연산자 끼워넣기2\n",
    "https://www.acmicpc.net/problem/15658"
   ]
  },
  {
   "cell_type": "code",
   "execution_count": null,
   "id": "f9c80267",
   "metadata": {},
   "outputs": [],
   "source": [
    "import sys \n",
    "\n",
    "n = int(input())\n",
    "num = list(map(int, input().split()))\n",
    "op_cnt = list(map(int, input().split()))\n",
    "max_result = -sys.maxsize\n",
    "min_result = sys.maxsize\n",
    "\n",
    "\n",
    "    \n",
    "def operator(index: int, s: int) -> list:\n",
    "    if index == n:\n",
    "        global max_result, min_result\n",
    "        max_result = max(max_result, s)\n",
    "        min_result = min(min_result, s)\n",
    "        return \n",
    "   \n",
    "    for i in range(len(op_cnt)):\n",
    "        if not op_cnt[i] == 0:\n",
    "            if i == 0:\n",
    "                result = s + num[index]\n",
    "            elif i == 1:\n",
    "                result = s - num[index]\n",
    "            elif i == 2:\n",
    "                result = s * num[index]\n",
    "            else:\n",
    "                if s < 0:\n",
    "                    result = -s // num[index]\n",
    "                    result = -result\n",
    "                else:\n",
    "                    result = s // num[index]\n",
    "\n",
    "            op_cnt[i] -= 1\n",
    "            operator(index + 1, result)    \n",
    "            op_cnt[i] += 1\n",
    "\n",
    "\n",
    "operator(1, num[0])\n",
    "\n",
    "\n",
    "print(max_result)\n",
    "print(min_result)"
   ]
  },
  {
   "cell_type": "markdown",
   "id": "54fb8649",
   "metadata": {},
   "source": [
    "## 테트로미노\n",
    "https://www.acmicpc.net/problem/14500"
   ]
  },
  {
   "cell_type": "code",
   "execution_count": null,
   "id": "975d4232",
   "metadata": {},
   "outputs": [],
   "source": [
    "dx, dy = [0, 0, 1, -1], [1, -1, 0, 0]\n",
    "n, m = map(int, input().split())\n",
    "a = [list(map(int, input().split())) for _ in range(n)]\n",
    "c = [[False]*m for _ in range(n)]\n",
    "\n",
    "def go(x, y, s, cnt):\n",
    "    if cnt == 4:\n",
    "        global ans\n",
    "        if ans < s:\n",
    "            ans = s\n",
    "        return\n",
    "    if x < 0 or x >= n or y < 0 or y >= m:\n",
    "        return\n",
    "    if c[x][y]:\n",
    "        return\n",
    "    c[x][y] = True\n",
    "    for k in range(4):\n",
    "        go(x+dx[k], y+dy[k], s+a[x][y], cnt+1)\n",
    "    c[x][y] = False\n",
    "\n",
    "ans = 0\n",
    "\n",
    "for i in range(n):\n",
    "    for j in range(m):\n",
    "        go(i, j, 0, 0)\n",
    "        if j+2 < m:\n",
    "            temp = a[i][j] + a[i][j+1] + a[i][j+2]\n",
    "            if i-1 >= 0:\n",
    "                temp2 = temp + a[i-1][j+1]\n",
    "                if ans < temp2:\n",
    "                    ans = temp2\n",
    "            if i+1 < n:\n",
    "                temp2 = temp + a[i+1][j+1]\n",
    "                if ans < temp2:\n",
    "                    ans = temp2\n",
    "        if i+2 < n:\n",
    "            temp = a[i][j] + a[i+1][j] + a[i+2][j]\n",
    "            if j+1 < m:\n",
    "                temp2 = temp + a[i+1][j+1]\n",
    "                if ans < temp2:\n",
    "                    ans = temp2\n",
    "            if j-1 >= 0:\n",
    "                temp2 = temp + a[i+1][j-1]\n",
    "                if ans < temp2:\n",
    "                    ans = temp2\n",
    "print(ans)"
   ]
  },
  {
   "cell_type": "markdown",
   "id": "928d6ad6",
   "metadata": {},
   "source": [
    "## 두 동전\n",
    "https://www.acmicpc.net/problem/16197\n",
    "\n",
    "- 총 4개의 방향을 10번까지 수행 가능\n",
    "- 방법의 수: 4 ^ 10"
   ]
  },
  {
   "cell_type": "code",
   "execution_count": null,
   "id": "778f0281",
   "metadata": {},
   "outputs": [
    {
     "ename": "",
     "evalue": "",
     "output_type": "error",
     "traceback": [
      "\u001b[1;31mRunning cells with 'Python 3.8.9 64-bit' requires ipykernel package.\n",
      "Run the following command to install 'ipykernel' into the Python environment. \n",
      "Command: '/usr/local/bin/python3 -m pip install ipykernel -U --user --force-reinstall'"
     ]
    }
   ],
   "source": [
    "n, m = map(int, input().split())\n",
    "graph = [list(input()) for _ in range(n)]\n",
    "dx, dy = [0, 0, 1, -1], [1, -1, 0, 0]\n",
    "x1 = y1 = x2 = y2 = -1\n",
    "for i in range(n):\n",
    "    for j in range(m):\n",
    "        if graph[i][j] == 'o':\n",
    "            if x1 == -1:\n",
    "                x1, y1 = i, j\n",
    "            else:\n",
    "                x2, y2 = i, j\n",
    "\n",
    "def go(step, x1, y1, x2, y2):\n",
    "    if step == 11:\n",
    "        return -1\n",
    "    fall1 = fall2 = False\n",
    "    if x1 < 0 or x1 >= n or y1 < 0 or y1 >= m:\n",
    "        fall1 = True\n",
    "    if x2 < 0 or x2 >= n or y2 < 0 or y2 >= m:\n",
    "        fall2 = True\n",
    "    if fall1 and fall2:\n",
    "        return -1\n",
    "    if fall1 or fall2:\n",
    "        return step\n",
    "    ans = -1\n",
    "    for k in range(4):\n",
    "        nx1, ny1 = x1+dx[k], y1+dy[k]\n",
    "        nx2, ny2 = x2+dx[k], y2+dy[k]\n",
    "\n",
    "        if 0 <= nx1 < n and 0 <= ny1 < m and graph[nx1][ny1] == '#':\n",
    "            nx1, ny1 = x1, y1\n",
    "        if 0 <= nx2 < n and 0 <= ny2 < m and graph[nx2][ny2] == '#':\n",
    "            nx2, ny2 = x2, y2\n",
    "        temp = go(step+1, nx1, ny1, nx2, ny2)\n",
    "        if temp == -1:\n",
    "            continue\n",
    "        if ans == -1 or ans > temp:\n",
    "            ans = temp\n",
    "    return ans \n",
    "\n",
    "print(go(0, x1, y1, x2, y2))"
   ]
  },
  {
   "cell_type": "markdown",
   "id": "4c8f9422",
   "metadata": {},
   "source": [
    "## 에너지 모으기\n",
    "https://www.acmicpc.net/problem/16198"
   ]
  },
  {
   "cell_type": "code",
   "execution_count": null,
   "id": "ab1218d3",
   "metadata": {},
   "outputs": [],
   "source": [
    "n = int(input())\n",
    "arr = list(map(int, input().split()))\n",
    "\n",
    "def go(arr):\n",
    "    n = len(arr)\n",
    "    if n == 2:\n",
    "        return 0\n",
    "    ans = 0\n",
    "    for i in range(1, n-1):\n",
    "        energy = a[i-1]*a[i+1]\n",
    "        b = a[:i] + a[i+1:]\n",
    "        energy += go(b)\n",
    "        if ans < energy:\n",
    "            ans = energy\n",
    "    return ans\n",
    "    \n",
    "print(go(arr))"
   ]
  }
 ],
 "metadata": {
  "kernelspec": {
   "display_name": "Python 3",
   "language": "python",
   "name": "python3"
  },
  "language_info": {
   "codemirror_mode": {
    "name": "ipython",
    "version": 3
   },
   "file_extension": ".py",
   "mimetype": "text/x-python",
   "name": "python",
   "nbconvert_exporter": "python",
   "pygments_lexer": "ipython3",
   "version": "3.8.9"
  }
 },
 "nbformat": 4,
 "nbformat_minor": 5
}
