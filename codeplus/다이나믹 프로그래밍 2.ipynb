{
 "cells": [
  {
   "cell_type": "markdown",
   "id": "1121907a",
   "metadata": {},
   "source": [
    "# 오르막 수까지"
   ]
  },
  {
   "cell_type": "markdown",
   "id": "6ada2fb8",
   "metadata": {},
   "source": [
    "## 1, 2, 3 더하기 3\n",
    "https://www.acmicpc.net/problem/15988"
   ]
  },
  {
   "cell_type": "code",
   "execution_count": 2,
   "id": "7bdfb32b",
   "metadata": {},
   "outputs": [
    {
     "name": "stdout",
     "output_type": "stream",
     "text": [
      "3\n",
      "2\n",
      "2\n",
      "3\n",
      "4\n",
      "4\n",
      "7\n"
     ]
    }
   ],
   "source": [
    "d = [0] * 1000001\n",
    "mod = 1000000009\n",
    "d[0] = 1\n",
    "for i in range(1, 1000000+1):\n",
    "    if i-1 >= 0:\n",
    "        d[i] += d[i-1]\n",
    "    if i-2 >= 0:\n",
    "        d[i] += d[i-2]\n",
    "    if i-3 >= 0:\n",
    "        d[i] += d[i-3]\n",
    "    d[i] %= mod\n",
    "    \n",
    "t = int(input())\n",
    "for _ in range(t):\n",
    "    n = int(input())\n",
    "    print(d[n])"
   ]
  },
  {
   "cell_type": "markdown",
   "id": "c02ed811",
   "metadata": {},
   "source": [
    "## RGB거리\n",
    "https://www.acmicpc.net/problem/1149   \n",
    "d[i][j] = i번 집을 색 j로 칠했을 때, 1~i번 집 칠하는 비용의 최소값\n",
    "d[i][0] = min(d[i-1][1], d[i-1][2]) + a[i][0]"
   ]
  },
  {
   "cell_type": "code",
   "execution_count": 9,
   "id": "23334b85",
   "metadata": {},
   "outputs": [
    {
     "name": "stdout",
     "output_type": "stream",
     "text": [
      "3\n",
      "26 40 83\n",
      "49 60 57\n",
      "13 89 99\n",
      "96\n"
     ]
    }
   ],
   "source": [
    "n = int(input())\n",
    "d = [list(map(int, input().split())) for _ in range(n)]\n",
    "for i in range(1, len(d)):\n",
    "    d[i][0] = min(d[i-1][1], d[i-1][2]) + d[i][0]\n",
    "    d[i][1] = min(d[i-1][0], d[i-1][2]) + d[i][1]\n",
    "    d[i][2] = min(d[i-1][0], d[i-1][1]) + d[i][2]\n",
    "print(min(d[n-1]))"
   ]
  },
  {
   "cell_type": "markdown",
   "id": "50198d14",
   "metadata": {},
   "source": [
    "## 동물원\n",
    "https://www.acmicpc.net/problem/1309   \n",
    "d[n][m] = 세로로 n칸이고 마지막 칸 m번 방법인 배치의 수   \n",
    "d[n][0] = d[n-1][0] + d[n-1][1] + d[n-1][2]   \n",
    "d[n][1] = d[n-1][0] + d[n-1][2]"
   ]
  },
  {
   "cell_type": "code",
   "execution_count": 15,
   "id": "9d0aca63",
   "metadata": {},
   "outputs": [
    {
     "name": "stdout",
     "output_type": "stream",
     "text": [
      "4\n",
      "41\n"
     ]
    }
   ],
   "source": [
    "n = int(input())\n",
    "d = [[0] * 3 for _ in range(n+1)]\n",
    "for i in range(3):\n",
    "    d[1][i] = 1\n",
    "mod = 9901\n",
    "\n",
    "for i in range(2, n+1):\n",
    "    d[i][0] = (d[i-1][0] + d[i-1][1] + d[i-1][2]) % mod\n",
    "    d[i][1] = (d[i-1][0] + d[i-1][2]) % mod\n",
    "    d[i][2] = (d[i-1][0] + d[i-1][1]) % mod\n",
    "    \n",
    "print(sum(d[n]) % mod)"
   ]
  },
  {
   "cell_type": "markdown",
   "id": "97e2e98e",
   "metadata": {},
   "source": [
    "## 오르막 수\n",
    "https://www.acmicpc.net/problem/11057   \n",
    "d[i][j] = 수의 길이 i이고 마지막 i번째 수는 j인 오르막 수의 개수\n",
    "d[i][j] += d[i-1][k]   \n",
    "d[1][0~9] = 1"
   ]
  },
  {
   "cell_type": "code",
   "execution_count": 3,
   "id": "40bfad1d",
   "metadata": {},
   "outputs": [
    {
     "name": "stdout",
     "output_type": "stream",
     "text": [
      "2\n",
      "55\n"
     ]
    }
   ],
   "source": [
    "n = int(input())\n",
    "mod = 10007\n",
    "d = [[0] * 10 for _ in range(n+1)]\n",
    "for i in range(10): d[1][i] = 1\n",
    "for i in range(2, n+1):\n",
    "    for j in range(10):\n",
    "        for k in range(j+1):\n",
    "            d[i][j] += d[i-1][k]\n",
    "            d[i][j] %= mod\n",
    "\n",
    "print(sum(d[n]) % mod)"
   ]
  },
  {
   "cell_type": "markdown",
   "id": "0e5db6d9",
   "metadata": {},
   "source": [
    "## 포도주 시식\n",
    "https://www.acmicpc.net/problem/2156      \n",
    "d[i] = a[1], ... , a[i] 까지 포도주 마셨을 때, 마실 수 있는 포도주의 최대 양   \n",
    "a[i]는 j번 연속해서 마신 포도주   \n",
    "<br/>  \n",
    "d[i][j] = i번 포도주는 j번 연속해서 마신 포도주   \n",
    "i 번째에 가능한 경우   \n",
    "d[i][0] = 0번 연속해서 마신 포도주 -> a[i] 마시지 않음   \n",
    "d[i][1] = 1번 연속해서 마신 포도주 -> a[i-1] 마시지 않음   \n",
    "d[i][2] = 2번 연속해서 마신 포도주 -> a[i-1] 마시고, a[i-2]는 마시지 않아야 함   \n",
    "<br />\n",
    "d[i][0] = max(d[i-1][0], d[i-1][1], d[i-1][2])   \n",
    "d[i][1] = d[i-1][0] + a[i]   \n",
    "d[i][2] = d[i-1][1] + a[i]   \n",
    "<br >\n",
    "#### 1차원 으로 푸는 경우   \n",
    "d[i] = max(d[i-1], d[i-2] + a[i], d[i-3] + a[i-1] + a[i])   \n",
    "d[1] = a[1],  d[2] = a[1] + a[2]"
   ]
  },
  {
   "cell_type": "code",
   "execution_count": 17,
   "id": "bd2d36f5",
   "metadata": {},
   "outputs": [
    {
     "name": "stdout",
     "output_type": "stream",
     "text": [
      "6\n",
      "6\n",
      "10\n",
      "13\n",
      "9\n",
      "8\n",
      "1\n",
      "33\n"
     ]
    }
   ],
   "source": [
    "n = int(input())\n",
    "a = [0] + [int(input()) for _ in range(n)]\n",
    "d = [0] * (10001)\n",
    "d[1] = a[1]\n",
    "d[2] = a[1] + a[2]\n",
    "for i in range(3, n+1):\n",
    "    d[i] = max(d[i-1], d[i-2] + a[i], d[i-3] + a[i-1] + a[i])\n",
    "print(d[n])"
   ]
  },
  {
   "cell_type": "markdown",
   "id": "a44c51f6",
   "metadata": {},
   "source": [
    "## 정수 삼각형\n",
    "https://www.acmicpc.net/problem/1932   \n",
    "d[i][j] = (i, j)에 도착 했을 때 합의 최댓값    \n",
    "d[i][j] = max(d[i-1][j], d[i-1][j-1]) + a[i][j]"
   ]
  },
  {
   "cell_type": "code",
   "execution_count": 23,
   "id": "0d4af38b",
   "metadata": {},
   "outputs": [
    {
     "name": "stdout",
     "output_type": "stream",
     "text": [
      "5\n",
      "7\n",
      "3 8\n",
      "8 1 0\n",
      "2 7 4 4\n",
      "4 5 2 6 5\n",
      "30\n"
     ]
    }
   ],
   "source": [
    "n = int(input())\n",
    "a = [list(map(int, input().split())) for _ in range(n)]\n",
    "d = [[0] * n for _ in range(n)]\n",
    "d[0][0] = a[0][0]\n",
    "for i in range(1, n):\n",
    "    for j in range(i+1):\n",
    "        try:\n",
    "            d[i][j] = max(d[i-1][j], d[i-1][j-1]) + a[i][j]\n",
    "        except:\n",
    "            d[i][j] = d[i-1][j]\n",
    "print(max(d[n-1]))"
   ]
  },
  {
   "cell_type": "markdown",
   "id": "44bbfa76",
   "metadata": {},
   "source": [
    "## 가장 큰 증가하는 부분 수열\n",
    "https://www.acmicpc.net/problem/11055   "
   ]
  },
  {
   "cell_type": "code",
   "execution_count": 26,
   "id": "ab66dab6",
   "metadata": {},
   "outputs": [
    {
     "name": "stdout",
     "output_type": "stream",
     "text": [
      "10\n",
      "1 100 2 50 60 3 5 6 7 8\n",
      "113\n"
     ]
    }
   ],
   "source": [
    "n = int(input())\n",
    "a = list(map(int, input().split()))\n",
    "d = [0] * n\n",
    "for i in range(n):\n",
    "    d[i] = a[i]\n",
    "    for j in range(i):\n",
    "        if a[j] < a[i] and d[i] < d[j] + a[i]:\n",
    "            d[i] = d[j] + a[i]\n",
    "print(max(d))"
   ]
  },
  {
   "cell_type": "markdown",
   "id": "e3f54702",
   "metadata": {},
   "source": [
    "## 가장 긴 감소하는 부분 수열\n",
    "https://www.acmicpc.net/problem/11722   \n",
    "d[i] = a[i]에서 끝나는 가장 긴 감소하는 부분 수열의 길이   \n",
    "i < j, a[j] > a[i]   \n",
    "max(d[j]) + 1   \n",
    "---\n",
    "#### 뒤에서 순회하면서 풀어야함\n",
    "d[i] = a[i]에서 <span style='color: red'>시작</span>하는 가장 긴 감소하는 부분 수열의 길이   \n",
    "i < j, a[j] < a[i]   \n",
    "d[i] = max([d[j]) + 1   \n"
   ]
  },
  {
   "cell_type": "code",
   "execution_count": 27,
   "id": "84be6a58",
   "metadata": {},
   "outputs": [
    {
     "name": "stdout",
     "output_type": "stream",
     "text": [
      "6\n",
      "10 30 10 20 20 10\n",
      "[1, 1, 2, 2, 2, 3]\n"
     ]
    }
   ],
   "source": [
    "n = int(input())\n",
    "a = list(map(int, input().split()))\n",
    "d = [0] * n\n",
    "for i in range(n):\n",
    "    d[i] = 1\n",
    "    for j in range(i):\n",
    "        if a[j] > a[i] and d[i] < d[j] + 1:\n",
    "            d[i] = d[j] + 1\n",
    "print(max(d))"
   ]
  },
  {
   "cell_type": "code",
   "execution_count": 31,
   "id": "c16e6ba2",
   "metadata": {},
   "outputs": [
    {
     "name": "stdout",
     "output_type": "stream",
     "text": [
      "6\n",
      "10 30 10 20 20 10\n",
      "[1, 3, 1, 2, 2, 1]\n"
     ]
    }
   ],
   "source": [
    "n = int(input())\n",
    "a = list(map(int, input().split()))\n",
    "d = [0] * n\n",
    "for i in range(len(a)-1, -1, -1):\n",
    "    d[i] = 1\n",
    "    for j in range(len(a)-1, i, -1):\n",
    "        if a[i] > a[j] and d[i] < d[j] + 1:\n",
    "            d[i] = d[j] + 1\n",
    "print(d)"
   ]
  },
  {
   "cell_type": "markdown",
   "id": "f5668bd8",
   "metadata": {},
   "source": [
    "## 가장 긴 바이토닉 부분 수열\n",
    "https://www.acmicpc.net/problem/11054   \n",
    "\n",
    "i번째에서 끝나는 가장 긴 증가하는 부분 수열의 길이 + i번째에서 시작하는 가장 긴 감소하는 부분 수열의 길이 - 1 (i번째 수 겹치므로 1 빼줌)"
   ]
  },
  {
   "cell_type": "code",
   "execution_count": 54,
   "id": "8c2a8b5e",
   "metadata": {},
   "outputs": [
    {
     "name": "stdout",
     "output_type": "stream",
     "text": [
      "10\n",
      "1 5 2 1 4 3 4 5 2 1\n",
      "7\n"
     ]
    }
   ],
   "source": [
    "n = int(input())\n",
    "a = list(map(int, input().split()))\n",
    "increase = [1] * n\n",
    "decrease = [1] * n\n",
    "\n",
    "for i in range(n):\n",
    "    for j in range(i):\n",
    "        if a[i] > a[j]:\n",
    "            increase[i] = max(increase[i], increase[j] + 1)\n",
    "\n",
    "for i in range(n-1, -1, -1):\n",
    "    for j in range(n-1, i, -1):\n",
    "        if a[i] > a[j]:\n",
    "            decrease[i] = max(decrease[i], decrease[j] + 1)\n",
    "\n",
    "result = []\n",
    "for up, down in zip(increase, decrease):\n",
    "    result.append(up + down - 1)\n",
    "print(max(result))"
   ]
  },
  {
   "cell_type": "code",
   "execution_count": 51,
   "id": "f79bb881",
   "metadata": {},
   "outputs": [
    {
     "name": "stdout",
     "output_type": "stream",
     "text": [
      "10\n",
      "1 5 2 1 4 3 4 5 2 1\n",
      "[1, 2, 2, 1, 3, 3, 4, 5, 2, 1] [1, 2, 3, 3, 3, 4, 1, 2, 5, 1]\n",
      "7\n"
     ]
    }
   ],
   "source": [
    "n = int(input())\n",
    "a = list(map(int, input().split()))\n",
    "reverse_a = a[::-1]\n",
    "\n",
    "increase = [1] * n\n",
    "decrease = [1] * n\n",
    "\n",
    "for i in range(n):\n",
    "    for j in range(i):\n",
    "        if a[i] > a[j]:\n",
    "            increase[i] = max(increase[i], increase[j] + 1)\n",
    "        if reverse_a[i] > reverse_a[j]:\n",
    "            decrease[i] = max(decrease[i], decrease[j] + 1)\n",
    "print(increase, decrease)\n",
    "result = [0] * n\n",
    "for i in range(n):\n",
    "    result[i] = increase[i] + decrease[n-i-1] - 1\n",
    "print(max(result))"
   ]
  },
  {
   "cell_type": "markdown",
   "id": "3a4e009d",
   "metadata": {},
   "source": [
    "## <span style='color: red'>연속합2</span> O(n)\n",
    "https://www.acmicpc.net/problem/13398   \n"
   ]
  },
  {
   "cell_type": "code",
   "execution_count": 71,
   "id": "faddfe6e",
   "metadata": {},
   "outputs": [
    {
     "name": "stdout",
     "output_type": "stream",
     "text": [
      "10\n",
      "10 -4 3 1 5 6 -35 12 21 -1\n",
      "54\n"
     ]
    }
   ],
   "source": [
    "n = int(input())\n",
    "num = list(map(int, input().split()))\n",
    "d = [0] * n\n",
    "d2 = [0] * n\n",
    "\n",
    "for i in range(n):\n",
    "    d[i] = num[i]\n",
    "    if i == 0: continue\n",
    "    d[i] = max(d[i], d[i-1] + num[i])\n",
    "\n",
    "for i in range(n-1, -1, -1):\n",
    "    d2[i] = num[i]\n",
    "    if i == n-1: continue\n",
    "    d2[i] = max(d2[i], d2[i+1] + num[i])\n",
    "\n",
    "result = []\n",
    "for i in range(2, n-1):\n",
    "    result.append(d[i-1] + d2[i+1])\n",
    "\n",
    "print(max(max(result), max(d)))"
   ]
  },
  {
   "cell_type": "markdown",
   "id": "8cda575c",
   "metadata": {},
   "source": [
    "## 타일 채우기\n",
    "https://www.acmicpc.net/problem/2133"
   ]
  },
  {
   "cell_type": "code",
   "execution_count": 73,
   "id": "9e88983f",
   "metadata": {},
   "outputs": [
    {
     "name": "stdout",
     "output_type": "stream",
     "text": [
      "4\n",
      "11\n"
     ]
    }
   ],
   "source": [
    "n = int(input())\n",
    "d = [0] * 31\n",
    "d[2] = 3\n",
    "for i in range(4, 31, 2):\n",
    "    d[i] = 3 * d[i-2]\n",
    "    for j in range(4, i, 2):\n",
    "        d[i] += 2 * d[i-j]\n",
    "    d[i] += 2\n",
    "print(d[n])"
   ]
  }
 ],
 "metadata": {
  "kernelspec": {
   "display_name": "Python 3",
   "language": "python",
   "name": "python3"
  },
  "language_info": {
   "codemirror_mode": {
    "name": "ipython",
    "version": 3
   },
   "file_extension": ".py",
   "mimetype": "text/x-python",
   "name": "python",
   "nbconvert_exporter": "python",
   "pygments_lexer": "ipython3",
   "version": "3.8.8"
  }
 },
 "nbformat": 4,
 "nbformat_minor": 5
}
