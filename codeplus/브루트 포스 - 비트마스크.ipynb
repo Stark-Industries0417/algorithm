{
 "cells": [
  {
   "cell_type": "markdown",
   "id": "d13d7771",
   "metadata": {},
   "source": [
    "# 비트마스크\n",
    "- 정수로 집합을 나타낼 수 있다\n",
    "- {1, 3, 4, 5, 9} = 100011101 = 2^9 + 2^5 + 2^4 + 2^3 + 2^1 = 570   \n",
    "\n",
    "**집합을 정수 하나로 나타내므로 공간을 적게 사용**   \n",
    "**O(1) 만에 검사, 추가, 삭제 가능**     \n",
    "   \n",
    "검사: s에 x가 있는지 검사 -> s의 x비트에 1이 있는지 검사   \n",
    "s & (1 << x)    \n",
    "   \n",
    "추가: s에 x 추가 -> s의 x번째 비트 1로 변경   \n",
    "s | (1 << x) 비트 덧셈으로도 구현 되지만 이미 있는 수를 추가 하는데 있어서 1 + 1 은 0 이 되므로 or 연산 사용해야함   \n",
    "   \n",
    "제거: s에 x 제거 -> s의 x번째 비트 0으로 변경   \n",
    "x번째 비트만 0이고 나머지는 1인 x 와 & 연산해야함\n",
    "s & ~(1 << x)   \n",
    "   \n",
    "토글 s ^ (1 << x)   \n",
    "   \n",
    "   \n",
    "전체 집합 = (1 << N) - 1"
   ]
  },
  {
   "cell_type": "markdown",
   "id": "ad3131ea",
   "metadata": {},
   "source": [
    "## 부분수열의 합     \n",
    "https://www.acmicpc.net/problem/1182\n",
    "부분수열의 개수 = 2^N, 각 부분수열은 최대 N개 있을 수 있으므로 O(2^N * N)   \n",
    "1 <= N <= 20"
   ]
  },
  {
   "cell_type": "code",
   "execution_count": 14,
   "id": "39bd2409",
   "metadata": {
    "scrolled": false
   },
   "outputs": [
    {
     "name": "stdout",
     "output_type": "stream",
     "text": [
      "5 0\n",
      "-7 -3 -2 5 8\n",
      "1\n"
     ]
    }
   ],
   "source": [
    "n, a = list(map(int, input().split()))\n",
    "num = list(map(int, input().split()))\n",
    "ans = 0\n",
    "for i in range(1, 1 << n):\n",
    "    s = 0\n",
    "    for k in range(n):\n",
    "        if i & (1 << k):\n",
    "            s += num[k]\n",
    "    if s == a:\n",
    "        ans += 1\n",
    "print(ans)"
   ]
  },
  {
   "cell_type": "markdown",
   "id": "27d895ae",
   "metadata": {},
   "source": [
    "## 스타트와 링크 \n",
    "https://www.acmicpc.net/problem/14889"
   ]
  },
  {
   "cell_type": "markdown",
   "id": "e6862d60",
   "metadata": {},
   "source": [
    "## 종이조각\n",
    "(1 <= N, M <= 4)   \n",
    "https://www.acmicpc.net/problem/14391"
   ]
  },
  {
   "cell_type": "code",
   "execution_count": null,
   "id": "bb07bd69",
   "metadata": {},
   "outputs": [],
   "source": [
    "n, m = map(int, input().split())\n",
    "a = [list(map(int, input().split())) for _ in range(n)]\n",
    "ans = 0\n",
    "\n",
    "for s in range(1 << (n*m)):\n",
    "    sum = 0\n",
    "    for i in range(n):\n",
    "        cur = 0\n",
    "        for j in range(m):\n",
    "            k = i*m + j\n",
    "            if (s & (1 << k)) == 0:\n",
    "                cur = cur * 10 + a[i][j]\n",
    "            else:\n",
    "                sum += cur\n",
    "                cur = 0\n",
    "        sum += cur\n",
    "    \n",
    "    for j in range(m):\n",
    "        cur = 0\n",
    "        for i in range(n):\n",
    "            k = i * m + j\n",
    "            if (s & (1 << k)) != 0:\n",
    "                cur = cur * 10 + a[i][j]\n",
    "            else:\n",
    "                sum += cur\n",
    "                cur = 0\n",
    "        sum += cur\n",
    "    ans = max(ans, sum)\n",
    "    \n",
    "print(ans)"
   ]
  },
  {
   "cell_type": "code",
   "execution_count": null,
   "id": "16d4d028",
   "metadata": {},
   "outputs": [],
   "source": []
  },
  {
   "cell_type": "code",
   "execution_count": null,
   "id": "f5273610",
   "metadata": {},
   "outputs": [],
   "source": []
  },
  {
   "cell_type": "code",
   "execution_count": null,
   "id": "9647a883",
   "metadata": {},
   "outputs": [],
   "source": []
  },
  {
   "cell_type": "code",
   "execution_count": null,
   "id": "6a62fbec",
   "metadata": {},
   "outputs": [],
   "source": []
  },
  {
   "cell_type": "code",
   "execution_count": null,
   "id": "452d772d",
   "metadata": {},
   "outputs": [],
   "source": []
  }
 ],
 "metadata": {
  "kernelspec": {
   "display_name": "Python 3",
   "language": "python",
   "name": "python3"
  },
  "language_info": {
   "codemirror_mode": {
    "name": "ipython",
    "version": 3
   },
   "file_extension": ".py",
   "mimetype": "text/x-python",
   "name": "python",
   "nbconvert_exporter": "python",
   "pygments_lexer": "ipython3",
   "version": "3.8.8"
  }
 },
 "nbformat": 4,
 "nbformat_minor": 5
}
