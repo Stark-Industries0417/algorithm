{
 "cells": [
  {
   "cell_type": "markdown",
   "id": "c4ad17fb",
   "metadata": {},
   "source": [
    "## 차량 번호판 1\n",
    "https://www.acmicpc.net/problem/16968"
   ]
  },
  {
   "cell_type": "code",
   "execution_count": 2,
   "id": "7aa4f490",
   "metadata": {},
   "outputs": [
    {
     "data": {
      "text/plain": [
       "57"
      ]
     },
     "execution_count": 2,
     "metadata": {},
     "output_type": "execute_result"
    }
   ],
   "source": [
    "def brute_force(idx, last):\n",
    "    if len(s) == idx:\n",
    "        return 1\n",
    "    \n",
    "    start = ord('a') if s[idx] == 'c' else 0\n",
    "    end = ord('z') if s[idx] == 'c' else 9\n",
    "\n",
    "    ans = 0\n",
    "    for i in range(start, end+1):\n",
    "        if i != last:\n",
    "            ans += brute_force(idx+1, i)\n",
    "    return ans\n",
    "\n",
    "s = input()\n",
    "print(brute_force(0, ' '))"
   ]
  },
  {
   "cell_type": "code",
   "execution_count": null,
   "id": "ff3162b5",
   "metadata": {},
   "outputs": [],
   "source": [
    "s = input()\n",
    "\n",
    "ans = 1\n",
    "for i in range(len(s)):\n",
    "    cnt = 26 if s[i] == 'c' else 10\n",
    "    if i > 0 and s[i] == s[i-1]:\n",
    "        cnt -= 1\n",
    "    ans = ans * cnt\n",
    "\n",
    "print(ans)"
   ]
  },
  {
   "cell_type": "markdown",
   "id": "fdab4077",
   "metadata": {},
   "source": [
    "## 양념 반 후라이드 반\n",
    "https://www.acmicpc.net/problem/16917"
   ]
  },
  {
   "cell_type": "code",
   "execution_count": null,
   "id": "beea61ba",
   "metadata": {},
   "outputs": [],
   "source": [
    "A, B, C, x, y = map(int, input().split())\n",
    "\n",
    "ans = int(1e9)\n",
    "for i in range(100000+1):\n",
    "    ans = min(ans ,2*i*C + max(0, x-i) * A + max(0, y-i) * B)\n",
    "\n",
    "print(ans)"
   ]
  },
  {
   "cell_type": "markdown",
   "id": "d90c9e4b",
   "metadata": {},
   "source": [
    "## 로마 숫자 만들기\n",
    "https://www.acmicpc.net/problem/16922"
   ]
  },
  {
   "cell_type": "code",
   "execution_count": null,
   "id": "03ff90b4",
   "metadata": {},
   "outputs": [],
   "source": [
    "n = int(input())\n",
    "check = [False] * 1001\n",
    "for i in range(n+1):\n",
    "    for j in range(n-i+1):\n",
    "        for k in range(n-i-j+1):\n",
    "            l = n-i-j-k\n",
    "            val = i + 5*j + 10*k + 50*l\n",
    "            check[val] = True\n",
    "\n",
    "ans = 0\n",
    "for i in range(1, 1001):\n",
    "    if check[i]:\n",
    "        ans += 1\n",
    "print(ans)"
   ]
  },
  {
   "cell_type": "markdown",
   "id": "f7ea01b5",
   "metadata": {},
   "source": [
    "## 십자가 찾기\n",
    "https://www.acmicpc.net/problem/16924"
   ]
  },
  {
   "cell_type": "code",
   "execution_count": null,
   "id": "073c8b5c",
   "metadata": {},
   "outputs": [],
   "source": [
    "n, m = map(int, input().split())\n",
    "a = [input() for _ in range(n)]\n",
    "check = [[False] * m for _ in range(n)]\n",
    "ans = []\n",
    "\n",
    "for i in range(n):\n",
    "    for j in range(m):\n",
    "        if a[i][j] == '*':\n",
    "            l = 0\n",
    "            k = 1\n",
    "            while True:\n",
    "                if i+k < n and i-k >= 0 and j+k < m and j-k >= 0:\n",
    "                    if a[i+k][j] == '*' and a[i-k][j] == '*' and a[i][j-k] == '*' and a[i][j+k] == '*':\n",
    "                        l = k\n",
    "                    else:\n",
    "                        break\n",
    "                else:\n",
    "                    break\n",
    "                k += 1\n",
    "            if l > 0:\n",
    "                ans.append((i+1, j+1, l))\n",
    "                check[i][j] = True\n",
    "                for k in range(1, l+1):\n",
    "                    check[i+k][j] = True\n",
    "                    check[i-k][j] = True\n",
    "                    check[i][j+k] = True\n",
    "                    check[i][j-k] = True\n",
    "\n",
    "for i in range(n):\n",
    "    for j in range(m):\n",
    "        if a[i][j] == '*' and check[i][j] == False:\n",
    "            print(-1)\n",
    "            exit(0)\n",
    "            \n",
    "print(len(ans))\n",
    "for p in ans:\n",
    "    print(*p)"
   ]
  },
  {
   "cell_type": "markdown",
   "id": "5d45319d",
   "metadata": {},
   "source": [
    "## 나3곱2\n",
    "https://www.acmicpc.net/problem/16936"
   ]
  },
  {
   "cell_type": "code",
   "execution_count": null,
   "id": "5aa29a9c",
   "metadata": {},
   "outputs": [],
   "source": [
    "n = int(input())\n",
    "a = list(map(int, input().split()))\n",
    "for i in range(n):\n",
    "    num = a[i]\n",
    "    cnt = 0\n",
    "    while num % 3 == 0:\n",
    "        num //= 3\n",
    "        cnt += 1\n",
    "    a[i] = (-cnt, a[i])\n",
    "\n",
    "a.sort()\n",
    "ans = [x[1] for x in a]\n",
    "print(*ans)"
   ]
  },
  {
   "cell_type": "markdown",
   "id": "9719a72c",
   "metadata": {},
   "source": [
    "## 두 스티커\n",
    "https://www.acmicpc.net/problem/16937"
   ]
  },
  {
   "cell_type": "code",
   "execution_count": null,
   "id": "33f2b65b",
   "metadata": {},
   "outputs": [],
   "source": [
    "h, w = map(int, input().split())\n",
    "n = int(input())\n",
    "r = [0] * n\n",
    "c = [0] * n\n",
    "\n",
    "for i in range(n):\n",
    "    r[i], c[i] = map(int, input().split())\n",
    "\n",
    "ans = 0\n",
    "for i in range(n):\n",
    "    r1, c1 = r[i], c[i]\n",
    "    for j in range(i+1, n):\n",
    "        r2, c2 = r[j], c[j]\n",
    "        for rot1 in range(2):\n",
    "            for rot2 in range(2):\n",
    "                if r1+r2 <= h and max(c1, c2) <= w:\n",
    "                    temp = r1*c1 + r2*c2\n",
    "                    if ans < temp:\n",
    "                        ans = temp\n",
    "                    \n",
    "                if max(r1, r2) <= h and c1 +c2 <= w:\n",
    "                    temp = r1*c1 + r2*c2\n",
    "                    if ans < temp:\n",
    "                        ans = temp\n",
    "                \n",
    "                r2, c2 = c2, r2\n",
    "            r1, c1 = c1, r1\n",
    "print(ans)"
   ]
  },
  {
   "cell_type": "markdown",
   "id": "b85da54e",
   "metadata": {},
   "source": [
    "## 캠프 준비\n",
    "https://www.acmicpc.net/problem/16938"
   ]
  },
  {
   "cell_type": "code",
   "execution_count": null,
   "id": "2713d4d0",
   "metadata": {},
   "outputs": [],
   "source": [
    "n, l, r, x = map(int, input().split())\n",
    "a = list(map(int, input().split()))\n",
    "c = [False] * (n+1)\n",
    "\n",
    "def go(index):\n",
    "    if index == n:\n",
    "        cnt = tot = 0\n",
    "        hard = easy = -1\n",
    "        for i in range(n):\n",
    "            if c[i] == False:\n",
    "                continue\n",
    "            tot += a[i]\n",
    "            cnt += 1\n",
    "            if hard == -1 or hard < a[i]:\n",
    "                hard = a[i]\n",
    "            if easy == -1 or easy > a[i]:\n",
    "                easy = a[i]\n",
    "        if cnt >= 2 and l <= tot <= r and hard - easy >= x:\n",
    "            return 1\n",
    "        else:\n",
    "            return 0\n",
    "    \n",
    "    c[index] = True\n",
    "    cnt1 = go(index+1)\n",
    "    c[index] = False\n",
    "    cnt2 = go(index+1)\n",
    "    return cnt1 + cnt2\n",
    "\n",
    "print(go(0))"
   ]
  },
  {
   "cell_type": "markdown",
   "id": "6710e013",
   "metadata": {},
   "source": [
    "## 숫자 재배치\n",
    "https://www.acmicpc.net/problem/16943"
   ]
  },
  {
   "cell_type": "code",
   "execution_count": null,
   "id": "aca42109",
   "metadata": {},
   "outputs": [],
   "source": [
    "def next_permutation(a):\n",
    "    i = len(a) - 1\n",
    "    while i > 0 and a[i-1] >= a[i]:\n",
    "        i -= 1\n",
    "    if i == 0:\n",
    "        return False\n",
    "    \n",
    "    j = len(a) - 1\n",
    "    while a[j] <= a[i-1]:\n",
    "        j -= 1\n",
    "    \n",
    "    a[i-1], a[j] = a[j], a[i-1]\n",
    "\n",
    "    j = len(a) - 1\n",
    "    while i < j:\n",
    "        a[i], a[j] = a[j], a[i]\n",
    "        i += 1\n",
    "        j -= 1\n",
    "    return True\n",
    "\n",
    "a, b = input().split()\n",
    "a = list(a)\n",
    "b = int(b)\n",
    "ans = -1\n",
    "a.sort()\n",
    "\n",
    "while True:\n",
    "    c = int(''.join(a))\n",
    "    if a[0] != '0' and c < b:\n",
    "        if ans == -1 or ans < c:\n",
    "            ans = c\n",
    "    if not next_permutation(a):\n",
    "        break\n",
    "\n",
    "print(ans)"
   ]
  },
  {
   "cell_type": "code",
   "execution_count": null,
   "id": "0847310d",
   "metadata": {},
   "outputs": [],
   "source": [
    "a, b = input().split()\n",
    "a = list(map(int, a))\n",
    "n = len(a)\n",
    "b = int(b)\n",
    "check = [False] * n\n",
    "\n",
    "def go(index, num):\n",
    "    if index == n:\n",
    "        return num\n",
    "    ans = -1\n",
    "    for i in range(n):\n",
    "        if check[i]:\n",
    "            continue\n",
    "        if index == 0 and a[i] == 0:\n",
    "            continue\n",
    "        check[i] = True\n",
    "        temp = go(index+1, num*10 + a[i])\n",
    "        if temp < b:\n",
    "            if ans == -1 or ans < temp:\n",
    "                ans = max(ans, temp)\n",
    "        check[i] = False\n",
    "    return ans\n",
    "\n",
    "print(go(0, 0))"
   ]
  }
 ],
 "metadata": {
  "kernelspec": {
   "display_name": "Python 3",
   "language": "python",
   "name": "python3"
  },
  "language_info": {
   "codemirror_mode": {
    "name": "ipython",
    "version": 3
   },
   "file_extension": ".py",
   "mimetype": "text/x-python",
   "name": "python",
   "nbconvert_exporter": "python",
   "pygments_lexer": "ipython3",
   "version": "3.8.8"
  }
 },
 "nbformat": 4,
 "nbformat_minor": 5
}
