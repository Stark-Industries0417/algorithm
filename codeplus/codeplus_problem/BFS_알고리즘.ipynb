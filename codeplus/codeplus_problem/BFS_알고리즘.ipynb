{
 "cells": [
  {
   "cell_type": "markdown",
   "id": "a9672565",
   "metadata": {},
   "source": [
    "## 0과 1\n",
    "https://www.acmicpc.net/problem/8111"
   ]
  },
  {
   "cell_type": "code",
   "execution_count": null,
   "id": "293005f0",
   "metadata": {},
   "outputs": [],
   "source": [
    "from collections import deque\n",
    "\n",
    "for _ in range(int(input())):\n",
    "    n = int(input())\n",
    "    via = [-1] * n\n",
    "    how = [-1] * n\n",
    "    dist = [-1] * n\n",
    "    q = deque()\n",
    "    q.append(1 % n)\n",
    "    dist[1%n] = 0\n",
    "    how[1%n] = 1\n",
    "\n",
    "    while q:\n",
    "        now = q.popleft()\n",
    "        for i in [0, 1]:\n",
    "            next = (now*10 + i) % n\n",
    "            if dist[next] == -1:\n",
    "                dist[next] = dist[now] + 1\n",
    "                via[next] = now\n",
    "                how[next] = i\n",
    "                q.append(next)\n",
    "    if dist[0] == -1:\n",
    "        print('BRAK')\n",
    "    else:\n",
    "        ans = ''\n",
    "        i = 0\n",
    "        while i != -1:\n",
    "            ans += str(how[i])\n",
    "            i = via[i]\n",
    "        print(ans[::-1])"
   ]
  }
 ],
 "metadata": {
  "kernelspec": {
   "display_name": "Python 3",
   "language": "python",
   "name": "python3"
  },
  "language_info": {
   "codemirror_mode": {
    "name": "ipython",
    "version": 3
   },
   "file_extension": ".py",
   "mimetype": "text/x-python",
   "name": "python",
   "nbconvert_exporter": "python",
   "pygments_lexer": "ipython3",
   "version": "3.8.8"
  }
 },
 "nbformat": 4,
 "nbformat_minor": 5
}
