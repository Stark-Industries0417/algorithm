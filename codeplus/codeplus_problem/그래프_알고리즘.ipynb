{
 "cells": [
  {
   "cell_type": "markdown",
   "id": "a1283a5e",
   "metadata": {},
   "source": [
    "## DAG\n",
    "- 사이클이 없고 방향이 있는 그래프를 의미한다.\n",
    "\n",
    "어떤 순행되어야 하는 일을 그래프로 나타낼 때 유용하다.   \n",
    "ex) 선수과목을 고려한 학습 순서 설정, 건물을 들어야되는 순서, 옷 입는 순서 등\n",
    "\n",
    "## 위상정렬\n",
    "- 그래프의 간선 u -> v가 u가 v보다 먼저라는 의미일 때 정점의 순서를 찾는 알고리즘\n",
    "- BFS 응용해서 구현할 수 있다."
   ]
  },
  {
   "cell_type": "markdown",
   "id": "a524b5f1",
   "metadata": {},
   "source": [
    "## 줄세우기\n",
    "https://www.acmicpc.net/problem/2252"
   ]
  },
  {
   "cell_type": "code",
   "execution_count": null,
   "id": "a504f321",
   "metadata": {},
   "outputs": [],
   "source": [
    "import sys \n",
    "from collections import deque\n",
    "\n",
    "input = sys.stdin.readline\n",
    "\n",
    "n, m = map(int, input().split())\n",
    "a = [[] for _ in range(n+1)]\n",
    "ind = [0] * (n+1)\n",
    "for _ in range(m):\n",
    "    x, y = map(int, input().split())\n",
    "    a[x].append(y)\n",
    "    ind[y] += 1\n",
    "\n",
    "q = deque()\n",
    "\n",
    "for i in range(1, n+1):\n",
    "    if ind[i] == 0:\n",
    "        q.append(i)\n",
    "\n",
    "while q:\n",
    "    x = q.popleft()\n",
    "    print(x, end=' ')\n",
    "    for y in a[x]:\n",
    "        ind[y] -= 1\n",
    "        if ind[y] == 0:\n",
    "            q.append(y)"
   ]
  },
  {
   "cell_type": "markdown",
   "id": "0487cbbc",
   "metadata": {},
   "source": [
    "## 작업\n",
    "https://www.acmicpc.net/problem/2056"
   ]
  },
  {
   "cell_type": "code",
   "execution_count": null,
   "id": "dde9c6f3",
   "metadata": {},
   "outputs": [],
   "source": [
    "import sys \n",
    "from collections import deque\n",
    "\n",
    "input = sys.stdin.readline\n",
    "\n",
    "n = int(input())\n",
    "graph = [[] for _ in range(n+1)]\n",
    "d = [0] * (n+1)\n",
    "work = [0] * (n+1)\n",
    "ind = [0] * (n+1)\n",
    "for i in range(1, n+1):\n",
    "    temp = list(map(int, input().split()))\n",
    "    work[i] = temp[0]\n",
    "    \n",
    "    for x in temp[2:]:\n",
    "        graph[x].append(i)\n",
    "        ind[i] += 1\n",
    "\n",
    "q = deque()\n",
    "for i in range(1, n+1):\n",
    "    if ind[i] == 0:\n",
    "        q.append(i)\n",
    "        d[i] = work[i]\n",
    "\n",
    "while q:\n",
    "    x = q.popleft()\n",
    "    for y in graph[x]:\n",
    "        ind[y] -= 1\n",
    "        if d[y] < d[x] + work[y]:\n",
    "            d[y] = d[x] + work[y]\n",
    "        if ind[y] == 0:\n",
    "            q.append(y)\n",
    "\n",
    "print(max(d))"
   ]
  },
  {
   "cell_type": "markdown",
   "id": "f9339066",
   "metadata": {},
   "source": [
    "## 카드놓기\n",
    "https://www.acmicpc.net/problem/14263"
   ]
  },
  {
   "cell_type": "code",
   "execution_count": 7,
   "id": "90d29de0",
   "metadata": {},
   "outputs": [
    {
     "data": {
      "text/plain": [
       "65"
      ]
     },
     "execution_count": 7,
     "metadata": {},
     "output_type": "execute_result"
    }
   ],
   "source": [
    "import sys\n",
    "from heapq import heappush, heappop\n",
    "\n",
    "input = sys.stdin.readline\n",
    "\n",
    "group_to_color = [0] * 100\n",
    "color_to_group = [-1] * 256\n",
    "\n",
    "def tsort():\n",
    "    ind = [0] * n\n",
    "    for i in range(n):\n",
    "        ok = True\n",
    "        for j in range(n):\n",
    "            if g[j][i]:\n",
    "                ind[i] += 1\n",
    "    ans = ''\n",
    "\n",
    "    q = []\n",
    "    for i in range(n):\n",
    "        if ind[i] == 0:\n",
    "            heappush(q, group_to_color[i])\n",
    "\n",
    "    while q:\n",
    "        ch = heappop(q)\n",
    "        ans += ch\n",
    "        x = color_to_group[ord(ch)]\n",
    "        for y in range(n):\n",
    "            if g[x][y]:\n",
    "                ind[y] -= 1\n",
    "                if ind[y] == 0:\n",
    "                    heappush(q, group_to_color[y])\n",
    "    \n",
    "    if len(ans) != n:\n",
    "        return -1\n",
    "    return ans\n",
    "\n",
    "w, h = map(int, input().split())\n",
    "a = [input().strip() for _ in range(w)]\n",
    "n = 0\n",
    "for i in range(w):\n",
    "    for j in range(h):\n",
    "        ch = a[i][j]\n",
    "        if ch != '.':\n",
    "            if color_to_group[ord(ch)] == -1:\n",
    "                color_to_group[ord(ch)] = n\n",
    "                group_to_color[n] = ch\n",
    "                n += 1\n",
    "g = [[False] * n for _ in range(n)]\n",
    "\n",
    "for k in range(n):\n",
    "    minx = w-1\n",
    "    maxx = 0\n",
    "    miny = h-1 \n",
    "    maxy = 0\n",
    "    for i in range(w):\n",
    "        for j in range(h):\n",
    "            if a[i][j] == group_to_color[k]:\n",
    "                minx = min(minx, i)\n",
    "                maxx = max(maxx, i)\n",
    "                miny = min(miny, j)\n",
    "                maxy = max(maxy, j)\n",
    "\n",
    "    for i in range(minx, maxx+1):\n",
    "        for j in range(miny, maxy+1):\n",
    "            if a[i][j] == '.':\n",
    "                print(-1)\n",
    "                exit(0)\n",
    "            if a[i][j] != group_to_color[k]:\n",
    "                g[k][color_to_group[ord(a[i][j])]] = True\n",
    "\n",
    "ans = tsort()\n",
    "print(ans)"
   ]
  }
 ],
 "metadata": {
  "kernelspec": {
   "display_name": "Python 3",
   "language": "python",
   "name": "python3"
  },
  "language_info": {
   "codemirror_mode": {
    "name": "ipython",
    "version": 3
   },
   "file_extension": ".py",
   "mimetype": "text/x-python",
   "name": "python",
   "nbconvert_exporter": "python",
   "pygments_lexer": "ipython3",
   "version": "3.8.8"
  }
 },
 "nbformat": 4,
 "nbformat_minor": 5
}
