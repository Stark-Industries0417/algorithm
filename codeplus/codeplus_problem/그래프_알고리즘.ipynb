{
 "cells": [
  {
   "cell_type": "markdown",
   "id": "a1283a5e",
   "metadata": {},
   "source": [
    "## DAG\n",
    "- 사이클이 없고 방향이 있는 그래프를 의미한다.\n",
    "\n",
    "어떤 순행되어야 하는 일을 그래프로 나타낼 때 유용하다.   \n",
    "ex) 선수과목을 고려한 학습 순서 설정, 건물을 들어야되는 순서, 옷 입는 순서 등\n",
    "\n",
    "## 위상정렬\n",
    "- 그래프의 간선 u -> v가 u가 v보다 먼저라는 의미일 때 정점의 순서를 찾는 알고리즘\n",
    "- BFS 응용해서 구현할 수 있다."
   ]
  },
  {
   "cell_type": "markdown",
   "id": "a524b5f1",
   "metadata": {},
   "source": [
    "## 줄세우기\n",
    "https://www.acmicpc.net/problem/2252"
   ]
  },
  {
   "cell_type": "code",
   "execution_count": null,
   "id": "a504f321",
   "metadata": {},
   "outputs": [],
   "source": [
    "import sys \n",
    "from collections import deque\n",
    "\n",
    "input = sys.stdin.readline\n",
    "\n",
    "n, m = map(int, input().split())\n",
    "a = [[] for _ in range(n+1)]\n",
    "ind = [0] * (n+1)\n",
    "for _ in range(m):\n",
    "    x, y = map(int, input().split())\n",
    "    a[x].append(y)\n",
    "    ind[y] += 1\n",
    "\n",
    "q = deque()\n",
    "\n",
    "for i in range(1, n+1):\n",
    "    if ind[i] == 0:\n",
    "        q.append(i)\n",
    "\n",
    "while q:\n",
    "    x = q.popleft()\n",
    "    print(x, end=' ')\n",
    "    for y in a[x]:\n",
    "        ind[y] -= 1\n",
    "        if ind[y] == 0:\n",
    "            q.append(y)"
   ]
  },
  {
   "cell_type": "markdown",
   "id": "0487cbbc",
   "metadata": {},
   "source": [
    "## 작업\n",
    "https://www.acmicpc.net/problem/2056"
   ]
  },
  {
   "cell_type": "code",
   "execution_count": null,
   "id": "dde9c6f3",
   "metadata": {},
   "outputs": [],
   "source": [
    "import sys \n",
    "from collections import deque\n",
    "\n",
    "input = sys.stdin.readline\n",
    "\n",
    "n = int(input())\n",
    "graph = [[] for _ in range(n+1)]\n",
    "d = [0] * (n+1)\n",
    "work = [0] * (n+1)\n",
    "ind = [0] * (n+1)\n",
    "for i in range(1, n+1):\n",
    "    temp = list(map(int, input().split()))\n",
    "    work[i] = temp[0]\n",
    "    \n",
    "    for x in temp[2:]:\n",
    "        graph[x].append(i)\n",
    "        ind[i] += 1\n",
    "\n",
    "q = deque()\n",
    "for i in range(1, n+1):\n",
    "    if ind[i] == 0:\n",
    "        q.append(i)\n",
    "        d[i] = work[i]\n",
    "\n",
    "while q:\n",
    "    x = q.popleft()\n",
    "    for y in graph[x]:\n",
    "        ind[y] -= 1\n",
    "        if d[y] < d[x] + work[y]:\n",
    "            d[y] = d[x] + work[y]\n",
    "        if ind[y] == 0:\n",
    "            q.append(y)\n",
    "\n",
    "print(max(d))"
   ]
  }
 ],
 "metadata": {
  "kernelspec": {
   "display_name": "Python 3",
   "language": "python",
   "name": "python3"
  },
  "language_info": {
   "codemirror_mode": {
    "name": "ipython",
    "version": 3
   },
   "file_extension": ".py",
   "mimetype": "text/x-python",
   "name": "python",
   "nbconvert_exporter": "python",
   "pygments_lexer": "ipython3",
   "version": "3.8.8"
  }
 },
 "nbformat": 4,
 "nbformat_minor": 5
}
