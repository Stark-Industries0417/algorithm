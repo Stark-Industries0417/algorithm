{
 "cells": [
  {
   "cell_type": "code",
   "execution_count": 4,
   "id": "e81159ab",
   "metadata": {},
   "outputs": [
    {
     "data": {
      "text/plain": [
       "5"
      ]
     },
     "execution_count": 4,
     "metadata": {},
     "output_type": "execute_result"
    }
   ],
   "source": [
    "a = [0] * 5\n",
    "len(a)"
   ]
  },
  {
   "cell_type": "code",
   "execution_count": 16,
   "id": "15da3ff5",
   "metadata": {
    "scrolled": true
   },
   "outputs": [
    {
     "name": "stdout",
     "output_type": "stream",
     "text": [
      "4 2\n",
      "[1, 2]\n",
      "[1, 3]\n",
      "[1, 4]\n",
      "[2, 1]\n",
      "[2, 3]\n",
      "[2, 4]\n",
      "[3, 1]\n",
      "[3, 2]\n",
      "[3, 4]\n",
      "[4, 1]\n",
      "[4, 2]\n",
      "[4, 3]\n"
     ]
    }
   ],
   "source": [
    "#  n 과 m 1 nPm o(n!)\n",
    "\n",
    "n, m = map(int, input().split())\n",
    "c = [False] * (n + 1)\n",
    "a = [0] * (m)\n",
    "\n",
    "def permutation(index: int, n: int, m: int) -> list:\n",
    "    if index == m:\n",
    "        print(a)\n",
    "        return\n",
    "    \n",
    "    for i in range(1, n + 1):\n",
    "        if c[i]:\n",
    "            continue\n",
    "        \n",
    "        c[i] = True\n",
    "        a[index] = i\n",
    "        permutation(index + 1, n, m)\n",
    "        c[i] = False\n",
    "\n",
    "permutation(0, n, m)"
   ]
  },
  {
   "cell_type": "code",
   "execution_count": 17,
   "id": "10111b51",
   "metadata": {
    "scrolled": true
   },
   "outputs": [
    {
     "name": "stdout",
     "output_type": "stream",
     "text": [
      "4 2\n",
      "[1, 2]\n",
      "[1, 3]\n",
      "[1, 4]\n",
      "[2, 3]\n",
      "[2, 4]\n",
      "[3, 4]\n"
     ]
    }
   ],
   "source": [
    "# n과 m 2 nCm \n",
    "\n",
    "n, m = map(int, input().split())\n",
    "c = [False] * (n + 1)\n",
    "a = [0] * (m)\n",
    "\n",
    "def permutation(index: int, start: int, n: int, m: int) -> list:\n",
    "    if index == m:\n",
    "        print(a)\n",
    "        return\n",
    "    \n",
    "    for i in range(start , n + 1):\n",
    "        if c[i]:\n",
    "            continue\n",
    "        \n",
    "        c[i] = True\n",
    "        a[index] = i\n",
    "        permutation(index + 1, i + 1, n, m)\n",
    "        c[i] = False\n",
    "\n",
    "permutation(0, 1, n, m)"
   ]
  },
  {
   "cell_type": "code",
   "execution_count": 19,
   "id": "78406c00",
   "metadata": {},
   "outputs": [
    {
     "name": "stdout",
     "output_type": "stream",
     "text": [
      "4 2\n",
      "[1, 2]\n",
      "[1, 3]\n",
      "[1, 4]\n",
      "[2, 3]\n",
      "[2, 4]\n",
      "[3, 4]\n"
     ]
    }
   ],
   "source": [
    "#  n 과 m 2 nCm o(2^n)\n",
    "\n",
    "n, m = map(int, input().split())\n",
    "a = [0] * m\n",
    "\n",
    "def go(num: int, selected: int, n: int, m: int) -> list:\n",
    "    if selected == m:\n",
    "        print(a)\n",
    "        return\n",
    "    if num > n:\n",
    "        return\n",
    "    a[selected] = num\n",
    "    go(num + 1, selected + 1, n, m)\n",
    "    a[selected] = 0\n",
    "    go(num + 1, selected, n, m)\n",
    "    \n",
    "go(1, 0, n, m)"
   ]
  },
  {
   "cell_type": "code",
   "execution_count": 21,
   "id": "9d382876",
   "metadata": {},
   "outputs": [
    {
     "name": "stdout",
     "output_type": "stream",
     "text": [
      "4 2\n",
      "[1, 1]\n",
      "[1, 2]\n",
      "[1, 3]\n",
      "[1, 4]\n",
      "[2, 1]\n",
      "[2, 2]\n",
      "[2, 3]\n",
      "[2, 4]\n",
      "[3, 1]\n",
      "[3, 2]\n",
      "[3, 3]\n",
      "[3, 4]\n",
      "[4, 1]\n",
      "[4, 2]\n",
      "[4, 3]\n",
      "[4, 4]\n"
     ]
    }
   ],
   "source": [
    "#  n 과 m 3 nHm o(n^m)\n",
    "\n",
    "n, m = map(int, input().split())\n",
    "c = [False] * (n + 1)\n",
    "a = [0] * (m)\n",
    "\n",
    "def permutation_repetition(index: int, n: int, m: int) -> list:\n",
    "    if index == m:\n",
    "        print(a)\n",
    "        return\n",
    "    \n",
    "    for i in range(1, n + 1):  \n",
    "#         if c[i]:\n",
    "#             continue\n",
    "        c[i] = True\n",
    "        a[index] = i\n",
    "        permutation_repetition(index + 1, n, m)\n",
    "        c[i] = False\n",
    "\n",
    "permutation_repetition(0, n, m)"
   ]
  },
  {
   "cell_type": "code",
   "execution_count": 3,
   "id": "aa1dd980",
   "metadata": {},
   "outputs": [
    {
     "name": "stdout",
     "output_type": "stream",
     "text": [
      "4 2\n",
      "[1, 1]\n",
      "[1, 2]\n",
      "[1, 3]\n",
      "[1, 4]\n",
      "[2, 2]\n",
      "[2, 3]\n",
      "[2, 4]\n",
      "[3, 3]\n",
      "[3, 4]\n",
      "[4, 4]\n"
     ]
    }
   ],
   "source": [
    "#  n 과 m 4 중복 순열 비 내림차순\n",
    "\n",
    "n, m = map(int, input().split())\n",
    "c = [False] * (n + 1)\n",
    "a = [0] * (m)\n",
    "\n",
    "def permutation_repetition(index: int, start: int, n: int, m: int) -> list:\n",
    "    if index == m:\n",
    "        print(a)\n",
    "        return\n",
    "    \n",
    "    for i in range(start , n + 1):\n",
    "#         if c[i]:\n",
    "#             continue\n",
    "        \n",
    "        c[i] = True\n",
    "        a[index] = i\n",
    "        permutation_repetition(index + 1, i, n, m)\n",
    "        c[i] = False\n",
    "\n",
    "permutation_repetition(0, 1, n, m)"
   ]
  },
  {
   "cell_type": "code",
   "execution_count": 5,
   "id": "b0e9943d",
   "metadata": {},
   "outputs": [
    {
     "name": "stdout",
     "output_type": "stream",
     "text": [
      "4 2\n",
      "[0, 2]\n"
     ]
    },
    {
     "ename": "IndexError",
     "evalue": "list assignment index out of range",
     "output_type": "error",
     "traceback": [
      "\u001b[0;31m---------------------------------------------------------------------------\u001b[0m",
      "\u001b[0;31mIndexError\u001b[0m                                Traceback (most recent call last)",
      "\u001b[0;32m<ipython-input-5-7b3e0d079ac1>\u001b[0m in \u001b[0;36m<module>\u001b[0;34m\u001b[0m\n\u001b[1;32m     15\u001b[0m     \u001b[0mpermutation_repetition\u001b[0m\u001b[0;34m(\u001b[0m\u001b[0mnum\u001b[0m \u001b[0;34m+\u001b[0m \u001b[0;36m1\u001b[0m\u001b[0;34m,\u001b[0m \u001b[0mselected\u001b[0m\u001b[0;34m,\u001b[0m \u001b[0mn\u001b[0m\u001b[0;34m,\u001b[0m \u001b[0mm\u001b[0m\u001b[0;34m)\u001b[0m\u001b[0;34m\u001b[0m\u001b[0;34m\u001b[0m\u001b[0m\n\u001b[1;32m     16\u001b[0m \u001b[0;34m\u001b[0m\u001b[0m\n\u001b[0;32m---> 17\u001b[0;31m \u001b[0mpermutation_repetition\u001b[0m\u001b[0;34m(\u001b[0m\u001b[0;36m1\u001b[0m\u001b[0;34m,\u001b[0m \u001b[0;36m0\u001b[0m\u001b[0;34m,\u001b[0m \u001b[0mn\u001b[0m\u001b[0;34m,\u001b[0m \u001b[0mm\u001b[0m\u001b[0;34m)\u001b[0m\u001b[0;34m\u001b[0m\u001b[0;34m\u001b[0m\u001b[0m\n\u001b[0m",
      "\u001b[0;32m<ipython-input-5-7b3e0d079ac1>\u001b[0m in \u001b[0;36mpermutation_repetition\u001b[0;34m(num, selected, n, m)\u001b[0m\n\u001b[1;32m     11\u001b[0m     \u001b[0;32mfor\u001b[0m \u001b[0mi\u001b[0m \u001b[0;32min\u001b[0m \u001b[0mrange\u001b[0m\u001b[0;34m(\u001b[0m\u001b[0mm\u001b[0m\u001b[0;34m-\u001b[0m\u001b[0mselected\u001b[0m\u001b[0;34m,\u001b[0m \u001b[0;36m0\u001b[0m\u001b[0;34m,\u001b[0m \u001b[0;34m-\u001b[0m\u001b[0;36m1\u001b[0m\u001b[0;34m)\u001b[0m\u001b[0;34m:\u001b[0m\u001b[0;34m\u001b[0m\u001b[0;34m\u001b[0m\u001b[0m\n\u001b[1;32m     12\u001b[0m         \u001b[0ma\u001b[0m\u001b[0;34m[\u001b[0m\u001b[0mnum\u001b[0m\u001b[0;34m]\u001b[0m \u001b[0;34m=\u001b[0m \u001b[0mi\u001b[0m\u001b[0;34m\u001b[0m\u001b[0;34m\u001b[0m\u001b[0m\n\u001b[0;32m---> 13\u001b[0;31m         \u001b[0mpermutation_repetition\u001b[0m\u001b[0;34m(\u001b[0m\u001b[0mnum\u001b[0m \u001b[0;34m+\u001b[0m \u001b[0;36m1\u001b[0m\u001b[0;34m,\u001b[0m \u001b[0mselected\u001b[0m \u001b[0;34m+\u001b[0m \u001b[0mi\u001b[0m\u001b[0;34m,\u001b[0m \u001b[0mn\u001b[0m\u001b[0;34m,\u001b[0m \u001b[0mm\u001b[0m\u001b[0;34m)\u001b[0m\u001b[0;34m\u001b[0m\u001b[0;34m\u001b[0m\u001b[0m\n\u001b[0m\u001b[1;32m     14\u001b[0m     \u001b[0ma\u001b[0m\u001b[0;34m[\u001b[0m\u001b[0mnum\u001b[0m\u001b[0;34m]\u001b[0m \u001b[0;34m=\u001b[0m \u001b[0;36m0\u001b[0m\u001b[0;34m\u001b[0m\u001b[0;34m\u001b[0m\u001b[0m\n\u001b[1;32m     15\u001b[0m     \u001b[0mpermutation_repetition\u001b[0m\u001b[0;34m(\u001b[0m\u001b[0mnum\u001b[0m \u001b[0;34m+\u001b[0m \u001b[0;36m1\u001b[0m\u001b[0;34m,\u001b[0m \u001b[0mselected\u001b[0m\u001b[0;34m,\u001b[0m \u001b[0mn\u001b[0m\u001b[0;34m,\u001b[0m \u001b[0mm\u001b[0m\u001b[0;34m)\u001b[0m\u001b[0;34m\u001b[0m\u001b[0;34m\u001b[0m\u001b[0m\n",
      "\u001b[0;32m<ipython-input-5-7b3e0d079ac1>\u001b[0m in \u001b[0;36mpermutation_repetition\u001b[0;34m(num, selected, n, m)\u001b[0m\n\u001b[1;32m     10\u001b[0m         \u001b[0;32mreturn\u001b[0m\u001b[0;34m\u001b[0m\u001b[0;34m\u001b[0m\u001b[0m\n\u001b[1;32m     11\u001b[0m     \u001b[0;32mfor\u001b[0m \u001b[0mi\u001b[0m \u001b[0;32min\u001b[0m \u001b[0mrange\u001b[0m\u001b[0;34m(\u001b[0m\u001b[0mm\u001b[0m\u001b[0;34m-\u001b[0m\u001b[0mselected\u001b[0m\u001b[0;34m,\u001b[0m \u001b[0;36m0\u001b[0m\u001b[0;34m,\u001b[0m \u001b[0;34m-\u001b[0m\u001b[0;36m1\u001b[0m\u001b[0;34m)\u001b[0m\u001b[0;34m:\u001b[0m\u001b[0;34m\u001b[0m\u001b[0;34m\u001b[0m\u001b[0m\n\u001b[0;32m---> 12\u001b[0;31m         \u001b[0ma\u001b[0m\u001b[0;34m[\u001b[0m\u001b[0mnum\u001b[0m\u001b[0;34m]\u001b[0m \u001b[0;34m=\u001b[0m \u001b[0mi\u001b[0m\u001b[0;34m\u001b[0m\u001b[0;34m\u001b[0m\u001b[0m\n\u001b[0m\u001b[1;32m     13\u001b[0m         \u001b[0mpermutation_repetition\u001b[0m\u001b[0;34m(\u001b[0m\u001b[0mnum\u001b[0m \u001b[0;34m+\u001b[0m \u001b[0;36m1\u001b[0m\u001b[0;34m,\u001b[0m \u001b[0mselected\u001b[0m \u001b[0;34m+\u001b[0m \u001b[0mi\u001b[0m\u001b[0;34m,\u001b[0m \u001b[0mn\u001b[0m\u001b[0;34m,\u001b[0m \u001b[0mm\u001b[0m\u001b[0;34m)\u001b[0m\u001b[0;34m\u001b[0m\u001b[0;34m\u001b[0m\u001b[0m\n\u001b[1;32m     14\u001b[0m     \u001b[0ma\u001b[0m\u001b[0;34m[\u001b[0m\u001b[0mnum\u001b[0m\u001b[0;34m]\u001b[0m \u001b[0;34m=\u001b[0m \u001b[0;36m0\u001b[0m\u001b[0;34m\u001b[0m\u001b[0;34m\u001b[0m\u001b[0m\n",
      "\u001b[0;31mIndexError\u001b[0m: list assignment index out of range"
     ]
    }
   ],
   "source": [
    "# n 과 m 4\n",
    "n, m = map(int, input().split())\n",
    "a = [0] * m\n",
    "\n",
    "def permutation_repetition(num: int, selected: int, n: int, m: int) -> list:\n",
    "    if selected == m:\n",
    "        print(a)\n",
    "        return\n",
    "    if num > n:\n",
    "        return\n",
    "    for i in range(m-selected, 0, -1):\n",
    "        a[num] = i\n",
    "        permutation_repetition(num + 1, selected + i, n, m)\n",
    "    a[num] = 0\n",
    "    permutation_repetition(num + 1, selected, n, m)\n",
    "    \n",
    "permutation_repetition(1, 0, n, m)"
   ]
  },
  {
   "cell_type": "markdown",
   "id": "689e9305",
   "metadata": {},
   "source": [
    "### nm 과 k"
   ]
  },
  {
   "cell_type": "code",
   "execution_count": 7,
   "id": "dbb15738",
   "metadata": {},
   "outputs": [
    {
     "name": "stdout",
     "output_type": "stream",
     "text": [
      "2 2 2\n",
      "1 2\n",
      "3 4\n",
      "5\n"
     ]
    }
   ],
   "source": [
    "# nmCk  O((nm)^k) 같은 좌표를 순서만 달리해서 선택하는 중복 상황 발생\n",
    "\n",
    "n, m, k = map(int, input().split())\n",
    "a = [list(map(int, input().split())) for _ in range(n)]\n",
    "c = [[False] * m for _ in range(n)]\n",
    "ans = -sys.maxsize\n",
    "dx = [0, 0, 1, -1]\n",
    "dy = [1, -1, 0, 0]\n",
    "\n",
    "def go(cnt: int, s: int) -> int:\n",
    "    if cnt == k:\n",
    "        global ans\n",
    "        if ans < s:\n",
    "            ans = s\n",
    "        return\n",
    "    for x in range(n):\n",
    "        for y in range(m):\n",
    "            if c[x][y]:\n",
    "                continue\n",
    "            ok = True\n",
    "            for i in range(4):\n",
    "                nx = x + dx[i]\n",
    "                ny = y + dy[i]\n",
    "                if 0 <= nx < n and 0 <= ny < m:\n",
    "                    if c[nx][ny]:\n",
    "                        ok = False\n",
    "            if ok:\n",
    "                c[x][y] = True\n",
    "                go(cnt + 1, s + a[x][y])\n",
    "                c[x][y] = False\n",
    "go(0, 0)\n",
    "print(ans)    "
   ]
  },
  {
   "cell_type": "code",
   "execution_count": null,
   "id": "f42112aa",
   "metadata": {},
   "outputs": [],
   "source": [
    "# 행을 정해주는것으로 중복 해결 이것도 같은 행에서 출발을 지정하기 때문에 같은 행에서 중복 선택하는 경우 발생\n",
    "# ex) (1, 2), (1, 5), (3, 4) 와 (1, 5), (1, 2), (3, 4) \n",
    "\n",
    "n, m, k = map(int, input().split())\n",
    "a = [list(map(int, input().split())) for _ in range(n)]\n",
    "c = [[False] * m for _ in range(n)]\n",
    "ans = -sys.maxsize\n",
    "dx = [0, 0, 1, -1]\n",
    "dy = [1, -1, 0, 0]\n",
    "\n",
    "def go(start: int, cnt: int, s: int) -> int:\n",
    "    if cnt == k:\n",
    "        global ans\n",
    "        if ans < s:\n",
    "            ans = s\n",
    "        return\n",
    "    for x in range(start, n):\n",
    "        for y in range(m):\n",
    "            if c[x][y]:\n",
    "                continue\n",
    "            ok = True\n",
    "            for i in range(4):\n",
    "                nx = x + dx[i]\n",
    "                ny = y + dy[i]\n",
    "                if 0 <= nx < n and 0 <= ny < m:\n",
    "                    if c[nx][ny]:\n",
    "                        ok = False\n",
    "            if ok:\n",
    "                c[x][y] = True\n",
    "                go(x, cnt + 1, s + a[x][y])\n",
    "                c[x][y] = False\n",
    "go(0, 0, 0)\n",
    "print(ans)    "
   ]
  },
  {
   "cell_type": "code",
   "execution_count": null,
   "id": "0bcbfdc0",
   "metadata": {},
   "outputs": [],
   "source": [
    "# 모든 중복 해결\n",
    "\n",
    "n, m, k = map(int, input().split())\n",
    "a = [list(map(int, input().split())) for _ in range(n)]\n",
    "c = [[False] * m for _ in range(n)]\n",
    "ans = -sys.maxsize\n",
    "dx = [0, 0, 1, -1]\n",
    "dy = [1, -1, 0, 0]\n",
    "\n",
    "def go(px: int, py: int, cnt: int, s: int) -> int:\n",
    "    if cnt == k:\n",
    "        global ans\n",
    "        if ans < s:\n",
    "            ans = s\n",
    "        return\n",
    "    for x in range(px, n):\n",
    "        for y in range(py if x == px else 0, m):\n",
    "            if c[x][y]:\n",
    "                continue\n",
    "            ok = True\n",
    "            for i in range(4):\n",
    "                nx = x + dx[i]\n",
    "                ny = y + dy[i]\n",
    "                if 0 <= nx < n and 0 <= ny < m:\n",
    "                    if c[nx][ny]:\n",
    "                        ok = False\n",
    "            if ok:\n",
    "                c[x][y] = True\n",
    "                go(x, y, cnt + 1, s + a[x][y])\n",
    "                c[x][y] = False\n",
    "go(0, 0, 0, 0)\n",
    "print(ans)    "
   ]
  },
  {
   "cell_type": "code",
   "execution_count": null,
   "id": "6076c0fc",
   "metadata": {},
   "outputs": [],
   "source": [
    "# 2차원을 1차원으로 바꿔서 n과m 2번 식으로 풀수도 있음 (i, j) == i * m + j\n",
    "\n",
    "n, m, k = map(int, input().split())\n",
    "a = [list(map(int, input().split())) for _ in range(n)]\n",
    "c = [[False] * m for _ in range(n)]\n",
    "ans = -sys.maxsize\n",
    "dx = [0, 0, 1, -1]\n",
    "dy = [1, -1, 0, 0]\n",
    "\n",
    "def go(prev: int, cnt: int, s: int) -> int:\n",
    "    if cnt == k:\n",
    "        global ans\n",
    "        if ans < s:\n",
    "            ans = s\n",
    "        return\n",
    "    \n",
    "    for j in range(prev+1, n*m):\n",
    "        x = j//m\n",
    "        y = j % m\n",
    "        if c[x][y]:\n",
    "            continue\n",
    "        ok = True\n",
    "        for i in range(4):\n",
    "            nx = x + dx[i]\n",
    "            ny = y + dy[i]\n",
    "            if 0 <= nx < n and 0 <= ny < m:\n",
    "                if c[nx][ny]:\n",
    "                    ok = False\n",
    "        if ok:\n",
    "            c[x][y] = True\n",
    "            go(x*m + y, cnt + 1, s + a[x][y])\n",
    "            c[x][y] = False\n",
    "go(-1, 0, 0)\n",
    "print(ans)"
   ]
  },
  {
   "cell_type": "code",
   "execution_count": null,
   "id": "2008480c",
   "metadata": {},
   "outputs": [],
   "source": []
  },
  {
   "cell_type": "code",
   "execution_count": null,
   "id": "92e3bf11",
   "metadata": {},
   "outputs": [],
   "source": []
  },
  {
   "cell_type": "code",
   "execution_count": null,
   "id": "d4a15b95",
   "metadata": {},
   "outputs": [],
   "source": []
  },
  {
   "cell_type": "code",
   "execution_count": null,
   "id": "1416609a",
   "metadata": {},
   "outputs": [],
   "source": []
  },
  {
   "cell_type": "code",
   "execution_count": null,
   "id": "dbea8621",
   "metadata": {},
   "outputs": [],
   "source": []
  },
  {
   "cell_type": "code",
   "execution_count": null,
   "id": "782379c6",
   "metadata": {},
   "outputs": [],
   "source": []
  },
  {
   "cell_type": "code",
   "execution_count": null,
   "id": "e7362507",
   "metadata": {},
   "outputs": [],
   "source": []
  },
  {
   "cell_type": "code",
   "execution_count": null,
   "id": "c7826227",
   "metadata": {},
   "outputs": [],
   "source": []
  },
  {
   "cell_type": "code",
   "execution_count": null,
   "id": "ace60e22",
   "metadata": {},
   "outputs": [],
   "source": []
  },
  {
   "cell_type": "code",
   "execution_count": null,
   "id": "3028f257",
   "metadata": {},
   "outputs": [],
   "source": []
  },
  {
   "cell_type": "code",
   "execution_count": null,
   "id": "8e861c8b",
   "metadata": {},
   "outputs": [],
   "source": []
  },
  {
   "cell_type": "code",
   "execution_count": null,
   "id": "625c774f",
   "metadata": {},
   "outputs": [],
   "source": []
  }
 ],
 "metadata": {
  "kernelspec": {
   "display_name": "Python 3",
   "language": "python",
   "name": "python3"
  },
  "language_info": {
   "codemirror_mode": {
    "name": "ipython",
    "version": 3
   },
   "file_extension": ".py",
   "mimetype": "text/x-python",
   "name": "python",
   "nbconvert_exporter": "python",
   "pygments_lexer": "ipython3",
   "version": "3.8.8"
  }
 },
 "nbformat": 4,
 "nbformat_minor": 5
}
