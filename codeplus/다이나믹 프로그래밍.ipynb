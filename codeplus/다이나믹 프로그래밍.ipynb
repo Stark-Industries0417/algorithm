{
 "cells": [
  {
   "cell_type": "markdown",
   "id": "7e966878",
   "metadata": {},
   "source": [
    "# 피보나치 수\n",
    "1. 모든 문제 풀어야함\n",
    "2. 모든 문제는 1번만 풀어야함   \n",
    "\n",
    "시간복잡도: 문제의 개수: N * 문제1개 푸는 시간: O(1) >> O(N)\n",
    "   \n",
    "**문제 풀이 전략**\n",
    "1. 점화식의 정의\n",
    "2. 문제를 작게 만들 수 있는 방법 찾기 "
   ]
  },
  {
   "cell_type": "code",
   "execution_count": 1,
   "id": "b2a195bb",
   "metadata": {},
   "outputs": [
    {
     "name": "stdout",
     "output_type": "stream",
     "text": [
      "10\n",
      "55\n"
     ]
    }
   ],
   "source": [
    "n = int(input())\n",
    "memo = [0] * (n+1)\n",
    "\n",
    "def fibonacci(n: int) -> int:\n",
    "    if n <= 1:\n",
    "        return n\n",
    "    else:\n",
    "        if memo[n] > 0:\n",
    "            return memo[n]\n",
    "        memo[n] = fibonacci(n-1) + fibonacci(n-2)\n",
    "        return memo[n]\n",
    "print(fibonacci(n))"
   ]
  },
  {
   "cell_type": "code",
   "execution_count": null,
   "id": "3f4a2c6f",
   "metadata": {},
   "outputs": [],
   "source": [
    "n = int(input())\n",
    "d = [0] * (n+1)\n",
    "\n",
    "def fibonacci(n: int):\n",
    "    d[0] = 0\n",
    "    d[1] = 1\n",
    "    for i in range(2, n+1):\n",
    "        d[i] = d[i-1] + d[i-2]\n",
    "        \n",
    "    return d[n]\n",
    "\n",
    "print(fibonacci(n))"
   ]
  },
  {
   "cell_type": "markdown",
   "id": "31c26012",
   "metadata": {},
   "source": [
    "## 1로 만들기 N >= 2\n",
    "https://www.acmicpc.net/problem/1463   \n",
    "D[N] = N을 1로 만드는 최소 연산 횟수   \n",
    "D[N] = N -> N//3 -> ... -> 1  \n",
    "1번 연산: D[N] = 1 + D[N//3] N % 3 == 0 인 경우에만   \n",
    "2번 연산: D[N] = 1 + D[N//2] N % 2 == 0 인 경우에만   \n",
    "3번 연산: D[N] = 1 + D[N-1]\n",
    "\n",
    "D[N] = min(D[N//3], D[N//2], D[N-1]) + 1   \n",
    "\n",
    "최소 연산 횟수이므로 3, 2, 1 우선 순위로 최대한 많이 나눈다는 그리디 알고리즘 방법은 아님   \n",
    "10 같은 경우 10 // 2 = 5 - 1 = 4 // 2 -> 2 - 1 = 1 4번 연산   \n",
    "하지만 1을 먼저 빼서 9를 만들고 진행하면 3번 연산으로 가능   \n",
    "\n",
    "### 파이썬은 재귀 사용하면 시간이 오래걸리고 메모리도 많이 차지해서 다이나믹 문제 풀이 시 바텀 업을 사용하는 것이 좋음"
   ]
  },
  {
   "cell_type": "code",
   "execution_count": 3,
   "id": "fe61b31c",
   "metadata": {},
   "outputs": [
    {
     "name": "stdout",
     "output_type": "stream",
     "text": [
      "10\n",
      "3\n"
     ]
    }
   ],
   "source": [
    "# top down 메모리 초과 일어남\n",
    "\n",
    "n = int(input())\n",
    "d = [0] * (n+1)\n",
    "\n",
    "import sys\n",
    "sys.setrecursionlimit(10 ** 6)\n",
    "def go(n):\n",
    "    if n == 1:\n",
    "        return 0\n",
    "    if d[n] > 0:\n",
    "        return d[n]\n",
    "    d[n] = go(n-1) + 1\n",
    "    if n % 2 == 0:\n",
    "        temp = go(n//2) + 1\n",
    "        if d[n] > temp:\n",
    "            d[n] = temp\n",
    "    if n % 3 == 0:\n",
    "        temp = go(n//3) + 1\n",
    "        if d[n] > temp:\n",
    "            d[n] = temp\n",
    "    return d[n]\n",
    "\n",
    "print(go(n))"
   ]
  },
  {
   "cell_type": "code",
   "execution_count": 5,
   "id": "5e8c181c",
   "metadata": {},
   "outputs": [
    {
     "name": "stdout",
     "output_type": "stream",
     "text": [
      "10\n",
      "3\n"
     ]
    }
   ],
   "source": [
    "# bottom up\n",
    "\n",
    "n = int(input())\n",
    "d = [0] * (n+1)\n",
    "d[1] = 0\n",
    "for i in range(2, n+1):\n",
    "    d[i] = d[i-1] + 1\n",
    "    if i % 2 == 0 and d[i] > d[i//2] + 1:\n",
    "        d[i] = d[i//2] + 1\n",
    "    if i % 3 == 0 and d[i] > d[i//3] + 1:\n",
    "        d[i] = d[i//3] + 1\n",
    "print(d[n])"
   ]
  },
  {
   "cell_type": "markdown",
   "id": "5d7c376c",
   "metadata": {},
   "source": [
    "# 1차원 다이나믹"
   ]
  },
  {
   "cell_type": "markdown",
   "id": "f519959e",
   "metadata": {},
   "source": [
    "## 2 X n 타일링\n",
    "https://www.acmicpc.net/problem/11726   \n",
    "D[n] = D[n-1] + D[n-2]  "
   ]
  },
  {
   "cell_type": "code",
   "execution_count": 8,
   "id": "af70955e",
   "metadata": {},
   "outputs": [
    {
     "name": "stdout",
     "output_type": "stream",
     "text": [
      "5\n",
      "8\n"
     ]
    }
   ],
   "source": [
    "n = int(input())\n",
    "d = [1] * (n+1)\n",
    "for i in range(2, n+1):\n",
    "    d[i] = d[i-1] + d[i-2]\n",
    "print(d[n] % 10007)"
   ]
  },
  {
   "cell_type": "markdown",
   "id": "a34897d6",
   "metadata": {},
   "source": [
    "## 1, 2, 3 더하기 O(N)\n",
    "https://www.acmicpc.net/problem/11726    \n",
    "n-1을 만들고 + 1   \n",
    "n-2을 만들고 + 2   \n",
    "n-3을 만들고 + 3   \n",
    "D[n] = D[n-1] + D[n-2] + D[n-3].  \n",
    "D[0] = 1 수를 사용 안하는 경우 1가지 이므로"
   ]
  },
  {
   "cell_type": "code",
   "execution_count": 11,
   "id": "faf1260a",
   "metadata": {},
   "outputs": [
    {
     "name": "stdout",
     "output_type": "stream",
     "text": [
      "3\n",
      "4\n",
      "7\n",
      "10\n",
      "274\n",
      "5\n",
      "13\n"
     ]
    }
   ],
   "source": [
    "t = int(input())\n",
    "d = [1] * 12\n",
    "d[2], d[3] = 2, 4\n",
    "\n",
    "while t > 0:\n",
    "    n = int(input())\n",
    "    for i in range(3, n+1):\n",
    "        d[i] = d[i-1] + d[i-2] + d[i-3]\n",
    "    print(d[n])\n",
    "    t -= 1\n"
   ]
  },
  {
   "cell_type": "markdown",
   "id": "f4349433",
   "metadata": {},
   "source": [
    "## 카드 구매하기 O(N^2)\n",
    "https://www.acmicpc.net/problem/11052   \n",
    "D[n] = 카드 n개 구매하는 최대 비용   \n",
    "... + 1번째 카드팩 = N개   \n",
    "... + 2번째 카드팩 = N개\n",
    "... + 3번째 카드팩 = N개   \n",
    "...   \n",
    "... + N번째 카드팩 = N개   \n",
    "D[n] = max(D[n-1] + p[1], D[n-2] + p[2], ... D[0] + p[n])      \n",
    "i-j개의 카드 구매함 + j번째 카드팩 = i개의 카드   \n",
    "D[i] = max(D[i-j] + p[j])   \n",
    "1 <= j <= i"
   ]
  },
  {
   "cell_type": "code",
   "execution_count": 14,
   "id": "a035cc2d",
   "metadata": {},
   "outputs": [
    {
     "name": "stdout",
     "output_type": "stream",
     "text": [
      "4\n",
      "1 5 6 7\n",
      "4\n"
     ]
    }
   ],
   "source": [
    "n = int(input())\n",
    "d = [0] * (n+1)\n",
    "p = [0] + list(map(int, input().split()))\n",
    "d[1] = p[1]\n",
    "for i in range(2, n+1):\n",
    "    for j in range(1, i+1):\n",
    "        d[i] = max(d[i], d[i-j] + p[j])\n",
    "print(d[n])"
   ]
  },
  {
   "cell_type": "markdown",
   "id": "b2385643",
   "metadata": {},
   "source": [
    "## 카드 구매하기2\n",
    "https://www.acmicpc.net/problem/16194"
   ]
  },
  {
   "cell_type": "code",
   "execution_count": 17,
   "id": "0bed121b",
   "metadata": {},
   "outputs": [
    {
     "name": "stdout",
     "output_type": "stream",
     "text": [
      "10\n",
      "1 1 2 3 5 8 13 21 24 34 55\n",
      "5\n"
     ]
    }
   ],
   "source": [
    "import sys\n",
    "n = int(input())\n",
    "d = [sys.maxsize] * (n+1)\n",
    "p = [0] + list(map(int, input().split()))\n",
    "d[0] = 0\n",
    "d[1] = p[1]\n",
    "for i in range(2, n+1):\n",
    "    for j in range(1, i+1):\n",
    "        d[i] = min(d[i], d[i-j] + p[j])\n",
    "print(d[n])"
   ]
  },
  {
   "cell_type": "markdown",
   "id": "36d744e9",
   "metadata": {},
   "source": [
    "# 연속과 관련된 다이나믹"
   ]
  },
  {
   "cell_type": "markdown",
   "id": "57fa63b6",
   "metadata": {},
   "source": [
    "# 1, 2, 3 더하기 5\n",
    "https://www.acmicpc.net/problem/15990   \n",
    "D[i][j] = i 를 1, 2, 3의 합으로 나타내는 방법의 수, 마지막에 사용한 수는 j   \n",
    "D[i][1] = D[i-1][2] + D[i-1][3]   \n",
    "D[i][2] = D[i-2][1] + D[i-2][3]   \n",
    "D[i][3] = D[i-3][1] + D[i-2][2]   \n",
    "**정답: D[n][1] + D[n][2] + D[n][3]**   \n",
    "1, 2, 3 더하기 처럼 D[0] = 1로 초기화 하면 중복 발생   \n",
    "D[0][1] = 1, D[0][2] = 1, D[0][3] = 1 하면   \n",
    "D[1][1] = D[0][2] + D[0][3] = 2 가 됨   \n",
    "D[1][1], D[2][2], D[3][3] = 1 로 초기화 해야됨"
   ]
  },
  {
   "cell_type": "code",
   "execution_count": 46,
   "id": "03626656",
   "metadata": {},
   "outputs": [
    {
     "name": "stdout",
     "output_type": "stream",
     "text": [
      "4\n",
      "4\n",
      "3\n",
      "7\n",
      "9\n",
      "10\n",
      "27\n",
      "5\n",
      "4\n"
     ]
    }
   ],
   "source": [
    "# 시간 초과 판정 남 while 문 안에서 이미 계산한 값들 계속 계산하니 시간초과 발생 for 문 while 문 밖으로 뺌\n",
    "t = int(input())\n",
    "mod = 1000000009\n",
    "d = [[0] * 4 for _ in range(100001)]\n",
    "for i in range(1, 4):\n",
    "    d[i][i] = 1\n",
    "\n",
    "d[3][1], d[3][2] = 1, 1\n",
    "\n",
    "\n",
    "while t > 0:\n",
    "    n = int(input())\n",
    "    for i in range(4, n+1):\n",
    "        d[i][1] = d[i-1][2] % mod + d[i-1][3] % mod\n",
    "        d[i][2] = d[i-2][1] % mod + d[i-2][3] % mod\n",
    "        d[i][3] = d[i-3][1] % mod + d[i-3][2] % mod\n",
    "    print(sum(d[n]) % mod)\n",
    "    t -= 1"
   ]
  },
  {
   "cell_type": "code",
   "execution_count": null,
   "id": "87447a58",
   "metadata": {},
   "outputs": [],
   "source": [
    "t = int(input())\n",
    "mod = 1000000009\n",
    "d = [[0] * 4 for _ in range(100001)]\n",
    "for i in range(1, 4):\n",
    "    d[i][i] = 1\n",
    "\n",
    "d[3][1], d[3][2] = 1, 1\n",
    "\n",
    "for i in range(4, 100001):\n",
    "        d[i][1] = d[i-1][2] % mod + d[i-1][3] % mod\n",
    "        d[i][2] = d[i-2][1] % mod + d[i-2][3] % mod\n",
    "        d[i][3] = d[i-3][1] % mod + d[i-3][2] % mod\n",
    "\n",
    "while t > 0:\n",
    "    n = int(input())\n",
    "    print(sum(d[n]) % mod)\n",
    "    t -= 1"
   ]
  },
  {
   "cell_type": "markdown",
   "id": "db07a580",
   "metadata": {},
   "source": [
    "## 쉬운 계단 수\n",
    "https://www.acmicpc.net/problem/10844   \n",
    "1 <= j <= 8   \n",
    "D[i][j] = 길이가 i인 계단 수의 마지막 자리가 j 인 계단 수의 개수   \n",
    "D[i][j] = D[i-1][j-1] + D[i-1][j+1]   \n",
    "j = 0 -> D[i-1][j+1], j = 9 -> D[i-1][j-1]   \n",
    "정답 점화식: D[N][0] ~ D[N][9]   \n",
    "D[1][1] ~ D[1][9] = 1 로 초기화   \n",
    "D[1][0] = 0"
   ]
  },
  {
   "cell_type": "code",
   "execution_count": null,
   "id": "3bf46010",
   "metadata": {},
   "outputs": [],
   "source": [
    "for i in range(1, 10):\n",
    "    d[1][i] = 1\n",
    "for i in range(2, n+1):\n",
    "    for j in range(10):\n",
    "        d[i][j] = 0\n",
    "        if j-1 >= 0: d[i][j] += d[i-1][j-1]\n",
    "        if j+1 <= 9: d[i][j] += d[i-1][j+1]\n",
    "        d[i][j] %= mod\n",
    "ans = 0\n",
    "for i in range(10):\n",
    "    ans += d[n][i]\n",
    "ans %= mod"
   ]
  },
  {
   "cell_type": "markdown",
   "id": "7a7e4b58",
   "metadata": {},
   "source": [
    "## 이친수\n",
    "https://www.acmicpc.net/problem/2193   \n",
    "D[i][j] = 길이가 i인 마지막 수가 j인 이친수의 개수, j = 0, 1  밖에 없음   \n",
    "D[i][0] = D[i-1][0] + D[i-1][1].   \n",
    "D[i][1] = D[i-1][0]   \n",
    "D[1][0] = 0, D[1][1] = 1   \n",
    "\n",
    "1차원 으로도 풀 수 있음   \n",
    "D[i] = i자리 이친수   \n",
    "i자리에 0 = D[i-1]   \n",
    "i자리에 1 = D[i-2]   \n",
    "D[i] = D[i-1] + D[i-2]   \n",
    "D[1] = 1"
   ]
  },
  {
   "cell_type": "code",
   "execution_count": null,
   "id": "7e6c3e46",
   "metadata": {},
   "outputs": [],
   "source": []
  },
  {
   "cell_type": "code",
   "execution_count": null,
   "id": "ab961297",
   "metadata": {},
   "outputs": [],
   "source": []
  },
  {
   "cell_type": "code",
   "execution_count": null,
   "id": "c9e9bd9d",
   "metadata": {},
   "outputs": [],
   "source": []
  },
  {
   "cell_type": "code",
   "execution_count": null,
   "id": "ec30890f",
   "metadata": {},
   "outputs": [],
   "source": []
  }
 ],
 "metadata": {
  "kernelspec": {
   "display_name": "Python 3",
   "language": "python",
   "name": "python3"
  },
  "language_info": {
   "codemirror_mode": {
    "name": "ipython",
    "version": 3
   },
   "file_extension": ".py",
   "mimetype": "text/x-python",
   "name": "python",
   "nbconvert_exporter": "python",
   "pygments_lexer": "ipython3",
   "version": "3.8.8"
  }
 },
 "nbformat": 4,
 "nbformat_minor": 5
}
