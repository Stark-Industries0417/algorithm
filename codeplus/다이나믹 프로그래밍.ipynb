{
 "cells": [
  {
   "cell_type": "markdown",
   "id": "7e966878",
   "metadata": {},
   "source": [
    "# 피보나치 수\n",
    "1. 모든 문제 풀어야함\n",
    "2. 모든 문제는 1번만 풀어야함   \n",
    "\n",
    "시간복잡도: 문제의 개수: N * 문제1개 푸는 시간: O(1) >> O(N)\n",
    "   \n",
    "**문제 풀이 전략**\n",
    "1. 점화식의 정의\n",
    "2. 문제를 작게 만들 수 있는 방법 찾기 "
   ]
  },
  {
   "cell_type": "code",
   "execution_count": 1,
   "id": "b2a195bb",
   "metadata": {},
   "outputs": [
    {
     "name": "stdout",
     "output_type": "stream",
     "text": [
      "10\n",
      "55\n"
     ]
    }
   ],
   "source": [
    "n = int(input())\n",
    "memo = [0] * (n+1)\n",
    "\n",
    "def fibonacci(n: int) -> int:\n",
    "    if n <= 1:\n",
    "        return n\n",
    "    else:\n",
    "        if memo[n] > 0:\n",
    "            return memo[n]\n",
    "        memo[n] = fibonacci(n-1) + fibonacci(n-2)\n",
    "        return memo[n]\n",
    "print(fibonacci(n))"
   ]
  },
  {
   "cell_type": "code",
   "execution_count": null,
   "id": "3f4a2c6f",
   "metadata": {},
   "outputs": [],
   "source": [
    "n = int(input())\n",
    "d = [0] * (n+1)\n",
    "\n",
    "def fibonacci(n: int):\n",
    "    d[0] = 0\n",
    "    d[1] = 1\n",
    "    for i in range(2, n+1):\n",
    "        d[i] = d[i-1] + d[i-2]\n",
    "        \n",
    "    return d[n]\n",
    "\n",
    "print(fibonacci(n))"
   ]
  },
  {
   "cell_type": "markdown",
   "id": "31c26012",
   "metadata": {},
   "source": [
    "## 1로 만들기 N >= 2\n",
    "https://www.acmicpc.net/problem/1463   \n",
    "D[N] = N을 1로 만드는 최소 연산 횟수   \n",
    "D[N] = N -> N//3 -> ... -> 1  \n",
    "1번 연산: D[N] = 1 + D[N//3] N % 3 == 0 인 경우에만   \n",
    "2번 연산: D[N] = 1 + D[N//2] N % 2 == 0 인 경우에만   \n",
    "3번 연산: D[N] = 1 + D[N-1]\n",
    "\n",
    "D[N] = min(D[N//3], D[N//2], D[N-1]) + 1   \n",
    "\n",
    "최소 연산 횟수이므로 3, 2, 1 우선 순위로 최대한 많이 나눈다는 그리디 알고리즘 방법은 아님   \n",
    "10 같은 경우 10 // 2 = 5 - 1 = 4 // 2 -> 2 - 1 = 1 4번 연산   \n",
    "하지만 1을 먼저 빼서 9를 만들고 진행하면 3번 연산으로 가능   \n",
    "\n",
    "### 파이썬은 재귀 사용하면 시간이 오래걸리고 메모리도 많이 차지해서 다이나믹 문제 풀이 시 바텀 업을 사용하는 것이 좋음"
   ]
  },
  {
   "cell_type": "code",
   "execution_count": 3,
   "id": "fe61b31c",
   "metadata": {},
   "outputs": [
    {
     "name": "stdout",
     "output_type": "stream",
     "text": [
      "10\n",
      "3\n"
     ]
    }
   ],
   "source": [
    "# top down 메모리 초과 일어남\n",
    "\n",
    "n = int(input())\n",
    "d = [0] * (n+1)\n",
    "\n",
    "import sys\n",
    "sys.setrecursionlimit(10 ** 6)\n",
    "def go(n):\n",
    "    if n == 1:\n",
    "        return 0\n",
    "    if d[n] > 0:\n",
    "        return d[n]\n",
    "    d[n] = go(n-1) + 1\n",
    "    if n % 2 == 0:\n",
    "        temp = go(n//2) + 1\n",
    "        if d[n] > temp:\n",
    "            d[n] = temp\n",
    "    if n % 3 == 0:\n",
    "        temp = go(n//3) + 1\n",
    "        if d[n] > temp:\n",
    "            d[n] = temp\n",
    "    return d[n]\n",
    "\n",
    "print(go(n))"
   ]
  },
  {
   "cell_type": "code",
   "execution_count": 5,
   "id": "5e8c181c",
   "metadata": {},
   "outputs": [
    {
     "name": "stdout",
     "output_type": "stream",
     "text": [
      "10\n",
      "3\n"
     ]
    }
   ],
   "source": [
    "# bottom up\n",
    "\n",
    "n = int(input())\n",
    "d = [0] * (n+1)\n",
    "d[1] = 0\n",
    "for i in range(2, n+1):\n",
    "    d[i] = d[i-1] + 1\n",
    "    if i % 2 == 0 and d[i] > d[i//2] + 1:\n",
    "        d[i] = d[i//2] + 1\n",
    "    if i % 3 == 0 and d[i] > d[i//3] + 1:\n",
    "        d[i] = d[i//3] + 1\n",
    "print(d[n])"
   ]
  }
 ],
 "metadata": {
  "kernelspec": {
   "display_name": "Python 3",
   "language": "python",
   "name": "python3"
  },
  "language_info": {
   "codemirror_mode": {
    "name": "ipython",
    "version": 3
   },
   "file_extension": ".py",
   "mimetype": "text/x-python",
   "name": "python",
   "nbconvert_exporter": "python",
   "pygments_lexer": "ipython3",
   "version": "3.8.8"
  }
 },
 "nbformat": 4,
 "nbformat_minor": 5
}
