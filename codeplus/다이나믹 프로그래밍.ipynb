{
 "cells": [
  {
   "cell_type": "markdown",
   "id": "7e966878",
   "metadata": {},
   "source": [
    "# 피보나치 수\n",
    "1. 모든 문제 풀어야함\n",
    "2. 모든 문제는 1번만 풀어야함   \n",
    "\n",
    "시간복잡도: 문제의 개수: N * 문제1개 푸는 시간: O(1) >> O(N)\n",
    "   \n",
    "**문제 풀이 전략**\n",
    "1. 점화식의 정의\n",
    "2. 문제를 작게 만들 수 있는 방법 찾기 "
   ]
  },
  {
   "cell_type": "code",
   "execution_count": 1,
   "id": "b2a195bb",
   "metadata": {},
   "outputs": [
    {
     "name": "stdout",
     "output_type": "stream",
     "text": [
      "10\n",
      "55\n"
     ]
    }
   ],
   "source": [
    "n = int(input())\n",
    "memo = [0] * (n+1)\n",
    "\n",
    "def fibonacci(n: int) -> int:\n",
    "    if n <= 1:\n",
    "        return n\n",
    "    else:\n",
    "        if memo[n] > 0:\n",
    "            return memo[n]\n",
    "        memo[n] = fibonacci(n-1) + fibonacci(n-2)\n",
    "        return memo[n]\n",
    "print(fibonacci(n))"
   ]
  },
  {
   "cell_type": "code",
   "execution_count": null,
   "id": "3f4a2c6f",
   "metadata": {},
   "outputs": [],
   "source": [
    "n = int(input())\n",
    "d = [0] * (n+1)\n",
    "\n",
    "def fibonacci(n: int):\n",
    "    d[0] = 0\n",
    "    d[1] = 1\n",
    "    for i in range(2, n+1):\n",
    "        d[i] = d[i-1] + d[i-2]\n",
    "        \n",
    "    return d[n]\n",
    "\n",
    "print(fibonacci(n))"
   ]
  }
 ],
 "metadata": {
  "kernelspec": {
   "display_name": "Python 3",
   "language": "python",
   "name": "python3"
  },
  "language_info": {
   "codemirror_mode": {
    "name": "ipython",
    "version": 3
   },
   "file_extension": ".py",
   "mimetype": "text/x-python",
   "name": "python",
   "nbconvert_exporter": "python",
   "pygments_lexer": "ipython3",
   "version": "3.8.8"
  }
 },
 "nbformat": 4,
 "nbformat_minor": 5
}
