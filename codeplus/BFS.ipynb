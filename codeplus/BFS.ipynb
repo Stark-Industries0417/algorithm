{
 "cells": [
  {
   "cell_type": "markdown",
   "id": "a1b5e2b4",
   "metadata": {},
   "source": [
    "# BFS - 1\n",
    "BFS는 모든 가중치가 1일 때, 최단 거리를 구하는 알고리즘이다."
   ]
  },
  {
   "cell_type": "markdown",
   "id": "3937733f",
   "metadata": {},
   "source": [
    "### BFS를 이용해 해결할 수 있는 문제는 아래와 같은 조건 만족해야 함\n",
    "1. 최소 비용 문제이어야함\n",
    "2. 간선의 가중치가 1이어야 한다.\n",
    "3. 정점과 간선의 개수가 적어야 한다. (적다는 것은 문제의 조건에 맞춰서 해결할 수 있다는 것을 의미)\n",
    "4. 간선의 가중치가 문제에서 구하라고 하는 최소 비용과 의미가 같아야함\n",
    "5. 거리의 최소값을 구하는 문제라면 가중치는 거리를 의미해야하고, 시간의 최소값을 구하는 문제라면 가중치는 시간을 의미해야 함.   \n",
    "   \n",
    "해답을 구하는 것과 가중치가 같아야함"
   ]
  },
  {
   "cell_type": "markdown",
   "id": "b7891e58",
   "metadata": {},
   "source": [
    "## 숨바꼭질\n",
    "https://www.acmicpc.net/problem/1697"
   ]
  },
  {
   "cell_type": "code",
   "execution_count": 11,
   "id": "b29b7dd0",
   "metadata": {},
   "outputs": [
    {
     "name": "stdout",
     "output_type": "stream",
     "text": [
      "5 17\n",
      "[5, 4, 3, 2, 1, 0, 1, 2, 2, 2, 1, 2, 2, 3, 3, 4, 3, 4]\n",
      "4\n"
     ]
    }
   ],
   "source": [
    "from collections import deque\n",
    "MAX = 200000\n",
    "n, m = map(int, input().split())\n",
    "check = [False] * (MAX+1)\n",
    "dist = [-1] * (MAX+1)\n",
    "check[n] = True\n",
    "dist[n] = 0\n",
    "q = deque([n])\n",
    "while q:\n",
    "    now = q.popleft()\n",
    "    for nxt in [now-1, now+1, now*2]:\n",
    "        if 0 <= nxt <= MAX and not check[nxt]:\n",
    "            check[nxt] = True\n",
    "            dist[nxt] = dist[now] + 1\n",
    "            q.append(nxt)\n",
    "print(dist[:18])\n",
    "print(dist[m])"
   ]
  },
  {
   "cell_type": "markdown",
   "id": "03d933d6",
   "metadata": {},
   "source": [
    "## 숨바꼭질4\n",
    "https://www.acmicpc.net/problem/13913"
   ]
  },
  {
   "cell_type": "code",
   "execution_count": 13,
   "id": "9d4b71ca",
   "metadata": {},
   "outputs": [
    {
     "name": "stdout",
     "output_type": "stream",
     "text": [
      "5 17\n",
      "4\n",
      "5 4 8 16 17 "
     ]
    }
   ],
   "source": [
    "import sys\n",
    "from collections import deque\n",
    "sys.setrecursionlimit(10**6)\n",
    "n, m = map(int, input().split())\n",
    "MAX = 2000000\n",
    "check = [False] * (MAX+1)\n",
    "dist = [-1] * (MAX+1)\n",
    "before = [-1] * (MAX+1)\n",
    "check[n] = True\n",
    "dist[n] = 0\n",
    "q = deque([n])\n",
    "while q:\n",
    "    now = q.popleft()\n",
    "    for nxt in [now-1, now+1, now*2]:\n",
    "        if 0 <= nxt <= MAX and not check[nxt]:\n",
    "            check[nxt] = True\n",
    "            dist[nxt] = dist[now] + 1\n",
    "            before[nxt] = now\n",
    "            q.append(nxt)\n",
    "            \n",
    "def from_to(n, m):\n",
    "    if n != m:\n",
    "        from_to(n, before[m])\n",
    "    print(m, end=' ')\n",
    "\n",
    "print(dist[m])\n",
    "from_to(n, m)"
   ]
  },
  {
   "cell_type": "markdown",
   "id": "b3fb9adb",
   "metadata": {},
   "source": [
    "# BFS - 2"
   ]
  },
  {
   "cell_type": "markdown",
   "id": "c635fba3",
   "metadata": {},
   "source": [
    "## 이모티콘\n",
    "https://www.acmicpc.net/problem/14226"
   ]
  },
  {
   "cell_type": "code",
   "execution_count": 19,
   "id": "46b42260",
   "metadata": {},
   "outputs": [
    {
     "name": "stdout",
     "output_type": "stream",
     "text": [
      "18\n",
      "8\n"
     ]
    }
   ],
   "source": [
    "from collections import deque\n",
    "n = int(input())\n",
    "dist = [[-1]* (n+1) for _ in range(n+1)]\n",
    "q = deque()\n",
    "q.append((1,0))  # 화면 이모티콘 개수, 클립보드 이모티콘 개수\n",
    "dist[1][0] = 0\n",
    "while q:\n",
    "    s,c = q.popleft()\n",
    "    if dist[s][s] == -1: # 방문하지 않았으면\n",
    "        dist[s][s] = dist[s][c] + 1\n",
    "        q.append((s,s))\n",
    "    if s+c <= n and dist[s+c][c] == -1:\n",
    "        dist[s+c][c] = dist[s][c] + 1\n",
    "        q.append((s+c, c))\n",
    "    if s-1 >= 0 and dist[s-1][c] == -1:\n",
    "        dist[s-1][c] = dist[s][c] + 1\n",
    "        q.append((s-1, c))\n",
    "answer = -1\n",
    "for i in range(n+1):\n",
    "    if dist[n][i] != -1:\n",
    "        if answer == -1 or answer > dist[n][i]:\n",
    "            answer = dist[n][i]\n",
    "print(answer)"
   ]
  },
  {
   "cell_type": "markdown",
   "id": "9386f978",
   "metadata": {},
   "source": [
    "## 숨바꼭질 3\n",
    "https://www.acmicpc.net/problem/13549   \n",
    "큐 2개를 이용해서 가중치 0, 1인 BFS 문제"
   ]
  },
  {
   "cell_type": "code",
   "execution_count": 23,
   "id": "88e450e1",
   "metadata": {},
   "outputs": [
    {
     "name": "stdout",
     "output_type": "stream",
     "text": [
      "5 17\n",
      "[5, 4, 3, 2, 1, 2, 1, 2, 1, 1, 0, 1, 1, 2, 2, 2, 1]\n"
     ]
    }
   ],
   "source": [
    "# 큐 2개 이용한 코드\n",
    "\n",
    "from collections import deque\n",
    "MAX = 200000\n",
    "dist = [-1] * MAX\n",
    "check = [False] * MAX\n",
    "n, m = map(int, input().split())\n",
    "dist[n] = 0\n",
    "q = deque()\n",
    "next_queue = deque()\n",
    "q.append(n)\n",
    "\n",
    "while q:\n",
    "    now = q.popleft()\n",
    "    if now*2 < MAX and check[now*2] == False:\n",
    "        q.append(now*2)\n",
    "        check[now*2] = True\n",
    "        dist[now*2] = dist[now]\n",
    "    if now-1 >= 0 and check[now-1] == False:\n",
    "        next_queue.append(now-1)\n",
    "        check[now-1] = True\n",
    "        dist[now-1] = dist[now] + 1\n",
    "    if now+1 < MAX and check[now+1] == False:\n",
    "        next_queue.append(now+1)\n",
    "        check[now+1] = True\n",
    "        dist[now+1] = dist[now] + 1\n",
    "    if not q:\n",
    "        q = next_queue\n",
    "        next_queue = deque()\n",
    "        \n",
    "print(dist[:17])"
   ]
  },
  {
   "cell_type": "code",
   "execution_count": 21,
   "id": "507cdb11",
   "metadata": {},
   "outputs": [
    {
     "name": "stdout",
     "output_type": "stream",
     "text": [
      "5 17\n",
      "[5, 4, 3, 2, 1, 0, 1, 2, 1, 1, 0, 1, 1, 2, 2, 2, 1]\n"
     ]
    }
   ],
   "source": [
    "# 덱 을 사용한 코드\n",
    "from collections import deque\n",
    "MAX = 200000\n",
    "check = [False] * MAX\n",
    "dist = [-1] * MAX\n",
    "n, m = map(int, input().split())\n",
    "check[n] = True\n",
    "dist[n] = 0\n",
    "q = deque()\n",
    "q.append(n)\n",
    "while q:\n",
    "    now = q.popleft()\n",
    "    if now*2 < MAX and check[now*2] == False:\n",
    "        q.appendleft(now*2)\n",
    "        check[now*2] = True\n",
    "        dist[now*2] = dist[now]\n",
    "    if now-1 >= 0 and check[now-1] == False:\n",
    "        q.append(now-1)\n",
    "        check[now-1] = True\n",
    "        dist[now-1] = dist[now] + 1\n",
    "    if now+1 < MAX and check[now+1] == False:\n",
    "        q.append(now+1)\n",
    "        check[now+1] = True\n",
    "        dist[now+1] = dist[now] + 1\n",
    "        \n",
    "print(dist[:17])"
   ]
  },
  {
   "cell_type": "markdown",
   "id": "8859ecf6",
   "metadata": {},
   "source": [
    "## 알고스팟\n",
    "https://www.acmicpc.net/problem/1261   \n",
    "해답이 벽을 부수는 최소 횟수 이므로 가중치 또한 벽을 부수는 횟수가 되야함   \n",
    "빈방 -> 빈방 가중치: 0   \n",
    "빈방 -> 벽 가중치 : 1   \n",
    "벽 -> 빈 방 가중치: 0   \n",
    "벽 -> 벽 가중치: 1"
   ]
  },
  {
   "cell_type": "markdown",
   "id": "13dd8250",
   "metadata": {},
   "source": [
    "가중치가 다른 것마다 다른 큐에 넣거나 덱의 appendleft 하는 등 따로 처리를 해야하는데 하지 않고 모두 append로 하니 0부터 처리되지 않아 가중치가 늘어난 것을 가져오는 경우가 생겼다"
   ]
  },
  {
   "cell_type": "code",
   "execution_count": 4,
   "id": "2dac680d",
   "metadata": {},
   "outputs": [
    {
     "name": "stdout",
     "output_type": "stream",
     "text": [
      "4 2\n",
      "1000\n",
      "0001\n",
      "1\n"
     ]
    }
   ],
   "source": [
    "from collections import deque\n",
    "m, n = map(int, input().split())\n",
    "graph = [list(map(int, input())) for _ in range(n)]\n",
    "dist = [[-1]*m for _ in range(n)]\n",
    "dist[0][0] = 0\n",
    "q = deque()\n",
    "q.append((0, 0))\n",
    "\n",
    "dx = [-1, 1, 0, 0]\n",
    "dy = [0, 0, -1, 1]\n",
    "\n",
    "while q:\n",
    "    x, y = q.popleft()\n",
    "    for k in range(4):\n",
    "        nx, ny = x+dx[k], y+dy[k]\n",
    "        if 0 <= nx < n and 0 <= ny < m:\n",
    "            if dist[nx][ny] == -1:\n",
    "                if graph[nx][ny] == 0:\n",
    "                    dist[nx][ny] = dist[x][y]\n",
    "                    q.appendleft((nx, ny))  # << 이 부분 처리 하지 않아 고생 함\n",
    "                else:\n",
    "                    dist[nx][ny] = dist[x][y] + 1\n",
    "                    q.append((nx, ny))\n",
    "\n",
    "print(dist[n-1][m-1])"
   ]
  }
 ],
 "metadata": {
  "kernelspec": {
   "display_name": "Python 3",
   "language": "python",
   "name": "python3"
  },
  "language_info": {
   "codemirror_mode": {
    "name": "ipython",
    "version": 3
   },
   "file_extension": ".py",
   "mimetype": "text/x-python",
   "name": "python",
   "nbconvert_exporter": "python",
   "pygments_lexer": "ipython3",
   "version": "3.8.8"
  }
 },
 "nbformat": 4,
 "nbformat_minor": 5
}
