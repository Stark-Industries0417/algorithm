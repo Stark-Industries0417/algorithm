{
 "cells": [
  {
   "cell_type": "markdown",
   "id": "a1b5e2b4",
   "metadata": {},
   "source": [
    "# BFS - 1\n",
    "BFS는 모든 가중치가 1일 때, 최단 거리를 구하는 알고리즘이다."
   ]
  },
  {
   "cell_type": "markdown",
   "id": "3937733f",
   "metadata": {},
   "source": [
    "### BFS를 이용해 해결할 수 있는 문제는 아래와 같은 조건 만족해야 함\n",
    "1. 최소 비용 문제이어야함\n",
    "2. 간선의 가중치가 1이어야 한다.\n",
    "3. 정점과 간선의 개수가 적어야 한다. (적다는 것은 문제의 조건에 맞춰서 해결할 수 있다는 것을 의미)\n",
    "4. 간선의 가중치가 문제에서 구하라고 하는 최소 비용과 의미가 같아야함\n",
    "5. 거리의 최소값을 구하는 문제라면 가중치는 거리를 의미해야하고, 시간의 최소값을 구하는 문제라면 가중치는 시간을 의미해야 함.   \n",
    "   \n",
    "해답을 구하는 것과 가중치가 같아야함"
   ]
  },
  {
   "cell_type": "markdown",
   "id": "b7891e58",
   "metadata": {},
   "source": [
    "## 숨바꼭질\n",
    "https://www.acmicpc.net/problem/1697"
   ]
  },
  {
   "cell_type": "code",
   "execution_count": 11,
   "id": "b29b7dd0",
   "metadata": {},
   "outputs": [
    {
     "name": "stdout",
     "output_type": "stream",
     "text": [
      "5 17\n",
      "[5, 4, 3, 2, 1, 0, 1, 2, 2, 2, 1, 2, 2, 3, 3, 4, 3, 4]\n",
      "4\n"
     ]
    }
   ],
   "source": [
    "from collections import deque\n",
    "MAX = 200000\n",
    "n, m = map(int, input().split())\n",
    "check = [False] * (MAX+1)\n",
    "dist = [-1] * (MAX+1)\n",
    "check[n] = True\n",
    "dist[n] = 0\n",
    "q = deque([n])\n",
    "while q:\n",
    "    now = q.popleft()\n",
    "    for nxt in [now-1, now+1, now*2]:\n",
    "        if 0 <= nxt <= MAX and not check[nxt]:\n",
    "            check[nxt] = True\n",
    "            dist[nxt] = dist[now] + 1\n",
    "            q.append(nxt)\n",
    "print(dist[:18])\n",
    "print(dist[m])"
   ]
  },
  {
   "cell_type": "markdown",
   "id": "03d933d6",
   "metadata": {},
   "source": [
    "## 숨바꼭질4\n",
    "https://www.acmicpc.net/problem/13913"
   ]
  },
  {
   "cell_type": "code",
   "execution_count": 13,
   "id": "9d4b71ca",
   "metadata": {},
   "outputs": [
    {
     "name": "stdout",
     "output_type": "stream",
     "text": [
      "5 17\n",
      "4\n",
      "5 4 8 16 17 "
     ]
    }
   ],
   "source": [
    "import sys\n",
    "from collections import deque\n",
    "sys.setrecursionlimit(10**6)\n",
    "n, m = map(int, input().split())\n",
    "MAX = 2000000\n",
    "check = [False] * (MAX+1)\n",
    "dist = [-1] * (MAX+1)\n",
    "before = [-1] * (MAX+1)\n",
    "check[n] = True\n",
    "dist[n] = 0\n",
    "q = deque([n])\n",
    "while q:\n",
    "    now = q.popleft()\n",
    "    for nxt in [now-1, now+1, now*2]:\n",
    "        if 0 <= nxt <= MAX and not check[nxt]:\n",
    "            check[nxt] = True\n",
    "            dist[nxt] = dist[now] + 1\n",
    "            before[nxt] = now\n",
    "            q.append(nxt)\n",
    "            \n",
    "def from_to(n, m):\n",
    "    if n != m:\n",
    "        from_to(n, before[m])\n",
    "    print(m, end=' ')\n",
    "\n",
    "print(dist[m])\n",
    "from_to(n, m)"
   ]
  }
 ],
 "metadata": {
  "kernelspec": {
   "display_name": "Python 3",
   "language": "python",
   "name": "python3"
  },
  "language_info": {
   "codemirror_mode": {
    "name": "ipython",
    "version": 3
   },
   "file_extension": ".py",
   "mimetype": "text/x-python",
   "name": "python",
   "nbconvert_exporter": "python",
   "pygments_lexer": "ipython3",
   "version": "3.8.8"
  }
 },
 "nbformat": 4,
 "nbformat_minor": 5
}
