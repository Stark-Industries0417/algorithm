{
 "cells": [
  {
   "cell_type": "markdown",
   "id": "efb21a2c",
   "metadata": {},
   "source": [
    "## ABCDE\n",
    "https://www.acmicpc.net/problem/13023\n"
   ]
  },
  {
   "cell_type": "code",
   "execution_count": 10,
   "id": "9ea027fc",
   "metadata": {},
   "outputs": [
    {
     "name": "stdout",
     "output_type": "stream",
     "text": [
      "5 5\n",
      "0 1\n",
      "1 2\n",
      "2 3\n",
      "3 0\n",
      "1 4\n",
      "1\n",
      "[[False, True, False, True, False], [True, False, True, False, True], [False, True, False, True, False], [True, False, True, False, False], [False, True, False, False, False]]\n",
      "[(0, 1), (1, 0), (1, 2), (2, 1), (2, 3), (3, 2), (3, 0), (0, 3), (1, 4), (4, 1)]\n",
      "[[1, 3], [0, 2, 4], [1, 3], [2, 0], [1]]\n"
     ]
    },
    {
     "ename": "SystemExit",
     "evalue": "0",
     "output_type": "error",
     "traceback": [
      "An exception has occurred, use %tb to see the full traceback.\n",
      "\u001b[0;31mSystemExit\u001b[0m\u001b[0;31m:\u001b[0m 0\n"
     ]
    }
   ],
   "source": [
    "import sys\n",
    "n, m = map(int, input().split())\n",
    "# 간선 리스트\n",
    "edges = []\n",
    "# 인접 행렬\n",
    "a = [[False]*n for _ in range(n)]\n",
    "# 인접 리스트\n",
    "g = [[] for _ in range(n)]\n",
    "for _ in range(m):\n",
    "    u, v = map(int, input().split())\n",
    "    edges.append((u, v))\n",
    "    edges.append((v, u))\n",
    "    a[u][v] = a[v][u] = True\n",
    "    g[u].append(v)\n",
    "    g[v].append(u)\n",
    "m *= 2\n",
    "for i in range(m):\n",
    "    for j in range(m):\n",
    "        A, B = edges[i]\n",
    "        C, D = edges[j]\n",
    "        if A == B or A == C or A == D or B == C or B == D or C == D:\n",
    "            continue\n",
    "        if not a[B][C]:\n",
    "            continue\n",
    "        for E in g[D]:\n",
    "            if A == E or B == E or C == E or D == E:\n",
    "                continue\n",
    "            print(1)\n",
    "            print(a)\n",
    "            print(edges)\n",
    "            print(g)\n",
    "            sys.exit(0)\n",
    "print(0)\n"
   ]
  },
  {
   "cell_type": "code",
   "execution_count": 8,
   "id": "e5af83b2",
   "metadata": {},
   "outputs": [
    {
     "name": "stdout",
     "output_type": "stream",
     "text": [
      "5 5\n",
      "0 1\n",
      "1 2\n",
      "2 3\n",
      "3 0\n",
      "1 4\n",
      "1\n"
     ]
    },
    {
     "ename": "SystemExit",
     "evalue": "0",
     "output_type": "error",
     "traceback": [
      "An exception has occurred, use %tb to see the full traceback.\n",
      "\u001b[0;31mSystemExit\u001b[0m\u001b[0;31m:\u001b[0m 0\n"
     ]
    }
   ],
   "source": [
    "import sys\n",
    "n, m = map(int, input().split())\n",
    "visited = [False] * n\n",
    "graph = [[] for _ in range(n)]\n",
    "for _ in range(m):\n",
    "    a, b = map(int, input().split())\n",
    "    graph[a].append(b)\n",
    "    graph[b].append(a)\n",
    "    \n",
    "def dfs(idx, number):\n",
    "    if number == 4:\n",
    "        print(1)\n",
    "        sys.exit(0)\n",
    "    for i in graph[idx]:\n",
    "        if not visited[i]:\n",
    "            visited[i] = True\n",
    "            dfs(i, number + 1)\n",
    "            visited[i] = False\n",
    "            \n",
    "for i in range(n):\n",
    "    visited[i] = True\n",
    "    dfs(i, 0)\n",
    "    visited[i] = False\n",
    "print(0)"
   ]
  },
  {
   "cell_type": "markdown",
   "id": "7b9f9f98",
   "metadata": {},
   "source": [
    "# 그래프의 탐색"
   ]
  },
  {
   "cell_type": "markdown",
   "id": "7bb6cce1",
   "metadata": {},
   "source": [
    "인접 행렬로 구현    \n",
    "시간복잡도 = 각 정점마다 DFs 1번 호출(v) * dfs 함수의 복잡도(v) = v^2"
   ]
  },
  {
   "cell_type": "markdown",
   "id": "bb3417d3",
   "metadata": {},
   "source": [
    "### DFS"
   ]
  },
  {
   "cell_type": "code",
   "execution_count": null,
   "id": "99db94e6",
   "metadata": {},
   "outputs": [],
   "source": [
    "def dfs(x):\n",
    "    visited[x] = True\n",
    "    for i in range(1, n+1):\n",
    "        if a[x][i] == 1 and visited[x] == False:\n",
    "            dfs(i)"
   ]
  },
  {
   "cell_type": "code",
   "execution_count": null,
   "id": "707e72d9",
   "metadata": {},
   "outputs": [],
   "source": [
    "# 인접 리스트 E: 연결된 간선의 개수 => O(V + E)\n",
    "def dfs(x):\n",
    "    visited[x] = True\n",
    "    for i in graph[x]:\n",
    "        if not visited[i]:\n",
    "            dfs(i)"
   ]
  },
  {
   "cell_type": "markdown",
   "id": "12490a2d",
   "metadata": {},
   "source": [
    "### BFS"
   ]
  },
  {
   "cell_type": "code",
   "execution_count": null,
   "id": "51158f68",
   "metadata": {},
   "outputs": [],
   "source": [
    "# O(V ^ 2)\n",
    "from collections import deque\n",
    "\n",
    "queue = deque([start])\n",
    "visited[1] = True\n",
    "\n",
    "while queue:\n",
    "    x = queue.popleft()\n",
    "    for i in range(1, n+1):\n",
    "        if a[x][i] == True and not visited[i]:\n",
    "            queue.append(i)\n",
    "            visited[i] = True"
   ]
  },
  {
   "cell_type": "code",
   "execution_count": null,
   "id": "00157487",
   "metadata": {},
   "outputs": [],
   "source": [
    "# O(V + E)\n",
    "queue = deque([start])\n",
    "visited[1] = True\n",
    "\n",
    "while queue:\n",
    "    x = queue.popleft()\n",
    "    for i in graph[x]:\n",
    "        if not visited[i]:\n",
    "            queue.append(i)\n",
    "            visited[i] = True"
   ]
  },
  {
   "cell_type": "markdown",
   "id": "2cb66b3f",
   "metadata": {},
   "source": [
    "## DFS와 BFS\n",
    "https://www.acmicpc.net/problem/1260"
   ]
  },
  {
   "cell_type": "markdown",
   "id": "bab1aed3",
   "metadata": {},
   "source": [
    "visited 가 전역 변수인데 dfs 후에 visited가 바꼇으므로 bfs가 작동하지 않아 고민햇음 => dfs, bfs visited 를 따로 두고 실행 => 지역변수로 visited 선언 시도 => 재귀함수 maximum recursion 에러 발생 => 다시 전역변수로 두기로함  \n",
    "작은 정점부터 탐색하게끔 하기위해 graph[a].sort(), graph[b].sort() 를 했음 => 한번에 for문으로 sort 해, 시간복잡도 개선"
   ]
  },
  {
   "cell_type": "code",
   "execution_count": 23,
   "id": "6e77b3f2",
   "metadata": {},
   "outputs": [
    {
     "name": "stdout",
     "output_type": "stream",
     "text": [
      "5 5 3\n",
      "5 4\n",
      "5 2\n",
      "1 2\n",
      "3 4\n",
      "3 1\n",
      "3 1 2 5 4\n",
      "3 1 4 2 5\n"
     ]
    }
   ],
   "source": [
    "from sys import stdin\n",
    "from collections import deque\n",
    "\n",
    "n, m, v = map(int, input().split())\n",
    "graph = [[] for _ in range(n+1)]\n",
    "dfs_visited = [False] * (n+1)\n",
    "bfs_visited = [False] * (n+1)\n",
    "\n",
    "dfs_li = []\n",
    "bfs_li = []\n",
    "\n",
    "\n",
    "for _ in range(m):\n",
    "    a, b = map(int, input().split())\n",
    "    graph[a].append(b)\n",
    "    graph[b].append(a)\n",
    "    \n",
    "for i in range(n+1):\n",
    "    graph[i].sort()\n",
    "    \n",
    "def dfs(v: int) -> None:\n",
    "    dfs_visited[v] = True\n",
    "    dfs_li.append(v)\n",
    "    \n",
    "    for i in graph[v]:\n",
    "        if not dfs_visited[i]:\n",
    "            dfs(i)\n",
    "\n",
    "\n",
    "def bfs(v: int) -> None:\n",
    "    queue = deque([v])\n",
    "    bfs_visited[v] = True\n",
    "    \n",
    "    while queue:\n",
    "        v = queue.popleft()\n",
    "        bfs_li.append(v)\n",
    "        for i in graph[v]:\n",
    "            if not bfs_visited[i]:\n",
    "                queue.append(i)\n",
    "                bfs_visited[i] = True       \n",
    "\n",
    "dfs(v)       \n",
    "bfs(v)\n",
    "\n",
    "print(*dfs_li)\n",
    "print(*bfs_li)"
   ]
  },
  {
   "cell_type": "markdown",
   "id": "db7a6b28",
   "metadata": {},
   "source": [
    "## 연결 요소\n",
    "https://www.acmicpc.net/problem/11724"
   ]
  },
  {
   "cell_type": "code",
   "execution_count": null,
   "id": "b44a5cd8",
   "metadata": {},
   "outputs": [],
   "source": [
    "import sys\n",
    "sys.setrecursionlimit(10**6)\n",
    "\n",
    "n, m = map(int, sys.stdin.readline().split())\n",
    "visited = [False] * (n+1)\n",
    "graph = [[] for _ in range(n+1)]\n",
    "cnt = 0\n",
    "for _ in range(m):\n",
    "    u, v = map(int, sys.stdin.readline().split())\n",
    "    graph[u].append(v)\n",
    "    graph[v].append(u)\n",
    "\n",
    "def dfs(v):\n",
    "    visited[v] = True\n",
    "    for i in graph[v]:\n",
    "        if not visited[i]:\n",
    "            dfs(i)\n",
    "\n",
    "for i in range(1, n+1):\n",
    "    if not visited[i]:\n",
    "        dfs(i)\n",
    "        cnt += 1\n",
    "print(cnt)"
   ]
  },
  {
   "cell_type": "markdown",
   "id": "49ecaa22",
   "metadata": {},
   "source": [
    "## 이분 그래프\n",
    "https://www.acmicpc.net/problem/1707"
   ]
  },
  {
   "cell_type": "code",
   "execution_count": null,
   "id": "29b86bbb",
   "metadata": {},
   "outputs": [],
   "source": [
    "import sys\n",
    "sys.setrecursionlimit(10**6)\n",
    "\n",
    "t = int(sys.stdin.readline())\n",
    "for _ in range(t):\n",
    "    n, m = map(int, sys.stdin.readline().split())\n",
    "    graph = [[] for _ in range(n+1)]\n",
    "    color = [0] * (n+1)\n",
    "    for _ in range(m):\n",
    "        u, v = map(int, sys.stdin.readline().split())\n",
    "        graph[u].append(v)\n",
    "        graph[v].append(u)\n",
    "\n",
    "    def dfs(x, c):\n",
    "        color[x] = c\n",
    "        for y in graph[x]:\n",
    "            if color[y] == 0:\n",
    "                if not dfs(y, 3-c):\n",
    "                    return False\n",
    "            elif color[y] == color[x]:\n",
    "                return False\n",
    "        return True\n",
    "        \n",
    "    ok = True\n",
    "    for i in range(1, n+1):\n",
    "        if not color[i]:\n",
    "            if not dfs(i, 1):\n",
    "                ok = False\n",
    "    print('YES' if ok else 'NO')"
   ]
  },
  {
   "cell_type": "markdown",
   "id": "e9bdc2de",
   "metadata": {},
   "source": [
    "## 단지번호 붙이기\n",
    "https://www.acmicpc.net/problem/2667"
   ]
  },
  {
   "cell_type": "code",
   "execution_count": null,
   "id": "1a2ba7c5",
   "metadata": {},
   "outputs": [],
   "source": [
    "import sys\n",
    "sys.setrecursionlimit(10**6)\n",
    "d = []\n",
    "town, house = 0, 0\n",
    "n = int(input())\n",
    "graph = [list(map(int, list(input()))) for _ in range(n)]\n",
    "\n",
    "def dfs(x, y):\n",
    "    global house\n",
    "    if x <= -1 or x >= n or y <= -1 or y >= n:\n",
    "        return False\n",
    "    \n",
    "    if graph[x][y] == 1:\n",
    "        graph[x][y] = 0\n",
    "        house += 1\n",
    "        dfs(x, y-1)\n",
    "        dfs(x, y+1)\n",
    "        dfs(x-1, y)\n",
    "        dfs(x+1, y)\n",
    "        return True    \n",
    "    return False\n",
    "\n",
    "for i in range(n):\n",
    "    for j in range(n):\n",
    "        if dfs(i, j):\n",
    "            town += 1\n",
    "            d.append(house)\n",
    "            house = 0\n",
    "print(town)\n",
    "d.sort()\n",
    "for v in d:\n",
    "    print(v)"
   ]
  },
  {
   "cell_type": "markdown",
   "id": "7d97d38a",
   "metadata": {},
   "source": [
    "## 미로 탐색\n",
    "https://www.acmicpc.net/problem/2178   \n",
    "최단(최소 비용) 경로 문제에선 DFS는 쓰지 못함 BFS탐색 사용해야함(가중치 == 1 일때만 가능)"
   ]
  },
  {
   "cell_type": "code",
   "execution_count": null,
   "id": "fff68a8f",
   "metadata": {},
   "outputs": [],
   "source": [
    "4 6\n",
    "110110\n",
    "110110\n",
    "111111\n",
    "111101"
   ]
  },
  {
   "cell_type": "code",
   "execution_count": 31,
   "id": "83d5faf8",
   "metadata": {},
   "outputs": [
    {
     "name": "stdout",
     "output_type": "stream",
     "text": [
      "4 6\n",
      "110110\n",
      "110110\n",
      "111111\n",
      "111101\n"
     ]
    },
    {
     "ename": "IndexError",
     "evalue": "list index out of range",
     "output_type": "error",
     "traceback": [
      "\u001b[0;31m---------------------------------------------------------------------------\u001b[0m",
      "\u001b[0;31mIndexError\u001b[0m                                Traceback (most recent call last)",
      "\u001b[0;32m<ipython-input-31-02d4e8670050>\u001b[0m in \u001b[0;36m<module>\u001b[0;34m\u001b[0m\n\u001b[1;32m     15\u001b[0m         \u001b[0mnx\u001b[0m\u001b[0;34m,\u001b[0m \u001b[0mny\u001b[0m \u001b[0;34m=\u001b[0m \u001b[0mx\u001b[0m \u001b[0;34m+\u001b[0m \u001b[0mdx\u001b[0m\u001b[0;34m[\u001b[0m\u001b[0mk\u001b[0m\u001b[0;34m]\u001b[0m\u001b[0;34m,\u001b[0m \u001b[0my\u001b[0m \u001b[0;34m+\u001b[0m \u001b[0mdy\u001b[0m\u001b[0;34m[\u001b[0m\u001b[0mk\u001b[0m\u001b[0;34m]\u001b[0m\u001b[0;34m\u001b[0m\u001b[0;34m\u001b[0m\u001b[0m\n\u001b[1;32m     16\u001b[0m         \u001b[0;32mif\u001b[0m \u001b[0;36m0\u001b[0m \u001b[0;34m<=\u001b[0m \u001b[0mnx\u001b[0m \u001b[0;34m<\u001b[0m \u001b[0mn\u001b[0m \u001b[0;32mand\u001b[0m \u001b[0;36m0\u001b[0m \u001b[0;34m<=\u001b[0m \u001b[0mny\u001b[0m \u001b[0;34m<\u001b[0m \u001b[0mm\u001b[0m\u001b[0;34m:\u001b[0m\u001b[0;34m\u001b[0m\u001b[0;34m\u001b[0m\u001b[0m\n\u001b[0;32m---> 17\u001b[0;31m             \u001b[0;32mif\u001b[0m \u001b[0mdist\u001b[0m\u001b[0;34m[\u001b[0m\u001b[0mnx\u001b[0m\u001b[0;34m]\u001b[0m\u001b[0;34m[\u001b[0m\u001b[0mny\u001b[0m\u001b[0;34m]\u001b[0m \u001b[0;34m==\u001b[0m \u001b[0;34m-\u001b[0m\u001b[0;36m1\u001b[0m \u001b[0;32mand\u001b[0m \u001b[0ma\u001b[0m\u001b[0;34m[\u001b[0m\u001b[0mnx\u001b[0m\u001b[0;34m]\u001b[0m\u001b[0;34m[\u001b[0m\u001b[0mny\u001b[0m\u001b[0;34m]\u001b[0m \u001b[0;34m==\u001b[0m \u001b[0;36m1\u001b[0m\u001b[0;34m:\u001b[0m\u001b[0;34m\u001b[0m\u001b[0;34m\u001b[0m\u001b[0m\n\u001b[0m\u001b[1;32m     18\u001b[0m                 \u001b[0mq\u001b[0m\u001b[0;34m.\u001b[0m\u001b[0mappend\u001b[0m\u001b[0;34m(\u001b[0m\u001b[0;34m(\u001b[0m\u001b[0mnx\u001b[0m\u001b[0;34m,\u001b[0m \u001b[0mny\u001b[0m\u001b[0;34m)\u001b[0m\u001b[0;34m)\u001b[0m\u001b[0;34m\u001b[0m\u001b[0;34m\u001b[0m\u001b[0m\n\u001b[1;32m     19\u001b[0m                 \u001b[0mdist\u001b[0m\u001b[0;34m[\u001b[0m\u001b[0mnx\u001b[0m\u001b[0;34m]\u001b[0m\u001b[0;34m[\u001b[0m\u001b[0mny\u001b[0m\u001b[0;34m]\u001b[0m \u001b[0;34m=\u001b[0m \u001b[0mdist\u001b[0m\u001b[0;34m[\u001b[0m\u001b[0mx\u001b[0m\u001b[0;34m]\u001b[0m\u001b[0;34m[\u001b[0m\u001b[0my\u001b[0m\u001b[0;34m]\u001b[0m \u001b[0;34m+\u001b[0m \u001b[0;36m1\u001b[0m\u001b[0;34m\u001b[0m\u001b[0;34m\u001b[0m\u001b[0m\n",
      "\u001b[0;31mIndexError\u001b[0m: list index out of range"
     ]
    }
   ],
   "source": [
    "from collections import deque\n",
    "dx = [0, 0, 1, -1]\n",
    "dy = [1, -1, 0, 0]\n",
    "n, m = map(int, input().split())\n",
    "a = [list(map(int, list(input()))) for _ in range(n)]\n",
    "\n",
    "dist = [[-1]*m for _ in range(n)]\n",
    "\n",
    "q = deque()\n",
    "q.append((0, 0))\n",
    "dist[0][0] = 1\n",
    "while q:\n",
    "    x, y = q.popleft()\n",
    "    for k in range(4):\n",
    "        nx, ny = x + dx[k], y + dy[k]\n",
    "        if 0 <= nx < n and 0 <= ny < m:\n",
    "            if dist[nx][ny] == -1 and a[nx][ny] == 1:\n",
    "                q.append((nx, ny))\n",
    "                dist[nx][ny] = dist[x][y] + 1\n",
    "                \n",
    "print(dist[n-1][m-1])"
   ]
  },
  {
   "cell_type": "markdown",
   "id": "1b36bba6",
   "metadata": {},
   "source": [
    "## 토마토\n",
    "https://www.acmicpc.net/problem/7576"
   ]
  },
  {
   "cell_type": "markdown",
   "id": "27adab4b",
   "metadata": {},
   "source": [
    "## 나이트의 이동\n",
    "https://www.acmicpc.net/problem/7562"
   ]
  }
 ],
 "metadata": {
  "kernelspec": {
   "display_name": "Python 3",
   "language": "python",
   "name": "python3"
  },
  "language_info": {
   "codemirror_mode": {
    "name": "ipython",
    "version": 3
   },
   "file_extension": ".py",
   "mimetype": "text/x-python",
   "name": "python",
   "nbconvert_exporter": "python",
   "pygments_lexer": "ipython3",
   "version": "3.8.8"
  }
 },
 "nbformat": 4,
 "nbformat_minor": 5
}
