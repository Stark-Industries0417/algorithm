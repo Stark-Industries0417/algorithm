{
 "cells": [
  {
   "cell_type": "markdown",
   "id": "efb21a2c",
   "metadata": {},
   "source": [
    "## ABCDE\n",
    "https://www.acmicpc.net/problem/13023\n"
   ]
  },
  {
   "cell_type": "code",
   "execution_count": 10,
   "id": "9ea027fc",
   "metadata": {},
   "outputs": [
    {
     "name": "stdout",
     "output_type": "stream",
     "text": [
      "5 5\n",
      "0 1\n",
      "1 2\n",
      "2 3\n",
      "3 0\n",
      "1 4\n",
      "1\n",
      "[[False, True, False, True, False], [True, False, True, False, True], [False, True, False, True, False], [True, False, True, False, False], [False, True, False, False, False]]\n",
      "[(0, 1), (1, 0), (1, 2), (2, 1), (2, 3), (3, 2), (3, 0), (0, 3), (1, 4), (4, 1)]\n",
      "[[1, 3], [0, 2, 4], [1, 3], [2, 0], [1]]\n"
     ]
    },
    {
     "ename": "SystemExit",
     "evalue": "0",
     "output_type": "error",
     "traceback": [
      "An exception has occurred, use %tb to see the full traceback.\n",
      "\u001b[0;31mSystemExit\u001b[0m\u001b[0;31m:\u001b[0m 0\n"
     ]
    }
   ],
   "source": [
    "import sys\n",
    "n, m = map(int, input().split())\n",
    "# 인접 행렬\n",
    "edges = []\n",
    "a = [[False]*n for _ in range(n)]\n",
    "# 인접 리스트\n",
    "g = [[] for _ in range(n)]\n",
    "for _ in range(m):\n",
    "    u, v = map(int, input().split())\n",
    "    edges.append((u, v))\n",
    "    edges.append((v, u))\n",
    "    a[u][v] = a[v][u] = True\n",
    "    g[u].append(v)\n",
    "    g[v].append(u)\n",
    "m *= 2\n",
    "for i in range(m):\n",
    "    for j in range(m):\n",
    "        A, B = edges[i]\n",
    "        C, D = edges[j]\n",
    "        if A == B or A == C or A == D or B == C or B == D or C == D:\n",
    "            continue\n",
    "        if not a[B][C]:\n",
    "            continue\n",
    "        for E in g[D]:\n",
    "            if A == E or B == E or C == E or D == E:\n",
    "                continue\n",
    "            print(1)\n",
    "            print(a)\n",
    "            print(edges)\n",
    "            print(g)\n",
    "            sys.exit(0)\n",
    "print(0)\n"
   ]
  },
  {
   "cell_type": "code",
   "execution_count": 8,
   "id": "e5af83b2",
   "metadata": {},
   "outputs": [
    {
     "name": "stdout",
     "output_type": "stream",
     "text": [
      "5 5\n",
      "0 1\n",
      "1 2\n",
      "2 3\n",
      "3 0\n",
      "1 4\n",
      "1\n"
     ]
    },
    {
     "ename": "SystemExit",
     "evalue": "0",
     "output_type": "error",
     "traceback": [
      "An exception has occurred, use %tb to see the full traceback.\n",
      "\u001b[0;31mSystemExit\u001b[0m\u001b[0;31m:\u001b[0m 0\n"
     ]
    }
   ],
   "source": [
    "import sys\n",
    "n, m = map(int, input().split())\n",
    "visited = [False] * n\n",
    "graph = [[] for _ in range(n)]\n",
    "for _ in range(m):\n",
    "    a, b = map(int, input().split())\n",
    "    graph[a].append(b)\n",
    "    graph[b].append(a)\n",
    "    \n",
    "def dfs(idx, number):\n",
    "    if number == 4:\n",
    "        print(1)\n",
    "        sys.exit(0)\n",
    "    for i in graph[idx]:\n",
    "        if not visited[i]:\n",
    "            visited[i] = True\n",
    "            dfs(i, number + 1)\n",
    "            visited[i] = False\n",
    "            \n",
    "for i in range(n):\n",
    "    visited[i] = True\n",
    "    dfs(i, 0)\n",
    "    visited[i] = False\n",
    "print(0)"
   ]
  }
 ],
 "metadata": {
  "kernelspec": {
   "display_name": "Python 3",
   "language": "python",
   "name": "python3"
  },
  "language_info": {
   "codemirror_mode": {
    "name": "ipython",
    "version": 3
   },
   "file_extension": ".py",
   "mimetype": "text/x-python",
   "name": "python",
   "nbconvert_exporter": "python",
   "pygments_lexer": "ipython3",
   "version": "3.8.8"
  }
 },
 "nbformat": 4,
 "nbformat_minor": 5
}
