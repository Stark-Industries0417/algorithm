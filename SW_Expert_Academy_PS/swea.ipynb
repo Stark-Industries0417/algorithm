{
 "cells": [
  {
   "cell_type": "markdown",
   "id": "22bb5bdc",
   "metadata": {},
   "source": [
    "## 1859. 백만 장자 프로젝트\n",
    "https://swexpertacademy.com/main/code/problem/problemDetail.do?contestProbId=AV5LrsUaDxcDFAXc"
   ]
  },
  {
   "cell_type": "code",
   "execution_count": null,
   "id": "fbe1633a",
   "metadata": {},
   "outputs": [],
   "source": [
    "# 내 풀이 시간초과\n",
    "\n",
    "t = int(input())\n",
    "for k in range(1, t+1):\n",
    "    n = int(input())\n",
    "    prices = list(map(int, input().split()))\n",
    "\n",
    "    money = count = 0\n",
    "    for i in range(n):\n",
    "        max_num = max(prices[i:])\n",
    "        if prices[i] == max_num:\n",
    "            money += count * max_num\n",
    "            count = 0\n",
    "        else:\n",
    "            money -= prices[i]\n",
    "            count += 1\n",
    "    print(f'#{k} {money}')"
   ]
  },
  {
   "cell_type": "code",
   "execution_count": null,
   "id": "468cdb82",
   "metadata": {},
   "outputs": [],
   "source": [
    "for tc in range(1, int(input())+1):\n",
    "    n = int(input())\n",
    "    prices = list(map(int, input().split()))\n",
    "    max_value = prices[-1]\n",
    "    profit = 0\n",
    "\n",
    "    for i in range(n-2, -1, -1):\n",
    "        if prices[i] >= max_value:\n",
    "            max_value = prices[i]\n",
    "        else:\n",
    "            profit += max_value - prices[i]\n",
    "\n",
    "    print(f'#{tc} {profit}')"
   ]
  },
  {
   "cell_type": "markdown",
   "id": "5b5f014d",
   "metadata": {},
   "source": [
    "## 1206 View\n",
    "https://swexpertacademy.com/main/code/problem/problemDetail.do?contestProbId=AV134DPqAA8CFAYh&categoryId=AV134DPqAA8CFAYh&categoryType=CODE&problemTitle=&orderBy=FIRST_REG_DATETIME&selectCodeLang=ALL&select-1=&pageSize=10&pageIndex=1"
   ]
  },
  {
   "cell_type": "code",
   "execution_count": null,
   "id": "d1bab6e1",
   "metadata": {},
   "outputs": [],
   "source": [
    "for tc in range(1, 11):\n",
    "    n = int(input())\n",
    "    builds = list(map(int, input().split()))\n",
    "    ans = 0\n",
    "    for i in range(2, n-2):\n",
    "        diff1 = builds[i] - builds[i-2]\n",
    "        diff2 = builds[i] - builds[i-1]\n",
    "        diff3 = builds[i] - builds[i+1]\n",
    "        diff4 = builds[i] - builds[i+2]\n",
    "\n",
    "        if diff1 > 0 and diff2 > 0 and diff3 > 0 and diff4 > 0:\n",
    "            ans += min(diff1, diff2, diff3, diff4)\n",
    "    \n",
    "    print(f'#{tc} {ans}')"
   ]
  },
  {
   "cell_type": "markdown",
   "id": "27394f82",
   "metadata": {},
   "source": [
    "## 1244 최대 상금\n",
    "https://swexpertacademy.com/main/code/problem/problemDetail.do?contestProbId=AV15Khn6AN0CFAYD&categoryId=AV15Khn6AN0CFAYD&categoryType=CODE&problemTitle=&orderBy=FIRST_REG_DATETIME&selectCodeLang=ALL&select-1=&pageSize=10&pageIndex=1"
   ]
  },
  {
   "cell_type": "code",
   "execution_count": 11,
   "id": "a14f656c",
   "metadata": {},
   "outputs": [
    {
     "data": {
      "text/plain": [
       "True"
      ]
     },
     "execution_count": 11,
     "metadata": {},
     "output_type": "execute_result"
    }
   ],
   "source": [
    "# 10번 테케 틀림\n",
    "\n",
    "for tc in range(1, int(input())+1):\n",
    "    nums, n = input().split()\n",
    "    n = int(n)\n",
    "    nums = list(nums)\n",
    "\n",
    "    ans = -int(1e9)\n",
    "\n",
    "    for _ in range(n):\n",
    "        for i in range(len(nums)):\n",
    "            for j in range(len(nums)):\n",
    "                li = nums[:]\n",
    "                if i == j:\n",
    "                    continue\n",
    "                li[i], li[j] = li[j], li[i]\n",
    "                temp = int(''.join(li))\n",
    "                if ans < temp:\n",
    "                    ans = temp\n",
    "                    a = li[:]\n",
    "        nums = a\n",
    "\n",
    "    print(f'#{tc} {ans}')\n"
   ]
  },
  {
   "cell_type": "code",
   "execution_count": 25,
   "id": "8e77bec9",
   "metadata": {},
   "outputs": [
    {
     "data": {
      "text/plain": [
       "{'data'}"
      ]
     },
     "execution_count": 25,
     "metadata": {},
     "output_type": "execute_result"
    }
   ],
   "source": [
    "for tc in range(1,int(input())+1):\n",
    "    data, K = input().split() # 숫자판의 정보, 교환횟수\n",
    "    K = int(K)\n",
    "    N = len(data)\n",
    "    now = set([data])\n",
    "    nxt = set()\n",
    "    for _ in range(K):\n",
    "        while now:\n",
    "            s = now.pop()\n",
    "            s = list(s)\n",
    "            for i in range(N):\n",
    "                for j in range(i+1,N):\n",
    "                    s[i],s[j] = s[j],s[i]\n",
    "                    nxt.add(''.join(s))\n",
    "                    s[i], s[j] = s[j], s[i]\n",
    "        now,nxt = nxt,now\n",
    "\n",
    "    print('#{} {}'.format(tc,max(map(int,now))))"
   ]
  },
  {
   "cell_type": "markdown",
   "id": "29e96d17",
   "metadata": {},
   "source": [
    "## 1954 달팽이 숫자\n",
    "https://swexpertacademy.com/main/code/problem/problemDetail.do?contestProbId=AV5PobmqAPoDFAUq&categoryId=AV5PobmqAPoDFAUq&categoryType=CODE&problemTitle=&orderBy=FIRST_REG_DATETIME&selectCodeLang=ALL&select-1=&pageSize=10&pageIndex=1"
   ]
  },
  {
   "cell_type": "code",
   "execution_count": 9,
   "id": "49cb308d",
   "metadata": {},
   "outputs": [
    {
     "data": {
      "text/plain": [
       "-4"
      ]
     },
     "execution_count": 9,
     "metadata": {},
     "output_type": "execute_result"
    }
   ],
   "source": [
    "for tc in range(1, int(input())+1):\n",
    "    n = int(input())\n",
    "\n",
    "    snail = [[0] * n for _ in range(n)]\n",
    "    cnt = 1\n",
    "    for k in range(-(-n // 2)):\n",
    "        for i in range(k, n-k):\n",
    "            snail[k][i] = cnt\n",
    "            cnt += 1\n",
    "        \n",
    "        for i in range(k+1, n-k):\n",
    "            snail[i][n-k-1] = cnt\n",
    "            cnt += 1\n",
    "\n",
    "        for i in range(n-k-2, k-1, -1):\n",
    "            snail[n-k-1][i] = cnt\n",
    "            cnt += 1\n",
    "        \n",
    "        for i in range(n-k-2, k, -1):\n",
    "            snail[i][k] = cnt\n",
    "            cnt += 1\n",
    "\n",
    "    print(f'#{tc}')\n",
    "    for i in range(n):\n",
    "        print(*snail[i])"
   ]
  },
  {
   "cell_type": "markdown",
   "id": "06c7407e",
   "metadata": {},
   "source": [
    "## 13428 숫자조작\n",
    "https://swexpertacademy.com/main/code/problem/problemDetail.do?problemLevel=1&problemLevel=2&problemLevel=3&contestProbId=AX4EJPs68IkDFARe&categoryId=AX4EJPs68IkDFARe&categoryType=CODE&problemTitle=&orderBy=FIRST_REG_DATETIME&selectCodeLang=PYTHON&select-1=3&pageSize=10&pageIndex=1"
   ]
  },
  {
   "cell_type": "code",
   "execution_count": null,
   "id": "809915c1",
   "metadata": {},
   "outputs": [],
   "source": [
    "for tc in range(1, int(input())+1):\n",
    "    n = input()\n",
    "    lin = list(n)\n",
    "    maxn = minn = int(n)\n",
    "    for i in range(len(n)):\n",
    "        for j in range(i+1, len(n)):\n",
    "            lin[i], lin[j] = lin[j], lin[i]\n",
    "            temp = ''.join(lin)\n",
    "            if temp[0] != '0':\n",
    "                temp = int(temp)\n",
    "                if maxn < temp:\n",
    "                    maxn = temp\n",
    "                if minn > temp:\n",
    "                    minn = temp\n",
    "            lin[i], lin[j] = lin[j], lin[i]\n",
    "            \n",
    "    print(f'#{tc} {minn} {maxn}')"
   ]
  },
  {
   "cell_type": "markdown",
   "id": "bfed447c",
   "metadata": {},
   "source": [
    "## 13547 팔씨름\n",
    "https://swexpertacademy.com/main/code/problem/problemDetail.do?problemLevel=1&problemLevel=2&problemLevel=3&contestProbId=AX6PP9G6p1sDFAS9&categoryId=AX6PP9G6p1sDFAS9&categoryType=CODE&problemTitle=&orderBy=FIRST_REG_DATETIME&selectCodeLang=PYTHON&select-1=3&pageSize=10&pageIndex=1"
   ]
  },
  {
   "cell_type": "code",
   "execution_count": null,
   "id": "d435080e",
   "metadata": {},
   "outputs": [],
   "source": [
    "for tc in range(1, int(input()) + 1):\n",
    "    s = list(input())\n",
    "    win = lose = 0\n",
    "    for i in s:\n",
    "        if i == 'o':\n",
    "            win += 1\n",
    "        else:\n",
    "            lose += 1\n",
    " \n",
    "    if lose >= 8:\n",
    "        print(f\"#{tc} NO\")\n",
    " \n",
    "    elif 0 <= lose <= 7:\n",
    "        print(f'#{tc} YES')"
   ]
  },
  {
   "cell_type": "markdown",
   "id": "dec391c9",
   "metadata": {},
   "source": [
    "## 14361 숫자가 같은 배수\n",
    "https://swexpertacademy.com/main/code/problem/problemDetail.do?contestProbId=AYCnY9Kqu6YDFARx&categoryId=AYCnY9Kqu6YDFARx&categoryType=CODE&problemTitle=&orderBy=FIRST_REG_DATETIME&selectCodeLang=ALL&select-1=&pageSize=10&pageIndex=1"
   ]
  },
  {
   "cell_type": "code",
   "execution_count": null,
   "id": "2377d136",
   "metadata": {},
   "outputs": [],
   "source": [
    "# 테케 108개중 11개 틀림\n",
    "\n",
    "from itertools import permutations\n",
    "\n",
    "for tc in range(1, int(input())+1):\n",
    "    num = input()\n",
    "\n",
    "    for p in list(permutations(num)):\n",
    "        temp = int(''.join(p))\n",
    "\n",
    "        if type(temp//int(num) == int) and temp//int(num) > 1:\n",
    "            print(f'#{tc} possible')\n",
    "            break\n",
    "    else:\n",
    "        print(f'#{tc} impossible')"
   ]
  },
  {
   "cell_type": "code",
   "execution_count": null,
   "id": "9d09f658",
   "metadata": {},
   "outputs": [],
   "source": [
    "# 런타임 에러\n",
    "\n",
    "from collections import deque\n",
    "\n",
    "for tc in range(1, int(input())+1):\n",
    "    num = input()\n",
    "    q = deque([num])\n",
    "    n = len(num)\n",
    "\n",
    "    while q:\n",
    "        x = q.popleft()\n",
    "        if type(int(x)//int(num)) == int and int(x)//int(num) > 1:\n",
    "            print(f'#{tc} possible')\n",
    "            break\n",
    "        x = list(x)\n",
    "        for i in range(n):\n",
    "            for j in range(i+1, n):\n",
    "                x[i], x[j] = x[j], x[i]\n",
    "                q.append(''.join(x))\n",
    "    else:\n",
    "        print(f'#{tc} impossible')"
   ]
  },
  {
   "cell_type": "markdown",
   "id": "d74caa66",
   "metadata": {},
   "source": [
    "## 12741 두 전구\n",
    "https://swexpertacademy.com/main/code/problem/problemDetail.do?problemLevel=1&problemLevel=2&problemLevel=3&contestProbId=AXuUo_Tqs9kDFARa&categoryId=AXuUo_Tqs9kDFARa&categoryType=CODE&problemTitle=&orderBy=FIRST_REG_DATETIME&selectCodeLang=PYTHON&select-1=3&pageSize=10&pageIndex=1"
   ]
  },
  {
   "cell_type": "code",
   "execution_count": null,
   "id": "5073e2c6",
   "metadata": {},
   "outputs": [],
   "source": [
    "test_case = int(input())\n",
    "dp = [0] * (test_case+1)\n",
    "for tc in range(1, test_case+1):\n",
    "    a, b, c, d = map(int, input().split())\n",
    "    cnt = 0\n",
    "    if a <= c:\n",
    "        if b <= d:\n",
    "            for _ in range(c, b):\n",
    "                cnt += 1\n",
    "        else:\n",
    "            for _ in range(c, d):\n",
    "                cnt += 1\n",
    "    else:\n",
    "        if b <= d:\n",
    "            for _ in range(a, b):\n",
    "                cnt += 1\n",
    "        else:\n",
    "            for _ in range(a, d):\n",
    "                cnt += 1\n",
    "    dp[tc] = f'#{tc} {cnt}'\n",
    "\n",
    "for i in range(1, test_case+1):\n",
    "    print(dp[i])"
   ]
  },
  {
   "cell_type": "markdown",
   "id": "131bc4b2",
   "metadata": {},
   "source": [
    "## 최빈수 구하기\n",
    "https://swexpertacademy.com/main/code/problem/problemDetail.do?problemLevel=1&problemLevel=2&problemLevel=3&contestProbId=AV13zo1KAAACFAYh&categoryId=AV13zo1KAAACFAYh&categoryType=CODE&problemTitle=&orderBy=FIRST_REG_DATETIME&selectCodeLang=PYTHON&select-1=3&pageSize=10&pageIndex=1"
   ]
  },
  {
   "cell_type": "code",
   "execution_count": 17,
   "id": "f589dd6f",
   "metadata": {},
   "outputs": [
    {
     "name": "stdout",
     "output_type": "stream",
     "text": [
      "1\n",
      "1\n",
      "41 85 72 38 80 69 65 68 96 22 49 67 51 61 63 87 66 24 80 83 71 60 64 52 90 60 49 31 23 99 94 11 25 24 51 15 13 39 67 97 19 76 12 33 99 18 92 35 74 0 95 71 39 33 39 32 37 45 57 71 95 5 71 24 86 8 51 54 74 24 75 70 33 63 29 99 58 94 52 13 35 99 46 57 71 23 17 3 94 48 77 18 83 11 83 25 59 62 2 78 86 7 94 65 80 32 39 84 60 65 72 61 58 84 8 72 12 19 47 49 49 59 71 52 34 22 21 20 92 33 80 39 74 9 28 97 100 93 29 25 4 66 79 81 98 21 91 62 82 4 59 100 34 1 51 80 92 69 77 39 38 97 51 34 35 19 22 1 67 9 90 31 82 11 51 84 78 70 74 42 100 88 53 80 57 62 32 51 48 63 92 46 4 61 31 98 69 52 88 20 68 41 48 79 97 98 56 44 73 3 63 100 87 87 41 79 64 83 63 1 21 72 24 9 75 51 25 53 77 0 52 30 96 93 32 89 70 89 55 71 79 40 10 64 80 30 19 62 67 98 42 8 32 57 27 22 1 38 89 52 74 43 8 2 65 82 20 67 22 43 22 95 16 48 25 6 75 86 96 3 85 43 69 93 4 61 53 81 43 84 20 15 34 22 35 26 28 33 67 19 79 19 45 8 13 51 0 86 68 18 47 82 3 16 80 0 18 39 22 5 26 65 70 21 92 66 65 14 6 46 46 21 32 80 35 86 6 67 29 42 71 14 77 55 3 1 14 38 71 82 41 65 12 5 77 3 67 22 59 40 81 48 63 63 25 45 32 78 83 26 96 18 99 45 56 31 30 45 47 80 1 7 81 18 1 90 15 71 22 69 44 18 31 60 16 93 13 17 44 97 98 51 46 42 22 47 72 97 24 52 55 59 25 100 28 5 14 76 32 41 97 61 32 20 0 2 8 41 52 77 35 22 98 78 92 68 29 82 33 28 16 5 9 21 13 26 39 59 69 10 42 4 13 80 34 42 100 44 32 70 15 32 8 83 10 23 73 8 53 7 21 10 52 14 82 28 24 33 94 59 4 17 73 53 85 31 100 74 74 12 72 38 34 14 22 53 0 30 95 3 52 79 41 36 81 25 24 67 48 95 44 7 96 77 90 48 92 45 78 93 95 38 71 4 83 79 64 89 0 76 81 34 66 1 13 58 4 40 5 24 17 6 65 13 13 76 3 20 8 36 12 60 37 42 53 87 10 65 42 25 47 41 33 71 69 94 24 12 92 11 71 3 82 91 90 20 95 44 76 60 34 95 49 40 89 4 45 27 9 34 82 59 2 20 68 22 29 10 1 23 19 47 16 76 47 49 90 94 10 18 55 69 14 26 59 77 73 8 21 72 1 74 76 51 94 44 24 98 71 77 59 9 12 49 38 72 22 55 35 61 16 48 41 21 67 74 92 4 7 85 34 92 39 96 42 26 1 1 4 64 33 96 62 23 67 76 26 47 32 73 82 30 14 61 21 92 40 4 2 38 76 64 8 14 3 49 71 31 38 86 98 17 15 98 32 55 69 46 61 3 44 67 50 44 76 0 45 23 25 11 82 99 11 39 50 40 21 52 17 60 44 90 44 6 16 38 3 41 43 56 26 24 0 9 90 36 50 13 42 88 87 66 32 28 73 94 52 11 35 47 9 87 37 57 15 56 38 95 6 43 23 30 84 39 88 69 5 34 81 93 86 2 77 10 28 30 97 68 14 12 88 1 100 35 73 30 2 43 11 41 58 82 6 84 71 16 18 67 41 100 92 78 57 7 35 69 56 76 13 93 26 26 38 21 96 7 88 2 60 17 54 95 26 2 0 21 87 11 96 36 83 88 31 24 24 62 14 88 84 39 22 17 84 96 1 78 91 53 9 35 75 87 100 33 80 42 7 20 50 65 81 92 14 45 96 34 6 20 86 51 4 19 70 91 13 0 42 70 43 15 47 14 96 72 41 91 11 72 7 92 12 16 51 13 86 40 50 43 55 26 7 1 70 18 71 99 49 55 94 78 40 59 20 96 34 6 28 85 42 70 62 63 32 34 97 80 49 47 50 73 85 63 20 29 0 19 91 84 58 55 33 4 68 55 12 38 49 9 13 99 4 35 26 5 42 29 98 20 95 77 36 63 41 42 45 81 40 53 60 5 55 9 13 34 6 52 28 35 33 29 21 67 57 61 21 41 95 54 50 19 81 75 67 73 77 47 40 83 16 28\n",
      "#1 71\n"
     ]
    }
   ],
   "source": [
    "from collections import Counter\n",
    "\n",
    "for tc in range(1, int(input())+1):\n",
    "    int(input())\n",
    "    scores = map(int, input().split())\n",
    "    scores = Counter(scores).most_common(3)\n",
    "    scores.sort(key=lambda x: (-x[1], -x[0]))\n",
    "    print(f'#{tc} {scores[0][0]}')\n"
   ]
  },
  {
   "cell_type": "markdown",
   "id": "5323a2db",
   "metadata": {},
   "source": [
    "## 구구단 1\n",
    "https://swexpertacademy.com/main/code/problem/problemDetail.do?problemLevel=1&problemLevel=2&problemLevel=3&contestProbId=AXkcWgFa8sADFAS8&categoryId=AXkcWgFa8sADFAS8&categoryType=CODE&problemTitle=&orderBy=FIRST_REG_DATETIME&selectCodeLang=PYTHON&select-1=3&pageSize=10&pageIndex=2"
   ]
  },
  {
   "cell_type": "code",
   "execution_count": 18,
   "id": "d51f9a55",
   "metadata": {},
   "outputs": [
    {
     "data": {
      "text/plain": [
       "True"
      ]
     },
     "execution_count": 18,
     "metadata": {},
     "output_type": "execute_result"
    }
   ],
   "source": [
    "for tc in range(1, int(input())+1):\n",
    "    num = int(input())\n",
    "    ok = False\n",
    "\n",
    "    for i in range(1, 10):\n",
    "        temp = num / i\n",
    "        if temp == int(temp) and 1 <= temp <= 9:\n",
    "            ok = True\n",
    "    if ok:\n",
    "        print(f'#{tc} Yes')\n",
    "    else:\n",
    "        print(f'#{tc} No')"
   ]
  },
  {
   "cell_type": "markdown",
   "id": "8d11d15d",
   "metadata": {},
   "source": [
    "## 11387 몬스터 사냥\n",
    "https://swexpertacademy.com/main/code/problem/problemDetail.do?problemLevel=1&problemLevel=2&problemLevel=3&contestProbId=AXb6LR76vCcDFARR&categoryId=AXb6LR76vCcDFARR&categoryType=CODE&problemTitle=&orderBy=FIRST_REG_DATETIME&selectCodeLang=PYTHON&select-1=3&pageSize=10&pageIndex=2"
   ]
  },
  {
   "cell_type": "code",
   "execution_count": null,
   "id": "384b9d16",
   "metadata": {},
   "outputs": [],
   "source": [
    "for tc in range(1, int(input())+1):\n",
    "    D, L, N = map(int, input().split())\n",
    "    damage = n = 0\n",
    "    while True:\n",
    "        if n == N:\n",
    "            break\n",
    "        damage += D + D * n * L * (1 / 100)\n",
    "        n += 1\n",
    "\n",
    "    print(f'#{tc} {int(damage)}')"
   ]
  },
  {
   "cell_type": "code",
   "execution_count": 19,
   "id": "b2a375d6",
   "metadata": {},
   "outputs": [
    {
     "name": "stdout",
     "output_type": "stream",
     "text": [
      "3\n",
      "100 0 1\n",
      "#1 100\n",
      "200 12 10\n",
      "#2 3080\n",
      "10000 100 100\n",
      "#3 50500000\n"
     ]
    }
   ],
   "source": [
    "for tc in range(1, int(input())+1):\n",
    "    D, L, N = map(int, input().split())\n",
    "    damage = (D*N) + ((D*L*N*(N-1)/200))\n",
    "\n",
    "    print(f'#{tc} {int(damage)}')"
   ]
  },
  {
   "cell_type": "markdown",
   "id": "dc475d29",
   "metadata": {},
   "source": [
    "## 12221 구구단2\n",
    "https://swexpertacademy.com/main/code/problem/problemDetail.do?problemLevel=1&problemLevel=2&problemLevel=3&contestProbId=AXpz3dravpQDFATi&categoryId=AXpz3dravpQDFATi&categoryType=CODE&problemTitle=&orderBy=FIRST_REG_DATETIME&selectCodeLang=PYTHON&select-1=3&pageSize=10&pageIndex=1"
   ]
  },
  {
   "cell_type": "code",
   "execution_count": null,
   "id": "5ce39a90",
   "metadata": {},
   "outputs": [],
   "source": [
    "for tc in range(1, int(input())+1):\n",
    "    a, b = input().split()\n",
    "    if len(a) == 1 and len(b) == 1:\n",
    "        print(f'#{tc} {int(a)*int(b)}')\n",
    "    else:\n",
    "        print(f'#{tc} -1')"
   ]
  },
  {
   "cell_type": "markdown",
   "id": "aa0fa6bf",
   "metadata": {},
   "source": [
    "## 11856 반반\n",
    "https://swexpertacademy.com/main/code/problem/problemDetail.do?problemLevel=1&problemLevel=2&problemLevel=3&contestProbId=AXjS1GXqZ8gDFATi&categoryId=AXjS1GXqZ8gDFATi&categoryType=CODE&problemTitle=&orderBy=FIRST_REG_DATETIME&selectCodeLang=PYTHON&select-1=3&pageSize=10&pageIndex=2"
   ]
  },
  {
   "cell_type": "code",
   "execution_count": null,
   "id": "1366f94a",
   "metadata": {},
   "outputs": [],
   "source": [
    "from collections import Counter\n",
    "\n",
    "for tc in range(1, int(input())+1):\n",
    "    string = input()\n",
    "    string = Counter(string)\n",
    "\n",
    "    ok = True\n",
    "    for s in string.values():\n",
    "        if s != 2:\n",
    "            ok = False\n",
    "    if ok:\n",
    "        print(f'#{tc} Yes')\n",
    "    else:\n",
    "        print(f'#{tc} No')"
   ]
  },
  {
   "cell_type": "code",
   "execution_count": null,
   "id": "b448ed70",
   "metadata": {},
   "outputs": [],
   "source": [
    "for tc in range(1, int(input())+1):\n",
    "    string = input()\n",
    "    set_string = set(string)\n",
    "    \n",
    "    if len(set_string) == 2:\n",
    "        print(f'#{tc} Yes')\n",
    "    else:\n",
    "        print(f'#{tc} No')"
   ]
  },
  {
   "cell_type": "markdown",
   "id": "968e14b4",
   "metadata": {},
   "source": [
    "## 11736 평범한 숫자\n",
    "https://swexpertacademy.com/main/code/problem/problemDetail.do?problemLevel=1&problemLevel=2&problemLevel=3&contestProbId=AXhh-H-KwUcDFARQ&categoryId=AXhh-H-KwUcDFARQ&categoryType=CODE&problemTitle=&orderBy=FIRST_REG_DATETIME&selectCodeLang=PYTHON&select-1=3&pageSize=10&pageIndex=2"
   ]
  },
  {
   "cell_type": "code",
   "execution_count": null,
   "id": "4ecca020",
   "metadata": {},
   "outputs": [],
   "source": [
    "for tc in range(1, int(input())+1):\n",
    "    n = int(input())\n",
    "    nums = [0] + list(map(int, input().split()))\n",
    "    cnt = 0\n",
    "    for i in range(2, n):\n",
    "        if nums[i] != max(nums[i-1: i+2]) and nums[i] != min(nums[i-1:i+2]):\n",
    "            cnt += 1\n",
    "    print(f'#{tc} {cnt}')"
   ]
  },
  {
   "cell_type": "markdown",
   "id": "e5c1b7ea",
   "metadata": {},
   "source": [
    "## 11315 오목 판정\n",
    "https://swexpertacademy.com/main/code/problem/problemDetail.do?problemLevel=1&problemLevel=2&problemLevel=3&contestProbId=AXaSUPYqPYMDFASQ&categoryId=AXaSUPYqPYMDFASQ&categoryType=CODE&problemTitle=&orderBy=FIRST_REG_DATETIME&selectCodeLang=PYTHON&select-1=3&pageSize=10&pageIndex=2"
   ]
  },
  {
   "cell_type": "code",
   "execution_count": null,
   "id": "19bea533",
   "metadata": {},
   "outputs": [],
   "source": [
    "dx = [0, 0, 1, -1, -1, -1, 1, 1]\n",
    "dy = [1, -1, 0, 0, -1, 1, -1, 1]\n",
    "\n",
    "def move(i, j):\n",
    "    for k in range(8):\n",
    "        cnt = 4\n",
    "        while cnt:\n",
    "            i += dx[k]\n",
    "            j += dy[k]\n",
    "            if i < 0 or i >= n or j < 0 or j >= n:\n",
    "                i -= dx[k]\n",
    "                j -= dy[k]\n",
    "                break\n",
    "            if graph[i][j] != 'o':\n",
    "                i -= dx[k]\n",
    "                j -= dy[k]\n",
    "                break\n",
    "            cnt -= 1\n",
    "\n",
    "        if cnt == 0:\n",
    "            return True\n",
    "    return False\n",
    "\n",
    "for tc in range(1, int(input())+1):\n",
    "    n = int(input())\n",
    "    graph = [input() for _ in range(n)]\n",
    "\n",
    "    ok = False\n",
    "    for i in range(n):\n",
    "        for j in range(n):\n",
    "            if graph[i][j] == 'o':\n",
    "                if move(i, j):\n",
    "                    ok = True\n",
    "                    break\n",
    "        if ok:\n",
    "            break\n",
    "\n",
    "    if ok:\n",
    "        print(f'#{tc} YES')\n",
    "    else:\n",
    "        print(f'#{tc} NO')"
   ]
  },
  {
   "cell_type": "markdown",
   "id": "5d2af573",
   "metadata": {},
   "source": [
    "## 2819 격자판의 숫자 이어 붙이기\n",
    "https://swexpertacademy.com/main/code/problem/problemDetail.do?problemLevel=1&problemLevel=2&problemLevel=3&contestProbId=AV7I5fgqEogDFAXB&categoryId=AV7I5fgqEogDFAXB&categoryType=CODE&problemTitle=&orderBy=FIRST_REG_DATETIME&selectCodeLang=PYTHON&select-1=3&pageSize=10&pageIndex=1"
   ]
  },
  {
   "cell_type": "code",
   "execution_count": 6,
   "id": "8831a5f4",
   "metadata": {},
   "outputs": [
    {
     "name": "stdout",
     "output_type": "stream",
     "text": [
      "1 1 1 1\n",
      "1 1 1 2\n",
      "1 1 2 1\n",
      "1 1 1 1\n",
      "29\n"
     ]
    }
   ],
   "source": [
    "def dfs(i, j, s=''):\n",
    "    if i < 0 or i >= 4 or j < 0 or j >= 4:\n",
    "        return\n",
    "    \n",
    "    if len(s) == 7:\n",
    "        nums.add(s)\n",
    "        return\n",
    "    \n",
    "    dfs(i, j+1, s+graph[i][j])\n",
    "    dfs(i, j-1, s+graph[i][j])\n",
    "    dfs(i+1, j, s+graph[i][j])\n",
    "    dfs(i-1, j, s+graph[i][j])\n",
    "\n",
    "for tc in range(1, int(input())+1):\n",
    "    nums = set()\n",
    "    graph = [input().split() for _ in range(4)]\n",
    "\n",
    "    for i in range(4):\n",
    "        for j in range(4):\n",
    "            dfs(i, j)\n",
    "    \n",
    "\n",
    "    print(f'#{tc} {len(nums)}')"
   ]
  },
  {
   "cell_type": "markdown",
   "id": "01df9657",
   "metadata": {},
   "source": [
    "## 13229 일요일\n",
    "https://swexpertacademy.com/main/code/problem/problemDetail.do?problemLevel=1&problemLevel=2&problemLevel=3&problemLevel=4&contestProbId=AX0SaDW6L2oDFASs&categoryId=AX0SaDW6L2oDFASs&categoryType=CODE&problemTitle=&orderBy=FIRST_REG_DATETIME&selectCodeLang=PYTHON&select-1=4&pageSize=10&pageIndex=1"
   ]
  },
  {
   "cell_type": "code",
   "execution_count": null,
   "id": "300897fa",
   "metadata": {},
   "outputs": [],
   "source": [
    "for tc in range(1, int(input())+1):\n",
    "    s = input()\n",
    "\n",
    "    d = {\n",
    "        \"MON\": 6,\n",
    "        \"TUE\": 5,\n",
    "        \"WED\": 4,\n",
    "        \"THU\": 3,\n",
    "        \"FRI\": 2,\n",
    "        \"SAT\": 1,\n",
    "        \"SUN\": 7\n",
    "    }\n",
    "    print(f'#{tc} {d[s]}')"
   ]
  },
  {
   "cell_type": "markdown",
   "id": "4d4c9894",
   "metadata": {},
   "source": [
    "## 12222 문자열 나누기\n",
    "https://swexpertacademy.com/main/code/problem/problemDetail.do?problemLevel=1&problemLevel=2&problemLevel=3&problemLevel=4&contestProbId=AXpz5_AavskDFATi&categoryId=AXpz5_AavskDFATi&categoryType=CODE&problemTitle=&orderBy=FIRST_REG_DATETIME&selectCodeLang=PYTHON&select-1=4&pageSize=10&pageIndex=2"
   ]
  },
  {
   "cell_type": "code",
   "execution_count": null,
   "id": "2a01cc26",
   "metadata": {},
   "outputs": [],
   "source": [
    "for tc in range(1, int(input())+1):\n",
    "    s = input()\n",
    "    ans = len(s)\n",
    "    idx = 0\n",
    "    while True:\n",
    "        if s[idx] == s[idx+1]:\n",
    "            idx += 3\n",
    "            ans -= 1\n",
    "        else:\n",
    "            idx += 1\n",
    "        if idx >= len(s) - 1:\n",
    "            break\n",
    "    print(f'#{tc} {ans}')"
   ]
  },
  {
   "cell_type": "markdown",
   "id": "927e874a",
   "metadata": {},
   "source": [
    "## 13240 정사각형 글꼴\n",
    "https://swexpertacademy.com/main/code/problem/problemDetail.do?problemLevel=1&problemLevel=2&problemLevel=3&problemLevel=4&contestProbId=AX1Zl87ad94DFAQX&categoryId=AX1Zl87ad94DFAQX&categoryType=CODE&problemTitle=&orderBy=FIRST_REG_DATETIME&selectCodeLang=PYTHON&select-1=4&pageSize=10&pageIndex=1"
   ]
  },
  {
   "cell_type": "code",
   "execution_count": null,
   "id": "d807a718",
   "metadata": {},
   "outputs": [],
   "source": [
    "for tc in range(1, int(input())+1):\n",
    "    h, w, n = map(int, input().split())\n",
    "    words = input().split()\n",
    "    max_size = 1\n",
    "    l, r = 1, w\n",
    "\n",
    "    while l <= r:\n",
    "        m = (l+r) // 2\n",
    "        possible = True\n",
    "        remainW = w\n",
    "        remainH = h - m\n",
    "\n",
    "        for word in words:\n",
    "            needH = m\n",
    "            needW = m * len(word)\n",
    "            \n",
    "            if w < needW or (remainW < needW and remainH < needH):\n",
    "                possible = False\n",
    "                break\n",
    "            else:\n",
    "                if needW > remainW:\n",
    "                    remainW = w\n",
    "                    remainH -= needH\n",
    "                remainW -= needW + (m if needW + m <= remainW else 0)\n",
    "        if possible and max_size < m:\n",
    "            max_size = m\n",
    "            l, r = m + 1, r\n",
    "        else:\n",
    "            l, r = l, m - 1\n",
    "    print(f'#{tc} {max_size}')"
   ]
  },
  {
   "cell_type": "markdown",
   "id": "53ed5bef",
   "metadata": {},
   "source": [
    "## 14362 무한로봇\n",
    "https://swexpertacademy.com/main/code/problem/problemDetail.do?problemLevel=1&problemLevel=2&problemLevel=3&problemLevel=4&contestProbId=AYCne646vKQDFARx&categoryId=AYCne646vKQDFARx&categoryType=CODE&problemTitle=&orderBy=FIRST_REG_DATETIME&selectCodeLang=PYTHON&select-1=4&pageSize=10&pageIndex=1"
   ]
  },
  {
   "cell_type": "code",
   "execution_count": 8,
   "id": "24a247d1",
   "metadata": {},
   "outputs": [
    {
     "data": {
      "text/plain": [
       "3"
      ]
     },
     "execution_count": 8,
     "metadata": {},
     "output_type": "execute_result"
    }
   ],
   "source": [
    "dx, dy = [0, 1, 0, -1], [1, 0, -1, 0]\n",
    "\n",
    "for tc in range(1, int(input()) + 1):\n",
    "    orders = input()\n",
    "    ans = -int(1e9)\n",
    "    x = y = k = 0\n",
    "    ok = False\n",
    "    cnt = 1000\n",
    "    while cnt:\n",
    "        cnt -= 1\n",
    "        for o in orders:\n",
    "            if o == 'S':\n",
    "                x += dx[k]\n",
    "                y += dy[k]\n",
    "            elif o == 'L':\n",
    "                k -= 1\n",
    "                k %= 4\n",
    "            else:\n",
    "                k += 1\n",
    "                k %= 4\n",
    "            if ans < x*x + y*y:\n",
    "                ans = x*x + y*y\n",
    "\n",
    "        if x == 0 and y == 0:\n",
    "            ok = True\n",
    "            break\n",
    "    if ok:\n",
    "        print(f'#{tc} {ans}')\n",
    "    else:\n",
    "        print(f'#{tc} oo')"
   ]
  },
  {
   "cell_type": "markdown",
   "id": "2bcb8716",
   "metadata": {},
   "source": [
    "## 복제한 수열의 인버전 수\n",
    "https://swexpertacademy.com/main/code/problem/problemDetail.do?problemLevel=1&problemLevel=2&problemLevel=3&problemLevel=4&contestProbId=AX_N7oHac6QDFARi&categoryId=AX_N7oHac6QDFARi&categoryType=CODE&problemTitle=&orderBy=FIRST_REG_DATETIME&selectCodeLang=PYTHON&select-1=4&pageSize=10&pageIndex=1"
   ]
  },
  {
   "cell_type": "code",
   "execution_count": 3,
   "id": "6774a63b",
   "metadata": {},
   "outputs": [
    {
     "data": {
      "text/plain": [
       "1000"
      ]
     },
     "execution_count": 3,
     "metadata": {},
     "output_type": "execute_result"
    }
   ],
   "source": [
    "# 틀림\n",
    "for tc in range(1, int(input())+1):\n",
    "    n, k = map(int, input().split())\n",
    "    nums = list(map(int, input().split()))\n",
    "    d = [[0] * 2 for _ in range(n)]\n",
    "    for i in range(n):\n",
    "        for j in range(i+1, n):\n",
    "            if nums[i] > nums[j]:\n",
    "                d[i][0] += 1\n",
    "        d[i][0] *= k\n",
    "    for i in range(n):\n",
    "        for j in range(n):\n",
    "            if nums[i] > nums[j]:\n",
    "                d[i][1] += 1\n",
    "\n",
    "        d[i][1] *= (k-1)\n",
    "\n",
    "    print(f'#{tc} {sum(map(sum, d)) % (10**9+7)}')"
   ]
  },
  {
   "cell_type": "code",
   "execution_count": null,
   "id": "3ae58c91",
   "metadata": {},
   "outputs": [],
   "source": [
    "for tc in range(1, int(input())+1):\n",
    "    ans = 0\n",
    "    n, r = map(int, input().split(\" \"))\n",
    "    nums = list(map(int, input().split()))\n",
    "    dp = [[0]*2 for _ in range(n)]\n",
    "    for i in range(n):\n",
    "        for j in range(i):\n",
    "            if nums[i] > nums[j]:\n",
    "                dp[i][0] += 1\n",
    "        for j in range(i+1,n):\n",
    "            if nums[i] > nums[j]:\n",
    "                dp[i][1] += 1\n",
    "    for i in range(n):\n",
    "        ans+=(dp[i][0]+dp[i][1])*((r*(r-1))//2)+(dp[i][1])*r\n",
    "        ans %=1000000007\n",
    "\n",
    "    print(f'#{tc} {ans}')"
   ]
  },
  {
   "cell_type": "markdown",
   "id": "92d23025",
   "metadata": {},
   "source": [
    "## 13732 정사각형 판정\n",
    "https://swexpertacademy.com/main/code/problem/problemDetail.do?problemLevel=1&problemLevel=2&problemLevel=3&problemLevel=4&contestProbId=AX8BAN1qTwoDFARO&categoryId=AX8BAN1qTwoDFARO&categoryType=CODE&problemTitle=&orderBy=FIRST_REG_DATETIME&selectCodeLang=PYTHON&select-1=4&pageSize=10&pageIndex=1"
   ]
  },
  {
   "cell_type": "code",
   "execution_count": null,
   "id": "39d77e5b",
   "metadata": {},
   "outputs": [],
   "source": [
    "to_binary = lambda x: 1 if x=='#' else 0\n",
    "def search_one():\n",
    "    for i in range(N):\n",
    "        for j in range(N):\n",
    "            if data[i][j] == 1:\n",
    "                return i, j\n",
    "             \n",
    "T = int(input())\n",
    "for t in range(1,T+1):\n",
    "    N = int(input())\n",
    "    data = []\n",
    "    for _ in range(N):\n",
    "        data.append(list(map(to_binary, input())))\n",
    "     \n",
    "    ans = False\n",
    "    num = sum([sum(d) for d in data])\n",
    "    size = int(num**.5)\n",
    "    if num**.5 - size != 0:\n",
    "        ans = False\n",
    "    else:\n",
    "        i, j = search_one()\n",
    "        if sum([sum(d[j:j+size]) for d in data[i:i+size]]) == num:\n",
    "            ans = True\n",
    "    if ans: \n",
    "        print('#{} yes'.format(t))\n",
    "    else:\n",
    "        print('#{} no'.format(t))"
   ]
  },
  {
   "cell_type": "code",
   "execution_count": null,
   "id": "ceb8081a",
   "metadata": {},
   "outputs": [],
   "source": [
    "def search(y, x):\n",
    "    down, right = 0, 0\n",
    "    check = False\n",
    "    for i in range(y, N):\n",
    "        if board_list[i][x] == '#':\n",
    "            down += 1\n",
    "        else:\n",
    "            break\n",
    "    for i in range(y, y + down):\n",
    "        if not check:\n",
    "            for j in range(x, x + down):\n",
    "                if j < N and board_list[i][j] == '#':\n",
    "                    visited[i][j] = 1\n",
    "                else:\n",
    "                    check = True\n",
    "                    break\n",
    "    if not check:\n",
    "        return True\n",
    "    else:\n",
    "        return False\n",
    " \n",
    "\n",
    "for T in range(int(input())):\n",
    "    N = int(input())\n",
    "    board_list = list(input().rstrip() for _ in range(N))\n",
    "    visited = [[0] * N for _ in range(N)]\n",
    "    answer = []\n",
    "    for i in range(len(board_list)):\n",
    "        for j in range(len(board_list[i])):\n",
    "            if board_list[i][j] == '#' and not visited[i][j]:\n",
    "                answer.append(search(i, j))\n",
    "    if len(answer) != 1 or not answer[-1]:\n",
    "        answer = 'no'\n",
    "    else:\n",
    "        answer = 'yes'\n",
    " \n",
    "    print(\"#{} {}\".format(T + 1, answer))"
   ]
  }
 ],
 "metadata": {
  "kernelspec": {
   "display_name": "Python 3",
   "language": "python",
   "name": "python3"
  },
  "language_info": {
   "codemirror_mode": {
    "name": "ipython",
    "version": 3
   },
   "file_extension": ".py",
   "mimetype": "text/x-python",
   "name": "python",
   "nbconvert_exporter": "python",
   "pygments_lexer": "ipython3",
   "version": "3.8.8"
  }
 },
 "nbformat": 4,
 "nbformat_minor": 5
}
