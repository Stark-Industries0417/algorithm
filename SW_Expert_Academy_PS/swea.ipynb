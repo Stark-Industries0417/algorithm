{
 "cells": [
  {
   "cell_type": "markdown",
   "id": "22bb5bdc",
   "metadata": {},
   "source": [
    "## 1859. 백만 장자 프로젝트\n",
    "https://swexpertacademy.com/main/code/problem/problemDetail.do?contestProbId=AV5LrsUaDxcDFAXc"
   ]
  },
  {
   "cell_type": "code",
   "execution_count": null,
   "id": "fbe1633a",
   "metadata": {},
   "outputs": [],
   "source": [
    "# 내 풀이 시간초과\n",
    "\n",
    "t = int(input())\n",
    "for k in range(1, t+1):\n",
    "    n = int(input())\n",
    "    prices = list(map(int, input().split()))\n",
    "\n",
    "    money = count = 0\n",
    "    for i in range(n):\n",
    "        max_num = max(prices[i:])\n",
    "        if prices[i] == max_num:\n",
    "            money += count * max_num\n",
    "            count = 0\n",
    "        else:\n",
    "            money -= prices[i]\n",
    "            count += 1\n",
    "    print(f'#{k} {money}')"
   ]
  },
  {
   "cell_type": "code",
   "execution_count": null,
   "id": "468cdb82",
   "metadata": {},
   "outputs": [],
   "source": [
    "for tc in range(1, int(input())+1):\n",
    "    n = int(input())\n",
    "    prices = list(map(int, input().split()))\n",
    "    max_value = prices[-1]\n",
    "    profit = 0\n",
    "\n",
    "    for i in range(n-2, -1, -1):\n",
    "        if prices[i] >= max_value:\n",
    "            max_value = prices[i]\n",
    "        else:\n",
    "            profit += max_value - prices[i]\n",
    "\n",
    "    print(f'#{tc} {profit}')"
   ]
  },
  {
   "cell_type": "markdown",
   "id": "5b5f014d",
   "metadata": {},
   "source": [
    "## 1206 View\n",
    "https://swexpertacademy.com/main/code/problem/problemDetail.do?contestProbId=AV134DPqAA8CFAYh&categoryId=AV134DPqAA8CFAYh&categoryType=CODE&problemTitle=&orderBy=FIRST_REG_DATETIME&selectCodeLang=ALL&select-1=&pageSize=10&pageIndex=1"
   ]
  },
  {
   "cell_type": "code",
   "execution_count": null,
   "id": "d1bab6e1",
   "metadata": {},
   "outputs": [],
   "source": [
    "for tc in range(1, 11):\n",
    "    n = int(input())\n",
    "    builds = list(map(int, input().split()))\n",
    "    ans = 0\n",
    "    for i in range(2, n-2):\n",
    "        diff1 = builds[i] - builds[i-2]\n",
    "        diff2 = builds[i] - builds[i-1]\n",
    "        diff3 = builds[i] - builds[i+1]\n",
    "        diff4 = builds[i] - builds[i+2]\n",
    "\n",
    "        if diff1 > 0 and diff2 > 0 and diff3 > 0 and diff4 > 0:\n",
    "            ans += min(diff1, diff2, diff3, diff4)\n",
    "    \n",
    "    print(f'#{tc} {ans}')"
   ]
  },
  {
   "cell_type": "markdown",
   "id": "27394f82",
   "metadata": {},
   "source": [
    "## 1244 최대 상금\n",
    "https://swexpertacademy.com/main/code/problem/problemDetail.do?contestProbId=AV15Khn6AN0CFAYD&categoryId=AV15Khn6AN0CFAYD&categoryType=CODE&problemTitle=&orderBy=FIRST_REG_DATETIME&selectCodeLang=ALL&select-1=&pageSize=10&pageIndex=1"
   ]
  },
  {
   "cell_type": "code",
   "execution_count": 11,
   "id": "a14f656c",
   "metadata": {},
   "outputs": [
    {
     "data": {
      "text/plain": [
       "True"
      ]
     },
     "execution_count": 11,
     "metadata": {},
     "output_type": "execute_result"
    }
   ],
   "source": [
    "# 10번 테케 틀림\n",
    "\n",
    "for tc in range(1, int(input())+1):\n",
    "    nums, n = input().split()\n",
    "    n = int(n)\n",
    "    nums = list(nums)\n",
    "\n",
    "    ans = -int(1e9)\n",
    "\n",
    "    for _ in range(n):\n",
    "        for i in range(len(nums)):\n",
    "            for j in range(len(nums)):\n",
    "                li = nums[:]\n",
    "                if i == j:\n",
    "                    continue\n",
    "                li[i], li[j] = li[j], li[i]\n",
    "                temp = int(''.join(li))\n",
    "                if ans < temp:\n",
    "                    ans = temp\n",
    "                    a = li[:]\n",
    "        nums = a\n",
    "\n",
    "    print(f'#{tc} {ans}')\n"
   ]
  },
  {
   "cell_type": "code",
   "execution_count": 25,
   "id": "8e77bec9",
   "metadata": {},
   "outputs": [
    {
     "data": {
      "text/plain": [
       "{'data'}"
      ]
     },
     "execution_count": 25,
     "metadata": {},
     "output_type": "execute_result"
    }
   ],
   "source": [
    "for tc in range(1,int(input())+1):\n",
    "    data, K = input().split() # 숫자판의 정보, 교환횟수\n",
    "    K = int(K)\n",
    "    N = len(data)\n",
    "    now = set([data])\n",
    "    nxt = set()\n",
    "    for _ in range(K):\n",
    "        while now:\n",
    "            s = now.pop()\n",
    "            s = list(s)\n",
    "            for i in range(N):\n",
    "                for j in range(i+1,N):\n",
    "                    s[i],s[j] = s[j],s[i]\n",
    "                    nxt.add(''.join(s))\n",
    "                    s[i], s[j] = s[j], s[i]\n",
    "        now,nxt = nxt,now\n",
    "\n",
    "    print('#{} {}'.format(tc,max(map(int,now))))"
   ]
  },
  {
   "cell_type": "markdown",
   "id": "29e96d17",
   "metadata": {},
   "source": [
    "## 1954 달팽이 숫자\n",
    "https://swexpertacademy.com/main/code/problem/problemDetail.do?contestProbId=AV5PobmqAPoDFAUq&categoryId=AV5PobmqAPoDFAUq&categoryType=CODE&problemTitle=&orderBy=FIRST_REG_DATETIME&selectCodeLang=ALL&select-1=&pageSize=10&pageIndex=1"
   ]
  },
  {
   "cell_type": "code",
   "execution_count": 9,
   "id": "49cb308d",
   "metadata": {},
   "outputs": [
    {
     "data": {
      "text/plain": [
       "-4"
      ]
     },
     "execution_count": 9,
     "metadata": {},
     "output_type": "execute_result"
    }
   ],
   "source": [
    "for tc in range(1, int(input())+1):\n",
    "    n = int(input())\n",
    "\n",
    "    snail = [[0] * n for _ in range(n)]\n",
    "    cnt = 1\n",
    "    for k in range(-(-n // 2)):\n",
    "        for i in range(k, n-k):\n",
    "            snail[k][i] = cnt\n",
    "            cnt += 1\n",
    "        \n",
    "        for i in range(k+1, n-k):\n",
    "            snail[i][n-k-1] = cnt\n",
    "            cnt += 1\n",
    "\n",
    "        for i in range(n-k-2, k-1, -1):\n",
    "            snail[n-k-1][i] = cnt\n",
    "            cnt += 1\n",
    "        \n",
    "        for i in range(n-k-2, k, -1):\n",
    "            snail[i][k] = cnt\n",
    "            cnt += 1\n",
    "\n",
    "    print(f'#{tc}')\n",
    "    for i in range(n):\n",
    "        print(*snail[i])"
   ]
  },
  {
   "cell_type": "markdown",
   "id": "06c7407e",
   "metadata": {},
   "source": [
    "## 13428 숫자조작\n",
    "https://swexpertacademy.com/main/code/problem/problemDetail.do?problemLevel=1&problemLevel=2&problemLevel=3&contestProbId=AX4EJPs68IkDFARe&categoryId=AX4EJPs68IkDFARe&categoryType=CODE&problemTitle=&orderBy=FIRST_REG_DATETIME&selectCodeLang=PYTHON&select-1=3&pageSize=10&pageIndex=1"
   ]
  },
  {
   "cell_type": "code",
   "execution_count": null,
   "id": "809915c1",
   "metadata": {},
   "outputs": [],
   "source": [
    "for tc in range(1, int(input())+1):\n",
    "    n = input()\n",
    "    lin = list(n)\n",
    "    maxn = minn = int(n)\n",
    "    for i in range(len(n)):\n",
    "        for j in range(i+1, len(n)):\n",
    "            lin[i], lin[j] = lin[j], lin[i]\n",
    "            temp = ''.join(lin)\n",
    "            if temp[0] != '0':\n",
    "                temp = int(temp)\n",
    "                if maxn < temp:\n",
    "                    maxn = temp\n",
    "                if minn > temp:\n",
    "                    minn = temp\n",
    "            lin[i], lin[j] = lin[j], lin[i]\n",
    "            \n",
    "    print(f'#{tc} {minn} {maxn}')"
   ]
  }
 ],
 "metadata": {
  "kernelspec": {
   "display_name": "Python 3",
   "language": "python",
   "name": "python3"
  },
  "language_info": {
   "codemirror_mode": {
    "name": "ipython",
    "version": 3
   },
   "file_extension": ".py",
   "mimetype": "text/x-python",
   "name": "python",
   "nbconvert_exporter": "python",
   "pygments_lexer": "ipython3",
   "version": "3.8.8"
  }
 },
 "nbformat": 4,
 "nbformat_minor": 5
}
