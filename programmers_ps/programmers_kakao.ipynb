{
 "cells": [
  {
   "cell_type": "markdown",
   "id": "33bfa95c",
   "metadata": {},
   "source": [
    "## 신고 결과 받기\n",
    "https://programmers.co.kr/learn/courses/30/lessons/92334?language=python3"
   ]
  },
  {
   "cell_type": "code",
   "execution_count": null,
   "id": "908c373c",
   "metadata": {},
   "outputs": [],
   "source": [
    "from collections import defaultdict\n",
    "\n",
    "def solution(id_list, report, k):\n",
    "    answer = []\n",
    "    report = list(set(report))\n",
    "    report_cnt = defaultdict(int)    \n",
    "    who_report = defaultdict(list)\n",
    "    mail = defaultdict(int)\n",
    "\n",
    "    for r in report:\n",
    "        suit, reported = r.split()\n",
    "        report_cnt[reported] += 1\n",
    "        who_report[reported].append(suit)\n",
    "    \n",
    "    for user, cnt in report_cnt.items():\n",
    "        if cnt >= k:\n",
    "            for who in who_report[user]:\n",
    "                mail[who] += 1\n",
    "    for user_id in id_list:\n",
    "        answer.append(mail[user_id])\n",
    "        \n",
    "    return answer"
   ]
  },
  {
   "cell_type": "code",
   "execution_count": null,
   "id": "de21e586",
   "metadata": {},
   "outputs": [],
   "source": [
    "def solution(id_list, report, k):\n",
    "    answer = [0] * len(id_list)\n",
    "    report = set(report)\n",
    "    reported_cnt = {name: 0 for name in id_list} \n",
    "    \n",
    "    for r in report:\n",
    "        reported_cnt[r.split()[1]] += 1\n",
    "        \n",
    "    for r in report:\n",
    "        if reported_cnt[r.split()[1]] >= k:\n",
    "            answer[id_list.index(r.split()[0])] += 1\n",
    "    return answer"
   ]
  },
  {
   "cell_type": "markdown",
   "id": "f80bda3d",
   "metadata": {},
   "source": [
    "## 신규 아이디 추천\n",
    "https://programmers.co.kr/learn/courses/30/lessons/72410"
   ]
  },
  {
   "cell_type": "code",
   "execution_count": null,
   "id": "50d622db",
   "metadata": {},
   "outputs": [],
   "source": [
    "def solution(new_id):\n",
    "    new_id = new_id.lower()\n",
    "\n",
    "    for ch in new_id:\n",
    "        if not(ch.isalpha() or ch.isdigit() or ch == \"-\" or ch == \"_\" or ch == \".\"):\n",
    "            new_id = new_id.replace(ch, \"\")\n",
    "            \n",
    "    while new_id.find(\"..\") != -1:\n",
    "        new_id = new_id.replace(\"..\", \".\")\n",
    "    \n",
    "    if new_id and new_id[0] == \".\":\n",
    "        new_id = new_id[1:]\n",
    "    if new_id and new_id[-1] == \".\":\n",
    "        new_id = new_id[:-1]\n",
    "    \n",
    "    if new_id == \"\":\n",
    "        new_id = \"a\"\n",
    "    \n",
    "    if len(new_id) >= 16:\n",
    "        new_id = new_id[:15]\n",
    "    if new_id[-1] == \".\":\n",
    "        new_id = new_id[:-1]\n",
    "    \n",
    "    while len(new_id) <= 2:\n",
    "        new_id += new_id[-1]\n",
    "    \n",
    "    return new_id"
   ]
  },
  {
   "cell_type": "code",
   "execution_count": 25,
   "id": "82e3c3a0",
   "metadata": {},
   "outputs": [
    {
     "data": {
      "text/plain": [
       "'q.aw.ef.'"
      ]
     },
     "execution_count": 25,
     "metadata": {},
     "output_type": "execute_result"
    }
   ],
   "source": [
    "import re\n",
    "def solution(new_id):\n",
    "    new_id = new_id.lower()\n",
    "    new_id = re.sub('[^a-z0-9\\-_.]', '', new_id)\n",
    "    new_id = re.sub('[.]+', '.', new_id)\n",
    "    new_id = re.sub('^[.]|[.]$', '', new_id)\n",
    "    new_id = 'a' if new_id == '' else new_id[:15]\n",
    "    new_id = re.sub('[.]$', '', new_id)\n",
    "    new_id = new_id  if not len(new_id) <= 2 else new_id + ''.join(new_id[-1] for _ in range(3 - len(new_id)))\n",
    "    return new_id"
   ]
  },
  {
   "cell_type": "code",
   "execution_count": 2,
   "id": "8c81c363",
   "metadata": {},
   "outputs": [
    {
     "data": {
      "text/plain": [
       "'abcdefghijklmn'"
      ]
     },
     "execution_count": 2,
     "metadata": {},
     "output_type": "execute_result"
    }
   ],
   "source": [
    "import re\n",
    "def solution(new_id):\n",
    "    new_id = new_id.lower()\n",
    "    new_id = re.sub('[^a-z0-9\\-_.]', '', new_id)\n",
    "    new_id = re.sub('[.]+', '.', new_id)\n",
    "    new_id = re.sub('^[.]|[.]$', '', new_id)\n",
    "    new_id = 'a' if new_id == '' else new_id[:15]\n",
    "    new_id = re.sub('[.]$', '', new_id)\n",
    "    new_id = new_id  if not len(new_id) <= 2 else new_id + new_id[-1] * (3 - len(new_id))\n",
    "    return new_id\n",
    "\n",
    "solution(\"abcdefghijklmn.p\")"
   ]
  },
  {
   "cell_type": "markdown",
   "id": "99154353",
   "metadata": {},
   "source": [
    "## 문자열 압축\n",
    "https://programmers.co.kr/learn/courses/30/lessons/60057"
   ]
  },
  {
   "cell_type": "code",
   "execution_count": null,
   "id": "2efce294",
   "metadata": {},
   "outputs": [],
   "source": [
    "def solution(s):\n",
    "    result = []\n",
    "    if len(s) == 1:\n",
    "        return 1\n",
    "    for i in range(1, len(s)//2 + 1):\n",
    "        b = ''\n",
    "        cnt = 1\n",
    "        tmp = s[:i]\n",
    "        for j in range(i, len(s), i):\n",
    "            if tmp == s[j:i+j]:\n",
    "                cnt += 1\n",
    "            else:\n",
    "                if cnt != 1:\n",
    "                    b += str(cnt) + tmp\n",
    "                else:\n",
    "                    b += tmp\n",
    "                tmp = s[j:i+j]\n",
    "                cnt = 1\n",
    "        if cnt != 1:\n",
    "            b += str(cnt) + tmp\n",
    "        else:\n",
    "            b += tmp\n",
    "        result.append(len(b))\n",
    "    return min(result)"
   ]
  },
  {
   "cell_type": "markdown",
   "id": "a19d32bd",
   "metadata": {},
   "source": [
    "## 오픈채팅방\n",
    "https://programmers.co.kr/learn/courses/30/lessons/42888"
   ]
  },
  {
   "cell_type": "code",
   "execution_count": null,
   "id": "9f32c653",
   "metadata": {},
   "outputs": [],
   "source": [
    "def solution(record):\n",
    "    result = []\n",
    "    id = {}\n",
    "    for r in record:\n",
    "        r = r.split()\n",
    "        if r[0] in ['Enter', 'Change']:\n",
    "            id[r[1]] = r[2] \n",
    "\n",
    "    for r in record:\n",
    "        r = r.split()\n",
    "        if r[0] == 'Enter':\n",
    "            result.append(f'{id[r[1]]}님이 들어왔습니다.')\n",
    "        elif r[0] == 'Leave':\n",
    "            result.append(f'{id[r[1]]}님이 나갔습니다.')\n",
    "    return result"
   ]
  },
  {
   "cell_type": "markdown",
   "id": "3977b851",
   "metadata": {},
   "source": [
    "## 숫자 문자열과 영단어\n",
    "https://programmers.co.kr/learn/courses/30/lessons/81301"
   ]
  },
  {
   "cell_type": "code",
   "execution_count": null,
   "id": "3301527b",
   "metadata": {},
   "outputs": [],
   "source": [
    "def solution(s):\n",
    "    if s.isdigit():\n",
    "        return int(s)\n",
    "\n",
    "    result = ''\n",
    "    en = {\n",
    "        'zero': 0,\n",
    "        'one': 1,\n",
    "        'two': 2,\n",
    "        'three': 3,\n",
    "        'four': 4,\n",
    "        'five': 5,\n",
    "        'six': 6,\n",
    "        'seven': 7,\n",
    "        'eight': 8,\n",
    "        'nine': 9\n",
    "    }\n",
    "    idx = 0\n",
    "    for i, ch in enumerate(s):\n",
    "        if ch.isalpha():\n",
    "            for key in en.keys():\n",
    "                if s[idx:i] == key:\n",
    "                    result += str(en[key])\n",
    "                    idx = i\n",
    "                    break\n",
    "        else:\n",
    "            for key in en.keys():\n",
    "                if s[idx:i] == key:\n",
    "                    result += str(en[key])\n",
    "                    break\n",
    "            idx = i+1\n",
    "            result += str(ch)\n",
    "\n",
    "    for key in en.keys():\n",
    "        if s[idx:len(s)] == key:\n",
    "            result += str(en[key])\n",
    "\n",
    "    return int(result)\n",
    "\n",
    "print(solution(\"23four5six7\"))"
   ]
  },
  {
   "cell_type": "code",
   "execution_count": null,
   "id": "4f1a45ae",
   "metadata": {},
   "outputs": [],
   "source": [
    "en = {\n",
    "        'zero': '0',\n",
    "        'one': '1',\n",
    "        'two': '2',\n",
    "        'three': '3',\n",
    "        'four': '4',\n",
    "        'five': '5',\n",
    "        'six': '6',\n",
    "        'seven': '7',\n",
    "        'eight': '8',\n",
    "        'nine': '9'\n",
    "    }\n",
    "\n",
    "def solution(s):\n",
    "    answer = s\n",
    "    for key, value in en.items():\n",
    "        answer = answer.replace(key, value)\n",
    "    return int(answer)\n",
    "\n",
    "print(solution(\"oneone23four5six7\"))"
   ]
  },
  {
   "cell_type": "markdown",
   "id": "f74b7cd1",
   "metadata": {},
   "source": [
    "## 키패드 누르기\n",
    "https://programmers.co.kr/learn/courses/30/lessons/67256"
   ]
  },
  {
   "cell_type": "code",
   "execution_count": 4,
   "id": "018c0dbc",
   "metadata": {},
   "outputs": [
    {
     "name": "stdout",
     "output_type": "stream",
     "text": [
      "LRLLRRLLLRR\n"
     ]
    }
   ],
   "source": [
    "def solution(numbers, hand):\n",
    "    result = ''\n",
    "    l, r = 10, 12\n",
    "    for n in numbers:\n",
    "        if n in [1, 4, 7]:\n",
    "            l = n\n",
    "            result += 'L'\n",
    "\n",
    "        elif n in [3, 6, 9]:\n",
    "            r = n\n",
    "            result += 'R'\n",
    "        else:\n",
    "            if n == 0:\n",
    "                n = 11\n",
    "            l_x, l_y = (l-1)//3, (l-1)%3\n",
    "            r_x, r_y = (r-1)//3, (r-1)%3\n",
    "            n_x, n_y = (n-1)//3, (n-1)%3\n",
    "            left = abs(l_x-n_x) + abs(l_y-n_y)\n",
    "            right = abs(r_x-n_x) + abs(r_y-n_y)\n",
    "\n",
    "            if left < right:\n",
    "                l = n\n",
    "                result += 'L'\n",
    "            elif left > right:\n",
    "                r = n\n",
    "                result += 'R'\n",
    "            else:\n",
    "                if hand == 'right':\n",
    "                    r = n\n",
    "                    result += 'R'\n",
    "                else:\n",
    "                    l = n\n",
    "                    result += 'L'\n",
    "    print(result)\n",
    "\n",
    "solution([1, 2, 3, 4, 5, 6, 7, 8, 9, 0], \"right\")"
   ]
  },
  {
   "cell_type": "code",
   "execution_count": null,
   "id": "8cb378d4",
   "metadata": {},
   "outputs": [],
   "source": [
    "def solution(numbers, hand):\n",
    "    answer = ''\n",
    "    key_dict = {1:(0,0),2:(0,1),3:(0,2),\n",
    "                4:(1,0),5:(1,1),6:(1,2),\n",
    "                7:(2,0),8:(2,1),9:(2,2),\n",
    "                '*':(3,0),0:(3,1),'#':(3,2)}\n",
    "\n",
    "    left = [1,4,7]\n",
    "    right = [3,6,9]\n",
    "    lhand = '*'\n",
    "    rhand = '#'\n",
    "    for i in numbers:\n",
    "        if i in left:\n",
    "            answer += 'L'\n",
    "            lhand = i\n",
    "        elif i in right:\n",
    "            answer += 'R'\n",
    "            rhand = i\n",
    "        else:\n",
    "            curPos = key_dict[i]\n",
    "            lPos = key_dict[lhand]\n",
    "            rPos = key_dict[rhand]\n",
    "            ldist = abs(curPos[0]-lPos[0]) + abs(curPos[1]-lPos[1])\n",
    "            rdist = abs(curPos[0]-rPos[0]) + abs(curPos[1]-rPos[1])\n",
    "\n",
    "            if ldist < rdist:\n",
    "                answer += 'L'\n",
    "                lhand = i\n",
    "            elif ldist > rdist:\n",
    "                answer += 'R'\n",
    "                rhand = i\n",
    "            else:\n",
    "                if hand == 'left':\n",
    "                    answer += 'L'\n",
    "                    lhand = i\n",
    "                else:\n",
    "                    answer += 'R'\n",
    "                    rhand = i\n",
    "\n",
    "    return answer"
   ]
  },
  {
   "cell_type": "markdown",
   "id": "36542b84",
   "metadata": {},
   "source": [
    "## 크레인 인형뽑기 게임\n",
    "https://programmers.co.kr/learn/courses/30/lessons/64061"
   ]
  },
  {
   "cell_type": "code",
   "execution_count": 3,
   "id": "373aed91",
   "metadata": {},
   "outputs": [
    {
     "data": {
      "text/plain": [
       "[[5, 1, 2, 3], [2, 3, 4]]"
      ]
     },
     "execution_count": 3,
     "metadata": {},
     "output_type": "execute_result"
    }
   ],
   "source": [
    "def solution(board, moves):\n",
    "    stack = []\n",
    "    result = 0\n",
    "    moves = list(map(lambda x: x-1, moves))\n",
    "    for y in moves:\n",
    "        for x in range(len(board)):\n",
    "            if board[x][y]:\n",
    "                stack.append(board[x][y])\n",
    "                board[x][y] = 0\n",
    "                break\n",
    "\n",
    "        if len(stack) > 1:\n",
    "            if stack[-2] == stack[-1]:\n",
    "                stack.pop(-1)\n",
    "                stack.pop(-1)\n",
    "                result += 2\n",
    "            \n",
    "    return result \n",
    "\n",
    "\n",
    "print(solution([[0,0,0,0,0],[0,0,1,0,3],[0,2,5,0,1],[4,2,4,4,2],[3,5,1,3,1]], [1,5,3,5,1,2,1,4]))"
   ]
  },
  {
   "cell_type": "markdown",
   "id": "c9f5997a",
   "metadata": {},
   "source": [
    "## 메뉴 리뉴얼\n",
    "https://programmers.co.kr/learn/courses/30/lessons/72411"
   ]
  },
  {
   "cell_type": "code",
   "execution_count": 13,
   "id": "800814a9",
   "metadata": {},
   "outputs": [
    {
     "data": {
      "text/plain": [
       "Counter({'x': 2, 'y': 2, 'z': 2})"
      ]
     },
     "execution_count": 13,
     "metadata": {},
     "output_type": "execute_result"
    }
   ],
   "source": [
    "from itertools import combinations\n",
    "from collections import Counter\n",
    "\n",
    "def solution(orders, course):\n",
    "    answer = []\n",
    "    for c in course:\n",
    "        temp = []\n",
    "        for o in orders:\n",
    "            combi = combinations(sorted(o), c)\n",
    "            temp += combi\n",
    "        counter = Counter(temp)\n",
    "        if len(counter) and max(counter.values()) != 1:\n",
    "            answer += [''.join(key) for key in counter if counter[key] == max(counter.values())]\n",
    "\n",
    "    return sorted(answer)\n",
    "\n",
    "\n",
    "print(solution([\"ABCFG\", \"AC\", \"CDE\", \"ACDE\", \"BCFG\", \"ACDEH\"], [2,3,4]))"
   ]
  },
  {
   "cell_type": "code",
   "execution_count": null,
   "id": "39b15040",
   "metadata": {},
   "outputs": [],
   "source": [
    "from itertools import combinations\n",
    "from collections import Counter\n",
    "\n",
    "\n",
    "def solution(orders, course):\n",
    "    answer = []\n",
    "\n",
    "    for c in course:\n",
    "        MAX = -int(1e9)\n",
    "        counter = Counter()\n",
    "        for order in orders:\n",
    "            combi = combinations(sorted(order), c)\n",
    "            counter.update(combi)\n",
    "        for k, v in counter.most_common():\n",
    "            if MAX <= v and v >= 2:\n",
    "                MAX = v\n",
    "                answer.append(''.join(k))\n",
    "    return sorted(answer)\n",
    "\n",
    "solution([\"ABCDE\", \"AB\", \"CD\", \"ADE\", \"XYZ\", \"XYZ\", \"ACD\"], [2,3,5])"
   ]
  },
  {
   "cell_type": "markdown",
   "id": "946610c2",
   "metadata": {},
   "source": [
    "## 괄호 변환\n",
    "https://programmers.co.kr/learn/courses/30/lessons/60058"
   ]
  },
  {
   "cell_type": "code",
   "execution_count": null,
   "id": "934787ba",
   "metadata": {},
   "outputs": [],
   "source": [
    "def divide(p):\n",
    "    cnt = 0\n",
    "    for i in range(len(p)):\n",
    "        if p[i]== '(':\n",
    "            cnt += 1\n",
    "        else:\n",
    "            cnt -= 1\n",
    "        if cnt == 0:\n",
    "            return p[:i+1], p[i+1:]\n",
    "\n",
    "def check(u):\n",
    "    stack = []\n",
    "    for c in u:\n",
    "        if c == '(':\n",
    "            stack.append(c)\n",
    "        else:\n",
    "            if not stack:\n",
    "                return False\n",
    "            stack.pop()\n",
    "    return True\n",
    "\n",
    "\n",
    "def solution(p):\n",
    "    if not p:\n",
    "        return ''\n",
    "    u, v = divide(p)\n",
    "    if check(u):\n",
    "        return u + solution(v)\n",
    "    else:\n",
    "        answer = '('\n",
    "        answer += solution(v)\n",
    "        answer += ')'\n",
    "        for c in u[1:len(u)-1]:\n",
    "            if c == '(':\n",
    "                answer += ')'\n",
    "            else:\n",
    "                answer += '('\n",
    "        return answer\n",
    "\n",
    "print(solution(\"(()())()\"))"
   ]
  },
  {
   "cell_type": "markdown",
   "id": "77b28965",
   "metadata": {},
   "source": [
    "## 실패율\n",
    "https://programmers.co.kr/learn/courses/30/lessons/42889"
   ]
  },
  {
   "cell_type": "code",
   "execution_count": null,
   "id": "45f67c3c",
   "metadata": {},
   "outputs": [],
   "source": [
    "from collections import Counter\n",
    "\n",
    "def solution(N, stages):\n",
    "    answer = []\n",
    "    cnt = Counter(stages)\n",
    "    for n in range(1, N+1):\n",
    "        try:\n",
    "            answer.append((cnt[n] / sum(cnt[i] for i in cnt.keys() if i >= n), n))\n",
    "        except:\n",
    "            answer.append((0, n))\n",
    "    answer.sort(key=lambda x: (-x[0], x[1]))\n",
    "    return [i[1] for i in answer]\n",
    "\n",
    "print(solution(5, [3, 3, 3, 3]))"
   ]
  },
  {
   "cell_type": "code",
   "execution_count": 5,
   "id": "26b1f957",
   "metadata": {},
   "outputs": [
    {
     "data": {
      "text/plain": [
       "[3, 1, 2, 4, 5]"
      ]
     },
     "execution_count": 5,
     "metadata": {},
     "output_type": "execute_result"
    }
   ],
   "source": [
    "def solution(N, stages):\n",
    "    answer = {}\n",
    "    success = len(stages)\n",
    "    for stage in range(1, N+1):\n",
    "        if success != 0:\n",
    "            fail = stages.count(stage)\n",
    "            answer[stage] = fail/success\n",
    "            success -= fail\n",
    "        else:\n",
    "            answer[stage] = 0\n",
    "    return sorted(answer, key=lambda x: answer[x], reverse=True)\n",
    "\n",
    "solution(5, [3, 3, 3, 3])"
   ]
  },
  {
   "cell_type": "code",
   "execution_count": null,
   "id": "771b443a",
   "metadata": {},
   "outputs": [],
   "source": [
    "from collections import Counter\n",
    "\n",
    "def solution(N, stages):\n",
    "    answer = {}\n",
    "    cnt = Counter(stages)\n",
    "    for n in range(1, N+1):\n",
    "        try:\n",
    "            answer[n] = cnt[n] / sum(cnt[i] for i in cnt.keys() if i >= n)\n",
    "        except:\n",
    "            answer[n] = 0\n",
    "    return sorted(answer, key=lambda x: -answer[x])\n",
    "\n",
    "print(solution(5, [3, 3, 3, 3]))"
   ]
  },
  {
   "cell_type": "markdown",
   "id": "baea1e9f",
   "metadata": {},
   "source": [
    "## 뉴스 클러스터링\n",
    "https://programmers.co.kr/learn/courses/30/lessons/17677"
   ]
  },
  {
   "cell_type": "code",
   "execution_count": null,
   "id": "92607188",
   "metadata": {},
   "outputs": [],
   "source": [
    "from collections import Counter\n",
    "\n",
    "def solution(str1, str2):\n",
    "    str1, str2 = str1.lower(), str2.lower()\n",
    "    str1_li, str2_li = [], []\n",
    "    for i in range(len(str1)-1):\n",
    "        if str1[i].isalpha() and str1[i+1].isalpha():\n",
    "            str1_li.append(str1[i:i+2])\n",
    "    \n",
    "    for i in range(len(str2)-1):\n",
    "        if str2[i].isalpha() and str2[i+1].isalpha():\n",
    "            str2_li.append(str2[i:i+2])\n",
    "    \n",
    "    counter1 = Counter(str1_li)\n",
    "    counter2 = Counter(str2_li)\n",
    "    inter = list((counter1 & counter2).elements())\n",
    "    union = list((counter1 | counter2).elements())\n",
    "    \n",
    "    if len(union) == 0:\n",
    "        return 65536\n",
    "    else:\n",
    "        return int(len(inter)/len(union) * 65536)"
   ]
  },
  {
   "cell_type": "code",
   "execution_count": 5,
   "id": "9e97cb26",
   "metadata": {},
   "outputs": [
    {
     "data": {
      "text/plain": [
       "(Counter({1: 3, 2: 1}), Counter({1: 4, 2: 2}))"
      ]
     },
     "execution_count": 5,
     "metadata": {},
     "output_type": "execute_result"
    }
   ],
   "source": [
    "from collections import Counter\n",
    "\n",
    "a = [1,1,1, 2, 2]\n",
    "b = [1,1,1,1, 2]\n",
    "counterA = Counter(a)\n",
    "counterB = Counter(b)\n",
    "\n",
    "counterA & counterB, counterA | counterB"
   ]
  },
  {
   "cell_type": "code",
   "execution_count": 6,
   "id": "7d9ecd22",
   "metadata": {},
   "outputs": [
    {
     "name": "stdout",
     "output_type": "stream",
     "text": [
      "43690\n"
     ]
    }
   ],
   "source": [
    "import re\n",
    "\n",
    "def solution(str1, str2):\n",
    "    str1 = str1.lower()\n",
    "    str2 = str2.lower()\n",
    "    str1_li = [str1[i:i+2] for i in range(len(str1)-1) if str1[i].isalpha() and str1[i+1].isalpha()]\n",
    "    str2_li = [str2[i:i+2] for i in range(len(str2)-1) if str2[i].isalpha() and str2[i+1].isalpha()]\n",
    "\n",
    "    agg = str1_li.copy()\n",
    "    temp = str1_li.copy()\n",
    "    inter = []\n",
    "\n",
    "    for i in str2_li:\n",
    "        if i not in temp:\n",
    "            agg.append(i)\n",
    "        else:\n",
    "            temp.remove(i)\n",
    "\n",
    "    for i in str2_li:\n",
    "        if i in str1_li:\n",
    "            str1_li.remove(i)\n",
    "            inter.append(i)\n",
    "    if len(agg) == 0:\n",
    "        return 65536\n",
    "    else:\n",
    "        answer = int(len(inter)/len(agg)*65536)\n",
    "    return answer\n",
    "\n",
    "print(solution('aa1+aa2', 'AAAA12'))"
   ]
  },
  {
   "cell_type": "markdown",
   "id": "35e3dbf1",
   "metadata": {},
   "source": [
    "## 거리두기 확인하기\n",
    "https://programmers.co.kr/learn/courses/30/lessons/81302"
   ]
  },
  {
   "cell_type": "code",
   "execution_count": null,
   "id": "d7ff7d33",
   "metadata": {},
   "outputs": [],
   "source": [
    "from collections import deque\n",
    "\n",
    "dx, dy = [0, 0, 1, -1], [1, -1, 0, 0]\n",
    "\n",
    "def bfs(p, i, j, d):\n",
    "    q = deque([i, j, d])\n",
    "    visited = [[False] * 5 for _ in range(5)]\n",
    "    visited[i][j] = True\n",
    "\n",
    "    while q:\n",
    "        x, y, d = q.popleft()\n",
    "        for k in range(4):\n",
    "            nx, ny, nd = x+dx[k], y+dy[k], d+1\n",
    "            if 0 <= nx < 5 and 0 <= ny < 5 and not visited[nx][ny]:\n",
    "                visited[nx][ny] = True\n",
    "                if p[nx][ny] == 'P':\n",
    "                    if nd <= 2:\n",
    "                        return False\n",
    "                elif p[nx][ny] == 'O':\n",
    "                    if nd == 1:\n",
    "                        q.append([nx, ny, nd])\n",
    "    return True\n",
    "                    \n",
    "\n",
    "def solution(places):\n",
    "    answer = []\n",
    "    flag = 1\n",
    "    for place in places:\n",
    "        for i in range(5):\n",
    "            for j in range(5):\n",
    "                if place[i][j] == 'P':\n",
    "                    if not bfs(place, i, j, 0):\n",
    "                        flag = 0\n",
    "        answer.append(flag)\n",
    "    return answer\n",
    "\n",
    "print(solution([[\"POOOP\", \"OXXOX\", \"OPXPX\", \"OOXOX\", \"POXXP\"], [\"POOPX\", \"OXPXP\", \"PXXXO\", \"OXXXO\", \"OOOPP\"], [\"PXOPX\", \"OXOXP\", \"OXPOX\", \"OXXOP\", \"PXPOX\"], [\"OOOXX\", \"XOOOX\", \"OOOXX\", \"OXOOX\", \"OOOOO\"], [\"PXPXP\", \"XPXPX\", \"PXPXP\", \"XPXPX\", \"PXPXP\"]]))"
   ]
  },
  {
   "cell_type": "markdown",
   "id": "ab3c9ba0",
   "metadata": {},
   "source": [
    "## 수식 최대화\n",
    "https://programmers.co.kr/learn/courses/30/lessons/67257"
   ]
  },
  {
   "cell_type": "code",
   "execution_count": null,
   "id": "1fb5d615",
   "metadata": {},
   "outputs": [],
   "source": [
    "from itertools import permutations\n",
    "from collections import deque\n",
    "\n",
    "def operation(num1, num2, op):\n",
    "    if op == '+':\n",
    "        return str(int(num1) + int(num2))\n",
    "    elif op == '-':\n",
    "        return str(int(num1) - int(num2))\n",
    "    else:\n",
    "        return str(int(num1) * int(num2))\n",
    "\n",
    "def calculation(exp, ops):\n",
    "    arr = deque()\n",
    "    s = 0\n",
    "    for i, e in enumerate(exp):\n",
    "        if e in ['+', '*', '-']:\n",
    "            arr.append(exp[s:i])\n",
    "            arr.append(e)\n",
    "            s = i+1\n",
    "    else:\n",
    "        arr.append(exp[s:])\n",
    "    \n",
    "    for o in ops:\n",
    "        stack = deque()\n",
    "        while len(arr):\n",
    "            tmp = arr.popleft()\n",
    "            if tmp == o:\n",
    "                stack.append(operation(stack.pop(), arr.popleft(), o))\n",
    "            else:\n",
    "                stack.append(tmp)\n",
    "        arr = stack\n",
    "    return abs(int(arr[0]))\n",
    "\n",
    "def solution(expression):\n",
    "    ops = ['*', '+', '-']\n",
    "    \n",
    "    for op in ops:\n",
    "        if op not in expression:\n",
    "            ops.remove(op)\n",
    "    priority = list(permutations(ops))\n",
    "    result = 0\n",
    "    for p in priority:\n",
    "        value = calculation(expression, p)\n",
    "        if result < value:\n",
    "            result = value\n",
    "    return result"
   ]
  },
  {
   "cell_type": "code",
   "execution_count": 10,
   "id": "5dd36f03",
   "metadata": {},
   "outputs": [
    {
     "data": {
      "text/plain": [
       "['100', '-', '200', '*', '300', '-', '500', '+', '20']"
      ]
     },
     "execution_count": 10,
     "metadata": {},
     "output_type": "execute_result"
    }
   ],
   "source": [
    "import re\n",
    "from itertools import permutations\n",
    "\n",
    "def solution(expression):\n",
    "    op = [x for x in ['+', '-', '*'] if x in expression]\n",
    "    operation = [list(o) for o in permutations(op)]\n",
    "    expression = re.split('(\\D)', expression)\n",
    "\n",
    "    answer = []\n",
    "    for oper in operation:\n",
    "        ex = expression[:]\n",
    "        for o in oper:\n",
    "            while o in ex:\n",
    "                idx = ex.index(o)\n",
    "                ex[idx-1] = str(eval(ex[idx-1] + ex[idx] + ex[idx+1]))\n",
    "                ex = ex[:idx] + ex[idx+2:]\n",
    "        answer.append(ex[-1])\n",
    "    return max(abs(int(x)) for x in answer)\n",
    "\n",
    "solution(\"100-200*300-500+20\")"
   ]
  },
  {
   "cell_type": "code",
   "execution_count": null,
   "id": "f25ca765",
   "metadata": {},
   "outputs": [],
   "source": [
    "import re\n",
    "from itertools import permutations\n",
    "\n",
    "def solution(expression):   \n",
    "    op = [x for x in ['+', '-', '*'] if x in expression]\n",
    "    operation = [list(o) for o in permutations(op)]\n",
    "    expression = re.split('(\\D)', expression)\n",
    "\n",
    "    answer = []\n",
    "    for oper in operation:\n",
    "        ex = expression[:]\n",
    "        for o in oper:\n",
    "            while o in ex:\n",
    "                idx = ex.index(o)\n",
    "                ex[idx-1] = str(eval(ex[idx-1] + ex[idx] + ex[idx+1]))\n",
    "                ex = ex[:idx] + ex[idx+2:]\n",
    "        answer.append(abs(int(ex[0])))\n",
    "    return max(answer)\n",
    "print(solution(\"100-200*300-500+20\"))"
   ]
  },
  {
   "cell_type": "markdown",
   "id": "82834e65",
   "metadata": {},
   "source": [
    "## 튜플\n",
    "https://programmers.co.kr/learn/courses/30/lessons/64065"
   ]
  },
  {
   "cell_type": "code",
   "execution_count": 15,
   "id": "5b5b2d65",
   "metadata": {},
   "outputs": [
    {
     "data": {
      "text/plain": [
       "[111, 20]"
      ]
     },
     "execution_count": 15,
     "metadata": {},
     "output_type": "execute_result"
    }
   ],
   "source": [
    "def solution(s):\n",
    "    answer = []\n",
    "    s = s[2:-2]\n",
    "    s = s.split('},{')\n",
    "    s.sort(key=len)\n",
    "    for i in s:\n",
    "        ii = i.split(',')\n",
    "        for j in ii:\n",
    "            if int(j) not in answer:\n",
    "                answer.append(int(j))\n",
    "    return answer\n",
    "solution(\"{{20,111},{111}}\")"
   ]
  },
  {
   "cell_type": "code",
   "execution_count": 7,
   "id": "56f44c09",
   "metadata": {},
   "outputs": [
    {
     "name": "stdout",
     "output_type": "stream",
     "text": [
      "['2', '2', '1', '2', '1', '3', '2', '1', '3', '4']\n"
     ]
    },
    {
     "data": {
      "text/plain": [
       "[2, 1, 3, 4]"
      ]
     },
     "execution_count": 7,
     "metadata": {},
     "output_type": "execute_result"
    }
   ],
   "source": [
    "import re\n",
    "from collections import Counter\n",
    "\n",
    "def solution(s):\n",
    "    s = Counter(re.findall('\\d+', s))\n",
    "    \n",
    "    return list(map(int, [k for k, v in sorted(s.items(), key=lambda x: x[1], reverse=True)]))\n",
    "\n",
    "solution(\"{{2},{2,1},{2,1,3},{2,1,3,4}}\")"
   ]
  },
  {
   "cell_type": "markdown",
   "id": "801e84ce",
   "metadata": {},
   "source": [
    "## 순위 검색\n",
    "https://programmers.co.kr/learn/courses/30/lessons/72412"
   ]
  },
  {
   "cell_type": "code",
   "execution_count": 27,
   "id": "8c7472d1",
   "metadata": {},
   "outputs": [
    {
     "data": {
      "text/plain": [
       "False"
      ]
     },
     "execution_count": 27,
     "metadata": {},
     "output_type": "execute_result"
    }
   ],
   "source": [
    "from itertools import combinations\n",
    "from collections import defaultdict\n",
    "from bisect import bisect_left\n",
    "\n",
    "def solution(info, query):\n",
    "    answer = []\n",
    "    info_dict = defaultdict(list)\n",
    "    \n",
    "    for i in range(len(info)):\n",
    "        inform = info[i].split()\n",
    "        my_key = inform[:-1]\n",
    "        my_val = inform[-1]\n",
    "        \n",
    "        for j in range(5):\n",
    "            for c in combinations(my_key, j):\n",
    "                tmp = ''.join(c)\n",
    "                info_dict[tmp].append(int(my_val))\n",
    "    for k in info_dict:\n",
    "        info_dict[k].sort()\n",
    "    for q in query:\n",
    "        my_q = q.replace('and ', '').replace('-', '').split()\n",
    "        q_key = my_q[:-1]\n",
    "        q_val = my_q[-1]\n",
    "        q_key = ''.join(q_key)\n",
    "        if q_key in info_dict:\n",
    "            scores = info_dict[q_key]\n",
    "            if scores:\n",
    "                enter = bisect_left(scores, int(q_val))\n",
    "                answer.append(len(scores) - enter)\n",
    "        else:\n",
    "            answer.append(0)\n",
    "                \n",
    "    return answer\n",
    "\n",
    "solution([\"java backend junior pizza 150\",\"python frontend senior chicken 210\",\"python frontend senior chicken 150\",\"cpp backend senior pizza 260\",\"java backend junior chicken 80\",\"python backend senior chicken 50\"], [\"java and backend and junior and pizza 100\",\"python and frontend and senior and chicken 200\",\"cpp and - and senior and pizza 250\",\"- and backend and senior and - 150\",\"- and - and - and chicken 100\",\"- and - and - and - 150\"])"
   ]
  },
  {
   "cell_type": "code",
   "execution_count": null,
   "id": "b202a0a2",
   "metadata": {},
   "outputs": [],
   "source": [
    "# 방법은 좋았으나 시간초과 난다.\n",
    "\n",
    "import re\n",
    "from collections import Counter\n",
    "\n",
    "def solution(info, query):\n",
    "    answer = []\n",
    "    for q in query:\n",
    "        cnt = 0\n",
    "        recruit = re.split(' and |\\s', q)\n",
    "        recruit = Counter(recruit)\n",
    "        demand_score = int(list(recruit.keys())[-1])\n",
    "        del recruit['-']\n",
    "        del recruit[str(demand_score)]\n",
    "        for i in info:\n",
    "            score = int(i.split()[-1])\n",
    "            vol = Counter(i.split())\n",
    "            if score >= demand_score:\n",
    "                if vol & recruit == recruit:\n",
    "                    cnt += 1\n",
    "\n",
    "        answer.append(cnt)\n",
    "    print(answer)\n",
    "\n",
    "solution([\"java backend junior pizza 150\",\"python frontend senior chicken 210\",\"python frontend senior chicken 150\",\"cpp backend senior pizza 260\",\"java backend junior chicken 80\",\"python backend senior chicken 50\"], [\"java and backend and junior and pizza 100\",\"python and frontend and senior and chicken 200\",\"cpp and - and senior and pizza 250\",\"- and backend and senior and - 150\",\"- and - and - and chicken 100\",\"- and - and - and - 150\"])"
   ]
  },
  {
   "cell_type": "markdown",
   "id": "d533444f",
   "metadata": {},
   "source": [
    "## 프렌즈 4블록\n",
    "https://programmers.co.kr/learn/courses/30/lessons/17679"
   ]
  },
  {
   "cell_type": "code",
   "execution_count": null,
   "id": "dcf6016b",
   "metadata": {},
   "outputs": [],
   "source": [
    "def solution(m, n, board):\n",
    "    answer = 0\n",
    "    board = list(map(list, board))\n",
    "    while True:\n",
    "        remove = [[0] * n for _ in range(m)]\n",
    "        for i in range(m-1):\n",
    "            for j in range(n-1):\n",
    "                if board[i][j] != 0 and board[i][j] == board[i][j+1] and board[i][j] == board[i+1][j] and board[i][j] == board[i+1][j+1]:\n",
    "                    remove[i][j] = remove[i+1][j] = remove[i][j+1] = remove[i+1][j+1] = 1\n",
    "        count = sum(map(sum, remove))\n",
    "        if count == 0:\n",
    "            break\n",
    "        answer += count\n",
    "\n",
    "        for j in range(n):\n",
    "            for i in range(m-1, -1, -1):\n",
    "                if remove[i][j]:\n",
    "                    row = i\n",
    "                    while row >= 0 and remove[row][j]:\n",
    "                        row -= 1\n",
    "                    if row >= 0:\n",
    "                        board[i][j] = board[row][j]\n",
    "                        remove[row][j] = 1\n",
    "                    else:\n",
    "                        board[i][j] = 0\n",
    "\n",
    "    return answer\n",
    "\n",
    "solution(6, 6, [\"TTTANT\", \"RRFACC\", \"RRRFCC\", \"TRRRAA\", \"TTMMMF\", \"TMMTTJ\"])"
   ]
  },
  {
   "cell_type": "markdown",
   "id": "516b65f7",
   "metadata": {},
   "source": [
    "## 캐시\n",
    "https://programmers.co.kr/learn/courses/30/lessons/17680"
   ]
  },
  {
   "cell_type": "code",
   "execution_count": 2,
   "id": "f3ff63c0",
   "metadata": {},
   "outputs": [
    {
     "data": {
      "text/plain": [
       "50"
      ]
     },
     "execution_count": 2,
     "metadata": {},
     "output_type": "execute_result"
    }
   ],
   "source": [
    "def solution(cacheSize, cities):\n",
    "    cache = []\n",
    "    time = 0\n",
    "    for city in cities:\n",
    "        city = city.lower()\n",
    "        if cacheSize:\n",
    "            if city in cache:\n",
    "                cache.pop(cache.index(city))\n",
    "                cache.append(city)\n",
    "                time += 1\n",
    "            else:\n",
    "                if len(cache) == cacheSize:\n",
    "                    cache.pop(0)\n",
    "                cache.append(city)\n",
    "                time += 5\n",
    "        else:\n",
    "            time += 5\n",
    "    return time\n",
    "        \n",
    "solution(3, [\"Jeju\", \"Pangyo\", \"Seoul\", \"NewYork\", \"LA\", \"Jeju\", \"Pangyo\", \"Seoul\", \"NewYork\", \"LA\"])"
   ]
  },
  {
   "cell_type": "markdown",
   "id": "5a3adf8c",
   "metadata": {},
   "source": [
    "## 비밀지도\n",
    "https://programmers.co.kr/learn/courses/30/lessons/17681"
   ]
  },
  {
   "cell_type": "code",
   "execution_count": null,
   "id": "648d0f58",
   "metadata": {},
   "outputs": [],
   "source": [
    "def solution(n, arr1, arr2):\n",
    "    answer = [format(a|b, 'b').zfill(n) for a, b in zip(arr1, arr2)]\n",
    "    return list(map(lambda x: x.replace('1', '#').replace('0', ' ')))\n",
    "\n",
    "\n",
    "solution(6, [46, 33, 33 ,22, 31, 50], [27 ,56, 19, 14, 14, 10])"
   ]
  },
  {
   "cell_type": "markdown",
   "id": "acb215aa",
   "metadata": {},
   "source": [
    "## 다트 게임\n",
    "https://programmers.co.kr/learn/courses/30/lessons/17682"
   ]
  },
  {
   "cell_type": "code",
   "execution_count": 1,
   "id": "65f9933e",
   "metadata": {},
   "outputs": [
    {
     "data": {
      "text/plain": [
       "True"
      ]
     },
     "execution_count": 1,
     "metadata": {},
     "output_type": "execute_result"
    }
   ],
   "source": [
    "def solution(dartResult):\n",
    "    answer = []\n",
    "    scores = ['S', 'D', 'T']\n",
    "    n = ''\n",
    "    for dart in dartResult:\n",
    "        if dart.isdigit():\n",
    "            n += dart\n",
    "        \n",
    "        if dart in scores:\n",
    "            answer.append(int(n) ** (scores.index(dart)+1))\n",
    "            n = ''\n",
    "        \n",
    "        if dart == '*':\n",
    "            if len(answer) == 1:\n",
    "                answer[0] *= 2\n",
    "            else:\n",
    "                answer[-1] *= 2\n",
    "                answer[-2] *= 2\n",
    "        \n",
    "        elif dart == '#':\n",
    "            answer[-1] *= -1\n",
    "    return sum(answer)\n",
    "solution('1S*2T*3S')"
   ]
  },
  {
   "cell_type": "code",
   "execution_count": 10,
   "id": "730b91cd",
   "metadata": {},
   "outputs": [
    {
     "name": "stdout",
     "output_type": "stream",
     "text": [
      "['1', 'S', '*', '2', 'T', '*', '3', 'S']\n"
     ]
    },
    {
     "data": {
      "text/plain": [
       "23"
      ]
     },
     "execution_count": 10,
     "metadata": {},
     "output_type": "execute_result"
    }
   ],
   "source": [
    "def solution(dartResult):\n",
    "    point = []\n",
    "    answer = []\n",
    "    dartResult = dartResult.replace('10','k')\n",
    "    point = ['10' if i == 'k' else i for i in dartResult]\n",
    "    print(point)\n",
    "    i = -1\n",
    "    sdt = ['S', 'D', 'T']\n",
    "    for j in point:\n",
    "        if j in sdt :\n",
    "            answer[i] = answer[i] ** (sdt.index(j)+1)\n",
    "        elif j == '*':\n",
    "            answer[i] = answer[i] * 2\n",
    "            if i != 0 :\n",
    "                answer[i - 1] = answer[i - 1] * 2\n",
    "        elif j == '#':\n",
    "            answer[i] = answer[i] * (-1)\n",
    "        else:\n",
    "            answer.append(int(j))\n",
    "            i += 1\n",
    "    return sum(answer)\n",
    "solution('1S*2T*3S')"
   ]
  },
  {
   "cell_type": "markdown",
   "id": "100440da",
   "metadata": {},
   "source": [
    "## 방금그곡\n",
    "https://programmers.co.kr/learn/courses/30/lessons/17683"
   ]
  },
  {
   "cell_type": "code",
   "execution_count": 9,
   "id": "a71d0ce4",
   "metadata": {},
   "outputs": [
    {
     "data": {
      "text/plain": [
       "'FOO'"
      ]
     },
     "execution_count": 9,
     "metadata": {},
     "output_type": "execute_result"
    }
   ],
   "source": [
    "def solution(m, musicinfos):\n",
    "    answer = None\n",
    "    m = m.replace('C#', 'c').replace('D#', 'd').replace('F#', 'f').replace('G#', 'g').replace('A#', 'a')\n",
    "\n",
    "    for info in musicinfos:\n",
    "        s, e, title, music = info.split(',')\n",
    "\n",
    "        hour, minute = map(int, s.split(':'))\n",
    "        s = hour * 60 + minute\n",
    "\n",
    "        hour, minute = map(int, e.split(':'))\n",
    "        e = hour * 60 + minute\n",
    "        duration = e - s\n",
    "\n",
    "        music = music.replace('C#', 'c').replace('D#', 'd').replace('F#', 'f').replace('G#', 'g').replace('A#', 'a')\n",
    "        music *= -(-duration//len(music))\n",
    "        music = music[:duration]\n",
    "\n",
    "        if m not in music:\n",
    "            continue\n",
    "\n",
    "        if answer == None or answer[0] < duration or (answer[0] == duration and answer[1] > s):\n",
    "            answer = (duration, s, title)\n",
    "    if answer:\n",
    "        return answer[-1]\n",
    "    return \"(None)\"\n",
    "\n",
    "solution(\"CC#BCC#BCC#BCC#B\", [\"03:00,03:30,FOO,CC#B\", \"04:00,04:08,BAR,CC#BCC#BCC#B\"])"
   ]
  },
  {
   "cell_type": "markdown",
   "id": "0ab19529",
   "metadata": {},
   "source": [
    "## 압축\n",
    "https://programmers.co.kr/learn/courses/30/lessons/17684"
   ]
  },
  {
   "cell_type": "code",
   "execution_count": 3,
   "id": "933a4d71",
   "metadata": {},
   "outputs": [
    {
     "name": "stdout",
     "output_type": "stream",
     "text": [
      "[11, 1, 27, 15]\n"
     ]
    }
   ],
   "source": [
    "def solution(msg):\n",
    "    answer = []\n",
    "    alpha = {chr(65+i): i+1 for i in range(26)}\n",
    "\n",
    "    w, c = 0, 0\n",
    "    while True:\n",
    "        c += 1\n",
    "        if c == len(msg):\n",
    "            answer.append(alpha[msg[w:c]])\n",
    "            break\n",
    "\n",
    "        if msg[w:c+1] not in alpha:\n",
    "            alpha[msg[w:c+1]] = len(alpha)+1\n",
    "            answer.append(alpha[msg[w:c]])\n",
    "            w = c\n",
    "    return answer\n",
    "\n",
    "print(solution(\"KAKAO\"))"
   ]
  },
  {
   "cell_type": "code",
   "execution_count": null,
   "id": "bdb4d2fa",
   "metadata": {},
   "outputs": [],
   "source": [
    "def solution(msg):\n",
    "    answer = []\n",
    "    tmp = {chr(e + 64): e for e in range(1, 27)}\n",
    "    while msg:\n",
    "        tt = 1\n",
    "        while msg[:tt] in tmp.keys() and tt <= msg.__len__():\n",
    "            tt += 1\n",
    "        tt -= 1\n",
    "\n",
    "        answer.append(tmp[msg[:tt]])\n",
    "        tmp[msg[:tt + 1]] = len(tmp) + 1\n",
    "        msg = msg[tt:]\n",
    "    return answer\n",
    "\n",
    "print(solution(\"KAKAO\"))"
   ]
  },
  {
   "cell_type": "markdown",
   "id": "939bd598",
   "metadata": {},
   "source": [
    "## 파일명 정렬\n",
    "https://programmers.co.kr/learn/courses/30/lessons/17686"
   ]
  },
  {
   "cell_type": "code",
   "execution_count": 14,
   "id": "96719e08",
   "metadata": {},
   "outputs": [
    {
     "data": {
      "text/plain": [
       "101"
      ]
     },
     "execution_count": 14,
     "metadata": {},
     "output_type": "execute_result"
    }
   ],
   "source": [
    "import re\n",
    "\n",
    "def solution(files):\n",
    "    sortli = []\n",
    "    for file in files:\n",
    "        file_split = re.split('(\\d+)', file)\n",
    "        sortli.append(file_split)\n",
    "\n",
    "    sortli.sort(key=lambda x: (x[0].lower(), int(x[1])))\n",
    "    return [''.join(s) for s in sortli]\n",
    "        \n",
    "print(solution([\"F-5 Freedom Fighter\", \"B-50 Superfortress\", \"A-10 Thunderbolt II\", \"F-14 Tomcat\"]))"
   ]
  },
  {
   "cell_type": "code",
   "execution_count": 15,
   "id": "353c7c6f",
   "metadata": {},
   "outputs": [
    {
     "name": "stdout",
     "output_type": "stream",
     "text": [
      "['A-10 Thunderbolt II', 'B-50 Superfortress', 'F-5 Freedom Fighter', 'F-14 Tomcat']\n"
     ]
    }
   ],
   "source": [
    "import re\n",
    "\n",
    "def solution(files):\n",
    "    sortli = [re.split('(\\d+)', file) for file in files]\n",
    "    sortli.sort(key=lambda x: (x[0].lower(), int(x[1])))\n",
    "    return [''.join(s) for s in sortli]\n",
    "        \n",
    "print(solution([\"F-5 Freedom Fighter\", \"B-50 Superfortress\", \"A-10 Thunderbolt II\", \"F-14 Tomcat\"]))"
   ]
  },
  {
   "cell_type": "markdown",
   "id": "c1f8baf6",
   "metadata": {},
   "source": [
    "## n진수 게임\n",
    "https://programmers.co.kr/learn/courses/30/lessons/17687"
   ]
  },
  {
   "cell_type": "code",
   "execution_count": 5,
   "id": "9dc8b7f1",
   "metadata": {},
   "outputs": [
    {
     "data": {
      "text/plain": [
       "4.0"
      ]
     },
     "execution_count": 5,
     "metadata": {},
     "output_type": "execute_result"
    }
   ],
   "source": [
    "dic = {i: chr(55+i) for i in range(10, 16)}\n",
    "def cal(num, n):\n",
    "    p = ''\n",
    "    while num > 0:\n",
    "        num, mod = num//n, num%n\n",
    "        if mod >= 10:\n",
    "            mod = dic[mod]\n",
    "        p += str(mod)\n",
    "\n",
    "    return p[::-1] if p else '0'\n",
    "\n",
    "def solution(n, t, m, p):\n",
    "    answer = ''\n",
    "    tmp = ''\n",
    "    for i in range(t*m):\n",
    "        tmp += cal(i, n)\n",
    "    for i in range(t):\n",
    "        answer += tmp[p-1+m*i]\n",
    "        \n",
    "    return answer\n",
    "solution(16, 16, 2, 2)"
   ]
  },
  {
   "cell_type": "code",
   "execution_count": 6,
   "id": "2cb2e652",
   "metadata": {},
   "outputs": [
    {
     "data": {
      "text/plain": [
       "'1010'"
      ]
     },
     "execution_count": 6,
     "metadata": {},
     "output_type": "execute_result"
    }
   ],
   "source": [
    "def convert(num, base):\n",
    "    temp = \"0123456789ABCDEF\"\n",
    "    q, r = divmod(num, base)\n",
    "\n",
    "    if q == 0:\n",
    "        return temp[r]\n",
    "    else:\n",
    "        # q를 base로 변환\n",
    "        # 즉, n진수의 다음 자리를 구함\n",
    "        return convert(q, base) + temp[r]\n",
    "convert(10, 2)"
   ]
  },
  {
   "cell_type": "markdown",
   "id": "b0e24b57",
   "metadata": {},
   "source": [
    "## k진수에서 소수 개수 구하기\n",
    "https://programmers.co.kr/learn/courses/30/lessons/92335"
   ]
  },
  {
   "cell_type": "code",
   "execution_count": null,
   "id": "7e724a89",
   "metadata": {},
   "outputs": [],
   "source": [
    "import re\n",
    "\n",
    "def cal(n, k):\n",
    "    temp = '0123456789ABCDEF'\n",
    "    q, mod = divmod(n, k)\n",
    "    if q == 0:\n",
    "        return temp[mod]\n",
    "    else:\n",
    "        return cal(q, k) + temp[mod]\n",
    "\n",
    "def check_prime(n):\n",
    "    if n == '':\n",
    "        return False\n",
    "    n = int(n)\n",
    "    if n <= 1:\n",
    "        return False\n",
    "    for i in range(2, int(n**0.5)+1):\n",
    "        if n % i == 0:\n",
    "            return False\n",
    "    return True\n",
    "\n",
    "def solution(n, k):\n",
    "    nums = cal(n, k)\n",
    "    primes = re.split('0+', nums)\n",
    "    return sum((list(map(check_prime, primes))))\n",
    "\n",
    "print(solution(36, 3))"
   ]
  },
  {
   "cell_type": "markdown",
   "id": "80661b34",
   "metadata": {},
   "source": [
    "## 주차 요금 계산\n",
    "https://programmers.co.kr/learn/courses/30/lessons/92341"
   ]
  },
  {
   "cell_type": "code",
   "execution_count": 18,
   "id": "f87d657a",
   "metadata": {},
   "outputs": [
    {
     "name": "stdout",
     "output_type": "stream",
     "text": [
      "a d\n",
      "b e\n",
      "1 4\n",
      "2 5\n"
     ]
    }
   ],
   "source": [
    "import math\n",
    "from collections import defaultdict\n",
    "\n",
    "def timetominute(time):\n",
    "    h, m = map(int, time.split(':'))\n",
    "    return h*60 + m\n",
    "\n",
    "def solution(fees, records):\n",
    "    answer = []\n",
    "    dt, df, ut, uf = fees\n",
    "\n",
    "    info = defaultdict(list)\n",
    "    for record in records:\n",
    "        time, nums, status = record.split()\n",
    "        info[nums].append([timetominute(time), status])\n",
    "\n",
    "    info = dict(sorted(info.items(), key=lambda x: int(x[0])))\n",
    "\n",
    "    for key in info:\n",
    "        t = 0\n",
    "\n",
    "        for minute, state in info[key]:\n",
    "            if state == 'IN':\n",
    "                t -= minute\n",
    "            else:\n",
    "                t += minute\n",
    "\n",
    "        if info[key][-1][1] == 'IN':\n",
    "            t += timetominute('23:59')\n",
    "        if t <= dt:\n",
    "            answer.append(df)\n",
    "        else:\n",
    "            answer.append(df + math.ceil((t-dt)/ut) * uf)\n",
    "    return answer\n",
    "\n",
    "solution([180, 5000, 10, 600], [\"05:34 5961 IN\", \"06:00 0000 IN\", \"06:34 0000 OUT\", \"07:59 5961 OUT\", \"07:59 0148 IN\", \"18:59 0000 IN\", \"19:09 0148 OUT\", \"22:59 5961 IN\", \"23:00 5961 OUT\"])"
   ]
  },
  {
   "cell_type": "code",
   "execution_count": null,
   "id": "07cef3f9",
   "metadata": {},
   "outputs": [],
   "source": [
    "from collections import defaultdict\n",
    "from math import ceil\n",
    "\n",
    "class Parking:\n",
    "    def __init__(self, fees):\n",
    "        self.fees = fees\n",
    "        self.in_flag = False\n",
    "        self.in_time = 0\n",
    "        self.total = 0\n",
    "\n",
    "    def update(self, t, inout):\n",
    "        self.in_flag = True if inout=='IN' else False\n",
    "        if self.in_flag:  self.in_time = str2int(t)\n",
    "        else:             self.total  += (str2int(t)-self.in_time)\n",
    "\n",
    "    def calc_fee(self):\n",
    "        if self.in_flag: self.update('23:59', 'out')\n",
    "        add_t = self.total - self.fees[0]\n",
    "        return self.fees[1] + ceil(add_t/self.fees[2]) * self.fees[3] if add_t >= 0 else self.fees[1]\n",
    "\n",
    "def str2int(string):\n",
    "    return int(string[:2])*60 + int(string[3:])\n",
    "\n",
    "def solution(fees, records):\n",
    "    recordsDict = defaultdict(lambda:Parking(fees))\n",
    "\n",
    "    for rcd in records:\n",
    "        t, car, inout = rcd.split()\n",
    "        recordsDict[car].update(t, inout)\n",
    "\n",
    "    return [v.calc_fee() for k, v in sorted(recordsDict.items())]\n",
    "\n",
    "solution([180, 5000, 10, 600], [\"05:34 5961 IN\", \"06:00 0000 IN\", \"06:34 0000 OUT\", \"07:59 5961 OUT\", \"07:59 0148 IN\", \"18:59 0000 IN\", \"19:09 0148 OUT\", \"22:59 5961 IN\", \"23:00 5961 OUT\"])"
   ]
  },
  {
   "cell_type": "markdown",
   "id": "e5850423",
   "metadata": {},
   "source": [
    "## 양궁대회\n",
    "https://programmers.co.kr/learn/courses/30/lessons/92342"
   ]
  },
  {
   "cell_type": "code",
   "execution_count": null,
   "id": "73c22809",
   "metadata": {},
   "outputs": [],
   "source": [
    "# 8, 18 번 케이스 틀림\n",
    "\n",
    "maxGap = -int(1e9)\n",
    "answer = []\n",
    "\n",
    "def backtracking(idx, n, info, arrow):\n",
    "    global maxGap\n",
    "    if sum(arrow) == n:\n",
    "        gap = 0\n",
    "        for i, l in enumerate(arrow):\n",
    "            if not (l == 0 and info[i] == 0):\n",
    "                if l > info[i]:\n",
    "                    gap += 10 - i\n",
    "                else:\n",
    "                    gap -= 10 - i\n",
    "        if maxGap <= gap and gap > 0:\n",
    "            maxGap = gap\n",
    "            answer.append(arrow[:])\n",
    "        return\n",
    "\n",
    "    elif sum(arrow) > n or idx > 10:\n",
    "        return\n",
    "    \n",
    "    elif idx == 10:\n",
    "        arrow[idx] = n - sum(arrow)\n",
    "        backtracking(idx+1, n, info, arrow)\n",
    "\n",
    "    arrow[idx] = info[idx]+1\n",
    "    backtracking(idx+1, n, info, arrow)\n",
    "\n",
    "    arrow[idx] = 0\n",
    "    backtracking(idx+1, n, info, arrow)\n",
    "\n",
    "def solution(n, info):\n",
    "    backtracking(0, n, info, [0]*11)\n",
    "\n",
    "    if answer:\n",
    "        return answer[-1]\n",
    "    return [-1]\n",
    "\n",
    "\n",
    "print(solution(10, [2,2,1,2,3,0,0,0,0,0,0]))"
   ]
  },
  {
   "cell_type": "markdown",
   "id": "3351d0a1",
   "metadata": {},
   "source": [
    "## 로또의 최고 순위와 최저 순위\n",
    "https://school.programmers.co.kr/learn/courses/30/lessons/77484"
   ]
  },
  {
   "cell_type": "code",
   "execution_count": null,
   "id": "4a4f6247",
   "metadata": {},
   "outputs": [],
   "source": [
    "def solution(lottos, win_nums):\n",
    "    rank = {i: 7-i  for i in range(2, 7)}\n",
    "    rank[0] = rank[1] = 6\n",
    "    lotto, w = set(lottos), set(win_nums)\n",
    "\n",
    "    return [rank[len(w & lotto) + lottos.count(0)], rank[len(w & lotto)]]\n",
    "\n",
    "print(solution([0, 0, 0, 0, 0, 0], [38, 19, 20, 40, 15, 25]))"
   ]
  },
  {
   "cell_type": "code",
   "execution_count": null,
   "id": "992d924b",
   "metadata": {},
   "outputs": [],
   "source": [
    "def solution(lottos, win_nums):\n",
    "    rank = [6, 6, 5, 4, 3, 2, 1]\n",
    "    ans = len(set(lottos) & set(win_nums))\n",
    "    zero = lottos.count(0)\n",
    "    return [rank[ans + zero], rank[ans]]\n",
    "print(solution([0, 0, 0, 0, 0, 0], [38, 19, 20, 40, 15, 25]))"
   ]
  },
  {
   "cell_type": "markdown",
   "id": "ef4cfb54",
   "metadata": {},
   "source": [
    "## 추석 트래픽\n",
    "https://school.programmers.co.kr/learn/courses/30/lessons/17676"
   ]
  },
  {
   "cell_type": "code",
   "execution_count": 4,
   "id": "a0e948c3",
   "metadata": {},
   "outputs": [
    {
     "name": "stdout",
     "output_type": "stream",
     "text": [
      "7\n"
     ]
    }
   ],
   "source": [
    "from datetime import datetime, timedelta\n",
    "\n",
    "def solution(lines):\n",
    "    start_list, end_list = [], []\n",
    "    for line in lines:\n",
    "        _, end_time, duration = line.split()\n",
    "        end_time = datetime.strptime(end_time, \"%H:%M:%S.%f\")\n",
    "        duration = timedelta(seconds=float(duration[:-1]) - 0.001)\n",
    "        start_list.append(end_time - duration)\n",
    "        end_list.append(end_time)\n",
    "    \n",
    "    max_process = 1\n",
    "    for i in range(len(lines)-1):\n",
    "        curr_end = end_list[i]\n",
    "        curr_process = 1\n",
    "        for j in range(i+1, len(lines)):\n",
    "            if start_list[j] < curr_end + timedelta(seconds=1):\n",
    "                curr_process += 1\n",
    "        max_process = max(max_process, curr_process)\n",
    "    print(max_process)\n",
    "    \n",
    "\n",
    "solution([\n",
    "\"2016-09-15 20:59:57.421 0.351s\",\n",
    "\"2016-09-15 20:59:58.233 1.181s\",\n",
    "\"2016-09-15 20:59:58.299 0.8s\",\n",
    "\"2016-09-15 20:59:58.688 1.041s\",\n",
    "\"2016-09-15 20:59:59.591 1.412s\",\n",
    "\"2016-09-15 21:00:00.464 1.466s\",\n",
    "\"2016-09-15 21:00:00.741 1.581s\",\n",
    "\"2016-09-15 21:00:00.748 2.31s\",\n",
    "\"2016-09-15 21:00:00.966 0.381s\",\n",
    "\"2016-09-15 21:00:02.066 2.62s\"\n",
    "])"
   ]
  },
  {
   "cell_type": "code",
   "execution_count": null,
   "id": "35c293fe",
   "metadata": {},
   "outputs": [],
   "source": [
    "def solution(lines):\n",
    "    answer = 0\n",
    "    start_time = []\n",
    "    end_time = []\n",
    "\n",
    "    for t in lines:\n",
    "        time = t.split(\" \")\n",
    "        start_time.append(get_start_time(time[1], time[2]))\n",
    "        end_time.append(get_time(time[1]))\n",
    "    for i in range(len(lines)):\n",
    "        cnt = 0\n",
    "        cur_end_time = end_time[i]\n",
    "        # i번째는 현재 자신의 시작시간이고, i 이하는 그 이전의 시작시간이므로 카운트 할 필요가 없다.\n",
    "        for j in range(i, len(lines)):\n",
    "            if cur_end_time > start_time[j] - 1000:\n",
    "                cnt += 1\n",
    "        answer = max(answer, cnt)\n",
    "    return answer\n",
    "\n",
    "\n",
    "def get_time(time):\n",
    "    hour = int(time[:2]) * 3600\n",
    "    minute = int(time[3:5]) * 60\n",
    "    second = int(time[6:8])\n",
    "    millisecond = int(time[9:])\n",
    "    return (hour + minute + second) * 1000 + millisecond\n",
    "\n",
    "\n",
    "def get_start_time(time, duration_time):\n",
    "    n_time = duration_time[:-1]\n",
    "    int_duration_time = int(float(n_time) * 1000)\n",
    "    return get_time(time) - int_duration_time + 1\n",
    "\n",
    "\n",
    "solution([\n",
    "\"2016-09-15 20:59:57.421 0.351s\",\n",
    "\"2016-09-15 20:59:58.233 1.181s\",\n",
    "\"2016-09-15 20:59:58.299 0.8s\",\n",
    "\"2016-09-15 20:59:58.688 1.041s\",\n",
    "\"2016-09-15 20:59:59.591 1.412s\",\n",
    "\"2016-09-15 21:00:00.464 1.466s\",\n",
    "\"2016-09-15 21:00:00.741 1.581s\",\n",
    "\"2016-09-15 21:00:00.748 2.31s\",\n",
    "\"2016-09-15 21:00:00.966 0.381s\",\n",
    "\"2016-09-15 21:00:02.066 2.62s\"\n",
    "])"
   ]
  }
 ],
 "metadata": {
  "kernelspec": {
   "display_name": "Python 3",
   "language": "python",
   "name": "python3"
  },
  "language_info": {
   "codemirror_mode": {
    "name": "ipython",
    "version": 3
   },
   "file_extension": ".py",
   "mimetype": "text/x-python",
   "name": "python",
   "nbconvert_exporter": "python",
   "pygments_lexer": "ipython3",
   "version": "3.8.8"
  }
 },
 "nbformat": 4,
 "nbformat_minor": 5
}
