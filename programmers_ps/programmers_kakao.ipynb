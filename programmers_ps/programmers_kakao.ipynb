{
 "cells": [
  {
   "cell_type": "markdown",
   "id": "33bfa95c",
   "metadata": {},
   "source": [
    "## 신고 결과 받기\n",
    "https://programmers.co.kr/learn/courses/30/lessons/92334?language=python3"
   ]
  },
  {
   "cell_type": "code",
   "execution_count": null,
   "id": "908c373c",
   "metadata": {},
   "outputs": [],
   "source": [
    "from collections import defaultdict\n",
    "\n",
    "def solution(id_list, report, k):\n",
    "    answer = []\n",
    "    report = list(set(report))\n",
    "    report_cnt = defaultdict(int)    \n",
    "    who_report = defaultdict(list)\n",
    "    mail = defaultdict(int)\n",
    "\n",
    "    for r in report:\n",
    "        suit, reported = r.split()\n",
    "        report_cnt[reported] += 1\n",
    "        who_report[reported].append(suit)\n",
    "    \n",
    "    for user, cnt in report_cnt.items():\n",
    "        if cnt >= k:\n",
    "            for who in who_report[user]:\n",
    "                mail[who] += 1\n",
    "    for user_id in id_list:\n",
    "        answer.append(mail[user_id])\n",
    "        \n",
    "    return answer"
   ]
  },
  {
   "cell_type": "code",
   "execution_count": null,
   "id": "de21e586",
   "metadata": {},
   "outputs": [],
   "source": [
    "def solution(id_list, report, k):\n",
    "    answer = [0] * len(id_list)\n",
    "    report = set(report)\n",
    "    reported_cnt = {name: 0 for name in id_list} \n",
    "    \n",
    "    for r in report:\n",
    "        reported_cnt[r.split()[1]] += 1\n",
    "        \n",
    "    for r in report:\n",
    "        if reported_cnt[r.split()[1]] >= k:\n",
    "            answer[id_list.index(r.split()[0])] += 1\n",
    "    return answer"
   ]
  },
  {
   "cell_type": "markdown",
   "id": "f80bda3d",
   "metadata": {},
   "source": [
    "## 신규 아이디 추천\n",
    "https://programmers.co.kr/learn/courses/30/lessons/72410"
   ]
  },
  {
   "cell_type": "code",
   "execution_count": null,
   "id": "50d622db",
   "metadata": {},
   "outputs": [],
   "source": [
    "def solution(new_id):\n",
    "    new_id = new_id.lower()\n",
    "\n",
    "    for ch in new_id:\n",
    "        if not(ch.isalpha() or ch.isdigit() or ch == \"-\" or ch == \"_\" or ch == \".\"):\n",
    "            new_id = new_id.replace(ch, \"\")\n",
    "            \n",
    "    while new_id.find(\"..\") != -1:\n",
    "        new_id = new_id.replace(\"..\", \".\")\n",
    "    \n",
    "    if new_id and new_id[0] == \".\":\n",
    "        new_id = new_id[1:]\n",
    "    if new_id and new_id[-1] == \".\":\n",
    "        new_id = new_id[:-1]\n",
    "    \n",
    "    if new_id == \"\":\n",
    "        new_id = \"a\"\n",
    "    \n",
    "    if len(new_id) >= 16:\n",
    "        new_id = new_id[:15]\n",
    "    if new_id[-1] == \".\":\n",
    "        new_id = new_id[:-1]\n",
    "    \n",
    "    while len(new_id) <= 2:\n",
    "        new_id += new_id[-1]\n",
    "    \n",
    "    return new_id"
   ]
  },
  {
   "cell_type": "code",
   "execution_count": 25,
   "id": "82e3c3a0",
   "metadata": {},
   "outputs": [
    {
     "data": {
      "text/plain": [
       "'q.aw.ef.'"
      ]
     },
     "execution_count": 25,
     "metadata": {},
     "output_type": "execute_result"
    }
   ],
   "source": [
    "import re\n",
    "def solution(new_id):\n",
    "    new_id = new_id.lower()\n",
    "    new_id = re.sub('[^a-z0-9\\-_.]', '', new_id)\n",
    "    new_id = re.sub('[.]+', '.', new_id)\n",
    "    new_id = re.sub('^[.]|[.]$', '', new_id)\n",
    "    new_id = 'a' if new_id == '' else new_id[:15]\n",
    "    new_id = re.sub('[.]$', '', new_id)\n",
    "    new_id = new_id  if not len(new_id) <= 2 else new_id + ''.join(new_id[-1] for _ in range(3 - len(new_id)))\n",
    "    return new_id"
   ]
  },
  {
   "cell_type": "markdown",
   "id": "99154353",
   "metadata": {},
   "source": [
    "## 문자열 압축\n",
    "https://programmers.co.kr/learn/courses/30/lessons/60057"
   ]
  },
  {
   "cell_type": "code",
   "execution_count": null,
   "id": "2efce294",
   "metadata": {},
   "outputs": [],
   "source": [
    "def solution(s):\n",
    "    result = []\n",
    "    if len(s) == 1:\n",
    "        return 1\n",
    "    for i in range(1, len(s)//2 + 1):\n",
    "        b = ''\n",
    "        cnt = 1\n",
    "        tmp = s[:i]\n",
    "        for j in range(i, len(s), i):\n",
    "            if tmp == s[j:i+j]:\n",
    "                cnt += 1\n",
    "            else:\n",
    "                if cnt != 1:\n",
    "                    b += str(cnt) + tmp\n",
    "                else:\n",
    "                    b += tmp\n",
    "                tmp = s[j:i+j]\n",
    "                cnt = 1\n",
    "        if cnt != 1:\n",
    "            b += str(cnt) + tmp\n",
    "        else:\n",
    "            b += tmp\n",
    "        result.append(len(b))\n",
    "    return min(result)"
   ]
  },
  {
   "cell_type": "markdown",
   "id": "a19d32bd",
   "metadata": {},
   "source": [
    "## 오픈채팅방\n",
    "https://programmers.co.kr/learn/courses/30/lessons/42888"
   ]
  },
  {
   "cell_type": "code",
   "execution_count": null,
   "id": "9f32c653",
   "metadata": {},
   "outputs": [],
   "source": [
    "def solution(record):\n",
    "    result = []\n",
    "    id = {}\n",
    "    for r in record:\n",
    "        r = r.split()\n",
    "        if r[0] in ['Enter', 'Change']:\n",
    "            id[r[1]] = r[2] \n",
    "\n",
    "    for r in record:\n",
    "        r = r.split()\n",
    "        if r[0] == 'Enter':\n",
    "            result.append(f'{id[r[1]]}님이 들어왔습니다.')\n",
    "        elif r[0] == 'Leave':\n",
    "            result.append(f'{id[r[1]]}님이 나갔습니다.')\n",
    "    return result"
   ]
  },
  {
   "cell_type": "markdown",
   "id": "3977b851",
   "metadata": {},
   "source": [
    "## 숫자 문자열과 영단어\n",
    "https://programmers.co.kr/learn/courses/30/lessons/81301"
   ]
  },
  {
   "cell_type": "code",
   "execution_count": null,
   "id": "3301527b",
   "metadata": {},
   "outputs": [],
   "source": [
    "def solution(s):\n",
    "    if s.isdigit():\n",
    "        return int(s)\n",
    "\n",
    "    result = ''\n",
    "    en = {\n",
    "        'zero': 0,\n",
    "        'one': 1,\n",
    "        'two': 2,\n",
    "        'three': 3,\n",
    "        'four': 4,\n",
    "        'five': 5,\n",
    "        'six': 6,\n",
    "        'seven': 7,\n",
    "        'eight': 8,\n",
    "        'nine': 9\n",
    "    }\n",
    "    idx = 0\n",
    "    for i, ch in enumerate(s):\n",
    "        if ch.isalpha():\n",
    "            for key in en.keys():\n",
    "                if s[idx:i] == key:\n",
    "                    result += str(en[key])\n",
    "                    idx = i\n",
    "                    break\n",
    "        else:\n",
    "            for key in en.keys():\n",
    "                if s[idx:i] == key:\n",
    "                    result += str(en[key])\n",
    "                    break\n",
    "            idx = i+1\n",
    "            result += str(ch)\n",
    "\n",
    "    for key in en.keys():\n",
    "        if s[idx:len(s)] == key:\n",
    "            result += str(en[key])\n",
    "\n",
    "    return int(result)\n",
    "\n",
    "print(solution(\"23four5six7\"))"
   ]
  },
  {
   "cell_type": "code",
   "execution_count": null,
   "id": "4f1a45ae",
   "metadata": {},
   "outputs": [],
   "source": [
    "en = {\n",
    "        'zero': '0',\n",
    "        'one': '1',\n",
    "        'two': '2',\n",
    "        'three': '3',\n",
    "        'four': '4',\n",
    "        'five': '5',\n",
    "        'six': '6',\n",
    "        'seven': '7',\n",
    "        'eight': '8',\n",
    "        'nine': '9'\n",
    "    }\n",
    "\n",
    "def solution(s):\n",
    "    answer = s\n",
    "    for key, value in en.items():\n",
    "        answer = answer.replace(key, value)\n",
    "    return int(answer)\n",
    "\n",
    "print(solution(\"oneone23four5six7\"))"
   ]
  },
  {
   "cell_type": "markdown",
   "id": "f74b7cd1",
   "metadata": {},
   "source": [
    "## 키패드 누르기\n",
    "https://programmers.co.kr/learn/courses/30/lessons/67256"
   ]
  },
  {
   "cell_type": "code",
   "execution_count": 4,
   "id": "018c0dbc",
   "metadata": {},
   "outputs": [
    {
     "name": "stdout",
     "output_type": "stream",
     "text": [
      "LRLLRRLLLRR\n"
     ]
    }
   ],
   "source": [
    "import math\n",
    "\n",
    "use = {\n",
    "    1: 'L',\n",
    "    4: 'L',\n",
    "    7: 'L',\n",
    "    3: 'R',\n",
    "    6: 'R',\n",
    "    9: 'R',\n",
    "}\n",
    "def solution(numbers, hand):\n",
    "    result = ''\n",
    "    l = 10\n",
    "    r = 12\n",
    "\n",
    "    for n in numbers:\n",
    "        if n == 0:\n",
    "            n = 11\n",
    "        if n in use.keys():\n",
    "            result += use[n]\n",
    "            if use[n] == 'L':\n",
    "                l = n\n",
    "            else:\n",
    "                r = n\n",
    "        else:\n",
    "            n -= 1\n",
    "            l -= 1\n",
    "            r -= 1\n",
    "            tx, ty = n // 3, n % 3\n",
    "            lx, ly = l // 3, l % 3\n",
    "            rx, ry = r // 3, r % 3\n",
    "            diff_l = math.ceil(((tx-lx)**2 + (ty-ly)**2) ** 0.5)\n",
    "            diff_r = math.ceil(((tx-rx)**2 + (ty-ry)**2) ** 0.5)\n",
    "            diff = diff_l - diff_r\n",
    "            n += 1\n",
    "            l += 1\n",
    "            r += 1\n",
    "\n",
    "            if diff > 0:\n",
    "                result += 'R'\n",
    "                r = n\n",
    "            elif diff < 0:\n",
    "                result += 'L'\n",
    "                l = n\n",
    "            else:\n",
    "                if hand == 'right':\n",
    "                    result += 'R'\n",
    "                    r = n\n",
    "                else:\n",
    "                    result += 'L'\n",
    "                    l = n\n",
    "    return result\n",
    "\n",
    "print(solution([7, 0, 8, 2, 8, 3, 1, 5, 7, 6, 2], \"left\"))"
   ]
  },
  {
   "cell_type": "code",
   "execution_count": null,
   "id": "8cb378d4",
   "metadata": {},
   "outputs": [],
   "source": [
    "def solution(numbers, hand):\n",
    "    answer = ''\n",
    "    key_dict = {1:(0,0),2:(0,1),3:(0,2),\n",
    "                4:(1,0),5:(1,1),6:(1,2),\n",
    "                7:(2,0),8:(2,1),9:(2,2),\n",
    "                '*':(3,0),0:(3,1),'#':(3,2)}\n",
    "\n",
    "    left = [1,4,7]\n",
    "    right = [3,6,9]\n",
    "    lhand = '*'\n",
    "    rhand = '#'\n",
    "    for i in numbers:\n",
    "        if i in left:\n",
    "            answer += 'L'\n",
    "            lhand = i\n",
    "        elif i in right:\n",
    "            answer += 'R'\n",
    "            rhand = i\n",
    "        else:\n",
    "            curPos = key_dict[i]\n",
    "            lPos = key_dict[lhand]\n",
    "            rPos = key_dict[rhand]\n",
    "            ldist = abs(curPos[0]-lPos[0]) + abs(curPos[1]-lPos[1])\n",
    "            rdist = abs(curPos[0]-rPos[0]) + abs(curPos[1]-rPos[1])\n",
    "\n",
    "            if ldist < rdist:\n",
    "                answer += 'L'\n",
    "                lhand = i\n",
    "            elif ldist > rdist:\n",
    "                answer += 'R'\n",
    "                rhand = i\n",
    "            else:\n",
    "                if hand == 'left':\n",
    "                    answer += 'L'\n",
    "                    lhand = i\n",
    "                else:\n",
    "                    answer += 'R'\n",
    "                    rhand = i\n",
    "\n",
    "    return answer"
   ]
  },
  {
   "cell_type": "markdown",
   "id": "36542b84",
   "metadata": {},
   "source": [
    "## 크레인 인형뽑기 게임\n",
    "https://programmers.co.kr/learn/courses/30/lessons/64061"
   ]
  },
  {
   "cell_type": "code",
   "execution_count": 3,
   "id": "373aed91",
   "metadata": {},
   "outputs": [
    {
     "data": {
      "text/plain": [
       "[[5, 1, 2, 3], [2, 3, 4]]"
      ]
     },
     "execution_count": 3,
     "metadata": {},
     "output_type": "execute_result"
    }
   ],
   "source": [
    "def solution(board, moves):\n",
    "    stack = []\n",
    "    result = 0\n",
    "    moves = list(map(lambda x: x-1, moves))\n",
    "    for y in moves:\n",
    "        for x in range(len(board)):\n",
    "            if board[x][y]:\n",
    "                stack.append(board[x][y])\n",
    "                board[x][y] = 0\n",
    "                break\n",
    "\n",
    "        if len(stack) > 1:\n",
    "            if stack[-2] == stack[-1]:\n",
    "                stack.pop(-1)\n",
    "                stack.pop(-1)\n",
    "                result += 2\n",
    "            \n",
    "    return result \n",
    "\n",
    "\n",
    "print(solution([[0,0,0,0,0],[0,0,1,0,3],[0,2,5,0,1],[4,2,4,4,2],[3,5,1,3,1]], [1,5,3,5,1,2,1,4]))"
   ]
  },
  {
   "cell_type": "markdown",
   "id": "c9f5997a",
   "metadata": {},
   "source": [
    "## 메뉴 리뉴얼\n",
    "https://programmers.co.kr/learn/courses/30/lessons/72411"
   ]
  },
  {
   "cell_type": "code",
   "execution_count": 13,
   "id": "800814a9",
   "metadata": {},
   "outputs": [
    {
     "data": {
      "text/plain": [
       "Counter({'x': 2, 'y': 2, 'z': 2})"
      ]
     },
     "execution_count": 13,
     "metadata": {},
     "output_type": "execute_result"
    }
   ],
   "source": [
    "from itertools import combinations\n",
    "from collections import Counter\n",
    "\n",
    "def solution(orders, course):\n",
    "    answer = []\n",
    "    for c in course:\n",
    "        temp = []\n",
    "        for o in orders:\n",
    "            combi = combinations(sorted(o), c)\n",
    "            temp += combi\n",
    "        counter = Counter(temp)\n",
    "        if len(counter) and max(counter.values()) != 1:\n",
    "            answer += [''.join(key) for key in counter if counter[key] == max(counter.values())]\n",
    "\n",
    "    return sorted(answer)\n",
    "\n",
    "\n",
    "print(solution([\"ABCFG\", \"AC\", \"CDE\", \"ACDE\", \"BCFG\", \"ACDEH\"], [2,3,4]))"
   ]
  },
  {
   "cell_type": "markdown",
   "id": "946610c2",
   "metadata": {},
   "source": [
    "## 괄호 변환\n",
    "https://programmers.co.kr/learn/courses/30/lessons/60058"
   ]
  },
  {
   "cell_type": "code",
   "execution_count": null,
   "id": "934787ba",
   "metadata": {},
   "outputs": [],
   "source": [
    "def divide(p):\n",
    "    cnt = 0\n",
    "    for i in range(len(p)):\n",
    "        if p[i]== '(':\n",
    "            cnt += 1\n",
    "        else:\n",
    "            cnt -= 1\n",
    "        if cnt == 0:\n",
    "            return p[:i+1], p[i+1:]\n",
    "\n",
    "def check(u):\n",
    "    stack = []\n",
    "    for c in u:\n",
    "        if c == '(':\n",
    "            stack.append(c)\n",
    "        else:\n",
    "            if not stack:\n",
    "                return False\n",
    "            stack.pop()\n",
    "    return True\n",
    "\n",
    "\n",
    "def solution(p):\n",
    "    if not p:\n",
    "        return ''\n",
    "    u, v = divide(p)\n",
    "    if check(u):\n",
    "        return u + solution(v)\n",
    "    else:\n",
    "        answer = '('\n",
    "        answer += solution(v)\n",
    "        answer += ')'\n",
    "        for c in u[1:len(u)-1]:\n",
    "            if c == '(':\n",
    "                answer += ')'\n",
    "            else:\n",
    "                answer += '('\n",
    "        return answer\n",
    "\n",
    "print(solution(\"(()())()\"))"
   ]
  }
 ],
 "metadata": {
  "kernelspec": {
   "display_name": "Python 3",
   "language": "python",
   "name": "python3"
  },
  "language_info": {
   "codemirror_mode": {
    "name": "ipython",
    "version": 3
   },
   "file_extension": ".py",
   "mimetype": "text/x-python",
   "name": "python",
   "nbconvert_exporter": "python",
   "pygments_lexer": "ipython3",
   "version": "3.8.8"
  }
 },
 "nbformat": 4,
 "nbformat_minor": 5
}
