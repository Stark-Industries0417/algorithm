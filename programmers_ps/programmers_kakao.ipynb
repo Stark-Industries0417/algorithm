{
 "cells": [
  {
   "cell_type": "markdown",
   "id": "33bfa95c",
   "metadata": {},
   "source": [
    "## 신고 결과 받기\n",
    "https://programmers.co.kr/learn/courses/30/lessons/92334?language=python3"
   ]
  },
  {
   "cell_type": "code",
   "execution_count": null,
   "id": "908c373c",
   "metadata": {},
   "outputs": [],
   "source": [
    "from collections import defaultdict\n",
    "\n",
    "def solution(id_list, report, k):\n",
    "    answer = []\n",
    "    report = list(set(report))\n",
    "    report_cnt = defaultdict(int)    \n",
    "    who_report = defaultdict(list)\n",
    "    mail = defaultdict(int)\n",
    "\n",
    "    for r in report:\n",
    "        suit, reported = r.split()\n",
    "        report_cnt[reported] += 1\n",
    "        who_report[reported].append(suit)\n",
    "    \n",
    "    for user, cnt in report_cnt.items():\n",
    "        if cnt >= k:\n",
    "            for who in who_report[user]:\n",
    "                mail[who] += 1\n",
    "    for user_id in id_list:\n",
    "        answer.append(mail[user_id])\n",
    "        \n",
    "    return answer"
   ]
  },
  {
   "cell_type": "code",
   "execution_count": null,
   "id": "de21e586",
   "metadata": {},
   "outputs": [],
   "source": [
    "def solution(id_list, report, k):\n",
    "    answer = [0] * len(id_list)\n",
    "    report = set(report)\n",
    "    reported_cnt = {name: 0 for name in id_list} \n",
    "    \n",
    "    for r in report:\n",
    "        reported_cnt[r.split()[1]] += 1\n",
    "        \n",
    "    for r in report:\n",
    "        if reported_cnt[r.split()[1]] >= k:\n",
    "            answer[id_list.index(r.split()[0])] += 1\n",
    "    return answer"
   ]
  },
  {
   "cell_type": "markdown",
   "id": "f80bda3d",
   "metadata": {},
   "source": [
    "## 신규 아이디 추천\n",
    "https://programmers.co.kr/learn/courses/30/lessons/72410"
   ]
  },
  {
   "cell_type": "code",
   "execution_count": null,
   "id": "50d622db",
   "metadata": {},
   "outputs": [],
   "source": [
    "def solution(new_id):\n",
    "    new_id = new_id.lower()\n",
    "\n",
    "    for ch in new_id:\n",
    "        if not(ch.isalpha() or ch.isdigit() or ch == \"-\" or ch == \"_\" or ch == \".\"):\n",
    "            new_id = new_id.replace(ch, \"\")\n",
    "            \n",
    "    while new_id.find(\"..\") != -1:\n",
    "        new_id = new_id.replace(\"..\", \".\")\n",
    "    \n",
    "    if new_id and new_id[0] == \".\":\n",
    "        new_id = new_id[1:]\n",
    "    if new_id and new_id[-1] == \".\":\n",
    "        new_id = new_id[:-1]\n",
    "    \n",
    "    if new_id == \"\":\n",
    "        new_id = \"a\"\n",
    "    \n",
    "    if len(new_id) >= 16:\n",
    "        new_id = new_id[:15]\n",
    "    if new_id[-1] == \".\":\n",
    "        new_id = new_id[:-1]\n",
    "    \n",
    "    while len(new_id) <= 2:\n",
    "        new_id += new_id[-1]\n",
    "    \n",
    "    return new_id"
   ]
  },
  {
   "cell_type": "code",
   "execution_count": 25,
   "id": "82e3c3a0",
   "metadata": {},
   "outputs": [
    {
     "data": {
      "text/plain": [
       "'q.aw.ef.'"
      ]
     },
     "execution_count": 25,
     "metadata": {},
     "output_type": "execute_result"
    }
   ],
   "source": [
    "import re\n",
    "def solution(new_id):\n",
    "    new_id = new_id.lower()\n",
    "    new_id = re.sub('[^a-z0-9\\-_.]', '', new_id)\n",
    "    new_id = re.sub('[.]+', '.', new_id)\n",
    "    new_id = re.sub('^[.]|[.]$', '', new_id)\n",
    "    new_id = 'a' if new_id == '' else new_id[:15]\n",
    "    new_id = re.sub('[.]$', '', new_id)\n",
    "    new_id = new_id  if not len(new_id) <= 2 else new_id + ''.join(new_id[-1] for _ in range(3 - len(new_id)))\n",
    "    return new_id"
   ]
  }
 ],
 "metadata": {
  "kernelspec": {
   "display_name": "Python 3",
   "language": "python",
   "name": "python3"
  },
  "language_info": {
   "codemirror_mode": {
    "name": "ipython",
    "version": 3
   },
   "file_extension": ".py",
   "mimetype": "text/x-python",
   "name": "python",
   "nbconvert_exporter": "python",
   "pygments_lexer": "ipython3",
   "version": "3.8.8"
  }
 },
 "nbformat": 4,
 "nbformat_minor": 5
}
