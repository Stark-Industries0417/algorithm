{
 "cells": [
  {
   "cell_type": "markdown",
   "id": "33bfa95c",
   "metadata": {},
   "source": [
    "## 신고 결과 받기\n",
    "https://programmers.co.kr/learn/courses/30/lessons/92334?language=python3"
   ]
  },
  {
   "cell_type": "code",
   "execution_count": null,
   "id": "908c373c",
   "metadata": {},
   "outputs": [],
   "source": [
    "from collections import defaultdict\n",
    "\n",
    "def solution(id_list, report, k):\n",
    "    answer = []\n",
    "    report = list(set(report))\n",
    "    report_cnt = defaultdict(int)    \n",
    "    who_report = defaultdict(list)\n",
    "    mail = defaultdict(int)\n",
    "\n",
    "    for r in report:\n",
    "        suit, reported = r.split()\n",
    "        report_cnt[reported] += 1\n",
    "        who_report[reported].append(suit)\n",
    "    \n",
    "    for user, cnt in report_cnt.items():\n",
    "        if cnt >= k:\n",
    "            for who in who_report[user]:\n",
    "                mail[who] += 1\n",
    "    for user_id in id_list:\n",
    "        answer.append(mail[user_id])\n",
    "        \n",
    "    return answer"
   ]
  },
  {
   "cell_type": "code",
   "execution_count": null,
   "id": "de21e586",
   "metadata": {},
   "outputs": [],
   "source": [
    "def solution(id_list, report, k):\n",
    "    answer = [0] * len(id_list)\n",
    "    report = set(report)\n",
    "    reported_cnt = {name: 0 for name in id_list} \n",
    "    \n",
    "    for r in report:\n",
    "        reported_cnt[r.split()[1]] += 1\n",
    "        \n",
    "    for r in report:\n",
    "        if reported_cnt[r.split()[1]] >= k:\n",
    "            answer[id_list.index(r.split()[0])] += 1\n",
    "    return answer"
   ]
  }
 ],
 "metadata": {
  "kernelspec": {
   "display_name": "Python 3",
   "language": "python",
   "name": "python3"
  },
  "language_info": {
   "codemirror_mode": {
    "name": "ipython",
    "version": 3
   },
   "file_extension": ".py",
   "mimetype": "text/x-python",
   "name": "python",
   "nbconvert_exporter": "python",
   "pygments_lexer": "ipython3",
   "version": "3.8.8"
  }
 },
 "nbformat": 4,
 "nbformat_minor": 5
}
