{
 "cells": [
  {
   "attachments": {},
   "cell_type": "markdown",
   "metadata": {},
   "source": [
    "## 뉴스 클러스터링\n",
    "https://school.programmers.co.kr/learn/courses/30/lessons/17677"
   ]
  },
  {
   "cell_type": "code",
   "execution_count": null,
   "metadata": {},
   "outputs": [],
   "source": [
    "from collections import Counter\n",
    "\n",
    "def solution(str1, str2):\n",
    "    str1 = [str1[i:i+2].lower() for i in range(len(str1)-1) if str1[i:i+2].isalpha()]\n",
    "    str2 = [str2[i:i+2].lower() for i in range(len(str2)-1) if str2[i:i+2].isalpha()]\n",
    "\n",
    "    str1, str2 = Counter(str1), Counter(str2)\n",
    "    \n",
    "    inter = sum((str1 & str2).values())\n",
    "    temp = sum((str1 | str2).values())\n",
    "\n",
    "    if not temp:\n",
    "        return 65536\n",
    "\n",
    "    return int(inter/temp * 65536)\n",
    "\n",
    "solution(\"handshake\", \"shake hands\")\n",
    "solution(\"FRANCE\", \"french\")"
   ]
  }
 ],
 "metadata": {
  "language_info": {
   "name": "python"
  },
  "orig_nbformat": 4
 },
 "nbformat": 4,
 "nbformat_minor": 2
}
