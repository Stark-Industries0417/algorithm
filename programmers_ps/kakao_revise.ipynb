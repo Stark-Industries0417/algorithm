{
 "cells": [
  {
   "attachments": {},
   "cell_type": "markdown",
   "metadata": {},
   "source": [
    "## 뉴스 클러스터링\n",
    "https://school.programmers.co.kr/learn/courses/30/lessons/17677"
   ]
  },
  {
   "cell_type": "code",
   "execution_count": null,
   "metadata": {},
   "outputs": [],
   "source": [
    "from collections import Counter\n",
    "\n",
    "def solution(str1, str2):\n",
    "    str1 = [str1[i:i+2].lower() for i in range(len(str1)-1) if str1[i:i+2].isalpha()]\n",
    "    str2 = [str2[i:i+2].lower() for i in range(len(str2)-1) if str2[i:i+2].isalpha()]\n",
    "\n",
    "    str1, str2 = Counter(str1), Counter(str2)\n",
    "    \n",
    "    inter = sum((str1 & str2).values())\n",
    "    temp = sum((str1 | str2).values())\n",
    "\n",
    "    if not temp:\n",
    "        return 65536\n",
    "\n",
    "    return int(inter/temp * 65536)\n",
    "\n",
    "solution(\"handshake\", \"shake hands\")\n",
    "solution(\"FRANCE\", \"french\")"
   ]
  },
  {
   "attachments": {},
   "cell_type": "markdown",
   "metadata": {},
   "source": [
    "## 프렌즈 4블록\n",
    "https://school.programmers.co.kr/learn/courses/30/lessons/17679"
   ]
  },
  {
   "cell_type": "code",
   "execution_count": null,
   "metadata": {},
   "outputs": [],
   "source": [
    "def solution(m, n, board):\n",
    "    board = list(map(list, board))\n",
    "    ans = 0\n",
    "    while True:\n",
    "        record = [[0] * n for _ in range(m)]\n",
    "        for i in range(m-1):\n",
    "            for j in range(n-1):\n",
    "                if not board[i][j]:\n",
    "                    continue\n",
    "                if board[i][j] == board[i][j+1] == board[i+1][j] == board[i+1][j+1]:\n",
    "                    record[i][j] = record[i][j+1] = record[i+1][j] = record[i+1][j+1] = 1\n",
    "\n",
    "        delete = sum(list(map(sum, record)))\n",
    "        if not delete :\n",
    "            break\n",
    "        ans += delete\n",
    "        \n",
    "        for j in range(n):\n",
    "            for i in range(m-1, -1, -1):\n",
    "                if record[i][j]:\n",
    "                    x, y = i, j\n",
    "                    while record[x][y] and x >= 0:\n",
    "                        x -= 1\n",
    "\n",
    "                    if x >= 0:\n",
    "                        board[i][j] = board[x][y]\n",
    "                        record[x][y] = 1\n",
    "                    else:\n",
    "                        board[i][j] = 0\n",
    "    return ans\n",
    "\n",
    "\n",
    "print(solution(4, 5, [\"CCBDE\", \"AAADE\", \"AAABF\", \"CCBBF\"]))\n",
    "print(solution(6, 6, [\"TTTANT\", \"RRFACC\", \"RRRFCC\", \"TRRRAA\", \"TTMMMF\", \"TMMTTJ\"]))"
   ]
  },
  {
   "attachments": {},
   "cell_type": "markdown",
   "metadata": {},
   "source": [
    "## 캐시\n",
    "https://school.programmers.co.kr/learn/courses/30/lessons/17680"
   ]
  },
  {
   "cell_type": "code",
   "execution_count": null,
   "metadata": {},
   "outputs": [],
   "source": [
    "def solution(cacheSize, cities):\n",
    "    time = 0\n",
    "    cache = []\n",
    "    for city in cities:\n",
    "        city = city.lower()\n",
    "        if cacheSize:\n",
    "            if city in cache:\n",
    "                cache.append(cache.pop(cache.index(city)))\n",
    "                time += 1\n",
    "            else:\n",
    "                if len(cache) == cacheSize:\n",
    "                    cache.pop(0)\n",
    "                cache.append(city)\n",
    "                time += 5\n",
    "        else:\n",
    "            time += 5\n",
    "    return time\n",
    "\n",
    "print(solution(3, [\"Jeju\", \"Pangyo\", \"Seoul\", \"NewYork\", \"LA\", \"Jeju\", \"Pangyo\", \"Seoul\", \"NewYork\", \"LA\"]))\n",
    "print(solution(3, [\"Jeju\", \"Pangyo\", \"Seoul\", \"Jeju\", \"Pangyo\", \"Seoul\", \"Jeju\", \"Pangyo\", \"Seoul\"]))"
   ]
  }
 ],
 "metadata": {
  "kernelspec": {
   "display_name": "Python 3",
   "language": "python",
   "name": "python3"
  },
  "language_info": {
   "name": "python",
   "version": "3.9.6"
  },
  "orig_nbformat": 4
 },
 "nbformat": 4,
 "nbformat_minor": 2
}
