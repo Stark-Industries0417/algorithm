{
 "cells": [
  {
   "cell_type": "markdown",
   "id": "c8b4787c",
   "metadata": {},
   "source": [
    "## 비밀지도\n",
    "https://school.programmers.co.kr/learn/courses/30/lessons/17681"
   ]
  },
  {
   "cell_type": "code",
   "execution_count": null,
   "id": "50b2d3c4",
   "metadata": {},
   "outputs": [],
   "source": [
    "def solution(n, arr1, arr2):\n",
    "    answer = [bin(a|b)[2:].zfill(n) for a, b in zip(arr1, arr2)]\n",
    "    return list(map(lambda x: x.replace('1', '#').replace('0', ' '), answer))\n",
    "\n",
    "print(solution(5, [9, 20, 28, 18, 11], [30, 1, 21, 17, 28]))"
   ]
  },
  {
   "cell_type": "markdown",
   "id": "ace50c32",
   "metadata": {},
   "source": [
    "## 숫자 문자열과 영단어\n",
    "https://school.programmers.co.kr/learn/courses/30/lessons/81301"
   ]
  },
  {
   "cell_type": "code",
   "execution_count": 2,
   "id": "abed279f",
   "metadata": {},
   "outputs": [
    {
     "data": {
      "text/plain": [
       "'1478'"
      ]
     },
     "execution_count": 2,
     "metadata": {},
     "output_type": "execute_result"
    }
   ],
   "source": [
    "def solution(s):\n",
    "    nums = {\n",
    "        'zero': '0',\n",
    "        'one': '1',\n",
    "        'two': '2',\n",
    "        'three': '3',\n",
    "        'four': '4',\n",
    "        'five': '5',\n",
    "        'six': '6',\n",
    "        'seven': '7',\n",
    "        'eight': '8',\n",
    "        'nine': '9'\n",
    "    }\n",
    "    for k in nums:\n",
    "        if k in s:\n",
    "            s = s.replace(k, str(nums[k]))\n",
    "    return s\n",
    "solution(\"one4seveneight\")"
   ]
  },
  {
   "cell_type": "markdown",
   "id": "1102a8ec",
   "metadata": {},
   "source": [
    "## 캐시\n",
    "https://school.programmers.co.kr/learn/courses/30/lessons/17680"
   ]
  },
  {
   "cell_type": "code",
   "execution_count": null,
   "id": "8a52ef22",
   "metadata": {},
   "outputs": [],
   "source": [
    "def solution(cacheSize, cities):\n",
    "    cache = []\n",
    "    time = 0\n",
    "    for city in cities:\n",
    "        city = city.lower()\n",
    "        if city in cache:\n",
    "            cache.append(cache.pop(cache.index(city)))\n",
    "            time += 1\n",
    "\n",
    "        else:\n",
    "            if len(cache) != cacheSize:\n",
    "                cache.append(city)\n",
    "\n",
    "            elif cacheSize > 0:\n",
    "                cache.pop(0)\n",
    "                cache.append(city)\n",
    "            time += 5\n",
    "\n",
    "    return time\n",
    "print(solution(2, [\"Jeju\", \"Pangyo\", \"NewYork\", \"newyork\"]))"
   ]
  },
  {
   "cell_type": "code",
   "execution_count": null,
   "id": "a236a841",
   "metadata": {},
   "outputs": [],
   "source": [
    "def solution(cacheSize, cities):\n",
    "    cache = []\n",
    "    time = 0\n",
    "    for city in cities:\n",
    "        city = city.lower()\n",
    "\n",
    "        if cacheSize:\n",
    "            if city in cache:\n",
    "                cache.append(cache.pop(cache.index(city)))\n",
    "                time += 1\n",
    "            else:\n",
    "                if len(cache) == cacheSize:\n",
    "                    cache.pop(0)\n",
    "                cache.append(city)\n",
    "                time += 5\n",
    "        else:\n",
    "            time += 5\n",
    "    return time\n",
    "\n",
    "print(solution(2, [\"Jeju\", \"Pangyo\", \"NewYork\", \"newyork\"]))"
   ]
  },
  {
   "cell_type": "markdown",
   "id": "60118fd0",
   "metadata": {},
   "source": [
    "## 튜플\n",
    "https://school.programmers.co.kr/learn/courses/30/lessons/64065"
   ]
  },
  {
   "cell_type": "code",
   "execution_count": null,
   "id": "b225200b",
   "metadata": {},
   "outputs": [],
   "source": [
    "import re\n",
    "from collections import Counter\n",
    "\n",
    "def solution(s):\n",
    "    cnt = Counter(re.findall('\\d+', s))\n",
    "    return list(map(int, [k for k, v in sorted(cnt.items(), key=lambda x: x[1], reverse=True)]))\n",
    "\n",
    "print(solution(\"{{2},{2,1},{2,1,3},{2,1,3,4}}\"))"
   ]
  },
  {
   "cell_type": "markdown",
   "id": "966af9fb",
   "metadata": {},
   "source": [
    "## k진수에서 소수 구하기\n",
    "https://school.programmers.co.kr/learn/courses/30/lessons/92335"
   ]
  },
  {
   "cell_type": "code",
   "execution_count": 15,
   "id": "260439ed",
   "metadata": {},
   "outputs": [
    {
     "name": "stdout",
     "output_type": "stream",
     "text": [
      "3\n"
     ]
    }
   ],
   "source": [
    "import re\n",
    "\n",
    "def cal(n, k):\n",
    "    temp = '0123456789ABCDEF'\n",
    "    q, mod = divmod(n, k)\n",
    "    if q == 0:\n",
    "        return temp[mod]\n",
    "    else:\n",
    "        return cal(q, k) + temp[mod]\n",
    "\n",
    "def check_prime(n):\n",
    "    if n == '':\n",
    "        return False\n",
    "    n = int(n)\n",
    "    if n <= 1:\n",
    "        return False\n",
    "    for i in range(2, int(n ** 0.5) + 1):\n",
    "        if n % i == 0:\n",
    "            return False\n",
    "    return True\n",
    "\n",
    "def solution(n, k):\n",
    "    nums = cal(n, k)\n",
    "    primes = re.split('0+', nums)\n",
    "    return sum((list(map(check_prime, primes))))\n",
    "\n",
    "print(solution(437674, 3))"
   ]
  },
  {
   "cell_type": "markdown",
   "id": "07a54d31",
   "metadata": {},
   "source": [
    "## 뉴스 클러스터링\n",
    "https://school.programmers.co.kr/learn/courses/30/lessons/17677"
   ]
  },
  {
   "cell_type": "code",
   "execution_count": null,
   "id": "b39bf7e0",
   "metadata": {},
   "outputs": [],
   "source": [
    "from collections import Counter\n",
    "\n",
    "def solution(str1, str2):\n",
    "    \n",
    "    str1 = [str1[i:i+2].lower() for i in range(0, len(str1)-1) if str1[i:i+2].isalpha()]\n",
    "    str2 = [str2[i:i+2].lower() for i in range(0, len(str2)-1) if str2[i:i+2].isalpha()]    \n",
    "    cnt1 = Counter(str1)\n",
    "    cnt2 = Counter(str2)\n",
    "\n",
    "    if not cnt1 and not cnt2:\n",
    "        return 65536\n",
    "\n",
    "    return int(sum((cnt1&cnt2).values())/sum((cnt1|cnt2).values())*65536)\n",
    "print(solution('FRANCE', 'french'))"
   ]
  },
  {
   "cell_type": "code",
   "execution_count": null,
   "id": "5b02006d",
   "metadata": {},
   "outputs": [],
   "source": [
    "def solution(str1, str2):\n",
    "    \n",
    "    str1 = [str1[i:i+2].lower() for i in range(0, len(str1)-1) if str1[i:i+2].isalpha()]\n",
    "    str2 = [str2[i:i+2].lower() for i in range(0, len(str2)-1) if str2[i:i+2].isalpha()]    \n",
    "\n",
    "    inter = set(str1) & set(str2)\n",
    "    temp = set(str1) | set(str2)\n",
    "    if not temp:\n",
    "        return 65536\n",
    "    inter_sum = sum([min(str1.count(i), str2.count(i)) for i in inter])\n",
    "    temp_sum = sum([max(str1.count(t), str2.count(t)) for t in temp])\n",
    "    return int((inter_sum/temp_sum)*65536)\n",
    "\n",
    "print(solution('aa1+aa2', 'AAAA12'))"
   ]
  },
  {
   "cell_type": "markdown",
   "id": "f13b31b7",
   "metadata": {},
   "source": [
    "## 주차 요금 계산\n",
    "https://school.programmers.co.kr/learn/courses/30/lessons/92341"
   ]
  },
  {
   "cell_type": "code",
   "execution_count": 8,
   "id": "789d15d6",
   "metadata": {},
   "outputs": [
    {
     "data": {
      "text/plain": [
       "1"
      ]
     },
     "execution_count": 8,
     "metadata": {},
     "output_type": "execute_result"
    }
   ],
   "source": [
    "from collections import defaultdict\n",
    "\n",
    "def solution(fees, records):\n",
    "    free, pee, unitT, unit = fees\n",
    "    in_dict, out_dict = defaultdict(list), defaultdict(list)\n",
    "    for record in records:\n",
    "        time, carN, state = record.split()\n",
    "        carN = int(carN)\n",
    "        if state == 'IN':\n",
    "            in_dict[carN].append(int(time[:2]) * 60 + int(time[3:]))\n",
    "        else:\n",
    "            out_dict[carN].append(int(time[:2]) * 60 + int(time[3:]))\n",
    "\n",
    "    for k in in_dict:\n",
    "        if len(in_dict[k]) != len(out_dict[k]):\n",
    "            out_dict[k].append(1439)\n",
    "\n",
    "    in_dict = dict(sorted(in_dict.items()))\n",
    "    out_dict = dict(sorted(out_dict.items()))\n",
    "\n",
    "    diff_time = defaultdict(int)\n",
    "    for inK, outK in zip(in_dict, out_dict):\n",
    "        for inT, outT in zip(in_dict[inK], out_dict[outK]):\n",
    "            diff_time[inK] += outT - inT\n",
    "\n",
    "    answer = []\n",
    "    for v in diff_time.values():\n",
    "        if v > free:\n",
    "            answer.append(pee + (-(-(v - free)//unitT))*unit)\n",
    "        else:\n",
    "            answer.append(pee)\n",
    "    return answer\n",
    "\n",
    "\n",
    "solution([180, 5000, 10, 600], [\"05:34 5961 IN\", \"06:00 0000 IN\", \"06:34 0000 OUT\", \"07:59 5961 OUT\", \"07:59 0148 IN\", \"18:59 0000 IN\", \"19:09 0148 OUT\", \"22:59 5961 IN\", \"23:00 5961 OUT\"])"
   ]
  },
  {
   "cell_type": "code",
   "execution_count": null,
   "id": "d6a6acac",
   "metadata": {},
   "outputs": [],
   "source": [
    "\n",
    "import math\n",
    "from collections import defaultdict\n",
    "\n",
    "def timetominute(time):\n",
    "    h, m = map(int, time.split(':'))\n",
    "    return h*60 + m\n",
    "\n",
    "def solution(fees, records):\n",
    "    answer = []\n",
    "    dt, df, ut, uf = fees\n",
    "\n",
    "    info = defaultdict(list)\n",
    "    for record in records:\n",
    "        time, nums, status = record.split()\n",
    "        info[nums].append([timetominute(time), status])\n",
    "\n",
    "    info = dict(sorted(info.items(), key=lambda x: int(x[0])))\n",
    "\n",
    "    for key in info:\n",
    "        t = 0\n",
    "\n",
    "        for minute, state in info[key]:\n",
    "            if state == 'IN':\n",
    "                t -= minute\n",
    "            else:\n",
    "                t += minute\n",
    "\n",
    "        if info[key][-1][1] == 'IN':\n",
    "            t += timetominute('23:59')\n",
    "        if t <= dt:\n",
    "            answer.append(df)\n",
    "        else:\n",
    "            answer.append(df + math.ceil((t-dt)/ut) * uf)\n",
    "    return answer\n",
    "\n",
    "solution([180, 5000, 10, 600], [\"05:34 5961 IN\", \"06:00 0000 IN\", \"06:34 0000 OUT\", \"07:59 5961 OUT\", \"07:59 0148 IN\", \"18:59 0000 IN\", \"19:09 0148 OUT\", \"22:59 5961 IN\", \"23:00 5961 OUT\"])"
   ]
  },
  {
   "cell_type": "markdown",
   "id": "57e865de",
   "metadata": {},
   "source": [
    "## 실패율\n",
    "https://school.programmers.co.kr/learn/courses/30/lessons/42889"
   ]
  },
  {
   "cell_type": "code",
   "execution_count": null,
   "id": "e814306f",
   "metadata": {},
   "outputs": [],
   "source": [
    "def solution(N, stages):\n",
    "    p = {}\n",
    "    total = len(stages)\n",
    "    for i in range(1, N+1):\n",
    "        fail = stages.count(i)\n",
    "        if fail:\n",
    "            p[i] = fail/total\n",
    "            total -= fail\n",
    "        else:\n",
    "            p[i] = 0\n",
    "    return sorted(p, key=lambda x: -p[x])\n",
    "\n",
    "solution(4, [4,4,4,4,4])"
   ]
  },
  {
   "cell_type": "code",
   "execution_count": null,
   "id": "780b5b8c",
   "metadata": {},
   "outputs": [],
   "source": [
    "from collections import Counter\n",
    "\n",
    "def solution(N, stages):\n",
    "    answer = {}\n",
    "    cnt = Counter(stages)\n",
    "    for n in range(1, N+1):\n",
    "\n",
    "        answer[n] = cnt[n] / sum(cnt[i] for i in cnt.keys() if i >= n)\n",
    "    return sorted(answer, key=lambda x: -answer[x])\n",
    "\n",
    "print(solution(5, [3, 3, 3, 3]))"
   ]
  },
  {
   "cell_type": "markdown",
   "id": "b8155625",
   "metadata": {},
   "source": [
    "## 다트 게임\n",
    "https://school.programmers.co.kr/learn/courses/30/lessons/17682"
   ]
  },
  {
   "cell_type": "code",
   "execution_count": null,
   "id": "270021b5",
   "metadata": {},
   "outputs": [],
   "source": [
    "# 옛날\n",
    "def solution(dartResult):\n",
    "    answer = []\n",
    "    scores = ['S', 'D', 'T']\n",
    "    n = ''\n",
    "    for dart in dartResult:\n",
    "        if dart.isdigit():\n",
    "            n += dart\n",
    "        \n",
    "        if dart in scores:\n",
    "            answer.append(int(n) ** (scores.index(dart)+1))\n",
    "            n = ''\n",
    "        \n",
    "        if dart == '*':\n",
    "            if len(answer) == 1:\n",
    "                answer[0] *= 2\n",
    "            else:\n",
    "                answer[-1] *= 2\n",
    "                answer[-2] *= 2\n",
    "        \n",
    "        elif dart == '#':\n",
    "            answer[-1] *= -1\n",
    "\n",
    "    return sum(answer)\n",
    "print(solution('1D2S#10S'))"
   ]
  },
  {
   "cell_type": "code",
   "execution_count": 3,
   "id": "60663c8c",
   "metadata": {},
   "outputs": [
    {
     "data": {
      "text/plain": [
       "4"
      ]
     },
     "execution_count": 3,
     "metadata": {},
     "output_type": "execute_result"
    }
   ],
   "source": [
    "def solution(dartResult):\n",
    "    square = ['S', 'D', 'T']\n",
    "    stack = []\n",
    "    num = ''\n",
    "    for dart in dartResult:\n",
    "        if dart.isdigit():\n",
    "            num += dart\n",
    "            digit = int(num)\n",
    "        elif dart in square:\n",
    "            digit **= (square.index(dart)+1)\n",
    "            stack.append(digit)\n",
    "            num = ''\n",
    "        elif dart == '*':\n",
    "            if len(stack) > 1:\n",
    "                stack[-2] *= 2\n",
    "                stack[-1] *= 2\n",
    "            else:\n",
    "                stack[-1] *= 2\n",
    "        else:\n",
    "            stack[-1] *= -1\n",
    "    return sum(stack)\n",
    "\n",
    "\n",
    "print(solution('1D2S#10S'))"
   ]
  },
  {
   "cell_type": "markdown",
   "id": "e240c0b9",
   "metadata": {},
   "source": [
    "## 압축\n",
    "https://school.programmers.co.kr/learn/courses/30/lessons/17684"
   ]
  },
  {
   "cell_type": "code",
   "execution_count": 7,
   "id": "da70aa1e",
   "metadata": {},
   "outputs": [
    {
     "data": {
      "text/plain": [
       "2"
      ]
     },
     "execution_count": 7,
     "metadata": {},
     "output_type": "execute_result"
    }
   ],
   "source": [
    "def solution(msg):\n",
    "    ans = []\n",
    "    alpha = {chr(i): i-64 for i in range(65, 91)}\n",
    "    \n",
    "    while msg:\n",
    "        tt = 1\n",
    "        while msg[:tt] in alpha and tt <= len(msg):\n",
    "            tt += 1\n",
    "\n",
    "        ans.append(alpha[msg[:tt-1]])\n",
    "        alpha[msg[:tt]] = len(alpha) + 1\n",
    "        msg = msg[tt-1:]\n",
    "    return ans\n",
    "\n",
    "print(solution('KAKAO'))"
   ]
  },
  {
   "cell_type": "markdown",
   "id": "28c860af",
   "metadata": {},
   "source": [
    "## 오픈채팅방\n",
    "https://school.programmers.co.kr/learn/courses/30/lessons/42888"
   ]
  },
  {
   "cell_type": "code",
   "execution_count": null,
   "id": "503e1751",
   "metadata": {},
   "outputs": [],
   "source": [
    "def solution(record):\n",
    "    result = []\n",
    "    id = {}\n",
    "    for r in record:\n",
    "        r = r.split()\n",
    "        if r[0] in ['Enter', 'Change']:\n",
    "            id[r[1]] = r[2] \n",
    "\n",
    "    for r in record:\n",
    "        r = r.split()\n",
    "        if r[0] == 'Enter':\n",
    "            result.append(f'{id[r[1]]}님이 들어왔습니다.')\n",
    "        elif r[0] == 'Leave':\n",
    "            result.append(f'{id[r[1]]}님이 나갔습니다.')\n",
    "    return result"
   ]
  },
  {
   "cell_type": "markdown",
   "id": "0720f965",
   "metadata": {},
   "source": [
    "## 프렌즈4블록\n",
    "https://school.programmers.co.kr/learn/courses/30/lessons/17679#"
   ]
  },
  {
   "cell_type": "code",
   "execution_count": null,
   "id": "6ddedf3a",
   "metadata": {},
   "outputs": [],
   "source": [
    "# 틀림 위 블록이 아래로 차례대로 내려오도록 하지못해 틀림\n",
    "\n",
    "def solution(m, n, board):\n",
    "    board = list(map(list, board))\n",
    "    ans = 0\n",
    "    while True:\n",
    "        record = [[0] * n for _ in range(m)]\n",
    "        for i in range(m-1):\n",
    "            for j in range(n-1):\n",
    "                if not board[i][j]:\n",
    "                    continue\n",
    "                if board[i][j] == board[i][j+1] == board[i+1][j] == board[i+1][j+1]:\n",
    "                    record[i][j] = record[i][j+1] = record[i+1][j] = record[i+1][j+1] = 1\n",
    "\n",
    "        delete = sum(list(map(sum, record)))\n",
    "        if not delete :\n",
    "            break\n",
    "        ans += delete\n",
    "        \n",
    "        for j in range(n):\n",
    "            for i in range(m-1, -1, -1):\n",
    "                if record[i][j]:\n",
    "                    x, y = i, j\n",
    "                    while record[x][y] and x >= 0:\n",
    "                        board[x][y] = 0\n",
    "                        x -= 1\n",
    "\n",
    "                    if x >= 0:\n",
    "                        board[i][j] = board[x][y]\n",
    "                        board[x][y] = 0\n",
    "\n",
    "    return ans\n",
    "\n",
    "print(solution(8, 5, [\"HGNHU\", \"CRSHV\", \"UKHVL\", \"MJHQB\", \"GSHOT\", \"MQMJJ\", \"AGJKK\", \"QULKK\"]))"
   ]
  },
  {
   "cell_type": "code",
   "execution_count": null,
   "id": "bccec923",
   "metadata": {},
   "outputs": [],
   "source": [
    "def solution(m, n, board):\n",
    "    board = list(map(list, board))\n",
    "    ans = 0\n",
    "    while True:\n",
    "        record = [[0] * n for _ in range(m)]\n",
    "        for i in range(m-1):\n",
    "            for j in range(n-1):\n",
    "                if not board[i][j]:\n",
    "                    continue\n",
    "                if board[i][j] == board[i][j+1] == board[i+1][j] == board[i+1][j+1]:\n",
    "                    record[i][j] = record[i][j+1] = record[i+1][j] = record[i+1][j+1] = 1\n",
    "\n",
    "        delete = sum(list(map(sum, record)))\n",
    "        if not delete :\n",
    "            break\n",
    "        ans += delete\n",
    "        \n",
    "        for j in range(n):\n",
    "            for i in range(m-1, -1, -1):\n",
    "                if record[i][j]:\n",
    "                    x, y = i, j\n",
    "                    while record[x][y] and x >= 0:\n",
    "                        x -= 1\n",
    "\n",
    "                    if x >= 0:\n",
    "                        board[i][j] = board[x][y]\n",
    "                        record[x][y] = 1\n",
    "                    else:\n",
    "                        board[i][j] = 0\n",
    "    return ans\n",
    "print(solution(8, 5, [\"HGNHU\", \"CRSHV\", \"UKHVL\", \"MJHQB\", \"GSHOT\", \"MQMJJ\", \"AGJKK\", \"QULKK\"]))"
   ]
  },
  {
   "cell_type": "markdown",
   "id": "daabc55a",
   "metadata": {},
   "source": [
    "## n진수 게임\n",
    "https://school.programmers.co.kr/learn/courses/30/lessons/17687"
   ]
  },
  {
   "cell_type": "code",
   "execution_count": null,
   "id": "59c4267f",
   "metadata": {},
   "outputs": [],
   "source": [
    "def go(num, n):\n",
    "    temp = '0123456789ABCDEF'\n",
    "    q, mod = divmod(num, n)\n",
    "    if q == 0:\n",
    "        return temp[mod]\n",
    "    else:\n",
    "        return go(q, n) + temp[mod]\n",
    "\n",
    "def solution(n, t, m, p):\n",
    "    nums = ''\n",
    "    for i in range(t*m):\n",
    "        nums += go(i, n)\n",
    "    ans = [nums[m*i + p-1] for i in range(t)]\n",
    "\n",
    "    return ''.join(ans)\n",
    "\n",
    "print(solution(2, 4, 2, 1))"
   ]
  },
  {
   "cell_type": "code",
   "execution_count": null,
   "id": "c6536cbd",
   "metadata": {},
   "outputs": [],
   "source": [
    "dic = {i: chr(55+i) for i in range(10, 16)}\n",
    "def cal(num, n):\n",
    "    p = ''\n",
    "    while num > 0:\n",
    "        num, mod = num//n, num%n\n",
    "        if mod >= 10:\n",
    "            mod = dic[mod]\n",
    "        p += str(mod)\n",
    "\n",
    "    return p[::-1] if p else '0'\n",
    "\n",
    "def solution(n, t, m, p):\n",
    "    answer = ''\n",
    "    tmp = ''\n",
    "    for i in range(t*m):\n",
    "        tmp += cal(i, n)\n",
    "    for i in range(t):\n",
    "        answer += tmp[p-1+m*i]\n",
    "        \n",
    "    return answer\n",
    "print(solution(2, 4, 2, 1))"
   ]
  },
  {
   "cell_type": "markdown",
   "id": "16377fe6",
   "metadata": {},
   "source": [
    "## 파일명 정렬\n",
    "https://school.programmers.co.kr/learn/courses/30/lessons/17686"
   ]
  },
  {
   "cell_type": "code",
   "execution_count": null,
   "id": "f3015e49",
   "metadata": {},
   "outputs": [],
   "source": [
    "import re\n",
    "\n",
    "def solution(files):\n",
    "    sortli = []\n",
    "    for file in files:\n",
    "        file_split = re.split('(\\d+)', file)\n",
    "        sortli.append(file_split)\n",
    "\n",
    "    sortli.sort(key=lambda x: (x[0].lower(), int(x[1])))\n",
    "    return [''.join(s) for s in sortli]\n",
    "print(solution([\"img12.png\", \"img10.png\", \"img02.png\", \"img1.png\", \"IMG01.GIF\", \"img2.JPG\"]))"
   ]
  },
  {
   "cell_type": "markdown",
   "id": "76916734",
   "metadata": {},
   "source": [
    "## 키패드 누르기\n",
    "https://school.programmers.co.kr/learn/courses/30/lessons/67256"
   ]
  },
  {
   "cell_type": "code",
   "execution_count": null,
   "id": "308026be",
   "metadata": {},
   "outputs": [],
   "source": [
    "def solution(numbers, hand):\n",
    "    ans = ''\n",
    "    l, r = 10, 12\n",
    "    for number in numbers:\n",
    "        if number in [1, 4, 7]:\n",
    "            l = number\n",
    "            ans += \"L\"\n",
    "        elif number in [3, 6, 9]:\n",
    "            r = number\n",
    "            ans += \"R\"\n",
    "        else:\n",
    "            if number == 0:\n",
    "                number = 11\n",
    "            x, y = (number-1)//3, (number-1)%3\n",
    "            lx, ly = (l-1)//3, (l-1)%3\n",
    "            rx, ry = (r-1)//3, (r-1)%3\n",
    "            rdist = abs(rx - x) + abs(ry - y)\n",
    "            ldist = abs(lx - x) + abs(ly - y)\n",
    "\n",
    "            if rdist > ldist:\n",
    "                l = number\n",
    "                ans += \"L\"\n",
    "            elif rdist < ldist:\n",
    "                r = number\n",
    "                ans += \"R\"\n",
    "            else:\n",
    "                if hand == \"right\":\n",
    "                    r = number\n",
    "                    ans += \"R\"\n",
    "                else:\n",
    "                    l = number\n",
    "                    ans += \"L\"\n",
    "    return ans\n",
    "\n",
    "\n",
    "print(solution([1, 3, 4, 5, 8, 2, 1, 4, 5, 9, 5], \"right\"))"
   ]
  },
  {
   "cell_type": "markdown",
   "id": "8cde0fed",
   "metadata": {},
   "source": [
    "## 크레인 인형뽑기 게임\n",
    "https://school.programmers.co.kr/learn/courses/30/lessons/64061"
   ]
  },
  {
   "cell_type": "code",
   "execution_count": 5,
   "id": "60221217",
   "metadata": {},
   "outputs": [
    {
     "data": {
      "text/plain": [
       "4"
      ]
     },
     "execution_count": 5,
     "metadata": {},
     "output_type": "execute_result"
    }
   ],
   "source": [
    "def solution(board, moves):\n",
    "    moves = list(map(lambda x: x-1, moves))\n",
    "    stack = []\n",
    "    ans = 0\n",
    "    for move in moves:\n",
    "        for i in range(len(board)):\n",
    "            if board[i][move]:\n",
    "                stack.append(board[i][move])\n",
    "                board[i][move] = 0\n",
    "                break\n",
    "\n",
    "        if len(stack) > 1 and stack[-1] == stack[-2]:\n",
    "            stack.pop(-1)\n",
    "            stack.pop(-1)\n",
    "            ans += 2\n",
    "    return ans\n",
    "    \n",
    "\n",
    "\n",
    "solution([[0,0,0,0,0],[0,0,1,0,3],[0,2,5,0,1],[4,2,4,4,2],[3,5,1,3,1]], [1,5,3,5,1,2,1,4])"
   ]
  },
  {
   "cell_type": "markdown",
   "id": "5a8e3840",
   "metadata": {},
   "source": [
    "## 신규 아이디 추천\n",
    "https://school.programmers.co.kr/learn/courses/30/lessons/72410"
   ]
  },
  {
   "cell_type": "code",
   "execution_count": null,
   "id": "e24de895",
   "metadata": {},
   "outputs": [],
   "source": [
    "import re\n",
    "\n",
    "def solution(new_id):\n",
    "    new_id = new_id.lower()\n",
    "    new_id = re.sub(\"[^a-z\\d\\-\\_\\.]\", '', new_id)\n",
    "    new_id = re.sub(\"\\.+\", '.', new_id)\n",
    "    new_id = re.sub('^[.]|[.]$', '', new_id)\n",
    "    new_id = 'a' if new_id == '' else new_id[:15]\n",
    "    new_id = re.sub('\\.$', '', new_id)\n",
    "    new_id = new_id if not len(new_id) <= 2 else new_id + new_id[-1] * (3 - len(new_id))\n",
    "    return new_id\n",
    "\n",
    "solution(\"z-+.^.\")"
   ]
  },
  {
   "cell_type": "markdown",
   "id": "e584d4e6",
   "metadata": {},
   "source": [
    "## 메뉴 리뉴얼\n",
    "https://school.programmers.co.kr/learn/courses/30/lessons/72411"
   ]
  },
  {
   "cell_type": "code",
   "execution_count": null,
   "id": "59403c0c",
   "metadata": {},
   "outputs": [],
   "source": [
    "from itertools import combinations\n",
    "from collections import Counter\n",
    "\n",
    "def solution(orders, course):\n",
    "    ans = []\n",
    "    for c in course:\n",
    "        cnt = Counter()\n",
    "        for order in orders:\n",
    "            cnt.update(list(combinations(sorted(order), c)))\n",
    "        ans += [''.join(c) for c in cnt if cnt[c] == max(cnt.values()) and cnt[c] >= 2]\n",
    "    \n",
    "    return sorted(ans)\n",
    "\n",
    "\n",
    "print(solution([\"ABCFG\", \"AC\", \"CDE\", \"ACDE\", \"BCFG\", \"ACDEH\"], [2,3,4]))"
   ]
  },
  {
   "cell_type": "markdown",
   "id": "ed91cebc",
   "metadata": {},
   "source": [
    "## 괄호 변환\n",
    "https://school.programmers.co.kr/learn/courses/30/lessons/60058"
   ]
  },
  {
   "cell_type": "code",
   "execution_count": 1,
   "id": "64a6ee65",
   "metadata": {},
   "outputs": [
    {
     "name": "stdout",
     "output_type": "stream",
     "text": [
      "()(())()\n"
     ]
    }
   ],
   "source": [
    "def check(u):\n",
    "    stack = []\n",
    "\n",
    "    for p in u:\n",
    "        if p == '(':\n",
    "            stack.append(p)\n",
    "        else:\n",
    "            if not stack:\n",
    "                return False\n",
    "            stack.pop()\n",
    "\n",
    "    return True\n",
    "\n",
    "def divide(p):\n",
    "    cnt = 0\n",
    "    for i in range(len(p)):\n",
    "        if p[i] == '(':\n",
    "            cnt += 1\n",
    "        else:\n",
    "            cnt -= 1\n",
    "        if cnt == 0:\n",
    "            return p[:i+1], p[i+1:]\n",
    "        \n",
    "def solution(p):\n",
    "    if p == '':\n",
    "        return ''\n",
    "    u, v = divide(p)\n",
    "    \n",
    "    if check(u):\n",
    "        return u + solution(v)\n",
    "    else:\n",
    "        ans = '('\n",
    "        ans += solution(v)\n",
    "        ans += ')'\n",
    "        u = u[1: -1]\n",
    "        for i in range(len(u)):\n",
    "            if u[i] == '(':\n",
    "                ans += ')'\n",
    "            else:\n",
    "                ans += '('\n",
    "        return ans\n",
    "\n",
    "print(solution(\"()))((()\"))"
   ]
  },
  {
   "cell_type": "markdown",
   "id": "86604fc3",
   "metadata": {},
   "source": [
    "## 수식 최대화\n",
    "https://school.programmers.co.kr/learn/courses/30/lessons/67257"
   ]
  },
  {
   "cell_type": "code",
   "execution_count": null,
   "id": "09b24bef",
   "metadata": {},
   "outputs": [],
   "source": [
    "import re\n",
    "from itertools import permutations\n",
    "\n",
    "def solution(expression):\n",
    "    exp = re.split('([-*+])', expression)\n",
    "    operation = list(permutations(['+', '*', '-']))\n",
    "    ans = 0\n",
    "\n",
    "    for op in operation:\n",
    "        cp = exp[:]\n",
    "        for o in op:\n",
    "            stack = []\n",
    "            while cp:\n",
    "                tmp = cp.pop(0)\n",
    "                if tmp == o:\n",
    "                    stack.append(str(eval(stack.pop() + tmp + cp.pop(0))))\n",
    "                else:\n",
    "                    stack.append(tmp)\n",
    "            cp = stack\n",
    "        ans = max(ans, abs(int(cp[-1])))\n",
    "    return ans\n",
    "        \n",
    "print(solution(\"100-200*300-500+20\"))"
   ]
  },
  {
   "cell_type": "code",
   "execution_count": null,
   "id": "36703655",
   "metadata": {},
   "outputs": [],
   "source": [
    "from itertools import permutations\n",
    "from collections import deque\n",
    "\n",
    "def operation(num1, num2, op):\n",
    "    if op == '+':\n",
    "        return str(int(num1) + int(num2))\n",
    "    elif op == '-':\n",
    "        return str(int(num1) - int(num2))\n",
    "    else:\n",
    "        return str(int(num1) * int(num2))\n",
    "\n",
    "def calculation(exp, ops):\n",
    "    arr = deque()\n",
    "    s = 0\n",
    "    for i, e in enumerate(exp):\n",
    "        if e in ['+', '*', '-']:\n",
    "            arr.append(exp[s:i])\n",
    "            arr.append(e)\n",
    "            s = i+1\n",
    "    else:\n",
    "        arr.append(exp[s:])\n",
    "    \n",
    "    for o in ops:\n",
    "        stack = deque()\n",
    "        while len(arr):\n",
    "            tmp = arr.popleft()\n",
    "            if tmp == o:\n",
    "                stack.append(operation(stack.pop(), arr.popleft(), o))\n",
    "            else:\n",
    "                stack.append(tmp)\n",
    "        arr = stack\n",
    "    return abs(int(arr[0]))\n",
    "\n",
    "def solution(expression):\n",
    "    ops = ['*', '+', '-']\n",
    "    \n",
    "    for op in ops:\n",
    "        if op not in expression:\n",
    "            ops.remove(op)\n",
    "    priority = list(permutations(ops))\n",
    "    result = 0\n",
    "    for p in priority:\n",
    "        value = calculation(expression, p)\n",
    "        if result < value:\n",
    "            result = value\n",
    "    return result\n",
    "print(solution(\"100-200*300-500+20\"))"
   ]
  },
  {
   "cell_type": "markdown",
   "id": "f4566977",
   "metadata": {},
   "source": [
    "## 방금 그곡\n",
    "https://school.programmers.co.kr/learn/courses/30/lessons/17683"
   ]
  },
  {
   "cell_type": "code",
   "execution_count": null,
   "id": "9ff2de2e",
   "metadata": {},
   "outputs": [],
   "source": [
    "def diffTime(s, e):\n",
    "    start = int(s[:2]) * 60 + int(s[3:])\n",
    "    end = int(e[:2])*60 + int(e[3:])\n",
    "    return end - start\n",
    "\n",
    "def solution(m, musicinfos):\n",
    "    m = m.replace(\"C#\",'c').replace(\"D#\", 'd').replace(\"F#\",'f').replace('G#','g').replace('A#','a')\n",
    "    ans = None\n",
    "\n",
    "    for musicinfo in musicinfos:\n",
    "        s, e, title, music = musicinfo.split(',')\n",
    "        diff = diffTime(s, e)\n",
    "        music = music.replace(\"C#\",'c').replace(\"D#\", 'd').replace(\"F#\",'f').replace('G#','g').replace('A#','a')\n",
    "        l = len(music)\n",
    "        music *= -(-diff//l)\n",
    "        music = music[:diff]\n",
    "\n",
    "        if m in music:\n",
    "            if ans == None or ans[1] < diff or (ans[1] == diff and ans[2] > s):\n",
    "                ans = (title, diff, s)\n",
    "    if ans:\n",
    "        return ans[0]\n",
    "\n",
    "    return \"(None)\"\n",
    "\n",
    "\n",
    "print(solution(\"ABCDEFG\", [\"12:00,12:14,HELLO,CDEFGAB\", \"13:00,13:05,WORLD,ABCDEF\"]))"
   ]
  },
  {
   "cell_type": "code",
   "execution_count": null,
   "id": "15f3d148",
   "metadata": {},
   "outputs": [],
   "source": [
    "def solution(m, musicinfos):\n",
    "    answer = None\n",
    "    m = m.replace('C#', 'c').replace('D#', 'd').replace('F#', 'f').replace('G#', 'g').replace('A#', 'a')\n",
    "\n",
    "    for info in musicinfos:\n",
    "        s, e, title, music = info.split(',')\n",
    "\n",
    "        hour, minute = map(int, s.split(':'))\n",
    "        s = hour * 60 + minute\n",
    "\n",
    "        hour, minute = map(int, e.split(':'))\n",
    "        e = hour * 60 + minute\n",
    "        duration = e - s\n",
    "\n",
    "        music = music.replace('C#', 'c').replace('D#', 'd').replace('F#', 'f').replace('G#', 'g').replace('A#', 'a')\n",
    "        music *= -(-duration//len(music))\n",
    "        music = music[:duration]\n",
    "\n",
    "        if m not in music:\n",
    "            continue\n",
    "\n",
    "        if answer == None or answer[0] < duration or (answer[0] == duration and answer[1] > s):\n",
    "            answer = (duration, s, title)\n",
    "    if answer:\n",
    "        return answer[-1]\n",
    "    return \"(None)\"\n",
    "print(solution(\"ABCDEFG\", [\"12:00,12:14,HELLO,CDEFGAB\", \"13:00,13:05,WORLD,ABCDEF\"]))"
   ]
  },
  {
   "cell_type": "markdown",
   "id": "b1a1ddf0",
   "metadata": {},
   "source": [
    "##  두 큐 합 같게 만들기\n",
    "https://school.programmers.co.kr/learn/courses/30/lessons/118667"
   ]
  },
  {
   "cell_type": "code",
   "execution_count": null,
   "id": "24d7efef",
   "metadata": {},
   "outputs": [],
   "source": [
    "from collections import deque\n",
    "\n",
    "def solution(queue1, queue2):\n",
    "    q1, q2 = deque(queue1), deque(queue2)\n",
    "    q1_sum  = sum(queue1)\n",
    "    q2_sum = sum(queue2)\n",
    "    max_cnt, cnt = len(queue1) * 3, 0\n",
    "\n",
    "    while (q1 and q2) and (max_cnt != cnt):\n",
    "        if q1_sum == q2_sum:\n",
    "            return cnt\n",
    "        if q1_sum > q2_sum:\n",
    "            temp = q1.popleft()\n",
    "            q2.append(temp)\n",
    "            q1_sum -= temp\n",
    "            q2_sum += temp\n",
    "        else:\n",
    "            temp = q2.popleft()\n",
    "            q1.append(temp)\n",
    "            q1_sum += temp\n",
    "            q2_sum -= temp\n",
    "\n",
    "        cnt += 1\n",
    "    return -1\n",
    "\n",
    "print(solution([1, 2, 1, 2], [1, 10, 1, 2]))"
   ]
  },
  {
   "cell_type": "code",
   "execution_count": null,
   "id": "b5e79ccf",
   "metadata": {},
   "outputs": [],
   "source": [
    "from collections import deque\n",
    "\n",
    "def solution(queue1, queue2):\n",
    "    q1, q2 = deque(queue1), deque(queue2)\n",
    "    if sum(q1+q2) % 2:\n",
    "        return -1\n",
    "    target = sum(q1+q2) // 2\n",
    "    cur = sum(q1)\n",
    "    queue = q1 + q2\n",
    "    n = len(q1)\n",
    "    start, end = 0, n-1\n",
    "    ans = 0\n",
    "    while cur != target:\n",
    "        if cur < target:\n",
    "            end += 1\n",
    "            if end == n*2:\n",
    "                return -1\n",
    "            cur += queue[end]\n",
    "        else:\n",
    "            cur -= queue[start]\n",
    "            start += 1\n",
    "        ans += 1\n",
    "    return ans\n",
    "\n",
    "print(solution([1, 2, 1, 2], [1, 10, 1, 2]))"
   ]
  },
  {
   "cell_type": "markdown",
   "id": "2eb33160",
   "metadata": {},
   "source": [
    "## 거리두기 확인하기\n",
    "https://school.programmers.co.kr/learn/courses/30/lessons/81302"
   ]
  },
  {
   "cell_type": "code",
   "execution_count": null,
   "id": "abb20c2b",
   "metadata": {},
   "outputs": [],
   "source": [
    "from collections import deque\n",
    "dx, dy = [0, 0, 1, -1], [1, -1, 0, 0]\n",
    "\n",
    "def bfs(place):\n",
    "    visited = [[False] * 5 for _ in range(5)]\n",
    "    for i in range(5):\n",
    "        for j in range(5):\n",
    "            if place[i][j] == 'P':\n",
    "                visited[i][j] = True\n",
    "                q = deque([(i, j, 0)])\n",
    "\n",
    "                while q:\n",
    "                    x, y, d = q.popleft()\n",
    "                    nd = d+1\n",
    "                    for k in range(4):\n",
    "                        nx, ny = x+dx[k], y+dy[k]\n",
    "                        if 0 <= nx < 5 and 0 <= ny < 5 and not visited[nx][ny]:\n",
    "                            if place[nx][ny] == 'O' and nd < 2:\n",
    "                                visited[nx][ny] = True\n",
    "                                q.appendleft((nx, ny, nd))\n",
    "                            elif place[nx][ny] == 'P' and nd <= 2:\n",
    "                                return 0\n",
    "    return 1\n",
    "\n",
    "def solution(places):\n",
    "    result = []\n",
    "    for place in places:\n",
    "        result.append(bfs(place))\n",
    "\n",
    "    return result\n",
    "\n",
    "\n",
    "print(solution([[\"POOOP\", \"OXXOX\", \"OPXPX\", \"OOXOX\", \"POXXP\"], [\"POOPX\", \"OXPXP\", \"PXXXO\", \"OXXXO\", \"OOOPP\"], [\"PXOPX\", \"OXOXP\", \"OXPOX\", \"OXXOP\", \"PXPOX\"], [\"OOOXX\", \"XOOOX\", \"OOOXX\", \"OXOOX\", \"OOOOO\"], [\"PXPXP\", \"XPXPX\", \"PXPXP\", \"XPXPX\", \"PXPXP\"]]))"
   ]
  },
  {
   "cell_type": "markdown",
   "id": "345502ff",
   "metadata": {},
   "source": [
    "## 문자열 압축\n",
    "https://school.programmers.co.kr/learn/courses/30/lessons/60057"
   ]
  },
  {
   "cell_type": "code",
   "execution_count": null,
   "id": "531ae5d2",
   "metadata": {},
   "outputs": [],
   "source": [
    "def solution(s):\n",
    "    result = []\n",
    "    if len(s) == 1:\n",
    "        return 1\n",
    "    for i in range(1, len(s)//2 + 1):\n",
    "        b = ''\n",
    "        cnt = 1\n",
    "        temp = s[:i]\n",
    "        for j in range(i, len(s), i):\n",
    "            if temp == s[j:i+j]:\n",
    "                cnt += 1\n",
    "            else:\n",
    "                if cnt != 1:\n",
    "                    b += str(cnt) + temp\n",
    "                else:\n",
    "                    b += temp\n",
    "                temp = s[j:i+j]\n",
    "                cnt = 1\n",
    "        if cnt != 1:\n",
    "            b += str(cnt) + temp\n",
    "        else:\n",
    "            b += temp\n",
    "        result.append(len(b))\n",
    "    return min(result)\n",
    "print(solution(\"ababcdcdababcdcd\"))"
   ]
  },
  {
   "cell_type": "code",
   "execution_count": null,
   "id": "58b74c69",
   "metadata": {},
   "outputs": [],
   "source": [
    "def solution(s):\n",
    "    min_len = len(s)\n",
    "\n",
    "    for i in range(1, len(s)//2 + 1):\n",
    "        cnt = 1\n",
    "        new_s = ''\n",
    "        for j in range(0, len(s), i):\n",
    "            if s[j:j+i] == s[j+i:j + 2*i]:\n",
    "                cnt += 1\n",
    "            else:\n",
    "                if cnt != 1:\n",
    "                    new_s += str(cnt)\n",
    "                new_s += s[j:j+i]\n",
    "                cnt = 1\n",
    "        min_len = min(min_len, len(new_s))\n",
    "    return min_len\n",
    "\n",
    "print(solution(\"ababcdcdababcdcd\"))"
   ]
  },
  {
   "cell_type": "markdown",
   "id": "7304d04a",
   "metadata": {},
   "source": [
    "## 후보 키\n",
    "https://school.programmers.co.kr/learn/courses/30/lessons/42890"
   ]
  },
  {
   "cell_type": "code",
   "execution_count": null,
   "id": "6925578c",
   "metadata": {},
   "outputs": [],
   "source": [
    "from itertools import combinations\n",
    "\n",
    "def solution(relation):\n",
    "    row = len(relation)\n",
    "    col = len(relation[0])\n",
    "\n",
    "    combi = []\n",
    "    for i in range(1, col+1):\n",
    "        combi.extend(combinations(range(col), i))\n",
    "        \n",
    "    unique = []\n",
    "    for i in combi:\n",
    "        tmp = [tuple([item[key] for key in i]) for item in relation]\n",
    "\n",
    "        if len(set(tmp)) == row:    # 유일성\n",
    "            put = True\n",
    "            \n",
    "            for x in unique:\n",
    "                if set(x).issubset(set(i)):  # 최소성\n",
    "                    put = False\n",
    "                    break\n",
    "                    \n",
    "            if put: unique.append(i)\n",
    "    return len(unique)\n",
    "\n",
    "print(solution([[\"100\",\"ryan\",\"music\",\"2\"],[\"200\",\"apeach\",\"math\",\"2\"],[\"300\",\"tube\",\"computer\",\"3\"],[\"400\",\"con\",\"computer\",\"4\"],[\"500\",\"muzi\",\"music\",\"3\"],[\"600\",\"apeach\",\"music\",\"2\"]]))"
   ]
  },
  {
   "cell_type": "markdown",
   "id": "5147213b",
   "metadata": {},
   "source": [
    "## 성격 유형 검사하기\n",
    "https://school.programmers.co.kr/learn/courses/30/lessons/118666"
   ]
  },
  {
   "cell_type": "code",
   "execution_count": null,
   "id": "c555721f",
   "metadata": {},
   "outputs": [],
   "source": [
    "# 8번 케이스만 틀림\n",
    "\n",
    "def solution(survey, choices):\n",
    "    answer = ''\n",
    "    scores = [0, 3, 2, 1, 0, 1, 2, 3]\n",
    "    index = ['RT', 'CF', 'JM', 'AN']\n",
    "\n",
    "    mbti1 = {'R': 0, 'C': 0, 'J': 0, 'A': 0}\n",
    "    mbti2 = {'T': 0, 'F': 0, 'M': 0, 'N': 0}\n",
    "    \n",
    "    for check, choice in zip(survey, choices):\n",
    "        if choice > 4:\n",
    "            if check[1] in mbti1:\n",
    "                mbti1[check[1]] += scores[choice]\n",
    "            else:\n",
    "                mbti2[check[1]] += scores[choice]\n",
    "        elif choice < 4:\n",
    "            if check[0] in mbti1:\n",
    "                mbti1[check[0]] += scores[choice]\n",
    "            else:\n",
    "                mbti2[check[0]] += scores[choice]\n",
    "\n",
    "    for idx in index:\n",
    "        if mbti1[idx[0]] < mbti2[idx[1]]:\n",
    "            answer += idx[1]\n",
    "        elif mbti1[idx[0]] > mbti2[idx[1]]:\n",
    "            answer += idx[0]\n",
    "        else:\n",
    "            answer += idx[0]\n",
    "\n",
    "    return answer\n",
    "\n",
    "print(solution([\"AN\", \"CF\", \"MJ\", \"RT\", \"NA\"], [5, 3, 2, 7, 5]))"
   ]
  },
  {
   "cell_type": "code",
   "execution_count": 2,
   "id": "9daa6b84",
   "metadata": {},
   "outputs": [
    {
     "data": {
      "text/plain": [
       "'a'"
      ]
     },
     "execution_count": 2,
     "metadata": {},
     "output_type": "execute_result"
    }
   ],
   "source": [
    "from collections import defaultdict\n",
    "\n",
    "score = [0, 3, 2, 1, 0, 1, 2, 3]\n",
    "\n",
    "\n",
    "def solution(survey, choices):\n",
    "    answer = ''\n",
    "    surv = defaultdict(int)\n",
    "\n",
    "    for i in range(len(survey)):\n",
    "        surv[survey[i][choices[i]// 4]] += score[choices[i]]\n",
    "\n",
    "    answer += 'R' if surv['R'] >= surv['T'] else 'T'\n",
    "    answer += 'C' if surv['C'] >= surv['F'] else 'F'\n",
    "    answer += 'J' if surv['J'] >= surv['M'] else 'M'\n",
    "    answer += 'A' if surv['A'] >= surv['N'] else 'N'\n",
    "\n",
    "    return answer\n",
    "\n",
    "\n",
    "print(solution([\"AN\", \"CF\", \"MJ\", \"RT\", \"NA\"], [5, 3, 2, 7, 5]))"
   ]
  },
  {
   "cell_type": "markdown",
   "id": "9cbb7489",
   "metadata": {},
   "source": [
    "## 순위 검색\n",
    "https://school.programmers.co.kr/learn/courses/30/lessons/72412"
   ]
  },
  {
   "cell_type": "code",
   "execution_count": null,
   "id": "42bb3c30",
   "metadata": {},
   "outputs": [],
   "source": [
    "from itertools import combinations\n",
    "from collections import defaultdict\n",
    "from bisect import bisect_left\n",
    "\n",
    "def solution(info, query):\n",
    "    answer = []\n",
    "    inform = defaultdict(list)\n",
    "\n",
    "    for elem in info:\n",
    "        elem = elem.split()\n",
    "        info_key = elem[:-1]\n",
    "        info_val = int(elem[-1])\n",
    "        for i in range(5):\n",
    "            for combi in combinations(info_key, i):\n",
    "                inform[''.join(combi)].append(info_val)\n",
    "    \n",
    "    for key in inform:\n",
    "        inform[key].sort()\n",
    "    \n",
    "    for q_elem in query:\n",
    "        q_elem = q_elem.replace(\"and \", '').replace('-', '').split()\n",
    "        q_key = ''.join(q_elem[:-1])\n",
    "        q_val = int(q_elem[-1])\n",
    "\n",
    "        if q_key in inform:\n",
    "            scores = inform[q_key]\n",
    "            if scores:\n",
    "                idx = bisect_left(scores, q_val)\n",
    "                answer.append(len(scores) - idx)\n",
    "        else:\n",
    "            answer.append(0)\n",
    "    return answer\n",
    "\n",
    "\n",
    "\n",
    "print(solution([\"java backend junior pizza 150\",\"python frontend senior chicken 210\",\"python frontend senior chicken 150\",\"cpp backend senior pizza 260\",\"java backend junior chicken 80\",\"python backend senior chicken 50\"], [\"java and backend and junior and pizza 100\",\"python and frontend and senior and chicken 200\",\"cpp and - and senior and pizza 250\",\"- and backend and senior and - 150\",\"- and - and - and chicken 100\",\"- and - and - and - 150\"]))"
   ]
  },
  {
   "cell_type": "markdown",
   "id": "c4d8ce3a",
   "metadata": {},
   "source": [
    "## 신고 결과 받기\n",
    "https://school.programmers.co.kr/learn/courses/30/lessons/92334"
   ]
  },
  {
   "cell_type": "code",
   "execution_count": 10,
   "id": "5ff6a4bc",
   "metadata": {},
   "outputs": [
    {
     "name": "stdout",
     "output_type": "stream",
     "text": [
      "[2, 1, 1, 0]\n"
     ]
    }
   ],
   "source": [
    "def solution(id_list, report, k):\n",
    "    answer = [0] * len(id_list)\n",
    "    report = list(set(report))\n",
    "\n",
    "    report_num = {name: 0 for name in id_list}\n",
    "    for elem in report:\n",
    "        user, reported = elem.split()\n",
    "        report_num[reported] += 1\n",
    "\n",
    "    for elem in report:\n",
    "        user, reported = elem.split()\n",
    "        if report_num[reported] >= k:\n",
    "            answer[id_list.index(user)] += 1\n",
    "    return answer\n",
    "\n",
    "\n",
    "print(solution([\"muzi\", \"frodo\", \"apeach\", \"neo\"], [\"muzi frodo\",\"apeach frodo\",\"frodo neo\",\"muzi neo\",\"apeach muzi\"], 2))"
   ]
  },
  {
   "cell_type": "markdown",
   "id": "7115d04c",
   "metadata": {},
   "source": [
    "## 양궁대회\n",
    "https://school.programmers.co.kr/learn/courses/30/lessons/92342"
   ]
  },
  {
   "cell_type": "code",
   "execution_count": null,
   "id": "f54b74cb",
   "metadata": {},
   "outputs": [],
   "source": [
    "from collections import deque\n",
    "\n",
    "def bfs(n, info):    \n",
    "    res = []\n",
    "    q = deque([(0, [0, 0, 0, 0, 0, 0, 0, 0, 0, 0, 0])])\n",
    "    maxGap = 0\n",
    "    \n",
    "    while q:\n",
    "        focus, arrow = q.popleft()\n",
    "        \n",
    "        if sum(arrow) == n:  # 종료조건 1) 화살 다 쏜 경우\n",
    "            apeach, lion = 0, 0\n",
    "            for i in range(11):\n",
    "                if not (info[i] == 0 and arrow[i] == 0):\n",
    "                    if info[i] >= arrow[i]:\n",
    "                        apeach += 10 - i\n",
    "                    else:\n",
    "                        lion += 10 - i\n",
    "            if apeach < lion:  # 라이언이 이기면\n",
    "                gap = lion - apeach\n",
    "                if maxGap > gap:\n",
    "                    continue\n",
    "                if maxGap < gap:\n",
    "                    maxGap = gap  # 최대점수차 갱신\n",
    "                    res.clear()\n",
    "                res.append(arrow)  # 최대점수차를 내는 화살상황 저장\n",
    "        \n",
    "        elif sum(arrow) > n:  # 종료조건 2) 화살 더 쏜 경우\n",
    "            continue\n",
    "        \n",
    "        elif focus == 10:  # 종료조건 3) 화살 덜 쏜 경우\n",
    "            tmp = arrow.copy()\n",
    "            tmp[focus] = n - sum(tmp)\n",
    "            q.append((-1, tmp))\n",
    "        \n",
    "        else:  # 화살 쏘기\n",
    "            tmp = arrow.copy()\n",
    "            tmp[focus] = info[focus]+1 \n",
    "            q.append((focus+1, tmp))  # 어피치보다 1발 많이 쏘기\n",
    "            tmp2 = arrow.copy()\n",
    "            tmp2[focus] = 0\n",
    "            q.append((focus+1, tmp2))  # 0발 쏘기\n",
    "    return res\n",
    "\n",
    "def solution(n, info):\n",
    "    winList = bfs(n, info)\n",
    "    \n",
    "    if winList:\n",
    "        return winList[-1]\n",
    "    return [-1]\n",
    "\n",
    "print(solution(10, [0,0,0,0,0,0,0,0,3,4,3]))"
   ]
  },
  {
   "cell_type": "markdown",
   "id": "b7b06dee",
   "metadata": {},
   "source": [
    "## 코딩테스트 공부\n",
    "https://school.programmers.co.kr/learn/courses/30/lessons/118668"
   ]
  },
  {
   "cell_type": "code",
   "execution_count": null,
   "id": "005c6389",
   "metadata": {},
   "outputs": [],
   "source": [
    "def solution(alp, cop, problems):\n",
    "    problems.sort(key=lambda x: (x[0], x[1]))\n",
    "\n",
    "    max_alp = max(list(map(lambda x: x[0], problems)))\n",
    "    max_cop = max(list(map(lambda x: x[1], problems)))\n",
    "\n",
    "    alp = min(max_alp, alp)\n",
    "    cop = min(max_cop, cop)\n",
    "\n",
    "    dp = [[1e9] * (max_cop+1) for _ in range(max_alp + 1)]\n",
    "    dp[alp][cop] = 0\n",
    "\n",
    "    for i in range(alp, max_alp + 1):\n",
    "        for j in range(cop, max_cop + 1):\n",
    "            if i+1 <= max_alp:\n",
    "                dp[i+1][j] = min(dp[i+1][j], dp[i][j] + 1)\n",
    "            if j+1 <= max_cop:\n",
    "                dp[i][j+1] = min(dp[i][j+1], dp[i][j] + 1)\n",
    "            for alp_req, cop_req, alp_rwd, cop_rwd, cost in problems:\n",
    "                if alp_req <= i and cop_req <= j:\n",
    "                    next_alp, next_cop = min(max_alp, i + alp_rwd), min(max_cop, j + cop_rwd)\n",
    "                    dp[next_alp][next_cop] = min(dp[next_alp][next_cop], dp[i][j] + cost)\n",
    "\n",
    "    return dp[-1][-1]\n",
    "print(solution(0, 0, [[0, 0, 2, 1, 2], [4, 5, 3, 1, 2], [4, 11, 4, 0, 2], [10, 4, 0, 4, 2]]))"
   ]
  },
  {
   "cell_type": "markdown",
   "id": "2ea52748",
   "metadata": {},
   "source": [
    "## 추석 트래픽\n",
    "https://school.programmers.co.kr/learn/courses/30/lessons/17676"
   ]
  },
  {
   "cell_type": "code",
   "execution_count": null,
   "id": "f53255f9",
   "metadata": {},
   "outputs": [],
   "source": [
    "from datetime import datetime, timedelta\n",
    "\n",
    "def solution(lines):\n",
    "    start_list, end_list = [], []\n",
    "    for line in lines:\n",
    "        _, end_time, duration = line.split()\n",
    "        end_time = datetime.strptime(end_time, \"%H:%M:%S.%f\")\n",
    "        duration = timedelta(seconds=float(duration[:-1]) - 0.001)\n",
    "        start_list.append(end_time - duration)\n",
    "        end_list.append(end_time)\n",
    "    \n",
    "    max_process = 1\n",
    "    for i in range(len(lines)-1):\n",
    "        curr_end = end_list[i]\n",
    "        curr_process = 1\n",
    "        for j in range(i+1, len(lines)):\n",
    "            if start_list[j] < curr_end + timedelta(seconds=1):\n",
    "                curr_process += 1\n",
    "        max_process = max(max_process, curr_process)\n",
    "    return max_process\n",
    "\n",
    "solution([\n",
    "\"2016-09-15 01:00:04.002 2.0s\",\n",
    "\"2016-09-15 01:00:07.000 2s\"])"
   ]
  }
 ],
 "metadata": {
  "kernelspec": {
   "display_name": "Python 3",
   "language": "python",
   "name": "python3"
  },
  "language_info": {
   "codemirror_mode": {
    "name": "ipython",
    "version": 3
   },
   "file_extension": ".py",
   "mimetype": "text/x-python",
   "name": "python",
   "nbconvert_exporter": "python",
   "pygments_lexer": "ipython3",
   "version": "3.8.8"
  }
 },
 "nbformat": 4,
 "nbformat_minor": 5
}
