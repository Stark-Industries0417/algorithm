{
 "cells": [
  {
   "cell_type": "markdown",
   "id": "434c578b",
   "metadata": {},
   "source": [
    "## 2/16 수\n",
    "https://programmers.co.kr/learn/courses/30/lessons/60057"
   ]
  },
  {
   "cell_type": "code",
   "execution_count": 2,
   "id": "25cd283a",
   "metadata": {},
   "outputs": [
    {
     "name": "stdout",
     "output_type": "stream",
     "text": [
      "9\n"
     ]
    }
   ],
   "source": [
    "def solution(s):\n",
    "    result = []\n",
    "    if len(s) == 1:\n",
    "        return 1\n",
    "    for i in range(1, len(s)//2+1):\n",
    "        b = ''\n",
    "        cnt = 1\n",
    "        tmp = s[:i]\n",
    "        for j in range(i, len(s), i):\n",
    "            if tmp == s[j:i+j]:\n",
    "                cnt += 1\n",
    "            else:\n",
    "                if cnt != 1:\n",
    "                    b = b + str(cnt) + tmp\n",
    "                else:\n",
    "                    b = b + tmp\n",
    "                tmp = s[j:j+i]\n",
    "                cnt = 1\n",
    "        if cnt != 1:\n",
    "            b = b + str(cnt) + tmp\n",
    "        else:\n",
    "            b = b + tmp\n",
    "        result.append(len(b))\n",
    "    return min(result)\n",
    "\n",
    "print(solution(\"ababcdcdababcdcd\"))"
   ]
  },
  {
   "cell_type": "code",
   "execution_count": null,
   "id": "a499f6eb",
   "metadata": {},
   "outputs": [],
   "source": [
    "def compress(text, tok_len):\n",
    "    words = [text[i:i+tok_len] for i in range(0, len(text), tok_len)]\n",
    "    res = []\n",
    "    cur_word = words[0]\n",
    "    cur_cnt = 1\n",
    "    for a, b in zip(words, words[1:] + ['']):\n",
    "        if a == b:\n",
    "            cur_cnt += 1\n",
    "        else:\n",
    "            res.append([cur_word, cur_cnt])\n",
    "            cur_word = b\n",
    "            cur_cnt = 1\n",
    "    return sum(len(word) + (len(str(cnt)) if cnt > 1 else 0) for word, cnt in res)\n",
    "\n",
    "def solution(text):\n",
    "    return min(compress(text, tok_len) for tok_len in list(range(1, len(text)//2 + 1)) + [len(text)])"
   ]
  },
  {
   "cell_type": "markdown",
   "id": "71d7b679",
   "metadata": {},
   "source": [
    "## 오픈채팅방\n",
    "https://programmers.co.kr/learn/courses/30/lessons/42888"
   ]
  },
  {
   "cell_type": "code",
   "execution_count": 12,
   "id": "053562f7",
   "metadata": {},
   "outputs": [
    {
     "name": "stdout",
     "output_type": "stream",
     "text": [
      "['Prodo님이 들어왔습니다.', 'Ryan님이 들어왔습니다.', 'Prodo님이 나갔습니다.', 'Prodo님이 들어왔습니다.']\n"
     ]
    }
   ],
   "source": [
    "def solution(record):\n",
    "    answer = []\n",
    "    userDB = dict()\n",
    "    actions = [] \n",
    "    \n",
    "    for event in record:\n",
    "        info = event.split() # action uid [nickname]\n",
    "        action, userid = info[0], info[1]\n",
    "        if action in (\"Enter\", \"Change\"):\n",
    "            nickname = info[2]\n",
    "            userDB[userid] = nickname\n",
    "        actions.append((action, userid))\n",
    "        \n",
    "    for actionInfo in actions:\n",
    "        action, userid = actionInfo[0], actionInfo[1]\n",
    "        if action == 'Enter':\n",
    "            answer.append(f'{userDB[userid]}님이 들어왔습니다.')\n",
    "        elif action == 'Leave':\n",
    "            answer.append(f'{userDB[userid]}님이 나갔습니다.')\n",
    "    \n",
    "    return answer\n",
    "print(solution([\"Enter uid1234 Muzi\", \"Enter uid4567 Prodo\",\"Leave uid1234\",\"Enter uid1234 Prodo\",\"Change uid4567 Ryan\"]))"
   ]
  },
  {
   "cell_type": "markdown",
   "id": "4edda221",
   "metadata": {},
   "source": [
    "## 멀쩡한 사각형\n",
    "https://programmers.co.kr/learn/courses/30/lessons/62048"
   ]
  },
  {
   "cell_type": "code",
   "execution_count": null,
   "id": "8fde9bf7",
   "metadata": {},
   "outputs": [],
   "source": [
    "import math\n",
    "def solution(w,h):\n",
    "    return w*h - (w+h-math.gcd(w,h))"
   ]
  }
 ],
 "metadata": {
  "kernelspec": {
   "display_name": "Python 3",
   "language": "python",
   "name": "python3"
  },
  "language_info": {
   "codemirror_mode": {
    "name": "ipython",
    "version": 3
   },
   "file_extension": ".py",
   "mimetype": "text/x-python",
   "name": "python",
   "nbconvert_exporter": "python",
   "pygments_lexer": "ipython3",
   "version": "3.8.8"
  }
 },
 "nbformat": 4,
 "nbformat_minor": 5
}
