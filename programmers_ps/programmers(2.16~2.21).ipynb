{
 "cells": [
  {
   "cell_type": "markdown",
   "id": "68d0db26",
   "metadata": {},
   "source": [
    "## 2/16 수\n",
    "https://programmers.co.kr/learn/courses/30/lessons/60057"
   ]
  },
  {
   "cell_type": "code",
   "execution_count": 2,
   "id": "25cd283a",
   "metadata": {},
   "outputs": [
    {
     "name": "stdout",
     "output_type": "stream",
     "text": [
      "9\n"
     ]
    }
   ],
   "source": [
    "def solution(s):\n",
    "    result = []\n",
    "    if len(s) == 1:\n",
    "        return 1\n",
    "    for i in range(1, len(s)//2+1):\n",
    "        b = ''\n",
    "        cnt = 1\n",
    "        tmp = s[:i]\n",
    "        for j in range(i, len(s), i):\n",
    "            if tmp == s[j:i+j]:\n",
    "                cnt += 1\n",
    "            else:\n",
    "                if cnt != 1:\n",
    "                    b = b + str(cnt) + tmp\n",
    "                else:\n",
    "                    b = b + tmp\n",
    "                tmp = s[j:j+i]\n",
    "                cnt = 1\n",
    "        if cnt != 1:\n",
    "            b = b + str(cnt) + tmp\n",
    "        else:\n",
    "            b = b + tmp\n",
    "        result.append(len(b))\n",
    "    return min(result)\n",
    "\n",
    "print(solution(\"ababcdcdababcdcd\"))"
   ]
  },
  {
   "cell_type": "code",
   "execution_count": null,
   "id": "ecda55fb",
   "metadata": {},
   "outputs": [],
   "source": [
    "def compress(text, tok_len):\n",
    "    words = [text[i:i+tok_len] for i in range(0, len(text), tok_len)]\n",
    "    res = []\n",
    "    cur_word = words[0]\n",
    "    cur_cnt = 1\n",
    "    for a, b in zip(words, words[1:] + ['']):\n",
    "        if a == b:\n",
    "            cur_cnt += 1\n",
    "        else:\n",
    "            res.append([cur_word, cur_cnt])\n",
    "            cur_word = b\n",
    "            cur_cnt = 1\n",
    "    return sum(len(word) + (len(str(cnt)) if cnt > 1 else 0) for word, cnt in res)\n",
    "\n",
    "def solution(text):\n",
    "    return min(compress(text, tok_len) for tok_len in list(range(1, len(text)//2 + 1)) + [len(text)])"
   ]
  },
  {
   "cell_type": "markdown",
   "id": "0963b5e6",
   "metadata": {},
   "source": [
    "## 오픈채팅방\n",
    "https://programmers.co.kr/learn/courses/30/lessons/42888"
   ]
  },
  {
   "cell_type": "code",
   "execution_count": 12,
   "id": "bf2cdb4d",
   "metadata": {},
   "outputs": [
    {
     "name": "stdout",
     "output_type": "stream",
     "text": [
      "['Prodo님이 들어왔습니다.', 'Ryan님이 들어왔습니다.', 'Prodo님이 나갔습니다.', 'Prodo님이 들어왔습니다.']\n"
     ]
    }
   ],
   "source": [
    "def solution(record):\n",
    "    answer = []\n",
    "    userDB = dict()\n",
    "    actions = [] \n",
    "    \n",
    "    for event in record:\n",
    "        info = event.split() # action uid [nickname]\n",
    "        action, userid = info[0], info[1]\n",
    "        if action in (\"Enter\", \"Change\"):\n",
    "            nickname = info[2]\n",
    "            userDB[userid] = nickname\n",
    "        actions.append((action, userid))\n",
    "        \n",
    "    for actionInfo in actions:\n",
    "        action, userid = actionInfo[0], actionInfo[1]\n",
    "        if action == 'Enter':\n",
    "            answer.append(f'{userDB[userid]}님이 들어왔습니다.')\n",
    "        elif action == 'Leave':\n",
    "            answer.append(f'{userDB[userid]}님이 나갔습니다.')\n",
    "    \n",
    "    return answer\n",
    "print(solution([\"Enter uid1234 Muzi\", \"Enter uid4567 Prodo\",\"Leave uid1234\",\"Enter uid1234 Prodo\",\"Change uid4567 Ryan\"]))"
   ]
  },
  {
   "cell_type": "markdown",
   "id": "4f5dfa3c",
   "metadata": {},
   "source": [
    "## 멀쩡한 사각형\n",
    "https://programmers.co.kr/learn/courses/30/lessons/62048"
   ]
  },
  {
   "cell_type": "code",
   "execution_count": null,
   "id": "05c35a33",
   "metadata": {},
   "outputs": [],
   "source": [
    "import math\n",
    "def solution(w,h):\n",
    "    return w*h - (w+h-math.gcd(w,h))"
   ]
  },
  {
   "cell_type": "markdown",
   "id": "6c28ee6e",
   "metadata": {},
   "source": [
    "# 2/17 목"
   ]
  },
  {
   "cell_type": "markdown",
   "id": "5c901dc5",
   "metadata": {},
   "source": [
    "## 124 나라의 숫자\n",
    "https://programmers.co.kr/learn/courses/30/lessons/12899"
   ]
  },
  {
   "cell_type": "code",
   "execution_count": null,
   "id": "a95d537c",
   "metadata": {},
   "outputs": [],
   "source": [
    "def solution(n):\n",
    "    answer = ''\n",
    "    while n:\n",
    "        if n % 3:\n",
    "            answer += str(n % 3)\n",
    "            n //= 3\n",
    "        else:\n",
    "            answer += '4'\n",
    "            n = n//3 - 1\n",
    "    return answer[::-1]"
   ]
  },
  {
   "cell_type": "code",
   "execution_count": 19,
   "id": "55dfb911",
   "metadata": {},
   "outputs": [
    {
     "name": "stdout",
     "output_type": "stream",
     "text": [
      "24\n"
     ]
    }
   ],
   "source": [
    "def change124(n):\n",
    "    num = ['1','2','4']\n",
    "    answer = \"\"\n",
    "\n",
    "\n",
    "    while n > 0:\n",
    "        n -= 1\n",
    "        answer = num[n % 3] + answer\n",
    "        n //= 3\n",
    "\n",
    "    return answer\n",
    "print(change124(9))"
   ]
  },
  {
   "cell_type": "markdown",
   "id": "ea5685b4",
   "metadata": {},
   "source": [
    "## 기능 개발\n",
    "https://programmers.co.kr/learn/courses/30/lessons/42586"
   ]
  },
  {
   "cell_type": "code",
   "execution_count": 47,
   "id": "b2c109f2",
   "metadata": {},
   "outputs": [
    {
     "data": {
      "text/plain": [
       "[3]"
      ]
     },
     "execution_count": 47,
     "metadata": {},
     "output_type": "execute_result"
    }
   ],
   "source": [
    "import math\n",
    "progresses = [99, 99, 99]\n",
    "speeds = [1, 1, 1]\n",
    "days = []\n",
    "for p, s in zip(progresses, speeds):\n",
    "    days.append(math.ceil((100 - p) / s))\n",
    "\n",
    "answer = []\n",
    "tmp = days[0]\n",
    "cnt = 1\n",
    "for i in range(1, len(days)):\n",
    "    if tmp >= days[i]:\n",
    "        cnt += 1\n",
    "    else:\n",
    "        tmp = days[i]\n",
    "        answer.append(cnt)\n",
    "        cnt = 1\n",
    "\n",
    "answer.append(cnt)\n",
    "\n",
    "answer"
   ]
  },
  {
   "cell_type": "code",
   "execution_count": 43,
   "id": "26b203dc",
   "metadata": {},
   "outputs": [
    {
     "data": {
      "text/plain": [
       "[1, 3, 2]"
      ]
     },
     "execution_count": 43,
     "metadata": {},
     "output_type": "execute_result"
    }
   ],
   "source": [
    "import math\n",
    "def solution(progresses, speeds):\n",
    "    days = [math.ceil((100 - a) / b) for a, b in zip(progresses, speeds)]\n",
    "    answer = []\n",
    "    front = 0\n",
    "\n",
    "    for idx in range(len(days)):\n",
    "        if days[idx] > days[front]:  \n",
    "            answer.append(idx - front)\n",
    "            front = idx \n",
    "    answer.append(len(days) - front)  \n",
    "    return answer\n",
    "\n",
    "solution([95, 90, 99, 99, 80, 99], [1, 1, 1, 1, 1, 1])"
   ]
  },
  {
   "cell_type": "code",
   "execution_count": 51,
   "id": "824b4dcc",
   "metadata": {},
   "outputs": [
    {
     "data": {
      "text/plain": [
       "[1, 3, 2]"
      ]
     },
     "execution_count": 51,
     "metadata": {},
     "output_type": "execute_result"
    }
   ],
   "source": [
    "def solution(progresses, speeds):\n",
    "    Q=[]\n",
    "    for p, s in zip(progresses, speeds):\n",
    "        if len(Q)==0 or Q[-1][0] < -((p-100)//s):\n",
    "            Q.append([-((p-100)//s),1])\n",
    "        else:\n",
    "            Q[-1][1]+=1\n",
    "    return [q[1] for q in Q]\n",
    "\n",
    "solution([95, 90, 99, 99, 80, 99], [1, 1, 1, 1, 1, 1])"
   ]
  },
  {
   "cell_type": "markdown",
   "id": "e97a30fc",
   "metadata": {},
   "source": [
    "## 더 맵게\n",
    "https://programmers.co.kr/learn/courses/30/lessons/42626"
   ]
  },
  {
   "cell_type": "code",
   "execution_count": 74,
   "id": "ff363ea2",
   "metadata": {},
   "outputs": [
    {
     "data": {
      "text/plain": [
       "-1"
      ]
     },
     "execution_count": 74,
     "metadata": {},
     "output_type": "execute_result"
    }
   ],
   "source": [
    "# 틀림\n",
    "import heapq\n",
    "\n",
    "scoville = [1, 1, 1, 1, 1, 1]\n",
    "k = 50\n",
    "cnt = 0\n",
    "while len(scoville) > 1:\n",
    "    temp1 = heapq.heappop(scoville)\n",
    "    if temp1 >= k:\n",
    "        break\n",
    "    temp2 = heapq.heappop(scoville)\n",
    "    \n",
    "    new = temp1 + (temp2*2)\n",
    "    heapq.heappush(scoville, new)\n",
    "    cnt += 1\n",
    "\n",
    "for h in scoville:\n",
    "    if h < k:\n",
    "        cnt = -1\n",
    "    \n",
    "cnt"
   ]
  },
  {
   "cell_type": "code",
   "execution_count": 80,
   "id": "e0c3e635",
   "metadata": {},
   "outputs": [
    {
     "data": {
      "text/plain": [
       "2"
      ]
     },
     "execution_count": 80,
     "metadata": {},
     "output_type": "execute_result"
    }
   ],
   "source": [
    "import heapq\n",
    "\n",
    "scoville = [1, 2, 3, 9, 10, 12]\n",
    "k = 7\n",
    "def solution(scoville, k):\n",
    "    cnt = 0\n",
    "    while min(scoville) < k:\n",
    "        try:\n",
    "            heapq.heappush(scoville, heapq.heappop(scoville) + heapq.heappop(scoville)*2)\n",
    "        except:\n",
    "            return -1\n",
    "        cnt += 1\n",
    "    return cnt\n",
    "\n",
    "solution(scoville, k)"
   ]
  },
  {
   "cell_type": "code",
   "execution_count": null,
   "id": "6bcc309b",
   "metadata": {},
   "outputs": [],
   "source": [
    "import heapq\n",
    "def solution(scoville, k):\n",
    "    cnt = 0\n",
    "    scoville.sort()\n",
    "    while scoville[0] < k:\n",
    "        try:\n",
    "            heapq.heappush(scoville, heapq.heappop(scoville) + heapq.heappop(scoville)*2)\n",
    "        except:\n",
    "            return -1\n",
    "        cnt += 1\n",
    "    return cnt"
   ]
  },
  {
   "cell_type": "code",
   "execution_count": null,
   "id": "f9e79ba7",
   "metadata": {},
   "outputs": [],
   "source": [
    "import heapq\n",
    "def solution(scoville, k):\n",
    "    cnt = 0\n",
    "    heapq.heapify(scoville)\n",
    "    while scoville[0] < k:\n",
    "        try:\n",
    "            heapq.heappush(scoville, heapq.heappop(scoville) + heapq.heappop(scoville)*2)\n",
    "        except:\n",
    "            return -1\n",
    "        cnt += 1\n",
    "    return cnt"
   ]
  },
  {
   "cell_type": "markdown",
   "id": "b9c0cc12",
   "metadata": {},
   "source": [
    "# 2/18 금"
   ]
  },
  {
   "cell_type": "markdown",
   "id": "5a7da1c1",
   "metadata": {},
   "source": [
    "## 타겟 넘버\n",
    "https://programmers.co.kr/learn/courses/30/lessons/43165"
   ]
  },
  {
   "cell_type": "code",
   "execution_count": 8,
   "id": "0c624fb9",
   "metadata": {},
   "outputs": [
    {
     "data": {
      "text/plain": [
       "5"
      ]
     },
     "execution_count": 8,
     "metadata": {},
     "output_type": "execute_result"
    }
   ],
   "source": [
    "numbers = [1, 1, 1, 1, 1]\n",
    "target = 3\n",
    "\n",
    "n = len(numbers)\n",
    "answer = 0\n",
    "def back_tracking(idx, result):\n",
    "    global answer\n",
    "    if idx == n:\n",
    "        if result == target:\n",
    "            answer += 1\n",
    "        return\n",
    "    else:\n",
    "        back_tracking(idx+1, result+numbers[idx])\n",
    "        back_tracking(idx+1, result-numbers[idx])\n",
    "    return\n",
    "        \n",
    "    \n",
    "def solution(numbers, target):\n",
    "    back_tracking(0, 0)\n",
    "    return answer\n",
    "    \n",
    "solution(numbers, target)"
   ]
  },
  {
   "cell_type": "code",
   "execution_count": 9,
   "id": "01ee2244",
   "metadata": {},
   "outputs": [
    {
     "data": {
      "text/plain": [
       "5"
      ]
     },
     "execution_count": 9,
     "metadata": {},
     "output_type": "execute_result"
    }
   ],
   "source": [
    "from collections import deque\n",
    "\n",
    "numbers = [1, 1, 1, 1, 1]\n",
    "target = 3\n",
    "\n",
    "def solution(numbers, target):\n",
    "    answer = 0\n",
    "    queue = deque()\n",
    "    n = len(numbers)\n",
    "    queue.append([numbers[0],0])\n",
    "    queue.append([-1*numbers[0],0])\n",
    "    while queue:\n",
    "        temp, idx = queue.popleft()\n",
    "        idx += 1\n",
    "        if idx < n:\n",
    "            queue.append([temp+numbers[idx], idx])\n",
    "            queue.append([temp-numbers[idx], idx])\n",
    "        else:\n",
    "            if temp == target:\n",
    "                answer += 1\n",
    "    return answer\n",
    "\n",
    "solution(numbers, target)"
   ]
  },
  {
   "cell_type": "code",
   "execution_count": 5,
   "id": "a9efeaf8",
   "metadata": {},
   "outputs": [
    {
     "data": {
      "text/plain": [
       "5"
      ]
     },
     "execution_count": 5,
     "metadata": {},
     "output_type": "execute_result"
    }
   ],
   "source": [
    "numbers = [1, 1, 1, 1, 1]\n",
    "target = 3\n",
    "\n",
    "def solution(numbers, target):\n",
    "    if not numbers and target == 0 :\n",
    "        return 1\n",
    "    elif not numbers:\n",
    "        return 0\n",
    "    else:\n",
    "        return solution(numbers[1:], target-numbers[0]) + solution(numbers[1:], target+numbers[0])\n",
    "\n",
    "solution(numbers, target)"
   ]
  },
  {
   "cell_type": "markdown",
   "id": "b5afa437",
   "metadata": {},
   "source": [
    "## 짝지어 제거하기\n",
    "https://programmers.co.kr/learn/courses/30/lessons/12973"
   ]
  },
  {
   "cell_type": "code",
   "execution_count": 17,
   "id": "f58bb75d",
   "metadata": {},
   "outputs": [
    {
     "data": {
      "text/plain": [
       "1"
      ]
     },
     "execution_count": 17,
     "metadata": {},
     "output_type": "execute_result"
    }
   ],
   "source": [
    "def solution(s):\n",
    "#     if len(s) % 2 == 1: return 0            없어도 됨\n",
    "#     if len(s) == 2: \n",
    "#         return 1 if s[0] == s[1] else 0\n",
    "            \n",
    "    stack = [s[0]]\n",
    "    \n",
    "    for v in s[1:]:\n",
    "        if len(stack) > 0 and stack[-1] == v:\n",
    "            stack.pop()\n",
    "        else:\n",
    "            stack.append(v)\n",
    "            \n",
    "    return 0 if len(stack) else 1\n",
    "\n",
    "solution('baabaa')"
   ]
  }
 ],
 "metadata": {
  "kernelspec": {
   "display_name": "Python 3",
   "language": "python",
   "name": "python3"
  },
  "language_info": {
   "codemirror_mode": {
    "name": "ipython",
    "version": 3
   },
   "file_extension": ".py",
   "mimetype": "text/x-python",
   "name": "python",
   "nbconvert_exporter": "python",
   "pygments_lexer": "ipython3",
   "version": "3.8.8"
  }
 },
 "nbformat": 4,
 "nbformat_minor": 5
}
