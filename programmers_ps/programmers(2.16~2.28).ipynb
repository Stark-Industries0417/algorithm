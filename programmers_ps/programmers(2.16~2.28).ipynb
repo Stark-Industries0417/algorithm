{
 "cells": [
  {
   "cell_type": "markdown",
   "id": "68d0db26",
   "metadata": {},
   "source": [
    "## 2/16 수\n",
    "https://programmers.co.kr/learn/courses/30/lessons/60057"
   ]
  },
  {
   "cell_type": "code",
   "execution_count": 2,
   "id": "25cd283a",
   "metadata": {},
   "outputs": [
    {
     "name": "stdout",
     "output_type": "stream",
     "text": [
      "9\n"
     ]
    }
   ],
   "source": [
    "def solution(s):\n",
    "    result = []\n",
    "    if len(s) == 1:\n",
    "        return 1\n",
    "    for i in range(1, len(s)//2+1):\n",
    "        b = ''\n",
    "        cnt = 1\n",
    "        tmp = s[:i]\n",
    "        for j in range(i, len(s), i):\n",
    "            if tmp == s[j:i+j]:\n",
    "                cnt += 1\n",
    "            else:\n",
    "                if cnt != 1:\n",
    "                    b = b + str(cnt) + tmp\n",
    "                else:\n",
    "                    b = b + tmp\n",
    "                tmp = s[j:j+i]\n",
    "                cnt = 1\n",
    "        if cnt != 1:\n",
    "            b = b + str(cnt) + tmp\n",
    "        else:\n",
    "            b = b + tmp\n",
    "        result.append(len(b))\n",
    "    return min(result)\n",
    "\n",
    "print(solution(\"ababcdcdababcdcd\"))"
   ]
  },
  {
   "cell_type": "code",
   "execution_count": null,
   "id": "ecda55fb",
   "metadata": {},
   "outputs": [],
   "source": [
    "def compress(text, tok_len):\n",
    "    words = [text[i:i+tok_len] for i in range(0, len(text), tok_len)]\n",
    "    res = []\n",
    "    cur_word = words[0]\n",
    "    cur_cnt = 1\n",
    "    for a, b in zip(words, words[1:] + ['']):\n",
    "        if a == b:\n",
    "            cur_cnt += 1\n",
    "        else:\n",
    "            res.append([cur_word, cur_cnt])\n",
    "            cur_word = b\n",
    "            cur_cnt = 1\n",
    "    return sum(len(word) + (len(str(cnt)) if cnt > 1 else 0) for word, cnt in res)\n",
    "\n",
    "def solution(text):\n",
    "    return min(compress(text, tok_len) for tok_len in list(range(1, len(text)//2 + 1)) + [len(text)])"
   ]
  },
  {
   "cell_type": "markdown",
   "id": "0963b5e6",
   "metadata": {},
   "source": [
    "## 오픈채팅방\n",
    "https://programmers.co.kr/learn/courses/30/lessons/42888"
   ]
  },
  {
   "cell_type": "code",
   "execution_count": 12,
   "id": "bf2cdb4d",
   "metadata": {},
   "outputs": [
    {
     "name": "stdout",
     "output_type": "stream",
     "text": [
      "['Prodo님이 들어왔습니다.', 'Ryan님이 들어왔습니다.', 'Prodo님이 나갔습니다.', 'Prodo님이 들어왔습니다.']\n"
     ]
    }
   ],
   "source": [
    "def solution(record):\n",
    "    answer = []\n",
    "    userDB = dict()\n",
    "    actions = [] \n",
    "    \n",
    "    for event in record:\n",
    "        info = event.split() # action uid [nickname]\n",
    "        action, userid = info[0], info[1]\n",
    "        if action in (\"Enter\", \"Change\"):\n",
    "            nickname = info[2]\n",
    "            userDB[userid] = nickname\n",
    "        actions.append((action, userid))\n",
    "        \n",
    "    for actionInfo in actions:\n",
    "        action, userid = actionInfo[0], actionInfo[1]\n",
    "        if action == 'Enter':\n",
    "            answer.append(f'{userDB[userid]}님이 들어왔습니다.')\n",
    "        elif action == 'Leave':\n",
    "            answer.append(f'{userDB[userid]}님이 나갔습니다.')\n",
    "    \n",
    "    return answer\n",
    "print(solution([\"Enter uid1234 Muzi\", \"Enter uid4567 Prodo\",\"Leave uid1234\",\"Enter uid1234 Prodo\",\"Change uid4567 Ryan\"]))"
   ]
  },
  {
   "cell_type": "markdown",
   "id": "4f5dfa3c",
   "metadata": {},
   "source": [
    "## 멀쩡한 사각형\n",
    "https://programmers.co.kr/learn/courses/30/lessons/62048"
   ]
  },
  {
   "cell_type": "code",
   "execution_count": null,
   "id": "05c35a33",
   "metadata": {},
   "outputs": [],
   "source": [
    "import math\n",
    "def solution(w,h):\n",
    "    return w*h - (w+h-math.gcd(w,h))"
   ]
  },
  {
   "cell_type": "markdown",
   "id": "6c28ee6e",
   "metadata": {},
   "source": [
    "# 2/17 목"
   ]
  },
  {
   "cell_type": "markdown",
   "id": "5c901dc5",
   "metadata": {},
   "source": [
    "## 124 나라의 숫자\n",
    "https://programmers.co.kr/learn/courses/30/lessons/12899"
   ]
  },
  {
   "cell_type": "code",
   "execution_count": null,
   "id": "a95d537c",
   "metadata": {},
   "outputs": [],
   "source": [
    "def solution(n):\n",
    "    answer = ''\n",
    "    while n:\n",
    "        if n % 3:\n",
    "            answer += str(n % 3)\n",
    "            n //= 3\n",
    "        else:\n",
    "            answer += '4'\n",
    "            n = n//3 - 1\n",
    "    return answer[::-1]"
   ]
  },
  {
   "cell_type": "code",
   "execution_count": 19,
   "id": "55dfb911",
   "metadata": {},
   "outputs": [
    {
     "name": "stdout",
     "output_type": "stream",
     "text": [
      "24\n"
     ]
    }
   ],
   "source": [
    "def change124(n):\n",
    "    num = ['1','2','4']\n",
    "    answer = \"\"\n",
    "\n",
    "\n",
    "    while n > 0:\n",
    "        n -= 1\n",
    "        answer = num[n % 3] + answer\n",
    "        n //= 3\n",
    "\n",
    "    return answer\n",
    "print(change124(9))"
   ]
  },
  {
   "cell_type": "markdown",
   "id": "ea5685b4",
   "metadata": {},
   "source": [
    "## 기능 개발\n",
    "https://programmers.co.kr/learn/courses/30/lessons/42586"
   ]
  },
  {
   "cell_type": "code",
   "execution_count": 47,
   "id": "b2c109f2",
   "metadata": {},
   "outputs": [
    {
     "data": {
      "text/plain": [
       "[3]"
      ]
     },
     "execution_count": 47,
     "metadata": {},
     "output_type": "execute_result"
    }
   ],
   "source": [
    "import math\n",
    "progresses = [99, 99, 99]\n",
    "speeds = [1, 1, 1]\n",
    "days = []\n",
    "for p, s in zip(progresses, speeds):\n",
    "    days.append(math.ceil((100 - p) / s))\n",
    "\n",
    "answer = []\n",
    "tmp = days[0]\n",
    "cnt = 1\n",
    "for i in range(1, len(days)):\n",
    "    if tmp >= days[i]:\n",
    "        cnt += 1\n",
    "    else:\n",
    "        tmp = days[i]\n",
    "        answer.append(cnt)\n",
    "        cnt = 1\n",
    "\n",
    "answer.append(cnt)\n",
    "\n",
    "answer"
   ]
  },
  {
   "cell_type": "code",
   "execution_count": 43,
   "id": "26b203dc",
   "metadata": {},
   "outputs": [
    {
     "data": {
      "text/plain": [
       "[1, 3, 2]"
      ]
     },
     "execution_count": 43,
     "metadata": {},
     "output_type": "execute_result"
    }
   ],
   "source": [
    "import math\n",
    "def solution(progresses, speeds):\n",
    "    days = [math.ceil((100 - a) / b) for a, b in zip(progresses, speeds)]\n",
    "    answer = []\n",
    "    front = 0\n",
    "\n",
    "    for idx in range(len(days)):\n",
    "        if days[idx] > days[front]:  \n",
    "            answer.append(idx - front)\n",
    "            front = idx \n",
    "    answer.append(len(days) - front)  \n",
    "    return answer\n",
    "\n",
    "solution([95, 90, 99, 99, 80, 99], [1, 1, 1, 1, 1, 1])"
   ]
  },
  {
   "cell_type": "code",
   "execution_count": 51,
   "id": "824b4dcc",
   "metadata": {},
   "outputs": [
    {
     "data": {
      "text/plain": [
       "[1, 3, 2]"
      ]
     },
     "execution_count": 51,
     "metadata": {},
     "output_type": "execute_result"
    }
   ],
   "source": [
    "def solution(progresses, speeds):\n",
    "    Q=[]\n",
    "    for p, s in zip(progresses, speeds):\n",
    "        if len(Q)==0 or Q[-1][0] < -((p-100)//s):\n",
    "            Q.append([-((p-100)//s),1])\n",
    "        else:\n",
    "            Q[-1][1]+=1\n",
    "    return [q[1] for q in Q]\n",
    "\n",
    "solution([95, 90, 99, 99, 80, 99], [1, 1, 1, 1, 1, 1])"
   ]
  },
  {
   "cell_type": "markdown",
   "id": "e97a30fc",
   "metadata": {},
   "source": [
    "## 더 맵게\n",
    "https://programmers.co.kr/learn/courses/30/lessons/42626"
   ]
  },
  {
   "cell_type": "code",
   "execution_count": 74,
   "id": "ff363ea2",
   "metadata": {},
   "outputs": [
    {
     "data": {
      "text/plain": [
       "-1"
      ]
     },
     "execution_count": 74,
     "metadata": {},
     "output_type": "execute_result"
    }
   ],
   "source": [
    "# 틀림\n",
    "import heapq\n",
    "\n",
    "scoville = [1, 1, 1, 1, 1, 1]\n",
    "k = 50\n",
    "cnt = 0\n",
    "while len(scoville) > 1:\n",
    "    temp1 = heapq.heappop(scoville)\n",
    "    if temp1 >= k:\n",
    "        break\n",
    "    temp2 = heapq.heappop(scoville)\n",
    "    \n",
    "    new = temp1 + (temp2*2)\n",
    "    heapq.heappush(scoville, new)\n",
    "    cnt += 1\n",
    "\n",
    "for h in scoville:\n",
    "    if h < k:\n",
    "        cnt = -1\n",
    "    \n",
    "cnt"
   ]
  },
  {
   "cell_type": "code",
   "execution_count": 80,
   "id": "e0c3e635",
   "metadata": {},
   "outputs": [
    {
     "data": {
      "text/plain": [
       "2"
      ]
     },
     "execution_count": 80,
     "metadata": {},
     "output_type": "execute_result"
    }
   ],
   "source": [
    "import heapq\n",
    "\n",
    "scoville = [1, 2, 3, 9, 10, 12]\n",
    "k = 7\n",
    "def solution(scoville, k):\n",
    "    cnt = 0\n",
    "    while min(scoville) < k:\n",
    "        try:\n",
    "            heapq.heappush(scoville, heapq.heappop(scoville) + heapq.heappop(scoville)*2)\n",
    "        except:\n",
    "            return -1\n",
    "        cnt += 1\n",
    "    return cnt\n",
    "\n",
    "solution(scoville, k)"
   ]
  },
  {
   "cell_type": "code",
   "execution_count": null,
   "id": "6bcc309b",
   "metadata": {},
   "outputs": [],
   "source": [
    "import heapq\n",
    "def solution(scoville, k):\n",
    "    cnt = 0\n",
    "    scoville.sort()\n",
    "    while scoville[0] < k:\n",
    "        try:\n",
    "            heapq.heappush(scoville, heapq.heappop(scoville) + heapq.heappop(scoville)*2)\n",
    "        except:\n",
    "            return -1\n",
    "        cnt += 1\n",
    "    return cnt"
   ]
  },
  {
   "cell_type": "code",
   "execution_count": null,
   "id": "f9e79ba7",
   "metadata": {},
   "outputs": [],
   "source": [
    "import heapq\n",
    "def solution(scoville, k):\n",
    "    cnt = 0\n",
    "    heapq.heapify(scoville)\n",
    "    while scoville[0] < k:\n",
    "        try:\n",
    "            heapq.heappush(scoville, heapq.heappop(scoville) + heapq.heappop(scoville)*2)\n",
    "        except:\n",
    "            return -1\n",
    "        cnt += 1\n",
    "    return cnt"
   ]
  },
  {
   "cell_type": "markdown",
   "id": "b9c0cc12",
   "metadata": {},
   "source": [
    "# 2/18 금"
   ]
  },
  {
   "cell_type": "markdown",
   "id": "5a7da1c1",
   "metadata": {},
   "source": [
    "## 타겟 넘버\n",
    "https://programmers.co.kr/learn/courses/30/lessons/43165"
   ]
  },
  {
   "cell_type": "code",
   "execution_count": 8,
   "id": "0c624fb9",
   "metadata": {},
   "outputs": [
    {
     "data": {
      "text/plain": [
       "5"
      ]
     },
     "execution_count": 8,
     "metadata": {},
     "output_type": "execute_result"
    }
   ],
   "source": [
    "numbers = [1, 1, 1, 1, 1]\n",
    "target = 3\n",
    "\n",
    "n = len(numbers)\n",
    "answer = 0\n",
    "def back_tracking(idx, result):\n",
    "    global answer\n",
    "    if idx == n:\n",
    "        if result == target:\n",
    "            answer += 1\n",
    "        return\n",
    "    else:\n",
    "        back_tracking(idx+1, result+numbers[idx])\n",
    "        back_tracking(idx+1, result-numbers[idx])\n",
    "    return\n",
    "        \n",
    "    \n",
    "def solution(numbers, target):\n",
    "    back_tracking(0, 0)\n",
    "    return answer\n",
    "    \n",
    "solution(numbers, target)"
   ]
  },
  {
   "cell_type": "code",
   "execution_count": 9,
   "id": "01ee2244",
   "metadata": {},
   "outputs": [
    {
     "data": {
      "text/plain": [
       "5"
      ]
     },
     "execution_count": 9,
     "metadata": {},
     "output_type": "execute_result"
    }
   ],
   "source": [
    "from collections import deque\n",
    "\n",
    "numbers = [1, 1, 1, 1, 1]\n",
    "target = 3\n",
    "\n",
    "def solution(numbers, target):\n",
    "    answer = 0\n",
    "    queue = deque()\n",
    "    n = len(numbers)\n",
    "    queue.append([numbers[0],0])\n",
    "    queue.append([-1*numbers[0],0])\n",
    "    while queue:\n",
    "        temp, idx = queue.popleft()\n",
    "        idx += 1\n",
    "        if idx < n:\n",
    "            queue.append([temp+numbers[idx], idx])\n",
    "            queue.append([temp-numbers[idx], idx])\n",
    "        else:\n",
    "            if temp == target:\n",
    "                answer += 1\n",
    "    return answer\n",
    "\n",
    "solution(numbers, target)"
   ]
  },
  {
   "cell_type": "code",
   "execution_count": 5,
   "id": "a9efeaf8",
   "metadata": {},
   "outputs": [
    {
     "data": {
      "text/plain": [
       "5"
      ]
     },
     "execution_count": 5,
     "metadata": {},
     "output_type": "execute_result"
    }
   ],
   "source": [
    "numbers = [1, 1, 1, 1, 1]\n",
    "target = 3\n",
    "\n",
    "def solution(numbers, target):\n",
    "    if not numbers and target == 0 :\n",
    "        return 1\n",
    "    elif not numbers:\n",
    "        return 0\n",
    "    else:\n",
    "        return solution(numbers[1:], target-numbers[0]) + solution(numbers[1:], target+numbers[0])\n",
    "\n",
    "solution(numbers, target)"
   ]
  },
  {
   "cell_type": "markdown",
   "id": "b5afa437",
   "metadata": {},
   "source": [
    "## 짝지어 제거하기\n",
    "https://programmers.co.kr/learn/courses/30/lessons/12973"
   ]
  },
  {
   "cell_type": "code",
   "execution_count": 17,
   "id": "f58bb75d",
   "metadata": {},
   "outputs": [
    {
     "data": {
      "text/plain": [
       "1"
      ]
     },
     "execution_count": 17,
     "metadata": {},
     "output_type": "execute_result"
    }
   ],
   "source": [
    "def solution(s):\n",
    "#     if len(s) % 2 == 1: return 0            없어도 됨\n",
    "#     if len(s) == 2: \n",
    "#         return 1 if s[0] == s[1] else 0\n",
    "            \n",
    "    stack = [s[0]]\n",
    "    \n",
    "    for v in s[1:]:\n",
    "        if len(stack) > 0 and stack[-1] == v:\n",
    "            stack.pop()\n",
    "        else:\n",
    "            stack.append(v)\n",
    "            \n",
    "    return 0 if len(stack) else 1\n",
    "\n",
    "solution('baabaa')"
   ]
  },
  {
   "cell_type": "markdown",
   "id": "3fbc9574",
   "metadata": {},
   "source": [
    "# 2/19 토"
   ]
  },
  {
   "cell_type": "markdown",
   "id": "22b769f4",
   "metadata": {},
   "source": [
    "## 메뉴 리뉴얼\n",
    "https://programmers.co.kr/learn/courses/30/lessons/72411"
   ]
  },
  {
   "cell_type": "code",
   "execution_count": 139,
   "id": "bb73a546",
   "metadata": {},
   "outputs": [
    {
     "data": {
      "text/plain": [
       "['ACD', 'AD', 'ADE', 'CD', 'XYZ']"
      ]
     },
     "execution_count": 139,
     "metadata": {},
     "output_type": "execute_result"
    }
   ],
   "source": [
    "from itertools import combinations, permutations\n",
    "from collections import Counter, defaultdict\n",
    "\n",
    "orders = [\"ABCDE\", \"AB\", \"CD\", \"ADE\", \"XYZ\", \"XYZ\", \"ACD\"]\n",
    "course = [2, 3, 5]\n",
    "\n",
    "def solution(orders, course):\n",
    "    answer = []\n",
    "    for c in course:\n",
    "        temp = []\n",
    "        for o in orders:\n",
    "            combi = combinations(sorted(o), c)\n",
    "            temp += combi\n",
    "        counter = Counter(temp)\n",
    "        if len(counter) and max(counter.values()) != 1:\n",
    "            answer += [''.join(f) for f in counter if counter[f] == max(counter.values())]\n",
    "            \n",
    "    return sorted(answer)\n",
    "\n",
    "solution(orders, course)   "
   ]
  },
  {
   "cell_type": "code",
   "execution_count": null,
   "id": "bf362a8f",
   "metadata": {},
   "outputs": [],
   "source": [
    "import collections\n",
    "import itertools\n",
    "\n",
    "def solution(orders, course):\n",
    "    result = []\n",
    "\n",
    "    for course_size in course:\n",
    "        order_combinations = []\n",
    "        for order in orders:\n",
    "            order_combinations += itertools.combinations(sorted(order), course_size)\n",
    "\n",
    "        most_ordered = collections.Counter(order_combinations).most_common()\n",
    "        result += [ k for k, v in most_ordered if v > 1 and v == most_ordered[0][1] ]\n",
    "\n",
    "    return [ ''.join(v) for v in sorted(result) ]"
   ]
  },
  {
   "cell_type": "markdown",
   "id": "14624742",
   "metadata": {},
   "source": [
    "## 괄호 변환\n",
    "https://programmers.co.kr/learn/courses/30/lessons/60058"
   ]
  },
  {
   "cell_type": "code",
   "execution_count": 152,
   "id": "df0cef58",
   "metadata": {},
   "outputs": [
    {
     "name": "stdout",
     "output_type": "stream",
     "text": [
      "(()())()\n"
     ]
    }
   ],
   "source": [
    "def divide(p):\n",
    "    open_p = 0\n",
    "    close_p = 0\n",
    "\n",
    "    for i in range(len(p)):\n",
    "        if p[i] == '(':\n",
    "            open_p += 1\n",
    "        else:\n",
    "            close_p += 1\n",
    "        if open_p == close_p:\n",
    "            return p[:i + 1], p[i + 1:]\n",
    "\n",
    "\n",
    "# 문자열 u가 올바른 괄호 문자열인지 확인하는 함수\n",
    "def check(u):\n",
    "    stack = []\n",
    "\n",
    "    for p in u:\n",
    "        if p == '(':\n",
    "            stack.append(p)\n",
    "        else:\n",
    "            if not stack:\n",
    "                return False\n",
    "            stack.pop()\n",
    "\n",
    "    return True\n",
    "\n",
    "\n",
    "def solution(p):\n",
    "    # 과정 1\n",
    "    if not p:\n",
    "        return \"\"\n",
    "\n",
    "    # 과정 2\n",
    "    u, v = divide(p)\n",
    "\n",
    "    # 과정 3\n",
    "    if check(u):\n",
    "        # 과정 3-1\n",
    "        return u + solution(v)\n",
    "    # 과정 4\n",
    "    else:\n",
    "        # 과정 4-1\n",
    "        answer = '('\n",
    "        # 과정 4-2\n",
    "        answer += solution(v)\n",
    "        # 과정 4-3\n",
    "        answer += ')'\n",
    "\n",
    "        # 과정 4-4\n",
    "        for p in u[1:len(u) - 1]:\n",
    "            if p == '(':\n",
    "                answer += ')'\n",
    "            else:\n",
    "                answer += '('\n",
    "\n",
    "        # 과정 4-5\n",
    "        return answer\n",
    "    \n",
    "print(solution(\"(()())()\"))"
   ]
  },
  {
   "cell_type": "markdown",
   "id": "7fa0f77b",
   "metadata": {},
   "source": [
    "## 뉴스 클러스터링\n",
    "https://programmers.co.kr/learn/courses/30/lessons/17677"
   ]
  },
  {
   "cell_type": "code",
   "execution_count": 212,
   "id": "5a66bdef",
   "metadata": {},
   "outputs": [
    {
     "data": {
      "text/plain": [
       "(Counter({'1': 1, '2': 2}),\n",
       " Counter({'1': 2, '2': 2, '3': 1}),\n",
       " ['1', '2', '2'],\n",
       " ['1', '1', '2', '2', '3'],\n",
       " [('1', 2), ('2', 2), ('3', 1)],\n",
       " [('2', 2)])"
      ]
     },
     "execution_count": 212,
     "metadata": {},
     "output_type": "execute_result"
    }
   ],
   "source": [
    "from collections import Counter\n",
    "\n",
    "a = Counter('11223')\n",
    "b = Counter('122')\n",
    "a & b, a | b, list((a&b).elements()), list((a|b).elements()), a.most_common(), b.most_common(1)"
   ]
  },
  {
   "cell_type": "code",
   "execution_count": 233,
   "id": "1e9f1a82",
   "metadata": {},
   "outputs": [
    {
     "data": {
      "text/plain": [
       "{'a', 'b'}"
      ]
     },
     "execution_count": 233,
     "metadata": {},
     "output_type": "execute_result"
    }
   ],
   "source": [
    "set(['a', 'a', 'b']) & set(['a', 'a', 'b', 'c'])\n"
   ]
  },
  {
   "cell_type": "code",
   "execution_count": null,
   "id": "6be9b278",
   "metadata": {},
   "outputs": [],
   "source": [
    "import re\n",
    "import math\n",
    "\n",
    "def solution(str1, str2):\n",
    "    str1 = [str1[i:i+2].lower() for i in range(0, len(str1)-1) if not re.findall('[^a-zA-Z]+', str1[i:i+2])]\n",
    "    str2 = [str2[i:i+2].lower() for i in range(0, len(str2)-1) if not re.findall('[^a-zA-Z]+', str2[i:i+2])]\n",
    "\n",
    "    gyo = set(str1) & set(str2)\n",
    "    hap = set(str1) | set(str2)\n",
    "\n",
    "    if len(hap) == 0 :\n",
    "        return 65536\n",
    "\n",
    "    gyo_sum = sum([min(str1.count(gg), str2.count(gg)) for gg in gyo])\n",
    "    hap_sum = sum([max(str1.count(hh), str2.count(hh)) for hh in hap])\n",
    "\n",
    "    return math.floor((gyo_sum/hap_sum)*65536)"
   ]
  },
  {
   "cell_type": "code",
   "execution_count": 224,
   "id": "3621e5ef",
   "metadata": {},
   "outputs": [
    {
     "name": "stdout",
     "output_type": "stream",
     "text": [
      "16384\n"
     ]
    }
   ],
   "source": [
    "from collections import Counter\n",
    "\n",
    "str1 = 'FRANCE'.lower()\n",
    "str2 = 'french'.lower()\n",
    "\n",
    "str1_li = []\n",
    "str2_li = []\n",
    "\n",
    "for i in range(len(str1)-1):\n",
    "    if str1[i].isalpha() and str1[i+1].isalpha():\n",
    "        str1_li.append(str1[i]+str1[i+1])\n",
    "\n",
    "for i in range(len(str2)-1):\n",
    "    if str2[i].isalpha() and str2[i+1].isalpha():\n",
    "        str2_li.append(str2[i]+str2[i+1])\n",
    "\n",
    "counter1 = Counter(str1_li)\n",
    "counter2 = Counter(str2_li)\n",
    "\n",
    "inter = list((counter1 & counter2).elements())\n",
    "union = list((counter1 | counter2).elements())\n",
    "\n",
    "if len(union) == 0 and len(inter) == 0:\n",
    "    print(65536)\n",
    "else:\n",
    "    print(int(len(inter)/len(union) * 65536))"
   ]
  },
  {
   "cell_type": "markdown",
   "id": "64daf88f",
   "metadata": {},
   "source": [
    "## 비밀 지도"
   ]
  },
  {
   "cell_type": "code",
   "execution_count": 172,
   "id": "e3a06e52",
   "metadata": {},
   "outputs": [
    {
     "name": "stdout",
     "output_type": "stream",
     "text": [
      "5\n",
      "9 20 28 18 11\n",
      "30 1 21 17 28\n"
     ]
    },
    {
     "data": {
      "text/plain": [
       "['#####', '# # #', '### #', '#  ##', '#####']"
      ]
     },
     "execution_count": 172,
     "metadata": {},
     "output_type": "execute_result"
    }
   ],
   "source": [
    "n = int(input())\n",
    "arr1 = list(map(int, input().split()))\n",
    "arr2 = list(map(int, input().split()))\n",
    "ans = []\n",
    "for a, b in zip(arr1, arr2):\n",
    "    ans.append(bin(a | b)[2:].replace('1', '#').replace('0', ' '))\n",
    "ans"
   ]
  },
  {
   "cell_type": "markdown",
   "id": "625e41c0",
   "metadata": {},
   "source": [
    "# 2/20 일"
   ]
  },
  {
   "cell_type": "markdown",
   "id": "26730e99",
   "metadata": {},
   "source": [
    "## 거리두기 확인하기\n",
    "https://programmers.co.kr/learn/courses/30/lessons/81302"
   ]
  },
  {
   "cell_type": "code",
   "execution_count": 91,
   "id": "e5d709fe",
   "metadata": {},
   "outputs": [
    {
     "data": {
      "text/plain": [
       "[1, 0, 1, 1, 1]"
      ]
     },
     "execution_count": 91,
     "metadata": {},
     "output_type": "execute_result"
    }
   ],
   "source": [
    "from collections import deque\n",
    "places = [\n",
    "    [\"POOOP\", \"OXXOX\", \"OPXPX\", \"OOXOX\", \"POXXP\"],\n",
    "    [\"POOPX\", \"OXPXP\", \"PXXXO\", \"OXXXO\", \"OOOPP\"],\n",
    "    [\"PXOPX\", \"OXOXP\", \"OXPOX\", \"OXXOP\", \"PXPOX\"],\n",
    "    [\"OOOXX\", \"XOOOX\", \"OOOXX\", \"OXOOX\", \"OOOOO\"], \n",
    "    [\"PXPXP\", \"XPXPX\", \"PXPXP\", \"XPXPX\", \"PXPXP\"]\n",
    "]\n",
    "\n",
    "\n",
    "def bfs(p, idx):\n",
    "    q = deque([idx])\n",
    "    visited = [[False]*5 for _ in range(5)]\n",
    "    dx = [0, 0, -1, 1]\n",
    "    dy = [1, -1, 0, 0]\n",
    "    \n",
    "    while q:\n",
    "        x, y, d = q.popleft()\n",
    "        visited[x][y] = True\n",
    "        \n",
    "        for k in range(4):\n",
    "            nx, ny, nd = x+dx[k], y+dy[k], d+1\n",
    "            \n",
    "            if 0 <= nx < 5 and 0 <= ny < 5 and not visited[nx][ny]:\n",
    "                visited[nx][ny] = True\n",
    "            \n",
    "                if p[nx][ny] == 'P':\n",
    "                    if nd <= 2:\n",
    "                        return False\n",
    "                elif p[nx][ny] == 'O':\n",
    "                    if nd == 1:\n",
    "                        q.append([nx, ny, nd])\n",
    "    return True\n",
    "    \n",
    "    \n",
    "def solution(places):\n",
    "    answer = []\n",
    "    for place in places:\n",
    "        flag = 1\n",
    "        for i in range(5):\n",
    "            for j in range(5):\n",
    "                if place[i][j] == 'P':\n",
    "                    if not bfs(place, [i, j, 0]):\n",
    "                        flag = 0\n",
    "        answer.append(flag)\n",
    "    return answer\n",
    "\n",
    "solution(places)"
   ]
  },
  {
   "cell_type": "markdown",
   "id": "aff8eee9",
   "metadata": {},
   "source": [
    "## 수식 최대화\n",
    "https://programmers.co.kr/learn/courses/30/lessons/67257"
   ]
  },
  {
   "cell_type": "code",
   "execution_count": 93,
   "id": "83c52a14",
   "metadata": {},
   "outputs": [
    {
     "data": {
      "text/plain": [
       "60420"
      ]
     },
     "execution_count": 93,
     "metadata": {},
     "output_type": "execute_result"
    }
   ],
   "source": [
    "from itertools import permutations\n",
    "\n",
    "expression = \"100-200*300-500+20\"\n",
    "\n",
    "def operation(num1, num2, op):\n",
    "    if op == '+':\n",
    "        return str(int(num1) + int(num2))\n",
    "    elif op == '-':\n",
    "        return str(int(num1) - int(num2))\n",
    "    else:\n",
    "        return str(int(num1) * int(num2))\n",
    "\n",
    "\n",
    "def calculation(exp, ops):\n",
    "    arr = []\n",
    "    s = 0\n",
    "    for i, e in enumerate(exp):\n",
    "        if e in ops:\n",
    "            arr.append(exp[s:i])\n",
    "            arr.append(e)\n",
    "            s = i+1\n",
    "    else:\n",
    "        arr.append(exp[s:])\n",
    "        \n",
    "    result = []\n",
    "    for o in ops:\n",
    "        stack = []\n",
    "        while len(arr) != 0:\n",
    "            tmp = arr.pop(0)\n",
    "            if tmp == o:\n",
    "                stack.append(operation(stack.pop(), arr.pop(0), o))\n",
    "            else:\n",
    "                stack.append(tmp)\n",
    "        arr = stack\n",
    "    return abs(int(arr[0]))\n",
    "\n",
    "\n",
    "def solution(expression):\n",
    "    ops = ['*', '+', '-']\n",
    "\n",
    "   \n",
    "    \n",
    "    for op in ops:\n",
    "        if op not in expression:\n",
    "            ops.remove(op)\n",
    "    \n",
    "    priorities = list(permutations(ops))\n",
    "    \n",
    "    for priory in priorities:\n",
    "        result.append(calculation(expression, priory))\n",
    "        \n",
    "    return max(result)\n",
    "        \n",
    "    \n",
    "solution(expression)"
   ]
  },
  {
   "cell_type": "markdown",
   "id": "caf3a63a",
   "metadata": {},
   "source": [
    "# 2/21 월"
   ]
  },
  {
   "cell_type": "markdown",
   "id": "80261daa",
   "metadata": {},
   "source": [
    "## 튜플\n",
    "https://programmers.co.kr/learn/courses/30/lessons/64065"
   ]
  },
  {
   "cell_type": "code",
   "execution_count": 94,
   "id": "4cee354b",
   "metadata": {},
   "outputs": [
    {
     "data": {
      "text/plain": [
       "[111, 20]"
      ]
     },
     "execution_count": 94,
     "metadata": {},
     "output_type": "execute_result"
    }
   ],
   "source": [
    "def solution(s):\n",
    "    answer = []\n",
    "    s = s[2:-2]\n",
    "    s = s.split('},{')\n",
    "    s.sort(key=len)\n",
    "    for i in s:\n",
    "        ii = i.split(',')\n",
    "        for j in ii:\n",
    "            if int(j) not in answer:\n",
    "                answer.append(int(j))\n",
    "    return answer\n",
    "solution(\"{{20,111},{111}}\")"
   ]
  },
  {
   "cell_type": "code",
   "execution_count": 95,
   "id": "634ffd7e",
   "metadata": {},
   "outputs": [
    {
     "data": {
      "text/plain": [
       "[111, 20]"
      ]
     },
     "execution_count": 95,
     "metadata": {},
     "output_type": "execute_result"
    }
   ],
   "source": [
    "import re\n",
    "from collections import Counter\n",
    "s = \"{{20,111},{111}}\"\n",
    "s = Counter(re.findall('\\d+', s))\n",
    "s.items()\n",
    "sorted(s.items())\n",
    "sorted(s.items(), key=lambda x: x[1])\n",
    "sorted(s.items(), key=lambda x: x[1], reverse=True)\n",
    "[k for k, v in sorted(s.items(), key=lambda x: x[1], reverse=True)]\n",
    "list(map(int, [k for k, v in sorted(s.items(), key=lambda x: x[1], reverse=True)]))"
   ]
  },
  {
   "cell_type": "markdown",
   "id": "f5f53def",
   "metadata": {},
   "source": [
    "## 전화번호 목록\n",
    "https://programmers.co.kr/learn/courses/30/lessons/42577"
   ]
  },
  {
   "cell_type": "code",
   "execution_count": 102,
   "id": "52dd569c",
   "metadata": {},
   "outputs": [],
   "source": [
    "# 정렬 할때 순회할 수 있는 원소는 순회하면서 원소 비교"
   ]
  },
  {
   "cell_type": "code",
   "execution_count": 103,
   "id": "370d6f33",
   "metadata": {},
   "outputs": [
    {
     "data": {
      "text/plain": [
       "False"
      ]
     },
     "execution_count": 103,
     "metadata": {},
     "output_type": "execute_result"
    }
   ],
   "source": [
    "phone_book = [\"12\",\"123\",\"1235\",\"567\",\"88\"]\n",
    "\n",
    "def solution(phone_book):\n",
    "    answer = True\n",
    "    phone_book.sort()\n",
    "    for i in range(len(phone_book)-1):\n",
    "        if len(phone_book[i]) < len(phone_book[i+1]):\n",
    "            if phone_book[i+1][:len(phone_book[i])]:\n",
    "                answer = False\n",
    "                break\n",
    "    return answer\n",
    "    \n",
    "solution(phone_book)"
   ]
  },
  {
   "cell_type": "code",
   "execution_count": 105,
   "id": "c3e915b4",
   "metadata": {},
   "outputs": [
    {
     "data": {
      "text/plain": [
       "False"
      ]
     },
     "execution_count": 105,
     "metadata": {},
     "output_type": "execute_result"
    }
   ],
   "source": [
    "phone_book = [\"12\",\"123\",\"1235\",\"567\",\"88\"]\n",
    "\n",
    "def solution(phone_book):\n",
    "    phone_book = sorted(phone_book)\n",
    "    \n",
    "    for p1, p2 in zip(phone_book, phone_book[1:]):\n",
    "        if p2.startswith(p1):\n",
    "            return False\n",
    "            \n",
    "    return True\n",
    "solution(phone_book)"
   ]
  },
  {
   "cell_type": "code",
   "execution_count": 121,
   "id": "4da6eea0",
   "metadata": {},
   "outputs": [
    {
     "data": {
      "text/plain": [
       "False"
      ]
     },
     "execution_count": 121,
     "metadata": {},
     "output_type": "execute_result"
    }
   ],
   "source": [
    "# 해쉬 사용\n",
    "phone_book = [\"12\",\"123\",\"1235\",\"567\",\"88\"]\n",
    "\n",
    "def solution(phone_book):\n",
    "    hash_map = {}\n",
    "    for phone_number in phone_book:\n",
    "        hash_map[phone_number] = 1\n",
    "    \n",
    "    for phone_number in phone_book:\n",
    "        temp = ''\n",
    "        for number in phone_number:\n",
    "            temp += number\n",
    "            if temp in hash_map and temp != phone_number:\n",
    "                return False\n",
    "    return True\n",
    "\n",
    "\n",
    "solution(phone_book)"
   ]
  },
  {
   "cell_type": "markdown",
   "id": "7d762789",
   "metadata": {},
   "source": [
    "# 2/22 화"
   ]
  },
  {
   "cell_type": "markdown",
   "id": "253ca149",
   "metadata": {},
   "source": [
    "## 프린터\n",
    "https://programmers.co.kr/learn/courses/30/lessons/42587"
   ]
  },
  {
   "cell_type": "code",
   "execution_count": 135,
   "id": "76e10e25",
   "metadata": {},
   "outputs": [
    {
     "data": {
      "text/plain": [
       "5"
      ]
     },
     "execution_count": 135,
     "metadata": {},
     "output_type": "execute_result"
    }
   ],
   "source": [
    "# 시간 초과\n",
    "\n",
    "from collections import deque\n",
    "\n",
    "def solution(priorities, location):\n",
    "    pri = deque(priorities)\n",
    "    check = deque([0]*len(pri))\n",
    "    check[location] = 'target'\n",
    "    cnt = 0\n",
    "    while True:\n",
    "        if pri[0] == max(pri):\n",
    "            cnt += 1\n",
    "            pri.popleft()\n",
    "            if check.popleft() == 'target':\n",
    "                break\n",
    "        else:\n",
    "            pri.append(pri.popleft())\n",
    "            check.append(check.popleft())\n",
    "    return cnt\n",
    "\n",
    "solution([1, 1, 9, 1, 1, 1], 0)"
   ]
  },
  {
   "cell_type": "code",
   "execution_count": 141,
   "id": "17e923c0",
   "metadata": {},
   "outputs": [
    {
     "data": {
      "text/plain": [
       "deque([(2, 0), (1, 1), (3, 2), (2, 3)])"
      ]
     },
     "execution_count": 141,
     "metadata": {},
     "output_type": "execute_result"
    }
   ],
   "source": [
    "d = deque([(v, i) for i, v in enumerate([2, 1, 3, 2])])\n",
    "d"
   ]
  },
  {
   "cell_type": "code",
   "execution_count": null,
   "id": "3cf46325",
   "metadata": {},
   "outputs": [],
   "source": [
    "from collections import deque\n",
    "\n",
    "def solution(priorities, location):\n",
    "    answer = 0\n",
    "    d = deque([(v, i) for i, v in enumerate(priorities)])\n",
    "    \n",
    "    while d:\n",
    "        item = d.popleft()\n",
    "        if d and max(d)[0] > item[0]:\n",
    "            d.append(item)\n",
    "        else:\n",
    "            answer += 1\n",
    "            if item[1] == location:\n",
    "                break\n",
    "    return answer"
   ]
  },
  {
   "cell_type": "code",
   "execution_count": 142,
   "id": "5baa5ce0",
   "metadata": {},
   "outputs": [
    {
     "data": {
      "text/plain": [
       "5"
      ]
     },
     "execution_count": 142,
     "metadata": {},
     "output_type": "execute_result"
    }
   ],
   "source": [
    "def solution(priorities, location):\n",
    "    queue =  [(i,p) for i,p in enumerate(priorities)]\n",
    "    answer = 0\n",
    "    while True:\n",
    "        cur = queue.pop(0)\n",
    "        if any(cur[1] < q[1] for q in queue):\n",
    "            queue.append(cur)\n",
    "        else:\n",
    "            answer += 1\n",
    "            if cur[0] == location:\n",
    "                return answer\n",
    "            \n",
    "solution([1, 1, 9, 1, 1, 1], 0)"
   ]
  },
  {
   "cell_type": "markdown",
   "id": "14facb74",
   "metadata": {},
   "source": [
    "## 가장 큰 수\n",
    "https://programmers.co.kr/learn/courses/30/lessons/42746"
   ]
  },
  {
   "cell_type": "code",
   "execution_count": 158,
   "id": "b0bf1fcc",
   "metadata": {},
   "outputs": [
    {
     "data": {
      "text/plain": [
       "'9534330'"
      ]
     },
     "execution_count": 158,
     "metadata": {},
     "output_type": "execute_result"
    }
   ],
   "source": [
    "# 시간 초과\n",
    "def back_tracking(idx, s, numbers, check, answer):\n",
    "    if idx == len(numbers):\n",
    "        answer.append(s)\n",
    "        return\n",
    "    \n",
    "    for i in range(len(numbers)):\n",
    "        if check[i]:\n",
    "            continue\n",
    "        check[i] = True\n",
    "        back_tracking(idx+1, s+str(numbers[i]), numbers, check, answer)\n",
    "        check[i] = False\n",
    "    \n",
    "    \n",
    "def solution(numbers):\n",
    "    answer = []\n",
    "    check = [False] * len(numbers)\n",
    "    back_tracking(0, '', numbers, check, answer)\n",
    "\n",
    "    return max(answer)\n",
    "\n",
    "solution([3, 30, 34, 5, 9])"
   ]
  },
  {
   "cell_type": "code",
   "execution_count": 159,
   "id": "ee993d65",
   "metadata": {},
   "outputs": [
    {
     "data": {
      "text/plain": [
       "'9534330'"
      ]
     },
     "execution_count": 159,
     "metadata": {},
     "output_type": "execute_result"
    }
   ],
   "source": [
    "def solution(numbers):\n",
    "    numbers = list(map(str, numbers))\n",
    "    numbers.sort(key=lambda x: x * 3, reverse=True)\n",
    "    return str(int(''.join(numbers)))\n",
    "\n",
    "solution([3, 30, 34, 5, 9])"
   ]
  },
  {
   "cell_type": "markdown",
   "id": "b38d2341",
   "metadata": {},
   "source": [
    "## 소수 찾기\n",
    "https://programmers.co.kr/learn/courses/30/lessons/42839"
   ]
  },
  {
   "cell_type": "code",
   "execution_count": 219,
   "id": "c9373650",
   "metadata": {},
   "outputs": [
    {
     "data": {
      "text/plain": [
       "2"
      ]
     },
     "execution_count": 219,
     "metadata": {},
     "output_type": "execute_result"
    }
   ],
   "source": [
    "from itertools import permutations\n",
    "\n",
    "def solution(numbers):\n",
    "    answer = 0\n",
    "    MAX = 10000000\n",
    "    check = [True]*MAX\n",
    "    check[0] = check[1] = False\n",
    "    for i in range(2, MAX):\n",
    "        if check[i]:\n",
    "            j = i**2\n",
    "            while j < MAX:\n",
    "                check[j] = False\n",
    "                j += i\n",
    "    nums = []\n",
    "    for i in range(1, len(numbers)+1):\n",
    "        for j in list(permutations(numbers, i)):\n",
    "            nums.append(int(''.join(j)))\n",
    "    nums = list(set(nums))\n",
    "    for n in nums:\n",
    "        if check[n]:\n",
    "            answer += 1\n",
    "\n",
    "    return answer\n",
    "solution('011')"
   ]
  },
  {
   "cell_type": "code",
   "execution_count": 222,
   "id": "1b0b6d88",
   "metadata": {
    "scrolled": true
   },
   "outputs": [
    {
     "data": {
      "text/plain": [
       "2"
      ]
     },
     "execution_count": 222,
     "metadata": {},
     "output_type": "execute_result"
    }
   ],
   "source": [
    "# 시간 복잡도 개선\n",
    "\n",
    "from itertools import permutations\n",
    "answer = 0\n",
    "numbers = '011'\n",
    "\n",
    "nums = []\n",
    "for i in range(1, len(numbers)+1):\n",
    "    for j in list(permutations(numbers, i)):\n",
    "        nums.append(int(''.join(j)))\n",
    "        \n",
    "check = [True]*(max(nums)+1)\n",
    "check[0] = check[1] = False\n",
    "\n",
    "for i in range(2, max(nums)+1):\n",
    "    if check[i]:\n",
    "        j = i ** 2\n",
    "    while j < max(nums)+1:\n",
    "        check[j] = False\n",
    "        j += i\n",
    "\n",
    "nums = list(set(nums))\n",
    "for n in nums:\n",
    "    if check[n]:\n",
    "        answer += 1\n",
    "answer"
   ]
  },
  {
   "cell_type": "code",
   "execution_count": 215,
   "id": "d1ba72c8",
   "metadata": {},
   "outputs": [
    {
     "data": {
      "text/plain": [
       "{0, 1, 10, 11, 101, 110}"
      ]
     },
     "execution_count": 215,
     "metadata": {},
     "output_type": "execute_result"
    }
   ],
   "source": [
    "n = '011'\n",
    "a = set()\n",
    "for i in range(len(n)):\n",
    "    a |= set(map(int, map(\"\".join, permutations(list(n), i + 1))))\n",
    "a"
   ]
  },
  {
   "cell_type": "code",
   "execution_count": 223,
   "id": "190c1e44",
   "metadata": {},
   "outputs": [
    {
     "name": "stdout",
     "output_type": "stream",
     "text": [
      "{101, 11}\n"
     ]
    },
    {
     "data": {
      "text/plain": [
       "2"
      ]
     },
     "execution_count": 223,
     "metadata": {},
     "output_type": "execute_result"
    }
   ],
   "source": [
    "from itertools import permutations\n",
    "def solution(n):\n",
    "    a = set()\n",
    "    for i in range(len(n)):\n",
    "        a |= set(map(int, map(\"\".join, permutations(list(n), i + 1))))\n",
    "    a -= set(range(0, 2))\n",
    "    for i in range(2, int(max(a) ** 0.5) + 1):\n",
    "        a -= set(range(i * 2, max(a) + 1, i))\n",
    "    print(a)\n",
    "    return len(a)\n",
    "\n",
    "solution(\"011\")"
   ]
  },
  {
   "cell_type": "markdown",
   "id": "e71c4b3f",
   "metadata": {},
   "source": [
    "## 2/23 수"
   ]
  },
  {
   "cell_type": "markdown",
   "id": "b3c01efa",
   "metadata": {},
   "source": [
    "## 조이스틱\n",
    "https://programmers.co.kr/learn/courses/30/lessons/42860"
   ]
  },
  {
   "cell_type": "code",
   "execution_count": null,
   "id": "99bc9c52",
   "metadata": {},
   "outputs": [],
   "source": [
    "def solution(name):\n",
    "    change = [min(ord(i) - ord(\"A\"), ord(\"Z\") - ord(i)+1) for i in name]\n",
    "    idx, answer = 0, 0\n",
    "\n",
    "    while True:\n",
    "        answer += change[idx]\n",
    "        change[idx] = 0\n",
    "\n",
    "        if sum(change) == 0:\n",
    "            break\n",
    "\n",
    "        left, right = 1, 1\n",
    "        while change[idx - left] == 0:\n",
    "            left += 1\n",
    "\n",
    "        while change[idx + right] == 0:\n",
    "            right += 1\n",
    "\n",
    "        answer += left if left < right else right\n",
    "        idx += -left if left < right else right\n",
    "        \n",
    "    return answer"
   ]
  },
  {
   "cell_type": "code",
   "execution_count": 10,
   "id": "57eec715",
   "metadata": {},
   "outputs": [
    {
     "data": {
      "text/plain": [
       "11"
      ]
     },
     "execution_count": 10,
     "metadata": {},
     "output_type": "execute_result"
    }
   ],
   "source": [
    "def solution(name):\n",
    "    if set(name) == {'A'}:\n",
    "        return 0\n",
    "\n",
    "    answer = float('inf')\n",
    "    for i in range(len(name) // 2): # 반 이상 움직일 필요 없음\n",
    "        left_moved = name[-i:]+name[:-i]\n",
    "        right_moved = name[i:]+name[:i]\n",
    "        for n in [left_moved, right_moved[0]+right_moved[:0:-1]]:\n",
    "            while n and n[-1] == 'A':\n",
    "                n = n[:-1]\n",
    "\n",
    "            row_move = i + len(n)-1\n",
    "            col_move = 0\n",
    "            for c in map(ord, n):\n",
    "                col_move += min(c - 65, 91 - c)\n",
    "\n",
    "            answer = min(answer, row_move + col_move)\n",
    "\n",
    "    return answer"
   ]
  },
  {
   "cell_type": "markdown",
   "id": "fd728a5d",
   "metadata": {},
   "source": [
    "# 2/24 목"
   ]
  },
  {
   "cell_type": "markdown",
   "id": "bc4571f4",
   "metadata": {},
   "source": [
    "## 게임 맵 최단거리\n",
    "https://programmers.co.kr/learn/courses/30/lessons/1844"
   ]
  },
  {
   "cell_type": "code",
   "execution_count": 35,
   "id": "4267a3a7",
   "metadata": {},
   "outputs": [
    {
     "name": "stdout",
     "output_type": "stream",
     "text": [
      "11\n"
     ]
    }
   ],
   "source": [
    "from collections import deque\n",
    "maps = [[1,0,1,1,1],[1,0,1,0,1],[1,0,1,1,1],[1,1,1,0,1],[0,0,0,0,1]]\n",
    "dx = [0, 0, -1, 1]\n",
    "dy = [1, -1, 0, 0]\n",
    "q = deque([(0, 0)])\n",
    "\n",
    "while q:\n",
    "    x, y = q.popleft()\n",
    "    for k in range(4):\n",
    "        nx, ny = x+dx[k], y+dy[k]\n",
    "        if 0 <= nx < len(maps) and 0 <= ny < len(maps[0]) and maps[nx][ny] == 1:\n",
    "            q.append((nx, ny))\n",
    "            maps[nx][ny] += maps[x][y]\n",
    "            \n",
    "print(maps[-1][-1] if maps[-1][-1] > 1 else -1)"
   ]
  },
  {
   "cell_type": "markdown",
   "id": "36655995",
   "metadata": {},
   "source": [
    "# 2/25 금\n",
    "https://programmers.co.kr/learn/courses/30/lessons/12985"
   ]
  },
  {
   "cell_type": "code",
   "execution_count": 14,
   "id": "c9d8e40c",
   "metadata": {},
   "outputs": [
    {
     "name": "stdout",
     "output_type": "stream",
     "text": [
      "8 4 7\n",
      "3\n"
     ]
    }
   ],
   "source": [
    "n, a, b = map(int, input().split())\n",
    "\n",
    "ans = 0\n",
    "while a != b:\n",
    "    ans += 1\n",
    "    a, b = (a+1)//2, (b+1)//2\n",
    "print(ans)"
   ]
  },
  {
   "cell_type": "code",
   "execution_count": 18,
   "id": "252aa35e",
   "metadata": {},
   "outputs": [
    {
     "data": {
      "text/plain": [
       "5"
      ]
     },
     "execution_count": 18,
     "metadata": {},
     "output_type": "execute_result"
    }
   ],
   "source": [
    "a, b = 4, 7\n",
    "((a-1)^(b-1)).bit_length()\n",
    "(a-1)^(b-1)"
   ]
  },
  {
   "cell_type": "markdown",
   "id": "1413a5b6",
   "metadata": {},
   "source": [
    "# 2/26 토"
   ]
  },
  {
   "cell_type": "markdown",
   "id": "bb340163",
   "metadata": {},
   "source": [
    "## 순위 검색\n",
    "https://programmers.co.kr/learn/courses/30/lessons/72412"
   ]
  },
  {
   "cell_type": "code",
   "execution_count": 87,
   "id": "5f867fe1",
   "metadata": {
    "scrolled": false
   },
   "outputs": [
    {
     "data": {
      "text/plain": [
       "[1, 1, 1, 1, 2, 4]"
      ]
     },
     "execution_count": 87,
     "metadata": {},
     "output_type": "execute_result"
    }
   ],
   "source": [
    "from itertools import combinations\n",
    "from collections import defaultdict\n",
    "from bisect import bisect_left\n",
    "\n",
    "info = [\"java backend junior pizza 150\",\"python frontend senior chicken 210\",\"python frontend senior chicken 150\",\"cpp backend senior pizza 260\",\"java backend junior chicken 80\",\"python backend senior chicken 50\"]\n",
    "query = [\"java and backend and junior and pizza 100\",\"python and frontend and senior and chicken 200\",\"cpp and - and senior and pizza 250\",\"- and backend and senior and - 150\",\"- and - and - and chicken 100\",\"- and - and - and - 150\"]\n",
    "answer = []\n",
    "info_dict = defaultdict(list)\n",
    "\n",
    "for i in range(len(info)):\n",
    "    inform = info[i].split()\n",
    "    my_key = inform[:-1]\n",
    "    my_val = inform[-1]\n",
    "    \n",
    "    for j in range(5):\n",
    "        for c in combinations(my_key, j):\n",
    "            tmp = ''.join(c)\n",
    "            info_dict[tmp].append(int(my_val))\n",
    "    \n",
    "for k in info_dict:\n",
    "    info_dict[k].sort()\n",
    "for q in query:\n",
    "    my_q = q.replace('and ', '').replace('-', '').split()\n",
    "    q_key = my_q[:-1]\n",
    "    q_val = my_q[-1]\n",
    "    q_key = ''.join(q_key)\n",
    "    if q_key in info_dict:\n",
    "        scores = info_dict[q_key]\n",
    "\n",
    "        if scores:\n",
    "            enter = bisect_left(scores, int(q_val))\n",
    "            answer.append(len(scores) - enter)\n",
    "    else:\n",
    "        answer.append(0)\n",
    "answer"
   ]
  },
  {
   "cell_type": "code",
   "execution_count": 89,
   "id": "ce4e2b80",
   "metadata": {},
   "outputs": [
    {
     "data": {
      "text/plain": [
       "[1, 1, 1, 1, 2, 4]"
      ]
     },
     "execution_count": 89,
     "metadata": {},
     "output_type": "execute_result"
    }
   ],
   "source": [
    "from itertools import combinations\n",
    "from collections import defaultdict\n",
    "from bisect import bisect_left\n",
    "\n",
    "\n",
    "answer = []\n",
    "info_dict = defaultdict(list)\n",
    "\n",
    "for i in range(len(info)):\n",
    "    inform = info[i].split()\n",
    "    my_key = inform[:-1]\n",
    "    my_val = inform[-1]\n",
    "\n",
    "    for j in range(5):\n",
    "        for c in combinations(my_key, j):\n",
    "            tmp = ''.join(c)\n",
    "            info_dict[tmp].append(int(my_val))\n",
    "for k in info_dict:\n",
    "    info_dict[k].sort()\n",
    "for q in query:\n",
    "    my_q = q.replace('and ', '').replace('-', '').split()\n",
    "    q_key = my_q[:-1]\n",
    "    q_val = my_q[-1]\n",
    "    q_key = ''.join(q_key)\n",
    "    if q_key in info_dict:\n",
    "        scores = info_dict[q_key]\n",
    "        if scores:\n",
    "            enter = bisect_left(scores, int(q_val))\n",
    "            answer.append(len(scores) - enter)\n",
    "    else:\n",
    "        answer.append(0)\n",
    "                \n",
    "answer"
   ]
  },
  {
   "cell_type": "markdown",
   "id": "4c888875",
   "metadata": {},
   "source": [
    "# 2/27 일"
   ]
  },
  {
   "cell_type": "code",
   "execution_count": null,
   "id": "83c2d41a",
   "metadata": {},
   "outputs": [],
   "source": []
  }
 ],
 "metadata": {
  "kernelspec": {
   "display_name": "Python 3",
   "language": "python",
   "name": "python3"
  },
  "language_info": {
   "codemirror_mode": {
    "name": "ipython",
    "version": 3
   },
   "file_extension": ".py",
   "mimetype": "text/x-python",
   "name": "python",
   "nbconvert_exporter": "python",
   "pygments_lexer": "ipython3",
   "version": "3.8.8"
  }
 },
 "nbformat": 4,
 "nbformat_minor": 5
}
