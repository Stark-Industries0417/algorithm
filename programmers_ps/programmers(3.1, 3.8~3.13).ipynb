{
 "cells": [
  {
   "cell_type": "markdown",
   "id": "6610d1fc",
   "metadata": {},
   "source": [
    "# 3/1 화"
   ]
  },
  {
   "cell_type": "markdown",
   "id": "29a9c1c5",
   "metadata": {},
   "source": [
    "## 배달\n",
    "https://www.acmicpc.net/workbook/view/2418"
   ]
  },
  {
   "cell_type": "code",
   "execution_count": 20,
   "id": "d4497c33",
   "metadata": {},
   "outputs": [
    {
     "name": "stdout",
     "output_type": "stream",
     "text": [
      "4\n"
     ]
    }
   ],
   "source": [
    "import sys\n",
    "import heapq\n",
    "\n",
    "n=5\n",
    "road = [[1,2,1],[2,3,3],[5,2,2],[1,4,2],[5,3,1],[5,4,2]]\n",
    "k = 3\n",
    "answer = 0\n",
    "distance = [sys.maxsize]*(n+1)\n",
    "graph = [[] for _ in range(n+1)]\n",
    "for r in road:\n",
    "    graph[r[0]].append((r[1], r[2]))\n",
    "    graph[r[1]].append((r[0], r[2]))\n",
    "\n",
    "def dijkstra():\n",
    "    q = []\n",
    "    heapq.heappush(q, (0, 1))\n",
    "    distance[1] = 0\n",
    "    while q:\n",
    "        dist, now = heapq.heappop(q)\n",
    "        if distance[now] < dist:\n",
    "            continue\n",
    "        for i in graph[now]:\n",
    "            cost = dist + i[1]\n",
    "            if cost < distance[i[0]]:\n",
    "                distance[i[0]] = cost\n",
    "                heapq.heappush(q, (cost, i[0]))\n",
    "dijkstra()\n",
    "\n",
    "for d in distance:\n",
    "    if d <= k:\n",
    "        answer += 1\n",
    "print(answer)"
   ]
  },
  {
   "cell_type": "markdown",
   "id": "0fec07ce",
   "metadata": {},
   "source": [
    "# 3/1 화"
   ]
  },
  {
   "cell_type": "markdown",
   "id": "667aa106",
   "metadata": {},
   "source": [
    "## 위장\n",
    "https://programmers.co.kr/learn/courses/30/lessons/42578"
   ]
  },
  {
   "cell_type": "code",
   "execution_count": 19,
   "id": "ab6823cf",
   "metadata": {},
   "outputs": [
    {
     "data": {
      "text/plain": [
       "5"
      ]
     },
     "execution_count": 19,
     "metadata": {},
     "output_type": "execute_result"
    }
   ],
   "source": [
    "from collections import defaultdict\n",
    "from itertools import combinations\n",
    "\n",
    "clothes = [[\"yellowhat\", \"headgear\"], [\"bluesunglasses\", \"eyewear\"], [\"green_turban\", \"headgear\"]]\n",
    "answer = defaultdict(int)\n",
    "for c in clothes:\n",
    "    answer[c[1]] += 1\n",
    "\n",
    "cnt = 1\n",
    "for v in answer.values():\n",
    "    cnt *= (v+1)\n",
    "cnt-1"
   ]
  },
  {
   "cell_type": "code",
   "execution_count": 30,
   "id": "34179570",
   "metadata": {},
   "outputs": [
    {
     "data": {
      "text/plain": [
       "5"
      ]
     },
     "execution_count": 30,
     "metadata": {},
     "output_type": "execute_result"
    }
   ],
   "source": [
    "from collections import Counter\n",
    "from functools import reduce\n",
    "\n",
    "clothes = [[\"yellowhat\", \"headgear\"], [\"bluesunglasses\", \"eyewear\"], [\"green_turban\", \"headgear\"]]\n",
    "cnt = Counter([kind for name, kind in clothes])\n",
    "answer = reduce(lambda x, y: x*(y+1), cnt.values(), 1) - 1\n",
    "answer"
   ]
  }
 ],
 "metadata": {
  "kernelspec": {
   "display_name": "Python 3",
   "language": "python",
   "name": "python3"
  },
  "language_info": {
   "codemirror_mode": {
    "name": "ipython",
    "version": 3
   },
   "file_extension": ".py",
   "mimetype": "text/x-python",
   "name": "python",
   "nbconvert_exporter": "python",
   "pygments_lexer": "ipython3",
   "version": "3.8.8"
  }
 },
 "nbformat": 4,
 "nbformat_minor": 5
}
