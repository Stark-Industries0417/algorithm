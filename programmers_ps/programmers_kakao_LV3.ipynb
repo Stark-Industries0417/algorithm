{
 "cells": [
  {
   "cell_type": "markdown",
   "id": "ea8ff1c4",
   "metadata": {},
   "source": [
    "## 자물쇠와 열쇠\n",
    "https://school.programmers.co.kr/learn/courses/30/lessons/60059"
   ]
  },
  {
   "cell_type": "code",
   "execution_count": null,
   "id": "c3cf1f9b",
   "metadata": {},
   "outputs": [],
   "source": [
    "def rotate(arr, d):\n",
    "    n = len(arr)\n",
    "    result = [[0] * n for _ in range(n)]\n",
    "\n",
    "    if d % 4 == 1:\n",
    "        for r in range(n):\n",
    "            for c in range(n):\n",
    "                result[c][n - r - 1] = arr[r][c]\n",
    "\n",
    "    elif d % 4 == 2:\n",
    "        for r in range(n):\n",
    "            for c in range(n):\n",
    "                result[n - r - 1][n - c - 1] = arr[r][c]\n",
    "\n",
    "    elif d % 4 == 3:\n",
    "        for r in range(n):\n",
    "            for c in range(n):\n",
    "                result[n - c - 1][r] = arr[r][c]\n",
    "    else:\n",
    "        for r in range(n):\n",
    "            for c in range(n):\n",
    "                result[r][c] = arr[r][c]\n",
    "    return result\n",
    "\n",
    "def check(lock):\n",
    "    n = len(lock) // 3\n",
    "    for i in range(n, n*2):\n",
    "        for j in range(n, n*2):\n",
    "            if lock[i][j] != 1:\n",
    "                return False\n",
    "    return True\n",
    "\n",
    "\n",
    "def solution(key, lock):\n",
    "    m = len(key)\n",
    "    n = len(lock)\n",
    "    new_lock = [[0] * (n*3) for _ in range(n*3)]\n",
    "\n",
    "    for i in range(n):\n",
    "        for j in range(n):\n",
    "            new_lock[n+i][n+j] = lock[i][j]\n",
    "\n",
    "    for i in range(1, n*2):\n",
    "        for j in range(1, n*2):\n",
    "            for d in range(4):\n",
    "                r_key = rotate(key, d)\n",
    "                for x in range(m):\n",
    "                    for y in range(m):\n",
    "                        new_lock[i + x][j + y] += r_key[x][y]\n",
    "                if check(new_lock):\n",
    "                    return True\n",
    "                for x in range(m):\n",
    "                    for y in range(m):\n",
    "                        new_lock[i + x][j + y] -= r_key[x][y]\n",
    "    return False\n",
    "\n",
    "\n",
    "print(solution([[0, 0, 0], [1, 0, 0], [0, 1, 1]], [[1, 1, 1], [1, 1, 0], [1, 0, 1]]))"
   ]
  }
 ],
 "metadata": {
  "kernelspec": {
   "display_name": "Python 3",
   "language": "python",
   "name": "python3"
  },
  "language_info": {
   "codemirror_mode": {
    "name": "ipython",
    "version": 3
   },
   "file_extension": ".py",
   "mimetype": "text/x-python",
   "name": "python",
   "nbconvert_exporter": "python",
   "pygments_lexer": "ipython3",
   "version": "3.8.8"
  }
 },
 "nbformat": 4,
 "nbformat_minor": 5
}
