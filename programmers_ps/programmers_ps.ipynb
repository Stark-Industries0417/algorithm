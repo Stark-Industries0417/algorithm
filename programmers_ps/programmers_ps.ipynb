{
 "cells": [
  {
   "cell_type": "markdown",
   "id": "6610d1fc",
   "metadata": {},
   "source": [
    "# 3/1 화"
   ]
  },
  {
   "cell_type": "markdown",
   "id": "29a9c1c5",
   "metadata": {},
   "source": [
    "## 배달\n",
    "https://www.acmicpc.net/workbook/view/2418"
   ]
  },
  {
   "cell_type": "code",
   "execution_count": 20,
   "id": "d4497c33",
   "metadata": {},
   "outputs": [
    {
     "name": "stdout",
     "output_type": "stream",
     "text": [
      "4\n"
     ]
    }
   ],
   "source": [
    "import sys\n",
    "import heapq\n",
    "\n",
    "n=5\n",
    "road = [[1,2,1],[2,3,3],[5,2,2],[1,4,2],[5,3,1],[5,4,2]]\n",
    "k = 3\n",
    "answer = 0\n",
    "distance = [sys.maxsize]*(n+1)\n",
    "graph = [[] for _ in range(n+1)]\n",
    "for r in road:\n",
    "    graph[r[0]].append((r[1], r[2]))\n",
    "    graph[r[1]].append((r[0], r[2]))\n",
    "\n",
    "def dijkstra():\n",
    "    q = []\n",
    "    heapq.heappush(q, (0, 1))\n",
    "    distance[1] = 0\n",
    "    while q:\n",
    "        dist, now = heapq.heappop(q)\n",
    "        if distance[now] < dist:\n",
    "            continue\n",
    "        for i in graph[now]:\n",
    "            cost = dist + i[1]\n",
    "            if cost < distance[i[0]]:\n",
    "                distance[i[0]] = cost\n",
    "                heapq.heappush(q, (cost, i[0]))\n",
    "dijkstra()\n",
    "\n",
    "for d in distance:\n",
    "    if d <= k:\n",
    "        answer += 1\n",
    "print(answer)"
   ]
  },
  {
   "cell_type": "markdown",
   "id": "0fec07ce",
   "metadata": {},
   "source": [
    "# 3/1 화"
   ]
  },
  {
   "cell_type": "markdown",
   "id": "667aa106",
   "metadata": {},
   "source": [
    "## 위장\n",
    "https://programmers.co.kr/learn/courses/30/lessons/42578"
   ]
  },
  {
   "cell_type": "code",
   "execution_count": 19,
   "id": "ab6823cf",
   "metadata": {},
   "outputs": [
    {
     "data": {
      "text/plain": [
       "5"
      ]
     },
     "execution_count": 19,
     "metadata": {},
     "output_type": "execute_result"
    }
   ],
   "source": [
    "from collections import defaultdict\n",
    "from itertools import combinations\n",
    "\n",
    "clothes = [[\"yellowhat\", \"headgear\"], [\"bluesunglasses\", \"eyewear\"], [\"green_turban\", \"headgear\"]]\n",
    "answer = defaultdict(int)\n",
    "for c in clothes:\n",
    "    answer[c[1]] += 1\n",
    "\n",
    "cnt = 1\n",
    "for v in answer.values():\n",
    "    cnt *= (v+1)\n",
    "cnt-1"
   ]
  },
  {
   "cell_type": "code",
   "execution_count": 30,
   "id": "34179570",
   "metadata": {},
   "outputs": [
    {
     "data": {
      "text/plain": [
       "5"
      ]
     },
     "execution_count": 30,
     "metadata": {},
     "output_type": "execute_result"
    }
   ],
   "source": [
    "from collections import Counter\n",
    "from functools import reduce\n",
    "\n",
    "clothes = [[\"yellowhat\", \"headgear\"], [\"bluesunglasses\", \"eyewear\"], [\"green_turban\", \"headgear\"]]\n",
    "cnt = Counter([kind for name, kind in clothes])\n",
    "answer = reduce(lambda x, y: x*(y+1), cnt.values(), 1) - 1\n",
    "answer"
   ]
  },
  {
   "cell_type": "markdown",
   "id": "95c6e971",
   "metadata": {},
   "source": [
    "# 3/9 수"
   ]
  },
  {
   "cell_type": "markdown",
   "id": "752549aa",
   "metadata": {},
   "source": [
    "## 다리를 지나는 트럭\n",
    "https://programmers.co.kr/learn/courses/30/lessons/42583"
   ]
  },
  {
   "cell_type": "code",
   "execution_count": 2,
   "id": "68ef4b1f",
   "metadata": {},
   "outputs": [
    {
     "data": {
      "text/plain": [
       "101"
      ]
     },
     "execution_count": 2,
     "metadata": {},
     "output_type": "execute_result"
    }
   ],
   "source": [
    "def solution(bridge_length, weight, truck_weights):\n",
    "    answer = 0\n",
    "    trucks_on_bridge = [0] * bridge_length\n",
    "    while len(trucks_on_bridge):\n",
    "        answer += 1\n",
    "        trucks_on_bridge.pop(0)\n",
    "        if truck_weights:\n",
    "            if sum(trucks_on_bridge) + truck_weights[0] <= weight:\n",
    "                trucks_on_bridge.append(truck_weights.pop(0))\n",
    "            else:\n",
    "                trucks_on_bridge.append(0)\n",
    "    return answer\n",
    "solution(100, 100, [10])"
   ]
  },
  {
   "cell_type": "markdown",
   "id": "f09f4658",
   "metadata": {},
   "source": [
    "## 행렬 테두리 회전하기\n",
    "https://school.programmers.co.kr/learn/courses/30/lessons/77485"
   ]
  },
  {
   "cell_type": "code",
   "execution_count": null,
   "id": "8c37b17b",
   "metadata": {},
   "outputs": [],
   "source": [
    "def solution(rows, columns, queries):\n",
    "    ans = []\n",
    "    graph = [[] for _ in range(rows)]\n",
    "    x = 1\n",
    "    for i in range(rows):\n",
    "        graph[i].extend(list(range(x, x+columns)))\n",
    "        x += columns\n",
    "    \n",
    "    for query in queries:\n",
    "        minn = []\n",
    "        query = map(lambda x: x-1, query)\n",
    "        x1, y1, x2, y2 = query\n",
    "\n",
    "        tmp1 = graph[x1][y2]\n",
    "        for j in range(y2, y1, -1):\n",
    "            minn.append(graph[x1][j])\n",
    "            graph[x1][j] = graph[x1][j-1]\n",
    "\n",
    "        tmp2 = graph[x2][y2]\n",
    "        for i in range(x2, x1, -1):\n",
    "            minn.append(graph[i][y2])\n",
    "            if i == x1+1:\n",
    "                graph[i][y2] = tmp1\n",
    "                break\n",
    "            graph[i][y2] = graph[i-1][y2]\n",
    "        \n",
    "        tmp3 = graph[x2][y1]\n",
    "        for j in range(y1, y2):\n",
    "            minn.append(graph[x2][j])\n",
    "            if j == y2-1:\n",
    "                graph[x2][j] = tmp2\n",
    "                break\n",
    "            graph[x2][j] = graph[x2][j+1]\n",
    "\n",
    "        for i in range(x1, x2):\n",
    "            minn.append(graph[i][y1])\n",
    "            if i == x2-1:\n",
    "                graph[i][y1] = tmp3\n",
    "                break\n",
    "            graph[i][y1] = graph[i+1][y1]\n",
    "\n",
    "        ans.append(min(minn))\n",
    "    return ans\n",
    "\n",
    "print(solution(6, 6, [[2,2,5,4],[3,3,6,6],[5,1,6,3]]))"
   ]
  },
  {
   "cell_type": "markdown",
   "id": "e7884f70",
   "metadata": {},
   "source": [
    "## 방문 길이\n",
    "https://school.programmers.co.kr/learn/courses/30/lessons/49994"
   ]
  },
  {
   "cell_type": "code",
   "execution_count": null,
   "id": "a629914c",
   "metadata": {},
   "outputs": [],
   "source": [
    "def solution(dirs):\n",
    "    d = ['U', 'R', 'D', 'L']\n",
    "    dx, dy = [-1, 0, 1, 0], [0, 1, 0, -1]\n",
    "    visited = set()\n",
    "\n",
    "    x, y = 5, 5\n",
    "    for dir in dirs:\n",
    "        idx = d.index(dir)\n",
    "        nx, ny = x+dx[idx], y+dy[idx]\n",
    "        if 0 <= nx <= 10 and 0 <= ny <= 10:\n",
    "            visited.add(((nx, ny, x, y)))\n",
    "            visited.add((x, y, nx, ny))\n",
    "            x, y = nx, ny\n",
    "    return len(visited)//2\n",
    "\n",
    "print(solution(\"ULURRDLLU\"))"
   ]
  },
  {
   "cell_type": "markdown",
   "id": "dc1d702a",
   "metadata": {},
   "source": [
    "## 스킬트리\n",
    "https://school.programmers.co.kr/learn/courses/30/lessons/49993"
   ]
  },
  {
   "cell_type": "code",
   "execution_count": 2,
   "id": "ec82a9c5",
   "metadata": {},
   "outputs": [
    {
     "name": "stdout",
     "output_type": "stream",
     "text": [
      "2\n"
     ]
    }
   ],
   "source": [
    "def solution(skill, skill_trees):\n",
    "    ans = 0\n",
    "    for skill_tree in skill_trees:\n",
    "        check = []\n",
    "        for elem in skill_tree:\n",
    "            if elem in skill:\n",
    "                check.append(elem)\n",
    "        \n",
    "        for a, b in zip(skill, check):\n",
    "            if a != b:\n",
    "                break\n",
    "        else:\n",
    "            ans += 1\n",
    "    return ans\n",
    "\n",
    "print(solution(\"CBD\", [\"BACDE\", \"CBADF\", \"AECB\", \"BDA\"]))"
   ]
  },
  {
   "cell_type": "markdown",
   "id": "60396af4",
   "metadata": {},
   "source": [
    "## 예산\n",
    "https://school.programmers.co.kr/learn/courses/30/lessons/12982"
   ]
  },
  {
   "cell_type": "code",
   "execution_count": null,
   "id": "734b3757",
   "metadata": {},
   "outputs": [],
   "source": [
    "from bisect import bisect_right\n",
    "\n",
    "def solution(d, budget):\n",
    "    d.sort()\n",
    "    for i in range(1, len(d)):\n",
    "        d[i] += d[i-1]\n",
    "    return bisect_right(d, budget)"
   ]
  },
  {
   "cell_type": "markdown",
   "id": "02e4692f",
   "metadata": {},
   "source": [
    "## 숫자 게임\n",
    "https://school.programmers.co.kr/learn/courses/30/lessons/12987"
   ]
  },
  {
   "cell_type": "code",
   "execution_count": null,
   "id": "d5a11cfc",
   "metadata": {},
   "outputs": [],
   "source": [
    "def solution(A, B):\n",
    "    ans = 0\n",
    "    A.sort(reverse=True)\n",
    "    B.sort(reverse=True)\n",
    "    for a in A:\n",
    "        if a < B[0]:\n",
    "            ans += 1\n",
    "            B.pop(0)\n",
    "    return ans\n",
    "\n",
    "print(solution([5,1,3,7], [2,2,6,8]))"
   ]
  },
  {
   "cell_type": "markdown",
   "id": "d3d71bd2",
   "metadata": {},
   "source": [
    "## 영어 끝말읽기\n",
    "https://school.programmers.co.kr/learn/courses/30/lessons/12981"
   ]
  },
  {
   "cell_type": "code",
   "execution_count": null,
   "id": "80cbf4d6",
   "metadata": {},
   "outputs": [],
   "source": [
    "def solution(n, words):\n",
    "    ans = []\n",
    "    record = []\n",
    "    for i, word in enumerate(words):\n",
    "        if record and (record[-1][-1] != word[0] or word in record):\n",
    "            ans.extend([i%n + 1, i//n + 1])\n",
    "            break\n",
    "        record.append(word)\n",
    "    else:\n",
    "        ans = [0, 0]\n",
    "    return ans\n",
    "\n",
    "print(solution(3, [\"tank\", \"kick\", \"know\", \"wheel\", \"land\", \"dream\", \"mother\", \"robot\", \"tank\"]))"
   ]
  },
  {
   "cell_type": "code",
   "execution_count": null,
   "id": "b3e38b72",
   "metadata": {},
   "outputs": [],
   "source": [
    "def solution(n, words):\n",
    "    \n",
    "    for idx in range(1, len(words)):\n",
    "        if words[idx-1][-1] != words[idx][0] or words[idx] in words[:idx]:\n",
    "            return [idx%n + 1, idx//n + 1]\n",
    "    return [0, 0]\n",
    "\n",
    "print(solution(3, [\"tank\", \"kick\", \"know\", \"wheel\", \"land\", \"dream\", \"mother\", \"robot\", \"tank\"]))"
   ]
  },
  {
   "cell_type": "markdown",
   "id": "7c6ae398",
   "metadata": {},
   "source": [
    "## 점프와 순간이동 \n",
    "https://school.programmers.co.kr/learn/courses/30/lessons/12980"
   ]
  },
  {
   "cell_type": "code",
   "execution_count": null,
   "id": "483e748c",
   "metadata": {},
   "outputs": [],
   "source": [
    "def solution(N):\n",
    "    ans = 0\n",
    "\n",
    "    while N > 0:\n",
    "        ans += N % 2\n",
    "        N //= 2\n",
    "    return ans\n",
    "\n",
    "print(solution(6))"
   ]
  },
  {
   "cell_type": "code",
   "execution_count": null,
   "id": "fc080fc5",
   "metadata": {},
   "outputs": [],
   "source": [
    "def solution(N):\n",
    "    return bin(N).count('1')\n",
    "print(solution(5))"
   ]
  },
  {
   "cell_type": "markdown",
   "id": "ed99acb3",
   "metadata": {},
   "source": [
    "## 기지국 설치\n",
    "https://school.programmers.co.kr/learn/courses/30/lessons/12979"
   ]
  },
  {
   "cell_type": "code",
   "execution_count": null,
   "id": "0a4dc5e8",
   "metadata": {},
   "outputs": [],
   "source": [
    "def solution(n, stations, w):\n",
    "    answer = 0\n",
    "    W = 2 * w + 1\n",
    "    \n",
    "    start = 1\n",
    "    for s in stations:\n",
    "        answer += max(-(-(s - w - start)//W), 0)\n",
    "        start = s + w + 1\n",
    "        \n",
    "    if n >= start:\n",
    "        answer += -(-(n - start + 1) // W)\n",
    "    \n",
    "    return answer\n",
    "\n",
    "print(solution(11, [4, 11], 1))"
   ]
  },
  {
   "cell_type": "markdown",
   "id": "61e4e727",
   "metadata": {},
   "source": [
    "## 소수 만들기\n",
    "https://school.programmers.co.kr/learn/courses/30/lessons/12977"
   ]
  },
  {
   "cell_type": "code",
   "execution_count": null,
   "id": "f07eb362",
   "metadata": {},
   "outputs": [],
   "source": [
    "from itertools import combinations\n",
    "\n",
    "def prime(x):\n",
    "    if x <= 1:\n",
    "        return False\n",
    "    for i in range(2, int(x**0.5) + 1):\n",
    "        if x % i == 0:\n",
    "            return False\n",
    "    return True\n",
    "\n",
    "def solution(nums):\n",
    "    ans = 0 \n",
    "    for elem in combinations(nums, 3):\n",
    "        if prime(sum(elem)):\n",
    "            ans += 1\n",
    "    return ans\n",
    "\n",
    "print(solution([1, 2, 7, 6, 4]))"
   ]
  },
  {
   "cell_type": "markdown",
   "id": "ffc749fd",
   "metadata": {},
   "source": [
    "## 스티커 모으기2\n",
    "https://school.programmers.co.kr/learn/courses/30/lessons/12971"
   ]
  },
  {
   "cell_type": "code",
   "execution_count": null,
   "id": "77934a45",
   "metadata": {},
   "outputs": [],
   "source": [
    "def solution(sticker):\n",
    "    l = len(sticker)\n",
    "    if l == 1: return sticker[0]\n",
    "    dp1 = [0] * l\n",
    "    dp2 = [0] * l\n",
    "\n",
    "    dp1[0] = sticker[0]\n",
    "    dp1[1] = sticker[0]\n",
    "    for i in range(2, l - 1):\n",
    "        dp1[i] = max(dp1[i-1], dp1[i-2] + sticker[i])\n",
    "    \n",
    "    dp2[1] = sticker[1]\n",
    "    for i in range(2, l):\n",
    "        dp2[i] = max(dp2[i-1], dp2[i-2] + sticker[i])\n",
    "    \n",
    "    return max(dp1 + dp2)\n",
    "\n",
    "print(solution([14, 6, 5, 11, 3, 9, 2, 10]))"
   ]
  },
  {
   "cell_type": "markdown",
   "id": "abe7180c",
   "metadata": {},
   "source": [
    "## 다단계 칫솔 판매\n",
    "https://school.programmers.co.kr/learn/courses/30/lessons/77486"
   ]
  },
  {
   "cell_type": "code",
   "execution_count": 2,
   "id": "fc08a8c7",
   "metadata": {},
   "outputs": [
    {
     "data": {
      "text/plain": [
       "[(1, 'a'), (2, 'b'), (3, 'c')]"
      ]
     },
     "execution_count": 2,
     "metadata": {},
     "output_type": "execute_result"
    }
   ],
   "source": [
    "from collections import defaultdict\n",
    "\n",
    "def solution(enroll, referral, seller, amount):\n",
    "    profit = defaultdict(int)\n",
    "    refer = dict(zip(enroll, referral))\n",
    "    \n",
    "    def calc(name, total):\n",
    "        if total < 10 or name == '-':\n",
    "            profit[name] += total\n",
    "            return\n",
    "\n",
    "        bribe = total // 10\n",
    "        profit[name] += total - bribe\n",
    "        calc(refer[name], bribe)\n",
    "\n",
    "    for s, a in zip(seller, amount):\n",
    "        total = a * 100\n",
    "        calc(s, total)\n",
    "        \n",
    "    return [profit[name] for name in enroll]\n",
    "\n",
    "print(solution([\"john\", \"mary\", \"edward\", \"sam\", \"emily\", \"jaimie\", \"tod\", \"young\"], [\"-\", \"-\", \"mary\", \"edward\", \"mary\", \"mary\", \"jaimie\", \"edward\"], [\"young\", \"john\", \"tod\", \"emily\", \"mary\"], [12, 4, 2, 5, 10]))"
   ]
  },
  {
   "cell_type": "markdown",
   "id": "46b21f02",
   "metadata": {},
   "source": [
    "## 기사단원의 무기\n",
    "https://school.programmers.co.kr/learn/courses/30/lessons/136798"
   ]
  },
  {
   "cell_type": "code",
   "execution_count": 5,
   "id": "d6674b2e",
   "metadata": {},
   "outputs": [
    {
     "name": "stdout",
     "output_type": "stream",
     "text": [
      "21\n"
     ]
    }
   ],
   "source": [
    "def solution(number, limit, power):\n",
    "    div = []\n",
    "    for i in range(1, number+1):\n",
    "        cnt = []\n",
    "        for j in range(1, int(i**0.5) + 1):\n",
    "            if i % j == 0:\n",
    "                cnt.append(j)\n",
    "                cnt.append(i//j)\n",
    "        div.append(len(set(cnt)))\n",
    "\n",
    "    ans = 0\n",
    "    return sum([elem if elem <= limit else power for elem in div])\n",
    "print(solution(10, 3, 2))"
   ]
  },
  {
   "cell_type": "markdown",
   "id": "9e3f7b9d",
   "metadata": {},
   "source": [
    "## 과일 장수\n",
    "https://school.programmers.co.kr/learn/courses/30/lessons/135808"
   ]
  },
  {
   "cell_type": "code",
   "execution_count": null,
   "id": "ac821d57",
   "metadata": {},
   "outputs": [],
   "source": [
    "def solution(k, m, score):\n",
    "    answer = 0\n",
    "    score.sort(reverse=True)\n",
    "    box = len(score)//m\n",
    "\n",
    "    idx = 0\n",
    "    while box > 0:\n",
    "        s = min(score[idx:idx+m])\n",
    "        answer += s*m\n",
    "        idx += m\n",
    "        box -= 1\n",
    "    return answer\n",
    "    \n",
    "print(solution(3, 4, [1, 2, 3, 1, 2, 3, 1]))"
   ]
  },
  {
   "cell_type": "code",
   "execution_count": 22,
   "id": "5a1540d9",
   "metadata": {},
   "outputs": [
    {
     "name": "stdout",
     "output_type": "stream",
     "text": [
      "8\n"
     ]
    }
   ],
   "source": [
    "def solution(k, m, score):\n",
    "    return sum(sorted(score)[len(score)%m::m])*m\n",
    "    \n",
    "print(solution(3, 4, [1, 2, 3, 1, 2, 3, 1]))"
   ]
  },
  {
   "cell_type": "markdown",
   "id": "5a156e20",
   "metadata": {},
   "source": [
    "## 숫자 카드 나누기\n",
    "https://school.programmers.co.kr/learn/courses/30/lessons/135807"
   ]
  },
  {
   "cell_type": "code",
   "execution_count": 3,
   "id": "d3fdd56c",
   "metadata": {},
   "outputs": [
    {
     "data": {
      "text/plain": [
       "([1, 2, 3, 4], [5, 3])"
      ]
     },
     "execution_count": 3,
     "metadata": {},
     "output_type": "execute_result"
    }
   ],
   "source": [
    "def gcd(x, y):\n",
    "    while y:\n",
    "        x, y = y, x%y\n",
    "    return x\n",
    "\n",
    "def go(li):\n",
    "    g = li[0]\n",
    "    for i in range(1, len(li)):\n",
    "        g = gcd(g, li[i])\n",
    "    return g\n",
    "\n",
    "def num(arr, g):\n",
    "    for elem in arr:\n",
    "        if elem % g == 0:\n",
    "            return False\n",
    "    return True\n",
    "\n",
    "def solution(arrayA, arrayB):\n",
    "    ans = []\n",
    "    g = go(arrayA)\n",
    "    if g != 1 and num(arrayB, g):\n",
    "        ans.append(g)\n",
    "    g = go(arrayB)\n",
    "    if g != 1 and num(arrayA, g):\n",
    "        ans.append(g)\n",
    "    return max(ans) if ans else 0\n",
    "\n",
    "print(solution([10, 17], [5, 20]))"
   ]
  },
  {
   "cell_type": "code",
   "execution_count": null,
   "id": "b4e06c86",
   "metadata": {},
   "outputs": [],
   "source": [
    "from math import gcd\n",
    "from functools import reduce\n",
    "\n",
    "def solution(arrayA, arrayB):\n",
    "    gcd1, gcd2 = reduce(gcd, arrayA), reduce(gcd, arrayB)\n",
    "    ans = []\n",
    "    if all(elem % gcd2 for elem in arrayA):\n",
    "        ans.append(gcd2)\n",
    "    if all(elem % gcd1 for elem in arrayB):\n",
    "        ans.append(gcd1)\n",
    "    return max(ans) if ans else 0\n",
    "\n",
    "print(solution([10, 17], [5, 20]))"
   ]
  },
  {
   "cell_type": "markdown",
   "id": "435b6ff7",
   "metadata": {},
   "source": [
    "## 푸드 파이터 대회\n",
    "https://school.programmers.co.kr/learn/courses/30/lessons/134240"
   ]
  },
  {
   "cell_type": "code",
   "execution_count": null,
   "id": "ef689751",
   "metadata": {},
   "outputs": [],
   "source": [
    "def solution(food):\n",
    "    ans = ''\n",
    "    for i, elem in enumerate(food[1:]):\n",
    "        if elem // 2 > 0:\n",
    "            ans += str(i+1) * (elem//2)\n",
    "    return ans + '0' + ans[::-1]\n",
    "\n",
    "print(solution([1, 3, 4, 6]))"
   ]
  },
  {
   "cell_type": "markdown",
   "id": "f2d45615",
   "metadata": {},
   "source": [
    "## 우박수열 정적분\n",
    "https://school.programmers.co.kr/learn/courses/30/lessons/134239"
   ]
  },
  {
   "cell_type": "code",
   "execution_count": 2,
   "id": "0fecd433",
   "metadata": {},
   "outputs": [
    {
     "name": "stdout",
     "output_type": "stream",
     "text": [
      "[33.0, 31.5, 0, -1]\n"
     ]
    }
   ],
   "source": [
    "def solution(k, ranges):\n",
    "    points = [k]\n",
    "    while k != 1:\n",
    "        if k % 2 == 0:\n",
    "            k //= 2\n",
    "        else:\n",
    "            k = k*3 + 1\n",
    "        points.append(k)\n",
    "    \n",
    "    return [-1 if a > (c:= len(points) + b - 1) else sum((points[i] + points[i+1])/2 for i in range(a, c)) for a, b in ranges]\n",
    "\n",
    "print(solution(5, [[0,0],[0,-1],[2,-3],[3,-3]]))"
   ]
  },
  {
   "cell_type": "markdown",
   "id": "72b758bf",
   "metadata": {},
   "source": [
    "## 햄버거 만들기\n",
    "https://school.programmers.co.kr/learn/courses/30/lessons/133502"
   ]
  },
  {
   "cell_type": "code",
   "execution_count": null,
   "id": "56008de5",
   "metadata": {},
   "outputs": [],
   "source": [
    "def solution(ingredient):\n",
    "    answer = 0\n",
    "    stack = []\n",
    "\n",
    "    for elem in ingredient:\n",
    "        stack.append(elem)\n",
    "        if stack[-4:] == [1, 2, 3, 1]:\n",
    "            answer += 1\n",
    "            for _ in range(4):\n",
    "                stack.pop()\n",
    "\n",
    "    return answer\n",
    "\n",
    "print(solution([2, 1, 1, 2, 3, 1, 2, 3, 1]))"
   ]
  },
  {
   "cell_type": "markdown",
   "id": "2d63ef31",
   "metadata": {},
   "source": [
    "## 옹알이2\n",
    "https://school.programmers.co.kr/learn/courses/30/lessons/133499"
   ]
  },
  {
   "cell_type": "code",
   "execution_count": null,
   "id": "d31c7629",
   "metadata": {},
   "outputs": [],
   "source": [
    "def solution(babbling):\n",
    "    result = 0\n",
    "    babbl = [\"aya\", \"ye\", \"woo\", \"ma\"]\n",
    "\n",
    "    for word in babbling:\n",
    "        stack = ''\n",
    "        prev = ''\n",
    "        for char in word:\n",
    "            stack += char\n",
    "\n",
    "            if prev != stack and stack in babbl:\n",
    "                prev = stack\n",
    "                stack = ''\n",
    "                \n",
    "        if len(stack) == 0:\n",
    "            result += 1\n",
    "\n",
    "    return result\n",
    "print(solution([\"ayaye\", \"uuu\", \"yeye\", \"yemawoo\", \"ayaayaa\", \"woowo\"]))"
   ]
  },
  {
   "cell_type": "code",
   "execution_count": null,
   "id": "1e9ebe65",
   "metadata": {},
   "outputs": [],
   "source": [
    "def solution(babbling):\n",
    "    answer = 0\n",
    "    for i in babbling:\n",
    "        for j in ['aya','ye','woo','ma']:\n",
    "            if j*2 not in i:\n",
    "                i=i.replace(j,' ')\n",
    "        if len(i.strip())==0:\n",
    "            answer +=1\n",
    "    return answer\n",
    "\n",
    "print(solution([\"ayaye\", \"uuu\", \"yeye\", \"yemawoo\", \"ayaayaa\", \"woowo\"]))"
   ]
  },
  {
   "cell_type": "markdown",
   "id": "398a6349",
   "metadata": {},
   "source": [
    "## 콜라 문제\n",
    "https://school.programmers.co.kr/learn/courses/30/lessons/132267"
   ]
  },
  {
   "cell_type": "code",
   "execution_count": null,
   "id": "fbf5dead",
   "metadata": {},
   "outputs": [],
   "source": [
    "def solution(a, b, n):\n",
    "    bottle, coke = n, 0\n",
    "    \n",
    "    while bottle >= a:\n",
    "        coke += (bottle // a * b)\n",
    "        bottle = bottle//a * b + bottle%a\n",
    "    return coke\n",
    "\n",
    "print(solution(3, 1, 20))"
   ]
  },
  {
   "cell_type": "markdown",
   "id": "ae8b0acc",
   "metadata": {},
   "source": [
    "## 부대 복귀\n",
    "https://school.programmers.co.kr/learn/courses/30/lessons/132266"
   ]
  },
  {
   "cell_type": "code",
   "execution_count": null,
   "id": "897dc819",
   "metadata": {},
   "outputs": [],
   "source": [
    "from collections import deque\n",
    "\n",
    "def solution(n, roads, sources, destination):\n",
    "    graph = [[] for _ in range(n+1)]\n",
    "    for a, b in roads:\n",
    "        graph[a].append(b)\n",
    "        graph[b].append(a)\n",
    "    dist = [-1] * (n+1)\n",
    "    dist[destination] = 0\n",
    "    q = deque([destination])\n",
    "\n",
    "    while q:\n",
    "        now = q.popleft()\n",
    "        for nxt in graph[now]:\n",
    "            if dist[nxt] == -1:\n",
    "                dist[nxt] = dist[now] + 1\n",
    "                q.append(nxt)\n",
    "    return [dist[source] for source in sources]\n",
    "\n",
    "print(solution(5, [[1, 2], [1, 4], [2, 4], [2, 5], [4, 5]], [1, 3, 5], 5))"
   ]
  },
  {
   "cell_type": "markdown",
   "id": "d626a3f3",
   "metadata": {},
   "source": [
    "## 롤 케이크 자르기\n",
    "https://school.programmers.co.kr/learn/courses/30/lessons/132265"
   ]
  },
  {
   "cell_type": "code",
   "execution_count": null,
   "id": "ab3a00f0",
   "metadata": {},
   "outputs": [],
   "source": [
    "from collections import Counter\n",
    "\n",
    "def solution(topping):\n",
    "    ans = 0\n",
    "    cnt = Counter(topping)\n",
    "    s = set()\n",
    "    for elem in topping:\n",
    "        cnt[elem] -= 1\n",
    "        s.add(elem)\n",
    "        if cnt[elem] == 0:\n",
    "            cnt.pop(elem)\n",
    "        if len(cnt) == len(s):\n",
    "            ans += 1\n",
    "    return ans\n",
    "\n",
    "print(solution([1, 2, 1, 3, 1, 4, 1, 2]))"
   ]
  },
  {
   "cell_type": "markdown",
   "id": "495f31ba",
   "metadata": {},
   "source": [
    "## 삼총사\n",
    "https://school.programmers.co.kr/learn/courses/30/lessons/131705"
   ]
  },
  {
   "cell_type": "code",
   "execution_count": null,
   "id": "8fabcbc9",
   "metadata": {},
   "outputs": [],
   "source": [
    "from itertools import combinations\n",
    "\n",
    "def solution(number):\n",
    "    answer = 0\n",
    "    for combi in combinations(number, 3):\n",
    "        if sum(combi) == 0:\n",
    "            answer += 1\n",
    "    return answer\n",
    "\n",
    "print(solution([-3, -2, -1, 0, 1, 2, 3]\t))"
   ]
  },
  {
   "cell_type": "code",
   "execution_count": null,
   "id": "cde0f86b",
   "metadata": {},
   "outputs": [],
   "source": [
    "def solution(number):\n",
    "    answer = 0\n",
    "    \n",
    "    def back_tracking(idx, s):\n",
    "        if len(s) == 3:\n",
    "            if sum(s) == 0:\n",
    "                nonlocal answer\n",
    "                answer += 1\n",
    "            return\n",
    "        \n",
    "        if idx >= len(number):\n",
    "            return\n",
    "\n",
    "        back_tracking(idx+1, s+[number[idx]])\n",
    "        back_tracking(idx+1, s)\n",
    "    back_tracking(0, [])\n",
    "\n",
    "    return answer\n",
    "\n",
    "print(solution([-3, -2, -1, 0, 1, 2, 3]\t))"
   ]
  },
  {
   "cell_type": "code",
   "execution_count": null,
   "id": "2be87c47",
   "metadata": {},
   "outputs": [],
   "source": [
    "def solution(number):\n",
    "    answer = 0\n",
    "    check = [False] * len(number)\n",
    "\n",
    "    def back_tracking(start, s):\n",
    "        if len(s) == 3:\n",
    "            if sum(s) == 0:\n",
    "                nonlocal answer\n",
    "                answer += 1\n",
    "            return\n",
    "\n",
    "        for i in range(start, len(number)):\n",
    "            if check[i]:\n",
    "                continue\n",
    "            check[i] = True\n",
    "            back_tracking(i+1, s + [number[i]])\n",
    "            check[i] = False\n",
    "\n",
    "    back_tracking(0, [])\n",
    "    return answer\n",
    "\n",
    "print(solution([-3, -2, -1, 0, 1, 2, 3]\t))"
   ]
  },
  {
   "cell_type": "markdown",
   "id": "668fd459",
   "metadata": {},
   "source": [
    "## 택배 상자\n",
    "https://school.programmers.co.kr/learn/courses/30/lessons/131704#"
   ]
  },
  {
   "cell_type": "code",
   "execution_count": null,
   "id": "dec2e756",
   "metadata": {},
   "outputs": [],
   "source": [
    "# 틀림\n",
    "\n",
    "def solution(order):    \n",
    "    cnt = 1\n",
    "    stack = []\n",
    "    for o in order:\n",
    "        if cnt == o:\n",
    "            cnt += 1\n",
    "        else:\n",
    "            stack.append(o)\n",
    "\n",
    "        if stack and stack[0] == cnt:\n",
    "                stack.pop(0)\n",
    "                cnt += 1\n",
    "        \n",
    "    if stack:\n",
    "        for elem in stack[::-1]:\n",
    "            if elem == cnt:\n",
    "                cnt += 1\n",
    "            else:\n",
    "                break\n",
    "    return cnt - 1\n",
    "\n",
    "print(solution([4, 3, 1, 2, 5]))"
   ]
  },
  {
   "cell_type": "code",
   "execution_count": 6,
   "id": "c185f2fb",
   "metadata": {},
   "outputs": [
    {
     "data": {
      "text/plain": [
       "[4]"
      ]
     },
     "execution_count": 6,
     "metadata": {},
     "output_type": "execute_result"
    }
   ],
   "source": [
    "def solution(order):\n",
    "    cnt = 1\n",
    "    now = 0\n",
    "    stack = []\n",
    "\n",
    "    while cnt != len(order) + 1:\n",
    "        stack.append(cnt)\n",
    "        while stack[-1] == order[now]:\n",
    "            stack.pop()\n",
    "            now += 1\n",
    "\n",
    "            if not stack:\n",
    "                break\n",
    "        cnt += 1\n",
    "    return now\n",
    "\n",
    "print(solution([4, 3, 1, 2, 5]))\n",
    "print(solution([5, 4, 3, 2, 1]))\n",
    "print(solution([2, 1, 4, 3, 6, 5, 8, 7, 10, 9]))"
   ]
  },
  {
   "cell_type": "markdown",
   "id": "a9e5db8c",
   "metadata": {},
   "source": [
    "## 연속 부분 수열의 합의 개수\n",
    "https://school.programmers.co.kr/learn/courses/30/lessons/131701?language=python3"
   ]
  },
  {
   "cell_type": "code",
   "execution_count": null,
   "id": "432fe4fb",
   "metadata": {},
   "outputs": [],
   "source": [
    "def solution(elements):\n",
    "    elem = elements + elements\n",
    "    ans = set()\n",
    "    for i in range(1, len(elements)+1):\n",
    "        for j in range(len(elem)):\n",
    "            ans.add(sum(elem[j:i+j]))\n",
    "    return len(ans)\n",
    "\n",
    "print(solution([7,9,1,1,4]))"
   ]
  },
  {
   "cell_type": "markdown",
   "id": "1c2ff78a",
   "metadata": {},
   "source": [
    "## 혼자 놀기의 달인\n",
    "https://school.programmers.co.kr/learn/courses/30/lessons/131130#"
   ]
  },
  {
   "cell_type": "code",
   "execution_count": null,
   "id": "95d011f1",
   "metadata": {},
   "outputs": [],
   "source": [
    "def solution(cards):\n",
    "    answer = []\n",
    "    cards = [0] + cards\n",
    "    check = [False] * len(cards)\n",
    "\n",
    "    def parent(x):\n",
    "        if x != cards[x] and not check[x]:\n",
    "            li.append(x)\n",
    "            check[x] = True\n",
    "            parent(cards[x])\n",
    "        return\n",
    "\n",
    "    for i in range(1, len(cards)):\n",
    "        if not check[i]:\n",
    "            li = []\n",
    "            parent(i)\n",
    "            answer.append(len(li) if len(li) != 0 else 1)\n",
    "\n",
    "    answer.sort(reverse=True)\n",
    "    return answer[0] * answer[1] if len(answer) > 1 else 0\n",
    "\n",
    "print(solution([8, 6, 3, 7, 2, 5, 1, 4]))"
   ]
  },
  {
   "cell_type": "code",
   "execution_count": 10,
   "id": "e59ec0bc",
   "metadata": {},
   "outputs": [
    {
     "data": {
      "text/plain": [
       "[1, 2, 3]"
      ]
     },
     "execution_count": 10,
     "metadata": {},
     "output_type": "execute_result"
    }
   ],
   "source": [
    "def solution(cards):\n",
    "    answer = []\n",
    "    for i in range(len(cards)):\n",
    "        tmp = []\n",
    "        while cards[i] not in tmp:\n",
    "            tmp.append(cards[i])\n",
    "            i = cards[i] - 1\n",
    "        tmp.sort()\n",
    "        answer.append([] if tmp in answer else tmp)\n",
    "    answer.sort(reverse=True, key=len)\n",
    "    \n",
    "    return len(answer[0]) * len(answer[1])\n",
    "\n",
    "print(solution([8, 6, 3, 7, 2, 5, 1, 4]))"
   ]
  }
 ],
 "metadata": {
  "kernelspec": {
   "display_name": "Python 3",
   "language": "python",
   "name": "python3"
  },
  "language_info": {
   "codemirror_mode": {
    "name": "ipython",
    "version": 3
   },
   "file_extension": ".py",
   "mimetype": "text/x-python",
   "name": "python",
   "nbconvert_exporter": "python",
   "pygments_lexer": "ipython3",
   "version": "3.8.8"
  }
 },
 "nbformat": 4,
 "nbformat_minor": 5
}
