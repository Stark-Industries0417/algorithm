{
 "cells": [
  {
   "cell_type": "markdown",
   "id": "6610d1fc",
   "metadata": {},
   "source": [
    "# 3/1 화"
   ]
  },
  {
   "cell_type": "markdown",
   "id": "29a9c1c5",
   "metadata": {},
   "source": [
    "## 배달\n",
    "https://www.acmicpc.net/workbook/view/2418"
   ]
  },
  {
   "cell_type": "code",
   "execution_count": 20,
   "id": "d4497c33",
   "metadata": {},
   "outputs": [
    {
     "name": "stdout",
     "output_type": "stream",
     "text": [
      "4\n"
     ]
    }
   ],
   "source": [
    "import sys\n",
    "import heapq\n",
    "\n",
    "n=5\n",
    "road = [[1,2,1],[2,3,3],[5,2,2],[1,4,2],[5,3,1],[5,4,2]]\n",
    "k = 3\n",
    "answer = 0\n",
    "distance = [sys.maxsize]*(n+1)\n",
    "graph = [[] for _ in range(n+1)]\n",
    "for r in road:\n",
    "    graph[r[0]].append((r[1], r[2]))\n",
    "    graph[r[1]].append((r[0], r[2]))\n",
    "\n",
    "def dijkstra():\n",
    "    q = []\n",
    "    heapq.heappush(q, (0, 1))\n",
    "    distance[1] = 0\n",
    "    while q:\n",
    "        dist, now = heapq.heappop(q)\n",
    "        if distance[now] < dist:\n",
    "            continue\n",
    "        for i in graph[now]:\n",
    "            cost = dist + i[1]\n",
    "            if cost < distance[i[0]]:\n",
    "                distance[i[0]] = cost\n",
    "                heapq.heappush(q, (cost, i[0]))\n",
    "dijkstra()\n",
    "\n",
    "for d in distance:\n",
    "    if d <= k:\n",
    "        answer += 1\n",
    "print(answer)"
   ]
  },
  {
   "cell_type": "markdown",
   "id": "0fec07ce",
   "metadata": {},
   "source": [
    "# 3/1 화"
   ]
  },
  {
   "cell_type": "markdown",
   "id": "667aa106",
   "metadata": {},
   "source": [
    "## 위장\n",
    "https://programmers.co.kr/learn/courses/30/lessons/42578"
   ]
  },
  {
   "cell_type": "code",
   "execution_count": 19,
   "id": "ab6823cf",
   "metadata": {},
   "outputs": [
    {
     "data": {
      "text/plain": [
       "5"
      ]
     },
     "execution_count": 19,
     "metadata": {},
     "output_type": "execute_result"
    }
   ],
   "source": [
    "from collections import defaultdict\n",
    "from itertools import combinations\n",
    "\n",
    "clothes = [[\"yellowhat\", \"headgear\"], [\"bluesunglasses\", \"eyewear\"], [\"green_turban\", \"headgear\"]]\n",
    "answer = defaultdict(int)\n",
    "for c in clothes:\n",
    "    answer[c[1]] += 1\n",
    "\n",
    "cnt = 1\n",
    "for v in answer.values():\n",
    "    cnt *= (v+1)\n",
    "cnt-1"
   ]
  },
  {
   "cell_type": "code",
   "execution_count": 30,
   "id": "34179570",
   "metadata": {},
   "outputs": [
    {
     "data": {
      "text/plain": [
       "5"
      ]
     },
     "execution_count": 30,
     "metadata": {},
     "output_type": "execute_result"
    }
   ],
   "source": [
    "from collections import Counter\n",
    "from functools import reduce\n",
    "\n",
    "clothes = [[\"yellowhat\", \"headgear\"], [\"bluesunglasses\", \"eyewear\"], [\"green_turban\", \"headgear\"]]\n",
    "cnt = Counter([kind for name, kind in clothes])\n",
    "answer = reduce(lambda x, y: x*(y+1), cnt.values(), 1) - 1\n",
    "answer"
   ]
  },
  {
   "cell_type": "markdown",
   "id": "95c6e971",
   "metadata": {},
   "source": [
    "# 3/9 수"
   ]
  },
  {
   "cell_type": "markdown",
   "id": "752549aa",
   "metadata": {},
   "source": [
    "## 다리를 지나는 트럭\n",
    "https://programmers.co.kr/learn/courses/30/lessons/42583"
   ]
  },
  {
   "cell_type": "code",
   "execution_count": 2,
   "id": "68ef4b1f",
   "metadata": {},
   "outputs": [
    {
     "data": {
      "text/plain": [
       "101"
      ]
     },
     "execution_count": 2,
     "metadata": {},
     "output_type": "execute_result"
    }
   ],
   "source": [
    "def solution(bridge_length, weight, truck_weights):\n",
    "    answer = 0\n",
    "    trucks_on_bridge = [0] * bridge_length\n",
    "    while len(trucks_on_bridge):\n",
    "        answer += 1\n",
    "        trucks_on_bridge.pop(0)\n",
    "        if truck_weights:\n",
    "            if sum(trucks_on_bridge) + truck_weights[0] <= weight:\n",
    "                trucks_on_bridge.append(truck_weights.pop(0))\n",
    "            else:\n",
    "                trucks_on_bridge.append(0)\n",
    "    return answer\n",
    "solution(100, 100, [10])"
   ]
  },
  {
   "cell_type": "markdown",
   "id": "f09f4658",
   "metadata": {},
   "source": [
    "## 행렬 테두리 회전하기\n",
    "https://school.programmers.co.kr/learn/courses/30/lessons/77485"
   ]
  },
  {
   "cell_type": "code",
   "execution_count": null,
   "id": "8c37b17b",
   "metadata": {},
   "outputs": [],
   "source": [
    "def solution(rows, columns, queries):\n",
    "    ans = []\n",
    "    graph = [[] for _ in range(rows)]\n",
    "    x = 1\n",
    "    for i in range(rows):\n",
    "        graph[i].extend(list(range(x, x+columns)))\n",
    "        x += columns\n",
    "    \n",
    "    for query in queries:\n",
    "        minn = []\n",
    "        query = map(lambda x: x-1, query)\n",
    "        x1, y1, x2, y2 = query\n",
    "\n",
    "        tmp1 = graph[x1][y2]\n",
    "        for j in range(y2, y1, -1):\n",
    "            minn.append(graph[x1][j])\n",
    "            graph[x1][j] = graph[x1][j-1]\n",
    "\n",
    "        tmp2 = graph[x2][y2]\n",
    "        for i in range(x2, x1, -1):\n",
    "            minn.append(graph[i][y2])\n",
    "            if i == x1+1:\n",
    "                graph[i][y2] = tmp1\n",
    "                break\n",
    "            graph[i][y2] = graph[i-1][y2]\n",
    "        \n",
    "        tmp3 = graph[x2][y1]\n",
    "        for j in range(y1, y2):\n",
    "            minn.append(graph[x2][j])\n",
    "            if j == y2-1:\n",
    "                graph[x2][j] = tmp2\n",
    "                break\n",
    "            graph[x2][j] = graph[x2][j+1]\n",
    "\n",
    "        for i in range(x1, x2):\n",
    "            minn.append(graph[i][y1])\n",
    "            if i == x2-1:\n",
    "                graph[i][y1] = tmp3\n",
    "                break\n",
    "            graph[i][y1] = graph[i+1][y1]\n",
    "\n",
    "        ans.append(min(minn))\n",
    "    return ans\n",
    "\n",
    "print(solution(6, 6, [[2,2,5,4],[3,3,6,6],[5,1,6,3]]))"
   ]
  },
  {
   "cell_type": "markdown",
   "id": "e7884f70",
   "metadata": {},
   "source": [
    "## 방문 길이\n",
    "https://school.programmers.co.kr/learn/courses/30/lessons/49994"
   ]
  },
  {
   "cell_type": "code",
   "execution_count": null,
   "id": "a629914c",
   "metadata": {},
   "outputs": [],
   "source": [
    "def solution(dirs):\n",
    "    d = ['U', 'R', 'D', 'L']\n",
    "    dx, dy = [-1, 0, 1, 0], [0, 1, 0, -1]\n",
    "    visited = set()\n",
    "\n",
    "    x, y = 5, 5\n",
    "    for dir in dirs:\n",
    "        idx = d.index(dir)\n",
    "        nx, ny = x+dx[idx], y+dy[idx]\n",
    "        if 0 <= nx <= 10 and 0 <= ny <= 10:\n",
    "            visited.add(((nx, ny, x, y)))\n",
    "            visited.add((x, y, nx, ny))\n",
    "            x, y = nx, ny\n",
    "    return len(visited)//2\n",
    "\n",
    "print(solution(\"ULURRDLLU\"))"
   ]
  },
  {
   "cell_type": "markdown",
   "id": "dc1d702a",
   "metadata": {},
   "source": [
    "## 스킬트리\n",
    "https://school.programmers.co.kr/learn/courses/30/lessons/49993"
   ]
  },
  {
   "cell_type": "code",
   "execution_count": 2,
   "id": "ec82a9c5",
   "metadata": {},
   "outputs": [
    {
     "name": "stdout",
     "output_type": "stream",
     "text": [
      "2\n"
     ]
    }
   ],
   "source": [
    "def solution(skill, skill_trees):\n",
    "    ans = 0\n",
    "    for skill_tree in skill_trees:\n",
    "        check = []\n",
    "        for elem in skill_tree:\n",
    "            if elem in skill:\n",
    "                check.append(elem)\n",
    "        \n",
    "        for a, b in zip(skill, check):\n",
    "            if a != b:\n",
    "                break\n",
    "        else:\n",
    "            ans += 1\n",
    "    return ans\n",
    "\n",
    "print(solution(\"CBD\", [\"BACDE\", \"CBADF\", \"AECB\", \"BDA\"]))"
   ]
  },
  {
   "cell_type": "markdown",
   "id": "60396af4",
   "metadata": {},
   "source": [
    "## 예산\n",
    "https://school.programmers.co.kr/learn/courses/30/lessons/12982"
   ]
  },
  {
   "cell_type": "code",
   "execution_count": null,
   "id": "734b3757",
   "metadata": {},
   "outputs": [],
   "source": [
    "from bisect import bisect_right\n",
    "\n",
    "def solution(d, budget):\n",
    "    d.sort()\n",
    "    for i in range(1, len(d)):\n",
    "        d[i] += d[i-1]\n",
    "    return bisect_right(d, budget)"
   ]
  },
  {
   "cell_type": "markdown",
   "id": "02e4692f",
   "metadata": {},
   "source": [
    "## 숫자 게임\n",
    "https://school.programmers.co.kr/learn/courses/30/lessons/12987"
   ]
  },
  {
   "cell_type": "code",
   "execution_count": null,
   "id": "d5a11cfc",
   "metadata": {},
   "outputs": [],
   "source": [
    "def solution(A, B):\n",
    "    ans = 0\n",
    "    A.sort(reverse=True)\n",
    "    B.sort(reverse=True)\n",
    "    for a in A:\n",
    "        if a < B[0]:\n",
    "            ans += 1\n",
    "            B.pop(0)\n",
    "    return ans\n",
    "\n",
    "print(solution([5,1,3,7], [2,2,6,8]))"
   ]
  },
  {
   "cell_type": "markdown",
   "id": "d3d71bd2",
   "metadata": {},
   "source": [
    "## 영어 끝말읽기\n",
    "https://school.programmers.co.kr/learn/courses/30/lessons/12981"
   ]
  },
  {
   "cell_type": "code",
   "execution_count": null,
   "id": "80cbf4d6",
   "metadata": {},
   "outputs": [],
   "source": [
    "def solution(n, words):\n",
    "    ans = []\n",
    "    record = []\n",
    "    for i, word in enumerate(words):\n",
    "        if record and (record[-1][-1] != word[0] or word in record):\n",
    "            ans.extend([i%n + 1, i//n + 1])\n",
    "            break\n",
    "        record.append(word)\n",
    "    else:\n",
    "        ans = [0, 0]\n",
    "    return ans\n",
    "\n",
    "print(solution(3, [\"tank\", \"kick\", \"know\", \"wheel\", \"land\", \"dream\", \"mother\", \"robot\", \"tank\"]))"
   ]
  },
  {
   "cell_type": "code",
   "execution_count": null,
   "id": "b3e38b72",
   "metadata": {},
   "outputs": [],
   "source": [
    "def solution(n, words):\n",
    "    \n",
    "    for idx in range(1, len(words)):\n",
    "        if words[idx-1][-1] != words[idx][0] or words[idx] in words[:idx]:\n",
    "            return [idx%n + 1, idx//n + 1]\n",
    "    return [0, 0]\n",
    "\n",
    "print(solution(3, [\"tank\", \"kick\", \"know\", \"wheel\", \"land\", \"dream\", \"mother\", \"robot\", \"tank\"]))"
   ]
  },
  {
   "cell_type": "markdown",
   "id": "7c6ae398",
   "metadata": {},
   "source": [
    "## 점프와 순간이동 \n",
    "https://school.programmers.co.kr/learn/courses/30/lessons/12980"
   ]
  },
  {
   "cell_type": "code",
   "execution_count": null,
   "id": "483e748c",
   "metadata": {},
   "outputs": [],
   "source": [
    "def solution(N):\n",
    "    ans = 0\n",
    "\n",
    "    while N > 0:\n",
    "        ans += N % 2\n",
    "        N //= 2\n",
    "    return ans\n",
    "\n",
    "print(solution(6))"
   ]
  },
  {
   "cell_type": "code",
   "execution_count": null,
   "id": "fc080fc5",
   "metadata": {},
   "outputs": [],
   "source": [
    "def solution(N):\n",
    "    return bin(N).count('1')\n",
    "print(solution(5))"
   ]
  },
  {
   "cell_type": "markdown",
   "id": "ed99acb3",
   "metadata": {},
   "source": [
    "## 기지국 설치\n",
    "https://school.programmers.co.kr/learn/courses/30/lessons/12979"
   ]
  },
  {
   "cell_type": "code",
   "execution_count": null,
   "id": "0a4dc5e8",
   "metadata": {},
   "outputs": [],
   "source": [
    "def solution(n, stations, w):\n",
    "    answer = 0\n",
    "    W = 2 * w + 1\n",
    "    \n",
    "    start = 1\n",
    "    for s in stations:\n",
    "        answer += max(-(-(s - w - start)//W), 0)\n",
    "        start = s + w + 1\n",
    "        \n",
    "    if n >= start:\n",
    "        answer += -(-(n - start + 1) // W)\n",
    "    \n",
    "    return answer\n",
    "\n",
    "print(solution(11, [4, 11], 1))"
   ]
  },
  {
   "cell_type": "markdown",
   "id": "61e4e727",
   "metadata": {},
   "source": [
    "## 소수 만들기\n",
    "https://school.programmers.co.kr/learn/courses/30/lessons/12977"
   ]
  },
  {
   "cell_type": "code",
   "execution_count": null,
   "id": "f07eb362",
   "metadata": {},
   "outputs": [],
   "source": [
    "from itertools import combinations\n",
    "\n",
    "def prime(x):\n",
    "    if x <= 1:\n",
    "        return False\n",
    "    for i in range(2, int(x**0.5) + 1):\n",
    "        if x % i == 0:\n",
    "            return False\n",
    "    return True\n",
    "\n",
    "def solution(nums):\n",
    "    ans = 0 \n",
    "    for elem in combinations(nums, 3):\n",
    "        if prime(sum(elem)):\n",
    "            ans += 1\n",
    "    return ans\n",
    "\n",
    "print(solution([1, 2, 7, 6, 4]))"
   ]
  },
  {
   "cell_type": "markdown",
   "id": "ffc749fd",
   "metadata": {},
   "source": [
    "## 스티커 모으기2\n",
    "https://school.programmers.co.kr/learn/courses/30/lessons/12971"
   ]
  },
  {
   "cell_type": "code",
   "execution_count": null,
   "id": "77934a45",
   "metadata": {},
   "outputs": [],
   "source": [
    "def solution(sticker):\n",
    "    l = len(sticker)\n",
    "    if l == 1: return sticker[0]\n",
    "    dp1 = [0] * l\n",
    "    dp2 = [0] * l\n",
    "\n",
    "    dp1[0] = sticker[0]\n",
    "    dp1[1] = sticker[0]\n",
    "    for i in range(2, l - 1):\n",
    "        dp1[i] = max(dp1[i-1], dp1[i-2] + sticker[i])\n",
    "    \n",
    "    dp2[1] = sticker[1]\n",
    "    for i in range(2, l):\n",
    "        dp2[i] = max(dp2[i-1], dp2[i-2] + sticker[i])\n",
    "    \n",
    "    return max(dp1 + dp2)\n",
    "\n",
    "print(solution([14, 6, 5, 11, 3, 9, 2, 10]))"
   ]
  },
  {
   "cell_type": "markdown",
   "id": "abe7180c",
   "metadata": {},
   "source": [
    "## 다단계 칫솔 판매\n",
    "https://school.programmers.co.kr/learn/courses/30/lessons/77486"
   ]
  },
  {
   "cell_type": "code",
   "execution_count": 2,
   "id": "fc08a8c7",
   "metadata": {},
   "outputs": [
    {
     "data": {
      "text/plain": [
       "[(1, 'a'), (2, 'b'), (3, 'c')]"
      ]
     },
     "execution_count": 2,
     "metadata": {},
     "output_type": "execute_result"
    }
   ],
   "source": [
    "from collections import defaultdict\n",
    "\n",
    "def solution(enroll, referral, seller, amount):\n",
    "    profit = defaultdict(int)\n",
    "    refer = dict(zip(enroll, referral))\n",
    "    \n",
    "    def calc(name, total):\n",
    "        if total < 10 or name == '-':\n",
    "            profit[name] += total\n",
    "            return\n",
    "\n",
    "        bribe = total // 10\n",
    "        profit[name] += total - bribe\n",
    "        calc(refer[name], bribe)\n",
    "\n",
    "    for s, a in zip(seller, amount):\n",
    "        total = a * 100\n",
    "        calc(s, total)\n",
    "        \n",
    "    return [profit[name] for name in enroll]\n",
    "\n",
    "print(solution([\"john\", \"mary\", \"edward\", \"sam\", \"emily\", \"jaimie\", \"tod\", \"young\"], [\"-\", \"-\", \"mary\", \"edward\", \"mary\", \"mary\", \"jaimie\", \"edward\"], [\"young\", \"john\", \"tod\", \"emily\", \"mary\"], [12, 4, 2, 5, 10]))"
   ]
  }
 ],
 "metadata": {
  "kernelspec": {
   "display_name": "Python 3",
   "language": "python",
   "name": "python3"
  },
  "language_info": {
   "codemirror_mode": {
    "name": "ipython",
    "version": 3
   },
   "file_extension": ".py",
   "mimetype": "text/x-python",
   "name": "python",
   "nbconvert_exporter": "python",
   "pygments_lexer": "ipython3",
   "version": "3.8.8"
  }
 },
 "nbformat": 4,
 "nbformat_minor": 5
}
