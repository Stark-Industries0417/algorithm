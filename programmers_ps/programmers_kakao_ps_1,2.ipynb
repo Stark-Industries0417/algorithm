{
 "cells": [
  {
   "cell_type": "markdown",
   "id": "c8b4787c",
   "metadata": {},
   "source": [
    "## 비밀지도\n",
    "https://school.programmers.co.kr/learn/courses/30/lessons/17681"
   ]
  },
  {
   "cell_type": "code",
   "execution_count": null,
   "id": "50b2d3c4",
   "metadata": {},
   "outputs": [],
   "source": [
    "def solution(n, arr1, arr2):\n",
    "    answer = [bin(a|b)[2:].zfill(n) for a, b in zip(arr1, arr2)]\n",
    "    return list(map(lambda x: x.replace('1', '#').replace('0', ' '), answer))\n",
    "\n",
    "print(solution(5, [9, 20, 28, 18, 11], [30, 1, 21, 17, 28]))"
   ]
  },
  {
   "cell_type": "markdown",
   "id": "ace50c32",
   "metadata": {},
   "source": [
    "## 숫자 문자열과 영단어\n",
    "https://school.programmers.co.kr/learn/courses/30/lessons/81301"
   ]
  },
  {
   "cell_type": "code",
   "execution_count": 2,
   "id": "abed279f",
   "metadata": {},
   "outputs": [
    {
     "data": {
      "text/plain": [
       "'1478'"
      ]
     },
     "execution_count": 2,
     "metadata": {},
     "output_type": "execute_result"
    }
   ],
   "source": [
    "def solution(s):\n",
    "    nums = {\n",
    "        'zero': '0',\n",
    "        'one': '1',\n",
    "        'two': '2',\n",
    "        'three': '3',\n",
    "        'four': '4',\n",
    "        'five': '5',\n",
    "        'six': '6',\n",
    "        'seven': '7',\n",
    "        'eight': '8',\n",
    "        'nine': '9'\n",
    "    }\n",
    "    for k in nums:\n",
    "        if k in s:\n",
    "            s = s.replace(k, str(nums[k]))\n",
    "    return s\n",
    "solution(\"one4seveneight\")"
   ]
  },
  {
   "cell_type": "markdown",
   "id": "1102a8ec",
   "metadata": {},
   "source": [
    "## 캐시\n",
    "https://school.programmers.co.kr/learn/courses/30/lessons/17680"
   ]
  },
  {
   "cell_type": "code",
   "execution_count": null,
   "id": "8a52ef22",
   "metadata": {},
   "outputs": [],
   "source": [
    "def solution(cacheSize, cities):\n",
    "    cache = []\n",
    "    time = 0\n",
    "    for city in cities:\n",
    "        city = city.lower()\n",
    "        if city in cache:\n",
    "            cache.append(cache.pop(cache.index(city)))\n",
    "            time += 1\n",
    "\n",
    "        else:\n",
    "            if len(cache) != cacheSize:\n",
    "                cache.append(city)\n",
    "\n",
    "            elif cacheSize > 0:\n",
    "                cache.pop(0)\n",
    "                cache.append(city)\n",
    "            time += 5\n",
    "\n",
    "    return time\n",
    "print(solution(2, [\"Jeju\", \"Pangyo\", \"NewYork\", \"newyork\"]))"
   ]
  },
  {
   "cell_type": "code",
   "execution_count": null,
   "id": "a236a841",
   "metadata": {},
   "outputs": [],
   "source": [
    "def solution(cacheSize, cities):\n",
    "    cache = []\n",
    "    time = 0\n",
    "    for city in cities:\n",
    "        city = city.lower()\n",
    "\n",
    "        if cacheSize:\n",
    "            if city in cache:\n",
    "                cache.append(cache.pop(cache.index(city)))\n",
    "                time += 1\n",
    "            else:\n",
    "                if len(cache) == cacheSize:\n",
    "                    cache.pop(0)\n",
    "                cache.append(city)\n",
    "                time += 5\n",
    "        else:\n",
    "            time += 5\n",
    "    return time\n",
    "\n",
    "print(solution(2, [\"Jeju\", \"Pangyo\", \"NewYork\", \"newyork\"]))"
   ]
  },
  {
   "cell_type": "markdown",
   "id": "60118fd0",
   "metadata": {},
   "source": [
    "## 튜플\n",
    "https://school.programmers.co.kr/learn/courses/30/lessons/64065"
   ]
  },
  {
   "cell_type": "code",
   "execution_count": null,
   "id": "b225200b",
   "metadata": {},
   "outputs": [],
   "source": [
    "import re\n",
    "from collections import Counter\n",
    "\n",
    "def solution(s):\n",
    "    cnt = Counter(re.findall('\\d+', s))\n",
    "    return list(map(int, [k for k, v in sorted(cnt.items(), key=lambda x: x[1], reverse=True)]))\n",
    "\n",
    "print(solution(\"{{2},{2,1},{2,1,3},{2,1,3,4}}\"))"
   ]
  },
  {
   "cell_type": "markdown",
   "id": "966af9fb",
   "metadata": {},
   "source": [
    "## k진수에서 소수 구하기\n",
    "https://school.programmers.co.kr/learn/courses/30/lessons/92335"
   ]
  },
  {
   "cell_type": "code",
   "execution_count": 15,
   "id": "260439ed",
   "metadata": {},
   "outputs": [
    {
     "name": "stdout",
     "output_type": "stream",
     "text": [
      "3\n"
     ]
    }
   ],
   "source": [
    "import re\n",
    "\n",
    "def cal(n, k):\n",
    "    temp = '0123456789ABCDEF'\n",
    "    q, mod = divmod(n, k)\n",
    "    if q == 0:\n",
    "        return temp[mod]\n",
    "    else:\n",
    "        return cal(q, k) + temp[mod]\n",
    "\n",
    "def check_prime(n):\n",
    "    if n == '':\n",
    "        return False\n",
    "    n = int(n)\n",
    "    if n <= 1:\n",
    "        return False\n",
    "    for i in range(2, int(n ** 0.5) + 1):\n",
    "        if n % i == 0:\n",
    "            return False\n",
    "    return True\n",
    "\n",
    "def solution(n, k):\n",
    "    nums = cal(n, k)\n",
    "    primes = re.split('0+', nums)\n",
    "    return sum((list(map(check_prime, primes))))\n",
    "\n",
    "print(solution(437674, 3))"
   ]
  },
  {
   "cell_type": "markdown",
   "id": "07a54d31",
   "metadata": {},
   "source": [
    "## 뉴스 클러스터링\n",
    "https://school.programmers.co.kr/learn/courses/30/lessons/17677"
   ]
  },
  {
   "cell_type": "code",
   "execution_count": null,
   "id": "b39bf7e0",
   "metadata": {},
   "outputs": [],
   "source": [
    "from collections import Counter\n",
    "\n",
    "def solution(str1, str2):\n",
    "    \n",
    "    str1 = [str1[i:i+2].lower() for i in range(0, len(str1)-1) if str1[i:i+2].isalpha()]\n",
    "    str2 = [str2[i:i+2].lower() for i in range(0, len(str2)-1) if str2[i:i+2].isalpha()]    \n",
    "    cnt1 = Counter(str1)\n",
    "    cnt2 = Counter(str2)\n",
    "\n",
    "    if not cnt1 and not cnt2:\n",
    "        return 65536\n",
    "\n",
    "    return int(sum((cnt1&cnt2).values())/sum((cnt1|cnt2).values())*65536)\n",
    "print(solution('FRANCE', 'french'))"
   ]
  },
  {
   "cell_type": "code",
   "execution_count": null,
   "id": "5b02006d",
   "metadata": {},
   "outputs": [],
   "source": [
    "def solution(str1, str2):\n",
    "    \n",
    "    str1 = [str1[i:i+2].lower() for i in range(0, len(str1)-1) if str1[i:i+2].isalpha()]\n",
    "    str2 = [str2[i:i+2].lower() for i in range(0, len(str2)-1) if str2[i:i+2].isalpha()]    \n",
    "\n",
    "    inter = set(str1) & set(str2)\n",
    "    temp = set(str1) | set(str2)\n",
    "    if not temp:\n",
    "        return 65536\n",
    "    inter_sum = sum([min(str1.count(i), str2.count(i)) for i in inter])\n",
    "    temp_sum = sum([max(str1.count(t), str2.count(t)) for t in temp])\n",
    "    return int((inter_sum/temp_sum)*65536)\n",
    "\n",
    "print(solution('aa1+aa2', 'AAAA12'))"
   ]
  },
  {
   "cell_type": "markdown",
   "id": "f13b31b7",
   "metadata": {},
   "source": [
    "## 주차 요금 계산\n",
    "https://school.programmers.co.kr/learn/courses/30/lessons/92341"
   ]
  },
  {
   "cell_type": "code",
   "execution_count": 8,
   "id": "789d15d6",
   "metadata": {},
   "outputs": [
    {
     "data": {
      "text/plain": [
       "1"
      ]
     },
     "execution_count": 8,
     "metadata": {},
     "output_type": "execute_result"
    }
   ],
   "source": [
    "from collections import defaultdict\n",
    "\n",
    "def solution(fees, records):\n",
    "    free, pee, unitT, unit = fees\n",
    "    in_dict, out_dict = defaultdict(list), defaultdict(list)\n",
    "    for record in records:\n",
    "        time, carN, state = record.split()\n",
    "        carN = int(carN)\n",
    "        if state == 'IN':\n",
    "            in_dict[carN].append(int(time[:2]) * 60 + int(time[3:]))\n",
    "        else:\n",
    "            out_dict[carN].append(int(time[:2]) * 60 + int(time[3:]))\n",
    "\n",
    "    for k in in_dict:\n",
    "        if len(in_dict[k]) != len(out_dict[k]):\n",
    "            out_dict[k].append(1439)\n",
    "\n",
    "    in_dict = dict(sorted(in_dict.items()))\n",
    "    out_dict = dict(sorted(out_dict.items()))\n",
    "\n",
    "    diff_time = defaultdict(int)\n",
    "    for inK, outK in zip(in_dict, out_dict):\n",
    "        for inT, outT in zip(in_dict[inK], out_dict[outK]):\n",
    "            diff_time[inK] += outT - inT\n",
    "\n",
    "    answer = []\n",
    "    for v in diff_time.values():\n",
    "        if v > free:\n",
    "            answer.append(pee + (-(-(v - free)//unitT))*unit)\n",
    "        else:\n",
    "            answer.append(pee)\n",
    "    return answer\n",
    "\n",
    "\n",
    "solution([180, 5000, 10, 600], [\"05:34 5961 IN\", \"06:00 0000 IN\", \"06:34 0000 OUT\", \"07:59 5961 OUT\", \"07:59 0148 IN\", \"18:59 0000 IN\", \"19:09 0148 OUT\", \"22:59 5961 IN\", \"23:00 5961 OUT\"])"
   ]
  },
  {
   "cell_type": "code",
   "execution_count": null,
   "id": "d6a6acac",
   "metadata": {},
   "outputs": [],
   "source": [
    "\n",
    "import math\n",
    "from collections import defaultdict\n",
    "\n",
    "def timetominute(time):\n",
    "    h, m = map(int, time.split(':'))\n",
    "    return h*60 + m\n",
    "\n",
    "def solution(fees, records):\n",
    "    answer = []\n",
    "    dt, df, ut, uf = fees\n",
    "\n",
    "    info = defaultdict(list)\n",
    "    for record in records:\n",
    "        time, nums, status = record.split()\n",
    "        info[nums].append([timetominute(time), status])\n",
    "\n",
    "    info = dict(sorted(info.items(), key=lambda x: int(x[0])))\n",
    "\n",
    "    for key in info:\n",
    "        t = 0\n",
    "\n",
    "        for minute, state in info[key]:\n",
    "            if state == 'IN':\n",
    "                t -= minute\n",
    "            else:\n",
    "                t += minute\n",
    "\n",
    "        if info[key][-1][1] == 'IN':\n",
    "            t += timetominute('23:59')\n",
    "        if t <= dt:\n",
    "            answer.append(df)\n",
    "        else:\n",
    "            answer.append(df + math.ceil((t-dt)/ut) * uf)\n",
    "    return answer\n",
    "\n",
    "solution([180, 5000, 10, 600], [\"05:34 5961 IN\", \"06:00 0000 IN\", \"06:34 0000 OUT\", \"07:59 5961 OUT\", \"07:59 0148 IN\", \"18:59 0000 IN\", \"19:09 0148 OUT\", \"22:59 5961 IN\", \"23:00 5961 OUT\"])"
   ]
  },
  {
   "cell_type": "markdown",
   "id": "57e865de",
   "metadata": {},
   "source": [
    "## 실패율\n",
    "https://school.programmers.co.kr/learn/courses/30/lessons/42889"
   ]
  },
  {
   "cell_type": "code",
   "execution_count": null,
   "id": "e814306f",
   "metadata": {},
   "outputs": [],
   "source": [
    "def solution(N, stages):\n",
    "    p = {}\n",
    "    total = len(stages)\n",
    "    for i in range(1, N+1):\n",
    "        fail = stages.count(i)\n",
    "        if fail:\n",
    "            p[i] = fail/total\n",
    "            total -= fail\n",
    "        else:\n",
    "            p[i] = 0\n",
    "    return sorted(p, key=lambda x: -p[x])\n",
    "\n",
    "solution(4, [4,4,4,4,4])"
   ]
  },
  {
   "cell_type": "code",
   "execution_count": null,
   "id": "780b5b8c",
   "metadata": {},
   "outputs": [],
   "source": [
    "from collections import Counter\n",
    "\n",
    "def solution(N, stages):\n",
    "    answer = {}\n",
    "    cnt = Counter(stages)\n",
    "    for n in range(1, N+1):\n",
    "\n",
    "        answer[n] = cnt[n] / sum(cnt[i] for i in cnt.keys() if i >= n)\n",
    "    return sorted(answer, key=lambda x: -answer[x])\n",
    "\n",
    "print(solution(5, [3, 3, 3, 3]))"
   ]
  },
  {
   "cell_type": "markdown",
   "id": "b8155625",
   "metadata": {},
   "source": [
    "## 다트 게임\n",
    "https://school.programmers.co.kr/learn/courses/30/lessons/17682"
   ]
  },
  {
   "cell_type": "code",
   "execution_count": null,
   "id": "270021b5",
   "metadata": {},
   "outputs": [],
   "source": [
    "# 옛날\n",
    "def solution(dartResult):\n",
    "    answer = []\n",
    "    scores = ['S', 'D', 'T']\n",
    "    n = ''\n",
    "    for dart in dartResult:\n",
    "        if dart.isdigit():\n",
    "            n += dart\n",
    "        \n",
    "        if dart in scores:\n",
    "            answer.append(int(n) ** (scores.index(dart)+1))\n",
    "            n = ''\n",
    "        \n",
    "        if dart == '*':\n",
    "            if len(answer) == 1:\n",
    "                answer[0] *= 2\n",
    "            else:\n",
    "                answer[-1] *= 2\n",
    "                answer[-2] *= 2\n",
    "        \n",
    "        elif dart == '#':\n",
    "            answer[-1] *= -1\n",
    "\n",
    "    return sum(answer)\n",
    "print(solution('1D2S#10S'))"
   ]
  },
  {
   "cell_type": "code",
   "execution_count": 3,
   "id": "60663c8c",
   "metadata": {},
   "outputs": [
    {
     "data": {
      "text/plain": [
       "4"
      ]
     },
     "execution_count": 3,
     "metadata": {},
     "output_type": "execute_result"
    }
   ],
   "source": [
    "def solution(dartResult):\n",
    "    square = ['S', 'D', 'T']\n",
    "    stack = []\n",
    "    num = ''\n",
    "    for dart in dartResult:\n",
    "        if dart.isdigit():\n",
    "            num += dart\n",
    "            digit = int(num)\n",
    "        elif dart in square:\n",
    "            digit **= (square.index(dart)+1)\n",
    "            stack.append(digit)\n",
    "            num = ''\n",
    "        elif dart == '*':\n",
    "            if len(stack) > 1:\n",
    "                stack[-2] *= 2\n",
    "                stack[-1] *= 2\n",
    "            else:\n",
    "                stack[-1] *= 2\n",
    "        else:\n",
    "            stack[-1] *= -1\n",
    "    return sum(stack)\n",
    "\n",
    "\n",
    "print(solution('1D2S#10S'))"
   ]
  },
  {
   "cell_type": "markdown",
   "id": "e240c0b9",
   "metadata": {},
   "source": [
    "## 압축\n",
    "https://school.programmers.co.kr/learn/courses/30/lessons/17684"
   ]
  },
  {
   "cell_type": "code",
   "execution_count": 7,
   "id": "da70aa1e",
   "metadata": {},
   "outputs": [
    {
     "data": {
      "text/plain": [
       "2"
      ]
     },
     "execution_count": 7,
     "metadata": {},
     "output_type": "execute_result"
    }
   ],
   "source": [
    "def solution(msg):\n",
    "    ans = []\n",
    "    alpha = {chr(i): i-64 for i in range(65, 91)}\n",
    "    \n",
    "    while msg:\n",
    "        tt = 1\n",
    "        while msg[:tt] in alpha and tt <= len(msg):\n",
    "            tt += 1\n",
    "\n",
    "        ans.append(alpha[msg[:tt-1]])\n",
    "        alpha[msg[:tt]] = len(alpha) + 1\n",
    "        msg = msg[tt-1:]\n",
    "    return ans\n",
    "\n",
    "print(solution('KAKAO'))"
   ]
  }
 ],
 "metadata": {
  "kernelspec": {
   "display_name": "Python 3",
   "language": "python",
   "name": "python3"
  },
  "language_info": {
   "codemirror_mode": {
    "name": "ipython",
    "version": 3
   },
   "file_extension": ".py",
   "mimetype": "text/x-python",
   "name": "python",
   "nbconvert_exporter": "python",
   "pygments_lexer": "ipython3",
   "version": "3.8.8"
  }
 },
 "nbformat": 4,
 "nbformat_minor": 5
}
