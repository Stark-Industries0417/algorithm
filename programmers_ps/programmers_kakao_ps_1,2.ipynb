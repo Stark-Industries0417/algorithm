{
 "cells": [
  {
   "cell_type": "markdown",
   "id": "c8b4787c",
   "metadata": {},
   "source": [
    "## 비밀지도\n",
    "https://school.programmers.co.kr/learn/courses/30/lessons/17681"
   ]
  },
  {
   "cell_type": "code",
   "execution_count": null,
   "id": "50b2d3c4",
   "metadata": {},
   "outputs": [],
   "source": [
    "def solution(n, arr1, arr2):\n",
    "    answer = [bin(a|b)[2:].zfill(n) for a, b in zip(arr1, arr2)]\n",
    "    return list(map(lambda x: x.replace('1', '#').replace('0', ' '), answer))\n",
    "\n",
    "print(solution(5, [9, 20, 28, 18, 11], [30, 1, 21, 17, 28]))"
   ]
  },
  {
   "cell_type": "markdown",
   "id": "ace50c32",
   "metadata": {},
   "source": [
    "## 숫자 문자열과 영단어\n",
    "https://school.programmers.co.kr/learn/courses/30/lessons/81301"
   ]
  },
  {
   "cell_type": "code",
   "execution_count": 2,
   "id": "abed279f",
   "metadata": {},
   "outputs": [
    {
     "data": {
      "text/plain": [
       "'1478'"
      ]
     },
     "execution_count": 2,
     "metadata": {},
     "output_type": "execute_result"
    }
   ],
   "source": [
    "def solution(s):\n",
    "    nums = {\n",
    "        'zero': '0',\n",
    "        'one': '1',\n",
    "        'two': '2',\n",
    "        'three': '3',\n",
    "        'four': '4',\n",
    "        'five': '5',\n",
    "        'six': '6',\n",
    "        'seven': '7',\n",
    "        'eight': '8',\n",
    "        'nine': '9'\n",
    "    }\n",
    "    for k in nums:\n",
    "        if k in s:\n",
    "            s = s.replace(k, str(nums[k]))\n",
    "    return s\n",
    "solution(\"one4seveneight\")"
   ]
  },
  {
   "cell_type": "markdown",
   "id": "1102a8ec",
   "metadata": {},
   "source": [
    "## 캐시\n",
    "https://school.programmers.co.kr/learn/courses/30/lessons/17680"
   ]
  },
  {
   "cell_type": "code",
   "execution_count": null,
   "id": "8a52ef22",
   "metadata": {},
   "outputs": [],
   "source": [
    "def solution(cacheSize, cities):\n",
    "    cache = []\n",
    "    time = 0\n",
    "    for city in cities:\n",
    "        city = city.lower()\n",
    "        if city in cache:\n",
    "            cache.append(cache.pop(cache.index(city)))\n",
    "            time += 1\n",
    "\n",
    "        else:\n",
    "            if len(cache) != cacheSize:\n",
    "                cache.append(city)\n",
    "\n",
    "            elif cacheSize > 0:\n",
    "                cache.pop(0)\n",
    "                cache.append(city)\n",
    "            time += 5\n",
    "\n",
    "    return time\n",
    "print(solution(2, [\"Jeju\", \"Pangyo\", \"NewYork\", \"newyork\"]))"
   ]
  },
  {
   "cell_type": "code",
   "execution_count": null,
   "id": "a236a841",
   "metadata": {},
   "outputs": [],
   "source": [
    "def solution(cacheSize, cities):\n",
    "    cache = []\n",
    "    time = 0\n",
    "    for city in cities:\n",
    "        city = city.lower()\n",
    "\n",
    "        if cacheSize:\n",
    "            if city in cache:\n",
    "                cache.append(cache.pop(cache.index(city)))\n",
    "                time += 1\n",
    "            else:\n",
    "                if len(cache) == cacheSize:\n",
    "                    cache.pop(0)\n",
    "                cache.append(city)\n",
    "                time += 5\n",
    "        else:\n",
    "            time += 5\n",
    "    return time\n",
    "\n",
    "print(solution(2, [\"Jeju\", \"Pangyo\", \"NewYork\", \"newyork\"]))"
   ]
  },
  {
   "cell_type": "markdown",
   "id": "60118fd0",
   "metadata": {},
   "source": [
    "## 튜플\n",
    "https://school.programmers.co.kr/learn/courses/30/lessons/64065"
   ]
  },
  {
   "cell_type": "code",
   "execution_count": null,
   "id": "b225200b",
   "metadata": {},
   "outputs": [],
   "source": [
    "import re\n",
    "from collections import Counter\n",
    "\n",
    "def solution(s):\n",
    "    cnt = Counter(re.findall('\\d+', s))\n",
    "    return list(map(int, [k for k, v in sorted(cnt.items(), key=lambda x: x[1], reverse=True)]))\n",
    "\n",
    "print(solution(\"{{2},{2,1},{2,1,3},{2,1,3,4}}\"))"
   ]
  },
  {
   "cell_type": "markdown",
   "id": "966af9fb",
   "metadata": {},
   "source": [
    "## k진수에서 소수 구하기\n",
    "https://school.programmers.co.kr/learn/courses/30/lessons/92335"
   ]
  },
  {
   "cell_type": "code",
   "execution_count": 15,
   "id": "260439ed",
   "metadata": {},
   "outputs": [
    {
     "name": "stdout",
     "output_type": "stream",
     "text": [
      "3\n"
     ]
    }
   ],
   "source": [
    "import re\n",
    "\n",
    "def cal(n, k):\n",
    "    temp = '0123456789ABCDEF'\n",
    "    q, mod = divmod(n, k)\n",
    "    if q == 0:\n",
    "        return temp[mod]\n",
    "    else:\n",
    "        return cal(q, k) + temp[mod]\n",
    "\n",
    "def check_prime(n):\n",
    "    if n == '':\n",
    "        return False\n",
    "    n = int(n)\n",
    "    if n <= 1:\n",
    "        return False\n",
    "    for i in range(2, int(n ** 0.5) + 1):\n",
    "        if n % i == 0:\n",
    "            return False\n",
    "    return True\n",
    "\n",
    "def solution(n, k):\n",
    "    nums = cal(n, k)\n",
    "    primes = re.split('0+', nums)\n",
    "    return sum((list(map(check_prime, primes))))\n",
    "\n",
    "print(solution(437674, 3))"
   ]
  }
 ],
 "metadata": {
  "kernelspec": {
   "display_name": "Python 3",
   "language": "python",
   "name": "python3"
  },
  "language_info": {
   "codemirror_mode": {
    "name": "ipython",
    "version": 3
   },
   "file_extension": ".py",
   "mimetype": "text/x-python",
   "name": "python",
   "nbconvert_exporter": "python",
   "pygments_lexer": "ipython3",
   "version": "3.8.8"
  }
 },
 "nbformat": 4,
 "nbformat_minor": 5
}
