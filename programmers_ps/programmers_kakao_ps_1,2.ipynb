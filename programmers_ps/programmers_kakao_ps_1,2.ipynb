{
 "cells": [
  {
   "cell_type": "markdown",
   "id": "c8b4787c",
   "metadata": {},
   "source": [
    "## 비밀지도\n",
    "https://school.programmers.co.kr/learn/courses/30/lessons/17681"
   ]
  },
  {
   "cell_type": "code",
   "execution_count": null,
   "id": "50b2d3c4",
   "metadata": {},
   "outputs": [],
   "source": [
    "def solution(n, arr1, arr2):\n",
    "    answer = [bin(a|b)[2:].zfill(n) for a, b in zip(arr1, arr2)]\n",
    "    return list(map(lambda x: x.replace('1', '#').replace('0', ' '), answer))\n",
    "\n",
    "print(solution(5, [9, 20, 28, 18, 11], [30, 1, 21, 17, 28]))"
   ]
  },
  {
   "cell_type": "markdown",
   "id": "ace50c32",
   "metadata": {},
   "source": [
    "## 숫자 문자열과 영단어\n",
    "https://school.programmers.co.kr/learn/courses/30/lessons/81301"
   ]
  },
  {
   "cell_type": "code",
   "execution_count": 2,
   "id": "abed279f",
   "metadata": {},
   "outputs": [
    {
     "data": {
      "text/plain": [
       "'1478'"
      ]
     },
     "execution_count": 2,
     "metadata": {},
     "output_type": "execute_result"
    }
   ],
   "source": [
    "def solution(s):\n",
    "    nums = {\n",
    "        'zero': '0',\n",
    "        'one': '1',\n",
    "        'two': '2',\n",
    "        'three': '3',\n",
    "        'four': '4',\n",
    "        'five': '5',\n",
    "        'six': '6',\n",
    "        'seven': '7',\n",
    "        'eight': '8',\n",
    "        'nine': '9'\n",
    "    }\n",
    "    for k in nums:\n",
    "        if k in s:\n",
    "            s = s.replace(k, str(nums[k]))\n",
    "    return s\n",
    "solution(\"one4seveneight\")"
   ]
  }
 ],
 "metadata": {
  "kernelspec": {
   "display_name": "Python 3",
   "language": "python",
   "name": "python3"
  },
  "language_info": {
   "codemirror_mode": {
    "name": "ipython",
    "version": 3
   },
   "file_extension": ".py",
   "mimetype": "text/x-python",
   "name": "python",
   "nbconvert_exporter": "python",
   "pygments_lexer": "ipython3",
   "version": "3.8.8"
  }
 },
 "nbformat": 4,
 "nbformat_minor": 5
}
