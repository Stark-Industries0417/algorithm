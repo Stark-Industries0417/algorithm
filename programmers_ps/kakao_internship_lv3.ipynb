{
 "cells": [
  {
   "cell_type": "markdown",
   "id": "289523ea",
   "metadata": {},
   "source": [
    "## 불량 사용자\n",
    "https://school.programmers.co.kr/learn/courses/30/lessons/64064"
   ]
  },
  {
   "cell_type": "code",
   "execution_count": 8,
   "id": "4d0b4548",
   "metadata": {},
   "outputs": [
    {
     "data": {
      "text/plain": [
       "True"
      ]
     },
     "execution_count": 8,
     "metadata": {},
     "output_type": "execute_result"
    }
   ],
   "source": [
    "from itertools import permutations\n",
    "\n",
    "def check(user, ban):\n",
    "    if len(user) != len(ban):\n",
    "        return False\n",
    "    for i, j in zip(user, ban):\n",
    "        if j == '*':\n",
    "            continue\n",
    "        if i != j:\n",
    "            return False\n",
    "    return True\n",
    "\n",
    "def solution(user_id, banned_id):\n",
    "    answer = []\n",
    "\n",
    "    for elem in list(permutations(user_id, len(banned_id))):\n",
    "        count = 0\n",
    "        for a, b in zip(elem, banned_id):\n",
    "            if check(a, b):\n",
    "                count += 1\n",
    "\n",
    "        if count == len(banned_id):\n",
    "            if set(elem) not in answer:\n",
    "                answer.append(set(elem))\n",
    "    return len(answer)\n",
    "\n",
    "print(solution([\"frodo\", \"fradi\", \"crodo\", \"abc123\", \"frodoc\"], [\"fr*d*\", \"*rodo\", \"******\", \"******\"]))"
   ]
  },
  {
   "cell_type": "code",
   "execution_count": null,
   "id": "bfdf4ca3",
   "metadata": {},
   "outputs": [],
   "source": [
    "def solution(gems):\n",
    "    check_len = len(set(gems))\n",
    "    shortest = len(gems) + 1\n",
    "    answer = []\n",
    "    dic = {}\n",
    "    s, e = 0, 0\n",
    "    while e < len(gems):\n",
    "        if gems[e] in dic:\n",
    "            dic[gems[e]] += 1\n",
    "        else:\n",
    "            dic[gems[e]] = 1\n",
    "        e += 1\n",
    "\n",
    "        if len(dic) == check_len:\n",
    "            while s < e:\n",
    "                if dic[gems[s]] > 1:\n",
    "                    dic[gems[s]] -= 1\n",
    "                    s += 1\n",
    "                elif shortest > e - s:\n",
    "                    shortest = e - s\n",
    "                    answer = [s + 1, e]\n",
    "                else:\n",
    "                    break\n",
    "    return answer\n",
    "\n",
    "print(solution([\"ZZZ\", \"YYY\", \"NNNN\", \"YYY\", \"BBB\"]))"
   ]
  }
 ],
 "metadata": {
  "kernelspec": {
   "display_name": "Python 3",
   "language": "python",
   "name": "python3"
  },
  "language_info": {
   "codemirror_mode": {
    "name": "ipython",
    "version": 3
   },
   "file_extension": ".py",
   "mimetype": "text/x-python",
   "name": "python",
   "nbconvert_exporter": "python",
   "pygments_lexer": "ipython3",
   "version": "3.8.8"
  }
 },
 "nbformat": 4,
 "nbformat_minor": 5
}
