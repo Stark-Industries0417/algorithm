{
 "cells": [
  {
   "cell_type": "markdown",
   "id": "9cd20010",
   "metadata": {},
   "source": [
    "<strong>빅오 - 입력값이 무한대로 향할때 함수의 상한을 설명하는 수학적 표기 방법</strong>"
   ]
  },
  {
   "cell_type": "code",
   "execution_count": 5,
   "id": "93ee9a49",
   "metadata": {},
   "outputs": [
    {
     "name": "stdout",
     "output_type": "stream",
     "text": [
      "4369996416 4369996416 4369996416\n"
     ]
    },
    {
     "data": {
      "text/plain": [
       "(4369996320, 10)"
      ]
     },
     "execution_count": 5,
     "metadata": {},
     "output_type": "execute_result"
    }
   ],
   "source": [
    "10\n",
    "a = 10\n",
    "b = a\n",
    "print(id(10), id(a), id(b))\n",
    "b = 7\n",
    "id(b), a"
   ]
  },
  {
   "cell_type": "code",
   "execution_count": 11,
   "id": "9735d693",
   "metadata": {},
   "outputs": [
    {
     "ename": "TypeError",
     "evalue": "'str' object does not support item assignment",
     "output_type": "error",
     "traceback": [
      "\u001b[0;31m---------------------------------------------------------------------------\u001b[0m",
      "\u001b[0;31mTypeError\u001b[0m                                 Traceback (most recent call last)",
      "\u001b[0;32m<ipython-input-11-92339248f141>\u001b[0m in \u001b[0;36m<module>\u001b[0;34m\u001b[0m\n\u001b[1;32m      1\u001b[0m \u001b[0ma\u001b[0m \u001b[0;34m=\u001b[0m \u001b[0;34m'abc'\u001b[0m\u001b[0;34m\u001b[0m\u001b[0;34m\u001b[0m\u001b[0m\n\u001b[0;32m----> 2\u001b[0;31m \u001b[0ma\u001b[0m\u001b[0;34m[\u001b[0m\u001b[0;36m1\u001b[0m\u001b[0;34m]\u001b[0m \u001b[0;34m=\u001b[0m \u001b[0;34m'd'\u001b[0m\u001b[0;34m\u001b[0m\u001b[0;34m\u001b[0m\u001b[0m\n\u001b[0m\u001b[1;32m      3\u001b[0m \u001b[0ma\u001b[0m\u001b[0;34m\u001b[0m\u001b[0;34m\u001b[0m\u001b[0m\n",
      "\u001b[0;31mTypeError\u001b[0m: 'str' object does not support item assignment"
     ]
    }
   ],
   "source": [
    "a = 'abc'\n",
    "a[1] = 'd'\n",
    "a"
   ]
  },
  {
   "cell_type": "code",
   "execution_count": 12,
   "id": "e6be2d28",
   "metadata": {},
   "outputs": [
    {
     "name": "stdout",
     "output_type": "stream",
     "text": [
      "[1, 2, 3, 4, 5]\n",
      "[1, 2, 4, 4, 5] [1, 2, 4, 4, 5]\n"
     ]
    }
   ],
   "source": [
    "a = [1, 2, 3, 4, 5]\n",
    "b = a\n",
    "print(b)\n",
    "b[2] = 4\n",
    "print(a, b)"
   ]
  },
  {
   "cell_type": "code",
   "execution_count": 13,
   "id": "48380508",
   "metadata": {},
   "outputs": [
    {
     "data": {
      "text/plain": [
       "(140314051871424, 140314165981952)"
      ]
     },
     "execution_count": 13,
     "metadata": {},
     "output_type": "execute_result"
    }
   ],
   "source": [
    "a = [1, 2, 3, 4, 5]\n",
    "b = [1, 2, 3, 4, 5]\n",
    "\n",
    "id(a), id(b)"
   ]
  },
  {
   "cell_type": "markdown",
   "id": "42b1cf0d",
   "metadata": {},
   "source": [
    "**is는 id() 값을 비교하는 함수 None은 값이 정의 되어있지 않으므로 ==로 비교 불가**"
   ]
  },
  {
   "cell_type": "code",
   "execution_count": 1,
   "id": "14c14089",
   "metadata": {},
   "outputs": [
    {
     "data": {
      "text/plain": [
       "(True, True, True, False)"
      ]
     },
     "execution_count": 1,
     "metadata": {},
     "output_type": "execute_result"
    }
   ],
   "source": [
    "a = [1, 2, 3]\n",
    "a == a, a == list(a), a is a, a is list(a) # list()로 묶으면 별도의 객체로 복사되어 다른 id를 갖게 됨"
   ]
  },
  {
   "cell_type": "markdown",
   "id": "4497092f",
   "metadata": {},
   "source": [
    "**파이썬의 객체는 값을 꺼내는 데만 해도 var -> PyObject_HEAD에서 타입코드 찾음(CPython에서 PyObject는 C의 구조체이고 여기서 타입 코드를 찾아서 대응되는 C의 자료형 확인**"
   ]
  },
  {
   "cell_type": "markdown",
   "id": "c946c1b4",
   "metadata": {},
   "source": [
    "## 리스트 ,딕셔너리"
   ]
  },
  {
   "cell_type": "code",
   "execution_count": 5,
   "id": "e709c2e1",
   "metadata": {},
   "outputs": [
    {
     "data": {
      "text/plain": [
       "[1, 3, 4]"
      ]
     },
     "execution_count": 5,
     "metadata": {},
     "output_type": "execute_result"
    }
   ],
   "source": [
    "a = [1, 2, 3, 4]\n",
    "del a[1]\n",
    "a"
   ]
  },
  {
   "cell_type": "code",
   "execution_count": 7,
   "id": "21564ba9",
   "metadata": {},
   "outputs": [
    {
     "data": {
      "text/plain": [
       "dict_items([('a', 1), ('b', 2)])"
      ]
     },
     "execution_count": 7,
     "metadata": {},
     "output_type": "execute_result"
    }
   ],
   "source": [
    "a = {'a': 1, 'b': 2}\n",
    "a.items()"
   ]
  },
  {
   "cell_type": "markdown",
   "id": "4ab41efb",
   "metadata": {},
   "source": [
    "### 팰린드롬"
   ]
  },
  {
   "cell_type": "code",
   "execution_count": 46,
   "id": "d2759023",
   "metadata": {},
   "outputs": [
    {
     "data": {
      "text/plain": [
       "True"
      ]
     },
     "execution_count": 46,
     "metadata": {},
     "output_type": "execute_result"
    }
   ],
   "source": [
    "from collections import deque\n",
    "\n",
    "def isPalindrome(s: str) -> bool:\n",
    "    strs: Deque = deque()\n",
    "    \n",
    "    for char in s:\n",
    "        if char.isalnum():\n",
    "            strs.append(char.lower())\n",
    "    \n",
    "    while len(strs) > 1:\n",
    "        if strs.popleft() != strs.pop():\n",
    "            return False\n",
    "    return True\n",
    "isPalindrome('aaa')"
   ]
  },
  {
   "cell_type": "code",
   "execution_count": 9,
   "id": "7f4f25a3",
   "metadata": {},
   "outputs": [
    {
     "data": {
      "text/plain": [
       "False"
      ]
     },
     "execution_count": 9,
     "metadata": {},
     "output_type": "execute_result"
    }
   ],
   "source": [
    "import re\n",
    "def isPalindrome(s: str) -> bool:\n",
    "    s = s.lower()\n",
    "    s = re.sub('[\\W]', '', s)\n",
    "    return s == s[::-1]\n",
    "isPalindrome('aabca!@#')"
   ]
  },
  {
   "cell_type": "code",
   "execution_count": 59,
   "id": "53fdfaf3",
   "metadata": {},
   "outputs": [
    {
     "data": {
      "text/plain": [
       "['c', 'b', 'a']"
      ]
     },
     "execution_count": 59,
     "metadata": {},
     "output_type": "execute_result"
    }
   ],
   "source": [
    "def reverseString(s: list) -> None:\n",
    "    left, right = 0, len(s) - 1\n",
    "    while left < right:\n",
    "        s[left], s[right] = s[right], s[left]\n",
    "        left += 1\n",
    "        right -= 1\n",
    "\n",
    "a = ['a', 'b', 'c']\n",
    "reverseString(a)\n",
    "a"
   ]
  },
  {
   "cell_type": "code",
   "execution_count": 63,
   "id": "90461ce5",
   "metadata": {},
   "outputs": [
    {
     "name": "stdout",
     "output_type": "stream",
     "text": [
      "['let1 art can', 'let2 own kit dig', 'let3 art zero'] ['dig1 8 1 5 1', 'dig2 3 6']\n"
     ]
    },
    {
     "data": {
      "text/plain": [
       "['let1 art can',\n",
       " 'let3 art zero',\n",
       " 'let2 own kit dig',\n",
       " 'dig1 8 1 5 1',\n",
       " 'dig2 3 6']"
      ]
     },
     "execution_count": 63,
     "metadata": {},
     "output_type": "execute_result"
    }
   ],
   "source": [
    "logs = ['dig1 8 1 5 1', 'let1 art can', 'dig2 3 6', 'let2 own kit dig', 'let3 art zero']\n",
    "def reorderLogFiles(logs: list) -> list:\n",
    "    letters, digits = [], []\n",
    "    for log in logs:\n",
    "        if log.split()[1].isdigit():\n",
    "            digits.append(log)\n",
    "        else:\n",
    "            letters.append(log)\n",
    "    print(letters, digits)\n",
    "    return letters + digits\n",
    "\n",
    "reorderLogFiles(logs)"
   ]
  },
  {
   "cell_type": "code",
   "execution_count": 12,
   "id": "48f62447",
   "metadata": {},
   "outputs": [
    {
     "data": {
      "text/plain": [
       "['bob', 'a', 'ball', 'the', 'ball', 'flew', 'far', 'after', 'it', 'was']"
      ]
     },
     "execution_count": 12,
     "metadata": {},
     "output_type": "execute_result"
    }
   ],
   "source": [
    "paragraph = 'Bob hit a ball, the hit BALL flew far after it was hit.'\n",
    "banned = ['hit']\n",
    "words = [word for word in re.sub(r'[^\\w]', ' ', paragraph).lower().split() if word not in banned]\n",
    "words"
   ]
  },
  {
   "cell_type": "code",
   "execution_count": 80,
   "id": "ea757778",
   "metadata": {},
   "outputs": [
    {
     "data": {
      "text/plain": [
       "'ball'"
      ]
     },
     "execution_count": 80,
     "metadata": {},
     "output_type": "execute_result"
    }
   ],
   "source": [
    "import re\n",
    "from collections import Counter\n",
    "\n",
    "paragraph = 'Bob hit a ball, the hit BALL flew far after it was hit.'\n",
    "\n",
    "def most_common(paragraph: str, banned: list) -> str:\n",
    "    words = [word for word in re.sub(r'[^\\w]', ' ', paragraph).lower().split() if word not in banned]\n",
    "    \n",
    "    counts = Counter(words)\n",
    "    return counts.most_common(1)[0][0]\n",
    "\n",
    "\n",
    "most_common(paragraph, ['hit'])"
   ]
  },
  {
   "cell_type": "code",
   "execution_count": 16,
   "id": "b0985790",
   "metadata": {},
   "outputs": [],
   "source": [
    "import re\n",
    "from collections import defaultdict\n",
    "\n",
    "paragraph = 'Bob hit a ball, the hit BALL flew far after it was hit.'\n",
    "banned=['hit']\n",
    "\n",
    "words = [word for word in re.sub(r'[^\\w]', ' ', paragraph).lower().split() if word not in banned]\n",
    "counts = defaultdict(int)\n",
    "\n",
    "for word in words:\n",
    "    counts[word] += 1\n",
    "max(counts, key=counts.get)"
   ]
  },
  {
   "cell_type": "markdown",
   "id": "1bb0a68f",
   "metadata": {},
   "source": [
    "### 애너그램"
   ]
  },
  {
   "cell_type": "markdown",
   "id": "b69bd2bf",
   "metadata": {},
   "source": [
    "sort() -> 제자리 정렬 None 리턴"
   ]
  },
  {
   "cell_type": "code",
   "execution_count": 61,
   "id": "a79404c9",
   "metadata": {},
   "outputs": [
    {
     "data": {
      "text/plain": [
       "['abc', 'cfc', 'cde']"
      ]
     },
     "execution_count": 61,
     "metadata": {},
     "output_type": "execute_result"
    }
   ],
   "source": [
    "a = ['cde', 'cfc', 'abc']\n",
    "\n",
    "# def fn(s):\n",
    "#     return s[0], s[-1]\n",
    "sorted(a, key=lambda x: (x[0], x[-1]))\n",
    "# sorted(a, key=lambda x: x[0]) # x[0] 하나만 리턴 시에는 알아서 다음 문자열 순으로 정렬"
   ]
  },
  {
   "cell_type": "code",
   "execution_count": 53,
   "id": "62fd55a9",
   "metadata": {},
   "outputs": [
    {
     "name": "stdout",
     "output_type": "stream",
     "text": [
      "140649327062144 140649323196224\n"
     ]
    },
    {
     "data": {
      "text/plain": [
       "([1, 2, 5, 7, 9], ['a', 'b', 'd', 'f', 'z'])"
      ]
     },
     "execution_count": 53,
     "metadata": {},
     "output_type": "execute_result"
    }
   ],
   "source": [
    "a = [2, 5, 1, 9, 7]\n",
    "b = 'zbdaf'\n",
    "print(id(a), id(sorted(a)))\n",
    "sorted(a), sorted(b)"
   ]
  },
  {
   "cell_type": "code",
   "execution_count": 43,
   "id": "994b97fa",
   "metadata": {},
   "outputs": [
    {
     "data": {
      "text/plain": [
       "dict_values([['eat', 'tea', 'ate'], ['tan', 'nat'], ['bat']])"
      ]
     },
     "execution_count": 43,
     "metadata": {},
     "output_type": "execute_result"
    }
   ],
   "source": [
    "from collections import defaultdict\n",
    "words = ['eat', 'tea', 'tan', 'ate', 'nat', 'bat']\n",
    "\n",
    "def anagrams(words: list) -> list:\n",
    "    ana = defaultdict(list)\n",
    "    \n",
    "    for word in words:\n",
    "        ana[''.join(sorted(word))].append(word)\n",
    "    \n",
    "    return ana.values()\n",
    "anagrams(words)"
   ]
  },
  {
   "cell_type": "markdown",
   "id": "3a401091",
   "metadata": {},
   "source": [
    "### 가장 긴 팰린드롬 문자열"
   ]
  },
  {
   "cell_type": "code",
   "execution_count": 24,
   "id": "47321d28",
   "metadata": {},
   "outputs": [
    {
     "data": {
      "text/plain": [
       "'bab'"
      ]
     },
     "execution_count": 24,
     "metadata": {},
     "output_type": "execute_result"
    }
   ],
   "source": [
    "def longestPalindrome(s: str) -> str:\n",
    "    \n",
    "    def expand(left: int, right: int) -> str:\n",
    "        while left >= 0 and right <= len(s) and s[left] == s[right-1]:\n",
    "            left -= 1\n",
    "            right += 1\n",
    "        return s[left + 1:right - 1]\n",
    "    \n",
    "    if len(s) < 2 or s == s[::-1]:\n",
    "        return s\n",
    "    result = ''\n",
    "    for i in range(len(s) - 1):\n",
    "        result = max(result,\n",
    "                        expand(i, i+1),\n",
    "                        expand(i, i+2),\n",
    "                        key=len)\n",
    "    return result\n",
    "\n",
    "longestPalindrome('babad')"
   ]
  },
  {
   "cell_type": "code",
   "execution_count": 41,
   "id": "f2b584cc",
   "metadata": {},
   "outputs": [
    {
     "data": {
      "text/plain": [
       "'bab'"
      ]
     },
     "execution_count": 41,
     "metadata": {},
     "output_type": "execute_result"
    }
   ],
   "source": [
    "max('bab', 'aba', key=len) # 길이 똑같은 경우엔 그냥 앞에 있는 인자가 return"
   ]
  },
  {
   "cell_type": "markdown",
   "id": "55768838",
   "metadata": {},
   "source": [
    "## 배열"
   ]
  },
  {
   "cell_type": "markdown",
   "id": "71c1b9d5",
   "metadata": {},
   "source": [
    "### two sum"
   ]
  },
  {
   "cell_type": "code",
   "execution_count": 4,
   "id": "84dad100",
   "metadata": {},
   "outputs": [
    {
     "name": "stdout",
     "output_type": "stream",
     "text": [
      "[0, 1]\n"
     ]
    }
   ],
   "source": [
    "# O(n^2)\n",
    "def twoSum(nums: list, target: int) -> list:\n",
    "    for i in range(len(nums)):\n",
    "        for j in range(i+1, len(nums)):\n",
    "            if nums[i] + nums[j] == target:\n",
    "                return [i, j]\n",
    "    \n",
    "print(twoSum([2, 7, 11, 15], 9))"
   ]
  },
  {
   "cell_type": "code",
   "execution_count": 19,
   "id": "25e7b3c2",
   "metadata": {},
   "outputs": [
    {
     "name": "stdout",
     "output_type": "stream",
     "text": [
      "(0, 1)\n"
     ]
    }
   ],
   "source": [
    "# O(n^2) 위 방식과 같은 n^2 이지만 in 연산이 더 가볍고 빠름\n",
    "def twoSum(nums: list, target: int) -> list:\n",
    "    for i, n in enumerate(nums):\n",
    "        complement = target - n\n",
    "        \n",
    "        if complement in nums[i + 1:]:\n",
    "            return nums.index(n), nums[i + 1:].index(complement) + (i + 1)\n",
    "print(twoSum([2, 7, 11, 15], 9))"
   ]
  },
  {
   "cell_type": "code",
   "execution_count": 34,
   "id": "e0c77d91",
   "metadata": {},
   "outputs": [
    {
     "data": {
      "text/plain": [
       "0"
      ]
     },
     "execution_count": 34,
     "metadata": {},
     "output_type": "execute_result"
    }
   ],
   "source": [
    "a = {1: 0, 2: 1, 3: 2, 5: 3, 9: 7}\n",
    "9 in a\n"
   ]
  },
  {
   "cell_type": "code",
   "execution_count": 42,
   "id": "94fde22e",
   "metadata": {},
   "outputs": [
    {
     "name": "stdout",
     "output_type": "stream",
     "text": [
      "{2: 0, 11: 1, 7: 2, 15: 3}\n",
      "(0, 2)\n"
     ]
    }
   ],
   "source": [
    "# O(n)\n",
    "def twoSum(nums: list, target: int) -> list:\n",
    "    nums_map = {}\n",
    "    for i, num in enumerate(nums):\n",
    "        nums_map[num] = i\n",
    "    print(nums_map)\n",
    "    \n",
    "    for i, num in enumerate(nums):\n",
    "        if target - num in nums_map and i != nums_map[target - num]:\n",
    "            return nums.index(num), nums_map[target - num]\n",
    "print(twoSum([2, 11, 7, 15], 9))"
   ]
  },
  {
   "cell_type": "code",
   "execution_count": 30,
   "id": "c9255e59",
   "metadata": {},
   "outputs": [
    {
     "data": {
      "text/plain": [
       "[0, 2]"
      ]
     },
     "execution_count": 30,
     "metadata": {},
     "output_type": "execute_result"
    }
   ],
   "source": [
    "# 조회 구조 개선 o(n) 평균 O(1)\n",
    "def twoSum(nums: list, target: int) -> list:\n",
    "    nums_map = {}\n",
    "    for i, num in enumerate(nums):\n",
    "        if target - num in nums_map:\n",
    "            return [nums_map[target - num], i]\n",
    "        nums_map[num] = i\n",
    "        \n",
    "    return [nums_map[target - num], i]\n",
    "twoSum([2, 11, 7, 15], 9)"
   ]
  },
  {
   "cell_type": "code",
   "execution_count": 36,
   "id": "1859eaa3",
   "metadata": {},
   "outputs": [],
   "source": [
    "# 투 포인터 실패 사례 데이터 정렬 해야됨\n",
    "def twoSum(nums: list, target: int) -> list:\n",
    "    left, right = 0, len(nums) - 1\n",
    "    while not left == right:\n",
    "        if nums[left] + nums[right] > target:\n",
    "            right -= 1\n",
    "        elif nums[left] + nums[right] < target:\n",
    "            left += 1\n",
    "        else:\n",
    "            return left, right\n",
    "twoSum([2, 11, 7, 15], 22)"
   ]
  },
  {
   "cell_type": "code",
   "execution_count": 42,
   "id": "84cff65e",
   "metadata": {},
   "outputs": [
    {
     "data": {
      "text/plain": [
       "[3, 3]"
      ]
     },
     "execution_count": 42,
     "metadata": {},
     "output_type": "execute_result"
    }
   ],
   "source": [
    "# 투 포인터 데이터 정렬 없이\n",
    "def twoSum(nums: list, target: int) -> list:\n",
    "    sum = 0\n",
    "    end = 0\n",
    "    for start in range(len(nums)):\n",
    "        while sum < target and end < len(nums):\n",
    "            sum += nums[end]\n",
    "            end += 1\n",
    "        if sum == target:\n",
    "            return [start, end - 1]\n",
    "        sum -= nums[start]\n",
    "twoSum([2, 11, 7, 15], 15)"
   ]
  },
  {
   "cell_type": "markdown",
   "id": "b3ec1a33",
   "metadata": {},
   "source": [
    "### 빗물 트래핑"
   ]
  },
  {
   "cell_type": "code",
   "execution_count": 43,
   "id": "075ea7ce",
   "metadata": {},
   "outputs": [
    {
     "data": {
      "text/plain": [
       "6"
      ]
     },
     "execution_count": 43,
     "metadata": {},
     "output_type": "execute_result"
    }
   ],
   "source": [
    "# 투 포인터 O(n)\n",
    "\n",
    "def trap(height: list) -> int:\n",
    "    if not height:\n",
    "        return 0\n",
    "    \n",
    "    volume = 0\n",
    "    left, right = 0, len(height) - 1\n",
    "    left_max, right_max = height[left], height[right]\n",
    "    \n",
    "    while left < right:\n",
    "        left_max, right_max = max(height[left], left_max), max(height[right], right_max)\n",
    "        \n",
    "        if left_max <= right_max:\n",
    "            volume += left_max - height[left]\n",
    "            left += 1\n",
    "        else:\n",
    "            volume += right_max - height[right]\n",
    "            right -= 1\n",
    "    return volume\n",
    "trap([0, 1, 0, 2, 1, 0, 1, 3, 2, 1, 2, 1])"
   ]
  },
  {
   "cell_type": "code",
   "execution_count": 44,
   "id": "c33895ea",
   "metadata": {},
   "outputs": [
    {
     "data": {
      "text/plain": [
       "6"
      ]
     },
     "execution_count": 44,
     "metadata": {},
     "output_type": "execute_result"
    }
   ],
   "source": [
    "# 스택 O(n)\n",
    "\n",
    "def trap(height: list) -> int:\n",
    "    stack = []\n",
    "    volume = 0\n",
    "    \n",
    "    for i in range(len(height)):\n",
    "        while stack and height[i] > height[stack[-1]]:\n",
    "            top = stack.pop()\n",
    "            \n",
    "            if not len(stack):\n",
    "                break\n",
    "            distance = i - stack[-1] - 1\n",
    "            waters = min(height[i], height[stack[-1]]) - height[top]\n",
    "            volume += distance * waters\n",
    "        stack.append(i)\n",
    "    return volume\n",
    "\n",
    "trap([0, 1, 0, 2, 1, 0, 1, 3, 2, 1, 2, 1])"
   ]
  },
  {
   "cell_type": "markdown",
   "id": "0da3011c",
   "metadata": {},
   "source": [
    "### 세수의 합"
   ]
  },
  {
   "cell_type": "code",
   "execution_count": null,
   "id": "40038578",
   "metadata": {},
   "outputs": [],
   "source": [
    "# 브루트 포스 o(n^3)\n",
    "nums = [-1, 0, 1, 2, -1, -4]\n",
    "\n",
    "def three_sum(nums: list) -> list:\n",
    "    nums.sort()\n",
    "    ans = []\n",
    "    for i in range(len(nums) - 2):\n",
    "        if i > 0 and nums[i] == nums[i-1]:\n",
    "                continue  \n",
    "        for j in range(i+1, len(nums) - 1):\n",
    "            if j > i+1 and nums[j] == nums[j-1]:\n",
    "                continue\n",
    "            for k in range(j+1, len(nums)):\n",
    "                if k > j+1 and nums[k] == nums[k-1]:\n",
    "                    continue\n",
    "                if nums[i] + nums[j] + nums[k] == 0:\n",
    "                    ans.append([nums[i], nums[j], nums[k]])\n",
    "    print(ans)\n",
    "three_sum(nums)"
   ]
  },
  {
   "cell_type": "code",
   "execution_count": 1,
   "id": "d5978aa1",
   "metadata": {},
   "outputs": [
    {
     "name": "stdout",
     "output_type": "stream",
     "text": [
      "[[-1, -1, 2], [-1, 0, 1]]\n"
     ]
    }
   ],
   "source": [
    "nums = [-1, 0, 1, 2, -1, -4]\n",
    "\n",
    "def three_sum(nums: list) -> list:\n",
    "    nums.sort()\n",
    "    result = []\n",
    "    for i in range(len(nums) - 2):\n",
    "        if i > 0 and nums[i] == nums[i-1]:\n",
    "            continue\n",
    "        left, right = i + 1, len(nums) - 1\n",
    "        while left < right:\n",
    "            sum = nums[i] + nums[left] + nums[right]\n",
    "            if sum < 0:\n",
    "                left += 1\n",
    "            elif sum > 0:\n",
    "                right -= 1\n",
    "            else:\n",
    "                result.append([nums[i], nums[left], nums[right]])\n",
    "                while left < right and nums[left] == nums[left+1]:\n",
    "                    left += 1\n",
    "                while left < right and nums[right] == nums[right-1]:\n",
    "                    right -= 1\n",
    "                left += 1\n",
    "                right -= 1\n",
    "    return result\n",
    "print(three_sum(nums))"
   ]
  },
  {
   "cell_type": "code",
   "execution_count": null,
   "id": "bd6a66f3",
   "metadata": {},
   "outputs": [],
   "source": []
  },
  {
   "cell_type": "code",
   "execution_count": null,
   "id": "1bb5e9c3",
   "metadata": {},
   "outputs": [],
   "source": []
  },
  {
   "cell_type": "code",
   "execution_count": null,
   "id": "89c8afc8",
   "metadata": {},
   "outputs": [],
   "source": []
  },
  {
   "cell_type": "code",
   "execution_count": null,
   "id": "9bf9251f",
   "metadata": {},
   "outputs": [],
   "source": []
  },
  {
   "cell_type": "code",
   "execution_count": null,
   "id": "d2f28103",
   "metadata": {},
   "outputs": [],
   "source": []
  },
  {
   "cell_type": "code",
   "execution_count": null,
   "id": "e2fed350",
   "metadata": {},
   "outputs": [],
   "source": []
  },
  {
   "cell_type": "code",
   "execution_count": null,
   "id": "2e3fcc64",
   "metadata": {},
   "outputs": [],
   "source": []
  },
  {
   "cell_type": "code",
   "execution_count": null,
   "id": "e6c25bd0",
   "metadata": {},
   "outputs": [],
   "source": []
  },
  {
   "cell_type": "code",
   "execution_count": null,
   "id": "2f09b790",
   "metadata": {},
   "outputs": [],
   "source": []
  },
  {
   "cell_type": "code",
   "execution_count": null,
   "id": "1c55dd35",
   "metadata": {},
   "outputs": [],
   "source": []
  },
  {
   "cell_type": "code",
   "execution_count": null,
   "id": "e3350059",
   "metadata": {},
   "outputs": [],
   "source": []
  }
 ],
 "metadata": {
  "kernelspec": {
   "display_name": "Python 3",
   "language": "python",
   "name": "python3"
  },
  "language_info": {
   "codemirror_mode": {
    "name": "ipython",
    "version": 3
   },
   "file_extension": ".py",
   "mimetype": "text/x-python",
   "name": "python",
   "nbconvert_exporter": "python",
   "pygments_lexer": "ipython3",
   "version": "3.8.8"
  }
 },
 "nbformat": 4,
 "nbformat_minor": 5
}
